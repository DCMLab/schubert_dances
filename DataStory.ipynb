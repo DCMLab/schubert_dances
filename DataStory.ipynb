{
 "cells": [
  {
   "cell_type": "markdown",
   "metadata": {
    "toc": true
   },
   "source": [
    "<h1>Analyzing a Corpus of Sheet Music<span class=\"tocSkip\"></span></h1>\n",
    "<div class=\"toc\"><ul class=\"toc-item\"><li><span><a href=\"#Characterizing-a-data-set-of-435-short-piano-dances-by-Franz-Schubert\" data-toc-modified-id=\"Characterizing-a-data-set-of-435-short-piano-dances-by-Franz-Schubert-1\"><span class=\"toc-item-num\">1&nbsp;&nbsp;</span>Characterizing a data set of 435 short piano dances by Franz Schubert</a></span><ul class=\"toc-item\"><li><span><a href=\"#The-Authors\" data-toc-modified-id=\"The-Authors-1.1\"><span class=\"toc-item-num\">1.1&nbsp;&nbsp;</span>The Authors</a></span></li><li><span><a href=\"#Abstract\" data-toc-modified-id=\"Abstract-1.2\"><span class=\"toc-item-num\">1.2&nbsp;&nbsp;</span>Abstract</a></span></li><li><span><a href=\"#The-data-set\" data-toc-modified-id=\"The-data-set-1.3\"><span class=\"toc-item-num\">1.3&nbsp;&nbsp;</span>The data set</a></span><ul class=\"toc-item\"><li><span><a href=\"#Historical-Background\" data-toc-modified-id=\"Historical-Background-1.3.1\"><span class=\"toc-item-num\">1.3.1&nbsp;&nbsp;</span>Historical Background</a></span></li><li><span><a href=\"#The-Viennese-dance-floor\" data-toc-modified-id=\"The-Viennese-dance-floor-1.3.2\"><span class=\"toc-item-num\">1.3.2&nbsp;&nbsp;</span>The Viennese dance floor</a></span></li><li><span><a href=\"#Handling-the-data\" data-toc-modified-id=\"Handling-the-data-1.3.3\"><span class=\"toc-item-num\">1.3.3&nbsp;&nbsp;</span>Handling the data</a></span><ul class=\"toc-item\"><li><span><a href=\"#Hints-for-music-notation-agnostics\" data-toc-modified-id=\"Hints-for-music-notation-agnostics-1.3.3.1\"><span class=\"toc-item-num\">1.3.3.1&nbsp;&nbsp;</span>Hints for music notation agnostics</a></span></li></ul></li></ul></li><li><span><a href=\"#Research-questions-and-hypotheses\" data-toc-modified-id=\"Research-questions-and-hypotheses-1.4\"><span class=\"toc-item-num\">1.4&nbsp;&nbsp;</span>Research questions and hypotheses</a></span><ul class=\"toc-item\"><li><span><a href=\"#Recurring-Patterns-(JH-&amp;-SR)\" data-toc-modified-id=\"Recurring-Patterns-(JH-&amp;-SR)-1.4.1\"><span class=\"toc-item-num\">1.4.1&nbsp;&nbsp;</span>Recurring Patterns (JH &amp; SR)</a></span></li><li><span><a href=\"#Dance-Type-Classification-(GC-&amp;-JR)\" data-toc-modified-id=\"Dance-Type-Classification-(GC-&amp;-JR)-1.4.2\"><span class=\"toc-item-num\">1.4.2&nbsp;&nbsp;</span>Dance Type Classification (GC &amp; JR)</a></span></li></ul></li></ul></li><li><span><a href=\"#Recurring-patterns\" data-toc-modified-id=\"Recurring-patterns-2\"><span class=\"toc-item-num\">2&nbsp;&nbsp;</span>Recurring patterns</a></span><ul class=\"toc-item\"><li><span><a href=\"#Most-common-rhythms\" data-toc-modified-id=\"Most-common-rhythms-2.1\"><span class=\"toc-item-num\">2.1&nbsp;&nbsp;</span>Most common rhythms</a></span><ul class=\"toc-item\"><li><span><a href=\"#Most-frequent-patterns-in-double-meter-(2/4)\" data-toc-modified-id=\"Most-frequent-patterns-in-double-meter-(2/4)-2.1.1\"><span class=\"toc-item-num\">2.1.1&nbsp;&nbsp;</span>Most frequent patterns in double meter (2/4)</a></span></li><li><span><a href=\"#Most-frequent-rhythms-in-triple-meter-(3/4)\" data-toc-modified-id=\"Most-frequent-rhythms-in-triple-meter-(3/4)-2.1.2\"><span class=\"toc-item-num\">2.1.2&nbsp;&nbsp;</span>Most frequent rhythms in triple meter (3/4)</a></span></li><li><span><a href=\"#Most-stereotypical-pieces-in-double-meter\" data-toc-modified-id=\"Most-stereotypical-pieces-in-double-meter-2.1.3\"><span class=\"toc-item-num\">2.1.3&nbsp;&nbsp;</span>Most stereotypical pieces in double meter</a></span></li><li><span><a href=\"#Most-stereotypical-pieces-in-triple-meter\" data-toc-modified-id=\"Most-stereotypical-pieces-in-triple-meter-2.1.4\"><span class=\"toc-item-num\">2.1.4&nbsp;&nbsp;</span>Most stereotypical pieces in triple meter</a></span></li></ul></li><li><span><a href=\"#Analyzing-harmonic-patterns\" data-toc-modified-id=\"Analyzing-harmonic-patterns-2.2\"><span class=\"toc-item-num\">2.2&nbsp;&nbsp;</span>Analyzing harmonic patterns</a></span><ul class=\"toc-item\"><li><span><a href=\"#Creating-chord-labels\" data-toc-modified-id=\"Creating-chord-labels-2.2.1\"><span class=\"toc-item-num\">2.2.1&nbsp;&nbsp;</span>Creating chord labels</a></span></li><li><span><a href=\"#Chord-distributions\" data-toc-modified-id=\"Chord-distributions-2.2.2\"><span class=\"toc-item-num\">2.2.2&nbsp;&nbsp;</span>Chord distributions</a></span></li></ul></li><li><span><a href=\"#Repeating-pattern-detection-with-auto-correlation\" data-toc-modified-id=\"Repeating-pattern-detection-with-auto-correlation-2.3\"><span class=\"toc-item-num\">2.3&nbsp;&nbsp;</span>Repeating pattern detection with auto-correlation</a></span><ul class=\"toc-item\"><li><span><a href=\"#How-to-identify-a-repeating-part-from-a-new-part?\" data-toc-modified-id=\"How-to-identify-a-repeating-part-from-a-new-part?-2.3.1\"><span class=\"toc-item-num\">2.3.1&nbsp;&nbsp;</span>How to identify a repeating part from a new part?</a></span></li><li><span><a href=\"#Definition-of-an-auto-correlation-for-a-musical-piece\" data-toc-modified-id=\"Definition-of-an-auto-correlation-for-a-musical-piece-2.3.2\"><span class=\"toc-item-num\">2.3.2&nbsp;&nbsp;</span>Definition of an auto-correlation for a musical piece</a></span></li><li><span><a href=\"#Using-auto-correlation-for-initial-section-detection\" data-toc-modified-id=\"Using-auto-correlation-for-initial-section-detection-2.3.3\"><span class=\"toc-item-num\">2.3.3&nbsp;&nbsp;</span>Using auto-correlation for initial section detection</a></span></li><li><span><a href=\"#From-initial-section-detection-to-dance-structure\" data-toc-modified-id=\"From-initial-section-detection-to-dance-structure-2.3.4\"><span class=\"toc-item-num\">2.3.4&nbsp;&nbsp;</span>From initial section detection to dance structure</a></span></li></ul></li></ul></li><li><span><a href=\"#Classifying-dance-types\" data-toc-modified-id=\"Classifying-dance-types-3\"><span class=\"toc-item-num\">3&nbsp;&nbsp;</span>Classifying dance types</a></span><ul class=\"toc-item\"><li><span><a href=\"#2.2-Features\" data-toc-modified-id=\"2.2-Features-3.1\"><span class=\"toc-item-num\">3.1&nbsp;&nbsp;</span>2.2 Features</a></span><ul class=\"toc-item\"><li><span><a href=\"#Complexity\" data-toc-modified-id=\"Complexity-3.1.1\"><span class=\"toc-item-num\">3.1.1&nbsp;&nbsp;</span>Complexity</a></span></li><li><span><a href=\"#Key\" data-toc-modified-id=\"Key-3.1.2\"><span class=\"toc-item-num\">3.1.2&nbsp;&nbsp;</span>Key</a></span><ul class=\"toc-item\"><li><span><a href=\"#Intro\" data-toc-modified-id=\"Intro-3.1.2.1\"><span class=\"toc-item-num\">3.1.2.1&nbsp;&nbsp;</span>Intro</a></span></li><li><span><a href=\"#Methodology\" data-toc-modified-id=\"Methodology-3.1.2.2\"><span class=\"toc-item-num\">3.1.2.2&nbsp;&nbsp;</span>Methodology</a></span></li><li><span><a href=\"#Tracking-key\" data-toc-modified-id=\"Tracking-key-3.1.2.3\"><span class=\"toc-item-num\">3.1.2.3&nbsp;&nbsp;</span>Tracking key</a></span></li><li><span><a href=\"#Variety\" data-toc-modified-id=\"Variety-3.1.2.4\"><span class=\"toc-item-num\">3.1.2.4&nbsp;&nbsp;</span>Variety</a></span></li><li><span><a href=\"#Mode-identification\" data-toc-modified-id=\"Mode-identification-3.1.2.5\"><span class=\"toc-item-num\">3.1.2.5&nbsp;&nbsp;</span>Mode identification</a></span></li></ul></li><li><span><a href=\"#Rhythmic-patterns\" data-toc-modified-id=\"Rhythmic-patterns-3.1.3\"><span class=\"toc-item-num\">3.1.3&nbsp;&nbsp;</span>Rhythmic patterns</a></span><ul class=\"toc-item\"><li><span><a href=\"#Characteristic-rhythmic-patterns\" data-toc-modified-id=\"Characteristic-rhythmic-patterns-3.1.3.1\"><span class=\"toc-item-num\">3.1.3.1&nbsp;&nbsp;</span>Characteristic rhythmic patterns</a></span></li><li><span><a href=\"#Event-density\" data-toc-modified-id=\"Event-density-3.1.3.2\"><span class=\"toc-item-num\">3.1.3.2&nbsp;&nbsp;</span>Event density</a></span></li><li><span><a href=\"#Downbeat-accent\" data-toc-modified-id=\"Downbeat-accent-3.1.3.3\"><span class=\"toc-item-num\">3.1.3.3&nbsp;&nbsp;</span>Downbeat accent</a></span></li></ul></li><li><span><a href=\"#Characteristic-intervals\" data-toc-modified-id=\"Characteristic-intervals-3.1.4\"><span class=\"toc-item-num\">3.1.4&nbsp;&nbsp;</span>Characteristic intervals</a></span><ul class=\"toc-item\"><li><span><a href=\"#Registral-accent\" data-toc-modified-id=\"Registral-accent-3.1.4.1\"><span class=\"toc-item-num\">3.1.4.1&nbsp;&nbsp;</span>Registral accent</a></span></li><li><span><a href=\"#Sixths-and-thirds\" data-toc-modified-id=\"Sixths-and-thirds-3.1.4.2\"><span class=\"toc-item-num\">3.1.4.2&nbsp;&nbsp;</span>Sixths and thirds</a></span></li></ul></li></ul></li><li><span><a href=\"#Classification:-dancing-in-the-forest\" data-toc-modified-id=\"Classification:-dancing-in-the-forest-3.2\"><span class=\"toc-item-num\">3.2&nbsp;&nbsp;</span>Classification: dancing in the forest</a></span></li><li><span><a href=\"#Can-you-do-better?\" data-toc-modified-id=\"Can-you-do-better?-3.3\"><span class=\"toc-item-num\">3.3&nbsp;&nbsp;</span>Can you do better?</a></span></li></ul></li></ul></div>"
   ]
  },
  {
   "cell_type": "markdown",
   "metadata": {},
   "source": [
    "**VIEW THIS NOTEBOOK ON NBVIEWER:** https://nbviewer.jupyter.org/github/DCMLab/schubert_dances/blob/master/DataStory.ipynb"
   ]
  },
  {
   "cell_type": "code",
   "execution_count": null,
   "metadata": {},
   "outputs": [],
   "source": [
    "%%html \n",
    "<style>\n",
    "  table {margin-left: 0 !important;}\n",
    "  img {margin-left: 0 !important;}\n",
    "</style>"
   ]
  },
  {
   "cell_type": "code",
   "execution_count": null,
   "metadata": {},
   "outputs": [],
   "source": [
    "%load_ext autoreload\n",
    "%autoreload 2\n",
    "import jh, os\n",
    "import pandas as pd\n",
    "from IPython.display import display_html, IFrame\n",
    "from IPython.display import HTML\n",
    "from IPython.display import Video\n",
    "import plotly.graph_objects as go\n",
    "import plotly.express as px\n",
    "import cufflinks as cf # for creating plots from pandas on the fly\n",
    "cf.go_offline()\n",
    "cf.set_config_file(theme='ggplot')\n",
    "import numpy as np\n",
    "import plotly.figure_factory as ff\n",
    "import pickle\n",
    "\n",
    "def display_side_by_side(title_df_dict):\n",
    "    \"\"\"Pass a {'title': DataFrame} dict.\"\"\"\n",
    "    stylers = [df.style.set_table_attributes(\"style='display:inline'\").set_caption(title)._repr_html_() for title, df in title_df_dict.items()]\n",
    "    display_html(''.join(stylers), raw=True)\n",
    "\n",
    "data_ms3 = 'data/MuseScore_3'\n",
    "data_tsv = 'data/tsv'\n",
    "classif_dances = ['walzer', 'deutscher', 'ländler', 'menuett', 'trio']\n",
    "color_dances = {'walzer': 'red',\n",
    " 'ländler': 'yellow',\n",
    " 'ecossaise': 'brown',\n",
    " 'deutscher': 'orange',                \n",
    " 'trio': 'lightblue',\n",
    " 'menuett': 'blue',\n",
    " 'galopp': 'gray',\n",
    " 'cotillon': 'green',\n",
    " }"
   ]
  },
  {
   "cell_type": "code",
   "execution_count": null,
   "metadata": {},
   "outputs": [],
   "source": [
    "HTML('''<script>\n",
    "code_show=true; \n",
    "function code_toggle() {\n",
    " if (code_show){\n",
    " $('div.input').hide();\n",
    " } else {\n",
    " $('div.input').show();\n",
    " }\n",
    " code_show = !code_show\n",
    "} \n",
    "$( document ).ready(code_toggle);\n",
    "</script>\n",
    "The raw code for this IPython notebook is by default hidden for easier reading.\n",
    "To toggle on/off the raw code, click <a href=\"javascript:code_toggle()\">here</a>.''')"
   ]
  },
  {
   "cell_type": "markdown",
   "metadata": {},
   "source": [
    "# Characterizing a data set of 435 short piano dances by Franz Schubert\n",
    "\n",
    "## The Authors\n",
    "\n",
    "| initials | name               |\n",
    "|:---------|:-------------------|\n",
    "| GC       | Gabriele Cecchetti |\n",
    "| JH       | Johannes Hentschel |\n",
    "| JR       | Johannes Rüther    |\n",
    "| SR       | Sébastien Rouault  |\n",
    "\n",
    "## Abstract\n",
    "Everybody has an emotional access to music, which in turn transports listeners into specific moods, atmospheres and settings. This intuitive understanding of musical pieces is grounded in structural elements such as melodic motives and rhythms, with their variations or repetitions. Our project aims at gaining an objective insight into how these patterns engender different shades of musical engagement. Specifically, we will investigate the structure and composition of Franz Schubert's \"dances\", a large set of 435 piano pieces classified in seven different types according to their times’ conventions. The conventionality of these short and catchy pieces makes them an ideal testing ground for computer-assisted analysis, but also makes them highly representative of the taste of early-nineteenth-century listeners. With our statistical investigation we hope to open a window onto this past: what did listeners expect of appealing dance-like music, and did different dance types correspond to different musical features or just to different social perspectives on the same musical features?\n",
    "\n",
    "\n",
    "## The data set\n",
    "\n",
    "In this section we introduce the data set of sheet music that we have analyzed. First we will start with a small introduction into its historical background and then we explain the data representation that we used.\n",
    "\n",
    "### Historical Background\n",
    "\n",
    "In the time between 1813 and his death in 1828, the composer Franz Schubert composed a large number of short piano pieces, the \"Dances\". Throughout his life, spent entirely in Vienna, Schubert gathered a good number of collections of such pieces which were aimed at meeting the taste of his hometown's burgeoisie. While Schubert did write long and more complex compositions for which he is famous nowadays, at the time he was better known for small and not very ambitious forms such as these \"Dances\". Since this genre can be considered as commercial music, destined to a broad audience (a bit similar to Pop music today), they are musically quite conventional and therefore represent an ideal data set for computer-assisted analysis of the musical tastes of the early 19th century.\n",
    "\n",
    "The data set is comprised of the following dance types:"
   ]
  },
  {
   "cell_type": "code",
   "execution_count": null,
   "metadata": {},
   "outputs": [],
   "source": [
    "files = pd.read_csv(os.path.join(data_tsv, 'files.tsv'), sep='\\t', index_col=[0])\n",
    "pd.DataFrame(files.dance.value_counts()).reset_index().iplot('pie', labels='index', values='dance', color=color_dances.values(), title=\"Dance types in Schubert's dances\")"
   ]
  },
  {
   "cell_type": "markdown",
   "metadata": {},
   "source": [
    "### The Viennese dance floor\n",
    "\n",
    "All the dances represented in the corpus comprise the typical soundtrack of the Viennese ball rooms.\n",
    "\n",
    "The “queen of all dances” (Feldtenstein, 1767) was undoubtedly the French **Menuett**. As most dance forms of the classical repertoire, the minuet originated as an appropriation of folk tunes into the stereotyped taste of nobility and courts, and in this form it was then exported throughout Europe. Traditionally, each minuet would be coupled with a contrasting dance, the **Trio**: hard to characterise collectively, trios were individually crafted to provide variety by conveying a different character from the related minuet. In general, trios were more explicit in emulating the rural origins of the dance."
   ]
  },
  {
   "cell_type": "code",
   "execution_count": null,
   "metadata": {},
   "outputs": [],
   "source": [
    "IFrame(\"https://www.youtube.com/embed/ZJ-jzZtARlw\", 280, 160)"
   ]
  },
  {
   "cell_type": "markdown",
   "metadata": {},
   "source": [
    "_Vid. First minuet & trio of the data set: D. 41, no. 1_\n",
    "\n",
    "Closer to their rural origins, both the **Cotillon** and the **Ecossaise** are country dances and both French, the latter though being inspired by the rhythms of the Scottish folk tunes. The **Galopp** was also a fast-paced dance eventually turning into the - nowdays better known - Polka. "
   ]
  },
  {
   "cell_type": "code",
   "execution_count": null,
   "metadata": {},
   "outputs": [],
   "source": [
    "IFrame('https://www.youtube.com/embed/J2fUU6_DDvU', 280, 160)"
   ]
  },
  {
   "cell_type": "markdown",
   "metadata": {},
   "source": [
    "_Vid. Galopp und 8 Ecossaisen, D. 735_\n",
    "\n",
    "Of strictly German origin are the **Ländler** and the **Walzer**. The former was characterised by a variety of body motions interrupted by clapping and feet stomping, evoking the scenery of countryside paesant dances. On the contrary, the Walzer was a fast and smooth spinning dance that became explosively popular because of its intrinsic sensuality, to the point that it was formally banned by the authorities several times: \"In this dance, everything is circle-shaped and whirling movement, everything designed to provoke giddiness and seduce the senses.\" (Vieth, 1794)."
   ]
  },
  {
   "cell_type": "code",
   "execution_count": null,
   "metadata": {},
   "outputs": [],
   "source": [
    "IFrame(\"https://www.youtube.com/embed/94uW9Bbuwm8\", 280, 160)"
   ]
  },
  {
   "cell_type": "markdown",
   "metadata": {},
   "source": [
    "_Vid. Walzer D. 779, no. 23_"
   ]
  },
  {
   "cell_type": "code",
   "execution_count": null,
   "metadata": {},
   "outputs": [],
   "source": [
    "IFrame(\"https://www.youtube.com/embed/BwqjeWEp3dM\", 280, 160)"
   ]
  },
  {
   "cell_type": "markdown",
   "metadata": {},
   "source": [
    "_Vid. Ländler D. 681, no. 1_\n",
    "\n",
    "The term **Deutscher** Tanz, literally \"German dance\", was used in association with both the Walzer and the Ländler, and it is unclear whether it would also identify a dance type of its own right: in a few instances, Schubert himself happened to label the same dances as Ländler or Deutscher."
   ]
  },
  {
   "cell_type": "code",
   "execution_count": null,
   "metadata": {},
   "outputs": [],
   "source": [
    "IFrame(\"https://www.youtube.com/embed/29GOPJY34hU\", 280, 160)"
   ]
  },
  {
   "cell_type": "markdown",
   "metadata": {},
   "source": [
    "_Vid. Deutscher D. 643, no. 1_\n",
    "\n",
    "To know more: McKee E. (2014). Ballroom Dances of the Late Eighteenth Century in Danuta Mirka ed., The Oxford handbook of topic theory. Oxford University Press. \n",
    "\n",
    "\n",
    "### Handling the data\n",
    "\n",
    "Music scores are complex graphical representations of music. Trained musicians can read music scores and use them to imagine or reproduce the symbolically encoded sounds. This section elicits how we transformed the scores into our working representation, namely one **note list** and one **measure list** for the entire corpus.\n",
    "\n",
    "The dataset consists of 435 music scores in the XML format of the open source notation software [MuseScore 3](https://musescore.org/en/download) and has been compiled for this project by GC & JH using funds of [EPFL's Digital and Cognitive Musicology Lab (DCML)](https://dcml.epfl.ch/).\n",
    "\n",
    "![score_example](report/D977ecossaise02_example.png) \n",
    "_Fig. The first two measures of the Ecossaise D. 977, no. 2. **Left:** Representation in MuseScore 3. **Right:** Abbreviated source code of the first measure in the right hand. For explanations of the terms, refer to the section 'Hints for music notation agnostics' below._\n",
    "\n",
    "After parsing the scores, the music seen in the figure looks like this (for details concerning the parsing and the note list features, cf. [jh.ipynb](jh.ipynb)):"
   ]
  },
  {
   "cell_type": "code",
   "execution_count": null,
   "metadata": {},
   "outputs": [],
   "source": [
    "note_list = jh.read_note_list(os.path.join(data_tsv, 'note_list_expanded.tsv'), index_col=[0,1,2])\n",
    "note_list.loc[[424]].iloc[:11]"
   ]
  },
  {
   "cell_type": "markdown",
   "metadata": {},
   "source": [
    "#### Hints for music notation agnostics\n",
    "This section briefly explains some of the main elements that music scores contain. Please compare the explanations with the example score above.\n",
    ">The words '**measure**' and '**bar**' can be used interchangeably. Measures are separated by vertical bar lines designating music chunks of equal length. They also give information about the temporal hierarchy of the notes, with the ones directly after the bar line generally being the most accented.\n",
    "\n",
    ">Note that MuseScore XML files contain one \\<Measure\\> node for every bar line and that we address these units with running numbers starting at zero which we call **measure counts (mc)**. The **measure numbers (mn)**, however, are those that are displayed/printed in the score. Since, say, a measure of length 3/4 (see `time signature`) can be split into two measures with irregular length for musical and notational conventions, measure numbers frequently span multiple measure counts and had to be computed by the parser following the usual conventions.\n",
    "\n",
    ">A **staff** (pl. 'staves') is a set of usually five horizontal lines where the positioning of note heads on or between lines determines their pitch, i.e. their vertical position in terms of note name and octave.\n",
    "\n",
    ">A **clef** determines which line represents which pitch.\n",
    "\n",
    ">A **key signature** (`KeySig`) further specifies the exact pitches and reveals information as to which `key` the piece is in. A key could be defined as a hierarchy between the occurring pitches. In the example figure above, the `KeySig` of 5 $\\flat$ means that the key of this piece is either D$\\flat$ major or B$\\flat$ minor and that the pitches B, E, A, D, G have to be lowered throughout the piece. Lowering ($\\flat$) or raising ($\\sharp$) a pitch can be understood as playing the pitch just below or just above, often resulting on the piano in playing the neighbouring black key instead of a white key.\n",
    "\n",
    "<img src=\"report/keyboard_tpc.png\" alt=\"keyboard\" style=\"width: 600px;\"/>\n",
    "\n",
    "_Fig. showing one octave on a piano keyboard and the most common pitch names together with their tonal pitch class `tpc`. If you consider the leftmost C as the middle C on the piano, C4, then these keys would have the `midi` numbers 60-72_\n",
    "\n",
    ">A **time signature** (`TimeSig`) stipulates the measure length and the [metre](https://en.wikipedia.org/wiki/Metre_(music)), which is the information which onset positions ('beats') are most important. In our data set, the only time signatures are 2/4 (2 quarter notes per measure, 'double meter') and 3/4 (3 quarter notes per measure, 'triple meter').\n",
    "\n",
    ">**Dynamic** markings contain information on how loud something is to be played.\n",
    "\n",
    ">**Slurs** reveal phrasing information, meaning which parts of the music are to be thought of and played as units."
   ]
  },
  {
   "cell_type": "markdown",
   "metadata": {},
   "source": [
    "## Research questions and hypotheses\n",
    "\n",
    "With our statistical investigation we hope to open a window into the past: what did listeners expect of appealing dance-like music, and did different dance types correspond to different musical features or just to different social perspectives on the same musical features?\n",
    "\n",
    "### Recurring Patterns (JH & SR) \n",
    "\n",
    "**What recurring patterns and regularities make Schubert's dances so intuitively appealing and easy to grasp?** To support our claim that the dances are rather conventional music, we want to show that a large portion of the corpus is made up of just a hand full of recurring patterns. We will investigate the most common patterns on the levels of\n",
    "    * rhythms\n",
    "    * harmonies\n",
    "    * formal sections\n",
    "  \n",
    "### Dance Type Classification (GC & JR) \n",
    "\n",
    "**Are the different dance types musically distinguishable? Which features will a classifier use to most accurately distinguish the different dance types?**\n",
    "\n",
    "Whether the clues that make different dances sound different are hidden in the score or rather in unwritten conventions is an open question: the score does not contain all of the audible properties of a musical performance. However, it is possible that at least some of the audible features that make a dance different from another are represented in the score, and thus in our dataset. Will our machine learning model be able to learn from the score, without any access to the shared social understanding of the music?\n",
    "\n",
    "This task allows for two possible outcomes: If we manage to design features that render possible a satisfying automatic classification through a machine learning algorithm, this would show that the different dance types are indeed characterized by features contained in some way or another in their scores. If, on the other hand, a satisfying classification will not be possible, this can either mean that our approach has shown inadequate or that dance types have been attributed somewhat arbitrarily to quite similar compositions."
   ]
  },
  {
   "cell_type": "markdown",
   "metadata": {},
   "source": [
    "# Recurring patterns\n",
    "\n",
    "## Most common rhythms\n",
    "\n",
    "To get a first overview of the most common rhythms appearing in Schubert's dances, we extract and count the onset patterns of every measure. We define an onset pattern as an ordered list of unique onsets. Consider for example the first measure of the _Walzer D. 924, no. 1_ \n",
    "<img src=\"report/D924walzer01_beginning.png\" alt=\"Drawing\" style=\"width: 200px;\"/>\n",
    "In the left hand, there are only three quarter notes, which corresponds to the onset pattern `[0, 1/4, 1/2]` whereas the right hand also has eight notes and the onset pattern `[0, 1/4, 3/8, 1/2, 5/8]`. The latter is also the onset pattern of the whole measure since it has the more fine-grained onset distribution and the left-hand rhythm only duplicates onsets. Since lists of fractions are unintuitive feature representations, we decided to translate them into rhythmical language by mapping all possible divisions, the **rhythmical atoms**, to syllables as they are frequently used by music pedagogues:\n",
    "![syllables](report/syllables_lettered.png)\n",
    "\n",
    "| pattern | onset pattern                    | length |\n",
    "|---------|:---------------------------------|--------|\n",
    "| A       | [0]                              | 3/4    |\n",
    "| B       | [0]                              | 1/2    |\n",
    "| C       | [0, 3/8]                         | 1/2    |\n",
    "| D       | [0]                              | 1/4    |\n",
    "| E       | [0, 1/8]                         | 1/4    |\n",
    "| F       | [0, 1/16, 1/8, 3/16]             | 1/4    |\n",
    "| G       | [0, 3/16]                        | 1/4    |\n",
    "| H       | [0, 1/32, 1/16, 3/32, 1/8, 7/32] | 1/4    |\n",
    "| I       | [0, 1/12, 1/6]                   | 1/4    |"
   ]
  },
  {
   "cell_type": "markdown",
   "metadata": {},
   "source": [
    "### Most frequent patterns in double meter (2/4)\n",
    "\n",
    "In this plot we show the most frequent onset patterns for all pieces with time signature 2/4 throughout the corpus. The analysis is split into the patterns of entire measures, those within the right and the left hand. The most frequent patterns are very common and rhythmically transparent combinations of the atoms\n",
    "* Tao (Half note)\n",
    "* Ta (Quarter note)\n",
    "* Titi (Two eights)\n",
    "* Tigitigi (Four sixteenths)\n",
    "* Triole (Triplet of eights)\n",
    "\n",
    "Two spikes among the left hand patterns (the slower rhythms TaTa and Tao) show that these are particularly common for the left hand which mostly fulfills an accompagnying function."
   ]
  },
  {
   "cell_type": "code",
   "execution_count": null,
   "metadata": {
    "scrolled": false
   },
   "outputs": [],
   "source": [
    "pd.read_csv(os.path.join(data_tsv, 'onset_pattern_double.tsv'), sep='\\t', index_col=0).iplot('bar', \n",
    "               layout=dict(yaxis={'type': 'log', \n",
    "                                  'title': 'Total count'},\n",
    "                           xaxis={'title': 'Onset pattern'},\n",
    "                           title='Most frequent 2/4 onset patterns throughout the corpus'))"
   ]
  },
  {
   "cell_type": "markdown",
   "metadata": {},
   "source": [
    "### Most frequent rhythms in triple meter (3/4)\n",
    "\n",
    "The most frequent rhythms among the triple meter dances are once again composed of the most basic rhythmic cells mentioned above, although especially the right hand also frequently features rhythms with the dotted rhythms `Taiti` (dotted quarter plus eighth) and `Timgi` (dotted eight plus sixteenth).\n",
    "\n",
    "In both cases, the patterns including faster note values (eighths and sixteenths) occur more rarely or not at all in the left hand. This reflects the general listening impression (see below) that very often the left hand sticks to stereotypical chordal accompagniments while the right hand adds more motioned melodies above. The most typical chordal accompagniments - both consisting of quarter notes only - can be onomatopoetically baptized \"oom-pah\"  and \"oom-pah-pah\" (see examples in the next sections)."
   ]
  },
  {
   "cell_type": "code",
   "execution_count": null,
   "metadata": {
    "scrolled": false
   },
   "outputs": [],
   "source": [
    "pd.read_csv(os.path.join(data_tsv, 'onset_pattern_triple.tsv'), sep='\\t', index_col=0).iplot('bar', \n",
    "               layout=dict(yaxis={'type': 'log', \n",
    "                                  'title': 'Total count'},\n",
    "                           xaxis={'title': 'Onset pattern'},\n",
    "                           title='Most frequent 3/4 onset patterns throughout the corpus'))"
   ]
  },
  {
   "cell_type": "markdown",
   "metadata": {},
   "source": [
    "### Most stereotypical pieces in double meter\n",
    "To find the most rhythmically most stereotypical pieces, we take the most frequent onset pattern in the right hand, `TitiTiti` and the one in the left hand, `TaTa` and check which pieces have the highest percentage among all measures. Here, we have to typical instances of an \"oom-pah\" accompagniment:\n",
    "\n",
    "| id  | TitiTiti_right | TaTa_left | piece                |\n",
    "|-----|----------------|-----------|----------------------|\n",
    "| 91  | 0.8125         | 0.8750    | D145ecossaise02.mscx |\n",
    "| 257 | 0.8750         | 0.8750    | D697ecossaise03.mscx |\n",
    "\n",
    "![D145n2](report/D145ecossaise02_beginning.png)\n",
    "_Fig. Ecossaise D. 145, no. 2_"
   ]
  },
  {
   "cell_type": "code",
   "execution_count": null,
   "metadata": {},
   "outputs": [],
   "source": [
    "IFrame(\"https://www.youtube.com/embed/BMDKatK31P4?start=37\", 260, 180)"
   ]
  },
  {
   "cell_type": "markdown",
   "metadata": {},
   "source": [
    "![D697n3](report/D697ecossaise03_beginning.png)\n",
    "_Fig. Ecossaise D. 697, no. 3_"
   ]
  },
  {
   "cell_type": "code",
   "execution_count": null,
   "metadata": {
    "scrolled": true
   },
   "outputs": [],
   "source": [
    "IFrame(\"https://www.youtube.com/embed/899EiZ5Se8o?start=71\", 260, 180)"
   ]
  },
  {
   "cell_type": "markdown",
   "metadata": {},
   "source": [
    "### Most stereotypical pieces in triple meter\n",
    "To find the most rhythmically most stereotypical pieces, we take the most frequent onset pattern in the right hand, `TitiTitiTiti` and the one in the left hand, `TaTaTa` and check which pieces have the highest percentage among all measures. The waltz shows a typical instance of the `oom-pah-pah` accompagniment, whereas the Ländler exposes a different left hand, although with the same onset pattern.\n",
    "\n",
    "| id  | TitiTitiTiti_right | TaTaTa_left | piece            |\n",
    "|-----|--------------------|-----------|--------------------|\n",
    "| 163 | 0.9583             | 0.8750    | D365walzer14.mscx  |\n",
    "| 269 | 0.9167             | 0.9167    | D734ländler08.mscx |\n",
    "\n",
    "![D365n14](report/D365walzer14_beginning.png)\n",
    "_Fig. Walzer D. 365, no. 14_"
   ]
  },
  {
   "cell_type": "code",
   "execution_count": null,
   "metadata": {
    "scrolled": true
   },
   "outputs": [],
   "source": [
    "IFrame(\"https://www.youtube.com/embed/oSue9KysoQY\", 260, 180)"
   ]
  },
  {
   "cell_type": "markdown",
   "metadata": {},
   "source": [
    "![D734n8](report/D734laendler08_beginning.png)\n",
    "_Fig. Ländler D. 734, no. 8_"
   ]
  },
  {
   "cell_type": "code",
   "execution_count": null,
   "metadata": {},
   "outputs": [],
   "source": [
    "IFrame(\"https://www.youtube.com/embed/8SiqQdPsNO4?start=377\", 260, 180)"
   ]
  },
  {
   "cell_type": "markdown",
   "metadata": {},
   "source": [
    "## Analyzing harmonic patterns\n",
    "\n",
    ">The words 'harmony' and 'chord' are used interchangeably in this section.\n",
    "\n",
    "Analyzing harmonies is generally seen as the task of separating chord tones from non-chord tones. The more complex the music, the more disagreement there is amongst human experts about this separation. If however, as we claim, the dances are written in a very conventional style, simple heuristics should be sufficient to analyse most of the harmonies and very few harmonies should account for a large part of the corpus.\n",
    "\n",
    "In general, the problem of chord classification is linked to a score segmentation problem: At which time points in the score do you start considering different notes as chord and non-chord tones. But if you consider the four previous music examples, three striking facts about their harmonic content become evident:\n",
    "* In none of the examples do we see more than one harmony per measure.\n",
    "* The bass note of every chord is always the lowest note in the measure.\n",
    "* In the four measures of every example, there appear no other harmonies than tonic (I) and dominant (V).\n",
    "\n",
    "We use these obervations to create our heuristics for the chord classification. Since the simplest piece would contain tonic and dominant chords exclusively, we will check afterwards if their might appear such overly simplistic pieces.\n",
    "\n",
    "\n",
    "### Creating chord labels\n",
    "\n",
    "To make the notes constellations of all pieces comparable, we have transposed them to the key of C major/A minor, so that a C major chord can be considered as tonic in major pieces, and an A minor chord as the tonic in minor pieces:\n",
    "\n",
    "|mode|tonic harmony|dominant harmony|\n",
    "|:-|:-|:-|\n",
    "|major|C major|G major or G dominant7|\n",
    "|minor|A minor|E major or E dominant7|\n",
    "|Roman numeral|I|V or V7|\n",
    "\n",
    "From our previous observations we have constructed the following heuristics: \n",
    "* For every measure, we assume one harmony (i.e., one chord) \n",
    "* and consider the lowest note as being the bass note.\n",
    "\n",
    "Then we express all other notes as intervals relative to the bass note and map interval constellations to chord types. In the following table, you see the result of our chord classification for the four previous music examples (four measures each). For every measure, you see the `bass` note name, the `intervals` of all sounding notes above the bass and the `label` that has been assigned to the chord type. As you can see, dominants, as well as all other chords, can occur in several permutations, depending on which of the chord tones is the bass note. The permutations are indicated by ([thorough bass](https://en.wikipedia.org/wiki/Figured_bass)) numbers ending the label."
   ]
  },
  {
   "cell_type": "code",
   "execution_count": null,
   "metadata": {},
   "outputs": [],
   "source": [
    "chord_profiles = jh.read_chord_profiles(os.path.join(data_tsv, 'chord_profiles.tsv'))\n",
    "pd.concat([chord_profiles.loc[id, ['bass', 'intervals', 'labels']].iloc[:4] for id in [91, 257, 163, 269]], keys=[91, 257, 163, 269], names=['id', 'mn'])"
   ]
  },
  {
   "cell_type": "markdown",
   "metadata": {},
   "source": [
    "### Chord distributions\n",
    "\n",
    "The vast majority of bass notes (95 %) are those of the diatonic scale (i.e. white keys of the piano in our C major case). Only 5 % of all bass notes have accidentals (black piano keys). 65 % of all bass notes are on C or G. Depending on which chord types are sounding above these bass notes, this is already a good indicator of an easy-to-grasp harmonic language."
   ]
  },
  {
   "cell_type": "code",
   "execution_count": null,
   "metadata": {},
   "outputs": [],
   "source": [
    "jh.cumulative_fraction(chord_profiles.bass).iplot('scatter', y='y', xTitle='bass notes', yTitle='cumulative percentage', title='Which bass notes together make up for how much of all bass notes', )"
   ]
  },
  {
   "cell_type": "markdown",
   "metadata": {},
   "source": [
    "If we look at the different chord types we see once again a similar pattern, namely that very few types together (over 70 % are unpermutated major, dominant7 and minor chords) make up for the largest part of the corpus."
   ]
  },
  {
   "cell_type": "code",
   "execution_count": null,
   "metadata": {
    "scrolled": false
   },
   "outputs": [],
   "source": [
    "jh.cumulative_fraction(chord_profiles.labels).iplot('scatter', y='y', xTitle='chord types', yTitle='cumulative percentage', title='Which chord types together make up for how much of all chord tokens')"
   ]
  },
  {
   "cell_type": "markdown",
   "metadata": {},
   "source": [
    "If we aggregate the permutations of the different chord types, the picture becomes even clearer: Even when considering the chord types exclusively, the harmonic language seems to be quite conventional. Otherwise, we would have seen more chord in the aggregation category `others` which accounts for measures which were ambiguous because of too many or too few notes. Only 8 % of chords could not be attributed to one of the basic chord types."
   ]
  },
  {
   "cell_type": "code",
   "execution_count": null,
   "metadata": {
    "scrolled": false
   },
   "outputs": [],
   "source": [
    "type_dist = pd.read_csv(os.path.join(data_tsv, 'type_distribution.tsv'), sep='\\t', index_col=0)\n",
    "type_dist.sort_values(by='fraction', ascending=False).iplot('bar', xTitle='chord category', yTitle='percentage of the corpus', title='Fractions of the different chord categories')"
   ]
  },
  {
   "cell_type": "markdown",
   "metadata": {},
   "source": [
    "To see how complex the harmonic development is in Schubert's dances, we use as a rough measure the number of distinct chords per piece, where we define a chord as a tuple `(bass_note, chord_type)`. A tonic chord would be `('C', 'major')` in major and `('A', 'minor')` in minor, and so on."
   ]
  },
  {
   "cell_type": "code",
   "execution_count": null,
   "metadata": {
    "scrolled": false
   },
   "outputs": [],
   "source": [
    "chord_tuples = pd.read_csv(os.path.join(data_tsv, 'chord_tuples.tsv'), sep='\\t', index_col=[0, 1], converters={'chords': jh.parse_tuples})\n",
    "(chord_tuples.groupby('id').nunique().chords.value_counts() / 435).iplot('bar', xTitle='#distinct chords in one piece', yTitle='percentage', title='How many pieces have how many distinct chords?')"
   ]
  },
  {
   "cell_type": "markdown",
   "metadata": {},
   "source": [
    "If we look at the distribution over the occurring chords of the corpus, a striking 80 % make up for only tonic chords and permutations (`C major`, `C suspension`, `E major6`, `G major64`, `A minor`), dominant chords and permutations (`G dominant7`, `B dominant65`, `D dominant43`, `F dominant2`, `G major`, `E dominant7`, `G# dominant65`, `E major`, `E major6`), and predominant chords (`F major`, `D minor` `D dominant7`). From more complex or unconventional music we would expect many more chords to diverge from this tonic region."
   ]
  },
  {
   "cell_type": "code",
   "execution_count": null,
   "metadata": {
    "scrolled": false
   },
   "outputs": [],
   "source": [
    "chord_dist = jh.cumulative_fraction(chord_tuples.chords)\n",
    "chord_dist.index = chord_dist.index.map(str)\n",
    "chord_dist['y'].iplot('scatter', y='y', dimensions=(3000,500))"
   ]
  },
  {
   "cell_type": "markdown",
   "metadata": {},
   "source": [
    "## Repeating pattern detection with auto-correlation\n",
    "\n",
    "One common task in musicology is to identify _repeating patterns_ in a piece.\n",
    "\n",
    "For instance, a piece may be composed of 3 parts _A_, _B_, _C_, repeated as: _A-B-A-C_.\n",
    "\n",
    "Here we will focus on automating this detection process in our dataset of dance pieces."
   ]
  },
  {
   "cell_type": "code",
   "execution_count": null,
   "metadata": {},
   "outputs": [],
   "source": [
    "# Compute all the graphs for this part of the data story \n",
    "from tools import datastory_patterns as dsp"
   ]
  },
  {
   "cell_type": "markdown",
   "metadata": {},
   "source": [
    "### How to identify a repeating part from a new part?\n",
    "\n",
    "The criterion to distinguish one part from another might be considered listener-dependent.\n",
    "One listener could for instance choose to identify parts as the overall _melody change_, but what makes for _enough_ melody change is left to arbitrary judgements.\n",
    "\n",
    "As an arguably more unanimous (and calculable) way to distiguish parts, we will consider that segment A repeats in segment B when a _sufficient fraction_ of the notes of A appear in B.\n",
    "Our first step to identify repeating patterns will then be to look for common notes for every two segments A and B.\n",
    "\n",
    "In classical music, a part is _necessarily_ composed of a whole number of metrics.\n",
    "To find repetitions, we will then have to compare every measure of a piece with each other measure of the same piece.\n",
    "\n",
    "The operations we will perform are called _auto-correlations_."
   ]
  },
  {
   "cell_type": "markdown",
   "metadata": {},
   "source": [
    "### Definition of an auto-correlation for a musical piece\n",
    "\n",
    "Let a piece $A$ be a sequence of measures (in the musical sense) $a_x, x \\in \\left\\lbrace 0 ~..~ n \\right\\rbrace$.\n",
    "\n",
    "The auto-correlation of a **segment** $A_{\\alpha, \\beta} \\triangleq \\left[ a_\\alpha ~..~ a_\\beta \\right]$ of $A$ over $A$ is defined by:\n",
    "$$C_{A, \\alpha, \\beta}\\left( \\delta \\right) = \\sum\\limits_{i=\\alpha}^{\\beta}{a_i \\cdot a_{i + \\delta}}$$\n",
    "\n",
    "We then need to define a product function '$\\cdot$' that counts how many notes match in the two given measures $a_x$ and $a_y$.\n",
    "That is, the number of notes having same _pitches_ and same _onsets_ (i.e., start time relative to the beginning of the measure).\n",
    "When measure $a_i$ is outside the piece, it is considered empty: its product with any other measure is 0.\n",
    "There is a small peculiarity though: a sharp C is not equivalent to a flat D, although the same key would be pressed on a piano.\n",
    "Writing a flat D in a composition instead of a sharp C **may** reflect a global key change, which **may** be a hint for a section change.\n",
    "\n",
    "So we will consider two product functions: one matching _onset_ and _piano key_ (C♯4 matches D♭4, but C♯4 does not match C♯5), another matching _onset_ and _pitch class_ (C♯4 does not match D♭4, but C♯4 matches C♯5).\n",
    "The former function will be called the _key-product_, and the latter the _class-product_."
   ]
  },
  {
   "cell_type": "markdown",
   "metadata": {},
   "source": [
    "### Using auto-correlation for initial section detection\n",
    "\n",
    "If a piece $A$ has repeating sections, we should expect to observe relatively high products $a_x \\cdot a_y$ for $x \\neq y$.\n",
    "\n",
    "Printing each pairwise product $a_x · a_y$ in a heatmap for the first piece (D41 menuett n°1), we can observe with respectively the _key-_ and _class-products_:"
   ]
  },
  {
   "cell_type": "code",
   "execution_count": null,
   "metadata": {},
   "outputs": [],
   "source": [
    "dsp.heatmap_piece1_pitch"
   ]
  },
  {
   "cell_type": "code",
   "execution_count": null,
   "metadata": {},
   "outputs": [],
   "source": [
    "dsp.heatmap_piece1_class"
   ]
  },
  {
   "cell_type": "markdown",
   "metadata": {},
   "source": [
    "A first trivial observation is that these matrices are symmetrical, as the product functions are both commutative.\n",
    "Another observation is that the diagonal stands out. No surprise: every note of a measure is present in the same measure, hence a generally higher product on the diagonal corresponding to the number of notes in each measure.\n",
    "\n",
    "The heatmap produced show kind of \"supplementary diagonals\", which indicate part repetitions.\n",
    "Indeed: let suppose a piece is composed of two parts A-B-A, each part lasting 4 measures.\n",
    "Then one can expect these \"supplementary\" diagonals to start at measure index 8, marking the repetition of A.\n",
    "\n",
    "Repetitions can also be guessed by looking at the rows of a few measure.\n",
    "Taking for instance measure two, we see it repeats at 3 instances with one \"black\" spot.\n",
    "This tends to indicate a structure A-A-B-A.\n",
    "\n",
    "There is a problem though.\n",
    "Quite often measures do not repeat much within a part, especially the last measure of a part (take for instance measures 3, 7, 11, 16, but also measure 0 of D41 menuett n°1).\n",
    "This makes it hard to estimate part lengths.\n",
    "\n",
    "To overcome this issue, we will instead auto-correlate the whole piece with itself.\n",
    "The rationale is that when the offset $\\delta$ corresponds to a part offset (in our first example 8, and in the menuett above 4, 8, 12), a spike should appear as we auto-correlate a whole part and not measures alone.\n",
    "This approach is to work well when part lengths are of fixed size (or some are multiples of the other), which can be expected for many classical pieces.\n",
    "\n",
    "The autocorrelation of the first piece of our corpus, D41 menuett n°1, gives:"
   ]
  },
  {
   "cell_type": "code",
   "execution_count": null,
   "metadata": {},
   "outputs": [],
   "source": [
    "dsp.autocor_piece1"
   ]
  },
  {
   "cell_type": "markdown",
   "metadata": {},
   "source": [
    "### From initial section detection to dance structure\n",
    "\n",
    "For sections of the same size, spikes correspond to part boundaries.\n",
    "In the example above, the part boundaries are at (0-4), (4-8), (8-12) and (12-16).\n",
    "To automate this detection, we need to write a filter detecting these spikes.\n",
    "We use a simple rolling window $w$ of size 3, and detect for which offsets $k$ we have: $w\\!\\left[k-1\\right] < w\\!\\left[k\\right]$ and $w\\!\\left[k\\right] \\ge w\\!\\left[k+1\\right]$\n",
    "\n",
    "Now that we have part boundaries, we still miss which parts correspond to which boundaries.\n",
    "To answer this question, each part boundary (0-4), (4-8), ... is auto-correlated (always for $\\delta = 0$) with each of the other part boundaries of the same size.\n",
    "This allows to identify where a part repeats, e.g. in D41 menuett n°1: (0-4) repeats in (4-8) and (12-16), as these measures have a _high-enough_, pairwise auto-correlation, but does not in (8-12).\n",
    "\n",
    "_High-enough_ is an arbitrary criteria.\n",
    "In our automated process, we use the notion of a _trigger_ (_threshold_ may have been more correct from an english standpoint):\n",
    "if the auto-correlation of detected parts X and Y divided by the number of notes in X is below the _trigger_ (a value between 0 and 1), the parts are considered disticts (i.e. Y is not X).\n",
    "The normalization is a primitive form of _regularization_, favoring repetition of _less complex_ measures.\n",
    "This is also an _interpretable_ parameter, as it is the minimal fraction of notes that must repeat (same onset and same key or pitch class) to consider a repetition.\n",
    "\n",
    "There is also a mechanism to merge adjacent parts for cosmetic reasons.\n",
    "For instance if a piece has a detected structure C-C-D-D-C-C, then the parts C-C and D-D can be rewritten as A = C-C and B = D-D, resulting in a visually more readable structure A-B-A.\n",
    "\n",
    "At this point, we have a function that translates a piece (a list of notes) to its structure (a list of letters) given a _trigger_ value.\n",
    "The higher the trigger, the more certain we are repetitions actually occurred.\n",
    "Now we have one more prior knownledge to add: most of the studied pieces are short and actually contain only 2 sections, or more rarely 3.\n",
    "Using this information, for each piece we will run the structure detection algorithm for $\\left[ 0.1 ~..~ 0.9 \\right]$ by steps of $0.1$, keeping the highest trigger that leads to selecting a structure with minimal number of different parts (and, of course, at least two parts).\n",
    "\n",
    "The results are laid in the table below.\n",
    "`HR` stands for the _key-product_ and `TR` for the _class-product_.\n",
    "The `confidence` column is only for readability purpose (it is immediately derived from the `trigger`, e.g. $0.4 \\le trigger < 0.6$ maps to \"presumably\"). A trigger of $0.$ means no structure found."
   ]
  },
  {
   "cell_type": "code",
   "execution_count": null,
   "metadata": {},
   "outputs": [],
   "source": [
    "dsp.structures"
   ]
  },
  {
   "cell_type": "markdown",
   "metadata": {},
   "source": [
    "# Classifying dance types\n",
    "\n",
    "This huge repertoire of piano pieces was intended for the private enjoyment of the Viennese bourgeoisie, whose social gatherings invariably involved music and, clearly, group dancing. Accordingly, each piece in the corpus bears as a title the name of one of the most common dance types of Schubert’s times. The title could not be assigned randomly, as the music had to match smoothly the common-sense expectations regarding the specific choreography that characterised each dance. Musicians and dancers were often amateurs, and yet, whenever the word “Walzer” or “Ländler” was heard everyone would also have known how the music would have sounded like, and  how to move on the dancing floor. However, it is by no means trivial to tell what the exact differences among dance types would be, and whether  these difference were encoded in the score or rather in the unspoken conventions of a specific social group, the burgeoisie, striving to establish its status and identity in the powerful and dynamic environment of the early-19th-century Vienna. \n",
    "\n",
    "For instance, the Walzer and the Ländler could be experienced as the extremes of a continuum in a role-playing game across social classes, with the refined Walzer representing the high-class status eventually degenerating, but just for apotropaic fun, into the rural Ländler (Witzmann, 1976).\n",
    "\n",
    "In the following, we will attempt to single out musical features from the score that can be hypothesised to characterise different dance types, and assess to what extent they account for the original destination of the pieces as intended by the composer. "
   ]
  },
  {
   "cell_type": "markdown",
   "metadata": {},
   "source": [
    "## 2.2 Features\n",
    "\n",
    "Since there are only few instances of Galopp and Cotillon in the corpus, we will not include these dances in our investigation. Among the remaining dances, the Ecossaises are the only ones in duple meter (oom-pah-oom-pah rather than oom-pah-pah-oom-pah-pah): even the time-signature alone would provide perfect accuracy in recognising this dance type. Accordingly, we will focus on the non-trivial task of classifying the five triple-meter dance types: the French Menuet and Trio, and the German Ländler, Walzer and Deutscher. "
   ]
  },
  {
   "cell_type": "markdown",
   "metadata": {},
   "source": [
    "### Complexity\n",
    "\n",
    " Simplicity is the keyword for a popular musical product aimed at universally meeting the taste, and the keyboard skills, of the viennese bourgeoisie. A mass product for private consumption, somewhat similar to today’s playlists, these dances were to be enjoyed in rather informal settings within the familiar social atmosphere of the ballroom. All in all, the piano dance was not the ideal testing ground for compositional experimentalism. The entropy of the note distribution over the corpus reflects this feature. Compared to music from earlier and later composers, the dances show a more selective and hierarchically distributed usage of pitches (lower entropy)."
   ]
  },
  {
   "cell_type": "code",
   "execution_count": null,
   "metadata": {},
   "outputs": [],
   "source": [
    "entropy_comparisons = pd.read_csv(os.path.join(data_tsv, 'entropy_comparisons.tsv'), sep='\\t', index_col=0)\n",
    "fig = go.Figure(data=go.Scatter(\n",
    "        mode = 'markers',\n",
    "        x = entropy_comparisons.index.tolist(),\n",
    "        y = entropy_comparisons['mean'].tolist(),\n",
    "        error_y=dict(\n",
    "            type='data', # value of error bar given in data coordinates\n",
    "            array=entropy_comparisons['95% CI: +-'].tolist(),\n",
    "            visible = True),\n",
    "    ))\n",
    "\n",
    "fig.add_shape(\n",
    "        # Line Horizontal\n",
    "        go.layout.Shape(\n",
    "            type=\"line\",\n",
    "            x0 = 0,\n",
    "            x1 = len(entropy_comparisons),\n",
    "            y0=entropy_comparisons.loc[\"Schubert (1797-1828): Dances\"]['mean'],\n",
    "            y1=entropy_comparisons.loc[\"Schubert (1797-1828): Dances\"]['mean'],\n",
    "            line=dict(\n",
    "                color=\"red\",\n",
    "                width=1,\n",
    "                dash=\"dot\",\n",
    "            ),\n",
    "    ))\n",
    "\n",
    "fig.update_layout(\n",
    "    title=\"Mean entropies of Schubert, DCML and Snyder corpora\",\n",
    "    yaxis_title=\"Mean entropy (95% CI)\",\n",
    "    height = 800)\n",
    "fig.show()"
   ]
  },
  {
   "cell_type": "markdown",
   "metadata": {},
   "source": [
    "_Fig. Mean entropies with 95% confidence intervals from the Schubert Dances corpus, the DCML corpus and tthe corpus analyzed in Snyder, J. L. (1990). Entropy as a Measure of Musical Style: The Influence of A Priori Assumptions, Music Theory Spectrum 12(1)._\n",
    "\n",
    "Among the various dance types, both Trios and Ländler have a significantly lower entropy on average than Deutscher, Walzer and Menuetts. In terms of pitch content, they are simpler than the other dance types.\n",
    "\n",
    "What about the rhythm? The following plots show the entropy of the distribution of rhythmic durations and of rhythmic onsets: the higher the corresponding entropy, the more varied the notated and perceived rhythmic texture, respectively. In general, the “German” dances exhibit the tendency for a simpler texture than the “French” ones, maybe reflecting the stronger link to their folk origin."
   ]
  },
  {
   "cell_type": "code",
   "execution_count": null,
   "metadata": {},
   "outputs": [],
   "source": [
    "fig = go.Figure()\n",
    "\n",
    "for dance in classif_dances:\n",
    "    fig.add_trace(\n",
    "        go.Box( \n",
    "             y= files.set_index('dance', append=True).entropy.unstack(level=1)[dance].dropna().to_list(),\n",
    "               name=dance,\n",
    "             line = dict(color = color_dances[dance])\n",
    "        )\n",
    "    )\n",
    "    \n",
    "for dance in classif_dances:\n",
    "    fig.add_trace(\n",
    "        go.Box( \n",
    "             y= files.set_index('dance', append=True).duration_entropy.unstack(level=1)[dance].dropna().to_list(),\n",
    "               name=dance,\n",
    "            visible = False,\n",
    "            line = dict(color = color_dances[dance])\n",
    "    ))\n",
    "\n",
    "for dance in classif_dances:\n",
    "    fig.add_trace(\n",
    "        go.Box( \n",
    "             y= files.set_index('dance', append=True).onset_entropy.unstack(level=1)[dance].dropna().to_list(),\n",
    "               name=dance,\n",
    "            visible = False,\n",
    "            line = dict(color = color_dances[dance])\n",
    "    ))\n",
    "\n",
    "\n",
    "fig.update_layout(\n",
    "    updatemenus=[\n",
    "        go.layout.Updatemenu(\n",
    "            active=0,\n",
    "            buttons=list([\n",
    "                dict(label=\"Pitch entropy\",\n",
    "                     method=\"update\",\n",
    "                     args=[{\"visible\": [True]*len(classif_dances)+[False]*len(classif_dances)+[False]*len(classif_dances)},\n",
    "                           {\"title\": \"Entropy of pitch distribution\",\n",
    "                            }]),\n",
    "                dict(label=\"Duration entropy\",\n",
    "                     method=\"update\",\n",
    "                     args=[{\"visible\": [False]*len(classif_dances)+[True]*len(classif_dances)+[False]*len(classif_dances)},\n",
    "                           {\"title\": \"Entropy of duration distribution\",\n",
    "                           }]),\n",
    "                dict(label=\"Onset entropy\",\n",
    "                     method=\"update\",\n",
    "                     args=[{\"visible\": [False]*len(classif_dances)+[False]*len(classif_dances)+[True]*len(classif_dances)},\n",
    "                           {\"title\": \"Entropy of onset distribution\",\n",
    "                            }]),    \n",
    "            ]),\n",
    "        )\n",
    "    ])\n",
    "\n",
    "fig.update_layout(title_text=\"Entropy of pitch and rhythm distributions\")\n",
    "\n",
    "fig.show()"
   ]
  },
  {
   "cell_type": "markdown",
   "metadata": {},
   "source": [
    "### Key"
   ]
  },
  {
   "cell_type": "markdown",
   "metadata": {},
   "source": [
    "#### Intro\n",
    "\n",
    " A piece of tonal music is like a journey across different regions, each being characterised by specific sonorities, moods, colours. These features of a tonal region             arise as a consequence of the choice of notes and relationships among notes that the composer assembles in that particular spot in the music. In one word, a key: with this term, we refer to (1) a set of notes and (2) a hierarchy among them, where one note (the tonic) can be thought of as the center while all other notes have different functions with respect to the tonic itself. \n",
    "\n",
    "In each piece, one key is particularly important, as it marks the final goal and often also the starting point of the music: it is the global key of the piece. However, just as painters choose colours from their palette, composers can change the “colour” of the music by shifting from key to key as the piece unfolds. \n",
    "\n",
    "The most striking  distinction is between so-called major and minor keys, that roughly correspond to happy and melancholic moods respectively. Furthermore, with respect to the global key of a piece, each other major and minor key conveys different shades of these moods. "
   ]
  },
  {
   "cell_type": "markdown",
   "metadata": {},
   "source": [
    "#### Methodology\n",
    "\n",
    "The musicological understanding of a piece relies on a detailed analysis of what is written in the score to infer the key that are encountered as it unfolds. However, to what extent does this score-based mode identification agree with the perceptual “feel” of a key? \n",
    "\n",
    "Extensive research has shown that Western listeners have consistent expectations on the fitness of individual notes into a key. For example, this plot shows how much each one of the twelve notes is perceived as fitting into the Cmajor or Cminor keys: these are called the Cmajor and Cminor **key profiles**.\n",
    "\n",
    "[Krumhansl, C.L. & Kessler, E. J. (1982). Tracing the dynamic changes in perceived tonal organization in a spatial representation of musical keys. Psychological Review, 89(4), 334–368.]"
   ]
  },
  {
   "cell_type": "code",
   "execution_count": null,
   "metadata": {},
   "outputs": [],
   "source": [
    "maj_min_key_profiles = pd.DataFrame(np.array([[6.20, 2.55, 3.45, 2.85, 4.22, 4.57, 2.67, 5.25, 2.45, 3.35, 2.70, 2.70],[6.03, 3.35, 3.67, 5.28, 2.58, 3.55, 2.87, 4.80, 4.35, 2.67, 2.50, 3.42]]).transpose(), columns = ['major', 'minor'], index = ['C', 'C#/Db',  'D',  'D#/Eb', 'E','F', 'F#/Gb', 'G','G#/Ab', 'A', 'A#/Bb', 'B']).iplot('scatter', mode = 'lines+markers', title = 'Major and minor key profiles (Krumhansl & Kessler 1982)', xTitle = 'pitch class', yTitle = 'rating')\n",
    "maj_min_key_profiles"
   ]
  },
  {
   "cell_type": "markdown",
   "metadata": {},
   "source": [
    "Any fragment of music consists of a **bag of notes**, i.e. the frequency distribution of notes occurring in the fragment itself. The correlation between the bag of notes and any individual key profile is a proxy to how perceptually close to that key the fragment of music is. Each fragment of music can closely match one key, i.e. sound decidedly *in* that key, based on the corresponding perceptual expectations, or it can be ambiguously equidistant to several keys. \n",
    "\n",
    "[Cf. Krumhansl, C. L. (1990). Cognitive Foundations of Musical Pitch. Oxford University Press.]"
   ]
  },
  {
   "cell_type": "markdown",
   "metadata": {},
   "source": [
    "#### Tracking key\n",
    "\n",
    "It is possible to track the emotional journey of a dance by following the unfolding of keys in the piece, each key corresponding to a different musical colour or shade. Listen to the animated example: can you follow the shifting keys and interpret the trajectories?"
   ]
  },
  {
   "cell_type": "code",
   "execution_count": null,
   "metadata": {},
   "outputs": [],
   "source": [
    "Video(\"data/video/D41TrioN12.mp4\", width = 800)"
   ]
  },
  {
   "cell_type": "markdown",
   "metadata": {},
   "source": [
    "Now you can explore the emotional path of a few dances of your choice by inspecting the corresponding key trajectories. In some cases, there is one clear dominant key, while there are also moments where several keys compete with each other for tonal primacy, resulting in a more ambiguous and tormented expression."
   ]
  },
  {
   "cell_type": "code",
   "execution_count": null,
   "metadata": {},
   "outputs": [],
   "source": [
    "with open(os.path.join('data', 'pickle', 'key_trajectory_dict.pkl'), 'rb') as f:\n",
    "    key_traj_dict = pickle.load(f)\n",
    "    \n",
    "# Specifiy the dance IDs that should appear in the dropdown\n",
    "selection = [1, 2, 3, 24, 200, 300, 400]\n",
    "\n",
    "buttons = []\n",
    "lines = []\n",
    "lines_idx_dict = {}\n",
    "counter = 0\n",
    "\n",
    "# Create the lines for all trajectories\n",
    "for idx, dance in enumerate(selection):\n",
    "    counter_before = counter\n",
    "    key_trajectories = key_traj_dict[dance]\n",
    "    if idx == 0:\n",
    "        visible=True\n",
    "    else:\n",
    "        visible=False\n",
    "\n",
    "    for key in key_trajectories:\n",
    "        key_string = str(key[1])+' '+str(key[0])\n",
    "        line = go.Scatter(x=np.arange(len(key_trajectories[key])),\n",
    "                          y=key_trajectories[key].to_list(),\n",
    "                          name=key_string,\n",
    "                          visible=visible,\n",
    "                          mode = 'lines',\n",
    "                          showlegend=True)\n",
    "        \n",
    "        lines.append(line)\n",
    "        counter = counter + 1\n",
    "        \n",
    "    lines_idx_dict[dance] = (counter_before, counter)\n",
    "    \n",
    "# Create the buttons that toggle the visibility\n",
    "for idx, dance in enumerate(selection):\n",
    "    true_false_list = [False] * len(lines)\n",
    "    label = 'D' + str(files.loc[dance]['D']) + ' ' + str(files.loc[dance]['dance']).capitalize() + ' N. ' + str(files.loc[dance]['no'])    \n",
    "    visible_list = true_false_list\n",
    "    \n",
    "    for i in range(lines_idx_dict[dance][0], lines_idx_dict[dance][1]):\n",
    "        true_false_list[i] = True\n",
    "    \n",
    "    button = dict(label=label,\n",
    "                  method='update',\n",
    "                  args=[{'visible': true_false_list}])\n",
    "    buttons.append(button)\n",
    "    \n",
    "updatemenus = [dict(buttons=buttons, direction='down', showactive=True)]\n",
    "\n",
    "layout = go.Layout(\n",
    "    title='Key Trajectories',\n",
    "    updatemenus=updatemenus,\n",
    "    xaxis_title='Bars',\n",
    "    yaxis_title='Correlation',\n",
    "    yaxis=dict(range=[-0.5, 1.1], autorange=False, zeroline=False)\n",
    ")\n",
    "\n",
    "figure = go.Figure(data=lines, layout=layout)\n",
    "figure.show()"
   ]
  },
  {
   "cell_type": "markdown",
   "metadata": {},
   "source": [
    "#### Variety\n",
    "\n",
    "Let us look into some details. Many dances start and end in the same key, but this is by no means a necessity."
   ]
  },
  {
   "cell_type": "code",
   "execution_count": null,
   "metadata": {},
   "outputs": [],
   "source": [
    "start_end_key = pd.DataFrame(files.groupby('dance').start_end_key.value_counts()).rename(columns = {'start_end_key': 'counts' })\n",
    "start_end_key.reset_index(inplace = True)\n",
    "start_end_key['start_end_key'] = list(map(int, start_end_key['start_end_key']))\n",
    "px.bar(start_end_key.reset_index(), x = 'dance', y = 'counts', color = 'start_end_key', barmode = 'stack', title = 'Does the dance start and end in the same key?')\n"
   ]
  },
  {
   "cell_type": "markdown",
   "metadata": {},
   "source": [
    "Dances have a twofold expressive purpose: being simple enough to be enjoyable without dedicated intellectual engagement, while at the same time materialising well-identified moods possibly taken to their extremes and contrasted with one another in sudden, although temporary, emotional clashes. As each key corresponds to an emotional region, how many keys does each dance cross during its journey? A plausible hypothesis is that certain dance-types are more likely to exhibit complex key trajectories than others.\n",
    "\n",
    "Indeed, more than half of the dances do not touch more than three keys, and unsurprisingly the rural Ländler are tendentially more likely to be monolithic in this respect compared to all other dance types."
   ]
  },
  {
   "cell_type": "code",
   "execution_count": null,
   "metadata": {},
   "outputs": [],
   "source": [
    "files[files.dance.isin(classif_dances)].set_index('dance', append=True)\\\n",
    "     .num_keys\\\n",
    "     .unstack(level=1)\\\n",
    "     .iplot('hist', barmode='stack', colors=color_dances)"
   ]
  },
  {
   "cell_type": "markdown",
   "metadata": {},
   "source": [
    "#### Mode identification\n",
    "\n",
    "According to our  musicological **ground truth** analysis, most dances are in the major mode, consistently with the enjoyable character expected of a dance. "
   ]
  },
  {
   "cell_type": "code",
   "execution_count": null,
   "metadata": {},
   "outputs": [],
   "source": [
    "dances_mode = pd.DataFrame(files.groupby('dance').gt_mode.value_counts())\n",
    "dances_mode.rename(columns = {'gt_mode': 'count'}, inplace = True)\n",
    "dances_mode.reset_index(inplace = True)\n",
    "px.bar(dances_mode, x = 'dance', y = 'count', color = 'gt_mode')"
   ]
  },
  {
   "cell_type": "markdown",
   "metadata": {},
   "source": [
    "How does this musicological classification correspond to the *feel* of the dances themselves? To answer this question, we focus on the first phrase of a piece: the similarity with the major and minor profile determines the coordinates of a “mode space” where each dance occupies a point based on its incipit. "
   ]
  },
  {
   "cell_type": "code",
   "execution_count": null,
   "metadata": {},
   "outputs": [],
   "source": [
    "fig = px.scatter(files, x = 'major', y = 'minor', color = 'gt_mode')\n",
    "fig.update_layout(\n",
    "    title=\"Mood map\",\n",
    "    xaxis_title=\"correlation with major key profile\",\n",
    "    yaxis_title=\"correlation with minor key profile\")\n",
    "fig.add_shape(\n",
    "        # Line Horizontal\n",
    "        go.layout.Shape(\n",
    "            type=\"line\",\n",
    "            x0 = -0.1,\n",
    "            x1 = 1,\n",
    "            y0=-0.1,\n",
    "            y1=1,\n",
    "            line=dict(\n",
    "                color=\"black\",\n",
    "                width=2,\n",
    "                dash=\"dot\",\n",
    "            ),\n",
    "    ))\n",
    "\n",
    "fig.show()"
   ]
  },
  {
   "cell_type": "markdown",
   "metadata": {},
   "source": [
    "The diagonal of this plot sets predominantly positively and predominantly negatively valenced dances apart. The classification provided by this divider is indeed in good agreement with the musicological ground truth (Cohen’s Kappa = 0.847). In other words, the initial mood of a piece is what determines the musical character of the piece as a whole. \n",
    "\n",
    "In particular, we can also compute a coefficient of modal ambiguity for each dance: once again, Ländler stand out as being less likely to be more ambiguous compared to representatives of other dance types. "
   ]
  },
  {
   "cell_type": "code",
   "execution_count": null,
   "metadata": {},
   "outputs": [],
   "source": [
    "files[files.dance.isin(classif_dances)].set_index('dance', append=True)\\\n",
    "     .maj_min_first_abs\\\n",
    "     .unstack(level=1)\\\n",
    "     .iplot('box', title = 'Modal ambiguity', yTitle = '|major correlation - minor correlation|',\n",
    "            color=color_dances)"
   ]
  },
  {
   "cell_type": "markdown",
   "metadata": {},
   "source": [
    "### Rhythmic patterns"
   ]
  },
  {
   "cell_type": "markdown",
   "metadata": {},
   "source": [
    "#### Characteristic rhythmic patterns\n",
    "\n",
    "The individual rhythmic patterns singled out in Part I might contribute to characterise different dance types. In particular, the rhythmic texture of the left hand, which represents the metrical skeleton of the music, and of the right hand, which usually articulates the melody, might help the classification task. "
   ]
  },
  {
   "cell_type": "markdown",
   "metadata": {},
   "source": [
    "#### Event density\n",
    "\n",
    "A surface-level characterisation of the texture of a dance is how \"crowded\" the music is: i.e., how many notes populate each time interval on average. All dances are somewhat similar in the overall density, but even more relevant for the auditory experience of music is the density of onsets of events, which marks the superficial rhythmic texture. French dances tend to be more dense in this respect."
   ]
  },
  {
   "cell_type": "code",
   "execution_count": null,
   "metadata": {},
   "outputs": [],
   "source": [
    "files[files.dance.isin(classif_dances)].set_index('dance', append=True)\\\n",
    "     .onset_density\\\n",
    "     .unstack(level=1)\\\n",
    "     .iplot('box', xTitle = 'Onset density', color=color_dances)"
   ]
  },
  {
   "cell_type": "markdown",
   "metadata": {},
   "source": [
    "#### Downbeat accent\n",
    "\n",
    "Another potentially important feature for a dance is the relationship between the downbeat and the other beats of each bar, as this maps to the typical steps of the corresponding coreography. \n",
    "\n",
    "For example, it may be expected that a dance that is markedly \"in one\" (i.e., with one \"heavy\" step and two lighter ones) such as the spinning walzer might have a higher downbeat vs. offbeat density ratio compared to heavier dances that are markedly \"in three\" (e.g. the Ländler). However, this does not seem to be the case: Ländler have generally not lower downbeat vs. offbeat ratios with respect to Waltzer. This is biased, however, by a notational issue: in the well-known \"oom-pah-pah\" pattern of the Walzer, the first beat in the left hand is usually just one single note, while the second and third beats are chords; it is the performer, in these cases, that modulates the weight of the beats to convey the appropriate metrical feel, which is not reflected in the notation. These exceeds the scope of a score-based approach: especially in this case, music is a tool for social interaction, and much of the music-related knowledge is diffused in the social norms of the group rather than written down in the score.  \n",
    "\n",
    "However, compared to the German dances, French dances have heavier downbeats in terms of overall event density, considering both the events contained in the beats and those strictly happening *on* the beats.\n",
    "\n",
    "On the contrary, if we look at the ratio of onset densities between downbeats and offbeats, Menuets are significantly lower and Ländler asignificantly higher on average than other dances."
   ]
  },
  {
   "cell_type": "code",
   "execution_count": null,
   "metadata": {},
   "outputs": [],
   "source": [
    "fig = go.Figure()\n",
    "\n",
    "# Add Traces\n",
    "for dance in classif_dances:\n",
    "    fig.add_trace(\n",
    "        go.Box( \n",
    "             y= files.set_index('dance', append=True).ratio_downbeat_non_downbeat.unstack(level=1)[dance].dropna().to_list(),\n",
    "               name=dance,\n",
    "             line = dict(color = color_dances[dance])\n",
    "        )\n",
    "    )\n",
    "    \n",
    "for dance in classif_dances:\n",
    "    fig.add_trace(\n",
    "        go.Box( \n",
    "             y= files.set_index('dance', append=True).ratio_downbeat_non_downbeat_onset.unstack(level=1)[dance].dropna().to_list(),\n",
    "               name=dance,\n",
    "            visible = False,\n",
    "            line = dict(color = color_dances[dance])\n",
    "    ))\n",
    "\n",
    "for dance in classif_dances:\n",
    "    fig.add_trace(\n",
    "        go.Box( \n",
    "             y= files.set_index('dance', append=True).ratio_downbeat_non_downbeat_strictly.unstack(level=1)[dance].dropna().to_list(),\n",
    "               name=dance,\n",
    "            visible = False,\n",
    "            line = dict(color = color_dances[dance])\n",
    "    ))\n",
    "\n",
    "\n",
    "fig.update_layout(\n",
    "    updatemenus=[\n",
    "        go.layout.Updatemenu(\n",
    "            active=0,\n",
    "            buttons=list([\n",
    "                dict(label=\"Event density\",\n",
    "                     method=\"update\",\n",
    "                     args=[{\"visible\": [True]*len(classif_dances)+[False]*len(classif_dances)+[False]*len(classif_dances)},\n",
    "                           {\"title\": \"Ratio of downbeat vs. offbeat event density\",\n",
    "                            \"annotations\": []}]),\n",
    "                dict(label=\"Onset density\",\n",
    "                     method=\"update\",\n",
    "                     args=[{\"visible\": [False]*len(classif_dances)+[True]*len(classif_dances)+[False]*len(classif_dances)},\n",
    "                           {\"title\": \"Ratio fo downbeat vs. offbeat onset density\",\n",
    "                            \"annotations\": []}]),\n",
    "                dict(label=\"Strict\",\n",
    "                     method=\"update\",\n",
    "                     args=[{\"visible\": [False]*len(classif_dances)+[False]*len(classif_dances)+[True]*len(classif_dances)},\n",
    "                           {\"title\": \"Ratio of density of strictly downbeat vs. offbeat events\",\n",
    "                            \"annotations\": []}]),\n",
    "               \n",
    "            ]),\n",
    "        )\n",
    "    ])\n",
    "\n",
    "# Set title\n",
    "fig.update_layout(title_text=\"Ratio of downbeat and offbeat events\")\n",
    "\n",
    "fig.show()"
   ]
  },
  {
   "cell_type": "markdown",
   "metadata": {},
   "source": [
    "### Characteristic intervals"
   ]
  },
  {
   "cell_type": "markdown",
   "metadata": {},
   "source": [
    "#### Registral accent\n",
    "\n",
    "A form of accent that is not reflected in the rhythmicality of the music is the *registral* accent, i.e. the abrupt change of height (register) within one voice. It may be hypothesised that this feeature may betray, on a notational level, the bar-by-bar flow typical of some dance types (see, e.g., the prototypical bass line in the example from Walzer D924 no. 1 above). In our case, the Ländler and the Walzer share the feature of having stronger registral accents on average than other dance types. "
   ]
  },
  {
   "cell_type": "code",
   "execution_count": null,
   "metadata": {},
   "outputs": [],
   "source": [
    "files[files.dance.isin(classif_dances)].set_index('dance', append=True)\\\n",
    "     .interval_downbeat_offbeat\\\n",
    "     .unstack(level=1)\\\n",
    "     .iplot('box', title = 'Average ratio of melodic intervals between downbeat and offbeat',\n",
    "            yTitle = 'average ratio',\n",
    "            color=color_dances)"
   ]
  },
  {
   "cell_type": "markdown",
   "metadata": {},
   "source": [
    "#### Sixths and thirds\n",
    "\n",
    "As a final classification feature, we will track the use of peculiar pitch intervals in the various dances: different harmonic intervals correspond to different sonorities, that might be characteristic of certain dances. Intervals of sixth and third, in particular, result to be less frequent in French dances than in German ones."
   ]
  },
  {
   "cell_type": "code",
   "execution_count": null,
   "metadata": {},
   "outputs": [],
   "source": [
    "fig = go.Figure()\n",
    "\n",
    "# Add Traces\n",
    "for dance in classif_dances:\n",
    "    fig.add_trace(\n",
    "        go.Box( \n",
    "             y= files.set_index('dance', append=True).sixths_count.unstack(level=1)[dance].dropna().to_list(),\n",
    "               name=dance,\n",
    "             line = dict(color = color_dances[dance])\n",
    "        )\n",
    "    )\n",
    "    \n",
    "for dance in classif_dances:\n",
    "    fig.add_trace(\n",
    "        go.Box( \n",
    "             y= files.set_index('dance', append=True).thirds_count.unstack(level=1)[dance].dropna().to_list(),\n",
    "               name=dance,\n",
    "            visible = False,\n",
    "            line = dict(color = color_dances[dance])\n",
    "    ))\n",
    "\n",
    "\n",
    "\n",
    "fig.update_layout(\n",
    "    updatemenus=[\n",
    "        go.layout.Updatemenu(\n",
    "            active=None,\n",
    "            buttons=list([\n",
    "                dict(label=\"Sixths\",\n",
    "                     method=\"update\",\n",
    "                     args=[{\"visible\": [True]*len(classif_dances)+[False]*len(classif_dances)+[False]*len(classif_dances)},\n",
    "                           {\"title\": \"Frequency of sixth intervals\",\n",
    "                            \"annotations\": []}]),\n",
    "                dict(label=\"Thirds\",\n",
    "                     method=\"update\",\n",
    "                     args=[{\"visible\": [False]*len(classif_dances)+[True]*len(classif_dances)+[False]*len(classif_dances)},\n",
    "                           {\"title\": \"Frequency of third intervals\",\n",
    "                            \"annotations\": []}]),\n",
    "    \n",
    "               \n",
    "            ]),\n",
    "        )\n",
    "    ])\n",
    "\n",
    "# Set title\n",
    "fig.update_layout(title_text=\"Ratio of downbeat and offbeat events\")\n",
    "\n",
    "fig.show()"
   ]
  },
  {
   "cell_type": "markdown",
   "metadata": {},
   "source": [
    "## Classification: dancing in the forest\n",
    "\n",
    "Although specific biases can be recognised for the different dance types with respect to the features discussed above, this may not be enough to classify individual dances. A data-driven machine-learning approach is precious in this case: our poor computer has never enjoyed the beauty of these short dances, which makes of it the perfect naive candidate to learn their characteristics from scratch. \n",
    "\n",
    "The task is indeed daunting and the fact that a random forest model trained on the features described above achieves a significantly above chance performance (Cohen's Kappa score = 0.46, 95% CI = (0.37,0.55)) is already an interesting fact. Dance types are not only social stereotypes: they are characterised by musical features that can be spotted when listening."
   ]
  },
  {
   "cell_type": "code",
   "execution_count": null,
   "metadata": {},
   "outputs": [],
   "source": [
    "global_confusion = pd.read_csv(os.path.join(data_tsv, 'global_confusion.tsv'), sep='\\t', index_col=0)\n",
    "dance_dict = {'deutscher':0, 'ländler':2, 'menuett':3, 'trio':4, 'walzer':5}\n",
    "dance_list = list(dance_dict.keys())\n",
    "\n",
    "fig = ff.create_annotated_heatmap(z=np.array(global_confusion), x=dance_list, y=dance_list)\n",
    "\n",
    "#fig = go.Figure(data=go.Heatmap(z=cm, x=dance_list, y=dance_list))\n",
    "fig.update_layout(title='Confusion Map For Dance Classification',\n",
    "                  xaxis_title=\"Predicted labels\", yaxis_title=\"True labels\")\n",
    "fig.data[0].update(zmin=0, zmax=1)\n",
    "fig.show()"
   ]
  },
  {
   "cell_type": "markdown",
   "metadata": {},
   "source": [
    "Among all of the features, the following are the most relevant for the classification task: "
   ]
  },
  {
   "cell_type": "code",
   "execution_count": null,
   "metadata": {},
   "outputs": [],
   "source": [
    "feature_ranking = pd.read_csv(os.path.join(data_tsv, 'feature_ranking.tsv'), sep='\\t', index_col=0)\n",
    "top_features = feature_ranking[feature_ranking.importance >.02]\n",
    "fig = go.Figure()\n",
    "fig.add_trace(go.Bar(\n",
    "    name='Feature importance: top 20',\n",
    "    x=top_features.index, y=top_features.importance,\n",
    "    error_y=dict(type='data', array=top_features.CI)\n",
    "))\n",
    "\n",
    "fig.update_layout(barmode='group', yaxis_title = 'Feature importance')\n",
    "fig.show()"
   ]
  },
  {
   "cell_type": "markdown",
   "metadata": {},
   "source": [
    "The various forms of metrical accent appear to be particularly informative in distinguishing the various dance types. A few of the rhithmic patterns are also important cues that should help the listener to recognise dance types: the left hand and right hand versions of the \"oom-pah-pah\" are, unsurprisingly, among these, as well as the uniform eigth-notes rhythm. Among the top ranking features we also find the rhythmic texture (onset density) and various forms of complexity (entropies).  \n",
    "\n",
    "Interestingly, among the German dances, Ländler are the most peculiar: it is less likely for other dance types to be mistaken for Ländler. The different taste that is addressed by the Ländler genre, with its strong folk and rural references, is thus reflected in the compositional features we have analysed. \n",
    "\n",
    "The few top-ranking features shown above are successful in unearthing some structure in the dancing fog of this corpus."
   ]
  },
  {
   "cell_type": "code",
   "execution_count": null,
   "metadata": {},
   "outputs": [],
   "source": [
    "tsne_coord = pd.read_csv(os.path.join(data_tsv, 'tsne.tsv'), sep='\\t', index_col=0)\n",
    "px.scatter(tsne_coord, x = 'TSNE1', y = 'TSNE2', color = 'dance', title = 't-SNE scatter plot')\n"
   ]
  },
  {
   "cell_type": "markdown",
   "metadata": {},
   "source": [
    "The unsupervised spatialization of dances induced by our top-ranking features shows the segregation of the French, towards the top-left corner, and German dances, towards the bottom-right one. Indeed, these features contain enough information to recognise at least the cultural model that conventionally inspires the character of each dance, be it the noble Versailles court or the rural Austrian countryside.   "
   ]
  },
  {
   "cell_type": "code",
   "execution_count": null,
   "metadata": {},
   "outputs": [],
   "source": [
    "national_classif = pd.read_csv(os.path.join(data_tsv, 'cm_national.tsv'), sep='\\t', index_col=0)\n",
    "\n",
    "fig = ff.create_annotated_heatmap(z=np.array(national_classif), x=['french', 'german'], y=['french', 'german'])\n",
    "fig.update_layout(title='Confusion Map For Dance Classification',\n",
    "                  xaxis_title=\"Predicted labels\", yaxis_title=\"True labels\")\n",
    "fig"
   ]
  },
  {
   "cell_type": "markdown",
   "metadata": {},
   "source": [
    "## Can you do better?"
   ]
  },
  {
   "cell_type": "markdown",
   "metadata": {},
   "source": [
    "Clearly, the performance of the model is not ideal: it could hardly be otherwise, since the variety within each dance type is so high that one can only recognise minor trends. This should not be surprising, though: even for a trained musician, with implicit access to many more features than the ones we considered here and, more importantly, with appropriate means to prioritize among them, it is very hard to distinguish dance types. The performance of the model should then be gauged against the intrinsic difficulty of the task: do you think you can you do better? Here is a small game to test your classifying skills!"
   ]
  },
  {
   "cell_type": "code",
   "execution_count": null,
   "metadata": {},
   "outputs": [],
   "source": [
    "%%HTML\n",
    "<span id=\"round\"> Round 1/5 </span> <p>\n",
    "\n",
    "<button type=\"button\" onclick=\"dancePlay()\">Play</button>\n",
    "<button tyle=\"button\" onclick=\"dancePause()\">Pause</button> <p>\n",
    "<audio id=\"dance\">\n",
    "<source type=\"audio/mpeg\" />\n",
    "</audio>\n",
    "\n",
    "<span> Guess the dance type: </span> </br>\n",
    "    \n",
    "<select id=\"dropdown\">\n",
    "    <option value=\"default\">Choose...</option>\n",
    "    <option value=\"deutscher\">Deutsche</option>\n",
    "    <option value=\"ländler\">Ländler</option>\n",
    "    <option value=\"walzer\">Waltz</option>\n",
    "    <option value=\"menuett\">Menuet</option>\n",
    "    <option value=\"trio\">Trio</option>\n",
    "    <option value=\"ecossaise\">Ecossaise</option>\n",
    "</select>\n",
    "\n",
    "<button style=\"button\" onclick=\"select()\">Select</button> <p>\n",
    "<span id=\"answer\"> </span> <p>\n",
    "<button id='nextRound' style=\"button\" onclick=\"nextRound()\">Next round</button>\n",
    "<button id='playAgain' style=\"button\" onclick=\"reset()\">Play again</button> <p> \n",
    "\n",
    "</center>\n",
    "<script src='quiz.js'>\n",
    "\n",
    "</script>"
   ]
  },
  {
   "cell_type": "markdown",
   "metadata": {},
   "source": [
    "This music, that a couple of centuries ago represented the essence of simplicity, is to our ears somewhat obscure. It hides a code of social practices, class ambitions, shy or audacious sexuality. Learning the keys to crack this code would allow us to feel familiar with the inhabitants of a distant age in the most natural way: dancing together."
   ]
  }
 ],
 "metadata": {
  "@webio": {
   "lastCommId": null,
   "lastKernelId": null
  },
  "kernelspec": {
   "display_name": "Python 3",
   "language": "python",
   "name": "python3"
  },
  "language_info": {
   "codemirror_mode": {
    "name": "ipython",
    "version": 3
   },
   "file_extension": ".py",
   "mimetype": "text/x-python",
   "name": "python",
   "nbconvert_exporter": "python",
   "pygments_lexer": "ipython3",
   "version": "3.7.3"
  },
  "toc": {
   "base_numbering": 1,
   "nav_menu": {},
   "number_sections": true,
   "sideBar": true,
   "skip_h1_title": false,
   "title_cell": "Analyzing a Corpus of Sheet Music",
   "title_sidebar": "Contents",
   "toc_cell": true,
   "toc_position": {},
   "toc_section_display": true,
   "toc_window_display": true
  }
 },
 "nbformat": 4,
 "nbformat_minor": 2
}
