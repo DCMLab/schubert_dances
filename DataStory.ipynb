{
 "cells": [
  {
   "cell_type": "markdown",
   "metadata": {},
   "source": [
    "# 2 Classifying dance types"
   ]
  },
  {
   "cell_type": "markdown",
   "metadata": {},
   "source": [
    "## 2.1 The Viennese dance floor\n",
    "\n",
    "[Intro to dance types]\n",
    "Menuet: “queen of all dances” (Feldtenstein 1767)\n",
    "\n",
    "[To know more: Oxford Handbook of Topic Theory]\n"
   ]
  },
  {
   "cell_type": "markdown",
   "metadata": {},
   "source": [
    "## 2.2 Features"
   ]
  },
  {
   "cell_type": "markdown",
   "metadata": {},
   "source": [
    "### 2.2.1 Complexity\n",
    "\n",
    " Simplicity is the keyword for a popular musical product aimed at universally meeting the taste, and the keyboard skills, of the viennese bourgeoisie. A mass product for private consumption, somewhat similar to today’s playlists, these dances were to be enjoyed in rather informal settings within the familiar social atmosphere of the ballroom. All in all, the piano dance was not the ideal testing ground for compositional experimentalism. The entropy of the note distribution over the corpus reflects this feature. Compared to chamber arias and Lieder by Schubert himself and other earlier and later composers (Hasse, Mozart and Strauss), all somehow related to the Viennese environment, the dances show a more selective and hierarchically distributed usage of pitches (lower entropy).\n",
    "\n",
    "[Show here “entropy_comparisons” as interval plot]  [Snyder, J. L. (1990). Entropy as a Measure of Musical Style: The Influence of A Priori Assumptions, Music Theory Spectrum 12(1).]\n",
    "\n",
    "Among the various dance types, both Trios and Ländler have a significantly lower entropy on average than Deutscher, Walzer and Menuetts. In terms of pitch content, they are simpler than the other dance types.\n",
    "\n",
    "[Show here box plot ‘entropy’]\n",
    "\n",
    "What about the rhythm? The following plots show the entropy of the distribution of rhythmic durations and of rhythmic onsets: the higher the corresponding entropy, the more varied the notated and perceived rhythmic texture, respectively. In general, the “German” dances exhibit the tendency for a simpler texture than the “French” ones, maybe reflecting the stronger link to their folk origin. Consistently with this interpretation, ecossaises have the lowest entropy among all dance types.\n",
    "\n",
    "[Show here box plots ‘duration_entropy’ and ‘onset_entropy’, ideally with interactive menu]\n"
   ]
  },
  {
   "cell_type": "markdown",
   "metadata": {},
   "source": [
    "### 2.2.2 Key"
   ]
  },
  {
   "cell_type": "markdown",
   "metadata": {},
   "source": [
    "#### 2.2.2.1 Intro\n",
    "\n",
    " A piece of tonal music is like a journey across different regions, each being characterised by specific sonorities, moods, colours. These features of a tonal region             arise as a consequence of the choice of notes and relationships among notes that the composer assembles in that particular spot in the music. In one word, a key: with this term, we refer to (1) a set of notes and (2) a hierarchy among them, where one note (the tonic) can be thought of as the center while all other notes have different functions with respect to the tonic itself. \n",
    "\n",
    "In each piece, one key is particularly important, as it marks the final goal and often also the starting point of the music: it is the global key of the piece. However, just as painters choose colours from their palette, composers can change the “colour” of the music by shifting from key to key as the piece unfolds. \n",
    "\n",
    "The most striking  distinction is between so-called major and minor keys, that roughly correspond to happy and melancholic moods respectively. Furthermore, with respect to the global key of a piece, each other major and minor key conveys different shades of these moods. "
   ]
  },
  {
   "cell_type": "markdown",
   "metadata": {},
   "source": [
    "#### 2.2.2.2 Methodology\n",
    "\n",
    "[Key profiles]\n",
    "\n",
    "[Show here the ‘maj_min_key_profiles' line plot]"
   ]
  },
  {
   "cell_type": "markdown",
   "metadata": {},
   "source": [
    "#### 2.2.2.3 Tracking key\n",
    "\n",
    "It is possible to track the emotional journey of a dance by following the unfolding of keys in the piece, each key corresponding to a different musical colour or shade. Listen to the animated example, and then explore the emotional path of any dance of your choice by inspecting the corresponding graph. \n",
    "\n",
    "[Show here a video with animated plot and audio (maybe nr. 5?). Then, show static plots with interactive menu.]"
   ]
  },
  {
   "cell_type": "markdown",
   "metadata": {},
   "source": [
    "#### 2.2.2.4 Variety\n",
    "\n",
    "Let us look into some details. Many dances start and end in the same key, but this is by no means a necessity.\n",
    "\n",
    "[Show bar plot ’start_end_key']\n",
    "\n",
    "Dances have a twofold expressive purpose: being simple enough to be enjoyable without dedicated intellectual engagement, while at the same time materialising well-identified moods possibility taken to their extremes and contrasted with one another in sudden, although temporary, emotional clashes. As each key corresponds to an emotional region, how many keys does each dance cross during its journey? More than half of the dances do not touch more than three keys, and unsurprisingly the rural Ländler are tendentially more likely to be monolithic in this respect compared to all other dance types.\n",
    "\n",
    "[Show here the stacked bar plot ’num_keys']\n"
   ]
  },
  {
   "cell_type": "markdown",
   "metadata": {},
   "source": [
    "#### 2.2.2.5 Mode identification\n",
    "\n",
    "According to a musicological analysis, most dances are in the major mode, consistently with the enjoyable function of a dance. \n",
    "\n",
    "[Show here the stacked bar plot ‘dances_mode’ with color = gt_mode]\n",
    "\n",
    "Now, a musicological analysis relies on a detailed analysis of what is written in the score to infer the mode of the whole piece. This is the ground truth for our current analysis. However, to what extent does this score-based mode identification agree with the perceptual “feel” of a mode? For each dance, let us compare the musical content of the first phrase with the key profile of the major and major versions of the global key of the dance: each incipit can closely match either the major or the minor profile, i.e. sound decidedly major or decidedly minor based on the corresponding perceptual expectations, or it can be ambiguously equidistant to both. The similarity with the major and minor profile determine the coordinates of a “mode space” where each dance occupies a point based on its incipit. \n",
    "\n",
    "[Show here the scatter plot ‘all_corr_first’]\n",
    "\n",
    "The diagonal of this plot sets predominantly positively and predominantly negatively valenced dances apart. The classification provided by this divider is indeed in good agreement with the musicological ground truth (Cohen’s Kappa = 0.847). The initial mood of a piece is what determines the musical character of the piece as a whole. \n",
    "\n",
    "In particular, we can also compute a coefficient of modal ambiguity for each dance: once again, Ländler stand out as being less likely to be more ambiguous compared to representatives of other dance types. \n",
    "\n",
    "[Show here the box plot ‘maj_min_first_abs’]"
   ]
  },
  {
   "cell_type": "markdown",
   "metadata": {},
   "source": [
    "### 2.2.3 Rhythmic patterns"
   ]
  },
  {
   "cell_type": "markdown",
   "metadata": {},
   "source": [
    "### 2.2.4 Characteristic intervals"
   ]
  },
  {
   "cell_type": "markdown",
   "metadata": {},
   "source": [
    "## 2.3 Clustering\n",
    "\n",
    "[Show here scatter plot ‘color = kmenas_label' ]\n"
   ]
  },
  {
   "cell_type": "markdown",
   "metadata": {},
   "source": [
    "## 2.4 Classification\n",
    "\n",
    "Although specific biases can be recognised for the different dance types with respect to all of the features discussed above, this may not be enough to classify individual dances. A SVM classifier performs in fact above chance-level in many cases (Cohen’s Kappa = 0.504), which is already a surprising outcome! \n",
    "\n",
    "[Show here confusion matrix 'cm']\n",
    "\n",
    "However, the selected features appear not to capture the differences among the three German dance types (Deutscher, Walzer, Ländler). Furthermore, Deutscher are viable labels for all other dance types. This might point to an interpretation of the “Deutscher” as a label employed by the composer to refer generally to a dance in the “German” style, but not necessarily fitting into the categories of a Ländler or a Walzer and rather somewhat closer to the default represented by the minuet and trio. Among the German dances, Ländler are the most peculiar: it is less likely for other dance types to be mistaken for Ländler. The different taste that is addressed by the Ländler genre, with its strong folk and rural references, is thus reflected in the compositional features we have analysed. \n",
    "    \n",
    "These issues notwithstanding, the feature are able to discriminate satisfactorily French from German dances (Cohen’s Kappa = 0.627). \n",
    "\n",
    "[Show here confusion matrix ‘cm_national']"
   ]
  },
  {
   "cell_type": "markdown",
   "metadata": {},
   "source": [
    "## 2.5 Can you do better?"
   ]
  }
 ],
 "metadata": {
  "kernelspec": {
   "display_name": "Python 3",
   "language": "python",
   "name": "python3"
  },
  "language_info": {
   "codemirror_mode": {
    "name": "ipython",
    "version": 3
   },
   "file_extension": ".py",
   "mimetype": "text/x-python",
   "name": "python",
   "nbconvert_exporter": "python",
   "pygments_lexer": "ipython3",
   "version": "3.7.3"
  }
 },
 "nbformat": 4,
 "nbformat_minor": 2
}
