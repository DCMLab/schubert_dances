{
 "cells": [
  {
   "cell_type": "markdown",
   "metadata": {
    "toc": true
   },
   "source": [
    "<h1>Analyzing a Corpus of Sheet Music<span class=\"tocSkip\"></span></h1>\n",
    "<div class=\"toc\"><ul class=\"toc-item\"><li><span><a href=\"#Characterizing-a-data-set-of-435-short-piano-dances-by-Franz-Schubert\" data-toc-modified-id=\"Characterizing-a-data-set-of-435-short-piano-dances-by-Franz-Schubert-1\"><span class=\"toc-item-num\">1&nbsp;&nbsp;</span>Characterizing a data set of 435 short piano dances by Franz Schubert</a></span><ul class=\"toc-item\"><li><span><a href=\"#The-Authors\" data-toc-modified-id=\"The-Authors-1.1\"><span class=\"toc-item-num\">1.1&nbsp;&nbsp;</span>The Authors</a></span></li><li><span><a href=\"#Abstract\" data-toc-modified-id=\"Abstract-1.2\"><span class=\"toc-item-num\">1.2&nbsp;&nbsp;</span>Abstract</a></span></li><li><span><a href=\"#The-data-set\" data-toc-modified-id=\"The-data-set-1.3\"><span class=\"toc-item-num\">1.3&nbsp;&nbsp;</span>The data set</a></span><ul class=\"toc-item\"><li><span><a href=\"#Historical-Background\" data-toc-modified-id=\"Historical-Background-1.3.1\"><span class=\"toc-item-num\">1.3.1&nbsp;&nbsp;</span>Historical Background</a></span></li><li><span><a href=\"#The-Viennese-dance-floor\" data-toc-modified-id=\"The-Viennese-dance-floor-1.3.2\"><span class=\"toc-item-num\">1.3.2&nbsp;&nbsp;</span>The Viennese dance floor</a></span></li><li><span><a href=\"#Handling-the-data\" data-toc-modified-id=\"Handling-the-data-1.3.3\"><span class=\"toc-item-num\">1.3.3&nbsp;&nbsp;</span>Handling the data</a></span><ul class=\"toc-item\"><li><span><a href=\"#Hints-for-music-notation-agnostics\" data-toc-modified-id=\"Hints-for-music-notation-agnostics-1.3.3.1\"><span class=\"toc-item-num\">1.3.3.1&nbsp;&nbsp;</span>Hints for music notation agnostics</a></span></li></ul></li></ul></li><li><span><a href=\"#Research-questions-and-hypotheses\" data-toc-modified-id=\"Research-questions-and-hypotheses-1.4\"><span class=\"toc-item-num\">1.4&nbsp;&nbsp;</span>Research questions and hypotheses</a></span><ul class=\"toc-item\"><li><span><a href=\"#Recurring-Patterns-(JH-&amp;-SR)\" data-toc-modified-id=\"Recurring-Patterns-(JH-&amp;-SR)-1.4.1\"><span class=\"toc-item-num\">1.4.1&nbsp;&nbsp;</span>Recurring Patterns (JH &amp; SR)</a></span></li><li><span><a href=\"#Dance-Type-Classification-(GC-&amp;-JR)\" data-toc-modified-id=\"Dance-Type-Classification-(GC-&amp;-JR)-1.4.2\"><span class=\"toc-item-num\">1.4.2&nbsp;&nbsp;</span>Dance Type Classification (GC &amp; JR)</a></span></li></ul></li></ul></li><li><span><a href=\"#Recurring-patterns\" data-toc-modified-id=\"Recurring-patterns-2\"><span class=\"toc-item-num\">2&nbsp;&nbsp;</span>Recurring patterns</a></span><ul class=\"toc-item\"><li><span><a href=\"#Most-common-rhythms\" data-toc-modified-id=\"Most-common-rhythms-2.1\"><span class=\"toc-item-num\">2.1&nbsp;&nbsp;</span>Most common rhythms</a></span><ul class=\"toc-item\"><li><span><a href=\"#Most-frequent-patterns-in-double-meter-(2/4)\" data-toc-modified-id=\"Most-frequent-patterns-in-double-meter-(2/4)-2.1.1\"><span class=\"toc-item-num\">2.1.1&nbsp;&nbsp;</span>Most frequent patterns in double meter (2/4)</a></span></li><li><span><a href=\"#Most-frequent-rhythms-in-triple-meter-(3/4)\" data-toc-modified-id=\"Most-frequent-rhythms-in-triple-meter-(3/4)-2.1.2\"><span class=\"toc-item-num\">2.1.2&nbsp;&nbsp;</span>Most frequent rhythms in triple meter (3/4)</a></span></li><li><span><a href=\"#Most-stereotypical-pieces-in-double-meter\" data-toc-modified-id=\"Most-stereotypical-pieces-in-double-meter-2.1.3\"><span class=\"toc-item-num\">2.1.3&nbsp;&nbsp;</span>Most stereotypical pieces in double meter</a></span></li><li><span><a href=\"#Most-stereotypical-pieces-in-triple-meter\" data-toc-modified-id=\"Most-stereotypical-pieces-in-triple-meter-2.1.4\"><span class=\"toc-item-num\">2.1.4&nbsp;&nbsp;</span>Most stereotypical pieces in triple meter</a></span></li></ul></li><li><span><a href=\"#Analyzing-harmonic-patterns\" data-toc-modified-id=\"Analyzing-harmonic-patterns-2.2\"><span class=\"toc-item-num\">2.2&nbsp;&nbsp;</span>Analyzing harmonic patterns</a></span><ul class=\"toc-item\"><li><span><a href=\"#Creating-chord-labels\" data-toc-modified-id=\"Creating-chord-labels-2.2.1\"><span class=\"toc-item-num\">2.2.1&nbsp;&nbsp;</span>Creating chord labels</a></span></li></ul></li><li><span><a href=\"#Repeating-pattern-detection-with-auto-correlation\" data-toc-modified-id=\"Repeating-pattern-detection-with-auto-correlation-2.3\"><span class=\"toc-item-num\">2.3&nbsp;&nbsp;</span>Repeating pattern detection with auto-correlation</a></span><ul class=\"toc-item\"><li><span><a href=\"#How-to-identify-a-repeating-part-from-a-new-part?\" data-toc-modified-id=\"How-to-identify-a-repeating-part-from-a-new-part?-2.3.1\"><span class=\"toc-item-num\">2.3.1&nbsp;&nbsp;</span>How to identify a repeating part from a new part?</a></span></li><li><span><a href=\"#Definition-of-an-auto-correlation-for-a-musical-piece\" data-toc-modified-id=\"Definition-of-an-auto-correlation-for-a-musical-piece-2.3.2\"><span class=\"toc-item-num\">2.3.2&nbsp;&nbsp;</span>Definition of an auto-correlation for a musical piece</a></span></li><li><span><a href=\"#Using-auto-correlation-for-initial-section-detection\" data-toc-modified-id=\"Using-auto-correlation-for-initial-section-detection-2.3.3\"><span class=\"toc-item-num\">2.3.3&nbsp;&nbsp;</span>Using auto-correlation for initial section detection</a></span></li><li><span><a href=\"#From-initial-section-detection-to-dance-structure\" data-toc-modified-id=\"From-initial-section-detection-to-dance-structure-2.3.4\"><span class=\"toc-item-num\">2.3.4&nbsp;&nbsp;</span>From initial section detection to dance structure</a></span></li></ul></li></ul></li><li><span><a href=\"#Classifying-dance-types\" data-toc-modified-id=\"Classifying-dance-types-3\"><span class=\"toc-item-num\">3&nbsp;&nbsp;</span>Classifying dance types</a></span><ul class=\"toc-item\"><li><span><a href=\"#2.2-Features\" data-toc-modified-id=\"2.2-Features-3.1\"><span class=\"toc-item-num\">3.1&nbsp;&nbsp;</span>2.2 Features</a></span><ul class=\"toc-item\"><li><span><a href=\"#Complexity\" data-toc-modified-id=\"Complexity-3.1.1\"><span class=\"toc-item-num\">3.1.1&nbsp;&nbsp;</span>Complexity</a></span></li><li><span><a href=\"#Key\" data-toc-modified-id=\"Key-3.1.2\"><span class=\"toc-item-num\">3.1.2&nbsp;&nbsp;</span>Key</a></span><ul class=\"toc-item\"><li><span><a href=\"#Intro\" data-toc-modified-id=\"Intro-3.1.2.1\"><span class=\"toc-item-num\">3.1.2.1&nbsp;&nbsp;</span>Intro</a></span></li><li><span><a href=\"#Methodology\" data-toc-modified-id=\"Methodology-3.1.2.2\"><span class=\"toc-item-num\">3.1.2.2&nbsp;&nbsp;</span>Methodology</a></span></li><li><span><a href=\"#Tracking-key\" data-toc-modified-id=\"Tracking-key-3.1.2.3\"><span class=\"toc-item-num\">3.1.2.3&nbsp;&nbsp;</span>Tracking key</a></span></li><li><span><a href=\"#Variety\" data-toc-modified-id=\"Variety-3.1.2.4\"><span class=\"toc-item-num\">3.1.2.4&nbsp;&nbsp;</span>Variety</a></span></li><li><span><a href=\"#Mode-identification\" data-toc-modified-id=\"Mode-identification-3.1.2.5\"><span class=\"toc-item-num\">3.1.2.5&nbsp;&nbsp;</span>Mode identification</a></span></li></ul></li><li><span><a href=\"#Rhythmic-patterns\" data-toc-modified-id=\"Rhythmic-patterns-3.1.3\"><span class=\"toc-item-num\">3.1.3&nbsp;&nbsp;</span>Rhythmic patterns</a></span><ul class=\"toc-item\"><li><span><a href=\"#Characteristic-rhythmic-patterns\" data-toc-modified-id=\"Characteristic-rhythmic-patterns-3.1.3.1\"><span class=\"toc-item-num\">3.1.3.1&nbsp;&nbsp;</span>Characteristic rhythmic patterns</a></span></li><li><span><a href=\"#Event-density\" data-toc-modified-id=\"Event-density-3.1.3.2\"><span class=\"toc-item-num\">3.1.3.2&nbsp;&nbsp;</span>Event density</a></span></li><li><span><a href=\"#Downbeat-accent\" data-toc-modified-id=\"Downbeat-accent-3.1.3.3\"><span class=\"toc-item-num\">3.1.3.3&nbsp;&nbsp;</span>Downbeat accent</a></span></li></ul></li><li><span><a href=\"#Characteristic-intervals\" data-toc-modified-id=\"Characteristic-intervals-3.1.4\"><span class=\"toc-item-num\">3.1.4&nbsp;&nbsp;</span>Characteristic intervals</a></span><ul class=\"toc-item\"><li><span><a href=\"#Registral-accent\" data-toc-modified-id=\"Registral-accent-3.1.4.1\"><span class=\"toc-item-num\">3.1.4.1&nbsp;&nbsp;</span>Registral accent</a></span></li><li><span><a href=\"#Sixths-and-thirds\" data-toc-modified-id=\"Sixths-and-thirds-3.1.4.2\"><span class=\"toc-item-num\">3.1.4.2&nbsp;&nbsp;</span>Sixths and thirds</a></span></li></ul></li></ul></li><li><span><a href=\"#Classification:-dancing-in-the-forest\" data-toc-modified-id=\"Classification:-dancing-in-the-forest-3.2\"><span class=\"toc-item-num\">3.2&nbsp;&nbsp;</span>Classification: dancing in the forest</a></span></li><li><span><a href=\"#Can-you-do-better?\" data-toc-modified-id=\"Can-you-do-better?-3.3\"><span class=\"toc-item-num\">3.3&nbsp;&nbsp;</span>Can you do better?</a></span></li></ul></li></ul></div>"
   ]
  },
  {
   "cell_type": "markdown",
   "metadata": {},
   "source": [
    "**VIEW THIS NOTEBOOK ON NBVIEWER:** https://nbviewer.jupyter.org/github/DCMLab/schubert_dances/blob/master/DataStory.ipynb"
   ]
  },
  {
   "cell_type": "code",
   "execution_count": 217,
   "metadata": {},
   "outputs": [
    {
     "data": {
      "text/html": [
       "<style>\n",
       "  table {margin-left: 0 !important;}\n",
       "  img {margin-left: 0 !important;}\n",
       "</style>\n"
      ],
      "text/plain": [
       "<IPython.core.display.HTML object>"
      ]
     },
     "metadata": {},
     "output_type": "display_data"
    }
   ],
   "source": [
    "%%html \n",
    "<style>\n",
    "  table {margin-left: 0 !important;}\n",
    "  img {margin-left: 0 !important;}\n",
    "</style>"
   ]
  },
  {
   "cell_type": "code",
   "execution_count": 245,
   "metadata": {},
   "outputs": [
    {
     "name": "stdout",
     "output_type": "stream",
     "text": [
      "The autoreload extension is already loaded. To reload it, use:\n",
      "  %reload_ext autoreload\n"
     ]
    },
    {
     "data": {
      "text/html": [
       "        <script type=\"text/javascript\">\n",
       "        window.PlotlyConfig = {MathJaxConfig: 'local'};\n",
       "        if (window.MathJax) {MathJax.Hub.Config({SVG: {font: \"STIX-Web\"}});}\n",
       "        if (typeof require !== 'undefined') {\n",
       "        require.undef(\"plotly\");\n",
       "        requirejs.config({\n",
       "            paths: {\n",
       "                'plotly': ['https://cdn.plot.ly/plotly-latest.min']\n",
       "            }\n",
       "        });\n",
       "        require(['plotly'], function(Plotly) {\n",
       "            window._Plotly = Plotly;\n",
       "        });\n",
       "        }\n",
       "        </script>\n",
       "        "
      ]
     },
     "metadata": {},
     "output_type": "display_data"
    }
   ],
   "source": [
    "%load_ext autoreload\n",
    "%autoreload 2\n",
    "import jh, os\n",
    "import pandas as pd\n",
    "from IPython.display import display_html, IFrame\n",
    "from IPython.display import HTML\n",
    "from IPython.display import Video\n",
    "import plotly.graph_objects as go\n",
    "import plotly.express as px\n",
    "import cufflinks as cf # for creating plots from pandas on the fly\n",
    "cf.go_offline()\n",
    "cf.set_config_file(theme='ggplot')\n",
    "import numpy as np\n",
    "import plotly.figure_factory as ff\n",
    "import pickle\n",
    "\n",
    "def display_side_by_side(title_df_dict):\n",
    "    \"\"\"Pass a {'title': DataFrame} dict.\"\"\"\n",
    "    stylers = [df.style.set_table_attributes(\"style='display:inline'\").set_caption(title)._repr_html_() for title, df in title_df_dict.items()]\n",
    "    display_html(''.join(stylers), raw=True)\n",
    "\n",
    "data_ms3 = 'data/MuseScore_3'\n",
    "data_tsv = 'data/tsv'\n",
    "classif_dances = ['walzer', 'deutscher', 'ländler', 'menuett', 'trio']\n",
    "color_dances = {'walzer': 'red',\n",
    " 'ländler': 'yellow',\n",
    " 'ecossaise': 'brown',\n",
    " 'deutscher': 'orange',                \n",
    " 'trio': 'lightblue',\n",
    " 'menuett': 'blue',\n",
    " 'galopp': 'gray',\n",
    " 'cotillon': 'green',\n",
    " }"
   ]
  },
  {
   "cell_type": "code",
   "execution_count": 219,
   "metadata": {},
   "outputs": [
    {
     "data": {
      "text/html": [
       "<script>\n",
       "code_show=true; \n",
       "function code_toggle() {\n",
       " if (code_show){\n",
       " $('div.input').hide();\n",
       " } else {\n",
       " $('div.input').show();\n",
       " }\n",
       " code_show = !code_show\n",
       "} \n",
       "$( document ).ready(code_toggle);\n",
       "</script>\n",
       "The raw code for this IPython notebook is by default hidden for easier reading.\n",
       "To toggle on/off the raw code, click <a href=\"javascript:code_toggle()\">here</a>."
      ],
      "text/plain": [
       "<IPython.core.display.HTML object>"
      ]
     },
     "execution_count": 219,
     "metadata": {},
     "output_type": "execute_result"
    }
   ],
   "source": [
    "HTML('''<script>\n",
    "code_show=true; \n",
    "function code_toggle() {\n",
    " if (code_show){\n",
    " $('div.input').hide();\n",
    " } else {\n",
    " $('div.input').show();\n",
    " }\n",
    " code_show = !code_show\n",
    "} \n",
    "$( document ).ready(code_toggle);\n",
    "</script>\n",
    "The raw code for this IPython notebook is by default hidden for easier reading.\n",
    "To toggle on/off the raw code, click <a href=\"javascript:code_toggle()\">here</a>.''')"
   ]
  },
  {
   "cell_type": "markdown",
   "metadata": {},
   "source": [
    "# Characterizing a data set of 435 short piano dances by Franz Schubert\n",
    "\n",
    "## The Authors\n",
    "\n",
    "| initials | name               |\n",
    "|:---------|:-------------------|\n",
    "| GC       | Gabriele Cecchetti |\n",
    "| JH       | Johannes Hentschel |\n",
    "| JR       | Johannes Rüther    |\n",
    "| SR       | Sébastien Rouault  |\n",
    "\n",
    "## Abstract\n",
    "Everybody has an emotional access to music, which in turn transports listeners into specific moods, atmospheres and settings. This intuitive understanding of musical pieces is grounded in structural elements such as melodic motives and rhythms, with their variations or repetitions. Our project aims at gaining an objective insight into how these patterns engender different shades of musical engagement. Specifically, we will investigate the structure and composition of Franz Schubert's \"dances\", a large set of 435 piano pieces classified in seven different types according to their times’ conventions. The conventionality of these short and catchy pieces makes them an ideal testing ground for computer-assisted analysis, but also makes them highly representative of the taste of early-nineteenth-century listeners. With our statistical investigation we hope to open a window onto this past: what did listeners expect of appealing dance-like music, and did different dance types correspond to different musical features or just to different social perspectives on the same musical features?\n",
    "\n",
    "\n",
    "## The data set\n",
    "\n",
    "In this section we introduce the data set of sheet music that we have analyzed. First we will start with a small introduction into its historical background and then we explain the data representation that we used.\n",
    "\n",
    "### Historical Background\n",
    "\n",
    "In the time between 1813 and his death in 1828, the composer Franz Schubert composed a large number of short piano pieces, the \"Dances\". Throughout his life, Schubert gathered a good number of collections of such pieces which were aimed at meeting the taste of the Viennese burgeoisie. While Schubert did write quite long and more complex compositions for which he is famous nowadays, at the time he was quite reknowned for small and not very ambitious forms such as his \"Dances\". Since this genre can be considered as commercial music, destined to a broad audience (a bit similar to Pop music today), they are musically quite conventional and therefore represent an ideal data set for computer-assisted analysis of the musical tastes of the early 19th century.\n",
    "\n",
    "The data set is comprised of the following dance types:"
   ]
  },
  {
   "cell_type": "code",
   "execution_count": 220,
   "metadata": {},
   "outputs": [
    {
     "data": {
      "application/vnd.plotly.v1+json": {
       "config": {
        "linkText": "Export to plot.ly",
        "plotlyServerURL": "https://plot.ly",
        "showLink": true
       },
       "data": [
        {
         "labels": [
          "walzer",
          "ländler",
          "ecossaise",
          "deutscher",
          "trio",
          "menuett",
          "galopp",
          "cotillon"
         ],
         "marker": {
          "colors": [
           "rgba(219, 64, 82, 1.0)",
           "rgba(255, 255, 51, 1.0)",
           "rgba(165, 42, 42, 1.0)",
           "rgba(255, 153, 51, 1.0)",
           "rgba(173, 216, 230, 1.0)",
           "rgba(55, 128, 191, 1.0)",
           "rgba(128, 128, 128, 1.0)",
           "rgba(0, 128, 0, 1.0)"
          ]
         },
         "name": "",
         "type": "pie",
         "values": [
          132,
          78,
          74,
          71,
          48,
          29,
          2,
          1
         ]
        }
       ],
       "layout": {
        "legend": {
         "bgcolor": "#FFFFFF",
         "font": {
          "color": "#666666"
         }
        },
        "paper_bgcolor": "#FFFFFF",
        "plot_bgcolor": "#E5E5E5",
        "title": "Dance types in Schubert's dances",
        "titlefont": {
         "color": "#151516"
        }
       }
      },
      "text/html": [
       "<div>\n",
       "        \n",
       "        \n",
       "            <div id=\"9d8a0efb-f9f0-4981-ba2f-4572bedf779b\" class=\"plotly-graph-div\" style=\"height:525px; width:100%;\"></div>\n",
       "            <script type=\"text/javascript\">\n",
       "                require([\"plotly\"], function(Plotly) {\n",
       "                    window.PLOTLYENV=window.PLOTLYENV || {};\n",
       "                    window.PLOTLYENV.BASE_URL='https://plot.ly';\n",
       "                    \n",
       "                if (document.getElementById(\"9d8a0efb-f9f0-4981-ba2f-4572bedf779b\")) {\n",
       "                    Plotly.newPlot(\n",
       "                        '9d8a0efb-f9f0-4981-ba2f-4572bedf779b',\n",
       "                        [{\"labels\": [\"walzer\", \"l\\u00e4ndler\", \"ecossaise\", \"deutscher\", \"trio\", \"menuett\", \"galopp\", \"cotillon\"], \"marker\": {\"colors\": [\"rgba(219, 64, 82, 1.0)\", \"rgba(255, 255, 51, 1.0)\", \"rgba(165, 42, 42, 1.0)\", \"rgba(255, 153, 51, 1.0)\", \"rgba(173, 216, 230, 1.0)\", \"rgba(55, 128, 191, 1.0)\", \"rgba(128, 128, 128, 1.0)\", \"rgba(0, 128, 0, 1.0)\"]}, \"name\": \"\", \"type\": \"pie\", \"values\": [132, 78, 74, 71, 48, 29, 2, 1]}],\n",
       "                        {\"legend\": {\"bgcolor\": \"#FFFFFF\", \"font\": {\"color\": \"#666666\"}}, \"paper_bgcolor\": \"#FFFFFF\", \"plot_bgcolor\": \"#E5E5E5\", \"title\": \"Dance types in Schubert's dances\", \"titlefont\": {\"color\": \"#151516\"}},\n",
       "                        {\"showLink\": true, \"linkText\": \"Export to plot.ly\", \"plotlyServerURL\": \"https://plot.ly\", \"responsive\": true}\n",
       "                    ).then(function(){\n",
       "                            \n",
       "var gd = document.getElementById('9d8a0efb-f9f0-4981-ba2f-4572bedf779b');\n",
       "var x = new MutationObserver(function (mutations, observer) {{\n",
       "        var display = window.getComputedStyle(gd).display;\n",
       "        if (!display || display === 'none') {{\n",
       "            console.log([gd, 'removed!']);\n",
       "            Plotly.purge(gd);\n",
       "            observer.disconnect();\n",
       "        }}\n",
       "}});\n",
       "\n",
       "// Listen for the removal of the full notebook cells\n",
       "var notebookContainer = gd.closest('#notebook-container');\n",
       "if (notebookContainer) {{\n",
       "    x.observe(notebookContainer, {childList: true});\n",
       "}}\n",
       "\n",
       "// Listen for the clearing of the current output cell\n",
       "var outputEl = gd.closest('.output');\n",
       "if (outputEl) {{\n",
       "    x.observe(outputEl, {childList: true});\n",
       "}}\n",
       "\n",
       "                        })\n",
       "                };\n",
       "                });\n",
       "            </script>\n",
       "        </div>"
      ]
     },
     "metadata": {},
     "output_type": "display_data"
    }
   ],
   "source": [
    "files = pd.read_csv(os.path.join(data_tsv, 'files.tsv'), sep='\\t', index_col=[0])\n",
    "pd.DataFrame(files.dance.value_counts()).reset_index().iplot('pie', labels='index', values='dance', color=color_dances.values(), title=\"Dance types in Schubert's dances\")"
   ]
  },
  {
   "cell_type": "markdown",
   "metadata": {},
   "source": [
    "### The Viennese dance floor\n",
    "\n",
    "All the dances represented in the corpus comprise the typical soundtrack of the Viennese ball rooms.\n",
    "\n",
    "The “queen of all dances” (Feldtenstein, 1767) was undoubtedly the French **Menuett**. As most dance forms of the classical repertoire, the minuet originated as an appropriation of folk tunes into the stereotyped taste of nobility and courts, and in this form it was then exported throughout Europe. Traditionally, each minuet would be coupled with a contrasting dance, the **Trio**: hard to characterise collectively, trios were individually crafted to provide variety by conveying a different character from the related minuet. In general, trios were more explicit in emulating the rural origins of the dance."
   ]
  },
  {
   "cell_type": "code",
   "execution_count": 221,
   "metadata": {},
   "outputs": [
    {
     "data": {
      "text/html": [
       "\n",
       "        <iframe\n",
       "            width=\"280\"\n",
       "            height=\"160\"\n",
       "            src=\"https://www.youtube.com/embed/ZJ-jzZtARlw\"\n",
       "            frameborder=\"0\"\n",
       "            allowfullscreen\n",
       "        ></iframe>\n",
       "        "
      ],
      "text/plain": [
       "<IPython.lib.display.IFrame at 0x1c334d5748>"
      ]
     },
     "execution_count": 221,
     "metadata": {},
     "output_type": "execute_result"
    }
   ],
   "source": [
    "IFrame(\"https://www.youtube.com/embed/ZJ-jzZtARlw\", 280, 160)"
   ]
  },
  {
   "cell_type": "markdown",
   "metadata": {},
   "source": [
    "_Vid. First minuet & trio of the data set: D. 41, no. 1_\n",
    "\n",
    "Closer to their rural origins, both the **Cotillon** and the **Ecossaise** are country dances and both French, the latter though being inspired by the rhythms of the Scottish folk tunes. The **Galopp** was also a fast-paced dance eventually turning into the - nowdays better known - Polka. "
   ]
  },
  {
   "cell_type": "code",
   "execution_count": 222,
   "metadata": {},
   "outputs": [
    {
     "data": {
      "text/html": [
       "\n",
       "        <iframe\n",
       "            width=\"280\"\n",
       "            height=\"160\"\n",
       "            src=\"https://www.youtube.com/embed/J2fUU6_DDvU\"\n",
       "            frameborder=\"0\"\n",
       "            allowfullscreen\n",
       "        ></iframe>\n",
       "        "
      ],
      "text/plain": [
       "<IPython.lib.display.IFrame at 0x1c337dba20>"
      ]
     },
     "execution_count": 222,
     "metadata": {},
     "output_type": "execute_result"
    }
   ],
   "source": [
    "IFrame('https://www.youtube.com/embed/J2fUU6_DDvU', 280, 160)"
   ]
  },
  {
   "cell_type": "markdown",
   "metadata": {},
   "source": [
    "_Vid. Galopp und 8 Ecossaisen, D. 735_\n",
    "\n",
    "Of strictly German origin are the **Ländler** and the **Walzer**. The former was characterised by a variety of body motions interrupted by clapping and feet stomping, evoking the scenery of countryside paesant dances. On the contrary, the Walzer was a fast and smooth spinning dance that became explosively popular because of its intrinsic sensuality, to the point that it was formally banned by the authorities several times: \"In this dance, everything is circle-shaped and whirling movement, everything designed to provoke giddiness and seduce the senses.\" (Vieth, 1794)."
   ]
  },
  {
   "cell_type": "code",
   "execution_count": 223,
   "metadata": {},
   "outputs": [
    {
     "data": {
      "text/html": [
       "\n",
       "        <iframe\n",
       "            width=\"280\"\n",
       "            height=\"160\"\n",
       "            src=\"https://www.youtube.com/embed/94uW9Bbuwm8\"\n",
       "            frameborder=\"0\"\n",
       "            allowfullscreen\n",
       "        ></iframe>\n",
       "        "
      ],
      "text/plain": [
       "<IPython.lib.display.IFrame at 0x1c2c837be0>"
      ]
     },
     "execution_count": 223,
     "metadata": {},
     "output_type": "execute_result"
    }
   ],
   "source": [
    "IFrame(\"https://www.youtube.com/embed/94uW9Bbuwm8\", 280, 160)"
   ]
  },
  {
   "cell_type": "markdown",
   "metadata": {},
   "source": [
    "_Vid. Walzer D. 779, no. 23_"
   ]
  },
  {
   "cell_type": "code",
   "execution_count": 224,
   "metadata": {},
   "outputs": [
    {
     "data": {
      "text/html": [
       "\n",
       "        <iframe\n",
       "            width=\"280\"\n",
       "            height=\"160\"\n",
       "            src=\"https://www.youtube.com/embed/BwqjeWEp3dM\"\n",
       "            frameborder=\"0\"\n",
       "            allowfullscreen\n",
       "        ></iframe>\n",
       "        "
      ],
      "text/plain": [
       "<IPython.lib.display.IFrame at 0x1c2c837e80>"
      ]
     },
     "execution_count": 224,
     "metadata": {},
     "output_type": "execute_result"
    }
   ],
   "source": [
    "IFrame(\"https://www.youtube.com/embed/BwqjeWEp3dM\", 280, 160)"
   ]
  },
  {
   "cell_type": "markdown",
   "metadata": {},
   "source": [
    "_Vid. Ländler D. 681, no. 1_\n",
    "\n",
    "The term **Deutscher** Tanz, literally \"German dance\", was used in association with both the Walzer and the Ländler, and it is unclear whether it would also identify a dance type of its own right: in a few instances, Schubert himself happened to label the same dances as Ländler or Deutscher."
   ]
  },
  {
   "cell_type": "code",
   "execution_count": 225,
   "metadata": {},
   "outputs": [
    {
     "data": {
      "text/html": [
       "\n",
       "        <iframe\n",
       "            width=\"280\"\n",
       "            height=\"160\"\n",
       "            src=\"https://www.youtube.com/embed/29GOPJY34hU\"\n",
       "            frameborder=\"0\"\n",
       "            allowfullscreen\n",
       "        ></iframe>\n",
       "        "
      ],
      "text/plain": [
       "<IPython.lib.display.IFrame at 0x1c2c837f60>"
      ]
     },
     "execution_count": 225,
     "metadata": {},
     "output_type": "execute_result"
    }
   ],
   "source": [
    "IFrame(\"https://www.youtube.com/embed/29GOPJY34hU\", 280, 160)"
   ]
  },
  {
   "cell_type": "markdown",
   "metadata": {},
   "source": [
    "_Vid. Deutscher D. 643, no. 1_\n",
    "\n",
    "To know more: McKee E. (2014). Ballroom Dances of the Late Eighteenth Century in Danuta Mirka ed., The Oxford handbook of topic theory. Oxford University Press. \n",
    "\n",
    "\n",
    "### Handling the data\n",
    "\n",
    "Music scores are complex graphical representations of music. Trained musicians can read music scores and use them to imagine or reproduce the symbolically encoded sounds. This section elicits how we transformed the scores into our working representation, namely one **note list** and one **measure list** for the entire corpus.\n",
    "\n",
    "The dataset consists of 435 music scores in the XML format of the open source notation software [MuseScore 3](https://musescore.org/en/download) and has been compiled for this project by GC & JH using funds of [EPFL's Digital and Cognitive Musicology Lab (DCML)](https://dcml.epfl.ch/).\n",
    "\n",
    "![score_example](report/D977ecossaise02_example.png) \n",
    "_Fig. The first two measures of the Ecossaise D. 977, no. 2. **Left:** Representation in MuseScore 3. **Right:** Abbreviated source code of the first measure in the right hand. For explanations of the terms, refer to the section 'Hints for music notation agnostics' below._\n",
    "\n",
    "After parsing the scores, the music seen in the figure looks like this (for details concerning the parsing and the note list features, cf. [jh.ipynb](jh.ipynb)):"
   ]
  },
  {
   "cell_type": "code",
   "execution_count": 226,
   "metadata": {},
   "outputs": [
    {
     "data": {
      "text/html": [
       "<div>\n",
       "<style scoped>\n",
       "    .dataframe tbody tr th:only-of-type {\n",
       "        vertical-align: middle;\n",
       "    }\n",
       "\n",
       "    .dataframe tbody tr th {\n",
       "        vertical-align: top;\n",
       "    }\n",
       "\n",
       "    .dataframe thead th {\n",
       "        text-align: right;\n",
       "    }\n",
       "</style>\n",
       "<table border=\"1\" class=\"dataframe\">\n",
       "  <thead>\n",
       "    <tr style=\"text-align: right;\">\n",
       "      <th></th>\n",
       "      <th></th>\n",
       "      <th></th>\n",
       "      <th>mc</th>\n",
       "      <th>mn</th>\n",
       "      <th>onset</th>\n",
       "      <th>duration</th>\n",
       "      <th>gracenote</th>\n",
       "      <th>nominal_duration</th>\n",
       "      <th>scalar</th>\n",
       "      <th>tied</th>\n",
       "      <th>tpc</th>\n",
       "      <th>midi</th>\n",
       "      <th>staff</th>\n",
       "      <th>voice</th>\n",
       "      <th>volta</th>\n",
       "      <th>timesig</th>\n",
       "      <th>beats</th>\n",
       "      <th>beatsize</th>\n",
       "      <th>note_names</th>\n",
       "      <th>octaves</th>\n",
       "      <th>beat</th>\n",
       "      <th>subbeat</th>\n",
       "    </tr>\n",
       "    <tr>\n",
       "      <th>id</th>\n",
       "      <th>section</th>\n",
       "      <th>ix</th>\n",
       "      <th></th>\n",
       "      <th></th>\n",
       "      <th></th>\n",
       "      <th></th>\n",
       "      <th></th>\n",
       "      <th></th>\n",
       "      <th></th>\n",
       "      <th></th>\n",
       "      <th></th>\n",
       "      <th></th>\n",
       "      <th></th>\n",
       "      <th></th>\n",
       "      <th></th>\n",
       "      <th></th>\n",
       "      <th></th>\n",
       "      <th></th>\n",
       "      <th></th>\n",
       "      <th></th>\n",
       "      <th></th>\n",
       "      <th></th>\n",
       "    </tr>\n",
       "  </thead>\n",
       "  <tbody>\n",
       "    <tr>\n",
       "      <th rowspan=\"11\" valign=\"top\">424</th>\n",
       "      <th rowspan=\"11\" valign=\"top\">0</th>\n",
       "      <th>0</th>\n",
       "      <td>0</td>\n",
       "      <td>1</td>\n",
       "      <td>0</td>\n",
       "      <td>1/4</td>\n",
       "      <td>NaN</td>\n",
       "      <td>1/4</td>\n",
       "      <td>1</td>\n",
       "      <td>NaN</td>\n",
       "      <td>-5</td>\n",
       "      <td>49</td>\n",
       "      <td>2</td>\n",
       "      <td>1</td>\n",
       "      <td>NaN</td>\n",
       "      <td>2/4</td>\n",
       "      <td>1</td>\n",
       "      <td>1/4</td>\n",
       "      <td>Db</td>\n",
       "      <td>3</td>\n",
       "      <td>1</td>\n",
       "      <td>0</td>\n",
       "    </tr>\n",
       "    <tr>\n",
       "      <th>1</th>\n",
       "      <td>0</td>\n",
       "      <td>1</td>\n",
       "      <td>0</td>\n",
       "      <td>1/4</td>\n",
       "      <td>NaN</td>\n",
       "      <td>1/4</td>\n",
       "      <td>1</td>\n",
       "      <td>NaN</td>\n",
       "      <td>-1</td>\n",
       "      <td>77</td>\n",
       "      <td>1</td>\n",
       "      <td>1</td>\n",
       "      <td>NaN</td>\n",
       "      <td>2/4</td>\n",
       "      <td>1</td>\n",
       "      <td>1/4</td>\n",
       "      <td>F</td>\n",
       "      <td>5</td>\n",
       "      <td>1</td>\n",
       "      <td>0</td>\n",
       "    </tr>\n",
       "    <tr>\n",
       "      <th>2</th>\n",
       "      <td>0</td>\n",
       "      <td>1</td>\n",
       "      <td>0</td>\n",
       "      <td>1/8</td>\n",
       "      <td>NaN</td>\n",
       "      <td>1/8</td>\n",
       "      <td>1</td>\n",
       "      <td>NaN</td>\n",
       "      <td>-1</td>\n",
       "      <td>77</td>\n",
       "      <td>1</td>\n",
       "      <td>2</td>\n",
       "      <td>NaN</td>\n",
       "      <td>2/4</td>\n",
       "      <td>1</td>\n",
       "      <td>1/4</td>\n",
       "      <td>F</td>\n",
       "      <td>5</td>\n",
       "      <td>1</td>\n",
       "      <td>0</td>\n",
       "    </tr>\n",
       "    <tr>\n",
       "      <th>3</th>\n",
       "      <td>0</td>\n",
       "      <td>1</td>\n",
       "      <td>1/8</td>\n",
       "      <td>1/8</td>\n",
       "      <td>NaN</td>\n",
       "      <td>1/8</td>\n",
       "      <td>1</td>\n",
       "      <td>NaN</td>\n",
       "      <td>-1</td>\n",
       "      <td>65</td>\n",
       "      <td>1</td>\n",
       "      <td>2</td>\n",
       "      <td>NaN</td>\n",
       "      <td>2/4</td>\n",
       "      <td>1.1/2</td>\n",
       "      <td>1/4</td>\n",
       "      <td>F</td>\n",
       "      <td>4</td>\n",
       "      <td>1</td>\n",
       "      <td>1/2</td>\n",
       "    </tr>\n",
       "    <tr>\n",
       "      <th>4</th>\n",
       "      <td>0</td>\n",
       "      <td>1</td>\n",
       "      <td>1/4</td>\n",
       "      <td>1/4</td>\n",
       "      <td>NaN</td>\n",
       "      <td>1/4</td>\n",
       "      <td>1</td>\n",
       "      <td>NaN</td>\n",
       "      <td>-1</td>\n",
       "      <td>53</td>\n",
       "      <td>2</td>\n",
       "      <td>1</td>\n",
       "      <td>NaN</td>\n",
       "      <td>2/4</td>\n",
       "      <td>2</td>\n",
       "      <td>1/4</td>\n",
       "      <td>F</td>\n",
       "      <td>3</td>\n",
       "      <td>2</td>\n",
       "      <td>0</td>\n",
       "    </tr>\n",
       "    <tr>\n",
       "      <th>5</th>\n",
       "      <td>0</td>\n",
       "      <td>1</td>\n",
       "      <td>1/4</td>\n",
       "      <td>1/4</td>\n",
       "      <td>NaN</td>\n",
       "      <td>1/4</td>\n",
       "      <td>1</td>\n",
       "      <td>NaN</td>\n",
       "      <td>-4</td>\n",
       "      <td>56</td>\n",
       "      <td>2</td>\n",
       "      <td>1</td>\n",
       "      <td>NaN</td>\n",
       "      <td>2/4</td>\n",
       "      <td>2</td>\n",
       "      <td>1/4</td>\n",
       "      <td>Ab</td>\n",
       "      <td>3</td>\n",
       "      <td>2</td>\n",
       "      <td>0</td>\n",
       "    </tr>\n",
       "    <tr>\n",
       "      <th>6</th>\n",
       "      <td>0</td>\n",
       "      <td>1</td>\n",
       "      <td>1/4</td>\n",
       "      <td>1/4</td>\n",
       "      <td>NaN</td>\n",
       "      <td>1/4</td>\n",
       "      <td>1</td>\n",
       "      <td>NaN</td>\n",
       "      <td>-5</td>\n",
       "      <td>61</td>\n",
       "      <td>2</td>\n",
       "      <td>1</td>\n",
       "      <td>NaN</td>\n",
       "      <td>2/4</td>\n",
       "      <td>2</td>\n",
       "      <td>1/4</td>\n",
       "      <td>Db</td>\n",
       "      <td>4</td>\n",
       "      <td>2</td>\n",
       "      <td>0</td>\n",
       "    </tr>\n",
       "    <tr>\n",
       "      <th>7</th>\n",
       "      <td>0</td>\n",
       "      <td>1</td>\n",
       "      <td>1/4</td>\n",
       "      <td>1/8</td>\n",
       "      <td>NaN</td>\n",
       "      <td>1/8</td>\n",
       "      <td>1</td>\n",
       "      <td>NaN</td>\n",
       "      <td>-4</td>\n",
       "      <td>68</td>\n",
       "      <td>1</td>\n",
       "      <td>2</td>\n",
       "      <td>NaN</td>\n",
       "      <td>2/4</td>\n",
       "      <td>2</td>\n",
       "      <td>1/4</td>\n",
       "      <td>Ab</td>\n",
       "      <td>4</td>\n",
       "      <td>2</td>\n",
       "      <td>0</td>\n",
       "    </tr>\n",
       "    <tr>\n",
       "      <th>8</th>\n",
       "      <td>0</td>\n",
       "      <td>1</td>\n",
       "      <td>1/4</td>\n",
       "      <td>1/4</td>\n",
       "      <td>NaN</td>\n",
       "      <td>1/4</td>\n",
       "      <td>1</td>\n",
       "      <td>NaN</td>\n",
       "      <td>-5</td>\n",
       "      <td>73</td>\n",
       "      <td>1</td>\n",
       "      <td>1</td>\n",
       "      <td>NaN</td>\n",
       "      <td>2/4</td>\n",
       "      <td>2</td>\n",
       "      <td>1/4</td>\n",
       "      <td>Db</td>\n",
       "      <td>5</td>\n",
       "      <td>2</td>\n",
       "      <td>0</td>\n",
       "    </tr>\n",
       "    <tr>\n",
       "      <th>9</th>\n",
       "      <td>0</td>\n",
       "      <td>1</td>\n",
       "      <td>3/8</td>\n",
       "      <td>1/8</td>\n",
       "      <td>NaN</td>\n",
       "      <td>1/8</td>\n",
       "      <td>1</td>\n",
       "      <td>NaN</td>\n",
       "      <td>-1</td>\n",
       "      <td>65</td>\n",
       "      <td>1</td>\n",
       "      <td>2</td>\n",
       "      <td>NaN</td>\n",
       "      <td>2/4</td>\n",
       "      <td>2.1/2</td>\n",
       "      <td>1/4</td>\n",
       "      <td>F</td>\n",
       "      <td>4</td>\n",
       "      <td>2</td>\n",
       "      <td>1/2</td>\n",
       "    </tr>\n",
       "    <tr>\n",
       "      <th>10</th>\n",
       "      <td>1</td>\n",
       "      <td>2</td>\n",
       "      <td>0</td>\n",
       "      <td>1/4</td>\n",
       "      <td>NaN</td>\n",
       "      <td>1/4</td>\n",
       "      <td>1</td>\n",
       "      <td>NaN</td>\n",
       "      <td>-4</td>\n",
       "      <td>44</td>\n",
       "      <td>2</td>\n",
       "      <td>1</td>\n",
       "      <td>NaN</td>\n",
       "      <td>2/4</td>\n",
       "      <td>1</td>\n",
       "      <td>1/4</td>\n",
       "      <td>Ab</td>\n",
       "      <td>2</td>\n",
       "      <td>1</td>\n",
       "      <td>0</td>\n",
       "    </tr>\n",
       "  </tbody>\n",
       "</table>\n",
       "</div>"
      ],
      "text/plain": [
       "                mc  mn onset duration gracenote nominal_duration scalar  tied  \\\n",
       "id  section ix                                                                  \n",
       "424 0       0    0   1     0      1/4       NaN              1/4      1   NaN   \n",
       "            1    0   1     0      1/4       NaN              1/4      1   NaN   \n",
       "            2    0   1     0      1/8       NaN              1/8      1   NaN   \n",
       "            3    0   1   1/8      1/8       NaN              1/8      1   NaN   \n",
       "            4    0   1   1/4      1/4       NaN              1/4      1   NaN   \n",
       "            5    0   1   1/4      1/4       NaN              1/4      1   NaN   \n",
       "            6    0   1   1/4      1/4       NaN              1/4      1   NaN   \n",
       "            7    0   1   1/4      1/8       NaN              1/8      1   NaN   \n",
       "            8    0   1   1/4      1/4       NaN              1/4      1   NaN   \n",
       "            9    0   1   3/8      1/8       NaN              1/8      1   NaN   \n",
       "            10   1   2     0      1/4       NaN              1/4      1   NaN   \n",
       "\n",
       "                tpc  midi  staff  voice  volta timesig  beats beatsize  \\\n",
       "id  section ix                                                           \n",
       "424 0       0    -5    49      2      1    NaN     2/4      1      1/4   \n",
       "            1    -1    77      1      1    NaN     2/4      1      1/4   \n",
       "            2    -1    77      1      2    NaN     2/4      1      1/4   \n",
       "            3    -1    65      1      2    NaN     2/4  1.1/2      1/4   \n",
       "            4    -1    53      2      1    NaN     2/4      2      1/4   \n",
       "            5    -4    56      2      1    NaN     2/4      2      1/4   \n",
       "            6    -5    61      2      1    NaN     2/4      2      1/4   \n",
       "            7    -4    68      1      2    NaN     2/4      2      1/4   \n",
       "            8    -5    73      1      1    NaN     2/4      2      1/4   \n",
       "            9    -1    65      1      2    NaN     2/4  2.1/2      1/4   \n",
       "            10   -4    44      2      1    NaN     2/4      1      1/4   \n",
       "\n",
       "               note_names  octaves  beat subbeat  \n",
       "id  section ix                                    \n",
       "424 0       0          Db        3     1       0  \n",
       "            1           F        5     1       0  \n",
       "            2           F        5     1       0  \n",
       "            3           F        4     1     1/2  \n",
       "            4           F        3     2       0  \n",
       "            5          Ab        3     2       0  \n",
       "            6          Db        4     2       0  \n",
       "            7          Ab        4     2       0  \n",
       "            8          Db        5     2       0  \n",
       "            9           F        4     2     1/2  \n",
       "            10         Ab        2     1       0  "
      ]
     },
     "execution_count": 226,
     "metadata": {},
     "output_type": "execute_result"
    }
   ],
   "source": [
    "note_list = jh.read_note_list(os.path.join(data_tsv, 'note_list_expanded.tsv'), index_col=[0,1,2])\n",
    "note_list.loc[[424]].iloc[:11]"
   ]
  },
  {
   "cell_type": "markdown",
   "metadata": {},
   "source": [
    "#### Hints for music notation agnostics\n",
    "This section briefly explains some of the main elements that music scores contain. Please compare the explanations with the example score above.\n",
    ">The words '**measure**' and '**bar**' can be used interchangeably. Measures are separated by vertical bar lines designating music chunks of equal length. They also give information about the temporal hierarchy of the notes, with the ones directly after the bar line generally being the most accented.\n",
    "\n",
    ">Note that MuseScore XML files contain one \\<Measure\\> node for every bar line and that we address these units with running numbers starting at zero which we call **measure counts (mc)**. The **measure numbers (mn)**, however, are those that are displayed/printed in the score. Since, say, a measure of length 3/4 (see `time signature`) can be split into two measures with irregular length for musical and notational conventions, measure numbers frequently span multiple measure counts and had to be computed by the parser following the usual conventions.\n",
    "\n",
    ">A **staff** (pl. 'staves') is a set of usually five horizontal lines where the positioning of note heads on or between lines determines their pitch, i.e. their vertical position in terms of note name and octave.\n",
    "\n",
    ">A **clef** determines which line represents which pitch.\n",
    "\n",
    ">A **key signature** (`KeySig`) further specifies the exact pitches and reveals information as to which `key` the piece is in. A key could be defined as a hierarchy between the occurring pitches. In the example figure above, the `KeySig` of 5 $\\flat$ means that the key of this piece is either D$\\flat$ major or B$\\flat$ minor and that the pitches B, E, A, D, G have to be lowered throughout the piece. Lowering ($\\flat$) or raising ($\\sharp$) a pitch can be understood as playing the pitch just below or just above, often resulting on the piano in playing the neighbouring black key instead of a white key.\n",
    "\n",
    "<img src=\"report/keyboard_tpc.png\" alt=\"keyboard\" style=\"width: 600px;\"/>\n",
    "\n",
    "_Fig. showing one octave on a piano keyboard and the most common pitch names together with their tonal pitch class `tpc`. If you consider the leftmost C as the middle C on the piano, C4, then these keys would have the `midi` numbers 60-72_\n",
    "\n",
    ">A **time signature** (`TimeSig`) stipulates the measure length and the [metre](https://en.wikipedia.org/wiki/Metre_(music)), which is the information which onset positions ('beats') are most important. In our data set, the only time signatures are 2/4 (2 quarter notes per measure, 'double meter') and 3/4 (3 quarter notes per measure, 'triple meter').\n",
    "\n",
    ">**Dynamic** markings contain information on how loud something is to be played.\n",
    "\n",
    ">**Slurs** reveal phrasing information, meaning which parts of the music are to be thought of and played as units."
   ]
  },
  {
   "cell_type": "markdown",
   "metadata": {},
   "source": [
    "## Research questions and hypotheses\n",
    "\n",
    "With our statistical investigation we hope to open a window into the past: what did listeners expect of appealing dance-like music, and did different dance types correspond to different musical features or just to different social perspectives on the same musical features?\n",
    "\n",
    "### Recurring Patterns (JH & SR) \n",
    "\n",
    "**What recurring patterns and regularities make Schubert's dances so intuitively appealing and easy to grasp?** To support our claim that the dances are rather conventional music, we want to show that a large portion of the corpus is made up of just a hand full of recurring patterns. We will investigate the most common patterns on the levels of\n",
    "    * rhythms\n",
    "    * harmonies\n",
    "    * formal sections\n",
    "  \n",
    "### Dance Type Classification (GC & JR) \n",
    "\n",
    "**Are the different dance types musically distinguishable? Which features will a classifier use to most accurately distinguish the different dance types?**\n",
    "\n",
    "Whether the clues that make different dances sound different are hidden in the score or rather in unwritten conventions is an open question: the score does not contain all of the audible properties of a musical performance. However, it is possible that at least some of the audible features that make a dance different from another are represented in the score, and thus in our dataset. Will our machine learning model be able to learn from the score, without any access to the shared social understanding of the music?\n",
    "\n",
    "This task allows for two possible outcomes: If we manage to design features that render possible a satisfying automatic classification through a machine learning algorithm, this would show that the different dance types are indeed characterized by features contained in some way or another in their scores. If, on the other hand, a satisfying classification will not be possible, this can either mean that our approach has shown inadequate or that dance types have been attributed somewhat arbitrarily to quite similar compositions."
   ]
  },
  {
   "cell_type": "markdown",
   "metadata": {},
   "source": [
    "# Recurring patterns\n",
    "\n",
    "## Most common rhythms\n",
    "\n",
    "To get a first overview of the most common rhythms appearing in Schubert's dances, we extract and count the onset patterns of every measure. We define an onset pattern as an ordered list of unique onsets. Consider for example the first measure of the _Walzer D. 924, no. 1_ \n",
    "<img src=\"report/D924walzer01_beginning.png\" alt=\"Drawing\" style=\"width: 200px;\"/>\n",
    "In the left hand, there are only three quarter notes, which corresponds to the onset pattern `[0, 1/4, 1/2]` whereas the right hand also has eight notes and the onset pattern `[0, 1/4, 3/8, 1/2, 5/8]`. The latter is also the onset pattern of the whole measure since it has the more fine-grained onset distribution and the left-hand rhythm only duplicates onsets. Since lists of fractions are unintuitive feature representations, we decided to translate them into rhythmical language by mapping all possible divisions, the **rhythmical atoms**, to syllables as they are frequently used by music pedagogues:\n",
    "![syllables](report/syllables_lettered.png)\n",
    "\n",
    "| pattern | onset pattern                    | length |\n",
    "|---------|:---------------------------------|--------|\n",
    "| A       | [0]                              | 3/4    |\n",
    "| B       | [0]                              | 1/2    |\n",
    "| C       | [0, 3/8]                         | 1/2    |\n",
    "| D       | [0]                              | 1/4    |\n",
    "| E       | [0, 1/8]                         | 1/4    |\n",
    "| F       | [0, 1/16, 1/8, 3/16]             | 1/4    |\n",
    "| G       | [0, 3/16]                        | 1/4    |\n",
    "| H       | [0, 1/32, 1/16, 3/32, 1/8, 7/32] | 1/4    |\n",
    "| I       | [0, 1/12, 1/6]                   | 1/4    |"
   ]
  },
  {
   "cell_type": "markdown",
   "metadata": {},
   "source": [
    "### Most frequent patterns in double meter (2/4)\n",
    "\n",
    "In this plot we show the most frequent onset patterns for all pieces with time signature 2/4 throughout the corpus. The analysis is split into the patterns of entire measures, those within the right and the left hand. The most frequent patterns are very common and rhythmically transparent combinations of the atoms\n",
    "* Tao (Half note)\n",
    "* Ta (Quarter note)\n",
    "* Titi (Two eights)\n",
    "* Tigitigi (Four sixteenths)\n",
    "* Triole (Triplet of eights)\n",
    "\n",
    "Two spikes among the left hand patterns (the slower rhythms TaTa and Tao) show that these are particularly common for the left hand which mostly fulfills an accompagnying function."
   ]
  },
  {
   "cell_type": "code",
   "execution_count": 227,
   "metadata": {
    "scrolled": false
   },
   "outputs": [
    {
     "data": {
      "application/vnd.plotly.v1+json": {
       "config": {
        "linkText": "Export to plot.ly",
        "plotlyServerURL": "https://plot.ly",
        "showLink": true
       },
       "data": [
        {
         "marker": {
          "color": "rgba(226, 74, 51, 0.6)",
          "line": {
           "color": "rgba(226, 74, 51, 1.0)",
           "width": 1
          }
         },
         "name": "overall",
         "orientation": "v",
         "text": "",
         "type": "bar",
         "x": [
          "TitiTiti",
          "TaTa",
          "TaTiti",
          "Ta",
          "TitiTa",
          "Tao",
          "TaTi",
          "TitigiTitigi",
          "TigitigiTiti",
          "TitigiTiti",
          "TaTriole",
          "TigitigiTigitigi",
          "TitigiTigitigi",
          "TrioleTa",
          "TigimTa"
         ],
         "y": [
          427,
          234,
          94,
          67,
          60,
          55,
          37,
          34,
          27,
          20,
          16,
          14,
          13,
          13,
          12
         ]
        },
        {
         "marker": {
          "color": "rgba(62, 111, 176, 0.6)",
          "line": {
           "color": "rgba(62, 111, 176, 1.0)",
           "width": 1
          }
         },
         "name": "right_hand",
         "orientation": "v",
         "text": "",
         "type": "bar",
         "x": [
          "TitiTiti",
          "TaTa",
          "TaTiti",
          "Ta",
          "TitiTa",
          "Tao",
          "TaTi",
          "TitigiTitigi",
          "TigitigiTiti",
          "TitigiTiti",
          "TaTriole",
          "TigitigiTigitigi",
          "TitigiTigitigi",
          "TrioleTa",
          "TigimTa"
         ],
         "y": [
          380,
          207,
          87,
          84,
          63,
          80,
          60,
          9,
          24,
          18,
          16,
          14,
          5,
          2,
          12
         ]
        },
        {
         "marker": {
          "color": "rgba(132, 118, 202, 0.6)",
          "line": {
           "color": "rgba(132, 118, 202, 1.0)",
           "width": 1
          }
         },
         "name": "left_hand",
         "orientation": "v",
         "text": "",
         "type": "bar",
         "x": [
          "TitiTiti",
          "TaTa",
          "TaTiti",
          "Ta",
          "TitiTa",
          "Tao",
          "TaTi",
          "TitigiTitigi",
          "TigitigiTiti",
          "TitigiTiti",
          "TaTriole",
          "TigitigiTigitigi",
          "TitigiTigitigi",
          "TrioleTa",
          "TigimTa"
         ],
         "y": [
          203,
          598,
          34,
          88,
          48,
          151,
          34,
          1,
          "",
          2,
          2,
          "",
          "",
          "",
          ""
         ]
        }
       ],
       "layout": {
        "template": {
         "data": {
          "bar": [
           {
            "error_x": {
             "color": "#2a3f5f"
            },
            "error_y": {
             "color": "#2a3f5f"
            },
            "marker": {
             "line": {
              "color": "#E5ECF6",
              "width": 0.5
             }
            },
            "type": "bar"
           }
          ],
          "barpolar": [
           {
            "marker": {
             "line": {
              "color": "#E5ECF6",
              "width": 0.5
             }
            },
            "type": "barpolar"
           }
          ],
          "carpet": [
           {
            "aaxis": {
             "endlinecolor": "#2a3f5f",
             "gridcolor": "white",
             "linecolor": "white",
             "minorgridcolor": "white",
             "startlinecolor": "#2a3f5f"
            },
            "baxis": {
             "endlinecolor": "#2a3f5f",
             "gridcolor": "white",
             "linecolor": "white",
             "minorgridcolor": "white",
             "startlinecolor": "#2a3f5f"
            },
            "type": "carpet"
           }
          ],
          "choropleth": [
           {
            "colorbar": {
             "outlinewidth": 0,
             "ticks": ""
            },
            "type": "choropleth"
           }
          ],
          "contour": [
           {
            "colorbar": {
             "outlinewidth": 0,
             "ticks": ""
            },
            "colorscale": [
             [
              0,
              "#0d0887"
             ],
             [
              0.1111111111111111,
              "#46039f"
             ],
             [
              0.2222222222222222,
              "#7201a8"
             ],
             [
              0.3333333333333333,
              "#9c179e"
             ],
             [
              0.4444444444444444,
              "#bd3786"
             ],
             [
              0.5555555555555556,
              "#d8576b"
             ],
             [
              0.6666666666666666,
              "#ed7953"
             ],
             [
              0.7777777777777778,
              "#fb9f3a"
             ],
             [
              0.8888888888888888,
              "#fdca26"
             ],
             [
              1,
              "#f0f921"
             ]
            ],
            "type": "contour"
           }
          ],
          "contourcarpet": [
           {
            "colorbar": {
             "outlinewidth": 0,
             "ticks": ""
            },
            "type": "contourcarpet"
           }
          ],
          "heatmap": [
           {
            "colorbar": {
             "outlinewidth": 0,
             "ticks": ""
            },
            "colorscale": [
             [
              0,
              "#0d0887"
             ],
             [
              0.1111111111111111,
              "#46039f"
             ],
             [
              0.2222222222222222,
              "#7201a8"
             ],
             [
              0.3333333333333333,
              "#9c179e"
             ],
             [
              0.4444444444444444,
              "#bd3786"
             ],
             [
              0.5555555555555556,
              "#d8576b"
             ],
             [
              0.6666666666666666,
              "#ed7953"
             ],
             [
              0.7777777777777778,
              "#fb9f3a"
             ],
             [
              0.8888888888888888,
              "#fdca26"
             ],
             [
              1,
              "#f0f921"
             ]
            ],
            "type": "heatmap"
           }
          ],
          "heatmapgl": [
           {
            "colorbar": {
             "outlinewidth": 0,
             "ticks": ""
            },
            "colorscale": [
             [
              0,
              "#0d0887"
             ],
             [
              0.1111111111111111,
              "#46039f"
             ],
             [
              0.2222222222222222,
              "#7201a8"
             ],
             [
              0.3333333333333333,
              "#9c179e"
             ],
             [
              0.4444444444444444,
              "#bd3786"
             ],
             [
              0.5555555555555556,
              "#d8576b"
             ],
             [
              0.6666666666666666,
              "#ed7953"
             ],
             [
              0.7777777777777778,
              "#fb9f3a"
             ],
             [
              0.8888888888888888,
              "#fdca26"
             ],
             [
              1,
              "#f0f921"
             ]
            ],
            "type": "heatmapgl"
           }
          ],
          "histogram": [
           {
            "marker": {
             "colorbar": {
              "outlinewidth": 0,
              "ticks": ""
             }
            },
            "type": "histogram"
           }
          ],
          "histogram2d": [
           {
            "colorbar": {
             "outlinewidth": 0,
             "ticks": ""
            },
            "colorscale": [
             [
              0,
              "#0d0887"
             ],
             [
              0.1111111111111111,
              "#46039f"
             ],
             [
              0.2222222222222222,
              "#7201a8"
             ],
             [
              0.3333333333333333,
              "#9c179e"
             ],
             [
              0.4444444444444444,
              "#bd3786"
             ],
             [
              0.5555555555555556,
              "#d8576b"
             ],
             [
              0.6666666666666666,
              "#ed7953"
             ],
             [
              0.7777777777777778,
              "#fb9f3a"
             ],
             [
              0.8888888888888888,
              "#fdca26"
             ],
             [
              1,
              "#f0f921"
             ]
            ],
            "type": "histogram2d"
           }
          ],
          "histogram2dcontour": [
           {
            "colorbar": {
             "outlinewidth": 0,
             "ticks": ""
            },
            "colorscale": [
             [
              0,
              "#0d0887"
             ],
             [
              0.1111111111111111,
              "#46039f"
             ],
             [
              0.2222222222222222,
              "#7201a8"
             ],
             [
              0.3333333333333333,
              "#9c179e"
             ],
             [
              0.4444444444444444,
              "#bd3786"
             ],
             [
              0.5555555555555556,
              "#d8576b"
             ],
             [
              0.6666666666666666,
              "#ed7953"
             ],
             [
              0.7777777777777778,
              "#fb9f3a"
             ],
             [
              0.8888888888888888,
              "#fdca26"
             ],
             [
              1,
              "#f0f921"
             ]
            ],
            "type": "histogram2dcontour"
           }
          ],
          "mesh3d": [
           {
            "colorbar": {
             "outlinewidth": 0,
             "ticks": ""
            },
            "type": "mesh3d"
           }
          ],
          "parcoords": [
           {
            "line": {
             "colorbar": {
              "outlinewidth": 0,
              "ticks": ""
             }
            },
            "type": "parcoords"
           }
          ],
          "pie": [
           {
            "automargin": true,
            "type": "pie"
           }
          ],
          "scatter": [
           {
            "marker": {
             "colorbar": {
              "outlinewidth": 0,
              "ticks": ""
             }
            },
            "type": "scatter"
           }
          ],
          "scatter3d": [
           {
            "line": {
             "colorbar": {
              "outlinewidth": 0,
              "ticks": ""
             }
            },
            "marker": {
             "colorbar": {
              "outlinewidth": 0,
              "ticks": ""
             }
            },
            "type": "scatter3d"
           }
          ],
          "scattercarpet": [
           {
            "marker": {
             "colorbar": {
              "outlinewidth": 0,
              "ticks": ""
             }
            },
            "type": "scattercarpet"
           }
          ],
          "scattergeo": [
           {
            "marker": {
             "colorbar": {
              "outlinewidth": 0,
              "ticks": ""
             }
            },
            "type": "scattergeo"
           }
          ],
          "scattergl": [
           {
            "marker": {
             "colorbar": {
              "outlinewidth": 0,
              "ticks": ""
             }
            },
            "type": "scattergl"
           }
          ],
          "scattermapbox": [
           {
            "marker": {
             "colorbar": {
              "outlinewidth": 0,
              "ticks": ""
             }
            },
            "type": "scattermapbox"
           }
          ],
          "scatterpolar": [
           {
            "marker": {
             "colorbar": {
              "outlinewidth": 0,
              "ticks": ""
             }
            },
            "type": "scatterpolar"
           }
          ],
          "scatterpolargl": [
           {
            "marker": {
             "colorbar": {
              "outlinewidth": 0,
              "ticks": ""
             }
            },
            "type": "scatterpolargl"
           }
          ],
          "scatterternary": [
           {
            "marker": {
             "colorbar": {
              "outlinewidth": 0,
              "ticks": ""
             }
            },
            "type": "scatterternary"
           }
          ],
          "surface": [
           {
            "colorbar": {
             "outlinewidth": 0,
             "ticks": ""
            },
            "colorscale": [
             [
              0,
              "#0d0887"
             ],
             [
              0.1111111111111111,
              "#46039f"
             ],
             [
              0.2222222222222222,
              "#7201a8"
             ],
             [
              0.3333333333333333,
              "#9c179e"
             ],
             [
              0.4444444444444444,
              "#bd3786"
             ],
             [
              0.5555555555555556,
              "#d8576b"
             ],
             [
              0.6666666666666666,
              "#ed7953"
             ],
             [
              0.7777777777777778,
              "#fb9f3a"
             ],
             [
              0.8888888888888888,
              "#fdca26"
             ],
             [
              1,
              "#f0f921"
             ]
            ],
            "type": "surface"
           }
          ],
          "table": [
           {
            "cells": {
             "fill": {
              "color": "#EBF0F8"
             },
             "line": {
              "color": "white"
             }
            },
            "header": {
             "fill": {
              "color": "#C8D4E3"
             },
             "line": {
              "color": "white"
             }
            },
            "type": "table"
           }
          ]
         },
         "layout": {
          "annotationdefaults": {
           "arrowcolor": "#2a3f5f",
           "arrowhead": 0,
           "arrowwidth": 1
          },
          "coloraxis": {
           "colorbar": {
            "outlinewidth": 0,
            "ticks": ""
           }
          },
          "colorscale": {
           "diverging": [
            [
             0,
             "#8e0152"
            ],
            [
             0.1,
             "#c51b7d"
            ],
            [
             0.2,
             "#de77ae"
            ],
            [
             0.3,
             "#f1b6da"
            ],
            [
             0.4,
             "#fde0ef"
            ],
            [
             0.5,
             "#f7f7f7"
            ],
            [
             0.6,
             "#e6f5d0"
            ],
            [
             0.7,
             "#b8e186"
            ],
            [
             0.8,
             "#7fbc41"
            ],
            [
             0.9,
             "#4d9221"
            ],
            [
             1,
             "#276419"
            ]
           ],
           "sequential": [
            [
             0,
             "#0d0887"
            ],
            [
             0.1111111111111111,
             "#46039f"
            ],
            [
             0.2222222222222222,
             "#7201a8"
            ],
            [
             0.3333333333333333,
             "#9c179e"
            ],
            [
             0.4444444444444444,
             "#bd3786"
            ],
            [
             0.5555555555555556,
             "#d8576b"
            ],
            [
             0.6666666666666666,
             "#ed7953"
            ],
            [
             0.7777777777777778,
             "#fb9f3a"
            ],
            [
             0.8888888888888888,
             "#fdca26"
            ],
            [
             1,
             "#f0f921"
            ]
           ],
           "sequentialminus": [
            [
             0,
             "#0d0887"
            ],
            [
             0.1111111111111111,
             "#46039f"
            ],
            [
             0.2222222222222222,
             "#7201a8"
            ],
            [
             0.3333333333333333,
             "#9c179e"
            ],
            [
             0.4444444444444444,
             "#bd3786"
            ],
            [
             0.5555555555555556,
             "#d8576b"
            ],
            [
             0.6666666666666666,
             "#ed7953"
            ],
            [
             0.7777777777777778,
             "#fb9f3a"
            ],
            [
             0.8888888888888888,
             "#fdca26"
            ],
            [
             1,
             "#f0f921"
            ]
           ]
          },
          "colorway": [
           "#636efa",
           "#EF553B",
           "#00cc96",
           "#ab63fa",
           "#FFA15A",
           "#19d3f3",
           "#FF6692",
           "#B6E880",
           "#FF97FF",
           "#FECB52"
          ],
          "font": {
           "color": "#2a3f5f"
          },
          "geo": {
           "bgcolor": "white",
           "lakecolor": "white",
           "landcolor": "#E5ECF6",
           "showlakes": true,
           "showland": true,
           "subunitcolor": "white"
          },
          "hoverlabel": {
           "align": "left"
          },
          "hovermode": "closest",
          "mapbox": {
           "style": "light"
          },
          "paper_bgcolor": "white",
          "plot_bgcolor": "#E5ECF6",
          "polar": {
           "angularaxis": {
            "gridcolor": "white",
            "linecolor": "white",
            "ticks": ""
           },
           "bgcolor": "#E5ECF6",
           "radialaxis": {
            "gridcolor": "white",
            "linecolor": "white",
            "ticks": ""
           }
          },
          "scene": {
           "xaxis": {
            "backgroundcolor": "#E5ECF6",
            "gridcolor": "white",
            "gridwidth": 2,
            "linecolor": "white",
            "showbackground": true,
            "ticks": "",
            "zerolinecolor": "white"
           },
           "yaxis": {
            "backgroundcolor": "#E5ECF6",
            "gridcolor": "white",
            "gridwidth": 2,
            "linecolor": "white",
            "showbackground": true,
            "ticks": "",
            "zerolinecolor": "white"
           },
           "zaxis": {
            "backgroundcolor": "#E5ECF6",
            "gridcolor": "white",
            "gridwidth": 2,
            "linecolor": "white",
            "showbackground": true,
            "ticks": "",
            "zerolinecolor": "white"
           }
          },
          "shapedefaults": {
           "line": {
            "color": "#2a3f5f"
           }
          },
          "ternary": {
           "aaxis": {
            "gridcolor": "white",
            "linecolor": "white",
            "ticks": ""
           },
           "baxis": {
            "gridcolor": "white",
            "linecolor": "white",
            "ticks": ""
           },
           "bgcolor": "#E5ECF6",
           "caxis": {
            "gridcolor": "white",
            "linecolor": "white",
            "ticks": ""
           }
          },
          "title": {
           "x": 0.05
          },
          "xaxis": {
           "automargin": true,
           "gridcolor": "white",
           "linecolor": "white",
           "ticks": "",
           "title": {
            "standoff": 15
           },
           "zerolinecolor": "white",
           "zerolinewidth": 2
          },
          "yaxis": {
           "automargin": true,
           "gridcolor": "white",
           "linecolor": "white",
           "ticks": "",
           "title": {
            "standoff": 15
           },
           "zerolinecolor": "white",
           "zerolinewidth": 2
          }
         }
        },
        "title": {
         "text": "Most frequent 2/4 onset patterns throughout the corpus"
        },
        "xaxis": {
         "title": {
          "text": "Onset pattern"
         }
        },
        "yaxis": {
         "title": {
          "text": "Total count"
         },
         "type": "log"
        }
       }
      },
      "text/html": [
       "<div>\n",
       "        \n",
       "        \n",
       "            <div id=\"bcb06a88-1187-46ea-957b-b4f4b4469190\" class=\"plotly-graph-div\" style=\"height:525px; width:100%;\"></div>\n",
       "            <script type=\"text/javascript\">\n",
       "                require([\"plotly\"], function(Plotly) {\n",
       "                    window.PLOTLYENV=window.PLOTLYENV || {};\n",
       "                    window.PLOTLYENV.BASE_URL='https://plot.ly';\n",
       "                    \n",
       "                if (document.getElementById(\"bcb06a88-1187-46ea-957b-b4f4b4469190\")) {\n",
       "                    Plotly.newPlot(\n",
       "                        'bcb06a88-1187-46ea-957b-b4f4b4469190',\n",
       "                        [{\"marker\": {\"color\": \"rgba(226, 74, 51, 0.6)\", \"line\": {\"color\": \"rgba(226, 74, 51, 1.0)\", \"width\": 1}}, \"name\": \"overall\", \"orientation\": \"v\", \"text\": \"\", \"type\": \"bar\", \"x\": [\"TitiTiti\", \"TaTa\", \"TaTiti\", \"Ta\", \"TitiTa\", \"Tao\", \"TaTi\", \"TitigiTitigi\", \"TigitigiTiti\", \"TitigiTiti\", \"TaTriole\", \"TigitigiTigitigi\", \"TitigiTigitigi\", \"TrioleTa\", \"TigimTa\"], \"y\": [427, 234, 94, 67, 60, 55, 37, 34, 27, 20, 16, 14, 13, 13, 12]}, {\"marker\": {\"color\": \"rgba(62, 111, 176, 0.6)\", \"line\": {\"color\": \"rgba(62, 111, 176, 1.0)\", \"width\": 1}}, \"name\": \"right_hand\", \"orientation\": \"v\", \"text\": \"\", \"type\": \"bar\", \"x\": [\"TitiTiti\", \"TaTa\", \"TaTiti\", \"Ta\", \"TitiTa\", \"Tao\", \"TaTi\", \"TitigiTitigi\", \"TigitigiTiti\", \"TitigiTiti\", \"TaTriole\", \"TigitigiTigitigi\", \"TitigiTigitigi\", \"TrioleTa\", \"TigimTa\"], \"y\": [380, 207, 87, 84, 63, 80, 60, 9, 24, 18, 16, 14, 5, 2, 12]}, {\"marker\": {\"color\": \"rgba(132, 118, 202, 0.6)\", \"line\": {\"color\": \"rgba(132, 118, 202, 1.0)\", \"width\": 1}}, \"name\": \"left_hand\", \"orientation\": \"v\", \"text\": \"\", \"type\": \"bar\", \"x\": [\"TitiTiti\", \"TaTa\", \"TaTiti\", \"Ta\", \"TitiTa\", \"Tao\", \"TaTi\", \"TitigiTitigi\", \"TigitigiTiti\", \"TitigiTiti\", \"TaTriole\", \"TigitigiTigitigi\", \"TitigiTigitigi\", \"TrioleTa\", \"TigimTa\"], \"y\": [203.0, 598.0, 34.0, 88.0, 48.0, 151.0, 34.0, 1.0, \"\", 2.0, 2.0, \"\", \"\", \"\", \"\"]}],\n",
       "                        {\"template\": {\"data\": {\"bar\": [{\"error_x\": {\"color\": \"#2a3f5f\"}, \"error_y\": {\"color\": \"#2a3f5f\"}, \"marker\": {\"line\": {\"color\": \"#E5ECF6\", \"width\": 0.5}}, \"type\": \"bar\"}], \"barpolar\": [{\"marker\": {\"line\": {\"color\": \"#E5ECF6\", \"width\": 0.5}}, \"type\": \"barpolar\"}], \"carpet\": [{\"aaxis\": {\"endlinecolor\": \"#2a3f5f\", \"gridcolor\": \"white\", \"linecolor\": \"white\", \"minorgridcolor\": \"white\", \"startlinecolor\": \"#2a3f5f\"}, \"baxis\": {\"endlinecolor\": \"#2a3f5f\", \"gridcolor\": \"white\", \"linecolor\": \"white\", \"minorgridcolor\": \"white\", \"startlinecolor\": \"#2a3f5f\"}, \"type\": \"carpet\"}], \"choropleth\": [{\"colorbar\": {\"outlinewidth\": 0, \"ticks\": \"\"}, \"type\": \"choropleth\"}], \"contour\": [{\"colorbar\": {\"outlinewidth\": 0, \"ticks\": \"\"}, \"colorscale\": [[0.0, \"#0d0887\"], [0.1111111111111111, \"#46039f\"], [0.2222222222222222, \"#7201a8\"], [0.3333333333333333, \"#9c179e\"], [0.4444444444444444, \"#bd3786\"], [0.5555555555555556, \"#d8576b\"], [0.6666666666666666, \"#ed7953\"], [0.7777777777777778, \"#fb9f3a\"], [0.8888888888888888, \"#fdca26\"], [1.0, \"#f0f921\"]], \"type\": \"contour\"}], \"contourcarpet\": [{\"colorbar\": {\"outlinewidth\": 0, \"ticks\": \"\"}, \"type\": \"contourcarpet\"}], \"heatmap\": [{\"colorbar\": {\"outlinewidth\": 0, \"ticks\": \"\"}, \"colorscale\": [[0.0, \"#0d0887\"], [0.1111111111111111, \"#46039f\"], [0.2222222222222222, \"#7201a8\"], [0.3333333333333333, \"#9c179e\"], [0.4444444444444444, \"#bd3786\"], [0.5555555555555556, \"#d8576b\"], [0.6666666666666666, \"#ed7953\"], [0.7777777777777778, \"#fb9f3a\"], [0.8888888888888888, \"#fdca26\"], [1.0, \"#f0f921\"]], \"type\": \"heatmap\"}], \"heatmapgl\": [{\"colorbar\": {\"outlinewidth\": 0, \"ticks\": \"\"}, \"colorscale\": [[0.0, \"#0d0887\"], [0.1111111111111111, \"#46039f\"], [0.2222222222222222, \"#7201a8\"], [0.3333333333333333, \"#9c179e\"], [0.4444444444444444, \"#bd3786\"], [0.5555555555555556, \"#d8576b\"], [0.6666666666666666, \"#ed7953\"], [0.7777777777777778, \"#fb9f3a\"], [0.8888888888888888, \"#fdca26\"], [1.0, \"#f0f921\"]], \"type\": \"heatmapgl\"}], \"histogram\": [{\"marker\": {\"colorbar\": {\"outlinewidth\": 0, \"ticks\": \"\"}}, \"type\": \"histogram\"}], \"histogram2d\": [{\"colorbar\": {\"outlinewidth\": 0, \"ticks\": \"\"}, \"colorscale\": [[0.0, \"#0d0887\"], [0.1111111111111111, \"#46039f\"], [0.2222222222222222, \"#7201a8\"], [0.3333333333333333, \"#9c179e\"], [0.4444444444444444, \"#bd3786\"], [0.5555555555555556, \"#d8576b\"], [0.6666666666666666, \"#ed7953\"], [0.7777777777777778, \"#fb9f3a\"], [0.8888888888888888, \"#fdca26\"], [1.0, \"#f0f921\"]], \"type\": \"histogram2d\"}], \"histogram2dcontour\": [{\"colorbar\": {\"outlinewidth\": 0, \"ticks\": \"\"}, \"colorscale\": [[0.0, \"#0d0887\"], [0.1111111111111111, \"#46039f\"], [0.2222222222222222, \"#7201a8\"], [0.3333333333333333, \"#9c179e\"], [0.4444444444444444, \"#bd3786\"], [0.5555555555555556, \"#d8576b\"], [0.6666666666666666, \"#ed7953\"], [0.7777777777777778, \"#fb9f3a\"], [0.8888888888888888, \"#fdca26\"], [1.0, \"#f0f921\"]], \"type\": \"histogram2dcontour\"}], \"mesh3d\": [{\"colorbar\": {\"outlinewidth\": 0, \"ticks\": \"\"}, \"type\": \"mesh3d\"}], \"parcoords\": [{\"line\": {\"colorbar\": {\"outlinewidth\": 0, \"ticks\": \"\"}}, \"type\": \"parcoords\"}], \"pie\": [{\"automargin\": true, \"type\": \"pie\"}], \"scatter\": [{\"marker\": {\"colorbar\": {\"outlinewidth\": 0, \"ticks\": \"\"}}, \"type\": \"scatter\"}], \"scatter3d\": [{\"line\": {\"colorbar\": {\"outlinewidth\": 0, \"ticks\": \"\"}}, \"marker\": {\"colorbar\": {\"outlinewidth\": 0, \"ticks\": \"\"}}, \"type\": \"scatter3d\"}], \"scattercarpet\": [{\"marker\": {\"colorbar\": {\"outlinewidth\": 0, \"ticks\": \"\"}}, \"type\": \"scattercarpet\"}], \"scattergeo\": [{\"marker\": {\"colorbar\": {\"outlinewidth\": 0, \"ticks\": \"\"}}, \"type\": \"scattergeo\"}], \"scattergl\": [{\"marker\": {\"colorbar\": {\"outlinewidth\": 0, \"ticks\": \"\"}}, \"type\": \"scattergl\"}], \"scattermapbox\": [{\"marker\": {\"colorbar\": {\"outlinewidth\": 0, \"ticks\": \"\"}}, \"type\": \"scattermapbox\"}], \"scatterpolar\": [{\"marker\": {\"colorbar\": {\"outlinewidth\": 0, \"ticks\": \"\"}}, \"type\": \"scatterpolar\"}], \"scatterpolargl\": [{\"marker\": {\"colorbar\": {\"outlinewidth\": 0, \"ticks\": \"\"}}, \"type\": \"scatterpolargl\"}], \"scatterternary\": [{\"marker\": {\"colorbar\": {\"outlinewidth\": 0, \"ticks\": \"\"}}, \"type\": \"scatterternary\"}], \"surface\": [{\"colorbar\": {\"outlinewidth\": 0, \"ticks\": \"\"}, \"colorscale\": [[0.0, \"#0d0887\"], [0.1111111111111111, \"#46039f\"], [0.2222222222222222, \"#7201a8\"], [0.3333333333333333, \"#9c179e\"], [0.4444444444444444, \"#bd3786\"], [0.5555555555555556, \"#d8576b\"], [0.6666666666666666, \"#ed7953\"], [0.7777777777777778, \"#fb9f3a\"], [0.8888888888888888, \"#fdca26\"], [1.0, \"#f0f921\"]], \"type\": \"surface\"}], \"table\": [{\"cells\": {\"fill\": {\"color\": \"#EBF0F8\"}, \"line\": {\"color\": \"white\"}}, \"header\": {\"fill\": {\"color\": \"#C8D4E3\"}, \"line\": {\"color\": \"white\"}}, \"type\": \"table\"}]}, \"layout\": {\"annotationdefaults\": {\"arrowcolor\": \"#2a3f5f\", \"arrowhead\": 0, \"arrowwidth\": 1}, \"coloraxis\": {\"colorbar\": {\"outlinewidth\": 0, \"ticks\": \"\"}}, \"colorscale\": {\"diverging\": [[0, \"#8e0152\"], [0.1, \"#c51b7d\"], [0.2, \"#de77ae\"], [0.3, \"#f1b6da\"], [0.4, \"#fde0ef\"], [0.5, \"#f7f7f7\"], [0.6, \"#e6f5d0\"], [0.7, \"#b8e186\"], [0.8, \"#7fbc41\"], [0.9, \"#4d9221\"], [1, \"#276419\"]], \"sequential\": [[0.0, \"#0d0887\"], [0.1111111111111111, \"#46039f\"], [0.2222222222222222, \"#7201a8\"], [0.3333333333333333, \"#9c179e\"], [0.4444444444444444, \"#bd3786\"], [0.5555555555555556, \"#d8576b\"], [0.6666666666666666, \"#ed7953\"], [0.7777777777777778, \"#fb9f3a\"], [0.8888888888888888, \"#fdca26\"], [1.0, \"#f0f921\"]], \"sequentialminus\": [[0.0, \"#0d0887\"], [0.1111111111111111, \"#46039f\"], [0.2222222222222222, \"#7201a8\"], [0.3333333333333333, \"#9c179e\"], [0.4444444444444444, \"#bd3786\"], [0.5555555555555556, \"#d8576b\"], [0.6666666666666666, \"#ed7953\"], [0.7777777777777778, \"#fb9f3a\"], [0.8888888888888888, \"#fdca26\"], [1.0, \"#f0f921\"]]}, \"colorway\": [\"#636efa\", \"#EF553B\", \"#00cc96\", \"#ab63fa\", \"#FFA15A\", \"#19d3f3\", \"#FF6692\", \"#B6E880\", \"#FF97FF\", \"#FECB52\"], \"font\": {\"color\": \"#2a3f5f\"}, \"geo\": {\"bgcolor\": \"white\", \"lakecolor\": \"white\", \"landcolor\": \"#E5ECF6\", \"showlakes\": true, \"showland\": true, \"subunitcolor\": \"white\"}, \"hoverlabel\": {\"align\": \"left\"}, \"hovermode\": \"closest\", \"mapbox\": {\"style\": \"light\"}, \"paper_bgcolor\": \"white\", \"plot_bgcolor\": \"#E5ECF6\", \"polar\": {\"angularaxis\": {\"gridcolor\": \"white\", \"linecolor\": \"white\", \"ticks\": \"\"}, \"bgcolor\": \"#E5ECF6\", \"radialaxis\": {\"gridcolor\": \"white\", \"linecolor\": \"white\", \"ticks\": \"\"}}, \"scene\": {\"xaxis\": {\"backgroundcolor\": \"#E5ECF6\", \"gridcolor\": \"white\", \"gridwidth\": 2, \"linecolor\": \"white\", \"showbackground\": true, \"ticks\": \"\", \"zerolinecolor\": \"white\"}, \"yaxis\": {\"backgroundcolor\": \"#E5ECF6\", \"gridcolor\": \"white\", \"gridwidth\": 2, \"linecolor\": \"white\", \"showbackground\": true, \"ticks\": \"\", \"zerolinecolor\": \"white\"}, \"zaxis\": {\"backgroundcolor\": \"#E5ECF6\", \"gridcolor\": \"white\", \"gridwidth\": 2, \"linecolor\": \"white\", \"showbackground\": true, \"ticks\": \"\", \"zerolinecolor\": \"white\"}}, \"shapedefaults\": {\"line\": {\"color\": \"#2a3f5f\"}}, \"ternary\": {\"aaxis\": {\"gridcolor\": \"white\", \"linecolor\": \"white\", \"ticks\": \"\"}, \"baxis\": {\"gridcolor\": \"white\", \"linecolor\": \"white\", \"ticks\": \"\"}, \"bgcolor\": \"#E5ECF6\", \"caxis\": {\"gridcolor\": \"white\", \"linecolor\": \"white\", \"ticks\": \"\"}}, \"title\": {\"x\": 0.05}, \"xaxis\": {\"automargin\": true, \"gridcolor\": \"white\", \"linecolor\": \"white\", \"ticks\": \"\", \"title\": {\"standoff\": 15}, \"zerolinecolor\": \"white\", \"zerolinewidth\": 2}, \"yaxis\": {\"automargin\": true, \"gridcolor\": \"white\", \"linecolor\": \"white\", \"ticks\": \"\", \"title\": {\"standoff\": 15}, \"zerolinecolor\": \"white\", \"zerolinewidth\": 2}}}, \"title\": {\"text\": \"Most frequent 2/4 onset patterns throughout the corpus\"}, \"xaxis\": {\"title\": {\"text\": \"Onset pattern\"}}, \"yaxis\": {\"title\": {\"text\": \"Total count\"}, \"type\": \"log\"}},\n",
       "                        {\"showLink\": true, \"linkText\": \"Export to plot.ly\", \"plotlyServerURL\": \"https://plot.ly\", \"responsive\": true}\n",
       "                    ).then(function(){\n",
       "                            \n",
       "var gd = document.getElementById('bcb06a88-1187-46ea-957b-b4f4b4469190');\n",
       "var x = new MutationObserver(function (mutations, observer) {{\n",
       "        var display = window.getComputedStyle(gd).display;\n",
       "        if (!display || display === 'none') {{\n",
       "            console.log([gd, 'removed!']);\n",
       "            Plotly.purge(gd);\n",
       "            observer.disconnect();\n",
       "        }}\n",
       "}});\n",
       "\n",
       "// Listen for the removal of the full notebook cells\n",
       "var notebookContainer = gd.closest('#notebook-container');\n",
       "if (notebookContainer) {{\n",
       "    x.observe(notebookContainer, {childList: true});\n",
       "}}\n",
       "\n",
       "// Listen for the clearing of the current output cell\n",
       "var outputEl = gd.closest('.output');\n",
       "if (outputEl) {{\n",
       "    x.observe(outputEl, {childList: true});\n",
       "}}\n",
       "\n",
       "                        })\n",
       "                };\n",
       "                });\n",
       "            </script>\n",
       "        </div>"
      ]
     },
     "metadata": {},
     "output_type": "display_data"
    }
   ],
   "source": [
    "pd.read_csv(os.path.join(data_tsv, 'onset_pattern_double.tsv'), sep='\\t', index_col=0).iplot('bar', \n",
    "               layout=dict(yaxis={'type': 'log', \n",
    "                                  'title': 'Total count'},\n",
    "                           xaxis={'title': 'Onset pattern'},\n",
    "                           title='Most frequent 2/4 onset patterns throughout the corpus'))"
   ]
  },
  {
   "cell_type": "markdown",
   "metadata": {},
   "source": [
    "### Most frequent rhythms in triple meter (3/4)"
   ]
  },
  {
   "cell_type": "code",
   "execution_count": 228,
   "metadata": {
    "scrolled": false
   },
   "outputs": [
    {
     "data": {
      "application/vnd.plotly.v1+json": {
       "config": {
        "linkText": "Export to plot.ly",
        "plotlyServerURL": "https://plot.ly",
        "showLink": true
       },
       "data": [
        {
         "marker": {
          "color": "rgba(226, 74, 51, 0.6)",
          "line": {
           "color": "rgba(226, 74, 51, 1.0)",
           "width": 1
          }
         },
         "name": "overall",
         "orientation": "v",
         "text": "",
         "type": "bar",
         "x": [
          "TitiTitiTiti",
          "TaTaTa",
          "TaTitiTa",
          "TaTitiTiti",
          "TitiTitiTa",
          "TaTaTiti",
          "TaTa",
          "TitiTaTa",
          "Tao",
          "TaoTa",
          "TaTaTimgi",
          "TaoTiti",
          "TaitiTa",
          "Taoa",
          "TaTao",
          "TaoTimgi",
          "Ta",
          "TaitiTiti"
         ],
         "y": [
          1665,
          1621,
          579,
          506,
          349,
          233,
          224,
          207,
          199,
          166,
          139,
          59,
          45,
          39,
          36,
          30,
          29,
          25
         ]
        },
        {
         "marker": {
          "color": "rgba(62, 111, 176, 0.6)",
          "line": {
           "color": "rgba(62, 111, 176, 1.0)",
           "width": 1
          }
         },
         "name": "right_hand",
         "orientation": "v",
         "text": "",
         "type": "bar",
         "x": [
          "TitiTitiTiti",
          "TaTaTa",
          "TaTitiTa",
          "TaTitiTiti",
          "TitiTitiTa",
          "TaTaTiti",
          "TaTa",
          "TitiTaTa",
          "Tao",
          "TaoTa",
          "TaTaTimgi",
          "TaoTiti",
          "TaitiTa",
          "Taoa",
          "TaTao",
          "TaoTimgi",
          "Ta",
          "TaitiTiti"
         ],
         "y": [
          1376,
          1180,
          341,
          345,
          329,
          139,
          28,
          160,
          377,
          553,
          97,
          162,
          242,
          142,
          93,
          116,
          115,
          233
         ]
        },
        {
         "marker": {
          "color": "rgba(132, 118, 202, 0.6)",
          "line": {
           "color": "rgba(132, 118, 202, 1.0)",
           "width": 1
          }
         },
         "name": "left_hand",
         "orientation": "v",
         "text": "",
         "type": "bar",
         "x": [
          "TitiTitiTiti",
          "TaTaTa",
          "TaTitiTa",
          "TaTitiTiti",
          "TitiTitiTa",
          "TaTaTiti",
          "TaTa",
          "TitiTaTa",
          "Tao",
          "TaoTa",
          "TaTaTimgi",
          "TaoTiti",
          "TaitiTa",
          "Taoa",
          "TaTao",
          "TaoTimgi",
          "Ta",
          "TaitiTiti"
         ],
         "y": [
          479,
          4439,
          119,
          42,
          4,
          16,
          539,
          22,
          334,
          511,
          26,
          30,
          17,
          100,
          132,
          40,
          70,
          43
         ]
        }
       ],
       "layout": {
        "template": {
         "data": {
          "bar": [
           {
            "error_x": {
             "color": "#2a3f5f"
            },
            "error_y": {
             "color": "#2a3f5f"
            },
            "marker": {
             "line": {
              "color": "#E5ECF6",
              "width": 0.5
             }
            },
            "type": "bar"
           }
          ],
          "barpolar": [
           {
            "marker": {
             "line": {
              "color": "#E5ECF6",
              "width": 0.5
             }
            },
            "type": "barpolar"
           }
          ],
          "carpet": [
           {
            "aaxis": {
             "endlinecolor": "#2a3f5f",
             "gridcolor": "white",
             "linecolor": "white",
             "minorgridcolor": "white",
             "startlinecolor": "#2a3f5f"
            },
            "baxis": {
             "endlinecolor": "#2a3f5f",
             "gridcolor": "white",
             "linecolor": "white",
             "minorgridcolor": "white",
             "startlinecolor": "#2a3f5f"
            },
            "type": "carpet"
           }
          ],
          "choropleth": [
           {
            "colorbar": {
             "outlinewidth": 0,
             "ticks": ""
            },
            "type": "choropleth"
           }
          ],
          "contour": [
           {
            "colorbar": {
             "outlinewidth": 0,
             "ticks": ""
            },
            "colorscale": [
             [
              0,
              "#0d0887"
             ],
             [
              0.1111111111111111,
              "#46039f"
             ],
             [
              0.2222222222222222,
              "#7201a8"
             ],
             [
              0.3333333333333333,
              "#9c179e"
             ],
             [
              0.4444444444444444,
              "#bd3786"
             ],
             [
              0.5555555555555556,
              "#d8576b"
             ],
             [
              0.6666666666666666,
              "#ed7953"
             ],
             [
              0.7777777777777778,
              "#fb9f3a"
             ],
             [
              0.8888888888888888,
              "#fdca26"
             ],
             [
              1,
              "#f0f921"
             ]
            ],
            "type": "contour"
           }
          ],
          "contourcarpet": [
           {
            "colorbar": {
             "outlinewidth": 0,
             "ticks": ""
            },
            "type": "contourcarpet"
           }
          ],
          "heatmap": [
           {
            "colorbar": {
             "outlinewidth": 0,
             "ticks": ""
            },
            "colorscale": [
             [
              0,
              "#0d0887"
             ],
             [
              0.1111111111111111,
              "#46039f"
             ],
             [
              0.2222222222222222,
              "#7201a8"
             ],
             [
              0.3333333333333333,
              "#9c179e"
             ],
             [
              0.4444444444444444,
              "#bd3786"
             ],
             [
              0.5555555555555556,
              "#d8576b"
             ],
             [
              0.6666666666666666,
              "#ed7953"
             ],
             [
              0.7777777777777778,
              "#fb9f3a"
             ],
             [
              0.8888888888888888,
              "#fdca26"
             ],
             [
              1,
              "#f0f921"
             ]
            ],
            "type": "heatmap"
           }
          ],
          "heatmapgl": [
           {
            "colorbar": {
             "outlinewidth": 0,
             "ticks": ""
            },
            "colorscale": [
             [
              0,
              "#0d0887"
             ],
             [
              0.1111111111111111,
              "#46039f"
             ],
             [
              0.2222222222222222,
              "#7201a8"
             ],
             [
              0.3333333333333333,
              "#9c179e"
             ],
             [
              0.4444444444444444,
              "#bd3786"
             ],
             [
              0.5555555555555556,
              "#d8576b"
             ],
             [
              0.6666666666666666,
              "#ed7953"
             ],
             [
              0.7777777777777778,
              "#fb9f3a"
             ],
             [
              0.8888888888888888,
              "#fdca26"
             ],
             [
              1,
              "#f0f921"
             ]
            ],
            "type": "heatmapgl"
           }
          ],
          "histogram": [
           {
            "marker": {
             "colorbar": {
              "outlinewidth": 0,
              "ticks": ""
             }
            },
            "type": "histogram"
           }
          ],
          "histogram2d": [
           {
            "colorbar": {
             "outlinewidth": 0,
             "ticks": ""
            },
            "colorscale": [
             [
              0,
              "#0d0887"
             ],
             [
              0.1111111111111111,
              "#46039f"
             ],
             [
              0.2222222222222222,
              "#7201a8"
             ],
             [
              0.3333333333333333,
              "#9c179e"
             ],
             [
              0.4444444444444444,
              "#bd3786"
             ],
             [
              0.5555555555555556,
              "#d8576b"
             ],
             [
              0.6666666666666666,
              "#ed7953"
             ],
             [
              0.7777777777777778,
              "#fb9f3a"
             ],
             [
              0.8888888888888888,
              "#fdca26"
             ],
             [
              1,
              "#f0f921"
             ]
            ],
            "type": "histogram2d"
           }
          ],
          "histogram2dcontour": [
           {
            "colorbar": {
             "outlinewidth": 0,
             "ticks": ""
            },
            "colorscale": [
             [
              0,
              "#0d0887"
             ],
             [
              0.1111111111111111,
              "#46039f"
             ],
             [
              0.2222222222222222,
              "#7201a8"
             ],
             [
              0.3333333333333333,
              "#9c179e"
             ],
             [
              0.4444444444444444,
              "#bd3786"
             ],
             [
              0.5555555555555556,
              "#d8576b"
             ],
             [
              0.6666666666666666,
              "#ed7953"
             ],
             [
              0.7777777777777778,
              "#fb9f3a"
             ],
             [
              0.8888888888888888,
              "#fdca26"
             ],
             [
              1,
              "#f0f921"
             ]
            ],
            "type": "histogram2dcontour"
           }
          ],
          "mesh3d": [
           {
            "colorbar": {
             "outlinewidth": 0,
             "ticks": ""
            },
            "type": "mesh3d"
           }
          ],
          "parcoords": [
           {
            "line": {
             "colorbar": {
              "outlinewidth": 0,
              "ticks": ""
             }
            },
            "type": "parcoords"
           }
          ],
          "pie": [
           {
            "automargin": true,
            "type": "pie"
           }
          ],
          "scatter": [
           {
            "marker": {
             "colorbar": {
              "outlinewidth": 0,
              "ticks": ""
             }
            },
            "type": "scatter"
           }
          ],
          "scatter3d": [
           {
            "line": {
             "colorbar": {
              "outlinewidth": 0,
              "ticks": ""
             }
            },
            "marker": {
             "colorbar": {
              "outlinewidth": 0,
              "ticks": ""
             }
            },
            "type": "scatter3d"
           }
          ],
          "scattercarpet": [
           {
            "marker": {
             "colorbar": {
              "outlinewidth": 0,
              "ticks": ""
             }
            },
            "type": "scattercarpet"
           }
          ],
          "scattergeo": [
           {
            "marker": {
             "colorbar": {
              "outlinewidth": 0,
              "ticks": ""
             }
            },
            "type": "scattergeo"
           }
          ],
          "scattergl": [
           {
            "marker": {
             "colorbar": {
              "outlinewidth": 0,
              "ticks": ""
             }
            },
            "type": "scattergl"
           }
          ],
          "scattermapbox": [
           {
            "marker": {
             "colorbar": {
              "outlinewidth": 0,
              "ticks": ""
             }
            },
            "type": "scattermapbox"
           }
          ],
          "scatterpolar": [
           {
            "marker": {
             "colorbar": {
              "outlinewidth": 0,
              "ticks": ""
             }
            },
            "type": "scatterpolar"
           }
          ],
          "scatterpolargl": [
           {
            "marker": {
             "colorbar": {
              "outlinewidth": 0,
              "ticks": ""
             }
            },
            "type": "scatterpolargl"
           }
          ],
          "scatterternary": [
           {
            "marker": {
             "colorbar": {
              "outlinewidth": 0,
              "ticks": ""
             }
            },
            "type": "scatterternary"
           }
          ],
          "surface": [
           {
            "colorbar": {
             "outlinewidth": 0,
             "ticks": ""
            },
            "colorscale": [
             [
              0,
              "#0d0887"
             ],
             [
              0.1111111111111111,
              "#46039f"
             ],
             [
              0.2222222222222222,
              "#7201a8"
             ],
             [
              0.3333333333333333,
              "#9c179e"
             ],
             [
              0.4444444444444444,
              "#bd3786"
             ],
             [
              0.5555555555555556,
              "#d8576b"
             ],
             [
              0.6666666666666666,
              "#ed7953"
             ],
             [
              0.7777777777777778,
              "#fb9f3a"
             ],
             [
              0.8888888888888888,
              "#fdca26"
             ],
             [
              1,
              "#f0f921"
             ]
            ],
            "type": "surface"
           }
          ],
          "table": [
           {
            "cells": {
             "fill": {
              "color": "#EBF0F8"
             },
             "line": {
              "color": "white"
             }
            },
            "header": {
             "fill": {
              "color": "#C8D4E3"
             },
             "line": {
              "color": "white"
             }
            },
            "type": "table"
           }
          ]
         },
         "layout": {
          "annotationdefaults": {
           "arrowcolor": "#2a3f5f",
           "arrowhead": 0,
           "arrowwidth": 1
          },
          "coloraxis": {
           "colorbar": {
            "outlinewidth": 0,
            "ticks": ""
           }
          },
          "colorscale": {
           "diverging": [
            [
             0,
             "#8e0152"
            ],
            [
             0.1,
             "#c51b7d"
            ],
            [
             0.2,
             "#de77ae"
            ],
            [
             0.3,
             "#f1b6da"
            ],
            [
             0.4,
             "#fde0ef"
            ],
            [
             0.5,
             "#f7f7f7"
            ],
            [
             0.6,
             "#e6f5d0"
            ],
            [
             0.7,
             "#b8e186"
            ],
            [
             0.8,
             "#7fbc41"
            ],
            [
             0.9,
             "#4d9221"
            ],
            [
             1,
             "#276419"
            ]
           ],
           "sequential": [
            [
             0,
             "#0d0887"
            ],
            [
             0.1111111111111111,
             "#46039f"
            ],
            [
             0.2222222222222222,
             "#7201a8"
            ],
            [
             0.3333333333333333,
             "#9c179e"
            ],
            [
             0.4444444444444444,
             "#bd3786"
            ],
            [
             0.5555555555555556,
             "#d8576b"
            ],
            [
             0.6666666666666666,
             "#ed7953"
            ],
            [
             0.7777777777777778,
             "#fb9f3a"
            ],
            [
             0.8888888888888888,
             "#fdca26"
            ],
            [
             1,
             "#f0f921"
            ]
           ],
           "sequentialminus": [
            [
             0,
             "#0d0887"
            ],
            [
             0.1111111111111111,
             "#46039f"
            ],
            [
             0.2222222222222222,
             "#7201a8"
            ],
            [
             0.3333333333333333,
             "#9c179e"
            ],
            [
             0.4444444444444444,
             "#bd3786"
            ],
            [
             0.5555555555555556,
             "#d8576b"
            ],
            [
             0.6666666666666666,
             "#ed7953"
            ],
            [
             0.7777777777777778,
             "#fb9f3a"
            ],
            [
             0.8888888888888888,
             "#fdca26"
            ],
            [
             1,
             "#f0f921"
            ]
           ]
          },
          "colorway": [
           "#636efa",
           "#EF553B",
           "#00cc96",
           "#ab63fa",
           "#FFA15A",
           "#19d3f3",
           "#FF6692",
           "#B6E880",
           "#FF97FF",
           "#FECB52"
          ],
          "font": {
           "color": "#2a3f5f"
          },
          "geo": {
           "bgcolor": "white",
           "lakecolor": "white",
           "landcolor": "#E5ECF6",
           "showlakes": true,
           "showland": true,
           "subunitcolor": "white"
          },
          "hoverlabel": {
           "align": "left"
          },
          "hovermode": "closest",
          "mapbox": {
           "style": "light"
          },
          "paper_bgcolor": "white",
          "plot_bgcolor": "#E5ECF6",
          "polar": {
           "angularaxis": {
            "gridcolor": "white",
            "linecolor": "white",
            "ticks": ""
           },
           "bgcolor": "#E5ECF6",
           "radialaxis": {
            "gridcolor": "white",
            "linecolor": "white",
            "ticks": ""
           }
          },
          "scene": {
           "xaxis": {
            "backgroundcolor": "#E5ECF6",
            "gridcolor": "white",
            "gridwidth": 2,
            "linecolor": "white",
            "showbackground": true,
            "ticks": "",
            "zerolinecolor": "white"
           },
           "yaxis": {
            "backgroundcolor": "#E5ECF6",
            "gridcolor": "white",
            "gridwidth": 2,
            "linecolor": "white",
            "showbackground": true,
            "ticks": "",
            "zerolinecolor": "white"
           },
           "zaxis": {
            "backgroundcolor": "#E5ECF6",
            "gridcolor": "white",
            "gridwidth": 2,
            "linecolor": "white",
            "showbackground": true,
            "ticks": "",
            "zerolinecolor": "white"
           }
          },
          "shapedefaults": {
           "line": {
            "color": "#2a3f5f"
           }
          },
          "ternary": {
           "aaxis": {
            "gridcolor": "white",
            "linecolor": "white",
            "ticks": ""
           },
           "baxis": {
            "gridcolor": "white",
            "linecolor": "white",
            "ticks": ""
           },
           "bgcolor": "#E5ECF6",
           "caxis": {
            "gridcolor": "white",
            "linecolor": "white",
            "ticks": ""
           }
          },
          "title": {
           "x": 0.05
          },
          "xaxis": {
           "automargin": true,
           "gridcolor": "white",
           "linecolor": "white",
           "ticks": "",
           "title": {
            "standoff": 15
           },
           "zerolinecolor": "white",
           "zerolinewidth": 2
          },
          "yaxis": {
           "automargin": true,
           "gridcolor": "white",
           "linecolor": "white",
           "ticks": "",
           "title": {
            "standoff": 15
           },
           "zerolinecolor": "white",
           "zerolinewidth": 2
          }
         }
        },
        "title": {
         "text": "Most frequent 3/4 onset patterns throughout the corpus"
        },
        "xaxis": {
         "title": {
          "text": "Onset pattern"
         }
        },
        "yaxis": {
         "title": {
          "text": "Total count"
         },
         "type": "log"
        }
       }
      },
      "text/html": [
       "<div>\n",
       "        \n",
       "        \n",
       "            <div id=\"0b0ec46b-5ce7-439c-83d0-8324671f3725\" class=\"plotly-graph-div\" style=\"height:525px; width:100%;\"></div>\n",
       "            <script type=\"text/javascript\">\n",
       "                require([\"plotly\"], function(Plotly) {\n",
       "                    window.PLOTLYENV=window.PLOTLYENV || {};\n",
       "                    window.PLOTLYENV.BASE_URL='https://plot.ly';\n",
       "                    \n",
       "                if (document.getElementById(\"0b0ec46b-5ce7-439c-83d0-8324671f3725\")) {\n",
       "                    Plotly.newPlot(\n",
       "                        '0b0ec46b-5ce7-439c-83d0-8324671f3725',\n",
       "                        [{\"marker\": {\"color\": \"rgba(226, 74, 51, 0.6)\", \"line\": {\"color\": \"rgba(226, 74, 51, 1.0)\", \"width\": 1}}, \"name\": \"overall\", \"orientation\": \"v\", \"text\": \"\", \"type\": \"bar\", \"x\": [\"TitiTitiTiti\", \"TaTaTa\", \"TaTitiTa\", \"TaTitiTiti\", \"TitiTitiTa\", \"TaTaTiti\", \"TaTa\", \"TitiTaTa\", \"Tao\", \"TaoTa\", \"TaTaTimgi\", \"TaoTiti\", \"TaitiTa\", \"Taoa\", \"TaTao\", \"TaoTimgi\", \"Ta\", \"TaitiTiti\"], \"y\": [1665, 1621, 579, 506, 349, 233, 224, 207, 199, 166, 139, 59, 45, 39, 36, 30, 29, 25]}, {\"marker\": {\"color\": \"rgba(62, 111, 176, 0.6)\", \"line\": {\"color\": \"rgba(62, 111, 176, 1.0)\", \"width\": 1}}, \"name\": \"right_hand\", \"orientation\": \"v\", \"text\": \"\", \"type\": \"bar\", \"x\": [\"TitiTitiTiti\", \"TaTaTa\", \"TaTitiTa\", \"TaTitiTiti\", \"TitiTitiTa\", \"TaTaTiti\", \"TaTa\", \"TitiTaTa\", \"Tao\", \"TaoTa\", \"TaTaTimgi\", \"TaoTiti\", \"TaitiTa\", \"Taoa\", \"TaTao\", \"TaoTimgi\", \"Ta\", \"TaitiTiti\"], \"y\": [1376, 1180, 341, 345, 329, 139, 28, 160, 377, 553, 97, 162, 242, 142, 93, 116, 115, 233]}, {\"marker\": {\"color\": \"rgba(132, 118, 202, 0.6)\", \"line\": {\"color\": \"rgba(132, 118, 202, 1.0)\", \"width\": 1}}, \"name\": \"left_hand\", \"orientation\": \"v\", \"text\": \"\", \"type\": \"bar\", \"x\": [\"TitiTitiTiti\", \"TaTaTa\", \"TaTitiTa\", \"TaTitiTiti\", \"TitiTitiTa\", \"TaTaTiti\", \"TaTa\", \"TitiTaTa\", \"Tao\", \"TaoTa\", \"TaTaTimgi\", \"TaoTiti\", \"TaitiTa\", \"Taoa\", \"TaTao\", \"TaoTimgi\", \"Ta\", \"TaitiTiti\"], \"y\": [479, 4439, 119, 42, 4, 16, 539, 22, 334, 511, 26, 30, 17, 100, 132, 40, 70, 43]}],\n",
       "                        {\"template\": {\"data\": {\"bar\": [{\"error_x\": {\"color\": \"#2a3f5f\"}, \"error_y\": {\"color\": \"#2a3f5f\"}, \"marker\": {\"line\": {\"color\": \"#E5ECF6\", \"width\": 0.5}}, \"type\": \"bar\"}], \"barpolar\": [{\"marker\": {\"line\": {\"color\": \"#E5ECF6\", \"width\": 0.5}}, \"type\": \"barpolar\"}], \"carpet\": [{\"aaxis\": {\"endlinecolor\": \"#2a3f5f\", \"gridcolor\": \"white\", \"linecolor\": \"white\", \"minorgridcolor\": \"white\", \"startlinecolor\": \"#2a3f5f\"}, \"baxis\": {\"endlinecolor\": \"#2a3f5f\", \"gridcolor\": \"white\", \"linecolor\": \"white\", \"minorgridcolor\": \"white\", \"startlinecolor\": \"#2a3f5f\"}, \"type\": \"carpet\"}], \"choropleth\": [{\"colorbar\": {\"outlinewidth\": 0, \"ticks\": \"\"}, \"type\": \"choropleth\"}], \"contour\": [{\"colorbar\": {\"outlinewidth\": 0, \"ticks\": \"\"}, \"colorscale\": [[0.0, \"#0d0887\"], [0.1111111111111111, \"#46039f\"], [0.2222222222222222, \"#7201a8\"], [0.3333333333333333, \"#9c179e\"], [0.4444444444444444, \"#bd3786\"], [0.5555555555555556, \"#d8576b\"], [0.6666666666666666, \"#ed7953\"], [0.7777777777777778, \"#fb9f3a\"], [0.8888888888888888, \"#fdca26\"], [1.0, \"#f0f921\"]], \"type\": \"contour\"}], \"contourcarpet\": [{\"colorbar\": {\"outlinewidth\": 0, \"ticks\": \"\"}, \"type\": \"contourcarpet\"}], \"heatmap\": [{\"colorbar\": {\"outlinewidth\": 0, \"ticks\": \"\"}, \"colorscale\": [[0.0, \"#0d0887\"], [0.1111111111111111, \"#46039f\"], [0.2222222222222222, \"#7201a8\"], [0.3333333333333333, \"#9c179e\"], [0.4444444444444444, \"#bd3786\"], [0.5555555555555556, \"#d8576b\"], [0.6666666666666666, \"#ed7953\"], [0.7777777777777778, \"#fb9f3a\"], [0.8888888888888888, \"#fdca26\"], [1.0, \"#f0f921\"]], \"type\": \"heatmap\"}], \"heatmapgl\": [{\"colorbar\": {\"outlinewidth\": 0, \"ticks\": \"\"}, \"colorscale\": [[0.0, \"#0d0887\"], [0.1111111111111111, \"#46039f\"], [0.2222222222222222, \"#7201a8\"], [0.3333333333333333, \"#9c179e\"], [0.4444444444444444, \"#bd3786\"], [0.5555555555555556, \"#d8576b\"], [0.6666666666666666, \"#ed7953\"], [0.7777777777777778, \"#fb9f3a\"], [0.8888888888888888, \"#fdca26\"], [1.0, \"#f0f921\"]], \"type\": \"heatmapgl\"}], \"histogram\": [{\"marker\": {\"colorbar\": {\"outlinewidth\": 0, \"ticks\": \"\"}}, \"type\": \"histogram\"}], \"histogram2d\": [{\"colorbar\": {\"outlinewidth\": 0, \"ticks\": \"\"}, \"colorscale\": [[0.0, \"#0d0887\"], [0.1111111111111111, \"#46039f\"], [0.2222222222222222, \"#7201a8\"], [0.3333333333333333, \"#9c179e\"], [0.4444444444444444, \"#bd3786\"], [0.5555555555555556, \"#d8576b\"], [0.6666666666666666, \"#ed7953\"], [0.7777777777777778, \"#fb9f3a\"], [0.8888888888888888, \"#fdca26\"], [1.0, \"#f0f921\"]], \"type\": \"histogram2d\"}], \"histogram2dcontour\": [{\"colorbar\": {\"outlinewidth\": 0, \"ticks\": \"\"}, \"colorscale\": [[0.0, \"#0d0887\"], [0.1111111111111111, \"#46039f\"], [0.2222222222222222, \"#7201a8\"], [0.3333333333333333, \"#9c179e\"], [0.4444444444444444, \"#bd3786\"], [0.5555555555555556, \"#d8576b\"], [0.6666666666666666, \"#ed7953\"], [0.7777777777777778, \"#fb9f3a\"], [0.8888888888888888, \"#fdca26\"], [1.0, \"#f0f921\"]], \"type\": \"histogram2dcontour\"}], \"mesh3d\": [{\"colorbar\": {\"outlinewidth\": 0, \"ticks\": \"\"}, \"type\": \"mesh3d\"}], \"parcoords\": [{\"line\": {\"colorbar\": {\"outlinewidth\": 0, \"ticks\": \"\"}}, \"type\": \"parcoords\"}], \"pie\": [{\"automargin\": true, \"type\": \"pie\"}], \"scatter\": [{\"marker\": {\"colorbar\": {\"outlinewidth\": 0, \"ticks\": \"\"}}, \"type\": \"scatter\"}], \"scatter3d\": [{\"line\": {\"colorbar\": {\"outlinewidth\": 0, \"ticks\": \"\"}}, \"marker\": {\"colorbar\": {\"outlinewidth\": 0, \"ticks\": \"\"}}, \"type\": \"scatter3d\"}], \"scattercarpet\": [{\"marker\": {\"colorbar\": {\"outlinewidth\": 0, \"ticks\": \"\"}}, \"type\": \"scattercarpet\"}], \"scattergeo\": [{\"marker\": {\"colorbar\": {\"outlinewidth\": 0, \"ticks\": \"\"}}, \"type\": \"scattergeo\"}], \"scattergl\": [{\"marker\": {\"colorbar\": {\"outlinewidth\": 0, \"ticks\": \"\"}}, \"type\": \"scattergl\"}], \"scattermapbox\": [{\"marker\": {\"colorbar\": {\"outlinewidth\": 0, \"ticks\": \"\"}}, \"type\": \"scattermapbox\"}], \"scatterpolar\": [{\"marker\": {\"colorbar\": {\"outlinewidth\": 0, \"ticks\": \"\"}}, \"type\": \"scatterpolar\"}], \"scatterpolargl\": [{\"marker\": {\"colorbar\": {\"outlinewidth\": 0, \"ticks\": \"\"}}, \"type\": \"scatterpolargl\"}], \"scatterternary\": [{\"marker\": {\"colorbar\": {\"outlinewidth\": 0, \"ticks\": \"\"}}, \"type\": \"scatterternary\"}], \"surface\": [{\"colorbar\": {\"outlinewidth\": 0, \"ticks\": \"\"}, \"colorscale\": [[0.0, \"#0d0887\"], [0.1111111111111111, \"#46039f\"], [0.2222222222222222, \"#7201a8\"], [0.3333333333333333, \"#9c179e\"], [0.4444444444444444, \"#bd3786\"], [0.5555555555555556, \"#d8576b\"], [0.6666666666666666, \"#ed7953\"], [0.7777777777777778, \"#fb9f3a\"], [0.8888888888888888, \"#fdca26\"], [1.0, \"#f0f921\"]], \"type\": \"surface\"}], \"table\": [{\"cells\": {\"fill\": {\"color\": \"#EBF0F8\"}, \"line\": {\"color\": \"white\"}}, \"header\": {\"fill\": {\"color\": \"#C8D4E3\"}, \"line\": {\"color\": \"white\"}}, \"type\": \"table\"}]}, \"layout\": {\"annotationdefaults\": {\"arrowcolor\": \"#2a3f5f\", \"arrowhead\": 0, \"arrowwidth\": 1}, \"coloraxis\": {\"colorbar\": {\"outlinewidth\": 0, \"ticks\": \"\"}}, \"colorscale\": {\"diverging\": [[0, \"#8e0152\"], [0.1, \"#c51b7d\"], [0.2, \"#de77ae\"], [0.3, \"#f1b6da\"], [0.4, \"#fde0ef\"], [0.5, \"#f7f7f7\"], [0.6, \"#e6f5d0\"], [0.7, \"#b8e186\"], [0.8, \"#7fbc41\"], [0.9, \"#4d9221\"], [1, \"#276419\"]], \"sequential\": [[0.0, \"#0d0887\"], [0.1111111111111111, \"#46039f\"], [0.2222222222222222, \"#7201a8\"], [0.3333333333333333, \"#9c179e\"], [0.4444444444444444, \"#bd3786\"], [0.5555555555555556, \"#d8576b\"], [0.6666666666666666, \"#ed7953\"], [0.7777777777777778, \"#fb9f3a\"], [0.8888888888888888, \"#fdca26\"], [1.0, \"#f0f921\"]], \"sequentialminus\": [[0.0, \"#0d0887\"], [0.1111111111111111, \"#46039f\"], [0.2222222222222222, \"#7201a8\"], [0.3333333333333333, \"#9c179e\"], [0.4444444444444444, \"#bd3786\"], [0.5555555555555556, \"#d8576b\"], [0.6666666666666666, \"#ed7953\"], [0.7777777777777778, \"#fb9f3a\"], [0.8888888888888888, \"#fdca26\"], [1.0, \"#f0f921\"]]}, \"colorway\": [\"#636efa\", \"#EF553B\", \"#00cc96\", \"#ab63fa\", \"#FFA15A\", \"#19d3f3\", \"#FF6692\", \"#B6E880\", \"#FF97FF\", \"#FECB52\"], \"font\": {\"color\": \"#2a3f5f\"}, \"geo\": {\"bgcolor\": \"white\", \"lakecolor\": \"white\", \"landcolor\": \"#E5ECF6\", \"showlakes\": true, \"showland\": true, \"subunitcolor\": \"white\"}, \"hoverlabel\": {\"align\": \"left\"}, \"hovermode\": \"closest\", \"mapbox\": {\"style\": \"light\"}, \"paper_bgcolor\": \"white\", \"plot_bgcolor\": \"#E5ECF6\", \"polar\": {\"angularaxis\": {\"gridcolor\": \"white\", \"linecolor\": \"white\", \"ticks\": \"\"}, \"bgcolor\": \"#E5ECF6\", \"radialaxis\": {\"gridcolor\": \"white\", \"linecolor\": \"white\", \"ticks\": \"\"}}, \"scene\": {\"xaxis\": {\"backgroundcolor\": \"#E5ECF6\", \"gridcolor\": \"white\", \"gridwidth\": 2, \"linecolor\": \"white\", \"showbackground\": true, \"ticks\": \"\", \"zerolinecolor\": \"white\"}, \"yaxis\": {\"backgroundcolor\": \"#E5ECF6\", \"gridcolor\": \"white\", \"gridwidth\": 2, \"linecolor\": \"white\", \"showbackground\": true, \"ticks\": \"\", \"zerolinecolor\": \"white\"}, \"zaxis\": {\"backgroundcolor\": \"#E5ECF6\", \"gridcolor\": \"white\", \"gridwidth\": 2, \"linecolor\": \"white\", \"showbackground\": true, \"ticks\": \"\", \"zerolinecolor\": \"white\"}}, \"shapedefaults\": {\"line\": {\"color\": \"#2a3f5f\"}}, \"ternary\": {\"aaxis\": {\"gridcolor\": \"white\", \"linecolor\": \"white\", \"ticks\": \"\"}, \"baxis\": {\"gridcolor\": \"white\", \"linecolor\": \"white\", \"ticks\": \"\"}, \"bgcolor\": \"#E5ECF6\", \"caxis\": {\"gridcolor\": \"white\", \"linecolor\": \"white\", \"ticks\": \"\"}}, \"title\": {\"x\": 0.05}, \"xaxis\": {\"automargin\": true, \"gridcolor\": \"white\", \"linecolor\": \"white\", \"ticks\": \"\", \"title\": {\"standoff\": 15}, \"zerolinecolor\": \"white\", \"zerolinewidth\": 2}, \"yaxis\": {\"automargin\": true, \"gridcolor\": \"white\", \"linecolor\": \"white\", \"ticks\": \"\", \"title\": {\"standoff\": 15}, \"zerolinecolor\": \"white\", \"zerolinewidth\": 2}}}, \"title\": {\"text\": \"Most frequent 3/4 onset patterns throughout the corpus\"}, \"xaxis\": {\"title\": {\"text\": \"Onset pattern\"}}, \"yaxis\": {\"title\": {\"text\": \"Total count\"}, \"type\": \"log\"}},\n",
       "                        {\"showLink\": true, \"linkText\": \"Export to plot.ly\", \"plotlyServerURL\": \"https://plot.ly\", \"responsive\": true}\n",
       "                    ).then(function(){\n",
       "                            \n",
       "var gd = document.getElementById('0b0ec46b-5ce7-439c-83d0-8324671f3725');\n",
       "var x = new MutationObserver(function (mutations, observer) {{\n",
       "        var display = window.getComputedStyle(gd).display;\n",
       "        if (!display || display === 'none') {{\n",
       "            console.log([gd, 'removed!']);\n",
       "            Plotly.purge(gd);\n",
       "            observer.disconnect();\n",
       "        }}\n",
       "}});\n",
       "\n",
       "// Listen for the removal of the full notebook cells\n",
       "var notebookContainer = gd.closest('#notebook-container');\n",
       "if (notebookContainer) {{\n",
       "    x.observe(notebookContainer, {childList: true});\n",
       "}}\n",
       "\n",
       "// Listen for the clearing of the current output cell\n",
       "var outputEl = gd.closest('.output');\n",
       "if (outputEl) {{\n",
       "    x.observe(outputEl, {childList: true});\n",
       "}}\n",
       "\n",
       "                        })\n",
       "                };\n",
       "                });\n",
       "            </script>\n",
       "        </div>"
      ]
     },
     "metadata": {},
     "output_type": "display_data"
    }
   ],
   "source": [
    "pd.read_csv(os.path.join(data_tsv, 'onset_pattern_triple.tsv'), sep='\\t', index_col=0).iplot('bar', \n",
    "               layout=dict(yaxis={'type': 'log', \n",
    "                                  'title': 'Total count'},\n",
    "                           xaxis={'title': 'Onset pattern'},\n",
    "                           title='Most frequent 3/4 onset patterns throughout the corpus'))"
   ]
  },
  {
   "cell_type": "markdown",
   "metadata": {},
   "source": [
    "### Most stereotypical pieces in double meter\n",
    "To find the most rhythmically most stereotypical pieces, we take the most frequent onset pattern in the right hand, `TitiTiti` and the one in the left hand, `TaTa` and check which pieces have the highest percentage among all measures:\n",
    "\n",
    "| id  | TitiTiti_right | TaTa_left | piece                |\n",
    "|-----|----------------|-----------|----------------------|\n",
    "| 91  | 0.8125         | 0.8750    | D145ecossaise02.mscx |\n",
    "| 257 | 0.8750         | 0.8750    | D697ecossaise03.mscx |"
   ]
  },
  {
   "cell_type": "markdown",
   "metadata": {},
   "source": [
    "### Most stereotypical pieces in triple meter\n",
    "To find the most rhythmically most stereotypical pieces, we take the most frequent onset pattern in the right hand, `TitiTitiTiti` and the one in the left hand, `TaTaTa` and check which pieces have the highest percentage among all measures.\n",
    "\n",
    "| id  | TitiTitiTiti_right | TaTaTa_left | piece            |\n",
    "|-----|--------------------|-----------|--------------------|\n",
    "| 163 | 0.9583             | 0.8750    | D365walzer14.mscx  |\n",
    "| 269 | 0.9167             | 0.9167    | D734ländler08.mscx |"
   ]
  },
  {
   "cell_type": "markdown",
   "metadata": {},
   "source": [
    "## Analyzing harmonic patterns\n",
    "\n",
    "### Creating chord labels\n",
    "\n",
    "To make the notes constellations of all pieces comparable, we have transposed them to the key of C major/a minor. In order to create chord categories, we use a heuristic: For every measure, we assume one harmony (i.e., one chord) with the lowest note being the harmony's bass. Then we express all other notes as intervals relative to the bass note and map interval constellations to chord types. In the following example, the B minor chord in the score is transposed one tone lower and therefore appears rightfully as an A minor chord in the chord labelling heuristic.\n",
    "<img src=report/D145ecossaise03_beginning.png style=\"width: 200px;\"/>\n",
    "_Fig. First measure of Ecossaise D. 145, no. 3: Bass note B, notes above forming the intervals of a minor third `m3` and perfect fifth `P5`._"
   ]
  },
  {
   "cell_type": "code",
   "execution_count": 229,
   "metadata": {},
   "outputs": [
    {
     "data": {
      "text/html": [
       "<div>\n",
       "<style scoped>\n",
       "    .dataframe tbody tr th:only-of-type {\n",
       "        vertical-align: middle;\n",
       "    }\n",
       "\n",
       "    .dataframe tbody tr th {\n",
       "        vertical-align: top;\n",
       "    }\n",
       "\n",
       "    .dataframe thead th {\n",
       "        text-align: right;\n",
       "    }\n",
       "</style>\n",
       "<table border=\"1\" class=\"dataframe\">\n",
       "  <thead>\n",
       "    <tr style=\"text-align: right;\">\n",
       "      <th></th>\n",
       "      <th>bass</th>\n",
       "      <th>intervals</th>\n",
       "      <th>labels</th>\n",
       "    </tr>\n",
       "    <tr>\n",
       "      <th>segment_id</th>\n",
       "      <th></th>\n",
       "      <th></th>\n",
       "      <th></th>\n",
       "    </tr>\n",
       "  </thead>\n",
       "  <tbody>\n",
       "    <tr>\n",
       "      <th>1</th>\n",
       "      <td>A</td>\n",
       "      <td>(m3, P5)</td>\n",
       "      <td>minor</td>\n",
       "    </tr>\n",
       "    <tr>\n",
       "      <th>2</th>\n",
       "      <td>A</td>\n",
       "      <td>(M2, m3, P5)</td>\n",
       "      <td>minor</td>\n",
       "    </tr>\n",
       "    <tr>\n",
       "      <th>3</th>\n",
       "      <td>A</td>\n",
       "      <td>(M2, P4, P5, m7)</td>\n",
       "      <td>suspension</td>\n",
       "    </tr>\n",
       "  </tbody>\n",
       "</table>\n",
       "</div>"
      ],
      "text/plain": [
       "           bass         intervals      labels\n",
       "segment_id                                   \n",
       "1             A          (m3, P5)       minor\n",
       "2             A      (M2, m3, P5)       minor\n",
       "3             A  (M2, P4, P5, m7)  suspension"
      ]
     },
     "execution_count": 229,
     "metadata": {},
     "output_type": "execute_result"
    }
   ],
   "source": [
    "chord_profiles = jh.read_chord_profiles(os.path.join(data_tsv, 'chord_profiles.tsv'))\n",
    "chord_profiles.loc[92, ['bass', 'intervals', 'labels']].head(3)"
   ]
  },
  {
   "cell_type": "markdown",
   "metadata": {},
   "source": [
    "This allows us to characterize harmonies by two means, namely their bass note and the chord type. Because of the transposition to C/a, we can understand the bass notes as Roman Numeral with `C = I`, `D = II` and so on."
   ]
  },
  {
   "cell_type": "code",
   "execution_count": 230,
   "metadata": {
    "scrolled": false
   },
   "outputs": [
    {
     "data": {
      "application/vnd.plotly.v1+json": {
       "config": {
        "linkText": "Export to plot.ly",
        "plotlyServerURL": "https://plot.ly",
        "showLink": true
       },
       "data": [
        {
         "marker": {
          "color": "rgba(226, 74, 51, 0.6)",
          "line": {
           "color": "rgba(226, 74, 51, 1.0)",
           "width": 1
          }
         },
         "name": "bass",
         "orientation": "v",
         "text": "",
         "type": "bar",
         "x": [
          "C (I)",
          "G (V)",
          "A (VI)",
          "E (III)",
          "D (II)",
          "F (IV)",
          "B (VII)",
          "G# (#V)",
          "Bb (bVII)",
          "F# (#IV)",
          "Ab (bVI)",
          "Eb (bIII)",
          "C# (#I)",
          "D# (#II)",
          "A# (#VI)",
          "Db (bII)"
         ],
         "y": [
          3082,
          2497,
          739,
          616,
          442,
          409,
          286,
          89,
          86,
          72,
          61,
          56,
          40,
          17,
          2,
          1
         ]
        }
       ],
       "layout": {
        "template": {
         "data": {
          "bar": [
           {
            "error_x": {
             "color": "#2a3f5f"
            },
            "error_y": {
             "color": "#2a3f5f"
            },
            "marker": {
             "line": {
              "color": "#E5ECF6",
              "width": 0.5
             }
            },
            "type": "bar"
           }
          ],
          "barpolar": [
           {
            "marker": {
             "line": {
              "color": "#E5ECF6",
              "width": 0.5
             }
            },
            "type": "barpolar"
           }
          ],
          "carpet": [
           {
            "aaxis": {
             "endlinecolor": "#2a3f5f",
             "gridcolor": "white",
             "linecolor": "white",
             "minorgridcolor": "white",
             "startlinecolor": "#2a3f5f"
            },
            "baxis": {
             "endlinecolor": "#2a3f5f",
             "gridcolor": "white",
             "linecolor": "white",
             "minorgridcolor": "white",
             "startlinecolor": "#2a3f5f"
            },
            "type": "carpet"
           }
          ],
          "choropleth": [
           {
            "colorbar": {
             "outlinewidth": 0,
             "ticks": ""
            },
            "type": "choropleth"
           }
          ],
          "contour": [
           {
            "colorbar": {
             "outlinewidth": 0,
             "ticks": ""
            },
            "colorscale": [
             [
              0,
              "#0d0887"
             ],
             [
              0.1111111111111111,
              "#46039f"
             ],
             [
              0.2222222222222222,
              "#7201a8"
             ],
             [
              0.3333333333333333,
              "#9c179e"
             ],
             [
              0.4444444444444444,
              "#bd3786"
             ],
             [
              0.5555555555555556,
              "#d8576b"
             ],
             [
              0.6666666666666666,
              "#ed7953"
             ],
             [
              0.7777777777777778,
              "#fb9f3a"
             ],
             [
              0.8888888888888888,
              "#fdca26"
             ],
             [
              1,
              "#f0f921"
             ]
            ],
            "type": "contour"
           }
          ],
          "contourcarpet": [
           {
            "colorbar": {
             "outlinewidth": 0,
             "ticks": ""
            },
            "type": "contourcarpet"
           }
          ],
          "heatmap": [
           {
            "colorbar": {
             "outlinewidth": 0,
             "ticks": ""
            },
            "colorscale": [
             [
              0,
              "#0d0887"
             ],
             [
              0.1111111111111111,
              "#46039f"
             ],
             [
              0.2222222222222222,
              "#7201a8"
             ],
             [
              0.3333333333333333,
              "#9c179e"
             ],
             [
              0.4444444444444444,
              "#bd3786"
             ],
             [
              0.5555555555555556,
              "#d8576b"
             ],
             [
              0.6666666666666666,
              "#ed7953"
             ],
             [
              0.7777777777777778,
              "#fb9f3a"
             ],
             [
              0.8888888888888888,
              "#fdca26"
             ],
             [
              1,
              "#f0f921"
             ]
            ],
            "type": "heatmap"
           }
          ],
          "heatmapgl": [
           {
            "colorbar": {
             "outlinewidth": 0,
             "ticks": ""
            },
            "colorscale": [
             [
              0,
              "#0d0887"
             ],
             [
              0.1111111111111111,
              "#46039f"
             ],
             [
              0.2222222222222222,
              "#7201a8"
             ],
             [
              0.3333333333333333,
              "#9c179e"
             ],
             [
              0.4444444444444444,
              "#bd3786"
             ],
             [
              0.5555555555555556,
              "#d8576b"
             ],
             [
              0.6666666666666666,
              "#ed7953"
             ],
             [
              0.7777777777777778,
              "#fb9f3a"
             ],
             [
              0.8888888888888888,
              "#fdca26"
             ],
             [
              1,
              "#f0f921"
             ]
            ],
            "type": "heatmapgl"
           }
          ],
          "histogram": [
           {
            "marker": {
             "colorbar": {
              "outlinewidth": 0,
              "ticks": ""
             }
            },
            "type": "histogram"
           }
          ],
          "histogram2d": [
           {
            "colorbar": {
             "outlinewidth": 0,
             "ticks": ""
            },
            "colorscale": [
             [
              0,
              "#0d0887"
             ],
             [
              0.1111111111111111,
              "#46039f"
             ],
             [
              0.2222222222222222,
              "#7201a8"
             ],
             [
              0.3333333333333333,
              "#9c179e"
             ],
             [
              0.4444444444444444,
              "#bd3786"
             ],
             [
              0.5555555555555556,
              "#d8576b"
             ],
             [
              0.6666666666666666,
              "#ed7953"
             ],
             [
              0.7777777777777778,
              "#fb9f3a"
             ],
             [
              0.8888888888888888,
              "#fdca26"
             ],
             [
              1,
              "#f0f921"
             ]
            ],
            "type": "histogram2d"
           }
          ],
          "histogram2dcontour": [
           {
            "colorbar": {
             "outlinewidth": 0,
             "ticks": ""
            },
            "colorscale": [
             [
              0,
              "#0d0887"
             ],
             [
              0.1111111111111111,
              "#46039f"
             ],
             [
              0.2222222222222222,
              "#7201a8"
             ],
             [
              0.3333333333333333,
              "#9c179e"
             ],
             [
              0.4444444444444444,
              "#bd3786"
             ],
             [
              0.5555555555555556,
              "#d8576b"
             ],
             [
              0.6666666666666666,
              "#ed7953"
             ],
             [
              0.7777777777777778,
              "#fb9f3a"
             ],
             [
              0.8888888888888888,
              "#fdca26"
             ],
             [
              1,
              "#f0f921"
             ]
            ],
            "type": "histogram2dcontour"
           }
          ],
          "mesh3d": [
           {
            "colorbar": {
             "outlinewidth": 0,
             "ticks": ""
            },
            "type": "mesh3d"
           }
          ],
          "parcoords": [
           {
            "line": {
             "colorbar": {
              "outlinewidth": 0,
              "ticks": ""
             }
            },
            "type": "parcoords"
           }
          ],
          "pie": [
           {
            "automargin": true,
            "type": "pie"
           }
          ],
          "scatter": [
           {
            "marker": {
             "colorbar": {
              "outlinewidth": 0,
              "ticks": ""
             }
            },
            "type": "scatter"
           }
          ],
          "scatter3d": [
           {
            "line": {
             "colorbar": {
              "outlinewidth": 0,
              "ticks": ""
             }
            },
            "marker": {
             "colorbar": {
              "outlinewidth": 0,
              "ticks": ""
             }
            },
            "type": "scatter3d"
           }
          ],
          "scattercarpet": [
           {
            "marker": {
             "colorbar": {
              "outlinewidth": 0,
              "ticks": ""
             }
            },
            "type": "scattercarpet"
           }
          ],
          "scattergeo": [
           {
            "marker": {
             "colorbar": {
              "outlinewidth": 0,
              "ticks": ""
             }
            },
            "type": "scattergeo"
           }
          ],
          "scattergl": [
           {
            "marker": {
             "colorbar": {
              "outlinewidth": 0,
              "ticks": ""
             }
            },
            "type": "scattergl"
           }
          ],
          "scattermapbox": [
           {
            "marker": {
             "colorbar": {
              "outlinewidth": 0,
              "ticks": ""
             }
            },
            "type": "scattermapbox"
           }
          ],
          "scatterpolar": [
           {
            "marker": {
             "colorbar": {
              "outlinewidth": 0,
              "ticks": ""
             }
            },
            "type": "scatterpolar"
           }
          ],
          "scatterpolargl": [
           {
            "marker": {
             "colorbar": {
              "outlinewidth": 0,
              "ticks": ""
             }
            },
            "type": "scatterpolargl"
           }
          ],
          "scatterternary": [
           {
            "marker": {
             "colorbar": {
              "outlinewidth": 0,
              "ticks": ""
             }
            },
            "type": "scatterternary"
           }
          ],
          "surface": [
           {
            "colorbar": {
             "outlinewidth": 0,
             "ticks": ""
            },
            "colorscale": [
             [
              0,
              "#0d0887"
             ],
             [
              0.1111111111111111,
              "#46039f"
             ],
             [
              0.2222222222222222,
              "#7201a8"
             ],
             [
              0.3333333333333333,
              "#9c179e"
             ],
             [
              0.4444444444444444,
              "#bd3786"
             ],
             [
              0.5555555555555556,
              "#d8576b"
             ],
             [
              0.6666666666666666,
              "#ed7953"
             ],
             [
              0.7777777777777778,
              "#fb9f3a"
             ],
             [
              0.8888888888888888,
              "#fdca26"
             ],
             [
              1,
              "#f0f921"
             ]
            ],
            "type": "surface"
           }
          ],
          "table": [
           {
            "cells": {
             "fill": {
              "color": "#EBF0F8"
             },
             "line": {
              "color": "white"
             }
            },
            "header": {
             "fill": {
              "color": "#C8D4E3"
             },
             "line": {
              "color": "white"
             }
            },
            "type": "table"
           }
          ]
         },
         "layout": {
          "annotationdefaults": {
           "arrowcolor": "#2a3f5f",
           "arrowhead": 0,
           "arrowwidth": 1
          },
          "coloraxis": {
           "colorbar": {
            "outlinewidth": 0,
            "ticks": ""
           }
          },
          "colorscale": {
           "diverging": [
            [
             0,
             "#8e0152"
            ],
            [
             0.1,
             "#c51b7d"
            ],
            [
             0.2,
             "#de77ae"
            ],
            [
             0.3,
             "#f1b6da"
            ],
            [
             0.4,
             "#fde0ef"
            ],
            [
             0.5,
             "#f7f7f7"
            ],
            [
             0.6,
             "#e6f5d0"
            ],
            [
             0.7,
             "#b8e186"
            ],
            [
             0.8,
             "#7fbc41"
            ],
            [
             0.9,
             "#4d9221"
            ],
            [
             1,
             "#276419"
            ]
           ],
           "sequential": [
            [
             0,
             "#0d0887"
            ],
            [
             0.1111111111111111,
             "#46039f"
            ],
            [
             0.2222222222222222,
             "#7201a8"
            ],
            [
             0.3333333333333333,
             "#9c179e"
            ],
            [
             0.4444444444444444,
             "#bd3786"
            ],
            [
             0.5555555555555556,
             "#d8576b"
            ],
            [
             0.6666666666666666,
             "#ed7953"
            ],
            [
             0.7777777777777778,
             "#fb9f3a"
            ],
            [
             0.8888888888888888,
             "#fdca26"
            ],
            [
             1,
             "#f0f921"
            ]
           ],
           "sequentialminus": [
            [
             0,
             "#0d0887"
            ],
            [
             0.1111111111111111,
             "#46039f"
            ],
            [
             0.2222222222222222,
             "#7201a8"
            ],
            [
             0.3333333333333333,
             "#9c179e"
            ],
            [
             0.4444444444444444,
             "#bd3786"
            ],
            [
             0.5555555555555556,
             "#d8576b"
            ],
            [
             0.6666666666666666,
             "#ed7953"
            ],
            [
             0.7777777777777778,
             "#fb9f3a"
            ],
            [
             0.8888888888888888,
             "#fdca26"
            ],
            [
             1,
             "#f0f921"
            ]
           ]
          },
          "colorway": [
           "#636efa",
           "#EF553B",
           "#00cc96",
           "#ab63fa",
           "#FFA15A",
           "#19d3f3",
           "#FF6692",
           "#B6E880",
           "#FF97FF",
           "#FECB52"
          ],
          "font": {
           "color": "#2a3f5f"
          },
          "geo": {
           "bgcolor": "white",
           "lakecolor": "white",
           "landcolor": "#E5ECF6",
           "showlakes": true,
           "showland": true,
           "subunitcolor": "white"
          },
          "hoverlabel": {
           "align": "left"
          },
          "hovermode": "closest",
          "mapbox": {
           "style": "light"
          },
          "paper_bgcolor": "white",
          "plot_bgcolor": "#E5ECF6",
          "polar": {
           "angularaxis": {
            "gridcolor": "white",
            "linecolor": "white",
            "ticks": ""
           },
           "bgcolor": "#E5ECF6",
           "radialaxis": {
            "gridcolor": "white",
            "linecolor": "white",
            "ticks": ""
           }
          },
          "scene": {
           "xaxis": {
            "backgroundcolor": "#E5ECF6",
            "gridcolor": "white",
            "gridwidth": 2,
            "linecolor": "white",
            "showbackground": true,
            "ticks": "",
            "zerolinecolor": "white"
           },
           "yaxis": {
            "backgroundcolor": "#E5ECF6",
            "gridcolor": "white",
            "gridwidth": 2,
            "linecolor": "white",
            "showbackground": true,
            "ticks": "",
            "zerolinecolor": "white"
           },
           "zaxis": {
            "backgroundcolor": "#E5ECF6",
            "gridcolor": "white",
            "gridwidth": 2,
            "linecolor": "white",
            "showbackground": true,
            "ticks": "",
            "zerolinecolor": "white"
           }
          },
          "shapedefaults": {
           "line": {
            "color": "#2a3f5f"
           }
          },
          "ternary": {
           "aaxis": {
            "gridcolor": "white",
            "linecolor": "white",
            "ticks": ""
           },
           "baxis": {
            "gridcolor": "white",
            "linecolor": "white",
            "ticks": ""
           },
           "bgcolor": "#E5ECF6",
           "caxis": {
            "gridcolor": "white",
            "linecolor": "white",
            "ticks": ""
           }
          },
          "title": {
           "x": 0.05
          },
          "xaxis": {
           "automargin": true,
           "gridcolor": "white",
           "linecolor": "white",
           "ticks": "",
           "title": {
            "standoff": 15
           },
           "zerolinecolor": "white",
           "zerolinewidth": 2
          },
          "yaxis": {
           "automargin": true,
           "gridcolor": "white",
           "linecolor": "white",
           "ticks": "",
           "title": {
            "standoff": 15
           },
           "zerolinecolor": "white",
           "zerolinewidth": 2
          }
         }
        },
        "yaxis": {
         "type": "log"
        }
       }
      },
      "text/html": [
       "<div>\n",
       "        \n",
       "        \n",
       "            <div id=\"1a0a28eb-7702-487b-9988-ac1b44a27fa5\" class=\"plotly-graph-div\" style=\"height:525px; width:100%;\"></div>\n",
       "            <script type=\"text/javascript\">\n",
       "                require([\"plotly\"], function(Plotly) {\n",
       "                    window.PLOTLYENV=window.PLOTLYENV || {};\n",
       "                    window.PLOTLYENV.BASE_URL='https://plot.ly';\n",
       "                    \n",
       "                if (document.getElementById(\"1a0a28eb-7702-487b-9988-ac1b44a27fa5\")) {\n",
       "                    Plotly.newPlot(\n",
       "                        '1a0a28eb-7702-487b-9988-ac1b44a27fa5',\n",
       "                        [{\"marker\": {\"color\": \"rgba(226, 74, 51, 0.6)\", \"line\": {\"color\": \"rgba(226, 74, 51, 1.0)\", \"width\": 1}}, \"name\": \"bass\", \"orientation\": \"v\", \"text\": \"\", \"type\": \"bar\", \"x\": [\"C (I)\", \"G (V)\", \"A (VI)\", \"E (III)\", \"D (II)\", \"F (IV)\", \"B (VII)\", \"G# (#V)\", \"Bb (bVII)\", \"F# (#IV)\", \"Ab (bVI)\", \"Eb (bIII)\", \"C# (#I)\", \"D# (#II)\", \"A# (#VI)\", \"Db (bII)\"], \"y\": [3082, 2497, 739, 616, 442, 409, 286, 89, 86, 72, 61, 56, 40, 17, 2, 1]}],\n",
       "                        {\"template\": {\"data\": {\"bar\": [{\"error_x\": {\"color\": \"#2a3f5f\"}, \"error_y\": {\"color\": \"#2a3f5f\"}, \"marker\": {\"line\": {\"color\": \"#E5ECF6\", \"width\": 0.5}}, \"type\": \"bar\"}], \"barpolar\": [{\"marker\": {\"line\": {\"color\": \"#E5ECF6\", \"width\": 0.5}}, \"type\": \"barpolar\"}], \"carpet\": [{\"aaxis\": {\"endlinecolor\": \"#2a3f5f\", \"gridcolor\": \"white\", \"linecolor\": \"white\", \"minorgridcolor\": \"white\", \"startlinecolor\": \"#2a3f5f\"}, \"baxis\": {\"endlinecolor\": \"#2a3f5f\", \"gridcolor\": \"white\", \"linecolor\": \"white\", \"minorgridcolor\": \"white\", \"startlinecolor\": \"#2a3f5f\"}, \"type\": \"carpet\"}], \"choropleth\": [{\"colorbar\": {\"outlinewidth\": 0, \"ticks\": \"\"}, \"type\": \"choropleth\"}], \"contour\": [{\"colorbar\": {\"outlinewidth\": 0, \"ticks\": \"\"}, \"colorscale\": [[0.0, \"#0d0887\"], [0.1111111111111111, \"#46039f\"], [0.2222222222222222, \"#7201a8\"], [0.3333333333333333, \"#9c179e\"], [0.4444444444444444, \"#bd3786\"], [0.5555555555555556, \"#d8576b\"], [0.6666666666666666, \"#ed7953\"], [0.7777777777777778, \"#fb9f3a\"], [0.8888888888888888, \"#fdca26\"], [1.0, \"#f0f921\"]], \"type\": \"contour\"}], \"contourcarpet\": [{\"colorbar\": {\"outlinewidth\": 0, \"ticks\": \"\"}, \"type\": \"contourcarpet\"}], \"heatmap\": [{\"colorbar\": {\"outlinewidth\": 0, \"ticks\": \"\"}, \"colorscale\": [[0.0, \"#0d0887\"], [0.1111111111111111, \"#46039f\"], [0.2222222222222222, \"#7201a8\"], [0.3333333333333333, \"#9c179e\"], [0.4444444444444444, \"#bd3786\"], [0.5555555555555556, \"#d8576b\"], [0.6666666666666666, \"#ed7953\"], [0.7777777777777778, \"#fb9f3a\"], [0.8888888888888888, \"#fdca26\"], [1.0, \"#f0f921\"]], \"type\": \"heatmap\"}], \"heatmapgl\": [{\"colorbar\": {\"outlinewidth\": 0, \"ticks\": \"\"}, \"colorscale\": [[0.0, \"#0d0887\"], [0.1111111111111111, \"#46039f\"], [0.2222222222222222, \"#7201a8\"], [0.3333333333333333, \"#9c179e\"], [0.4444444444444444, \"#bd3786\"], [0.5555555555555556, \"#d8576b\"], [0.6666666666666666, \"#ed7953\"], [0.7777777777777778, \"#fb9f3a\"], [0.8888888888888888, \"#fdca26\"], [1.0, \"#f0f921\"]], \"type\": \"heatmapgl\"}], \"histogram\": [{\"marker\": {\"colorbar\": {\"outlinewidth\": 0, \"ticks\": \"\"}}, \"type\": \"histogram\"}], \"histogram2d\": [{\"colorbar\": {\"outlinewidth\": 0, \"ticks\": \"\"}, \"colorscale\": [[0.0, \"#0d0887\"], [0.1111111111111111, \"#46039f\"], [0.2222222222222222, \"#7201a8\"], [0.3333333333333333, \"#9c179e\"], [0.4444444444444444, \"#bd3786\"], [0.5555555555555556, \"#d8576b\"], [0.6666666666666666, \"#ed7953\"], [0.7777777777777778, \"#fb9f3a\"], [0.8888888888888888, \"#fdca26\"], [1.0, \"#f0f921\"]], \"type\": \"histogram2d\"}], \"histogram2dcontour\": [{\"colorbar\": {\"outlinewidth\": 0, \"ticks\": \"\"}, \"colorscale\": [[0.0, \"#0d0887\"], [0.1111111111111111, \"#46039f\"], [0.2222222222222222, \"#7201a8\"], [0.3333333333333333, \"#9c179e\"], [0.4444444444444444, \"#bd3786\"], [0.5555555555555556, \"#d8576b\"], [0.6666666666666666, \"#ed7953\"], [0.7777777777777778, \"#fb9f3a\"], [0.8888888888888888, \"#fdca26\"], [1.0, \"#f0f921\"]], \"type\": \"histogram2dcontour\"}], \"mesh3d\": [{\"colorbar\": {\"outlinewidth\": 0, \"ticks\": \"\"}, \"type\": \"mesh3d\"}], \"parcoords\": [{\"line\": {\"colorbar\": {\"outlinewidth\": 0, \"ticks\": \"\"}}, \"type\": \"parcoords\"}], \"pie\": [{\"automargin\": true, \"type\": \"pie\"}], \"scatter\": [{\"marker\": {\"colorbar\": {\"outlinewidth\": 0, \"ticks\": \"\"}}, \"type\": \"scatter\"}], \"scatter3d\": [{\"line\": {\"colorbar\": {\"outlinewidth\": 0, \"ticks\": \"\"}}, \"marker\": {\"colorbar\": {\"outlinewidth\": 0, \"ticks\": \"\"}}, \"type\": \"scatter3d\"}], \"scattercarpet\": [{\"marker\": {\"colorbar\": {\"outlinewidth\": 0, \"ticks\": \"\"}}, \"type\": \"scattercarpet\"}], \"scattergeo\": [{\"marker\": {\"colorbar\": {\"outlinewidth\": 0, \"ticks\": \"\"}}, \"type\": \"scattergeo\"}], \"scattergl\": [{\"marker\": {\"colorbar\": {\"outlinewidth\": 0, \"ticks\": \"\"}}, \"type\": \"scattergl\"}], \"scattermapbox\": [{\"marker\": {\"colorbar\": {\"outlinewidth\": 0, \"ticks\": \"\"}}, \"type\": \"scattermapbox\"}], \"scatterpolar\": [{\"marker\": {\"colorbar\": {\"outlinewidth\": 0, \"ticks\": \"\"}}, \"type\": \"scatterpolar\"}], \"scatterpolargl\": [{\"marker\": {\"colorbar\": {\"outlinewidth\": 0, \"ticks\": \"\"}}, \"type\": \"scatterpolargl\"}], \"scatterternary\": [{\"marker\": {\"colorbar\": {\"outlinewidth\": 0, \"ticks\": \"\"}}, \"type\": \"scatterternary\"}], \"surface\": [{\"colorbar\": {\"outlinewidth\": 0, \"ticks\": \"\"}, \"colorscale\": [[0.0, \"#0d0887\"], [0.1111111111111111, \"#46039f\"], [0.2222222222222222, \"#7201a8\"], [0.3333333333333333, \"#9c179e\"], [0.4444444444444444, \"#bd3786\"], [0.5555555555555556, \"#d8576b\"], [0.6666666666666666, \"#ed7953\"], [0.7777777777777778, \"#fb9f3a\"], [0.8888888888888888, \"#fdca26\"], [1.0, \"#f0f921\"]], \"type\": \"surface\"}], \"table\": [{\"cells\": {\"fill\": {\"color\": \"#EBF0F8\"}, \"line\": {\"color\": \"white\"}}, \"header\": {\"fill\": {\"color\": \"#C8D4E3\"}, \"line\": {\"color\": \"white\"}}, \"type\": \"table\"}]}, \"layout\": {\"annotationdefaults\": {\"arrowcolor\": \"#2a3f5f\", \"arrowhead\": 0, \"arrowwidth\": 1}, \"coloraxis\": {\"colorbar\": {\"outlinewidth\": 0, \"ticks\": \"\"}}, \"colorscale\": {\"diverging\": [[0, \"#8e0152\"], [0.1, \"#c51b7d\"], [0.2, \"#de77ae\"], [0.3, \"#f1b6da\"], [0.4, \"#fde0ef\"], [0.5, \"#f7f7f7\"], [0.6, \"#e6f5d0\"], [0.7, \"#b8e186\"], [0.8, \"#7fbc41\"], [0.9, \"#4d9221\"], [1, \"#276419\"]], \"sequential\": [[0.0, \"#0d0887\"], [0.1111111111111111, \"#46039f\"], [0.2222222222222222, \"#7201a8\"], [0.3333333333333333, \"#9c179e\"], [0.4444444444444444, \"#bd3786\"], [0.5555555555555556, \"#d8576b\"], [0.6666666666666666, \"#ed7953\"], [0.7777777777777778, \"#fb9f3a\"], [0.8888888888888888, \"#fdca26\"], [1.0, \"#f0f921\"]], \"sequentialminus\": [[0.0, \"#0d0887\"], [0.1111111111111111, \"#46039f\"], [0.2222222222222222, \"#7201a8\"], [0.3333333333333333, \"#9c179e\"], [0.4444444444444444, \"#bd3786\"], [0.5555555555555556, \"#d8576b\"], [0.6666666666666666, \"#ed7953\"], [0.7777777777777778, \"#fb9f3a\"], [0.8888888888888888, \"#fdca26\"], [1.0, \"#f0f921\"]]}, \"colorway\": [\"#636efa\", \"#EF553B\", \"#00cc96\", \"#ab63fa\", \"#FFA15A\", \"#19d3f3\", \"#FF6692\", \"#B6E880\", \"#FF97FF\", \"#FECB52\"], \"font\": {\"color\": \"#2a3f5f\"}, \"geo\": {\"bgcolor\": \"white\", \"lakecolor\": \"white\", \"landcolor\": \"#E5ECF6\", \"showlakes\": true, \"showland\": true, \"subunitcolor\": \"white\"}, \"hoverlabel\": {\"align\": \"left\"}, \"hovermode\": \"closest\", \"mapbox\": {\"style\": \"light\"}, \"paper_bgcolor\": \"white\", \"plot_bgcolor\": \"#E5ECF6\", \"polar\": {\"angularaxis\": {\"gridcolor\": \"white\", \"linecolor\": \"white\", \"ticks\": \"\"}, \"bgcolor\": \"#E5ECF6\", \"radialaxis\": {\"gridcolor\": \"white\", \"linecolor\": \"white\", \"ticks\": \"\"}}, \"scene\": {\"xaxis\": {\"backgroundcolor\": \"#E5ECF6\", \"gridcolor\": \"white\", \"gridwidth\": 2, \"linecolor\": \"white\", \"showbackground\": true, \"ticks\": \"\", \"zerolinecolor\": \"white\"}, \"yaxis\": {\"backgroundcolor\": \"#E5ECF6\", \"gridcolor\": \"white\", \"gridwidth\": 2, \"linecolor\": \"white\", \"showbackground\": true, \"ticks\": \"\", \"zerolinecolor\": \"white\"}, \"zaxis\": {\"backgroundcolor\": \"#E5ECF6\", \"gridcolor\": \"white\", \"gridwidth\": 2, \"linecolor\": \"white\", \"showbackground\": true, \"ticks\": \"\", \"zerolinecolor\": \"white\"}}, \"shapedefaults\": {\"line\": {\"color\": \"#2a3f5f\"}}, \"ternary\": {\"aaxis\": {\"gridcolor\": \"white\", \"linecolor\": \"white\", \"ticks\": \"\"}, \"baxis\": {\"gridcolor\": \"white\", \"linecolor\": \"white\", \"ticks\": \"\"}, \"bgcolor\": \"#E5ECF6\", \"caxis\": {\"gridcolor\": \"white\", \"linecolor\": \"white\", \"ticks\": \"\"}}, \"title\": {\"x\": 0.05}, \"xaxis\": {\"automargin\": true, \"gridcolor\": \"white\", \"linecolor\": \"white\", \"ticks\": \"\", \"title\": {\"standoff\": 15}, \"zerolinecolor\": \"white\", \"zerolinewidth\": 2}, \"yaxis\": {\"automargin\": true, \"gridcolor\": \"white\", \"linecolor\": \"white\", \"ticks\": \"\", \"title\": {\"standoff\": 15}, \"zerolinecolor\": \"white\", \"zerolinewidth\": 2}}}, \"yaxis\": {\"type\": \"log\"}},\n",
       "                        {\"showLink\": true, \"linkText\": \"Export to plot.ly\", \"plotlyServerURL\": \"https://plot.ly\", \"responsive\": true}\n",
       "                    ).then(function(){\n",
       "                            \n",
       "var gd = document.getElementById('1a0a28eb-7702-487b-9988-ac1b44a27fa5');\n",
       "var x = new MutationObserver(function (mutations, observer) {{\n",
       "        var display = window.getComputedStyle(gd).display;\n",
       "        if (!display || display === 'none') {{\n",
       "            console.log([gd, 'removed!']);\n",
       "            Plotly.purge(gd);\n",
       "            observer.disconnect();\n",
       "        }}\n",
       "}});\n",
       "\n",
       "// Listen for the removal of the full notebook cells\n",
       "var notebookContainer = gd.closest('#notebook-container');\n",
       "if (notebookContainer) {{\n",
       "    x.observe(notebookContainer, {childList: true});\n",
       "}}\n",
       "\n",
       "// Listen for the clearing of the current output cell\n",
       "var outputEl = gd.closest('.output');\n",
       "if (outputEl) {{\n",
       "    x.observe(outputEl, {childList: true});\n",
       "}}\n",
       "\n",
       "                        })\n",
       "                };\n",
       "                });\n",
       "            </script>\n",
       "        </div>"
      ]
     },
     "metadata": {},
     "output_type": "display_data"
    }
   ],
   "source": [
    "chord_profiles.bass.apply(lambda x: f\"{x} ({jh.name2rn(x)})\").value_counts().iplot('bar', \n",
    "                                           title='Distribution over bass_notes', \n",
    "                                           xTitle='Bass notes', \n",
    "                                           yTitle='Counts', \n",
    "                                           layout=dict(yaxis={'type':'log'}))"
   ]
  },
  {
   "cell_type": "code",
   "execution_count": 231,
   "metadata": {
    "scrolled": false
   },
   "outputs": [
    {
     "data": {
      "application/vnd.plotly.v1+json": {
       "config": {
        "linkText": "Export to plot.ly",
        "plotlyServerURL": "https://plot.ly",
        "showLink": true
       },
       "data": [
        {
         "marker": {
          "color": "rgba(226, 74, 51, 0.6)",
          "line": {
           "color": "rgba(226, 74, 51, 1.0)",
           "width": 1
          }
         },
         "name": "labels",
         "orientation": "v",
         "text": "",
         "type": "bar",
         "x": [
          "major",
          "dominant7",
          "minor",
          "major64",
          "M3",
          "dominant65",
          "dominant43",
          "dominant2",
          "minor7",
          "major6",
          "suspension",
          "minor6",
          "minor64",
          "unison",
          "m3",
          "ambiguous",
          "diminished2",
          "diminished7",
          "P5",
          "diminished64",
          "m6",
          "P4",
          "diminished",
          "M7",
          "D5",
          "M2",
          "M6",
          "D3"
         ],
         "y": [
          3368,
          2166,
          576,
          383,
          279,
          271,
          205,
          179,
          165,
          165,
          152,
          125,
          107,
          72,
          58,
          56,
          44,
          40,
          32,
          17,
          8,
          8,
          6,
          5,
          3,
          3,
          1,
          1
         ]
        }
       ],
       "layout": {
        "template": {
         "data": {
          "bar": [
           {
            "error_x": {
             "color": "#2a3f5f"
            },
            "error_y": {
             "color": "#2a3f5f"
            },
            "marker": {
             "line": {
              "color": "#E5ECF6",
              "width": 0.5
             }
            },
            "type": "bar"
           }
          ],
          "barpolar": [
           {
            "marker": {
             "line": {
              "color": "#E5ECF6",
              "width": 0.5
             }
            },
            "type": "barpolar"
           }
          ],
          "carpet": [
           {
            "aaxis": {
             "endlinecolor": "#2a3f5f",
             "gridcolor": "white",
             "linecolor": "white",
             "minorgridcolor": "white",
             "startlinecolor": "#2a3f5f"
            },
            "baxis": {
             "endlinecolor": "#2a3f5f",
             "gridcolor": "white",
             "linecolor": "white",
             "minorgridcolor": "white",
             "startlinecolor": "#2a3f5f"
            },
            "type": "carpet"
           }
          ],
          "choropleth": [
           {
            "colorbar": {
             "outlinewidth": 0,
             "ticks": ""
            },
            "type": "choropleth"
           }
          ],
          "contour": [
           {
            "colorbar": {
             "outlinewidth": 0,
             "ticks": ""
            },
            "colorscale": [
             [
              0,
              "#0d0887"
             ],
             [
              0.1111111111111111,
              "#46039f"
             ],
             [
              0.2222222222222222,
              "#7201a8"
             ],
             [
              0.3333333333333333,
              "#9c179e"
             ],
             [
              0.4444444444444444,
              "#bd3786"
             ],
             [
              0.5555555555555556,
              "#d8576b"
             ],
             [
              0.6666666666666666,
              "#ed7953"
             ],
             [
              0.7777777777777778,
              "#fb9f3a"
             ],
             [
              0.8888888888888888,
              "#fdca26"
             ],
             [
              1,
              "#f0f921"
             ]
            ],
            "type": "contour"
           }
          ],
          "contourcarpet": [
           {
            "colorbar": {
             "outlinewidth": 0,
             "ticks": ""
            },
            "type": "contourcarpet"
           }
          ],
          "heatmap": [
           {
            "colorbar": {
             "outlinewidth": 0,
             "ticks": ""
            },
            "colorscale": [
             [
              0,
              "#0d0887"
             ],
             [
              0.1111111111111111,
              "#46039f"
             ],
             [
              0.2222222222222222,
              "#7201a8"
             ],
             [
              0.3333333333333333,
              "#9c179e"
             ],
             [
              0.4444444444444444,
              "#bd3786"
             ],
             [
              0.5555555555555556,
              "#d8576b"
             ],
             [
              0.6666666666666666,
              "#ed7953"
             ],
             [
              0.7777777777777778,
              "#fb9f3a"
             ],
             [
              0.8888888888888888,
              "#fdca26"
             ],
             [
              1,
              "#f0f921"
             ]
            ],
            "type": "heatmap"
           }
          ],
          "heatmapgl": [
           {
            "colorbar": {
             "outlinewidth": 0,
             "ticks": ""
            },
            "colorscale": [
             [
              0,
              "#0d0887"
             ],
             [
              0.1111111111111111,
              "#46039f"
             ],
             [
              0.2222222222222222,
              "#7201a8"
             ],
             [
              0.3333333333333333,
              "#9c179e"
             ],
             [
              0.4444444444444444,
              "#bd3786"
             ],
             [
              0.5555555555555556,
              "#d8576b"
             ],
             [
              0.6666666666666666,
              "#ed7953"
             ],
             [
              0.7777777777777778,
              "#fb9f3a"
             ],
             [
              0.8888888888888888,
              "#fdca26"
             ],
             [
              1,
              "#f0f921"
             ]
            ],
            "type": "heatmapgl"
           }
          ],
          "histogram": [
           {
            "marker": {
             "colorbar": {
              "outlinewidth": 0,
              "ticks": ""
             }
            },
            "type": "histogram"
           }
          ],
          "histogram2d": [
           {
            "colorbar": {
             "outlinewidth": 0,
             "ticks": ""
            },
            "colorscale": [
             [
              0,
              "#0d0887"
             ],
             [
              0.1111111111111111,
              "#46039f"
             ],
             [
              0.2222222222222222,
              "#7201a8"
             ],
             [
              0.3333333333333333,
              "#9c179e"
             ],
             [
              0.4444444444444444,
              "#bd3786"
             ],
             [
              0.5555555555555556,
              "#d8576b"
             ],
             [
              0.6666666666666666,
              "#ed7953"
             ],
             [
              0.7777777777777778,
              "#fb9f3a"
             ],
             [
              0.8888888888888888,
              "#fdca26"
             ],
             [
              1,
              "#f0f921"
             ]
            ],
            "type": "histogram2d"
           }
          ],
          "histogram2dcontour": [
           {
            "colorbar": {
             "outlinewidth": 0,
             "ticks": ""
            },
            "colorscale": [
             [
              0,
              "#0d0887"
             ],
             [
              0.1111111111111111,
              "#46039f"
             ],
             [
              0.2222222222222222,
              "#7201a8"
             ],
             [
              0.3333333333333333,
              "#9c179e"
             ],
             [
              0.4444444444444444,
              "#bd3786"
             ],
             [
              0.5555555555555556,
              "#d8576b"
             ],
             [
              0.6666666666666666,
              "#ed7953"
             ],
             [
              0.7777777777777778,
              "#fb9f3a"
             ],
             [
              0.8888888888888888,
              "#fdca26"
             ],
             [
              1,
              "#f0f921"
             ]
            ],
            "type": "histogram2dcontour"
           }
          ],
          "mesh3d": [
           {
            "colorbar": {
             "outlinewidth": 0,
             "ticks": ""
            },
            "type": "mesh3d"
           }
          ],
          "parcoords": [
           {
            "line": {
             "colorbar": {
              "outlinewidth": 0,
              "ticks": ""
             }
            },
            "type": "parcoords"
           }
          ],
          "pie": [
           {
            "automargin": true,
            "type": "pie"
           }
          ],
          "scatter": [
           {
            "marker": {
             "colorbar": {
              "outlinewidth": 0,
              "ticks": ""
             }
            },
            "type": "scatter"
           }
          ],
          "scatter3d": [
           {
            "line": {
             "colorbar": {
              "outlinewidth": 0,
              "ticks": ""
             }
            },
            "marker": {
             "colorbar": {
              "outlinewidth": 0,
              "ticks": ""
             }
            },
            "type": "scatter3d"
           }
          ],
          "scattercarpet": [
           {
            "marker": {
             "colorbar": {
              "outlinewidth": 0,
              "ticks": ""
             }
            },
            "type": "scattercarpet"
           }
          ],
          "scattergeo": [
           {
            "marker": {
             "colorbar": {
              "outlinewidth": 0,
              "ticks": ""
             }
            },
            "type": "scattergeo"
           }
          ],
          "scattergl": [
           {
            "marker": {
             "colorbar": {
              "outlinewidth": 0,
              "ticks": ""
             }
            },
            "type": "scattergl"
           }
          ],
          "scattermapbox": [
           {
            "marker": {
             "colorbar": {
              "outlinewidth": 0,
              "ticks": ""
             }
            },
            "type": "scattermapbox"
           }
          ],
          "scatterpolar": [
           {
            "marker": {
             "colorbar": {
              "outlinewidth": 0,
              "ticks": ""
             }
            },
            "type": "scatterpolar"
           }
          ],
          "scatterpolargl": [
           {
            "marker": {
             "colorbar": {
              "outlinewidth": 0,
              "ticks": ""
             }
            },
            "type": "scatterpolargl"
           }
          ],
          "scatterternary": [
           {
            "marker": {
             "colorbar": {
              "outlinewidth": 0,
              "ticks": ""
             }
            },
            "type": "scatterternary"
           }
          ],
          "surface": [
           {
            "colorbar": {
             "outlinewidth": 0,
             "ticks": ""
            },
            "colorscale": [
             [
              0,
              "#0d0887"
             ],
             [
              0.1111111111111111,
              "#46039f"
             ],
             [
              0.2222222222222222,
              "#7201a8"
             ],
             [
              0.3333333333333333,
              "#9c179e"
             ],
             [
              0.4444444444444444,
              "#bd3786"
             ],
             [
              0.5555555555555556,
              "#d8576b"
             ],
             [
              0.6666666666666666,
              "#ed7953"
             ],
             [
              0.7777777777777778,
              "#fb9f3a"
             ],
             [
              0.8888888888888888,
              "#fdca26"
             ],
             [
              1,
              "#f0f921"
             ]
            ],
            "type": "surface"
           }
          ],
          "table": [
           {
            "cells": {
             "fill": {
              "color": "#EBF0F8"
             },
             "line": {
              "color": "white"
             }
            },
            "header": {
             "fill": {
              "color": "#C8D4E3"
             },
             "line": {
              "color": "white"
             }
            },
            "type": "table"
           }
          ]
         },
         "layout": {
          "annotationdefaults": {
           "arrowcolor": "#2a3f5f",
           "arrowhead": 0,
           "arrowwidth": 1
          },
          "coloraxis": {
           "colorbar": {
            "outlinewidth": 0,
            "ticks": ""
           }
          },
          "colorscale": {
           "diverging": [
            [
             0,
             "#8e0152"
            ],
            [
             0.1,
             "#c51b7d"
            ],
            [
             0.2,
             "#de77ae"
            ],
            [
             0.3,
             "#f1b6da"
            ],
            [
             0.4,
             "#fde0ef"
            ],
            [
             0.5,
             "#f7f7f7"
            ],
            [
             0.6,
             "#e6f5d0"
            ],
            [
             0.7,
             "#b8e186"
            ],
            [
             0.8,
             "#7fbc41"
            ],
            [
             0.9,
             "#4d9221"
            ],
            [
             1,
             "#276419"
            ]
           ],
           "sequential": [
            [
             0,
             "#0d0887"
            ],
            [
             0.1111111111111111,
             "#46039f"
            ],
            [
             0.2222222222222222,
             "#7201a8"
            ],
            [
             0.3333333333333333,
             "#9c179e"
            ],
            [
             0.4444444444444444,
             "#bd3786"
            ],
            [
             0.5555555555555556,
             "#d8576b"
            ],
            [
             0.6666666666666666,
             "#ed7953"
            ],
            [
             0.7777777777777778,
             "#fb9f3a"
            ],
            [
             0.8888888888888888,
             "#fdca26"
            ],
            [
             1,
             "#f0f921"
            ]
           ],
           "sequentialminus": [
            [
             0,
             "#0d0887"
            ],
            [
             0.1111111111111111,
             "#46039f"
            ],
            [
             0.2222222222222222,
             "#7201a8"
            ],
            [
             0.3333333333333333,
             "#9c179e"
            ],
            [
             0.4444444444444444,
             "#bd3786"
            ],
            [
             0.5555555555555556,
             "#d8576b"
            ],
            [
             0.6666666666666666,
             "#ed7953"
            ],
            [
             0.7777777777777778,
             "#fb9f3a"
            ],
            [
             0.8888888888888888,
             "#fdca26"
            ],
            [
             1,
             "#f0f921"
            ]
           ]
          },
          "colorway": [
           "#636efa",
           "#EF553B",
           "#00cc96",
           "#ab63fa",
           "#FFA15A",
           "#19d3f3",
           "#FF6692",
           "#B6E880",
           "#FF97FF",
           "#FECB52"
          ],
          "font": {
           "color": "#2a3f5f"
          },
          "geo": {
           "bgcolor": "white",
           "lakecolor": "white",
           "landcolor": "#E5ECF6",
           "showlakes": true,
           "showland": true,
           "subunitcolor": "white"
          },
          "hoverlabel": {
           "align": "left"
          },
          "hovermode": "closest",
          "mapbox": {
           "style": "light"
          },
          "paper_bgcolor": "white",
          "plot_bgcolor": "#E5ECF6",
          "polar": {
           "angularaxis": {
            "gridcolor": "white",
            "linecolor": "white",
            "ticks": ""
           },
           "bgcolor": "#E5ECF6",
           "radialaxis": {
            "gridcolor": "white",
            "linecolor": "white",
            "ticks": ""
           }
          },
          "scene": {
           "xaxis": {
            "backgroundcolor": "#E5ECF6",
            "gridcolor": "white",
            "gridwidth": 2,
            "linecolor": "white",
            "showbackground": true,
            "ticks": "",
            "zerolinecolor": "white"
           },
           "yaxis": {
            "backgroundcolor": "#E5ECF6",
            "gridcolor": "white",
            "gridwidth": 2,
            "linecolor": "white",
            "showbackground": true,
            "ticks": "",
            "zerolinecolor": "white"
           },
           "zaxis": {
            "backgroundcolor": "#E5ECF6",
            "gridcolor": "white",
            "gridwidth": 2,
            "linecolor": "white",
            "showbackground": true,
            "ticks": "",
            "zerolinecolor": "white"
           }
          },
          "shapedefaults": {
           "line": {
            "color": "#2a3f5f"
           }
          },
          "ternary": {
           "aaxis": {
            "gridcolor": "white",
            "linecolor": "white",
            "ticks": ""
           },
           "baxis": {
            "gridcolor": "white",
            "linecolor": "white",
            "ticks": ""
           },
           "bgcolor": "#E5ECF6",
           "caxis": {
            "gridcolor": "white",
            "linecolor": "white",
            "ticks": ""
           }
          },
          "title": {
           "x": 0.05
          },
          "xaxis": {
           "automargin": true,
           "gridcolor": "white",
           "linecolor": "white",
           "ticks": "",
           "title": {
            "standoff": 15
           },
           "zerolinecolor": "white",
           "zerolinewidth": 2
          },
          "yaxis": {
           "automargin": true,
           "gridcolor": "white",
           "linecolor": "white",
           "ticks": "",
           "title": {
            "standoff": 15
           },
           "zerolinecolor": "white",
           "zerolinewidth": 2
          }
         }
        },
        "yaxis": {
         "type": "log"
        }
       }
      },
      "text/html": [
       "<div>\n",
       "        \n",
       "        \n",
       "            <div id=\"25f58b85-8eef-4c80-9542-f67025314782\" class=\"plotly-graph-div\" style=\"height:525px; width:100%;\"></div>\n",
       "            <script type=\"text/javascript\">\n",
       "                require([\"plotly\"], function(Plotly) {\n",
       "                    window.PLOTLYENV=window.PLOTLYENV || {};\n",
       "                    window.PLOTLYENV.BASE_URL='https://plot.ly';\n",
       "                    \n",
       "                if (document.getElementById(\"25f58b85-8eef-4c80-9542-f67025314782\")) {\n",
       "                    Plotly.newPlot(\n",
       "                        '25f58b85-8eef-4c80-9542-f67025314782',\n",
       "                        [{\"marker\": {\"color\": \"rgba(226, 74, 51, 0.6)\", \"line\": {\"color\": \"rgba(226, 74, 51, 1.0)\", \"width\": 1}}, \"name\": \"labels\", \"orientation\": \"v\", \"text\": \"\", \"type\": \"bar\", \"x\": [\"major\", \"dominant7\", \"minor\", \"major64\", \"M3\", \"dominant65\", \"dominant43\", \"dominant2\", \"minor7\", \"major6\", \"suspension\", \"minor6\", \"minor64\", \"unison\", \"m3\", \"ambiguous\", \"diminished2\", \"diminished7\", \"P5\", \"diminished64\", \"m6\", \"P4\", \"diminished\", \"M7\", \"D5\", \"M2\", \"M6\", \"D3\"], \"y\": [3368, 2166, 576, 383, 279, 271, 205, 179, 165, 165, 152, 125, 107, 72, 58, 56, 44, 40, 32, 17, 8, 8, 6, 5, 3, 3, 1, 1]}],\n",
       "                        {\"template\": {\"data\": {\"bar\": [{\"error_x\": {\"color\": \"#2a3f5f\"}, \"error_y\": {\"color\": \"#2a3f5f\"}, \"marker\": {\"line\": {\"color\": \"#E5ECF6\", \"width\": 0.5}}, \"type\": \"bar\"}], \"barpolar\": [{\"marker\": {\"line\": {\"color\": \"#E5ECF6\", \"width\": 0.5}}, \"type\": \"barpolar\"}], \"carpet\": [{\"aaxis\": {\"endlinecolor\": \"#2a3f5f\", \"gridcolor\": \"white\", \"linecolor\": \"white\", \"minorgridcolor\": \"white\", \"startlinecolor\": \"#2a3f5f\"}, \"baxis\": {\"endlinecolor\": \"#2a3f5f\", \"gridcolor\": \"white\", \"linecolor\": \"white\", \"minorgridcolor\": \"white\", \"startlinecolor\": \"#2a3f5f\"}, \"type\": \"carpet\"}], \"choropleth\": [{\"colorbar\": {\"outlinewidth\": 0, \"ticks\": \"\"}, \"type\": \"choropleth\"}], \"contour\": [{\"colorbar\": {\"outlinewidth\": 0, \"ticks\": \"\"}, \"colorscale\": [[0.0, \"#0d0887\"], [0.1111111111111111, \"#46039f\"], [0.2222222222222222, \"#7201a8\"], [0.3333333333333333, \"#9c179e\"], [0.4444444444444444, \"#bd3786\"], [0.5555555555555556, \"#d8576b\"], [0.6666666666666666, \"#ed7953\"], [0.7777777777777778, \"#fb9f3a\"], [0.8888888888888888, \"#fdca26\"], [1.0, \"#f0f921\"]], \"type\": \"contour\"}], \"contourcarpet\": [{\"colorbar\": {\"outlinewidth\": 0, \"ticks\": \"\"}, \"type\": \"contourcarpet\"}], \"heatmap\": [{\"colorbar\": {\"outlinewidth\": 0, \"ticks\": \"\"}, \"colorscale\": [[0.0, \"#0d0887\"], [0.1111111111111111, \"#46039f\"], [0.2222222222222222, \"#7201a8\"], [0.3333333333333333, \"#9c179e\"], [0.4444444444444444, \"#bd3786\"], [0.5555555555555556, \"#d8576b\"], [0.6666666666666666, \"#ed7953\"], [0.7777777777777778, \"#fb9f3a\"], [0.8888888888888888, \"#fdca26\"], [1.0, \"#f0f921\"]], \"type\": \"heatmap\"}], \"heatmapgl\": [{\"colorbar\": {\"outlinewidth\": 0, \"ticks\": \"\"}, \"colorscale\": [[0.0, \"#0d0887\"], [0.1111111111111111, \"#46039f\"], [0.2222222222222222, \"#7201a8\"], [0.3333333333333333, \"#9c179e\"], [0.4444444444444444, \"#bd3786\"], [0.5555555555555556, \"#d8576b\"], [0.6666666666666666, \"#ed7953\"], [0.7777777777777778, \"#fb9f3a\"], [0.8888888888888888, \"#fdca26\"], [1.0, \"#f0f921\"]], \"type\": \"heatmapgl\"}], \"histogram\": [{\"marker\": {\"colorbar\": {\"outlinewidth\": 0, \"ticks\": \"\"}}, \"type\": \"histogram\"}], \"histogram2d\": [{\"colorbar\": {\"outlinewidth\": 0, \"ticks\": \"\"}, \"colorscale\": [[0.0, \"#0d0887\"], [0.1111111111111111, \"#46039f\"], [0.2222222222222222, \"#7201a8\"], [0.3333333333333333, \"#9c179e\"], [0.4444444444444444, \"#bd3786\"], [0.5555555555555556, \"#d8576b\"], [0.6666666666666666, \"#ed7953\"], [0.7777777777777778, \"#fb9f3a\"], [0.8888888888888888, \"#fdca26\"], [1.0, \"#f0f921\"]], \"type\": \"histogram2d\"}], \"histogram2dcontour\": [{\"colorbar\": {\"outlinewidth\": 0, \"ticks\": \"\"}, \"colorscale\": [[0.0, \"#0d0887\"], [0.1111111111111111, \"#46039f\"], [0.2222222222222222, \"#7201a8\"], [0.3333333333333333, \"#9c179e\"], [0.4444444444444444, \"#bd3786\"], [0.5555555555555556, \"#d8576b\"], [0.6666666666666666, \"#ed7953\"], [0.7777777777777778, \"#fb9f3a\"], [0.8888888888888888, \"#fdca26\"], [1.0, \"#f0f921\"]], \"type\": \"histogram2dcontour\"}], \"mesh3d\": [{\"colorbar\": {\"outlinewidth\": 0, \"ticks\": \"\"}, \"type\": \"mesh3d\"}], \"parcoords\": [{\"line\": {\"colorbar\": {\"outlinewidth\": 0, \"ticks\": \"\"}}, \"type\": \"parcoords\"}], \"pie\": [{\"automargin\": true, \"type\": \"pie\"}], \"scatter\": [{\"marker\": {\"colorbar\": {\"outlinewidth\": 0, \"ticks\": \"\"}}, \"type\": \"scatter\"}], \"scatter3d\": [{\"line\": {\"colorbar\": {\"outlinewidth\": 0, \"ticks\": \"\"}}, \"marker\": {\"colorbar\": {\"outlinewidth\": 0, \"ticks\": \"\"}}, \"type\": \"scatter3d\"}], \"scattercarpet\": [{\"marker\": {\"colorbar\": {\"outlinewidth\": 0, \"ticks\": \"\"}}, \"type\": \"scattercarpet\"}], \"scattergeo\": [{\"marker\": {\"colorbar\": {\"outlinewidth\": 0, \"ticks\": \"\"}}, \"type\": \"scattergeo\"}], \"scattergl\": [{\"marker\": {\"colorbar\": {\"outlinewidth\": 0, \"ticks\": \"\"}}, \"type\": \"scattergl\"}], \"scattermapbox\": [{\"marker\": {\"colorbar\": {\"outlinewidth\": 0, \"ticks\": \"\"}}, \"type\": \"scattermapbox\"}], \"scatterpolar\": [{\"marker\": {\"colorbar\": {\"outlinewidth\": 0, \"ticks\": \"\"}}, \"type\": \"scatterpolar\"}], \"scatterpolargl\": [{\"marker\": {\"colorbar\": {\"outlinewidth\": 0, \"ticks\": \"\"}}, \"type\": \"scatterpolargl\"}], \"scatterternary\": [{\"marker\": {\"colorbar\": {\"outlinewidth\": 0, \"ticks\": \"\"}}, \"type\": \"scatterternary\"}], \"surface\": [{\"colorbar\": {\"outlinewidth\": 0, \"ticks\": \"\"}, \"colorscale\": [[0.0, \"#0d0887\"], [0.1111111111111111, \"#46039f\"], [0.2222222222222222, \"#7201a8\"], [0.3333333333333333, \"#9c179e\"], [0.4444444444444444, \"#bd3786\"], [0.5555555555555556, \"#d8576b\"], [0.6666666666666666, \"#ed7953\"], [0.7777777777777778, \"#fb9f3a\"], [0.8888888888888888, \"#fdca26\"], [1.0, \"#f0f921\"]], \"type\": \"surface\"}], \"table\": [{\"cells\": {\"fill\": {\"color\": \"#EBF0F8\"}, \"line\": {\"color\": \"white\"}}, \"header\": {\"fill\": {\"color\": \"#C8D4E3\"}, \"line\": {\"color\": \"white\"}}, \"type\": \"table\"}]}, \"layout\": {\"annotationdefaults\": {\"arrowcolor\": \"#2a3f5f\", \"arrowhead\": 0, \"arrowwidth\": 1}, \"coloraxis\": {\"colorbar\": {\"outlinewidth\": 0, \"ticks\": \"\"}}, \"colorscale\": {\"diverging\": [[0, \"#8e0152\"], [0.1, \"#c51b7d\"], [0.2, \"#de77ae\"], [0.3, \"#f1b6da\"], [0.4, \"#fde0ef\"], [0.5, \"#f7f7f7\"], [0.6, \"#e6f5d0\"], [0.7, \"#b8e186\"], [0.8, \"#7fbc41\"], [0.9, \"#4d9221\"], [1, \"#276419\"]], \"sequential\": [[0.0, \"#0d0887\"], [0.1111111111111111, \"#46039f\"], [0.2222222222222222, \"#7201a8\"], [0.3333333333333333, \"#9c179e\"], [0.4444444444444444, \"#bd3786\"], [0.5555555555555556, \"#d8576b\"], [0.6666666666666666, \"#ed7953\"], [0.7777777777777778, \"#fb9f3a\"], [0.8888888888888888, \"#fdca26\"], [1.0, \"#f0f921\"]], \"sequentialminus\": [[0.0, \"#0d0887\"], [0.1111111111111111, \"#46039f\"], [0.2222222222222222, \"#7201a8\"], [0.3333333333333333, \"#9c179e\"], [0.4444444444444444, \"#bd3786\"], [0.5555555555555556, \"#d8576b\"], [0.6666666666666666, \"#ed7953\"], [0.7777777777777778, \"#fb9f3a\"], [0.8888888888888888, \"#fdca26\"], [1.0, \"#f0f921\"]]}, \"colorway\": [\"#636efa\", \"#EF553B\", \"#00cc96\", \"#ab63fa\", \"#FFA15A\", \"#19d3f3\", \"#FF6692\", \"#B6E880\", \"#FF97FF\", \"#FECB52\"], \"font\": {\"color\": \"#2a3f5f\"}, \"geo\": {\"bgcolor\": \"white\", \"lakecolor\": \"white\", \"landcolor\": \"#E5ECF6\", \"showlakes\": true, \"showland\": true, \"subunitcolor\": \"white\"}, \"hoverlabel\": {\"align\": \"left\"}, \"hovermode\": \"closest\", \"mapbox\": {\"style\": \"light\"}, \"paper_bgcolor\": \"white\", \"plot_bgcolor\": \"#E5ECF6\", \"polar\": {\"angularaxis\": {\"gridcolor\": \"white\", \"linecolor\": \"white\", \"ticks\": \"\"}, \"bgcolor\": \"#E5ECF6\", \"radialaxis\": {\"gridcolor\": \"white\", \"linecolor\": \"white\", \"ticks\": \"\"}}, \"scene\": {\"xaxis\": {\"backgroundcolor\": \"#E5ECF6\", \"gridcolor\": \"white\", \"gridwidth\": 2, \"linecolor\": \"white\", \"showbackground\": true, \"ticks\": \"\", \"zerolinecolor\": \"white\"}, \"yaxis\": {\"backgroundcolor\": \"#E5ECF6\", \"gridcolor\": \"white\", \"gridwidth\": 2, \"linecolor\": \"white\", \"showbackground\": true, \"ticks\": \"\", \"zerolinecolor\": \"white\"}, \"zaxis\": {\"backgroundcolor\": \"#E5ECF6\", \"gridcolor\": \"white\", \"gridwidth\": 2, \"linecolor\": \"white\", \"showbackground\": true, \"ticks\": \"\", \"zerolinecolor\": \"white\"}}, \"shapedefaults\": {\"line\": {\"color\": \"#2a3f5f\"}}, \"ternary\": {\"aaxis\": {\"gridcolor\": \"white\", \"linecolor\": \"white\", \"ticks\": \"\"}, \"baxis\": {\"gridcolor\": \"white\", \"linecolor\": \"white\", \"ticks\": \"\"}, \"bgcolor\": \"#E5ECF6\", \"caxis\": {\"gridcolor\": \"white\", \"linecolor\": \"white\", \"ticks\": \"\"}}, \"title\": {\"x\": 0.05}, \"xaxis\": {\"automargin\": true, \"gridcolor\": \"white\", \"linecolor\": \"white\", \"ticks\": \"\", \"title\": {\"standoff\": 15}, \"zerolinecolor\": \"white\", \"zerolinewidth\": 2}, \"yaxis\": {\"automargin\": true, \"gridcolor\": \"white\", \"linecolor\": \"white\", \"ticks\": \"\", \"title\": {\"standoff\": 15}, \"zerolinecolor\": \"white\", \"zerolinewidth\": 2}}}, \"yaxis\": {\"type\": \"log\"}},\n",
       "                        {\"showLink\": true, \"linkText\": \"Export to plot.ly\", \"plotlyServerURL\": \"https://plot.ly\", \"responsive\": true}\n",
       "                    ).then(function(){\n",
       "                            \n",
       "var gd = document.getElementById('25f58b85-8eef-4c80-9542-f67025314782');\n",
       "var x = new MutationObserver(function (mutations, observer) {{\n",
       "        var display = window.getComputedStyle(gd).display;\n",
       "        if (!display || display === 'none') {{\n",
       "            console.log([gd, 'removed!']);\n",
       "            Plotly.purge(gd);\n",
       "            observer.disconnect();\n",
       "        }}\n",
       "}});\n",
       "\n",
       "// Listen for the removal of the full notebook cells\n",
       "var notebookContainer = gd.closest('#notebook-container');\n",
       "if (notebookContainer) {{\n",
       "    x.observe(notebookContainer, {childList: true});\n",
       "}}\n",
       "\n",
       "// Listen for the clearing of the current output cell\n",
       "var outputEl = gd.closest('.output');\n",
       "if (outputEl) {{\n",
       "    x.observe(outputEl, {childList: true});\n",
       "}}\n",
       "\n",
       "                        })\n",
       "                };\n",
       "                });\n",
       "            </script>\n",
       "        </div>"
      ]
     },
     "metadata": {},
     "output_type": "display_data"
    }
   ],
   "source": [
    "chord_profiles.labels.value_counts().iplot('bar', \n",
    "                                           title='Distribution over chord types', \n",
    "                                           xTitle='Chord types', \n",
    "                                           yTitle='Counts', \n",
    "                                           layout=dict(yaxis={'type':'log'}))"
   ]
  },
  {
   "cell_type": "markdown",
   "metadata": {},
   "source": [
    "The vast majority of bass notes are those of the diatonic scale (95 %). Only 5 % of all bass notes have accidentals. We consider this distribution to indicate a quite simple harmonic language, as we would expect in the stylistic context of short dances. This is further supported by the distribution of chord types, where the majority "
   ]
  },
  {
   "cell_type": "code",
   "execution_count": null,
   "metadata": {},
   "outputs": [],
   "source": []
  },
  {
   "cell_type": "markdown",
   "metadata": {},
   "source": [
    "## Repeating pattern detection with auto-correlation\n",
    "\n",
    "One common task in musicology is to identify _repeating patterns_ in a piece.\n",
    "\n",
    "For instance, a piece may be composed of 3 parts _A_, _B_, _C_, repeated as: _A-B-A-C_.\n",
    "\n",
    "Here we will focus on automating this detection process in our dataset of dance pieces."
   ]
  },
  {
   "cell_type": "code",
   "execution_count": 232,
   "metadata": {},
   "outputs": [],
   "source": [
    "# Compute all the graphs for this part of the data story \n",
    "from tools import datastory_patterns as dsp"
   ]
  },
  {
   "cell_type": "markdown",
   "metadata": {},
   "source": [
    "### How to identify a repeating part from a new part?\n",
    "\n",
    "The criterion to distinguish one part from another might be considered listener-dependent.\n",
    "One listener could for instance choose to identify parts as the overall _melody change_, but what makes for _enough_ melody change is left to arbitrary judgements.\n",
    "\n",
    "As an arguably more unanimous (and calculable) way to distiguish parts, we will consider that segment A repeats in segment B when a _sufficient fraction_ of the notes of A appear in B.\n",
    "Our first step to identify repeating patterns will then be to look for common notes for every two segments A and B.\n",
    "\n",
    "In classical music, a part is _necessarily_ composed of a whole number of metrics.\n",
    "To find repetitions, we will then have to compare every measure of a piece with each other measure of the same piece.\n",
    "\n",
    "The operations we will perform are called _auto-correlations_."
   ]
  },
  {
   "cell_type": "markdown",
   "metadata": {},
   "source": [
    "### Definition of an auto-correlation for a musical piece\n",
    "\n",
    "Let a piece $A$ be a sequence of measures (in the musical sense) $a_x, x \\in \\left\\lbrace 0 ~..~ n \\right\\rbrace$.\n",
    "\n",
    "The auto-correlation of a **segment** $A_{\\alpha, \\beta} \\triangleq \\left[ a_\\alpha ~..~ a_\\beta \\right]$ of $A$ over $A$ is defined by:\n",
    "$$C_{A, \\alpha, \\beta}\\left( \\delta \\right) = \\sum\\limits_{i=\\alpha}^{\\beta}{a_i \\cdot a_{i + \\delta}}$$\n",
    "\n",
    "We then need to define a product function '$\\cdot$' that counts how many notes match in the two given measures $a_x$ and $a_y$.\n",
    "That is, the number of notes having same _pitches_ and same _onsets_ (i.e., start time relative to the beginning of the measure).\n",
    "When measure $a_i$ is outside the piece, it is considered empty: its product with any other measure is 0.\n",
    "There is a small peculiarity though: a sharp C is not equivalent to a flat D, although the same key would be pressed on a piano.\n",
    "Writing a flat D in a composition instead of a sharp C **may** reflect a global key change, which **may** be a hint for a section change.\n",
    "\n",
    "So we will consider two product functions: one matching _onset_ and _piano key_ (C♯4 matches D♭4, but C♯4 does not match C♯5), another matching _onset_ and _pitch class_ (C♯4 does not match D♭4, but C♯4 matches C♯5).\n",
    "The former function will be called the _key-product_, and the latter the _class-product_."
   ]
  },
  {
   "cell_type": "markdown",
   "metadata": {},
   "source": [
    "### Using auto-correlation for initial section detection\n",
    "\n",
    "If a piece $A$ has repeating sections, we should expect to observe relatively high products $a_x \\cdot a_y$ for $x \\neq y$.\n",
    "\n",
    "Printing each pairwise product $a_x · a_y$ in a heatmap for the first piece (D41 menuett n°1), we can observe with respectively the _key-_ and _class-products_:"
   ]
  },
  {
   "cell_type": "code",
   "execution_count": 233,
   "metadata": {},
   "outputs": [
    {
     "data": {
      "application/vnd.plotly.v1+json": {
       "config": {
        "plotlyServerURL": "https://plot.ly"
       },
       "data": [
        {
         "type": "heatmap",
         "z": [
          [
           4,
           2,
           0,
           0,
           0,
           2,
           0,
           0,
           1,
           0,
           0,
           0,
           0,
           2,
           0,
           1,
           0
          ],
          [
           2,
           9,
           4,
           2,
           0,
           9,
           4,
           1,
           1,
           2,
           0,
           0,
           0,
           9,
           4,
           1,
           0
          ],
          [
           0,
           4,
           10,
           3,
           1,
           4,
           10,
           2,
           1,
           3,
           3,
           1,
           1,
           4,
           10,
           2,
           1
          ],
          [
           0,
           2,
           3,
           11,
           1,
           2,
           3,
           2,
           1,
           1,
           1,
           2,
           1,
           2,
           3,
           3,
           1
          ],
          [
           0,
           0,
           1,
           1,
           10,
           0,
           1,
           1,
           0,
           1,
           1,
           0,
           7,
           0,
           1,
           1,
           2
          ],
          [
           2,
           9,
           4,
           2,
           0,
           9,
           4,
           1,
           1,
           2,
           0,
           0,
           0,
           9,
           4,
           1,
           0
          ],
          [
           0,
           4,
           10,
           3,
           1,
           4,
           10,
           2,
           1,
           3,
           3,
           1,
           1,
           4,
           10,
           2,
           1
          ],
          [
           0,
           1,
           2,
           2,
           1,
           1,
           2,
           13,
           1,
           1,
           1,
           2,
           1,
           1,
           2,
           3,
           2
          ],
          [
           1,
           1,
           1,
           1,
           0,
           1,
           1,
           1,
           13,
           4,
           4,
           1,
           2,
           1,
           1,
           2,
           0
          ],
          [
           0,
           2,
           3,
           1,
           1,
           2,
           3,
           1,
           4,
           13,
           9,
           2,
           3,
           2,
           3,
           4,
           0
          ],
          [
           0,
           0,
           3,
           1,
           1,
           0,
           3,
           1,
           4,
           9,
           9,
           2,
           3,
           0,
           3,
           4,
           0
          ],
          [
           0,
           0,
           1,
           2,
           0,
           0,
           1,
           2,
           1,
           2,
           2,
           12,
           1,
           0,
           1,
           2,
           0
          ],
          [
           0,
           0,
           1,
           1,
           7,
           0,
           1,
           1,
           2,
           3,
           3,
           1,
           11,
           0,
           1,
           1,
           1
          ],
          [
           2,
           9,
           4,
           2,
           0,
           9,
           4,
           1,
           1,
           2,
           0,
           0,
           0,
           9,
           4,
           1,
           0
          ],
          [
           0,
           4,
           10,
           3,
           1,
           4,
           10,
           2,
           1,
           3,
           3,
           1,
           1,
           4,
           10,
           2,
           1
          ],
          [
           1,
           1,
           2,
           3,
           1,
           1,
           2,
           3,
           2,
           4,
           4,
           2,
           1,
           1,
           2,
           12,
           2
          ],
          [
           0,
           0,
           1,
           1,
           2,
           0,
           1,
           2,
           0,
           0,
           0,
           0,
           1,
           0,
           1,
           2,
           4
          ]
         ]
        }
       ],
       "layout": {
        "template": {
         "data": {
          "bar": [
           {
            "error_x": {
             "color": "#2a3f5f"
            },
            "error_y": {
             "color": "#2a3f5f"
            },
            "marker": {
             "line": {
              "color": "#E5ECF6",
              "width": 0.5
             }
            },
            "type": "bar"
           }
          ],
          "barpolar": [
           {
            "marker": {
             "line": {
              "color": "#E5ECF6",
              "width": 0.5
             }
            },
            "type": "barpolar"
           }
          ],
          "carpet": [
           {
            "aaxis": {
             "endlinecolor": "#2a3f5f",
             "gridcolor": "white",
             "linecolor": "white",
             "minorgridcolor": "white",
             "startlinecolor": "#2a3f5f"
            },
            "baxis": {
             "endlinecolor": "#2a3f5f",
             "gridcolor": "white",
             "linecolor": "white",
             "minorgridcolor": "white",
             "startlinecolor": "#2a3f5f"
            },
            "type": "carpet"
           }
          ],
          "choropleth": [
           {
            "colorbar": {
             "outlinewidth": 0,
             "ticks": ""
            },
            "type": "choropleth"
           }
          ],
          "contour": [
           {
            "colorbar": {
             "outlinewidth": 0,
             "ticks": ""
            },
            "colorscale": [
             [
              0,
              "#0d0887"
             ],
             [
              0.1111111111111111,
              "#46039f"
             ],
             [
              0.2222222222222222,
              "#7201a8"
             ],
             [
              0.3333333333333333,
              "#9c179e"
             ],
             [
              0.4444444444444444,
              "#bd3786"
             ],
             [
              0.5555555555555556,
              "#d8576b"
             ],
             [
              0.6666666666666666,
              "#ed7953"
             ],
             [
              0.7777777777777778,
              "#fb9f3a"
             ],
             [
              0.8888888888888888,
              "#fdca26"
             ],
             [
              1,
              "#f0f921"
             ]
            ],
            "type": "contour"
           }
          ],
          "contourcarpet": [
           {
            "colorbar": {
             "outlinewidth": 0,
             "ticks": ""
            },
            "type": "contourcarpet"
           }
          ],
          "heatmap": [
           {
            "colorbar": {
             "outlinewidth": 0,
             "ticks": ""
            },
            "colorscale": [
             [
              0,
              "#0d0887"
             ],
             [
              0.1111111111111111,
              "#46039f"
             ],
             [
              0.2222222222222222,
              "#7201a8"
             ],
             [
              0.3333333333333333,
              "#9c179e"
             ],
             [
              0.4444444444444444,
              "#bd3786"
             ],
             [
              0.5555555555555556,
              "#d8576b"
             ],
             [
              0.6666666666666666,
              "#ed7953"
             ],
             [
              0.7777777777777778,
              "#fb9f3a"
             ],
             [
              0.8888888888888888,
              "#fdca26"
             ],
             [
              1,
              "#f0f921"
             ]
            ],
            "type": "heatmap"
           }
          ],
          "heatmapgl": [
           {
            "colorbar": {
             "outlinewidth": 0,
             "ticks": ""
            },
            "colorscale": [
             [
              0,
              "#0d0887"
             ],
             [
              0.1111111111111111,
              "#46039f"
             ],
             [
              0.2222222222222222,
              "#7201a8"
             ],
             [
              0.3333333333333333,
              "#9c179e"
             ],
             [
              0.4444444444444444,
              "#bd3786"
             ],
             [
              0.5555555555555556,
              "#d8576b"
             ],
             [
              0.6666666666666666,
              "#ed7953"
             ],
             [
              0.7777777777777778,
              "#fb9f3a"
             ],
             [
              0.8888888888888888,
              "#fdca26"
             ],
             [
              1,
              "#f0f921"
             ]
            ],
            "type": "heatmapgl"
           }
          ],
          "histogram": [
           {
            "marker": {
             "colorbar": {
              "outlinewidth": 0,
              "ticks": ""
             }
            },
            "type": "histogram"
           }
          ],
          "histogram2d": [
           {
            "colorbar": {
             "outlinewidth": 0,
             "ticks": ""
            },
            "colorscale": [
             [
              0,
              "#0d0887"
             ],
             [
              0.1111111111111111,
              "#46039f"
             ],
             [
              0.2222222222222222,
              "#7201a8"
             ],
             [
              0.3333333333333333,
              "#9c179e"
             ],
             [
              0.4444444444444444,
              "#bd3786"
             ],
             [
              0.5555555555555556,
              "#d8576b"
             ],
             [
              0.6666666666666666,
              "#ed7953"
             ],
             [
              0.7777777777777778,
              "#fb9f3a"
             ],
             [
              0.8888888888888888,
              "#fdca26"
             ],
             [
              1,
              "#f0f921"
             ]
            ],
            "type": "histogram2d"
           }
          ],
          "histogram2dcontour": [
           {
            "colorbar": {
             "outlinewidth": 0,
             "ticks": ""
            },
            "colorscale": [
             [
              0,
              "#0d0887"
             ],
             [
              0.1111111111111111,
              "#46039f"
             ],
             [
              0.2222222222222222,
              "#7201a8"
             ],
             [
              0.3333333333333333,
              "#9c179e"
             ],
             [
              0.4444444444444444,
              "#bd3786"
             ],
             [
              0.5555555555555556,
              "#d8576b"
             ],
             [
              0.6666666666666666,
              "#ed7953"
             ],
             [
              0.7777777777777778,
              "#fb9f3a"
             ],
             [
              0.8888888888888888,
              "#fdca26"
             ],
             [
              1,
              "#f0f921"
             ]
            ],
            "type": "histogram2dcontour"
           }
          ],
          "mesh3d": [
           {
            "colorbar": {
             "outlinewidth": 0,
             "ticks": ""
            },
            "type": "mesh3d"
           }
          ],
          "parcoords": [
           {
            "line": {
             "colorbar": {
              "outlinewidth": 0,
              "ticks": ""
             }
            },
            "type": "parcoords"
           }
          ],
          "pie": [
           {
            "automargin": true,
            "type": "pie"
           }
          ],
          "scatter": [
           {
            "marker": {
             "colorbar": {
              "outlinewidth": 0,
              "ticks": ""
             }
            },
            "type": "scatter"
           }
          ],
          "scatter3d": [
           {
            "line": {
             "colorbar": {
              "outlinewidth": 0,
              "ticks": ""
             }
            },
            "marker": {
             "colorbar": {
              "outlinewidth": 0,
              "ticks": ""
             }
            },
            "type": "scatter3d"
           }
          ],
          "scattercarpet": [
           {
            "marker": {
             "colorbar": {
              "outlinewidth": 0,
              "ticks": ""
             }
            },
            "type": "scattercarpet"
           }
          ],
          "scattergeo": [
           {
            "marker": {
             "colorbar": {
              "outlinewidth": 0,
              "ticks": ""
             }
            },
            "type": "scattergeo"
           }
          ],
          "scattergl": [
           {
            "marker": {
             "colorbar": {
              "outlinewidth": 0,
              "ticks": ""
             }
            },
            "type": "scattergl"
           }
          ],
          "scattermapbox": [
           {
            "marker": {
             "colorbar": {
              "outlinewidth": 0,
              "ticks": ""
             }
            },
            "type": "scattermapbox"
           }
          ],
          "scatterpolar": [
           {
            "marker": {
             "colorbar": {
              "outlinewidth": 0,
              "ticks": ""
             }
            },
            "type": "scatterpolar"
           }
          ],
          "scatterpolargl": [
           {
            "marker": {
             "colorbar": {
              "outlinewidth": 0,
              "ticks": ""
             }
            },
            "type": "scatterpolargl"
           }
          ],
          "scatterternary": [
           {
            "marker": {
             "colorbar": {
              "outlinewidth": 0,
              "ticks": ""
             }
            },
            "type": "scatterternary"
           }
          ],
          "surface": [
           {
            "colorbar": {
             "outlinewidth": 0,
             "ticks": ""
            },
            "colorscale": [
             [
              0,
              "#0d0887"
             ],
             [
              0.1111111111111111,
              "#46039f"
             ],
             [
              0.2222222222222222,
              "#7201a8"
             ],
             [
              0.3333333333333333,
              "#9c179e"
             ],
             [
              0.4444444444444444,
              "#bd3786"
             ],
             [
              0.5555555555555556,
              "#d8576b"
             ],
             [
              0.6666666666666666,
              "#ed7953"
             ],
             [
              0.7777777777777778,
              "#fb9f3a"
             ],
             [
              0.8888888888888888,
              "#fdca26"
             ],
             [
              1,
              "#f0f921"
             ]
            ],
            "type": "surface"
           }
          ],
          "table": [
           {
            "cells": {
             "fill": {
              "color": "#EBF0F8"
             },
             "line": {
              "color": "white"
             }
            },
            "header": {
             "fill": {
              "color": "#C8D4E3"
             },
             "line": {
              "color": "white"
             }
            },
            "type": "table"
           }
          ]
         },
         "layout": {
          "annotationdefaults": {
           "arrowcolor": "#2a3f5f",
           "arrowhead": 0,
           "arrowwidth": 1
          },
          "coloraxis": {
           "colorbar": {
            "outlinewidth": 0,
            "ticks": ""
           }
          },
          "colorscale": {
           "diverging": [
            [
             0,
             "#8e0152"
            ],
            [
             0.1,
             "#c51b7d"
            ],
            [
             0.2,
             "#de77ae"
            ],
            [
             0.3,
             "#f1b6da"
            ],
            [
             0.4,
             "#fde0ef"
            ],
            [
             0.5,
             "#f7f7f7"
            ],
            [
             0.6,
             "#e6f5d0"
            ],
            [
             0.7,
             "#b8e186"
            ],
            [
             0.8,
             "#7fbc41"
            ],
            [
             0.9,
             "#4d9221"
            ],
            [
             1,
             "#276419"
            ]
           ],
           "sequential": [
            [
             0,
             "#0d0887"
            ],
            [
             0.1111111111111111,
             "#46039f"
            ],
            [
             0.2222222222222222,
             "#7201a8"
            ],
            [
             0.3333333333333333,
             "#9c179e"
            ],
            [
             0.4444444444444444,
             "#bd3786"
            ],
            [
             0.5555555555555556,
             "#d8576b"
            ],
            [
             0.6666666666666666,
             "#ed7953"
            ],
            [
             0.7777777777777778,
             "#fb9f3a"
            ],
            [
             0.8888888888888888,
             "#fdca26"
            ],
            [
             1,
             "#f0f921"
            ]
           ],
           "sequentialminus": [
            [
             0,
             "#0d0887"
            ],
            [
             0.1111111111111111,
             "#46039f"
            ],
            [
             0.2222222222222222,
             "#7201a8"
            ],
            [
             0.3333333333333333,
             "#9c179e"
            ],
            [
             0.4444444444444444,
             "#bd3786"
            ],
            [
             0.5555555555555556,
             "#d8576b"
            ],
            [
             0.6666666666666666,
             "#ed7953"
            ],
            [
             0.7777777777777778,
             "#fb9f3a"
            ],
            [
             0.8888888888888888,
             "#fdca26"
            ],
            [
             1,
             "#f0f921"
            ]
           ]
          },
          "colorway": [
           "#636efa",
           "#EF553B",
           "#00cc96",
           "#ab63fa",
           "#FFA15A",
           "#19d3f3",
           "#FF6692",
           "#B6E880",
           "#FF97FF",
           "#FECB52"
          ],
          "font": {
           "color": "#2a3f5f"
          },
          "geo": {
           "bgcolor": "white",
           "lakecolor": "white",
           "landcolor": "#E5ECF6",
           "showlakes": true,
           "showland": true,
           "subunitcolor": "white"
          },
          "hoverlabel": {
           "align": "left"
          },
          "hovermode": "closest",
          "mapbox": {
           "style": "light"
          },
          "paper_bgcolor": "white",
          "plot_bgcolor": "#E5ECF6",
          "polar": {
           "angularaxis": {
            "gridcolor": "white",
            "linecolor": "white",
            "ticks": ""
           },
           "bgcolor": "#E5ECF6",
           "radialaxis": {
            "gridcolor": "white",
            "linecolor": "white",
            "ticks": ""
           }
          },
          "scene": {
           "xaxis": {
            "backgroundcolor": "#E5ECF6",
            "gridcolor": "white",
            "gridwidth": 2,
            "linecolor": "white",
            "showbackground": true,
            "ticks": "",
            "zerolinecolor": "white"
           },
           "yaxis": {
            "backgroundcolor": "#E5ECF6",
            "gridcolor": "white",
            "gridwidth": 2,
            "linecolor": "white",
            "showbackground": true,
            "ticks": "",
            "zerolinecolor": "white"
           },
           "zaxis": {
            "backgroundcolor": "#E5ECF6",
            "gridcolor": "white",
            "gridwidth": 2,
            "linecolor": "white",
            "showbackground": true,
            "ticks": "",
            "zerolinecolor": "white"
           }
          },
          "shapedefaults": {
           "line": {
            "color": "#2a3f5f"
           }
          },
          "ternary": {
           "aaxis": {
            "gridcolor": "white",
            "linecolor": "white",
            "ticks": ""
           },
           "baxis": {
            "gridcolor": "white",
            "linecolor": "white",
            "ticks": ""
           },
           "bgcolor": "#E5ECF6",
           "caxis": {
            "gridcolor": "white",
            "linecolor": "white",
            "ticks": ""
           }
          },
          "title": {
           "x": 0.05
          },
          "xaxis": {
           "automargin": true,
           "gridcolor": "white",
           "linecolor": "white",
           "ticks": "",
           "title": {
            "standoff": 15
           },
           "zerolinecolor": "white",
           "zerolinewidth": 2
          },
          "yaxis": {
           "automargin": true,
           "gridcolor": "white",
           "linecolor": "white",
           "ticks": "",
           "title": {
            "standoff": 15
           },
           "zerolinecolor": "white",
           "zerolinewidth": 2
          }
         }
        },
        "title": {
         "text": "Auto-correlation product of each measure with each others for D41 menuett n°1 using the key-product"
        },
        "xaxis": {
         "title": {
          "text": "Measure index"
         }
        },
        "yaxis": {
         "title": {
          "text": "Measure index"
         }
        }
       }
      },
      "text/html": [
       "<div>\n",
       "        \n",
       "        \n",
       "            <div id=\"e29d7f52-d304-439f-a2fa-24f63a2eb5d9\" class=\"plotly-graph-div\" style=\"height:525px; width:100%;\"></div>\n",
       "            <script type=\"text/javascript\">\n",
       "                require([\"plotly\"], function(Plotly) {\n",
       "                    window.PLOTLYENV=window.PLOTLYENV || {};\n",
       "                    \n",
       "                if (document.getElementById(\"e29d7f52-d304-439f-a2fa-24f63a2eb5d9\")) {\n",
       "                    Plotly.newPlot(\n",
       "                        'e29d7f52-d304-439f-a2fa-24f63a2eb5d9',\n",
       "                        [{\"type\": \"heatmap\", \"z\": [[4, 2, 0, 0, 0, 2, 0, 0, 1, 0, 0, 0, 0, 2, 0, 1, 0], [2, 9, 4, 2, 0, 9, 4, 1, 1, 2, 0, 0, 0, 9, 4, 1, 0], [0, 4, 10, 3, 1, 4, 10, 2, 1, 3, 3, 1, 1, 4, 10, 2, 1], [0, 2, 3, 11, 1, 2, 3, 2, 1, 1, 1, 2, 1, 2, 3, 3, 1], [0, 0, 1, 1, 10, 0, 1, 1, 0, 1, 1, 0, 7, 0, 1, 1, 2], [2, 9, 4, 2, 0, 9, 4, 1, 1, 2, 0, 0, 0, 9, 4, 1, 0], [0, 4, 10, 3, 1, 4, 10, 2, 1, 3, 3, 1, 1, 4, 10, 2, 1], [0, 1, 2, 2, 1, 1, 2, 13, 1, 1, 1, 2, 1, 1, 2, 3, 2], [1, 1, 1, 1, 0, 1, 1, 1, 13, 4, 4, 1, 2, 1, 1, 2, 0], [0, 2, 3, 1, 1, 2, 3, 1, 4, 13, 9, 2, 3, 2, 3, 4, 0], [0, 0, 3, 1, 1, 0, 3, 1, 4, 9, 9, 2, 3, 0, 3, 4, 0], [0, 0, 1, 2, 0, 0, 1, 2, 1, 2, 2, 12, 1, 0, 1, 2, 0], [0, 0, 1, 1, 7, 0, 1, 1, 2, 3, 3, 1, 11, 0, 1, 1, 1], [2, 9, 4, 2, 0, 9, 4, 1, 1, 2, 0, 0, 0, 9, 4, 1, 0], [0, 4, 10, 3, 1, 4, 10, 2, 1, 3, 3, 1, 1, 4, 10, 2, 1], [1, 1, 2, 3, 1, 1, 2, 3, 2, 4, 4, 2, 1, 1, 2, 12, 2], [0, 0, 1, 1, 2, 0, 1, 2, 0, 0, 0, 0, 1, 0, 1, 2, 4]]}],\n",
       "                        {\"template\": {\"data\": {\"bar\": [{\"error_x\": {\"color\": \"#2a3f5f\"}, \"error_y\": {\"color\": \"#2a3f5f\"}, \"marker\": {\"line\": {\"color\": \"#E5ECF6\", \"width\": 0.5}}, \"type\": \"bar\"}], \"barpolar\": [{\"marker\": {\"line\": {\"color\": \"#E5ECF6\", \"width\": 0.5}}, \"type\": \"barpolar\"}], \"carpet\": [{\"aaxis\": {\"endlinecolor\": \"#2a3f5f\", \"gridcolor\": \"white\", \"linecolor\": \"white\", \"minorgridcolor\": \"white\", \"startlinecolor\": \"#2a3f5f\"}, \"baxis\": {\"endlinecolor\": \"#2a3f5f\", \"gridcolor\": \"white\", \"linecolor\": \"white\", \"minorgridcolor\": \"white\", \"startlinecolor\": \"#2a3f5f\"}, \"type\": \"carpet\"}], \"choropleth\": [{\"colorbar\": {\"outlinewidth\": 0, \"ticks\": \"\"}, \"type\": \"choropleth\"}], \"contour\": [{\"colorbar\": {\"outlinewidth\": 0, \"ticks\": \"\"}, \"colorscale\": [[0.0, \"#0d0887\"], [0.1111111111111111, \"#46039f\"], [0.2222222222222222, \"#7201a8\"], [0.3333333333333333, \"#9c179e\"], [0.4444444444444444, \"#bd3786\"], [0.5555555555555556, \"#d8576b\"], [0.6666666666666666, \"#ed7953\"], [0.7777777777777778, \"#fb9f3a\"], [0.8888888888888888, \"#fdca26\"], [1.0, \"#f0f921\"]], \"type\": \"contour\"}], \"contourcarpet\": [{\"colorbar\": {\"outlinewidth\": 0, \"ticks\": \"\"}, \"type\": \"contourcarpet\"}], \"heatmap\": [{\"colorbar\": {\"outlinewidth\": 0, \"ticks\": \"\"}, \"colorscale\": [[0.0, \"#0d0887\"], [0.1111111111111111, \"#46039f\"], [0.2222222222222222, \"#7201a8\"], [0.3333333333333333, \"#9c179e\"], [0.4444444444444444, \"#bd3786\"], [0.5555555555555556, \"#d8576b\"], [0.6666666666666666, \"#ed7953\"], [0.7777777777777778, \"#fb9f3a\"], [0.8888888888888888, \"#fdca26\"], [1.0, \"#f0f921\"]], \"type\": \"heatmap\"}], \"heatmapgl\": [{\"colorbar\": {\"outlinewidth\": 0, \"ticks\": \"\"}, \"colorscale\": [[0.0, \"#0d0887\"], [0.1111111111111111, \"#46039f\"], [0.2222222222222222, \"#7201a8\"], [0.3333333333333333, \"#9c179e\"], [0.4444444444444444, \"#bd3786\"], [0.5555555555555556, \"#d8576b\"], [0.6666666666666666, \"#ed7953\"], [0.7777777777777778, \"#fb9f3a\"], [0.8888888888888888, \"#fdca26\"], [1.0, \"#f0f921\"]], \"type\": \"heatmapgl\"}], \"histogram\": [{\"marker\": {\"colorbar\": {\"outlinewidth\": 0, \"ticks\": \"\"}}, \"type\": \"histogram\"}], \"histogram2d\": [{\"colorbar\": {\"outlinewidth\": 0, \"ticks\": \"\"}, \"colorscale\": [[0.0, \"#0d0887\"], [0.1111111111111111, \"#46039f\"], [0.2222222222222222, \"#7201a8\"], [0.3333333333333333, \"#9c179e\"], [0.4444444444444444, \"#bd3786\"], [0.5555555555555556, \"#d8576b\"], [0.6666666666666666, \"#ed7953\"], [0.7777777777777778, \"#fb9f3a\"], [0.8888888888888888, \"#fdca26\"], [1.0, \"#f0f921\"]], \"type\": \"histogram2d\"}], \"histogram2dcontour\": [{\"colorbar\": {\"outlinewidth\": 0, \"ticks\": \"\"}, \"colorscale\": [[0.0, \"#0d0887\"], [0.1111111111111111, \"#46039f\"], [0.2222222222222222, \"#7201a8\"], [0.3333333333333333, \"#9c179e\"], [0.4444444444444444, \"#bd3786\"], [0.5555555555555556, \"#d8576b\"], [0.6666666666666666, \"#ed7953\"], [0.7777777777777778, \"#fb9f3a\"], [0.8888888888888888, \"#fdca26\"], [1.0, \"#f0f921\"]], \"type\": \"histogram2dcontour\"}], \"mesh3d\": [{\"colorbar\": {\"outlinewidth\": 0, \"ticks\": \"\"}, \"type\": \"mesh3d\"}], \"parcoords\": [{\"line\": {\"colorbar\": {\"outlinewidth\": 0, \"ticks\": \"\"}}, \"type\": \"parcoords\"}], \"pie\": [{\"automargin\": true, \"type\": \"pie\"}], \"scatter\": [{\"marker\": {\"colorbar\": {\"outlinewidth\": 0, \"ticks\": \"\"}}, \"type\": \"scatter\"}], \"scatter3d\": [{\"line\": {\"colorbar\": {\"outlinewidth\": 0, \"ticks\": \"\"}}, \"marker\": {\"colorbar\": {\"outlinewidth\": 0, \"ticks\": \"\"}}, \"type\": \"scatter3d\"}], \"scattercarpet\": [{\"marker\": {\"colorbar\": {\"outlinewidth\": 0, \"ticks\": \"\"}}, \"type\": \"scattercarpet\"}], \"scattergeo\": [{\"marker\": {\"colorbar\": {\"outlinewidth\": 0, \"ticks\": \"\"}}, \"type\": \"scattergeo\"}], \"scattergl\": [{\"marker\": {\"colorbar\": {\"outlinewidth\": 0, \"ticks\": \"\"}}, \"type\": \"scattergl\"}], \"scattermapbox\": [{\"marker\": {\"colorbar\": {\"outlinewidth\": 0, \"ticks\": \"\"}}, \"type\": \"scattermapbox\"}], \"scatterpolar\": [{\"marker\": {\"colorbar\": {\"outlinewidth\": 0, \"ticks\": \"\"}}, \"type\": \"scatterpolar\"}], \"scatterpolargl\": [{\"marker\": {\"colorbar\": {\"outlinewidth\": 0, \"ticks\": \"\"}}, \"type\": \"scatterpolargl\"}], \"scatterternary\": [{\"marker\": {\"colorbar\": {\"outlinewidth\": 0, \"ticks\": \"\"}}, \"type\": \"scatterternary\"}], \"surface\": [{\"colorbar\": {\"outlinewidth\": 0, \"ticks\": \"\"}, \"colorscale\": [[0.0, \"#0d0887\"], [0.1111111111111111, \"#46039f\"], [0.2222222222222222, \"#7201a8\"], [0.3333333333333333, \"#9c179e\"], [0.4444444444444444, \"#bd3786\"], [0.5555555555555556, \"#d8576b\"], [0.6666666666666666, \"#ed7953\"], [0.7777777777777778, \"#fb9f3a\"], [0.8888888888888888, \"#fdca26\"], [1.0, \"#f0f921\"]], \"type\": \"surface\"}], \"table\": [{\"cells\": {\"fill\": {\"color\": \"#EBF0F8\"}, \"line\": {\"color\": \"white\"}}, \"header\": {\"fill\": {\"color\": \"#C8D4E3\"}, \"line\": {\"color\": \"white\"}}, \"type\": \"table\"}]}, \"layout\": {\"annotationdefaults\": {\"arrowcolor\": \"#2a3f5f\", \"arrowhead\": 0, \"arrowwidth\": 1}, \"coloraxis\": {\"colorbar\": {\"outlinewidth\": 0, \"ticks\": \"\"}}, \"colorscale\": {\"diverging\": [[0, \"#8e0152\"], [0.1, \"#c51b7d\"], [0.2, \"#de77ae\"], [0.3, \"#f1b6da\"], [0.4, \"#fde0ef\"], [0.5, \"#f7f7f7\"], [0.6, \"#e6f5d0\"], [0.7, \"#b8e186\"], [0.8, \"#7fbc41\"], [0.9, \"#4d9221\"], [1, \"#276419\"]], \"sequential\": [[0.0, \"#0d0887\"], [0.1111111111111111, \"#46039f\"], [0.2222222222222222, \"#7201a8\"], [0.3333333333333333, \"#9c179e\"], [0.4444444444444444, \"#bd3786\"], [0.5555555555555556, \"#d8576b\"], [0.6666666666666666, \"#ed7953\"], [0.7777777777777778, \"#fb9f3a\"], [0.8888888888888888, \"#fdca26\"], [1.0, \"#f0f921\"]], \"sequentialminus\": [[0.0, \"#0d0887\"], [0.1111111111111111, \"#46039f\"], [0.2222222222222222, \"#7201a8\"], [0.3333333333333333, \"#9c179e\"], [0.4444444444444444, \"#bd3786\"], [0.5555555555555556, \"#d8576b\"], [0.6666666666666666, \"#ed7953\"], [0.7777777777777778, \"#fb9f3a\"], [0.8888888888888888, \"#fdca26\"], [1.0, \"#f0f921\"]]}, \"colorway\": [\"#636efa\", \"#EF553B\", \"#00cc96\", \"#ab63fa\", \"#FFA15A\", \"#19d3f3\", \"#FF6692\", \"#B6E880\", \"#FF97FF\", \"#FECB52\"], \"font\": {\"color\": \"#2a3f5f\"}, \"geo\": {\"bgcolor\": \"white\", \"lakecolor\": \"white\", \"landcolor\": \"#E5ECF6\", \"showlakes\": true, \"showland\": true, \"subunitcolor\": \"white\"}, \"hoverlabel\": {\"align\": \"left\"}, \"hovermode\": \"closest\", \"mapbox\": {\"style\": \"light\"}, \"paper_bgcolor\": \"white\", \"plot_bgcolor\": \"#E5ECF6\", \"polar\": {\"angularaxis\": {\"gridcolor\": \"white\", \"linecolor\": \"white\", \"ticks\": \"\"}, \"bgcolor\": \"#E5ECF6\", \"radialaxis\": {\"gridcolor\": \"white\", \"linecolor\": \"white\", \"ticks\": \"\"}}, \"scene\": {\"xaxis\": {\"backgroundcolor\": \"#E5ECF6\", \"gridcolor\": \"white\", \"gridwidth\": 2, \"linecolor\": \"white\", \"showbackground\": true, \"ticks\": \"\", \"zerolinecolor\": \"white\"}, \"yaxis\": {\"backgroundcolor\": \"#E5ECF6\", \"gridcolor\": \"white\", \"gridwidth\": 2, \"linecolor\": \"white\", \"showbackground\": true, \"ticks\": \"\", \"zerolinecolor\": \"white\"}, \"zaxis\": {\"backgroundcolor\": \"#E5ECF6\", \"gridcolor\": \"white\", \"gridwidth\": 2, \"linecolor\": \"white\", \"showbackground\": true, \"ticks\": \"\", \"zerolinecolor\": \"white\"}}, \"shapedefaults\": {\"line\": {\"color\": \"#2a3f5f\"}}, \"ternary\": {\"aaxis\": {\"gridcolor\": \"white\", \"linecolor\": \"white\", \"ticks\": \"\"}, \"baxis\": {\"gridcolor\": \"white\", \"linecolor\": \"white\", \"ticks\": \"\"}, \"bgcolor\": \"#E5ECF6\", \"caxis\": {\"gridcolor\": \"white\", \"linecolor\": \"white\", \"ticks\": \"\"}}, \"title\": {\"x\": 0.05}, \"xaxis\": {\"automargin\": true, \"gridcolor\": \"white\", \"linecolor\": \"white\", \"ticks\": \"\", \"title\": {\"standoff\": 15}, \"zerolinecolor\": \"white\", \"zerolinewidth\": 2}, \"yaxis\": {\"automargin\": true, \"gridcolor\": \"white\", \"linecolor\": \"white\", \"ticks\": \"\", \"title\": {\"standoff\": 15}, \"zerolinecolor\": \"white\", \"zerolinewidth\": 2}}}, \"title\": {\"text\": \"Auto-correlation product of each measure with each others for D41 menuett n\\u00b01 using the key-product\"}, \"xaxis\": {\"title\": {\"text\": \"Measure index\"}}, \"yaxis\": {\"title\": {\"text\": \"Measure index\"}}},\n",
       "                        {\"responsive\": true}\n",
       "                    ).then(function(){\n",
       "                            \n",
       "var gd = document.getElementById('e29d7f52-d304-439f-a2fa-24f63a2eb5d9');\n",
       "var x = new MutationObserver(function (mutations, observer) {{\n",
       "        var display = window.getComputedStyle(gd).display;\n",
       "        if (!display || display === 'none') {{\n",
       "            console.log([gd, 'removed!']);\n",
       "            Plotly.purge(gd);\n",
       "            observer.disconnect();\n",
       "        }}\n",
       "}});\n",
       "\n",
       "// Listen for the removal of the full notebook cells\n",
       "var notebookContainer = gd.closest('#notebook-container');\n",
       "if (notebookContainer) {{\n",
       "    x.observe(notebookContainer, {childList: true});\n",
       "}}\n",
       "\n",
       "// Listen for the clearing of the current output cell\n",
       "var outputEl = gd.closest('.output');\n",
       "if (outputEl) {{\n",
       "    x.observe(outputEl, {childList: true});\n",
       "}}\n",
       "\n",
       "                        })\n",
       "                };\n",
       "                });\n",
       "            </script>\n",
       "        </div>"
      ]
     },
     "metadata": {},
     "output_type": "display_data"
    }
   ],
   "source": [
    "dsp.heatmap_piece1_pitch"
   ]
  },
  {
   "cell_type": "code",
   "execution_count": 234,
   "metadata": {},
   "outputs": [
    {
     "data": {
      "application/vnd.plotly.v1+json": {
       "config": {
        "plotlyServerURL": "https://plot.ly"
       },
       "data": [
        {
         "type": "heatmap",
         "z": [
          [
           4,
           2,
           2,
           2,
           2,
           2,
           2,
           2,
           1,
           0,
           0,
           0,
           2,
           2,
           2,
           3,
           2
          ],
          [
           2,
           9,
           7,
           3,
           5,
           9,
           7,
           3,
           2,
           3,
           3,
           2,
           5,
           9,
           7,
           5,
           4
          ],
          [
           2,
           7,
           10,
           4,
           5,
           7,
           10,
           4,
           2,
           3,
           3,
           3,
           5,
           7,
           10,
           6,
           3
          ],
          [
           2,
           3,
           4,
           11,
           4,
           3,
           4,
           5,
           2,
           1,
           1,
           3,
           4,
           3,
           4,
           6,
           3
          ],
          [
           2,
           5,
           5,
           4,
           10,
           5,
           5,
           5,
           4,
           2,
           2,
           4,
           10,
           5,
           5,
           4,
           2
          ],
          [
           2,
           9,
           7,
           3,
           5,
           9,
           7,
           3,
           2,
           3,
           3,
           2,
           5,
           9,
           7,
           5,
           4
          ],
          [
           2,
           7,
           10,
           4,
           5,
           7,
           10,
           4,
           2,
           3,
           3,
           3,
           5,
           7,
           10,
           6,
           3
          ],
          [
           2,
           3,
           4,
           5,
           5,
           3,
           4,
           13,
           2,
           1,
           1,
           3,
           5,
           3,
           4,
           3,
           2
          ],
          [
           1,
           2,
           2,
           2,
           4,
           2,
           2,
           2,
           14,
           5,
           5,
           2,
           5,
           2,
           2,
           4,
           1
          ],
          [
           0,
           3,
           3,
           1,
           2,
           3,
           3,
           1,
           5,
           13,
           9,
           2,
           3,
           3,
           3,
           5,
           0
          ],
          [
           0,
           3,
           3,
           1,
           2,
           3,
           3,
           1,
           5,
           9,
           9,
           2,
           3,
           3,
           3,
           5,
           0
          ],
          [
           0,
           2,
           3,
           3,
           4,
           2,
           3,
           3,
           2,
           2,
           2,
           12,
           4,
           2,
           3,
           2,
           0
          ],
          [
           2,
           5,
           5,
           4,
           10,
           5,
           5,
           5,
           5,
           3,
           3,
           4,
           11,
           5,
           5,
           4,
           2
          ],
          [
           2,
           9,
           7,
           3,
           5,
           9,
           7,
           3,
           2,
           3,
           3,
           2,
           5,
           9,
           7,
           5,
           4
          ],
          [
           2,
           7,
           10,
           4,
           5,
           7,
           10,
           4,
           2,
           3,
           3,
           3,
           5,
           7,
           10,
           6,
           3
          ],
          [
           3,
           5,
           6,
           6,
           4,
           5,
           6,
           3,
           4,
           5,
           5,
           2,
           4,
           5,
           6,
           12,
           3
          ],
          [
           2,
           4,
           3,
           3,
           2,
           4,
           3,
           2,
           1,
           0,
           0,
           0,
           2,
           4,
           3,
           3,
           4
          ]
         ]
        }
       ],
       "layout": {
        "template": {
         "data": {
          "bar": [
           {
            "error_x": {
             "color": "#2a3f5f"
            },
            "error_y": {
             "color": "#2a3f5f"
            },
            "marker": {
             "line": {
              "color": "#E5ECF6",
              "width": 0.5
             }
            },
            "type": "bar"
           }
          ],
          "barpolar": [
           {
            "marker": {
             "line": {
              "color": "#E5ECF6",
              "width": 0.5
             }
            },
            "type": "barpolar"
           }
          ],
          "carpet": [
           {
            "aaxis": {
             "endlinecolor": "#2a3f5f",
             "gridcolor": "white",
             "linecolor": "white",
             "minorgridcolor": "white",
             "startlinecolor": "#2a3f5f"
            },
            "baxis": {
             "endlinecolor": "#2a3f5f",
             "gridcolor": "white",
             "linecolor": "white",
             "minorgridcolor": "white",
             "startlinecolor": "#2a3f5f"
            },
            "type": "carpet"
           }
          ],
          "choropleth": [
           {
            "colorbar": {
             "outlinewidth": 0,
             "ticks": ""
            },
            "type": "choropleth"
           }
          ],
          "contour": [
           {
            "colorbar": {
             "outlinewidth": 0,
             "ticks": ""
            },
            "colorscale": [
             [
              0,
              "#0d0887"
             ],
             [
              0.1111111111111111,
              "#46039f"
             ],
             [
              0.2222222222222222,
              "#7201a8"
             ],
             [
              0.3333333333333333,
              "#9c179e"
             ],
             [
              0.4444444444444444,
              "#bd3786"
             ],
             [
              0.5555555555555556,
              "#d8576b"
             ],
             [
              0.6666666666666666,
              "#ed7953"
             ],
             [
              0.7777777777777778,
              "#fb9f3a"
             ],
             [
              0.8888888888888888,
              "#fdca26"
             ],
             [
              1,
              "#f0f921"
             ]
            ],
            "type": "contour"
           }
          ],
          "contourcarpet": [
           {
            "colorbar": {
             "outlinewidth": 0,
             "ticks": ""
            },
            "type": "contourcarpet"
           }
          ],
          "heatmap": [
           {
            "colorbar": {
             "outlinewidth": 0,
             "ticks": ""
            },
            "colorscale": [
             [
              0,
              "#0d0887"
             ],
             [
              0.1111111111111111,
              "#46039f"
             ],
             [
              0.2222222222222222,
              "#7201a8"
             ],
             [
              0.3333333333333333,
              "#9c179e"
             ],
             [
              0.4444444444444444,
              "#bd3786"
             ],
             [
              0.5555555555555556,
              "#d8576b"
             ],
             [
              0.6666666666666666,
              "#ed7953"
             ],
             [
              0.7777777777777778,
              "#fb9f3a"
             ],
             [
              0.8888888888888888,
              "#fdca26"
             ],
             [
              1,
              "#f0f921"
             ]
            ],
            "type": "heatmap"
           }
          ],
          "heatmapgl": [
           {
            "colorbar": {
             "outlinewidth": 0,
             "ticks": ""
            },
            "colorscale": [
             [
              0,
              "#0d0887"
             ],
             [
              0.1111111111111111,
              "#46039f"
             ],
             [
              0.2222222222222222,
              "#7201a8"
             ],
             [
              0.3333333333333333,
              "#9c179e"
             ],
             [
              0.4444444444444444,
              "#bd3786"
             ],
             [
              0.5555555555555556,
              "#d8576b"
             ],
             [
              0.6666666666666666,
              "#ed7953"
             ],
             [
              0.7777777777777778,
              "#fb9f3a"
             ],
             [
              0.8888888888888888,
              "#fdca26"
             ],
             [
              1,
              "#f0f921"
             ]
            ],
            "type": "heatmapgl"
           }
          ],
          "histogram": [
           {
            "marker": {
             "colorbar": {
              "outlinewidth": 0,
              "ticks": ""
             }
            },
            "type": "histogram"
           }
          ],
          "histogram2d": [
           {
            "colorbar": {
             "outlinewidth": 0,
             "ticks": ""
            },
            "colorscale": [
             [
              0,
              "#0d0887"
             ],
             [
              0.1111111111111111,
              "#46039f"
             ],
             [
              0.2222222222222222,
              "#7201a8"
             ],
             [
              0.3333333333333333,
              "#9c179e"
             ],
             [
              0.4444444444444444,
              "#bd3786"
             ],
             [
              0.5555555555555556,
              "#d8576b"
             ],
             [
              0.6666666666666666,
              "#ed7953"
             ],
             [
              0.7777777777777778,
              "#fb9f3a"
             ],
             [
              0.8888888888888888,
              "#fdca26"
             ],
             [
              1,
              "#f0f921"
             ]
            ],
            "type": "histogram2d"
           }
          ],
          "histogram2dcontour": [
           {
            "colorbar": {
             "outlinewidth": 0,
             "ticks": ""
            },
            "colorscale": [
             [
              0,
              "#0d0887"
             ],
             [
              0.1111111111111111,
              "#46039f"
             ],
             [
              0.2222222222222222,
              "#7201a8"
             ],
             [
              0.3333333333333333,
              "#9c179e"
             ],
             [
              0.4444444444444444,
              "#bd3786"
             ],
             [
              0.5555555555555556,
              "#d8576b"
             ],
             [
              0.6666666666666666,
              "#ed7953"
             ],
             [
              0.7777777777777778,
              "#fb9f3a"
             ],
             [
              0.8888888888888888,
              "#fdca26"
             ],
             [
              1,
              "#f0f921"
             ]
            ],
            "type": "histogram2dcontour"
           }
          ],
          "mesh3d": [
           {
            "colorbar": {
             "outlinewidth": 0,
             "ticks": ""
            },
            "type": "mesh3d"
           }
          ],
          "parcoords": [
           {
            "line": {
             "colorbar": {
              "outlinewidth": 0,
              "ticks": ""
             }
            },
            "type": "parcoords"
           }
          ],
          "pie": [
           {
            "automargin": true,
            "type": "pie"
           }
          ],
          "scatter": [
           {
            "marker": {
             "colorbar": {
              "outlinewidth": 0,
              "ticks": ""
             }
            },
            "type": "scatter"
           }
          ],
          "scatter3d": [
           {
            "line": {
             "colorbar": {
              "outlinewidth": 0,
              "ticks": ""
             }
            },
            "marker": {
             "colorbar": {
              "outlinewidth": 0,
              "ticks": ""
             }
            },
            "type": "scatter3d"
           }
          ],
          "scattercarpet": [
           {
            "marker": {
             "colorbar": {
              "outlinewidth": 0,
              "ticks": ""
             }
            },
            "type": "scattercarpet"
           }
          ],
          "scattergeo": [
           {
            "marker": {
             "colorbar": {
              "outlinewidth": 0,
              "ticks": ""
             }
            },
            "type": "scattergeo"
           }
          ],
          "scattergl": [
           {
            "marker": {
             "colorbar": {
              "outlinewidth": 0,
              "ticks": ""
             }
            },
            "type": "scattergl"
           }
          ],
          "scattermapbox": [
           {
            "marker": {
             "colorbar": {
              "outlinewidth": 0,
              "ticks": ""
             }
            },
            "type": "scattermapbox"
           }
          ],
          "scatterpolar": [
           {
            "marker": {
             "colorbar": {
              "outlinewidth": 0,
              "ticks": ""
             }
            },
            "type": "scatterpolar"
           }
          ],
          "scatterpolargl": [
           {
            "marker": {
             "colorbar": {
              "outlinewidth": 0,
              "ticks": ""
             }
            },
            "type": "scatterpolargl"
           }
          ],
          "scatterternary": [
           {
            "marker": {
             "colorbar": {
              "outlinewidth": 0,
              "ticks": ""
             }
            },
            "type": "scatterternary"
           }
          ],
          "surface": [
           {
            "colorbar": {
             "outlinewidth": 0,
             "ticks": ""
            },
            "colorscale": [
             [
              0,
              "#0d0887"
             ],
             [
              0.1111111111111111,
              "#46039f"
             ],
             [
              0.2222222222222222,
              "#7201a8"
             ],
             [
              0.3333333333333333,
              "#9c179e"
             ],
             [
              0.4444444444444444,
              "#bd3786"
             ],
             [
              0.5555555555555556,
              "#d8576b"
             ],
             [
              0.6666666666666666,
              "#ed7953"
             ],
             [
              0.7777777777777778,
              "#fb9f3a"
             ],
             [
              0.8888888888888888,
              "#fdca26"
             ],
             [
              1,
              "#f0f921"
             ]
            ],
            "type": "surface"
           }
          ],
          "table": [
           {
            "cells": {
             "fill": {
              "color": "#EBF0F8"
             },
             "line": {
              "color": "white"
             }
            },
            "header": {
             "fill": {
              "color": "#C8D4E3"
             },
             "line": {
              "color": "white"
             }
            },
            "type": "table"
           }
          ]
         },
         "layout": {
          "annotationdefaults": {
           "arrowcolor": "#2a3f5f",
           "arrowhead": 0,
           "arrowwidth": 1
          },
          "coloraxis": {
           "colorbar": {
            "outlinewidth": 0,
            "ticks": ""
           }
          },
          "colorscale": {
           "diverging": [
            [
             0,
             "#8e0152"
            ],
            [
             0.1,
             "#c51b7d"
            ],
            [
             0.2,
             "#de77ae"
            ],
            [
             0.3,
             "#f1b6da"
            ],
            [
             0.4,
             "#fde0ef"
            ],
            [
             0.5,
             "#f7f7f7"
            ],
            [
             0.6,
             "#e6f5d0"
            ],
            [
             0.7,
             "#b8e186"
            ],
            [
             0.8,
             "#7fbc41"
            ],
            [
             0.9,
             "#4d9221"
            ],
            [
             1,
             "#276419"
            ]
           ],
           "sequential": [
            [
             0,
             "#0d0887"
            ],
            [
             0.1111111111111111,
             "#46039f"
            ],
            [
             0.2222222222222222,
             "#7201a8"
            ],
            [
             0.3333333333333333,
             "#9c179e"
            ],
            [
             0.4444444444444444,
             "#bd3786"
            ],
            [
             0.5555555555555556,
             "#d8576b"
            ],
            [
             0.6666666666666666,
             "#ed7953"
            ],
            [
             0.7777777777777778,
             "#fb9f3a"
            ],
            [
             0.8888888888888888,
             "#fdca26"
            ],
            [
             1,
             "#f0f921"
            ]
           ],
           "sequentialminus": [
            [
             0,
             "#0d0887"
            ],
            [
             0.1111111111111111,
             "#46039f"
            ],
            [
             0.2222222222222222,
             "#7201a8"
            ],
            [
             0.3333333333333333,
             "#9c179e"
            ],
            [
             0.4444444444444444,
             "#bd3786"
            ],
            [
             0.5555555555555556,
             "#d8576b"
            ],
            [
             0.6666666666666666,
             "#ed7953"
            ],
            [
             0.7777777777777778,
             "#fb9f3a"
            ],
            [
             0.8888888888888888,
             "#fdca26"
            ],
            [
             1,
             "#f0f921"
            ]
           ]
          },
          "colorway": [
           "#636efa",
           "#EF553B",
           "#00cc96",
           "#ab63fa",
           "#FFA15A",
           "#19d3f3",
           "#FF6692",
           "#B6E880",
           "#FF97FF",
           "#FECB52"
          ],
          "font": {
           "color": "#2a3f5f"
          },
          "geo": {
           "bgcolor": "white",
           "lakecolor": "white",
           "landcolor": "#E5ECF6",
           "showlakes": true,
           "showland": true,
           "subunitcolor": "white"
          },
          "hoverlabel": {
           "align": "left"
          },
          "hovermode": "closest",
          "mapbox": {
           "style": "light"
          },
          "paper_bgcolor": "white",
          "plot_bgcolor": "#E5ECF6",
          "polar": {
           "angularaxis": {
            "gridcolor": "white",
            "linecolor": "white",
            "ticks": ""
           },
           "bgcolor": "#E5ECF6",
           "radialaxis": {
            "gridcolor": "white",
            "linecolor": "white",
            "ticks": ""
           }
          },
          "scene": {
           "xaxis": {
            "backgroundcolor": "#E5ECF6",
            "gridcolor": "white",
            "gridwidth": 2,
            "linecolor": "white",
            "showbackground": true,
            "ticks": "",
            "zerolinecolor": "white"
           },
           "yaxis": {
            "backgroundcolor": "#E5ECF6",
            "gridcolor": "white",
            "gridwidth": 2,
            "linecolor": "white",
            "showbackground": true,
            "ticks": "",
            "zerolinecolor": "white"
           },
           "zaxis": {
            "backgroundcolor": "#E5ECF6",
            "gridcolor": "white",
            "gridwidth": 2,
            "linecolor": "white",
            "showbackground": true,
            "ticks": "",
            "zerolinecolor": "white"
           }
          },
          "shapedefaults": {
           "line": {
            "color": "#2a3f5f"
           }
          },
          "ternary": {
           "aaxis": {
            "gridcolor": "white",
            "linecolor": "white",
            "ticks": ""
           },
           "baxis": {
            "gridcolor": "white",
            "linecolor": "white",
            "ticks": ""
           },
           "bgcolor": "#E5ECF6",
           "caxis": {
            "gridcolor": "white",
            "linecolor": "white",
            "ticks": ""
           }
          },
          "title": {
           "x": 0.05
          },
          "xaxis": {
           "automargin": true,
           "gridcolor": "white",
           "linecolor": "white",
           "ticks": "",
           "title": {
            "standoff": 15
           },
           "zerolinecolor": "white",
           "zerolinewidth": 2
          },
          "yaxis": {
           "automargin": true,
           "gridcolor": "white",
           "linecolor": "white",
           "ticks": "",
           "title": {
            "standoff": 15
           },
           "zerolinecolor": "white",
           "zerolinewidth": 2
          }
         }
        },
        "title": {
         "text": "Auto-correlation product of each measure with each others for D41 menuett n°1 using the class-product"
        },
        "xaxis": {
         "title": {
          "text": "Measure index"
         }
        },
        "yaxis": {
         "title": {
          "text": "Measure index"
         }
        }
       }
      },
      "text/html": [
       "<div>\n",
       "        \n",
       "        \n",
       "            <div id=\"ee7c3497-c8cb-4578-a3f7-99bdc019e56f\" class=\"plotly-graph-div\" style=\"height:525px; width:100%;\"></div>\n",
       "            <script type=\"text/javascript\">\n",
       "                require([\"plotly\"], function(Plotly) {\n",
       "                    window.PLOTLYENV=window.PLOTLYENV || {};\n",
       "                    \n",
       "                if (document.getElementById(\"ee7c3497-c8cb-4578-a3f7-99bdc019e56f\")) {\n",
       "                    Plotly.newPlot(\n",
       "                        'ee7c3497-c8cb-4578-a3f7-99bdc019e56f',\n",
       "                        [{\"type\": \"heatmap\", \"z\": [[4, 2, 2, 2, 2, 2, 2, 2, 1, 0, 0, 0, 2, 2, 2, 3, 2], [2, 9, 7, 3, 5, 9, 7, 3, 2, 3, 3, 2, 5, 9, 7, 5, 4], [2, 7, 10, 4, 5, 7, 10, 4, 2, 3, 3, 3, 5, 7, 10, 6, 3], [2, 3, 4, 11, 4, 3, 4, 5, 2, 1, 1, 3, 4, 3, 4, 6, 3], [2, 5, 5, 4, 10, 5, 5, 5, 4, 2, 2, 4, 10, 5, 5, 4, 2], [2, 9, 7, 3, 5, 9, 7, 3, 2, 3, 3, 2, 5, 9, 7, 5, 4], [2, 7, 10, 4, 5, 7, 10, 4, 2, 3, 3, 3, 5, 7, 10, 6, 3], [2, 3, 4, 5, 5, 3, 4, 13, 2, 1, 1, 3, 5, 3, 4, 3, 2], [1, 2, 2, 2, 4, 2, 2, 2, 14, 5, 5, 2, 5, 2, 2, 4, 1], [0, 3, 3, 1, 2, 3, 3, 1, 5, 13, 9, 2, 3, 3, 3, 5, 0], [0, 3, 3, 1, 2, 3, 3, 1, 5, 9, 9, 2, 3, 3, 3, 5, 0], [0, 2, 3, 3, 4, 2, 3, 3, 2, 2, 2, 12, 4, 2, 3, 2, 0], [2, 5, 5, 4, 10, 5, 5, 5, 5, 3, 3, 4, 11, 5, 5, 4, 2], [2, 9, 7, 3, 5, 9, 7, 3, 2, 3, 3, 2, 5, 9, 7, 5, 4], [2, 7, 10, 4, 5, 7, 10, 4, 2, 3, 3, 3, 5, 7, 10, 6, 3], [3, 5, 6, 6, 4, 5, 6, 3, 4, 5, 5, 2, 4, 5, 6, 12, 3], [2, 4, 3, 3, 2, 4, 3, 2, 1, 0, 0, 0, 2, 4, 3, 3, 4]]}],\n",
       "                        {\"template\": {\"data\": {\"bar\": [{\"error_x\": {\"color\": \"#2a3f5f\"}, \"error_y\": {\"color\": \"#2a3f5f\"}, \"marker\": {\"line\": {\"color\": \"#E5ECF6\", \"width\": 0.5}}, \"type\": \"bar\"}], \"barpolar\": [{\"marker\": {\"line\": {\"color\": \"#E5ECF6\", \"width\": 0.5}}, \"type\": \"barpolar\"}], \"carpet\": [{\"aaxis\": {\"endlinecolor\": \"#2a3f5f\", \"gridcolor\": \"white\", \"linecolor\": \"white\", \"minorgridcolor\": \"white\", \"startlinecolor\": \"#2a3f5f\"}, \"baxis\": {\"endlinecolor\": \"#2a3f5f\", \"gridcolor\": \"white\", \"linecolor\": \"white\", \"minorgridcolor\": \"white\", \"startlinecolor\": \"#2a3f5f\"}, \"type\": \"carpet\"}], \"choropleth\": [{\"colorbar\": {\"outlinewidth\": 0, \"ticks\": \"\"}, \"type\": \"choropleth\"}], \"contour\": [{\"colorbar\": {\"outlinewidth\": 0, \"ticks\": \"\"}, \"colorscale\": [[0.0, \"#0d0887\"], [0.1111111111111111, \"#46039f\"], [0.2222222222222222, \"#7201a8\"], [0.3333333333333333, \"#9c179e\"], [0.4444444444444444, \"#bd3786\"], [0.5555555555555556, \"#d8576b\"], [0.6666666666666666, \"#ed7953\"], [0.7777777777777778, \"#fb9f3a\"], [0.8888888888888888, \"#fdca26\"], [1.0, \"#f0f921\"]], \"type\": \"contour\"}], \"contourcarpet\": [{\"colorbar\": {\"outlinewidth\": 0, \"ticks\": \"\"}, \"type\": \"contourcarpet\"}], \"heatmap\": [{\"colorbar\": {\"outlinewidth\": 0, \"ticks\": \"\"}, \"colorscale\": [[0.0, \"#0d0887\"], [0.1111111111111111, \"#46039f\"], [0.2222222222222222, \"#7201a8\"], [0.3333333333333333, \"#9c179e\"], [0.4444444444444444, \"#bd3786\"], [0.5555555555555556, \"#d8576b\"], [0.6666666666666666, \"#ed7953\"], [0.7777777777777778, \"#fb9f3a\"], [0.8888888888888888, \"#fdca26\"], [1.0, \"#f0f921\"]], \"type\": \"heatmap\"}], \"heatmapgl\": [{\"colorbar\": {\"outlinewidth\": 0, \"ticks\": \"\"}, \"colorscale\": [[0.0, \"#0d0887\"], [0.1111111111111111, \"#46039f\"], [0.2222222222222222, \"#7201a8\"], [0.3333333333333333, \"#9c179e\"], [0.4444444444444444, \"#bd3786\"], [0.5555555555555556, \"#d8576b\"], [0.6666666666666666, \"#ed7953\"], [0.7777777777777778, \"#fb9f3a\"], [0.8888888888888888, \"#fdca26\"], [1.0, \"#f0f921\"]], \"type\": \"heatmapgl\"}], \"histogram\": [{\"marker\": {\"colorbar\": {\"outlinewidth\": 0, \"ticks\": \"\"}}, \"type\": \"histogram\"}], \"histogram2d\": [{\"colorbar\": {\"outlinewidth\": 0, \"ticks\": \"\"}, \"colorscale\": [[0.0, \"#0d0887\"], [0.1111111111111111, \"#46039f\"], [0.2222222222222222, \"#7201a8\"], [0.3333333333333333, \"#9c179e\"], [0.4444444444444444, \"#bd3786\"], [0.5555555555555556, \"#d8576b\"], [0.6666666666666666, \"#ed7953\"], [0.7777777777777778, \"#fb9f3a\"], [0.8888888888888888, \"#fdca26\"], [1.0, \"#f0f921\"]], \"type\": \"histogram2d\"}], \"histogram2dcontour\": [{\"colorbar\": {\"outlinewidth\": 0, \"ticks\": \"\"}, \"colorscale\": [[0.0, \"#0d0887\"], [0.1111111111111111, \"#46039f\"], [0.2222222222222222, \"#7201a8\"], [0.3333333333333333, \"#9c179e\"], [0.4444444444444444, \"#bd3786\"], [0.5555555555555556, \"#d8576b\"], [0.6666666666666666, \"#ed7953\"], [0.7777777777777778, \"#fb9f3a\"], [0.8888888888888888, \"#fdca26\"], [1.0, \"#f0f921\"]], \"type\": \"histogram2dcontour\"}], \"mesh3d\": [{\"colorbar\": {\"outlinewidth\": 0, \"ticks\": \"\"}, \"type\": \"mesh3d\"}], \"parcoords\": [{\"line\": {\"colorbar\": {\"outlinewidth\": 0, \"ticks\": \"\"}}, \"type\": \"parcoords\"}], \"pie\": [{\"automargin\": true, \"type\": \"pie\"}], \"scatter\": [{\"marker\": {\"colorbar\": {\"outlinewidth\": 0, \"ticks\": \"\"}}, \"type\": \"scatter\"}], \"scatter3d\": [{\"line\": {\"colorbar\": {\"outlinewidth\": 0, \"ticks\": \"\"}}, \"marker\": {\"colorbar\": {\"outlinewidth\": 0, \"ticks\": \"\"}}, \"type\": \"scatter3d\"}], \"scattercarpet\": [{\"marker\": {\"colorbar\": {\"outlinewidth\": 0, \"ticks\": \"\"}}, \"type\": \"scattercarpet\"}], \"scattergeo\": [{\"marker\": {\"colorbar\": {\"outlinewidth\": 0, \"ticks\": \"\"}}, \"type\": \"scattergeo\"}], \"scattergl\": [{\"marker\": {\"colorbar\": {\"outlinewidth\": 0, \"ticks\": \"\"}}, \"type\": \"scattergl\"}], \"scattermapbox\": [{\"marker\": {\"colorbar\": {\"outlinewidth\": 0, \"ticks\": \"\"}}, \"type\": \"scattermapbox\"}], \"scatterpolar\": [{\"marker\": {\"colorbar\": {\"outlinewidth\": 0, \"ticks\": \"\"}}, \"type\": \"scatterpolar\"}], \"scatterpolargl\": [{\"marker\": {\"colorbar\": {\"outlinewidth\": 0, \"ticks\": \"\"}}, \"type\": \"scatterpolargl\"}], \"scatterternary\": [{\"marker\": {\"colorbar\": {\"outlinewidth\": 0, \"ticks\": \"\"}}, \"type\": \"scatterternary\"}], \"surface\": [{\"colorbar\": {\"outlinewidth\": 0, \"ticks\": \"\"}, \"colorscale\": [[0.0, \"#0d0887\"], [0.1111111111111111, \"#46039f\"], [0.2222222222222222, \"#7201a8\"], [0.3333333333333333, \"#9c179e\"], [0.4444444444444444, \"#bd3786\"], [0.5555555555555556, \"#d8576b\"], [0.6666666666666666, \"#ed7953\"], [0.7777777777777778, \"#fb9f3a\"], [0.8888888888888888, \"#fdca26\"], [1.0, \"#f0f921\"]], \"type\": \"surface\"}], \"table\": [{\"cells\": {\"fill\": {\"color\": \"#EBF0F8\"}, \"line\": {\"color\": \"white\"}}, \"header\": {\"fill\": {\"color\": \"#C8D4E3\"}, \"line\": {\"color\": \"white\"}}, \"type\": \"table\"}]}, \"layout\": {\"annotationdefaults\": {\"arrowcolor\": \"#2a3f5f\", \"arrowhead\": 0, \"arrowwidth\": 1}, \"coloraxis\": {\"colorbar\": {\"outlinewidth\": 0, \"ticks\": \"\"}}, \"colorscale\": {\"diverging\": [[0, \"#8e0152\"], [0.1, \"#c51b7d\"], [0.2, \"#de77ae\"], [0.3, \"#f1b6da\"], [0.4, \"#fde0ef\"], [0.5, \"#f7f7f7\"], [0.6, \"#e6f5d0\"], [0.7, \"#b8e186\"], [0.8, \"#7fbc41\"], [0.9, \"#4d9221\"], [1, \"#276419\"]], \"sequential\": [[0.0, \"#0d0887\"], [0.1111111111111111, \"#46039f\"], [0.2222222222222222, \"#7201a8\"], [0.3333333333333333, \"#9c179e\"], [0.4444444444444444, \"#bd3786\"], [0.5555555555555556, \"#d8576b\"], [0.6666666666666666, \"#ed7953\"], [0.7777777777777778, \"#fb9f3a\"], [0.8888888888888888, \"#fdca26\"], [1.0, \"#f0f921\"]], \"sequentialminus\": [[0.0, \"#0d0887\"], [0.1111111111111111, \"#46039f\"], [0.2222222222222222, \"#7201a8\"], [0.3333333333333333, \"#9c179e\"], [0.4444444444444444, \"#bd3786\"], [0.5555555555555556, \"#d8576b\"], [0.6666666666666666, \"#ed7953\"], [0.7777777777777778, \"#fb9f3a\"], [0.8888888888888888, \"#fdca26\"], [1.0, \"#f0f921\"]]}, \"colorway\": [\"#636efa\", \"#EF553B\", \"#00cc96\", \"#ab63fa\", \"#FFA15A\", \"#19d3f3\", \"#FF6692\", \"#B6E880\", \"#FF97FF\", \"#FECB52\"], \"font\": {\"color\": \"#2a3f5f\"}, \"geo\": {\"bgcolor\": \"white\", \"lakecolor\": \"white\", \"landcolor\": \"#E5ECF6\", \"showlakes\": true, \"showland\": true, \"subunitcolor\": \"white\"}, \"hoverlabel\": {\"align\": \"left\"}, \"hovermode\": \"closest\", \"mapbox\": {\"style\": \"light\"}, \"paper_bgcolor\": \"white\", \"plot_bgcolor\": \"#E5ECF6\", \"polar\": {\"angularaxis\": {\"gridcolor\": \"white\", \"linecolor\": \"white\", \"ticks\": \"\"}, \"bgcolor\": \"#E5ECF6\", \"radialaxis\": {\"gridcolor\": \"white\", \"linecolor\": \"white\", \"ticks\": \"\"}}, \"scene\": {\"xaxis\": {\"backgroundcolor\": \"#E5ECF6\", \"gridcolor\": \"white\", \"gridwidth\": 2, \"linecolor\": \"white\", \"showbackground\": true, \"ticks\": \"\", \"zerolinecolor\": \"white\"}, \"yaxis\": {\"backgroundcolor\": \"#E5ECF6\", \"gridcolor\": \"white\", \"gridwidth\": 2, \"linecolor\": \"white\", \"showbackground\": true, \"ticks\": \"\", \"zerolinecolor\": \"white\"}, \"zaxis\": {\"backgroundcolor\": \"#E5ECF6\", \"gridcolor\": \"white\", \"gridwidth\": 2, \"linecolor\": \"white\", \"showbackground\": true, \"ticks\": \"\", \"zerolinecolor\": \"white\"}}, \"shapedefaults\": {\"line\": {\"color\": \"#2a3f5f\"}}, \"ternary\": {\"aaxis\": {\"gridcolor\": \"white\", \"linecolor\": \"white\", \"ticks\": \"\"}, \"baxis\": {\"gridcolor\": \"white\", \"linecolor\": \"white\", \"ticks\": \"\"}, \"bgcolor\": \"#E5ECF6\", \"caxis\": {\"gridcolor\": \"white\", \"linecolor\": \"white\", \"ticks\": \"\"}}, \"title\": {\"x\": 0.05}, \"xaxis\": {\"automargin\": true, \"gridcolor\": \"white\", \"linecolor\": \"white\", \"ticks\": \"\", \"title\": {\"standoff\": 15}, \"zerolinecolor\": \"white\", \"zerolinewidth\": 2}, \"yaxis\": {\"automargin\": true, \"gridcolor\": \"white\", \"linecolor\": \"white\", \"ticks\": \"\", \"title\": {\"standoff\": 15}, \"zerolinecolor\": \"white\", \"zerolinewidth\": 2}}}, \"title\": {\"text\": \"Auto-correlation product of each measure with each others for D41 menuett n\\u00b01 using the class-product\"}, \"xaxis\": {\"title\": {\"text\": \"Measure index\"}}, \"yaxis\": {\"title\": {\"text\": \"Measure index\"}}},\n",
       "                        {\"responsive\": true}\n",
       "                    ).then(function(){\n",
       "                            \n",
       "var gd = document.getElementById('ee7c3497-c8cb-4578-a3f7-99bdc019e56f');\n",
       "var x = new MutationObserver(function (mutations, observer) {{\n",
       "        var display = window.getComputedStyle(gd).display;\n",
       "        if (!display || display === 'none') {{\n",
       "            console.log([gd, 'removed!']);\n",
       "            Plotly.purge(gd);\n",
       "            observer.disconnect();\n",
       "        }}\n",
       "}});\n",
       "\n",
       "// Listen for the removal of the full notebook cells\n",
       "var notebookContainer = gd.closest('#notebook-container');\n",
       "if (notebookContainer) {{\n",
       "    x.observe(notebookContainer, {childList: true});\n",
       "}}\n",
       "\n",
       "// Listen for the clearing of the current output cell\n",
       "var outputEl = gd.closest('.output');\n",
       "if (outputEl) {{\n",
       "    x.observe(outputEl, {childList: true});\n",
       "}}\n",
       "\n",
       "                        })\n",
       "                };\n",
       "                });\n",
       "            </script>\n",
       "        </div>"
      ]
     },
     "metadata": {},
     "output_type": "display_data"
    }
   ],
   "source": [
    "dsp.heatmap_piece1_class"
   ]
  },
  {
   "cell_type": "markdown",
   "metadata": {},
   "source": [
    "A first trivial observation is that these matrices are symmetrical, as the product functions are both commutative.\n",
    "Another observation is that the diagonal stands out. No surprise: every note of a measure is present in the same measure, hence a generally higher product on the diagonal corresponding to the number of notes in each measure.\n",
    "\n",
    "The heatmap produced show kind of \"supplementary diagonals\", which indicate part repetitions.\n",
    "Indeed: let suppose a piece is composed of two parts A-B-A, each part lasting 4 measures.\n",
    "Then one can expect these \"supplementary\" diagonals to start at measure index 8, marking the repetition of A.\n",
    "\n",
    "Repetitions can also be guessed by looking at the rows of a few measure.\n",
    "Taking for instance measure two, we see it repeats at 3 instances with one \"black\" spot.\n",
    "This tends to indicate a structure A-A-B-A.\n",
    "\n",
    "There is a problem though.\n",
    "Quite often measures do not repeat much within a part, especially the last measure of a part (take for instance measures 3, 7, 11, 16, but also measure 0 of D41 menuett n°1).\n",
    "This makes it hard to estimate part lengths.\n",
    "\n",
    "To overcome this issue, we will instead auto-correlate the whole piece with itself.\n",
    "The rationale is that when the offset $\\delta$ corresponds to a part offset (in our first example 8, and in the menuett above 4, 8, 12), a spike should appear as we auto-correlate a whole part and not measures alone.\n",
    "This approach is to work well when part lengths are of fixed size (or some are multiples of the other), which can be expected for many classical pieces.\n",
    "\n",
    "The autocorrelation of the first piece of our corpus, D41 menuett n°1, gives:"
   ]
  },
  {
   "cell_type": "code",
   "execution_count": 235,
   "metadata": {},
   "outputs": [
    {
     "data": {
      "image/png": "[encoded data removed]",
      "text/plain": [
       "<Figure size 640x480 with 1 Axes>"
      ]
     },
     "execution_count": 235,
     "metadata": {},
     "output_type": "execute_result"
    }
   ],
   "source": [
    "dsp.autocor_piece1"
   ]
  },
  {
   "cell_type": "markdown",
   "metadata": {},
   "source": [
    "### From initial section detection to dance structure\n",
    "\n",
    "For sections of the same size, spikes correspond to part boundaries.\n",
    "In the example above, the part boundaries are at (0-4), (4-8), (8-12) and (12-16).\n",
    "To automate this detection, we need to write a filter detecting these spikes.\n",
    "We use a simple rolling window $w$ of size 3, and detect for which offsets $k$ we have: $w\\!\\left[k-1\\right] < w\\!\\left[k\\right]$ and $w\\!\\left[k\\right] \\ge w\\!\\left[k+1\\right]$\n",
    "\n",
    "Now that we have part boundaries, we still miss which parts correspond to which boundaries.\n",
    "To answer this question, each part boundary (0-4), (4-8), ... is auto-correlated (always for $\\delta = 0$) with each of the other part boundaries of the same size.\n",
    "This allows to identify where a part repeats, e.g. in D41 menuett n°1: (0-4) repeats in (4-8) and (12-16), as these measures have a _high-enough_, pairwise auto-correlation, but does not in (8-12).\n",
    "\n",
    "_High-enough_ is an arbitrary criteria.\n",
    "In our automated process, we use the notion of a _trigger_ (_threshold_ may have been more correct from an english standpoint):\n",
    "if the auto-correlation of detected parts X and Y divided by the number of notes in X is below the _trigger_ (a value between 0 and 1), the parts are considered disticts (i.e. Y is not X).\n",
    "The normalization is a primitive form of _regularization_, favoring repetition of _less complex_ measures.\n",
    "This is also an _interpretable_ parameter, as it is the minimal fraction of notes that must repeat (same onset and same key or pitch class) to consider a repetition.\n",
    "\n",
    "There is also a mechanism to merge adjacent parts for cosmetic reasons.\n",
    "For instance if a piece has a detected structure C-C-D-D-C-C, then the parts C-C and D-D can be rewritten as A = C-C and B = D-D, resulting in a visually more readable structure A-B-A.\n",
    "\n",
    "At this point, we have a function that translates a piece (a list of notes) to its structure (a list of letters) given a _trigger_ value.\n",
    "The higher the trigger, the more certain we are repetitions actually occurred.\n",
    "Now we have one more prior knownledge to add: most of the studied pieces are short and actually contain only 2 sections, or more rarely 3.\n",
    "Using this information, for each piece we will run the structure detection algorithm for $\\left[ 0.1 ~..~ 0.9 \\right]$ by steps of $0.1$, keeping the highest trigger that leads to selecting a structure with minimal number of different parts (and, of course, at least two parts).\n",
    "\n",
    "The results are laid in the table below.\n",
    "`HR` stands for the _key-product_ and `TR` for the _class-product_.\n",
    "The `confidence` column is only for readability purpose (it is immediately derived from the `trigger`, e.g. $0.4 \\le trigger < 0.6$ maps to \"presumably\"). A trigger of $0.$ means no structure found."
   ]
  },
  {
   "cell_type": "code",
   "execution_count": 236,
   "metadata": {},
   "outputs": [
    {
     "data": {
      "text/html": [
       "<div>\n",
       "<style scoped>\n",
       "    .dataframe tbody tr th:only-of-type {\n",
       "        vertical-align: middle;\n",
       "    }\n",
       "\n",
       "    .dataframe tbody tr th {\n",
       "        vertical-align: top;\n",
       "    }\n",
       "\n",
       "    .dataframe thead th {\n",
       "        text-align: right;\n",
       "    }\n",
       "</style>\n",
       "<table border=\"1\" class=\"dataframe\">\n",
       "  <thead>\n",
       "    <tr style=\"text-align: right;\">\n",
       "      <th></th>\n",
       "      <th>name</th>\n",
       "      <th>HR-structure</th>\n",
       "      <th>TR-structure</th>\n",
       "      <th>HR-confidence</th>\n",
       "      <th>TR-confidence</th>\n",
       "      <th>HR-trigger</th>\n",
       "      <th>TR-trigger</th>\n",
       "    </tr>\n",
       "  </thead>\n",
       "  <tbody>\n",
       "    <tr>\n",
       "      <th>0</th>\n",
       "      <td>D41 menuett n°1</td>\n",
       "      <td>[A, A, B, A]</td>\n",
       "      <td>[A, A, B, A]</td>\n",
       "      <td>confident</td>\n",
       "      <td>confident</td>\n",
       "      <td>0.6</td>\n",
       "      <td>0.7</td>\n",
       "    </tr>\n",
       "    <tr>\n",
       "      <th>1</th>\n",
       "      <td>D41 trio n°1</td>\n",
       "      <td>[A, A, A, A, A, B, A, C]</td>\n",
       "      <td>[A, A, A, A, A, B, A, C]</td>\n",
       "      <td>wild guess</td>\n",
       "      <td>unsure</td>\n",
       "      <td>0.1</td>\n",
       "      <td>0.2</td>\n",
       "    </tr>\n",
       "    <tr>\n",
       "      <th>2</th>\n",
       "      <td>D41 menuett n°2</td>\n",
       "      <td>[A, B, A, A]</td>\n",
       "      <td>[A, B, A]</td>\n",
       "      <td>wild guess</td>\n",
       "      <td>confident</td>\n",
       "      <td>0.1</td>\n",
       "      <td>0.6</td>\n",
       "    </tr>\n",
       "    <tr>\n",
       "      <th>3</th>\n",
       "      <td>D41 trio n°2</td>\n",
       "      <td>[A, A, A, B, A, A, A, A]</td>\n",
       "      <td>[A, A, A, B, A, A, A, A]</td>\n",
       "      <td>unsure</td>\n",
       "      <td>unsure</td>\n",
       "      <td>0.2</td>\n",
       "      <td>0.3</td>\n",
       "    </tr>\n",
       "    <tr>\n",
       "      <th>4</th>\n",
       "      <td>D41 menuett n°3</td>\n",
       "      <td>[A]</td>\n",
       "      <td>[A, B, A]</td>\n",
       "      <td>---</td>\n",
       "      <td>confident</td>\n",
       "      <td>0.0</td>\n",
       "      <td>0.6</td>\n",
       "    </tr>\n",
       "    <tr>\n",
       "      <th>5</th>\n",
       "      <td>D41 trio n°3</td>\n",
       "      <td>[A, B, A, A, A, B]</td>\n",
       "      <td>[A, B, A, A, A, B]</td>\n",
       "      <td>wild guess</td>\n",
       "      <td>unsure</td>\n",
       "      <td>0.1</td>\n",
       "      <td>0.2</td>\n",
       "    </tr>\n",
       "    <tr>\n",
       "      <th>6</th>\n",
       "      <td>D41 menuett n°4</td>\n",
       "      <td>[A, B, A, C]</td>\n",
       "      <td>[A, A, B, A, C, A, A, B]</td>\n",
       "      <td>presumably</td>\n",
       "      <td>wild guess</td>\n",
       "      <td>0.5</td>\n",
       "      <td>0.1</td>\n",
       "    </tr>\n",
       "    <tr>\n",
       "      <th>7</th>\n",
       "      <td>D41 trio n°4</td>\n",
       "      <td>[A]</td>\n",
       "      <td>[A, A, B, A]</td>\n",
       "      <td>---</td>\n",
       "      <td>unsure</td>\n",
       "      <td>0.0</td>\n",
       "      <td>0.3</td>\n",
       "    </tr>\n",
       "    <tr>\n",
       "      <th>8</th>\n",
       "      <td>D41 menuett n°5</td>\n",
       "      <td>[A, A, B, A]</td>\n",
       "      <td>[A, A, B, A, C]</td>\n",
       "      <td>certain</td>\n",
       "      <td>certain</td>\n",
       "      <td>0.8</td>\n",
       "      <td>0.9</td>\n",
       "    </tr>\n",
       "    <tr>\n",
       "      <th>9</th>\n",
       "      <td>D41 trio n°5</td>\n",
       "      <td>[A, B, A, A]</td>\n",
       "      <td>[A, B, A]</td>\n",
       "      <td>wild guess</td>\n",
       "      <td>confident</td>\n",
       "      <td>0.1</td>\n",
       "      <td>0.6</td>\n",
       "    </tr>\n",
       "    <tr>\n",
       "      <th>10</th>\n",
       "      <td>D41 menuett n°6</td>\n",
       "      <td>[A]</td>\n",
       "      <td>[A]</td>\n",
       "      <td>---</td>\n",
       "      <td>---</td>\n",
       "      <td>0.0</td>\n",
       "      <td>0.0</td>\n",
       "    </tr>\n",
       "    <tr>\n",
       "      <th>11</th>\n",
       "      <td>D41 trio n°6</td>\n",
       "      <td>[A, B, A]</td>\n",
       "      <td>[A, B, A]</td>\n",
       "      <td>presumably</td>\n",
       "      <td>confident</td>\n",
       "      <td>0.5</td>\n",
       "      <td>0.6</td>\n",
       "    </tr>\n",
       "    <tr>\n",
       "      <th>12</th>\n",
       "      <td>D41 menuett n°7</td>\n",
       "      <td>[A]</td>\n",
       "      <td>[A, B, B, C, B]</td>\n",
       "      <td>---</td>\n",
       "      <td>unsure</td>\n",
       "      <td>0.0</td>\n",
       "      <td>0.2</td>\n",
       "    </tr>\n",
       "    <tr>\n",
       "      <th>13</th>\n",
       "      <td>D41 trio n°7</td>\n",
       "      <td>[A]</td>\n",
       "      <td>[A, B, C, B]</td>\n",
       "      <td>---</td>\n",
       "      <td>unsure</td>\n",
       "      <td>0.0</td>\n",
       "      <td>0.3</td>\n",
       "    </tr>\n",
       "    <tr>\n",
       "      <th>14</th>\n",
       "      <td>D41 menuett n°8</td>\n",
       "      <td>[A, A, B, A]</td>\n",
       "      <td>[A]</td>\n",
       "      <td>presumably</td>\n",
       "      <td>---</td>\n",
       "      <td>0.5</td>\n",
       "      <td>0.0</td>\n",
       "    </tr>\n",
       "    <tr>\n",
       "      <th>15</th>\n",
       "      <td>D41 trio n°8</td>\n",
       "      <td>[A, B, A]</td>\n",
       "      <td>[A, B, A]</td>\n",
       "      <td>presumably</td>\n",
       "      <td>confident</td>\n",
       "      <td>0.4</td>\n",
       "      <td>0.6</td>\n",
       "    </tr>\n",
       "    <tr>\n",
       "      <th>16</th>\n",
       "      <td>D41 menuett n°9</td>\n",
       "      <td>[A]</td>\n",
       "      <td>[A, B, A, A, A, A]</td>\n",
       "      <td>---</td>\n",
       "      <td>wild guess</td>\n",
       "      <td>0.0</td>\n",
       "      <td>0.1</td>\n",
       "    </tr>\n",
       "    <tr>\n",
       "      <th>17</th>\n",
       "      <td>D41 trio n°9</td>\n",
       "      <td>[A, B, A, A, A, C, A, D]</td>\n",
       "      <td>[A, B, C, A, C]</td>\n",
       "      <td>unsure</td>\n",
       "      <td>wild guess</td>\n",
       "      <td>0.2</td>\n",
       "      <td>0.1</td>\n",
       "    </tr>\n",
       "    <tr>\n",
       "      <th>18</th>\n",
       "      <td>D41 menuett n°10</td>\n",
       "      <td>[A, B, C, B, A, B]</td>\n",
       "      <td>[A, A, B, C, A, B, A]</td>\n",
       "      <td>wild guess</td>\n",
       "      <td>unsure</td>\n",
       "      <td>0.1</td>\n",
       "      <td>0.3</td>\n",
       "    </tr>\n",
       "    <tr>\n",
       "      <th>19</th>\n",
       "      <td>D41 trio n°10</td>\n",
       "      <td>[A, A, B, A]</td>\n",
       "      <td>[A, A, B, A]</td>\n",
       "      <td>unsure</td>\n",
       "      <td>unsure</td>\n",
       "      <td>0.2</td>\n",
       "      <td>0.3</td>\n",
       "    </tr>\n",
       "    <tr>\n",
       "      <th>20</th>\n",
       "      <td>D41 menuett n°11</td>\n",
       "      <td>[A, B, A, A]</td>\n",
       "      <td>[A, B, A, A]</td>\n",
       "      <td>unsure</td>\n",
       "      <td>unsure</td>\n",
       "      <td>0.2</td>\n",
       "      <td>0.2</td>\n",
       "    </tr>\n",
       "    <tr>\n",
       "      <th>21</th>\n",
       "      <td>D41 trio n°11</td>\n",
       "      <td>[A, B, A]</td>\n",
       "      <td>[A, B, A, A]</td>\n",
       "      <td>certain</td>\n",
       "      <td>unsure</td>\n",
       "      <td>0.8</td>\n",
       "      <td>0.2</td>\n",
       "    </tr>\n",
       "    <tr>\n",
       "      <th>22</th>\n",
       "      <td>D41 menuett n°12</td>\n",
       "      <td>[A, A, A, A, B, A]</td>\n",
       "      <td>[A, A, A, A, B, A, A, A]</td>\n",
       "      <td>wild guess</td>\n",
       "      <td>unsure</td>\n",
       "      <td>0.1</td>\n",
       "      <td>0.2</td>\n",
       "    </tr>\n",
       "    <tr>\n",
       "      <th>23</th>\n",
       "      <td>D41 trio n°12</td>\n",
       "      <td>[A, B, A, B]</td>\n",
       "      <td>[A, B, A, A, B]</td>\n",
       "      <td>wild guess</td>\n",
       "      <td>unsure</td>\n",
       "      <td>0.1</td>\n",
       "      <td>0.2</td>\n",
       "    </tr>\n",
       "    <tr>\n",
       "      <th>24</th>\n",
       "      <td>D41 menuett n°13</td>\n",
       "      <td>[A]</td>\n",
       "      <td>[A, A, B, A, C]</td>\n",
       "      <td>---</td>\n",
       "      <td>unsure</td>\n",
       "      <td>0.0</td>\n",
       "      <td>0.3</td>\n",
       "    </tr>\n",
       "    <tr>\n",
       "      <th>25</th>\n",
       "      <td>D41 trio n°13</td>\n",
       "      <td>[A, A, A, A, B, A, A, A]</td>\n",
       "      <td>[A, A, A, A, B, A, A, A]</td>\n",
       "      <td>wild guess</td>\n",
       "      <td>unsure</td>\n",
       "      <td>0.1</td>\n",
       "      <td>0.3</td>\n",
       "    </tr>\n",
       "    <tr>\n",
       "      <th>26</th>\n",
       "      <td>D41 menuett n°14</td>\n",
       "      <td>[A, A, B, A]</td>\n",
       "      <td>[A, A, B, A]</td>\n",
       "      <td>unsure</td>\n",
       "      <td>presumably</td>\n",
       "      <td>0.3</td>\n",
       "      <td>0.4</td>\n",
       "    </tr>\n",
       "    <tr>\n",
       "      <th>27</th>\n",
       "      <td>D41 trio n°14</td>\n",
       "      <td>[A, B, A]</td>\n",
       "      <td>[A, A, B, A]</td>\n",
       "      <td>unsure</td>\n",
       "      <td>unsure</td>\n",
       "      <td>0.2</td>\n",
       "      <td>0.2</td>\n",
       "    </tr>\n",
       "    <tr>\n",
       "      <th>28</th>\n",
       "      <td>D41 menuett n°15</td>\n",
       "      <td>[A, B, A]</td>\n",
       "      <td>[A, B, A, A]</td>\n",
       "      <td>unsure</td>\n",
       "      <td>wild guess</td>\n",
       "      <td>0.3</td>\n",
       "      <td>0.1</td>\n",
       "    </tr>\n",
       "    <tr>\n",
       "      <th>29</th>\n",
       "      <td>D41 trio n°15</td>\n",
       "      <td>[A, B, C, B, B]</td>\n",
       "      <td>[A, B, C, B, B]</td>\n",
       "      <td>wild guess</td>\n",
       "      <td>unsure</td>\n",
       "      <td>0.1</td>\n",
       "      <td>0.2</td>\n",
       "    </tr>\n",
       "    <tr>\n",
       "      <th>...</th>\n",
       "      <td>...</td>\n",
       "      <td>...</td>\n",
       "      <td>...</td>\n",
       "      <td>...</td>\n",
       "      <td>...</td>\n",
       "      <td>...</td>\n",
       "      <td>...</td>\n",
       "    </tr>\n",
       "    <tr>\n",
       "      <th>405</th>\n",
       "      <td>D970 deutscher n°2</td>\n",
       "      <td>[A]</td>\n",
       "      <td>[A]</td>\n",
       "      <td>---</td>\n",
       "      <td>---</td>\n",
       "      <td>0.0</td>\n",
       "      <td>0.0</td>\n",
       "    </tr>\n",
       "    <tr>\n",
       "      <th>406</th>\n",
       "      <td>D970 deutscher n°3</td>\n",
       "      <td>[A, A, A, B, A, C]</td>\n",
       "      <td>[A, B, A, C]</td>\n",
       "      <td>presumably</td>\n",
       "      <td>certain</td>\n",
       "      <td>0.5</td>\n",
       "      <td>0.8</td>\n",
       "    </tr>\n",
       "    <tr>\n",
       "      <th>407</th>\n",
       "      <td>D970 deutscher n°4</td>\n",
       "      <td>[A]</td>\n",
       "      <td>[A]</td>\n",
       "      <td>---</td>\n",
       "      <td>---</td>\n",
       "      <td>0.0</td>\n",
       "      <td>0.0</td>\n",
       "    </tr>\n",
       "    <tr>\n",
       "      <th>408</th>\n",
       "      <td>D970 deutscher n°5</td>\n",
       "      <td>[A, B, A, A, A, A, A, B]</td>\n",
       "      <td>[A, B, A, A, A, A, A, A]</td>\n",
       "      <td>presumably</td>\n",
       "      <td>confident</td>\n",
       "      <td>0.5</td>\n",
       "      <td>0.7</td>\n",
       "    </tr>\n",
       "    <tr>\n",
       "      <th>409</th>\n",
       "      <td>D970 deutscher n°6</td>\n",
       "      <td>[A]</td>\n",
       "      <td>[A]</td>\n",
       "      <td>---</td>\n",
       "      <td>---</td>\n",
       "      <td>0.0</td>\n",
       "      <td>0.0</td>\n",
       "    </tr>\n",
       "    <tr>\n",
       "      <th>410</th>\n",
       "      <td>D971 deutscher n°1</td>\n",
       "      <td>[A, A, B, A]</td>\n",
       "      <td>[A, A, B, A]</td>\n",
       "      <td>unsure</td>\n",
       "      <td>confident</td>\n",
       "      <td>0.3</td>\n",
       "      <td>0.6</td>\n",
       "    </tr>\n",
       "    <tr>\n",
       "      <th>411</th>\n",
       "      <td>D971 deutscher n°2</td>\n",
       "      <td>[A, A, A, A, B, A, A]</td>\n",
       "      <td>[A, A, A, A, B, A, A]</td>\n",
       "      <td>unsure</td>\n",
       "      <td>unsure</td>\n",
       "      <td>0.3</td>\n",
       "      <td>0.3</td>\n",
       "    </tr>\n",
       "    <tr>\n",
       "      <th>412</th>\n",
       "      <td>D971 deutscher n°3</td>\n",
       "      <td>[A, B, A, A]</td>\n",
       "      <td>[A, B, A, A, A]</td>\n",
       "      <td>certain</td>\n",
       "      <td>unsure</td>\n",
       "      <td>0.8</td>\n",
       "      <td>0.2</td>\n",
       "    </tr>\n",
       "    <tr>\n",
       "      <th>413</th>\n",
       "      <td>D972 deutscher n°1</td>\n",
       "      <td>[A, B, C, B]</td>\n",
       "      <td>[A, B, A, B]</td>\n",
       "      <td>unsure</td>\n",
       "      <td>unsure</td>\n",
       "      <td>0.2</td>\n",
       "      <td>0.2</td>\n",
       "    </tr>\n",
       "    <tr>\n",
       "      <th>414</th>\n",
       "      <td>D972 deutscher n°2</td>\n",
       "      <td>[A, B, A, A, C]</td>\n",
       "      <td>[A]</td>\n",
       "      <td>unsure</td>\n",
       "      <td>---</td>\n",
       "      <td>0.2</td>\n",
       "      <td>0.0</td>\n",
       "    </tr>\n",
       "    <tr>\n",
       "      <th>415</th>\n",
       "      <td>D972 deutscher n°3</td>\n",
       "      <td>[A]</td>\n",
       "      <td>[A, A, B, A, B]</td>\n",
       "      <td>---</td>\n",
       "      <td>wild guess</td>\n",
       "      <td>0.0</td>\n",
       "      <td>0.1</td>\n",
       "    </tr>\n",
       "    <tr>\n",
       "      <th>416</th>\n",
       "      <td>D973 deutscher n°1</td>\n",
       "      <td>[A]</td>\n",
       "      <td>[A]</td>\n",
       "      <td>---</td>\n",
       "      <td>---</td>\n",
       "      <td>0.0</td>\n",
       "      <td>0.0</td>\n",
       "    </tr>\n",
       "    <tr>\n",
       "      <th>417</th>\n",
       "      <td>D973 deutscher n°2</td>\n",
       "      <td>[A, B, A, C]</td>\n",
       "      <td>[A, B, A, C]</td>\n",
       "      <td>presumably</td>\n",
       "      <td>confident</td>\n",
       "      <td>0.5</td>\n",
       "      <td>0.6</td>\n",
       "    </tr>\n",
       "    <tr>\n",
       "      <th>418</th>\n",
       "      <td>D973 deutscher n°3</td>\n",
       "      <td>[A, B, A]</td>\n",
       "      <td>[A, B, A]</td>\n",
       "      <td>certain</td>\n",
       "      <td>certain</td>\n",
       "      <td>0.8</td>\n",
       "      <td>0.8</td>\n",
       "    </tr>\n",
       "    <tr>\n",
       "      <th>419</th>\n",
       "      <td>D974 deutscher n°1</td>\n",
       "      <td>[A, A, A, B, A]</td>\n",
       "      <td>[A, B, A, A, B]</td>\n",
       "      <td>unsure</td>\n",
       "      <td>unsure</td>\n",
       "      <td>0.2</td>\n",
       "      <td>0.2</td>\n",
       "    </tr>\n",
       "    <tr>\n",
       "      <th>420</th>\n",
       "      <td>D974 deutscher n°2</td>\n",
       "      <td>[A, B, A, A]</td>\n",
       "      <td>[A, A, B, A, C]</td>\n",
       "      <td>unsure</td>\n",
       "      <td>confident</td>\n",
       "      <td>0.3</td>\n",
       "      <td>0.6</td>\n",
       "    </tr>\n",
       "    <tr>\n",
       "      <th>421</th>\n",
       "      <td>D975 deutscher n°1</td>\n",
       "      <td>[A, B, A, C]</td>\n",
       "      <td>[A, B, A, C]</td>\n",
       "      <td>unsure</td>\n",
       "      <td>unsure</td>\n",
       "      <td>0.2</td>\n",
       "      <td>0.3</td>\n",
       "    </tr>\n",
       "    <tr>\n",
       "      <th>422</th>\n",
       "      <td>D976 cotillon n°1</td>\n",
       "      <td>[A, A, A, B, A]</td>\n",
       "      <td>[A, B, B, C, B]</td>\n",
       "      <td>unsure</td>\n",
       "      <td>unsure</td>\n",
       "      <td>0.3</td>\n",
       "      <td>0.3</td>\n",
       "    </tr>\n",
       "    <tr>\n",
       "      <th>423</th>\n",
       "      <td>D977 ecossaise n°2</td>\n",
       "      <td>[A, A, A, B, A, A]</td>\n",
       "      <td>[A, A, B, A, A, A]</td>\n",
       "      <td>unsure</td>\n",
       "      <td>unsure</td>\n",
       "      <td>0.3</td>\n",
       "      <td>0.2</td>\n",
       "    </tr>\n",
       "    <tr>\n",
       "      <th>424</th>\n",
       "      <td>D977 ecossaise n°3</td>\n",
       "      <td>[A, B, A, A, A, A, A]</td>\n",
       "      <td>[A, A, B, A, A, A]</td>\n",
       "      <td>unsure</td>\n",
       "      <td>confident</td>\n",
       "      <td>0.2</td>\n",
       "      <td>0.6</td>\n",
       "    </tr>\n",
       "    <tr>\n",
       "      <th>425</th>\n",
       "      <td>D977 ecossaise n°4</td>\n",
       "      <td>[A]</td>\n",
       "      <td>[A, B, A]</td>\n",
       "      <td>---</td>\n",
       "      <td>presumably</td>\n",
       "      <td>0.0</td>\n",
       "      <td>0.5</td>\n",
       "    </tr>\n",
       "    <tr>\n",
       "      <th>426</th>\n",
       "      <td>D977 ecossaise n°5</td>\n",
       "      <td>[A, B, A, A, A, A, A]</td>\n",
       "      <td>[A]</td>\n",
       "      <td>wild guess</td>\n",
       "      <td>---</td>\n",
       "      <td>0.1</td>\n",
       "      <td>0.0</td>\n",
       "    </tr>\n",
       "    <tr>\n",
       "      <th>427</th>\n",
       "      <td>D977 ecossaise n°6</td>\n",
       "      <td>[A]</td>\n",
       "      <td>[A]</td>\n",
       "      <td>---</td>\n",
       "      <td>---</td>\n",
       "      <td>0.0</td>\n",
       "      <td>0.0</td>\n",
       "    </tr>\n",
       "    <tr>\n",
       "      <th>428</th>\n",
       "      <td>D977 ecossaise n°7</td>\n",
       "      <td>[A, B, A, A]</td>\n",
       "      <td>[A, B, A]</td>\n",
       "      <td>wild guess</td>\n",
       "      <td>presumably</td>\n",
       "      <td>0.1</td>\n",
       "      <td>0.4</td>\n",
       "    </tr>\n",
       "    <tr>\n",
       "      <th>429</th>\n",
       "      <td>D977 ecossaise n°8</td>\n",
       "      <td>[A, B, B, B, A, B]</td>\n",
       "      <td>[A, B, A, A]</td>\n",
       "      <td>wild guess</td>\n",
       "      <td>unsure</td>\n",
       "      <td>0.1</td>\n",
       "      <td>0.3</td>\n",
       "    </tr>\n",
       "    <tr>\n",
       "      <th>430</th>\n",
       "      <td>D978 walzer n°1</td>\n",
       "      <td>[A, A, A, B, A, A]</td>\n",
       "      <td>[A, A, A, B, A, A]</td>\n",
       "      <td>unsure</td>\n",
       "      <td>presumably</td>\n",
       "      <td>0.3</td>\n",
       "      <td>0.4</td>\n",
       "    </tr>\n",
       "    <tr>\n",
       "      <th>431</th>\n",
       "      <td>D979 walzer n°1</td>\n",
       "      <td>[A]</td>\n",
       "      <td>[A, B, A, B, C]</td>\n",
       "      <td>---</td>\n",
       "      <td>presumably</td>\n",
       "      <td>0.0</td>\n",
       "      <td>0.5</td>\n",
       "    </tr>\n",
       "    <tr>\n",
       "      <th>432</th>\n",
       "      <td>D980 walzer n°1</td>\n",
       "      <td>[A, A, A, B, A, A, C]</td>\n",
       "      <td>[A, A, B, A, A, A, A]</td>\n",
       "      <td>unsure</td>\n",
       "      <td>unsure</td>\n",
       "      <td>0.2</td>\n",
       "      <td>0.2</td>\n",
       "    </tr>\n",
       "    <tr>\n",
       "      <th>433</th>\n",
       "      <td>D980 walzer n°2</td>\n",
       "      <td>[A, B, A, C]</td>\n",
       "      <td>[A, B, A, C]</td>\n",
       "      <td>unsure</td>\n",
       "      <td>confident</td>\n",
       "      <td>0.3</td>\n",
       "      <td>0.6</td>\n",
       "    </tr>\n",
       "    <tr>\n",
       "      <th>434</th>\n",
       "      <td>D679 ländler n°2</td>\n",
       "      <td>[A, B, A, C]</td>\n",
       "      <td>[A, B, A, B, B, C]</td>\n",
       "      <td>certain</td>\n",
       "      <td>confident</td>\n",
       "      <td>0.8</td>\n",
       "      <td>0.6</td>\n",
       "    </tr>\n",
       "  </tbody>\n",
       "</table>\n",
       "<p>435 rows × 7 columns</p>\n",
       "</div>"
      ],
      "text/plain": [
       "                   name              HR-structure              TR-structure  \\\n",
       "0       D41 menuett n°1              [A, A, B, A]              [A, A, B, A]   \n",
       "1          D41 trio n°1  [A, A, A, A, A, B, A, C]  [A, A, A, A, A, B, A, C]   \n",
       "2       D41 menuett n°2              [A, B, A, A]                 [A, B, A]   \n",
       "3          D41 trio n°2  [A, A, A, B, A, A, A, A]  [A, A, A, B, A, A, A, A]   \n",
       "4       D41 menuett n°3                       [A]                 [A, B, A]   \n",
       "5          D41 trio n°3        [A, B, A, A, A, B]        [A, B, A, A, A, B]   \n",
       "6       D41 menuett n°4              [A, B, A, C]  [A, A, B, A, C, A, A, B]   \n",
       "7          D41 trio n°4                       [A]              [A, A, B, A]   \n",
       "8       D41 menuett n°5              [A, A, B, A]           [A, A, B, A, C]   \n",
       "9          D41 trio n°5              [A, B, A, A]                 [A, B, A]   \n",
       "10      D41 menuett n°6                       [A]                       [A]   \n",
       "11         D41 trio n°6                 [A, B, A]                 [A, B, A]   \n",
       "12      D41 menuett n°7                       [A]           [A, B, B, C, B]   \n",
       "13         D41 trio n°7                       [A]              [A, B, C, B]   \n",
       "14      D41 menuett n°8              [A, A, B, A]                       [A]   \n",
       "15         D41 trio n°8                 [A, B, A]                 [A, B, A]   \n",
       "16      D41 menuett n°9                       [A]        [A, B, A, A, A, A]   \n",
       "17         D41 trio n°9  [A, B, A, A, A, C, A, D]           [A, B, C, A, C]   \n",
       "18     D41 menuett n°10        [A, B, C, B, A, B]     [A, A, B, C, A, B, A]   \n",
       "19        D41 trio n°10              [A, A, B, A]              [A, A, B, A]   \n",
       "20     D41 menuett n°11              [A, B, A, A]              [A, B, A, A]   \n",
       "21        D41 trio n°11                 [A, B, A]              [A, B, A, A]   \n",
       "22     D41 menuett n°12        [A, A, A, A, B, A]  [A, A, A, A, B, A, A, A]   \n",
       "23        D41 trio n°12              [A, B, A, B]           [A, B, A, A, B]   \n",
       "24     D41 menuett n°13                       [A]           [A, A, B, A, C]   \n",
       "25        D41 trio n°13  [A, A, A, A, B, A, A, A]  [A, A, A, A, B, A, A, A]   \n",
       "26     D41 menuett n°14              [A, A, B, A]              [A, A, B, A]   \n",
       "27        D41 trio n°14                 [A, B, A]              [A, A, B, A]   \n",
       "28     D41 menuett n°15                 [A, B, A]              [A, B, A, A]   \n",
       "29        D41 trio n°15           [A, B, C, B, B]           [A, B, C, B, B]   \n",
       "..                  ...                       ...                       ...   \n",
       "405  D970 deutscher n°2                       [A]                       [A]   \n",
       "406  D970 deutscher n°3        [A, A, A, B, A, C]              [A, B, A, C]   \n",
       "407  D970 deutscher n°4                       [A]                       [A]   \n",
       "408  D970 deutscher n°5  [A, B, A, A, A, A, A, B]  [A, B, A, A, A, A, A, A]   \n",
       "409  D970 deutscher n°6                       [A]                       [A]   \n",
       "410  D971 deutscher n°1              [A, A, B, A]              [A, A, B, A]   \n",
       "411  D971 deutscher n°2     [A, A, A, A, B, A, A]     [A, A, A, A, B, A, A]   \n",
       "412  D971 deutscher n°3              [A, B, A, A]           [A, B, A, A, A]   \n",
       "413  D972 deutscher n°1              [A, B, C, B]              [A, B, A, B]   \n",
       "414  D972 deutscher n°2           [A, B, A, A, C]                       [A]   \n",
       "415  D972 deutscher n°3                       [A]           [A, A, B, A, B]   \n",
       "416  D973 deutscher n°1                       [A]                       [A]   \n",
       "417  D973 deutscher n°2              [A, B, A, C]              [A, B, A, C]   \n",
       "418  D973 deutscher n°3                 [A, B, A]                 [A, B, A]   \n",
       "419  D974 deutscher n°1           [A, A, A, B, A]           [A, B, A, A, B]   \n",
       "420  D974 deutscher n°2              [A, B, A, A]           [A, A, B, A, C]   \n",
       "421  D975 deutscher n°1              [A, B, A, C]              [A, B, A, C]   \n",
       "422   D976 cotillon n°1           [A, A, A, B, A]           [A, B, B, C, B]   \n",
       "423  D977 ecossaise n°2        [A, A, A, B, A, A]        [A, A, B, A, A, A]   \n",
       "424  D977 ecossaise n°3     [A, B, A, A, A, A, A]        [A, A, B, A, A, A]   \n",
       "425  D977 ecossaise n°4                       [A]                 [A, B, A]   \n",
       "426  D977 ecossaise n°5     [A, B, A, A, A, A, A]                       [A]   \n",
       "427  D977 ecossaise n°6                       [A]                       [A]   \n",
       "428  D977 ecossaise n°7              [A, B, A, A]                 [A, B, A]   \n",
       "429  D977 ecossaise n°8        [A, B, B, B, A, B]              [A, B, A, A]   \n",
       "430     D978 walzer n°1        [A, A, A, B, A, A]        [A, A, A, B, A, A]   \n",
       "431     D979 walzer n°1                       [A]           [A, B, A, B, C]   \n",
       "432     D980 walzer n°1     [A, A, A, B, A, A, C]     [A, A, B, A, A, A, A]   \n",
       "433     D980 walzer n°2              [A, B, A, C]              [A, B, A, C]   \n",
       "434    D679 ländler n°2              [A, B, A, C]        [A, B, A, B, B, C]   \n",
       "\n",
       "    HR-confidence TR-confidence  HR-trigger  TR-trigger  \n",
       "0       confident     confident         0.6         0.7  \n",
       "1      wild guess        unsure         0.1         0.2  \n",
       "2      wild guess     confident         0.1         0.6  \n",
       "3          unsure        unsure         0.2         0.3  \n",
       "4             ---     confident         0.0         0.6  \n",
       "5      wild guess        unsure         0.1         0.2  \n",
       "6      presumably    wild guess         0.5         0.1  \n",
       "7             ---        unsure         0.0         0.3  \n",
       "8         certain       certain         0.8         0.9  \n",
       "9      wild guess     confident         0.1         0.6  \n",
       "10            ---           ---         0.0         0.0  \n",
       "11     presumably     confident         0.5         0.6  \n",
       "12            ---        unsure         0.0         0.2  \n",
       "13            ---        unsure         0.0         0.3  \n",
       "14     presumably           ---         0.5         0.0  \n",
       "15     presumably     confident         0.4         0.6  \n",
       "16            ---    wild guess         0.0         0.1  \n",
       "17         unsure    wild guess         0.2         0.1  \n",
       "18     wild guess        unsure         0.1         0.3  \n",
       "19         unsure        unsure         0.2         0.3  \n",
       "20         unsure        unsure         0.2         0.2  \n",
       "21        certain        unsure         0.8         0.2  \n",
       "22     wild guess        unsure         0.1         0.2  \n",
       "23     wild guess        unsure         0.1         0.2  \n",
       "24            ---        unsure         0.0         0.3  \n",
       "25     wild guess        unsure         0.1         0.3  \n",
       "26         unsure    presumably         0.3         0.4  \n",
       "27         unsure        unsure         0.2         0.2  \n",
       "28         unsure    wild guess         0.3         0.1  \n",
       "29     wild guess        unsure         0.1         0.2  \n",
       "..            ...           ...         ...         ...  \n",
       "405           ---           ---         0.0         0.0  \n",
       "406    presumably       certain         0.5         0.8  \n",
       "407           ---           ---         0.0         0.0  \n",
       "408    presumably     confident         0.5         0.7  \n",
       "409           ---           ---         0.0         0.0  \n",
       "410        unsure     confident         0.3         0.6  \n",
       "411        unsure        unsure         0.3         0.3  \n",
       "412       certain        unsure         0.8         0.2  \n",
       "413        unsure        unsure         0.2         0.2  \n",
       "414        unsure           ---         0.2         0.0  \n",
       "415           ---    wild guess         0.0         0.1  \n",
       "416           ---           ---         0.0         0.0  \n",
       "417    presumably     confident         0.5         0.6  \n",
       "418       certain       certain         0.8         0.8  \n",
       "419        unsure        unsure         0.2         0.2  \n",
       "420        unsure     confident         0.3         0.6  \n",
       "421        unsure        unsure         0.2         0.3  \n",
       "422        unsure        unsure         0.3         0.3  \n",
       "423        unsure        unsure         0.3         0.2  \n",
       "424        unsure     confident         0.2         0.6  \n",
       "425           ---    presumably         0.0         0.5  \n",
       "426    wild guess           ---         0.1         0.0  \n",
       "427           ---           ---         0.0         0.0  \n",
       "428    wild guess    presumably         0.1         0.4  \n",
       "429    wild guess        unsure         0.1         0.3  \n",
       "430        unsure    presumably         0.3         0.4  \n",
       "431           ---    presumably         0.0         0.5  \n",
       "432        unsure        unsure         0.2         0.2  \n",
       "433        unsure     confident         0.3         0.6  \n",
       "434       certain     confident         0.8         0.6  \n",
       "\n",
       "[435 rows x 7 columns]"
      ]
     },
     "execution_count": 236,
     "metadata": {},
     "output_type": "execute_result"
    }
   ],
   "source": [
    "dsp.structures"
   ]
  },
  {
   "cell_type": "markdown",
   "metadata": {},
   "source": [
    "# Classifying dance types\n",
    "\n",
    "This huge repertoire of piano pieces was intended for the private enjoyment of the Viennese bourgeoisie, whose social gatherings invariably involved music and, clearly, group dancing. Accordingly, each piece in the corpus bears as a title the name of one of the most common dance types of Schubert’s times. The title could not be assigned randomly, as the music had to match smoothly the common-sense expectations regarding the specific choreography that characterised each dance. Musicians and dancers were often amateurs, and yet, whenever the word “Walzer” or “Ländler” was heard everyone would also have known how the music would have sounded like, and  how to move on the dancing floor. However, it is by no means trivial to tell what the exact differences among dance types would be, and whether  these difference were encoded in the score or rather in the unspoken conventions of a specific social group striving to establish its status and identity in the powerful and dynamic environment of the early-19th-century Vienna. \n",
    "\n",
    "For instance, the Walzer and the Ländler could be experienced as the extremes of a continuum in a role-playing game across social classes, with the refined Walzer representing the high-class status eventually degenerating, but just for apotropaic fun, into the rural Ländler (Witzmann, 1976).\n",
    "\n",
    "In the following, we will attempt to single out musical features from the score that can be hypothesised to characterise different dance types, and assess to what extent they account for the original destination of the pieces as intended by the composer. "
   ]
  },
  {
   "cell_type": "markdown",
   "metadata": {},
   "source": [
    "## 2.2 Features\n",
    "\n",
    "Since there are only few instances of Galopp and Cotillon in the corpus, we will not include these dances in our investigation. Among the remaining dances, the Ecossaises are the only ones in duple meter (oom-pah-oom-pah rather than oom-pah-pah-oom-pah-pah): even the time-signature alone would provide perfect accuracy in recognising this dance type. Accordingly, we will focus on the non-trivial task of classifying the five triple-meter dance types: the French Menuet and Trio, and the German Ländler, Walzer and Deutscher. "
   ]
  },
  {
   "cell_type": "markdown",
   "metadata": {},
   "source": [
    "### Complexity\n",
    "\n",
    " Simplicity is the keyword for a popular musical product aimed at universally meeting the taste, and the keyboard skills, of the viennese bourgeoisie. A mass product for private consumption, somewhat similar to today’s playlists, these dances were to be enjoyed in rather informal settings within the familiar social atmosphere of the ballroom. All in all, the piano dance was not the ideal testing ground for compositional experimentalism. The entropy of the note distribution over the corpus reflects this feature. Compared to the music from earlier and later composers, the dances show a more selective and hierarchically distributed usage of pitches (lower entropy)."
   ]
  },
  {
   "cell_type": "code",
   "execution_count": 237,
   "metadata": {},
   "outputs": [
    {
     "data": {
      "application/vnd.plotly.v1+json": {
       "config": {
        "plotlyServerURL": "https://plot.ly"
       },
       "data": [
        {
         "error_y": {
          "array": [
           0.01034852979579326,
           0.005791425425110464,
           0.008754396754304894,
           0.004776880413489781,
           0.014125447456075356,
           0.007872923321761479,
           0.00605075612924566,
           0.013487472327183614,
           0.0121,
           0.03018970990444847,
           0.008455979401155389,
           0.0089,
           0.00570715348389106,
           0.08493898987128001,
           0.007580569531297154,
           0.007216438309790352,
           0.0038955105837727992,
           0.023541568852538552,
           0.0162,
           0.0113,
           0.012715927831268736,
           0.01654602674416772,
           0.02545357588941921,
           0.022073587351185697,
           0.0560621461138503,
           0.03859891170380336,
           0.03651888257842728,
           0.014925116839045847,
           0.04888589017233369,
           0.0253,
           0.03477352949597433,
           0.026696777982212042
          ],
          "type": "data",
          "visible": true
         },
         "mode": "markers",
         "type": "scatter",
         "x": [
          "Monteverdi (1567-1643)",
          "Corelli (1653-1713)",
          "Couperin (1668-1733): Concerts royaux",
          "Couperin (1668-1733): Gouts reunis",
          "Couperin (1668-1733): L'art de toucher le clavecin",
          "Couperin (1668-1733): Pieces de clavecin",
          "J.S. Bach (1685-1750): French suites",
          "J.S.Bach (1685-1750): English suites",
          "Hasse (1699-1783)",
          "W.F. Bach (1710-1784)",
          "Kozeluh (1747-1818)",
          "Mozart (1756-1795): Songs and arias",
          "Mozart (1756-1795): Piano sonatas",
          "Pleyel (1757-1831)",
          "Beethoven (1770-1827): String quartets",
          "Beethoven (1770-1827): Piano sonatas",
          "Schubert (1797-1828): Dances",
          "Schubert (1797-1828): Winterreise",
          "Schubert (1797-1828): Schwanengesang",
          "Schubert (1797-1828): Die Schöne Müllerin",
          "Mendelssohn (1809-1847)",
          "Chopin (1810-1849)",
          "Schumann (1810-1856): Liederkreis",
          "Schumann (1810-1856): Kinderszenen",
          "Liszt (1811-1886)",
          "Tchaikovsky (1840-1893)",
          "Dvorak (1841-1904)",
          "Grieg (1843-1907)",
          "Debussy (1862-1818)",
          "Strauss (1864-1949)",
          "Ravel (1875-1937)",
          "Medtner (1880-1951)"
         ],
         "y": [
          0.6289248948366936,
          0.6215168801560319,
          0.6325304778527198,
          0.6376210795851185,
          0.647683673167108,
          0.6171832890426937,
          0.6495416239143535,
          0.6574174084010761,
          0.6412,
          0.6840790120210114,
          0.666172135568162,
          0.6792,
          0.6653379176364274,
          0.6836889423821646,
          0.6960007352458468,
          0.6922650091389194,
          0.5885898817555811,
          0.6390139748196042,
          0.7108,
          0.6711,
          0.7008541569958481,
          0.6901773167787101,
          0.6579297784964611,
          0.6390062498251873,
          0.7385889402832881,
          0.6995564127883401,
          0.6649787784283251,
          0.6846444752522134,
          0.7127112088671181,
          0.745,
          0.8091020657186527,
          0.7206473732744982
         ]
        }
       ],
       "layout": {
        "height": 800,
        "shapes": [
         {
          "line": {
           "color": "red",
           "dash": "dot",
           "width": 1
          },
          "type": "line",
          "x0": 0,
          "x1": 32,
          "y0": 0.5885898817555811,
          "y1": 0.5885898817555811
         }
        ],
        "template": {
         "data": {
          "bar": [
           {
            "error_x": {
             "color": "#2a3f5f"
            },
            "error_y": {
             "color": "#2a3f5f"
            },
            "marker": {
             "line": {
              "color": "#E5ECF6",
              "width": 0.5
             }
            },
            "type": "bar"
           }
          ],
          "barpolar": [
           {
            "marker": {
             "line": {
              "color": "#E5ECF6",
              "width": 0.5
             }
            },
            "type": "barpolar"
           }
          ],
          "carpet": [
           {
            "aaxis": {
             "endlinecolor": "#2a3f5f",
             "gridcolor": "white",
             "linecolor": "white",
             "minorgridcolor": "white",
             "startlinecolor": "#2a3f5f"
            },
            "baxis": {
             "endlinecolor": "#2a3f5f",
             "gridcolor": "white",
             "linecolor": "white",
             "minorgridcolor": "white",
             "startlinecolor": "#2a3f5f"
            },
            "type": "carpet"
           }
          ],
          "choropleth": [
           {
            "colorbar": {
             "outlinewidth": 0,
             "ticks": ""
            },
            "type": "choropleth"
           }
          ],
          "contour": [
           {
            "colorbar": {
             "outlinewidth": 0,
             "ticks": ""
            },
            "colorscale": [
             [
              0,
              "#0d0887"
             ],
             [
              0.1111111111111111,
              "#46039f"
             ],
             [
              0.2222222222222222,
              "#7201a8"
             ],
             [
              0.3333333333333333,
              "#9c179e"
             ],
             [
              0.4444444444444444,
              "#bd3786"
             ],
             [
              0.5555555555555556,
              "#d8576b"
             ],
             [
              0.6666666666666666,
              "#ed7953"
             ],
             [
              0.7777777777777778,
              "#fb9f3a"
             ],
             [
              0.8888888888888888,
              "#fdca26"
             ],
             [
              1,
              "#f0f921"
             ]
            ],
            "type": "contour"
           }
          ],
          "contourcarpet": [
           {
            "colorbar": {
             "outlinewidth": 0,
             "ticks": ""
            },
            "type": "contourcarpet"
           }
          ],
          "heatmap": [
           {
            "colorbar": {
             "outlinewidth": 0,
             "ticks": ""
            },
            "colorscale": [
             [
              0,
              "#0d0887"
             ],
             [
              0.1111111111111111,
              "#46039f"
             ],
             [
              0.2222222222222222,
              "#7201a8"
             ],
             [
              0.3333333333333333,
              "#9c179e"
             ],
             [
              0.4444444444444444,
              "#bd3786"
             ],
             [
              0.5555555555555556,
              "#d8576b"
             ],
             [
              0.6666666666666666,
              "#ed7953"
             ],
             [
              0.7777777777777778,
              "#fb9f3a"
             ],
             [
              0.8888888888888888,
              "#fdca26"
             ],
             [
              1,
              "#f0f921"
             ]
            ],
            "type": "heatmap"
           }
          ],
          "heatmapgl": [
           {
            "colorbar": {
             "outlinewidth": 0,
             "ticks": ""
            },
            "colorscale": [
             [
              0,
              "#0d0887"
             ],
             [
              0.1111111111111111,
              "#46039f"
             ],
             [
              0.2222222222222222,
              "#7201a8"
             ],
             [
              0.3333333333333333,
              "#9c179e"
             ],
             [
              0.4444444444444444,
              "#bd3786"
             ],
             [
              0.5555555555555556,
              "#d8576b"
             ],
             [
              0.6666666666666666,
              "#ed7953"
             ],
             [
              0.7777777777777778,
              "#fb9f3a"
             ],
             [
              0.8888888888888888,
              "#fdca26"
             ],
             [
              1,
              "#f0f921"
             ]
            ],
            "type": "heatmapgl"
           }
          ],
          "histogram": [
           {
            "marker": {
             "colorbar": {
              "outlinewidth": 0,
              "ticks": ""
             }
            },
            "type": "histogram"
           }
          ],
          "histogram2d": [
           {
            "colorbar": {
             "outlinewidth": 0,
             "ticks": ""
            },
            "colorscale": [
             [
              0,
              "#0d0887"
             ],
             [
              0.1111111111111111,
              "#46039f"
             ],
             [
              0.2222222222222222,
              "#7201a8"
             ],
             [
              0.3333333333333333,
              "#9c179e"
             ],
             [
              0.4444444444444444,
              "#bd3786"
             ],
             [
              0.5555555555555556,
              "#d8576b"
             ],
             [
              0.6666666666666666,
              "#ed7953"
             ],
             [
              0.7777777777777778,
              "#fb9f3a"
             ],
             [
              0.8888888888888888,
              "#fdca26"
             ],
             [
              1,
              "#f0f921"
             ]
            ],
            "type": "histogram2d"
           }
          ],
          "histogram2dcontour": [
           {
            "colorbar": {
             "outlinewidth": 0,
             "ticks": ""
            },
            "colorscale": [
             [
              0,
              "#0d0887"
             ],
             [
              0.1111111111111111,
              "#46039f"
             ],
             [
              0.2222222222222222,
              "#7201a8"
             ],
             [
              0.3333333333333333,
              "#9c179e"
             ],
             [
              0.4444444444444444,
              "#bd3786"
             ],
             [
              0.5555555555555556,
              "#d8576b"
             ],
             [
              0.6666666666666666,
              "#ed7953"
             ],
             [
              0.7777777777777778,
              "#fb9f3a"
             ],
             [
              0.8888888888888888,
              "#fdca26"
             ],
             [
              1,
              "#f0f921"
             ]
            ],
            "type": "histogram2dcontour"
           }
          ],
          "mesh3d": [
           {
            "colorbar": {
             "outlinewidth": 0,
             "ticks": ""
            },
            "type": "mesh3d"
           }
          ],
          "parcoords": [
           {
            "line": {
             "colorbar": {
              "outlinewidth": 0,
              "ticks": ""
             }
            },
            "type": "parcoords"
           }
          ],
          "pie": [
           {
            "automargin": true,
            "type": "pie"
           }
          ],
          "scatter": [
           {
            "marker": {
             "colorbar": {
              "outlinewidth": 0,
              "ticks": ""
             }
            },
            "type": "scatter"
           }
          ],
          "scatter3d": [
           {
            "line": {
             "colorbar": {
              "outlinewidth": 0,
              "ticks": ""
             }
            },
            "marker": {
             "colorbar": {
              "outlinewidth": 0,
              "ticks": ""
             }
            },
            "type": "scatter3d"
           }
          ],
          "scattercarpet": [
           {
            "marker": {
             "colorbar": {
              "outlinewidth": 0,
              "ticks": ""
             }
            },
            "type": "scattercarpet"
           }
          ],
          "scattergeo": [
           {
            "marker": {
             "colorbar": {
              "outlinewidth": 0,
              "ticks": ""
             }
            },
            "type": "scattergeo"
           }
          ],
          "scattergl": [
           {
            "marker": {
             "colorbar": {
              "outlinewidth": 0,
              "ticks": ""
             }
            },
            "type": "scattergl"
           }
          ],
          "scattermapbox": [
           {
            "marker": {
             "colorbar": {
              "outlinewidth": 0,
              "ticks": ""
             }
            },
            "type": "scattermapbox"
           }
          ],
          "scatterpolar": [
           {
            "marker": {
             "colorbar": {
              "outlinewidth": 0,
              "ticks": ""
             }
            },
            "type": "scatterpolar"
           }
          ],
          "scatterpolargl": [
           {
            "marker": {
             "colorbar": {
              "outlinewidth": 0,
              "ticks": ""
             }
            },
            "type": "scatterpolargl"
           }
          ],
          "scatterternary": [
           {
            "marker": {
             "colorbar": {
              "outlinewidth": 0,
              "ticks": ""
             }
            },
            "type": "scatterternary"
           }
          ],
          "surface": [
           {
            "colorbar": {
             "outlinewidth": 0,
             "ticks": ""
            },
            "colorscale": [
             [
              0,
              "#0d0887"
             ],
             [
              0.1111111111111111,
              "#46039f"
             ],
             [
              0.2222222222222222,
              "#7201a8"
             ],
             [
              0.3333333333333333,
              "#9c179e"
             ],
             [
              0.4444444444444444,
              "#bd3786"
             ],
             [
              0.5555555555555556,
              "#d8576b"
             ],
             [
              0.6666666666666666,
              "#ed7953"
             ],
             [
              0.7777777777777778,
              "#fb9f3a"
             ],
             [
              0.8888888888888888,
              "#fdca26"
             ],
             [
              1,
              "#f0f921"
             ]
            ],
            "type": "surface"
           }
          ],
          "table": [
           {
            "cells": {
             "fill": {
              "color": "#EBF0F8"
             },
             "line": {
              "color": "white"
             }
            },
            "header": {
             "fill": {
              "color": "#C8D4E3"
             },
             "line": {
              "color": "white"
             }
            },
            "type": "table"
           }
          ]
         },
         "layout": {
          "annotationdefaults": {
           "arrowcolor": "#2a3f5f",
           "arrowhead": 0,
           "arrowwidth": 1
          },
          "coloraxis": {
           "colorbar": {
            "outlinewidth": 0,
            "ticks": ""
           }
          },
          "colorscale": {
           "diverging": [
            [
             0,
             "#8e0152"
            ],
            [
             0.1,
             "#c51b7d"
            ],
            [
             0.2,
             "#de77ae"
            ],
            [
             0.3,
             "#f1b6da"
            ],
            [
             0.4,
             "#fde0ef"
            ],
            [
             0.5,
             "#f7f7f7"
            ],
            [
             0.6,
             "#e6f5d0"
            ],
            [
             0.7,
             "#b8e186"
            ],
            [
             0.8,
             "#7fbc41"
            ],
            [
             0.9,
             "#4d9221"
            ],
            [
             1,
             "#276419"
            ]
           ],
           "sequential": [
            [
             0,
             "#0d0887"
            ],
            [
             0.1111111111111111,
             "#46039f"
            ],
            [
             0.2222222222222222,
             "#7201a8"
            ],
            [
             0.3333333333333333,
             "#9c179e"
            ],
            [
             0.4444444444444444,
             "#bd3786"
            ],
            [
             0.5555555555555556,
             "#d8576b"
            ],
            [
             0.6666666666666666,
             "#ed7953"
            ],
            [
             0.7777777777777778,
             "#fb9f3a"
            ],
            [
             0.8888888888888888,
             "#fdca26"
            ],
            [
             1,
             "#f0f921"
            ]
           ],
           "sequentialminus": [
            [
             0,
             "#0d0887"
            ],
            [
             0.1111111111111111,
             "#46039f"
            ],
            [
             0.2222222222222222,
             "#7201a8"
            ],
            [
             0.3333333333333333,
             "#9c179e"
            ],
            [
             0.4444444444444444,
             "#bd3786"
            ],
            [
             0.5555555555555556,
             "#d8576b"
            ],
            [
             0.6666666666666666,
             "#ed7953"
            ],
            [
             0.7777777777777778,
             "#fb9f3a"
            ],
            [
             0.8888888888888888,
             "#fdca26"
            ],
            [
             1,
             "#f0f921"
            ]
           ]
          },
          "colorway": [
           "#636efa",
           "#EF553B",
           "#00cc96",
           "#ab63fa",
           "#FFA15A",
           "#19d3f3",
           "#FF6692",
           "#B6E880",
           "#FF97FF",
           "#FECB52"
          ],
          "font": {
           "color": "#2a3f5f"
          },
          "geo": {
           "bgcolor": "white",
           "lakecolor": "white",
           "landcolor": "#E5ECF6",
           "showlakes": true,
           "showland": true,
           "subunitcolor": "white"
          },
          "hoverlabel": {
           "align": "left"
          },
          "hovermode": "closest",
          "mapbox": {
           "style": "light"
          },
          "paper_bgcolor": "white",
          "plot_bgcolor": "#E5ECF6",
          "polar": {
           "angularaxis": {
            "gridcolor": "white",
            "linecolor": "white",
            "ticks": ""
           },
           "bgcolor": "#E5ECF6",
           "radialaxis": {
            "gridcolor": "white",
            "linecolor": "white",
            "ticks": ""
           }
          },
          "scene": {
           "xaxis": {
            "backgroundcolor": "#E5ECF6",
            "gridcolor": "white",
            "gridwidth": 2,
            "linecolor": "white",
            "showbackground": true,
            "ticks": "",
            "zerolinecolor": "white"
           },
           "yaxis": {
            "backgroundcolor": "#E5ECF6",
            "gridcolor": "white",
            "gridwidth": 2,
            "linecolor": "white",
            "showbackground": true,
            "ticks": "",
            "zerolinecolor": "white"
           },
           "zaxis": {
            "backgroundcolor": "#E5ECF6",
            "gridcolor": "white",
            "gridwidth": 2,
            "linecolor": "white",
            "showbackground": true,
            "ticks": "",
            "zerolinecolor": "white"
           }
          },
          "shapedefaults": {
           "line": {
            "color": "#2a3f5f"
           }
          },
          "ternary": {
           "aaxis": {
            "gridcolor": "white",
            "linecolor": "white",
            "ticks": ""
           },
           "baxis": {
            "gridcolor": "white",
            "linecolor": "white",
            "ticks": ""
           },
           "bgcolor": "#E5ECF6",
           "caxis": {
            "gridcolor": "white",
            "linecolor": "white",
            "ticks": ""
           }
          },
          "title": {
           "x": 0.05
          },
          "xaxis": {
           "automargin": true,
           "gridcolor": "white",
           "linecolor": "white",
           "ticks": "",
           "title": {
            "standoff": 15
           },
           "zerolinecolor": "white",
           "zerolinewidth": 2
          },
          "yaxis": {
           "automargin": true,
           "gridcolor": "white",
           "linecolor": "white",
           "ticks": "",
           "title": {
            "standoff": 15
           },
           "zerolinecolor": "white",
           "zerolinewidth": 2
          }
         }
        },
        "title": {
         "text": "Mean entropies of Schubert, DCML and Snyder corpora"
        },
        "yaxis": {
         "title": {
          "text": "Mean entropy (95% CI)"
         }
        }
       }
      },
      "text/html": [
       "<div>\n",
       "        \n",
       "        \n",
       "            <div id=\"ebbc1e96-4393-4124-8de9-d8d1ec9a2d3f\" class=\"plotly-graph-div\" style=\"height:800px; width:100%;\"></div>\n",
       "            <script type=\"text/javascript\">\n",
       "                require([\"plotly\"], function(Plotly) {\n",
       "                    window.PLOTLYENV=window.PLOTLYENV || {};\n",
       "                    \n",
       "                if (document.getElementById(\"ebbc1e96-4393-4124-8de9-d8d1ec9a2d3f\")) {\n",
       "                    Plotly.newPlot(\n",
       "                        'ebbc1e96-4393-4124-8de9-d8d1ec9a2d3f',\n",
       "                        [{\"error_y\": {\"array\": [0.01034852979579326, 0.005791425425110464, 0.008754396754304894, 0.004776880413489781, 0.014125447456075356, 0.007872923321761479, 0.00605075612924566, 0.013487472327183614, 0.0121, 0.03018970990444847, 0.008455979401155389, 0.0089, 0.00570715348389106, 0.08493898987128001, 0.007580569531297154, 0.007216438309790352, 0.0038955105837727992, 0.023541568852538552, 0.0162, 0.0113, 0.012715927831268736, 0.01654602674416772, 0.02545357588941921, 0.022073587351185697, 0.0560621461138503, 0.03859891170380336, 0.03651888257842728, 0.014925116839045847, 0.04888589017233369, 0.0253, 0.03477352949597433, 0.026696777982212042], \"type\": \"data\", \"visible\": true}, \"mode\": \"markers\", \"type\": \"scatter\", \"x\": [\"Monteverdi (1567-1643)\", \"Corelli (1653-1713)\", \"Couperin (1668-1733): Concerts royaux\", \"Couperin (1668-1733): Gouts reunis\", \"Couperin (1668-1733): L'art de toucher le clavecin\", \"Couperin (1668-1733): Pieces de clavecin\", \"J.S. Bach (1685-1750): French suites\", \"J.S.Bach (1685-1750): English suites\", \"Hasse (1699-1783)\", \"W.F. Bach (1710-1784)\", \"Kozeluh (1747-1818)\", \"Mozart (1756-1795): Songs and arias\", \"Mozart (1756-1795): Piano sonatas\", \"Pleyel (1757-1831)\", \"Beethoven (1770-1827): String quartets\", \"Beethoven (1770-1827): Piano sonatas\", \"Schubert (1797-1828): Dances\", \"Schubert (1797-1828): Winterreise\", \"Schubert (1797-1828): Schwanengesang\", \"Schubert (1797-1828): Die Sch\\u00f6ne M\\u00fcllerin\", \"Mendelssohn (1809-1847)\", \"Chopin (1810-1849)\", \"Schumann (1810-1856): Liederkreis\", \"Schumann (1810-1856): Kinderszenen\", \"Liszt (1811-1886)\", \"Tchaikovsky (1840-1893)\", \"Dvorak (1841-1904)\", \"Grieg (1843-1907)\", \"Debussy (1862-1818)\", \"Strauss (1864-1949)\", \"Ravel (1875-1937)\", \"Medtner (1880-1951)\"], \"y\": [0.6289248948366936, 0.6215168801560319, 0.6325304778527198, 0.6376210795851185, 0.647683673167108, 0.6171832890426937, 0.6495416239143535, 0.6574174084010761, 0.6412, 0.6840790120210114, 0.666172135568162, 0.6792, 0.6653379176364274, 0.6836889423821646, 0.6960007352458468, 0.6922650091389194, 0.5885898817555811, 0.6390139748196042, 0.7108, 0.6711, 0.7008541569958481, 0.6901773167787101, 0.6579297784964611, 0.6390062498251873, 0.7385889402832881, 0.6995564127883401, 0.6649787784283251, 0.6846444752522134, 0.7127112088671181, 0.745, 0.8091020657186527, 0.7206473732744982]}],\n",
       "                        {\"height\": 800, \"shapes\": [{\"line\": {\"color\": \"red\", \"dash\": \"dot\", \"width\": 1}, \"type\": \"line\", \"x0\": 0, \"x1\": 32, \"y0\": 0.5885898817555811, \"y1\": 0.5885898817555811}], \"template\": {\"data\": {\"bar\": [{\"error_x\": {\"color\": \"#2a3f5f\"}, \"error_y\": {\"color\": \"#2a3f5f\"}, \"marker\": {\"line\": {\"color\": \"#E5ECF6\", \"width\": 0.5}}, \"type\": \"bar\"}], \"barpolar\": [{\"marker\": {\"line\": {\"color\": \"#E5ECF6\", \"width\": 0.5}}, \"type\": \"barpolar\"}], \"carpet\": [{\"aaxis\": {\"endlinecolor\": \"#2a3f5f\", \"gridcolor\": \"white\", \"linecolor\": \"white\", \"minorgridcolor\": \"white\", \"startlinecolor\": \"#2a3f5f\"}, \"baxis\": {\"endlinecolor\": \"#2a3f5f\", \"gridcolor\": \"white\", \"linecolor\": \"white\", \"minorgridcolor\": \"white\", \"startlinecolor\": \"#2a3f5f\"}, \"type\": \"carpet\"}], \"choropleth\": [{\"colorbar\": {\"outlinewidth\": 0, \"ticks\": \"\"}, \"type\": \"choropleth\"}], \"contour\": [{\"colorbar\": {\"outlinewidth\": 0, \"ticks\": \"\"}, \"colorscale\": [[0.0, \"#0d0887\"], [0.1111111111111111, \"#46039f\"], [0.2222222222222222, \"#7201a8\"], [0.3333333333333333, \"#9c179e\"], [0.4444444444444444, \"#bd3786\"], [0.5555555555555556, \"#d8576b\"], [0.6666666666666666, \"#ed7953\"], [0.7777777777777778, \"#fb9f3a\"], [0.8888888888888888, \"#fdca26\"], [1.0, \"#f0f921\"]], \"type\": \"contour\"}], \"contourcarpet\": [{\"colorbar\": {\"outlinewidth\": 0, \"ticks\": \"\"}, \"type\": \"contourcarpet\"}], \"heatmap\": [{\"colorbar\": {\"outlinewidth\": 0, \"ticks\": \"\"}, \"colorscale\": [[0.0, \"#0d0887\"], [0.1111111111111111, \"#46039f\"], [0.2222222222222222, \"#7201a8\"], [0.3333333333333333, \"#9c179e\"], [0.4444444444444444, \"#bd3786\"], [0.5555555555555556, \"#d8576b\"], [0.6666666666666666, \"#ed7953\"], [0.7777777777777778, \"#fb9f3a\"], [0.8888888888888888, \"#fdca26\"], [1.0, \"#f0f921\"]], \"type\": \"heatmap\"}], \"heatmapgl\": [{\"colorbar\": {\"outlinewidth\": 0, \"ticks\": \"\"}, \"colorscale\": [[0.0, \"#0d0887\"], [0.1111111111111111, \"#46039f\"], [0.2222222222222222, \"#7201a8\"], [0.3333333333333333, \"#9c179e\"], [0.4444444444444444, \"#bd3786\"], [0.5555555555555556, \"#d8576b\"], [0.6666666666666666, \"#ed7953\"], [0.7777777777777778, \"#fb9f3a\"], [0.8888888888888888, \"#fdca26\"], [1.0, \"#f0f921\"]], \"type\": \"heatmapgl\"}], \"histogram\": [{\"marker\": {\"colorbar\": {\"outlinewidth\": 0, \"ticks\": \"\"}}, \"type\": \"histogram\"}], \"histogram2d\": [{\"colorbar\": {\"outlinewidth\": 0, \"ticks\": \"\"}, \"colorscale\": [[0.0, \"#0d0887\"], [0.1111111111111111, \"#46039f\"], [0.2222222222222222, \"#7201a8\"], [0.3333333333333333, \"#9c179e\"], [0.4444444444444444, \"#bd3786\"], [0.5555555555555556, \"#d8576b\"], [0.6666666666666666, \"#ed7953\"], [0.7777777777777778, \"#fb9f3a\"], [0.8888888888888888, \"#fdca26\"], [1.0, \"#f0f921\"]], \"type\": \"histogram2d\"}], \"histogram2dcontour\": [{\"colorbar\": {\"outlinewidth\": 0, \"ticks\": \"\"}, \"colorscale\": [[0.0, \"#0d0887\"], [0.1111111111111111, \"#46039f\"], [0.2222222222222222, \"#7201a8\"], [0.3333333333333333, \"#9c179e\"], [0.4444444444444444, \"#bd3786\"], [0.5555555555555556, \"#d8576b\"], [0.6666666666666666, \"#ed7953\"], [0.7777777777777778, \"#fb9f3a\"], [0.8888888888888888, \"#fdca26\"], [1.0, \"#f0f921\"]], \"type\": \"histogram2dcontour\"}], \"mesh3d\": [{\"colorbar\": {\"outlinewidth\": 0, \"ticks\": \"\"}, \"type\": \"mesh3d\"}], \"parcoords\": [{\"line\": {\"colorbar\": {\"outlinewidth\": 0, \"ticks\": \"\"}}, \"type\": \"parcoords\"}], \"pie\": [{\"automargin\": true, \"type\": \"pie\"}], \"scatter\": [{\"marker\": {\"colorbar\": {\"outlinewidth\": 0, \"ticks\": \"\"}}, \"type\": \"scatter\"}], \"scatter3d\": [{\"line\": {\"colorbar\": {\"outlinewidth\": 0, \"ticks\": \"\"}}, \"marker\": {\"colorbar\": {\"outlinewidth\": 0, \"ticks\": \"\"}}, \"type\": \"scatter3d\"}], \"scattercarpet\": [{\"marker\": {\"colorbar\": {\"outlinewidth\": 0, \"ticks\": \"\"}}, \"type\": \"scattercarpet\"}], \"scattergeo\": [{\"marker\": {\"colorbar\": {\"outlinewidth\": 0, \"ticks\": \"\"}}, \"type\": \"scattergeo\"}], \"scattergl\": [{\"marker\": {\"colorbar\": {\"outlinewidth\": 0, \"ticks\": \"\"}}, \"type\": \"scattergl\"}], \"scattermapbox\": [{\"marker\": {\"colorbar\": {\"outlinewidth\": 0, \"ticks\": \"\"}}, \"type\": \"scattermapbox\"}], \"scatterpolar\": [{\"marker\": {\"colorbar\": {\"outlinewidth\": 0, \"ticks\": \"\"}}, \"type\": \"scatterpolar\"}], \"scatterpolargl\": [{\"marker\": {\"colorbar\": {\"outlinewidth\": 0, \"ticks\": \"\"}}, \"type\": \"scatterpolargl\"}], \"scatterternary\": [{\"marker\": {\"colorbar\": {\"outlinewidth\": 0, \"ticks\": \"\"}}, \"type\": \"scatterternary\"}], \"surface\": [{\"colorbar\": {\"outlinewidth\": 0, \"ticks\": \"\"}, \"colorscale\": [[0.0, \"#0d0887\"], [0.1111111111111111, \"#46039f\"], [0.2222222222222222, \"#7201a8\"], [0.3333333333333333, \"#9c179e\"], [0.4444444444444444, \"#bd3786\"], [0.5555555555555556, \"#d8576b\"], [0.6666666666666666, \"#ed7953\"], [0.7777777777777778, \"#fb9f3a\"], [0.8888888888888888, \"#fdca26\"], [1.0, \"#f0f921\"]], \"type\": \"surface\"}], \"table\": [{\"cells\": {\"fill\": {\"color\": \"#EBF0F8\"}, \"line\": {\"color\": \"white\"}}, \"header\": {\"fill\": {\"color\": \"#C8D4E3\"}, \"line\": {\"color\": \"white\"}}, \"type\": \"table\"}]}, \"layout\": {\"annotationdefaults\": {\"arrowcolor\": \"#2a3f5f\", \"arrowhead\": 0, \"arrowwidth\": 1}, \"coloraxis\": {\"colorbar\": {\"outlinewidth\": 0, \"ticks\": \"\"}}, \"colorscale\": {\"diverging\": [[0, \"#8e0152\"], [0.1, \"#c51b7d\"], [0.2, \"#de77ae\"], [0.3, \"#f1b6da\"], [0.4, \"#fde0ef\"], [0.5, \"#f7f7f7\"], [0.6, \"#e6f5d0\"], [0.7, \"#b8e186\"], [0.8, \"#7fbc41\"], [0.9, \"#4d9221\"], [1, \"#276419\"]], \"sequential\": [[0.0, \"#0d0887\"], [0.1111111111111111, \"#46039f\"], [0.2222222222222222, \"#7201a8\"], [0.3333333333333333, \"#9c179e\"], [0.4444444444444444, \"#bd3786\"], [0.5555555555555556, \"#d8576b\"], [0.6666666666666666, \"#ed7953\"], [0.7777777777777778, \"#fb9f3a\"], [0.8888888888888888, \"#fdca26\"], [1.0, \"#f0f921\"]], \"sequentialminus\": [[0.0, \"#0d0887\"], [0.1111111111111111, \"#46039f\"], [0.2222222222222222, \"#7201a8\"], [0.3333333333333333, \"#9c179e\"], [0.4444444444444444, \"#bd3786\"], [0.5555555555555556, \"#d8576b\"], [0.6666666666666666, \"#ed7953\"], [0.7777777777777778, \"#fb9f3a\"], [0.8888888888888888, \"#fdca26\"], [1.0, \"#f0f921\"]]}, \"colorway\": [\"#636efa\", \"#EF553B\", \"#00cc96\", \"#ab63fa\", \"#FFA15A\", \"#19d3f3\", \"#FF6692\", \"#B6E880\", \"#FF97FF\", \"#FECB52\"], \"font\": {\"color\": \"#2a3f5f\"}, \"geo\": {\"bgcolor\": \"white\", \"lakecolor\": \"white\", \"landcolor\": \"#E5ECF6\", \"showlakes\": true, \"showland\": true, \"subunitcolor\": \"white\"}, \"hoverlabel\": {\"align\": \"left\"}, \"hovermode\": \"closest\", \"mapbox\": {\"style\": \"light\"}, \"paper_bgcolor\": \"white\", \"plot_bgcolor\": \"#E5ECF6\", \"polar\": {\"angularaxis\": {\"gridcolor\": \"white\", \"linecolor\": \"white\", \"ticks\": \"\"}, \"bgcolor\": \"#E5ECF6\", \"radialaxis\": {\"gridcolor\": \"white\", \"linecolor\": \"white\", \"ticks\": \"\"}}, \"scene\": {\"xaxis\": {\"backgroundcolor\": \"#E5ECF6\", \"gridcolor\": \"white\", \"gridwidth\": 2, \"linecolor\": \"white\", \"showbackground\": true, \"ticks\": \"\", \"zerolinecolor\": \"white\"}, \"yaxis\": {\"backgroundcolor\": \"#E5ECF6\", \"gridcolor\": \"white\", \"gridwidth\": 2, \"linecolor\": \"white\", \"showbackground\": true, \"ticks\": \"\", \"zerolinecolor\": \"white\"}, \"zaxis\": {\"backgroundcolor\": \"#E5ECF6\", \"gridcolor\": \"white\", \"gridwidth\": 2, \"linecolor\": \"white\", \"showbackground\": true, \"ticks\": \"\", \"zerolinecolor\": \"white\"}}, \"shapedefaults\": {\"line\": {\"color\": \"#2a3f5f\"}}, \"ternary\": {\"aaxis\": {\"gridcolor\": \"white\", \"linecolor\": \"white\", \"ticks\": \"\"}, \"baxis\": {\"gridcolor\": \"white\", \"linecolor\": \"white\", \"ticks\": \"\"}, \"bgcolor\": \"#E5ECF6\", \"caxis\": {\"gridcolor\": \"white\", \"linecolor\": \"white\", \"ticks\": \"\"}}, \"title\": {\"x\": 0.05}, \"xaxis\": {\"automargin\": true, \"gridcolor\": \"white\", \"linecolor\": \"white\", \"ticks\": \"\", \"title\": {\"standoff\": 15}, \"zerolinecolor\": \"white\", \"zerolinewidth\": 2}, \"yaxis\": {\"automargin\": true, \"gridcolor\": \"white\", \"linecolor\": \"white\", \"ticks\": \"\", \"title\": {\"standoff\": 15}, \"zerolinecolor\": \"white\", \"zerolinewidth\": 2}}}, \"title\": {\"text\": \"Mean entropies of Schubert, DCML and Snyder corpora\"}, \"yaxis\": {\"title\": {\"text\": \"Mean entropy (95% CI)\"}}},\n",
       "                        {\"responsive\": true}\n",
       "                    ).then(function(){\n",
       "                            \n",
       "var gd = document.getElementById('ebbc1e96-4393-4124-8de9-d8d1ec9a2d3f');\n",
       "var x = new MutationObserver(function (mutations, observer) {{\n",
       "        var display = window.getComputedStyle(gd).display;\n",
       "        if (!display || display === 'none') {{\n",
       "            console.log([gd, 'removed!']);\n",
       "            Plotly.purge(gd);\n",
       "            observer.disconnect();\n",
       "        }}\n",
       "}});\n",
       "\n",
       "// Listen for the removal of the full notebook cells\n",
       "var notebookContainer = gd.closest('#notebook-container');\n",
       "if (notebookContainer) {{\n",
       "    x.observe(notebookContainer, {childList: true});\n",
       "}}\n",
       "\n",
       "// Listen for the clearing of the current output cell\n",
       "var outputEl = gd.closest('.output');\n",
       "if (outputEl) {{\n",
       "    x.observe(outputEl, {childList: true});\n",
       "}}\n",
       "\n",
       "                        })\n",
       "                };\n",
       "                });\n",
       "            </script>\n",
       "        </div>"
      ]
     },
     "metadata": {},
     "output_type": "display_data"
    }
   ],
   "source": [
    "entropy_comparisons = pd.read_csv(os.path.join(data_tsv, 'entropy_comparisons.tsv'), sep='\\t', index_col=0)\n",
    "fig = go.Figure(data=go.Scatter(\n",
    "        mode = 'markers',\n",
    "        x = entropy_comparisons.index.tolist(),\n",
    "        y = entropy_comparisons['mean'].tolist(),\n",
    "        error_y=dict(\n",
    "            type='data', # value of error bar given in data coordinates\n",
    "            array=entropy_comparisons['95% CI: +-'].tolist(),\n",
    "            visible = True),\n",
    "    ))\n",
    "\n",
    "fig.add_shape(\n",
    "        # Line Horizontal\n",
    "        go.layout.Shape(\n",
    "            type=\"line\",\n",
    "            x0 = 0,\n",
    "            x1 = len(entropy_comparisons),\n",
    "            y0=entropy_comparisons.loc[\"Schubert (1797-1828): Dances\"]['mean'],\n",
    "            y1=entropy_comparisons.loc[\"Schubert (1797-1828): Dances\"]['mean'],\n",
    "            line=dict(\n",
    "                color=\"red\",\n",
    "                width=1,\n",
    "                dash=\"dot\",\n",
    "            ),\n",
    "    ))\n",
    "\n",
    "fig.update_layout(\n",
    "    title=\"Mean entropies of Schubert, DCML and Snyder corpora\",\n",
    "    yaxis_title=\"Mean entropy (95% CI)\",\n",
    "    height = 800)\n",
    "fig.show()"
   ]
  },
  {
   "cell_type": "markdown",
   "metadata": {},
   "source": [
    "_Fig. Mean entropies with 95% confidence intervals from the Schubert Dances corpus, the DCML corpus and tthe corpus analyzed in Snyder, J. L. (1990). Entropy as a Measure of Musical Style: The Influence of A Priori Assumptions, Music Theory Spectrum 12(1)._\n",
    "\n",
    "Among the various dance types, both Trios and Ländler have a significantly lower entropy on average than Deutscher, Walzer and Menuetts. In terms of pitch content, they are simpler than the other dance types.\n",
    "\n",
    "What about the rhythm? The following plots show the entropy of the distribution of rhythmic durations and of rhythmic onsets: the higher the corresponding entropy, the more varied the notated and perceived rhythmic texture, respectively. In general, the “German” dances exhibit the tendency for a simpler texture than the “French” ones, maybe reflecting the stronger link to their folk origin."
   ]
  },
  {
   "cell_type": "code",
   "execution_count": 238,
   "metadata": {},
   "outputs": [
    {
     "data": {
      "application/vnd.plotly.v1+json": {
       "config": {
        "plotlyServerURL": "https://plot.ly"
       },
       "data": [
        {
         "line": {
          "color": "red"
         },
         "name": "walzer",
         "type": "box",
         "y": [
          0.625986490341442,
          0.6200115233907694,
          0.6558588959277599,
          0.663716644588264,
          0.6101203910214466,
          0.613891142408127,
          0.5537498547085771,
          0.6225679301054827,
          0.6324198437537544,
          0.6303164783199772,
          0.6052966244249157,
          0.6131580979942916,
          0.5724601483491841,
          0.6028345002568635,
          0.5656131063436413,
          0.5998059978666764,
          0.589708991887797,
          0.5746228578021413,
          0.609245727116286,
          0.5970927095381293,
          0.5888111547914975,
          0.7174132900448499,
          0.6151352586874872,
          0.6315425186534005,
          0.5918649987366343,
          0.5851588875245205,
          0.5714229051906133,
          0.6058035124257621,
          0.5960151521019084,
          0.6074982640803642,
          0.6149020632166861,
          0.6191962797004192,
          0.6107016125424298,
          0.7217651270080313,
          0.5978972973087885,
          0.593973314322511,
          0.5559266418332841,
          0.5899062226739107,
          0.6118517403648843,
          0.5682787191512921,
          0.5495101343225542,
          0.5644912091573033,
          0.5756219220190056,
          0.5586229893413321,
          0.5618859737989709,
          0.7255055607728721,
          0.6005761859334954,
          0.6260543656830391,
          0.5514844029060165,
          0.5160815547075982,
          0.5816838009259282,
          0.59405519064369,
          0.5751474054154293,
          0.6615168381443787,
          0.5547228141526287,
          0.5264420227077625,
          0.5335457383516995,
          0.5462044730176111,
          0.5916365534765294,
          0.5311454371988097,
          0.6462619367296201,
          0.5785264533602535,
          0.6295060598816948,
          0.6653323656025407,
          0.6432799362494289,
          0.582631686467581,
          0.6241822589779118,
          0.6455934189605972,
          0.6963194733809228,
          0.5869905232286513,
          0.6641985689615735,
          0.5574066932225413,
          0.5918082169974342,
          0.5824247680273634,
          0.5527437739190116,
          0.6232819583398015,
          0.6200544112651019,
          0.5953014583518199,
          0.5604681945863184,
          0.6133029588232422,
          0.6158801802977616,
          0.6397269245111356,
          0.6309240115554351,
          0.5946991530508593,
          0.6686255885576375,
          0.5998242955711606,
          0.5419325748122793,
          0.5655067312629021,
          0.5944790805070822,
          0.5909323132510841,
          0.5863883953525734,
          0.6144337285219444,
          0.593729126681492,
          0.5617826460294121,
          0.6189528599726911,
          0.5433673039847025,
          0.6091487683465509,
          0.5987057041177584,
          0.5778630940036578,
          0.6167373593378208,
          0.5256936000928889,
          0.5964904330703966,
          0.5527714989983983,
          0.5950698236074965,
          0.6052304866087428,
          0.5169199005323037,
          0.6029605497105631,
          0.5791882137322093,
          0.6107586810248066,
          0.6061284458438152,
          0.5955390874270547,
          0.5964652377459032,
          0.6127718477145531,
          0.6143516313520789,
          0.5911172966479947,
          0.6204240387662628,
          0.5884948005703147,
          0.5070496290629579,
          0.6173663400021635,
          0.6382163408686877,
          0.6612560129776686,
          0.5791052711140385,
          0.5657430486643785,
          0.5091611397235868,
          0.6028008247513655,
          0.5459299333342631,
          0.5945895880533303,
          0.6138653089040677,
          0.5566841797489065,
          0.5940234989064386,
          0.5752690176502717,
          0.5887392397598631
         ]
        },
        {
         "line": {
          "color": "orange"
         },
         "name": "deutscher",
         "type": "box",
         "y": [
          0.5885170903363593,
          0.6490597344644209,
          0.5767631332342366,
          0.6281514157473894,
          0.5924337583333921,
          0.6532019489057312,
          0.5454300195393215,
          0.6245827166147996,
          0.6200894426674001,
          0.6002420440911634,
          0.6034918440736141,
          0.5529309765135589,
          0.5559929090293225,
          0.5282674873876071,
          0.5889338042952361,
          0.6087322323958237,
          0.6029402140319113,
          0.5325520808790322,
          0.6031606517819643,
          0.5990898232523554,
          0.5591865460660305,
          0.5428331896845956,
          0.5671434761727501,
          0.596525418514394,
          0.6483306751406512,
          0.7173846694345092,
          0.5869334078699827,
          0.6249306286576125,
          0.5757295196526536,
          0.6667981305800951,
          0.5173743337971445,
          0.551988990783519,
          0.5958434812493061,
          0.5770299677872716,
          0.6420791038136319,
          0.5501258488675144,
          0.5405711537828349,
          0.5984020989322731,
          0.6706231622782316,
          0.5854607876671141,
          0.5690142490958344,
          0.6275360227885073,
          0.6759690752577239,
          0.5858732951381519,
          0.6577595611687642,
          0.6504264526187136,
          0.6466537500187284,
          0.6465597666880815,
          0.6112391959409651,
          0.614623675618628,
          0.609033701543084,
          0.6024490127792939,
          0.6003738943210831,
          0.5660303474593007,
          0.5637183670610697,
          0.5654276726496942,
          0.5273443676792895,
          0.5237230061495107,
          0.5332212160317803,
          0.5898236016585949,
          0.6461036643091084,
          0.5882275831282092,
          0.5654509938234611,
          0.5589994275398784,
          0.58552986752616,
          0.5602452172065011,
          0.551825334630313,
          0.5871711104320283,
          0.6153791492304032,
          0.571079803916355,
          0.5571353507830772
         ]
        },
        {
         "line": {
          "color": "yellow"
         },
         "name": "ländler",
         "type": "box",
         "y": [
          0.5281633796084424,
          0.5487590204664379,
          0.5269292836766147,
          0.5634290099118389,
          0.5620609346219599,
          0.5266932058205441,
          0.5419430214629193,
          0.5876863612698269,
          0.5850723501996326,
          0.5472640117050509,
          0.5394524336800763,
          0.5544866851851148,
          0.546701353066483,
          0.5607367106018829,
          0.5312243235681025,
          0.5146169998608316,
          0.5271685399570167,
          0.5965654535695897,
          0.6214286027447911,
          0.5935273503810559,
          0.5834100658475276,
          0.6490712846994112,
          0.5941455240367333,
          0.5674347107227835,
          0.5993419110242415,
          0.6450618352550607,
          0.5470511227084055,
          0.5466385968355736,
          0.5894526471193297,
          0.6387013107384006,
          0.6153677616155555,
          0.5592002365073881,
          0.5868129049205245,
          0.6131033579590123,
          0.5124219664658437,
          0.5334495852059584,
          0.5577314387292611,
          0.5324574615060436,
          0.5704282547165198,
          0.5580152553644444,
          0.5562009374727438,
          0.5218467653114769,
          0.5476232131725812,
          0.5839599314405637,
          0.5967465782046212,
          0.4960562513822301,
          0.5625508061914691,
          0.5723117818901092,
          0.5838890923670691,
          0.5598236697178446,
          0.6095049234393947,
          0.5427859900305417,
          0.5805278999617539,
          0.6109874540311289,
          0.5341125354726663,
          0.6529317044724487,
          0.5596302789987817,
          0.6508476629940432,
          0.5357941993766553,
          0.5932771022833528,
          0.5449060981955751,
          0.5791757855899591,
          0.6072379031359266,
          0.6455532514743607,
          0.5541095728573033,
          0.5531068714943943,
          0.6824374387141516,
          0.6771796859133876,
          0.6575372636589709,
          0.633653034404937,
          0.6385630938826274,
          0.6140666653800771,
          0.639856560446245,
          0.6954091647345162,
          0.6294601969433345,
          0.7108035953037825,
          0.5552984160380107,
          0.5519093058512694
         ]
        },
        {
         "line": {
          "color": "blue"
         },
         "name": "menuett",
         "type": "box",
         "y": [
          0.456823384283,
          0.5644447611743146,
          0.5889113478609509,
          0.5989364258894511,
          0.5457207730623015,
          0.6011043675639397,
          0.6197753656702228,
          0.6020633983023971,
          0.6344435114480484,
          0.6364816509453874,
          0.5720625158355331,
          0.6563755150001229,
          0.6418861319095779,
          0.6099272369621938,
          0.5931604566816778,
          0.6625021104165061,
          0.6299079834241054,
          0.5930590924587879,
          0.6392880844783214,
          0.5745852390027695,
          0.6019152171152327,
          0.6227288221075182,
          0.6180145457802347,
          0.6046653218208565,
          0.5919416339666753,
          0.5642234346841224,
          0.5577875400441511,
          0.5517845904271031,
          0.6514535181680474
         ]
        },
        {
         "line": {
          "color": "lightblue"
         },
         "name": "trio",
         "type": "box",
         "y": [
          0.5784748238933831,
          0.6127004126509702,
          0.5716105417284488,
          0.5757152007497746,
          0.5428986262283768,
          0.5565708300236795,
          0.5563276459826759,
          0.4871861305657593,
          0.5592304431537539,
          0.5722821648551364,
          0.6026690637042824,
          0.5986406300322104,
          0.6252887399212735,
          0.5764687360659816,
          0.6119932071817394,
          0.5765966562133757,
          0.5980727831840748,
          0.6014288968196622,
          0.4891745409635539,
          0.5263217325148486,
          0.5707961490613974,
          0.5734832777898561,
          0.5384103562998257,
          0.6130644254930756,
          0.5778132333819477,
          0.5630635993345623,
          0.6235182085335772,
          0.5977171313425279,
          0.5819645526600999,
          0.5956251558789046,
          0.5270800899061289,
          0.5805097837599307,
          0.5173184710944112,
          0.52183310729494,
          0.6200912608337922,
          0.5668268524350712,
          0.5751429325381666,
          0.6056010090428516,
          0.6051694718161952,
          0.5629772447207987,
          0.5989234090048886,
          0.5881602690450075,
          0.5670430815857559,
          0.6159975784433172,
          0.5428205295482822,
          0.5840556581816625,
          0.5937039798943279,
          0.5988555748935467
         ]
        },
        {
         "line": {
          "color": "red"
         },
         "name": "walzer",
         "type": "box",
         "y": [
          0.7952373839785893,
          1.5226134525752102,
          0.7163510827602839,
          0.9558414160146704,
          0.7238773946238383,
          1.2490527460461534,
          0.8354505335997809,
          0.8883350364985959,
          1.2262041877885663,
          1.073249788496064,
          0.4823597699439359,
          1.2234930917757676,
          0.3073047542355127,
          0.9557287824597996,
          1.518456263568837,
          0.6837247431413755,
          1.0538728931566044,
          0.9892819960357004,
          0.4286809540522741,
          1.128610005067724,
          1.002416114670564,
          1.1978843165002246,
          0.9708499071494322,
          0.7633573846858741,
          0.4559998686106026,
          1.0600520055355154,
          0.9373787585401926,
          0.8783096026780475,
          0.9705850845621014,
          0.8855251222525296,
          0.95475525789045,
          0.5973581570584374,
          1.0582703397071385,
          0.7522816050387019,
          0.9500028724426168,
          1.1203818231802158,
          0.944413373492764,
          0.7253474162343481,
          0.7430252531153261,
          0.8552676701293926,
          0.7318585469607684,
          0.8966718209661432,
          0.8257475458821535,
          0.8457745139765002,
          0.6971743678100852,
          0.9149202292097544,
          1.1322197790526276,
          1.0433258152683669,
          1.147394865548641,
          1.074729867939712,
          0.871255214234865,
          0.7000612736243526,
          0.8474747840419643,
          0.7762620538018642,
          0.8774670358564607,
          0.7544677858594562,
          0.7897451749509801,
          0.955249712155524,
          0.5795157198065708,
          1.12124386129397,
          0.9876697111849738,
          0.5620360792641151,
          0.8760117397424911,
          1.0159493929258585,
          0.9154760916049364,
          0.8579329318830079,
          0.9280400956203734,
          1.1915403423001845,
          0.7407807149269799,
          0.965971627858744,
          1.0216332064053912,
          0.9415565541445182,
          1.1453026230933303,
          0.7263229581577116,
          0.7794465394711051,
          0.7786213882178575,
          0.9433741945845888,
          0.7403979465934735,
          0.966345315762914,
          0.8077809852288241,
          0.9048656181471356,
          0.7522420912400929,
          1.0399180918185384,
          0.6974877363793317,
          0.8816749782656094,
          0.9374331200741988,
          0.8965667947623821,
          0.7606241147288159,
          1.1650746226465458,
          0.8602711020598464,
          0.7442535759931102,
          0.8190984115437681,
          0.9461393208533572,
          0.8347139092230833,
          0.7758017746639464,
          0.7549875391373424,
          0.7585458619691214,
          1.2963801443817635,
          0.7630039841797188,
          0.8118680391318464,
          0.9655020862419884,
          0.7062956292392523,
          1.027148905126775,
          0.6594122912306877,
          0.773945452047419,
          0.8186155132691125,
          0.8778593411031268,
          0.7734705791817512,
          0.7075643792174751,
          0.7790200356875506,
          0.9445921091872324,
          0.6011139479814778,
          0.519805072553745,
          0.9129297873163876,
          0.7816858421282694,
          0.9256378389134922,
          0.8418013454258921,
          0.7513257091403598,
          1.2178627507484,
          1.0316804647835445,
          0.7388357256735172,
          0.8949065946888345,
          1.0036448390602748,
          0.7395914029328547,
          1.2863189698471422,
          0.8888938041591382,
          0.7705607996470306,
          0.6918121233157231,
          0.6206784924138603,
          0.9744259998659504,
          0.9826273962755454,
          0.9129270513223507
         ]
        },
        {
         "line": {
          "color": "orange"
         },
         "name": "deutscher",
         "type": "box",
         "y": [
          1.2543963138352223,
          1.3669858077082662,
          1.2166753530579026,
          1.0464469220647552,
          1.145855998964355,
          1.0066583165011818,
          1.2587788252874128,
          1.1672969008744003,
          1.0191681998850748,
          1.3071031843894276,
          1.0983121484866036,
          1.0344154198556228,
          0.17884491271684755,
          0.9128014461416072,
          0.9479507416690768,
          0.8612841318669155,
          1.0667822464605023,
          1.0028365035350515,
          0.9406262911887848,
          1.1826246820658362,
          0.9048885292252408,
          1.1789476545884994,
          0.8520399246201771,
          1.1679994346507596,
          1.4377510045118616,
          0.7283411330067081,
          1.1545857834108124,
          1.2924455314326997,
          0.8293428580732151,
          0.7503384438580072,
          1.4174887207035276,
          0.978074611372608,
          1.3207664556209615,
          0.982174148077268,
          0.8072554210386483,
          0.9593697549497544,
          1.251433868270034,
          0.8084923084892138,
          0.7020940662014933,
          0.8575298992249442,
          1.1450649684964924,
          1.1850734481410767,
          0.8309509825472949,
          0.9552128382875112,
          1.1141767241797857,
          1.0770797635291045,
          1.142431864987406,
          0.999547991675068,
          0.5395538086739511,
          1.0372820819604232,
          0.964918396606488,
          1.493075436389271,
          0.6415047667885176,
          0.8346222987977964,
          0.846392645797155,
          0.7081646945335953,
          0.7361678357412983,
          0.8575863155823871,
          0.6343494403717377,
          0.974952698825108,
          0.7374483106712131,
          1.1538923931578466,
          0.8246489994789684,
          0.6930940390085429,
          0.5521884001610994,
          1.0577041723797145,
          1.5789231412789524,
          1.1861857408561676,
          0.9396960201642914,
          1.0026458510815734,
          1.0316583207043448
         ]
        },
        {
         "line": {
          "color": "yellow"
         },
         "name": "ländler",
         "type": "box",
         "y": [
          0.708931928691073,
          0.7999259113659832,
          0.8431493885116691,
          0.9054509810816064,
          0.8969250645131869,
          1.2721628833648984,
          0.7390634242899123,
          0.9893470051387874,
          1.309679819351316,
          1.128916192396887,
          0.7776007618097179,
          1.3135474033678614,
          0.7161787096144561,
          0.6852584198245772,
          0.7836229053903379,
          0.6155636658840107,
          0.6997973341585112,
          0.6587439430085317,
          1.292246546838003,
          0.8653823640063139,
          1.0040636966066208,
          0.5665166006766944,
          0.8545688630523005,
          0.7794962189740187,
          0.7999644719364812,
          0.9237844466126754,
          1.047263201468314,
          0.6803642347270429,
          1.1046974352744807,
          0.8331515165691142,
          0.9823702005036814,
          1.2999867435807642,
          1.072636858077704,
          0.9526942150108016,
          0.9717241175993226,
          0.9752915114038488,
          0.982659189536207,
          0.8920458431776351,
          0.968460011689422,
          1.1797958271084676,
          0.9003786701734845,
          0.9923365294803558,
          0.8838200416504054,
          1.0772133770941754,
          0.9522409481622044,
          0.9797859255747688,
          1.3604813995267506,
          1.1433638129661443,
          0.7790680810312254,
          0.8247921588090574,
          0.8324861734036285,
          0.8922436791057368,
          0.3361487680534997,
          0.8686037425616906,
          0.7660030713823232,
          0.5738925358825729,
          0.8870568018040783,
          0.7561786829007805,
          0.8576660369232779,
          1.0262557342756842,
          0.8761615432248475,
          0.683675788227053,
          0.7888215258578424,
          1.0091437743576397,
          1.0451415190032471,
          0.7652812684102286,
          0.8901274692985403,
          1.2088722720157206,
          1.1755327162860532,
          1.0313683303524883,
          1.199469318602584,
          1.1222713164422222,
          0.6649298438390172,
          0.8063218199124335,
          0.667328056379872,
          1.3511902913628722,
          1.1397094096354574,
          1.0026199548152928
         ]
        },
        {
         "line": {
          "color": "blue"
         },
         "name": "menuett",
         "type": "box",
         "y": [
          1.5475575606338314,
          1.4157198135791562,
          1.5088214361917092,
          1.0982771837948573,
          1.4018921597382714,
          1.350810151508664,
          1.3414922571649543,
          1.3722703741583941,
          1.2220741049937098,
          1.575064647223934,
          1.5032214246841735,
          1.2510290386784455,
          1.4353766615107204,
          1.4822987345469234,
          1.3902259359439235,
          1.3129172507081586,
          1.0976957621332863,
          1.3604509350705367,
          1.4467224738780733,
          1.1782145787191387,
          1.2767049215736932,
          1.356809329040149,
          1.0527029849457656,
          1.2442641012452391,
          1.2458873869659115,
          1.04123743117063,
          1.2920647149762474,
          1.4412786125809365,
          1.1819790130582046
         ]
        },
        {
         "line": {
          "color": "lightblue"
         },
         "name": "trio",
         "type": "box",
         "y": [
          1.1868397680850762,
          0.9470974741477616,
          1.3369495760163836,
          1.42792811391928,
          1.393554840345788,
          1.4195968086610722,
          1.3288990804200804,
          1.26854168375922,
          0.6273093755604916,
          1.5212768298939188,
          0.8182847452182804,
          1.1817515748109344,
          1.5217751777507773,
          1.1968665258852975,
          1.0231278514857112,
          1.2514385729367823,
          0.9650101749777016,
          1.2296408605879086,
          1.1022938503639117,
          0.9564542101726422,
          1.2156032721289267,
          0.9837973307980826,
          1.3890832829186106,
          1.6209743554775409,
          0.692598858764456,
          1.0803029474049035,
          0.9562252120112221,
          0.888529325663022,
          0.4804713537474018,
          0.8697397368327696,
          0.5783365425529,
          0.7173558966213718,
          1.2740473585616938,
          0.9595955369750528,
          1.0398022368425726,
          1.1571451104285733,
          0.8206297046715259,
          0.5117995871804877,
          0.8942970264444162,
          1.3991998705510291,
          1.2529443086632626,
          0.9590461408374802,
          1.4769138982038703,
          1.366724430538102,
          1.1880265847485372,
          1.4432152126797488,
          0.691202462290162,
          1.1916289549564325
         ]
        },
        {
         "line": {
          "color": "red"
         },
         "name": "walzer",
         "type": "box",
         "y": [
          1.3299436073166016,
          1.3848160084239518,
          1.3667462415173417,
          1.5593972760306054,
          1.5576190344594656,
          1.5325273326475914,
          1.2697137297680596,
          1.5936236908483703,
          1.4108045445870332,
          1.0582773128389884,
          1.0945403237220015,
          1.8175488429484048,
          1.2828491746696242,
          1.5048007545677846,
          1.5961403627688722,
          1.2156836115405902,
          1.5850731139624603,
          1.3413438426775564,
          1.2421677632245611,
          1.4747145615138726,
          1.368175765673438,
          1.5281219714993717,
          1.5305243319632793,
          1.412052627409738,
          1.3468022086649016,
          1.5612230448984872,
          1.3652484019167257,
          1.5644007935266848,
          1.52921401219884,
          1.6024098799620765,
          1.5894331528231516,
          1.0700318375575248,
          1.3707950818205847,
          1.5986782575830332,
          1.5660248872419655,
          1.3811491764064279,
          1.2529084415316185,
          1.3960719849938228,
          1.3848279770987997,
          1.6901151564943018,
          1.3972200511489992,
          1.5350498300344817,
          1.6955087913786813,
          1.4361134366416342,
          1.1709121288218538,
          1.597523503893248,
          1.3938449264063912,
          1.4395263540184504,
          1.420503488586368,
          1.3709784692648592,
          1.4678482091534306,
          1.4225609646019997,
          1.528361977876963,
          1.5454238698927882,
          1.4143030356036463,
          1.6437293360507534,
          1.4348152362541349,
          1.4227449372783665,
          1.3731734759872465,
          1.490700183544003,
          1.4244039487243898,
          1.365087381830258,
          1.413586645903946,
          1.4707140774168903,
          1.4402692565174664,
          1.4457726426865902,
          1.5635637057000829,
          1.0536952933822277,
          1.277507009923396,
          1.5426334032804303,
          1.6119504230897612,
          1.6878058321566969,
          1.7027997597397946,
          1.5065427093500927,
          1.407354669307541,
          1.60511649467415,
          1.5845477276606432,
          1.5775307918008954,
          1.6637795486223872,
          1.5907655917492909,
          1.3355590225008591,
          1.296355293648464,
          1.612962199717401,
          1.4772354737409716,
          1.5252234754769858,
          1.4807009358858167,
          1.5260083542686482,
          1.5698361559700773,
          1.4953236915386456,
          1.3412782450285627,
          1.5065195247940175,
          1.5906457098227431,
          1.5222654339805757,
          1.3671833566302418,
          1.5143870825559371,
          1.2562348943568602,
          1.4026924889975512,
          1.821930508774528,
          1.4988513097909149,
          1.589164901800751,
          1.5062322114465867,
          1.4806528543057542,
          1.596783145180105,
          0.8989529941249754,
          1.4500549110278251,
          1.4373484174375817,
          1.4806139063871735,
          1.5639902485477322,
          1.2721555675493696,
          1.486363651531873,
          1.3617333701458862,
          1.4373339449466327,
          1.2854392587650456,
          1.5734357378490371,
          1.3101368265095843,
          1.4393421701137001,
          1.4312110830631433,
          1.4792674442972509,
          1.3882789231051451,
          1.5480247906523137,
          1.460178618048673,
          1.4598353248126557,
          1.6612656695672479,
          1.2338031149624848,
          1.4450210424315026,
          1.3951783031447176,
          1.5057058303710429,
          1.4550263239616323,
          1.445574931986818,
          1.3480829934458267,
          1.5897218885263134,
          1.3211586751864908
         ]
        },
        {
         "line": {
          "color": "orange"
         },
         "name": "deutscher",
         "type": "box",
         "y": [
          1.5800772739878797,
          1.3204145616850669,
          1.5330452620270647,
          1.5036755497411285,
          1.5036936750065986,
          1.581355815421273,
          1.6140430784383564,
          1.5347803591855491,
          1.4611627285529705,
          1.5888706777769226,
          1.5221870167767728,
          1.577679434014284,
          1.0960886237238197,
          1.3309568785853545,
          1.4517981166538263,
          1.2335687277722391,
          1.361880886522023,
          1.4283080419997087,
          1.3552290364800723,
          1.6791315860566112,
          1.4085100571990694,
          1.5041613161461251,
          1.4122644023987787,
          1.4704484222757226,
          1.655534000525501,
          1.6900614658034143,
          1.4938800844757731,
          1.6915385847502735,
          1.685083403477295,
          1.2744544962593116,
          1.5280294541699793,
          1.5757690928482857,
          1.94639761254301,
          1.6434181097058786,
          1.398442377759499,
          1.2823799108095644,
          1.4785290834465377,
          1.39172339091032,
          1.3187139902102727,
          1.6242730233588043,
          1.4676503848525104,
          1.3417192447659785,
          1.4932916541914745,
          1.2779311811608305,
          1.2333942769498871,
          1.5913599561183671,
          1.5547327545295475,
          1.478898473484476,
          1.094083575150342,
          1.294266358034217,
          1.4394005482754109,
          1.563958502788665,
          1.695966648760923,
          1.3569254116624845,
          1.2348984577664015,
          1.2782601593745004,
          1.3545279826925172,
          1.4070185743600312,
          1.3811805411295093,
          1.2691101350864995,
          1.6021738393374216,
          1.5166732141222663,
          1.611220542673321,
          1.6116564040591348,
          1.460915844589972,
          1.6824969446606282,
          1.6946053153282292,
          1.1379477443920551,
          1.4659528568804847,
          1.4332701698997157,
          1.4687049391786748
         ]
        },
        {
         "line": {
          "color": "yellow"
         },
         "name": "ländler",
         "type": "box",
         "y": [
          1.532631776072252,
          1.3061844479217006,
          1.4881568851374505,
          1.3448323205204131,
          1.5403797263966412,
          1.8027201442824163,
          1.3876597570047098,
          1.739413883806629,
          1.409890780242028,
          1.6387825857084874,
          1.433901845665548,
          1.915020289033173,
          1.5589073621392782,
          1.5341165960162182,
          1.3361885111378666,
          1.3857429212541137,
          1.4920109412445488,
          1.480353035628983,
          1.4213401497818463,
          0.7576250434842141,
          1.5778068584720053,
          1.2911098446742597,
          1.4299986334658799,
          1.4664733598136566,
          1.7722784260912825,
          1.4173504048209955,
          1.4716497006663374,
          1.3399979859767641,
          1.4647180864536629,
          1.4600606437389418,
          1.3354475522351188,
          1.4539078575353959,
          1.592548427302877,
          1.4544794195685864,
          1.6065658773120284,
          1.6175834884129998,
          1.6007338961776765,
          1.5565597502479631,
          1.6237967716800317,
          1.5715980193024346,
          1.4919717837076094,
          1.3979753338057908,
          1.5481958139190246,
          1.6406530002179183,
          1.3390450780365473,
          1.3869558720945725,
          1.5891919669290784,
          1.4280935225221083,
          1.6995196557841092,
          1.6064213647378809,
          1.3682188743609929,
          1.5088171088453508,
          1.0926343115457935,
          1.5253096891119913,
          1.6962643751454425,
          1.3068108148100068,
          1.4692523258762549,
          1.6165375933180255,
          1.5604042483923408,
          1.2065135728644498,
          1.5498567949826487,
          1.5056683551202288,
          1.61086676063463,
          1.6070302192685009,
          1.4081328402198958,
          1.400913019687992,
          1.2345485925131967,
          1.5840881765790358,
          1.6046234066902918,
          0.9053462565156148,
          1.3869374172449944,
          1.2482333533024084,
          1.3060659550585867,
          1.641234849838454,
          1.4224840311958618,
          1.3643670858643977,
          1.6444998734729563,
          1.5871764146822882
         ]
        },
        {
         "line": {
          "color": "blue"
         },
         "name": "menuett",
         "type": "box",
         "y": [
          1.6932019428976903,
          1.5214294381876137,
          1.7635928514407586,
          1.9447857574071716,
          1.4704940055635758,
          2.0267343445553943,
          1.6445734896957132,
          1.951564058275847,
          1.5728229762924697,
          1.7593080941740888,
          1.6357787900930436,
          1.7903110739047192,
          1.5234425207901496,
          1.9958519982277352,
          2.0895222694799083,
          2.0728488527439497,
          1.85823512861898,
          1.6827734618706929,
          1.9446488212223647,
          1.762743053100219,
          1.8794523747678369,
          1.7354976079072713,
          0.8172971490427886,
          1.7326065850913153,
          1.5718252892047655,
          1.6566145456697805,
          1.813237912025132,
          1.8540739639375512,
          1.5061000995790004
         ]
        },
        {
         "line": {
          "color": "lightblue"
         },
         "name": "trio",
         "type": "box",
         "y": [
          2.0118604654874668,
          2.147050134653719,
          1.7534000203591251,
          1.6193036250130373,
          1.896079249153539,
          1.5164759996910144,
          1.5571670694468451,
          2.022451131134292,
          1.8997491623338896,
          1.9150518457733103,
          1.5572344172862933,
          1.8935784326591487,
          2.0816574700255908,
          2.378482636359573,
          1.8718966255266756,
          2.1089939983276045,
          2.3997792124527653,
          1.9039635832739956,
          1.9255156817925565,
          2.2014411904432833,
          1.8016559693036782,
          1.8474869297590493,
          1.988122953878828,
          1.7139835651279545,
          1.5428400319315014,
          0.9229421951282036,
          1.487824928004841,
          1.4121703143516593,
          1.2840023631641733,
          1.0502146702177628,
          1.0712340029130267,
          1.2338283989668302,
          1.7650886704999391,
          0.9512720063926818,
          1.5578712854048118,
          1.4469575781841515,
          1.6591171580734014,
          1.2700397309009719,
          1.720815214608692,
          1.8532598402784657,
          1.4526654084533568,
          1.7803434918551957,
          1.863007258628126,
          1.8700095727135309,
          2.0957093911098803,
          1.8228967627436727,
          1.572368010148969,
          1.7729788700582811
         ]
        }
       ],
       "layout": {
        "template": {
         "data": {
          "bar": [
           {
            "error_x": {
             "color": "#2a3f5f"
            },
            "error_y": {
             "color": "#2a3f5f"
            },
            "marker": {
             "line": {
              "color": "#E5ECF6",
              "width": 0.5
             }
            },
            "type": "bar"
           }
          ],
          "barpolar": [
           {
            "marker": {
             "line": {
              "color": "#E5ECF6",
              "width": 0.5
             }
            },
            "type": "barpolar"
           }
          ],
          "carpet": [
           {
            "aaxis": {
             "endlinecolor": "#2a3f5f",
             "gridcolor": "white",
             "linecolor": "white",
             "minorgridcolor": "white",
             "startlinecolor": "#2a3f5f"
            },
            "baxis": {
             "endlinecolor": "#2a3f5f",
             "gridcolor": "white",
             "linecolor": "white",
             "minorgridcolor": "white",
             "startlinecolor": "#2a3f5f"
            },
            "type": "carpet"
           }
          ],
          "choropleth": [
           {
            "colorbar": {
             "outlinewidth": 0,
             "ticks": ""
            },
            "type": "choropleth"
           }
          ],
          "contour": [
           {
            "colorbar": {
             "outlinewidth": 0,
             "ticks": ""
            },
            "colorscale": [
             [
              0,
              "#0d0887"
             ],
             [
              0.1111111111111111,
              "#46039f"
             ],
             [
              0.2222222222222222,
              "#7201a8"
             ],
             [
              0.3333333333333333,
              "#9c179e"
             ],
             [
              0.4444444444444444,
              "#bd3786"
             ],
             [
              0.5555555555555556,
              "#d8576b"
             ],
             [
              0.6666666666666666,
              "#ed7953"
             ],
             [
              0.7777777777777778,
              "#fb9f3a"
             ],
             [
              0.8888888888888888,
              "#fdca26"
             ],
             [
              1,
              "#f0f921"
             ]
            ],
            "type": "contour"
           }
          ],
          "contourcarpet": [
           {
            "colorbar": {
             "outlinewidth": 0,
             "ticks": ""
            },
            "type": "contourcarpet"
           }
          ],
          "heatmap": [
           {
            "colorbar": {
             "outlinewidth": 0,
             "ticks": ""
            },
            "colorscale": [
             [
              0,
              "#0d0887"
             ],
             [
              0.1111111111111111,
              "#46039f"
             ],
             [
              0.2222222222222222,
              "#7201a8"
             ],
             [
              0.3333333333333333,
              "#9c179e"
             ],
             [
              0.4444444444444444,
              "#bd3786"
             ],
             [
              0.5555555555555556,
              "#d8576b"
             ],
             [
              0.6666666666666666,
              "#ed7953"
             ],
             [
              0.7777777777777778,
              "#fb9f3a"
             ],
             [
              0.8888888888888888,
              "#fdca26"
             ],
             [
              1,
              "#f0f921"
             ]
            ],
            "type": "heatmap"
           }
          ],
          "heatmapgl": [
           {
            "colorbar": {
             "outlinewidth": 0,
             "ticks": ""
            },
            "colorscale": [
             [
              0,
              "#0d0887"
             ],
             [
              0.1111111111111111,
              "#46039f"
             ],
             [
              0.2222222222222222,
              "#7201a8"
             ],
             [
              0.3333333333333333,
              "#9c179e"
             ],
             [
              0.4444444444444444,
              "#bd3786"
             ],
             [
              0.5555555555555556,
              "#d8576b"
             ],
             [
              0.6666666666666666,
              "#ed7953"
             ],
             [
              0.7777777777777778,
              "#fb9f3a"
             ],
             [
              0.8888888888888888,
              "#fdca26"
             ],
             [
              1,
              "#f0f921"
             ]
            ],
            "type": "heatmapgl"
           }
          ],
          "histogram": [
           {
            "marker": {
             "colorbar": {
              "outlinewidth": 0,
              "ticks": ""
             }
            },
            "type": "histogram"
           }
          ],
          "histogram2d": [
           {
            "colorbar": {
             "outlinewidth": 0,
             "ticks": ""
            },
            "colorscale": [
             [
              0,
              "#0d0887"
             ],
             [
              0.1111111111111111,
              "#46039f"
             ],
             [
              0.2222222222222222,
              "#7201a8"
             ],
             [
              0.3333333333333333,
              "#9c179e"
             ],
             [
              0.4444444444444444,
              "#bd3786"
             ],
             [
              0.5555555555555556,
              "#d8576b"
             ],
             [
              0.6666666666666666,
              "#ed7953"
             ],
             [
              0.7777777777777778,
              "#fb9f3a"
             ],
             [
              0.8888888888888888,
              "#fdca26"
             ],
             [
              1,
              "#f0f921"
             ]
            ],
            "type": "histogram2d"
           }
          ],
          "histogram2dcontour": [
           {
            "colorbar": {
             "outlinewidth": 0,
             "ticks": ""
            },
            "colorscale": [
             [
              0,
              "#0d0887"
             ],
             [
              0.1111111111111111,
              "#46039f"
             ],
             [
              0.2222222222222222,
              "#7201a8"
             ],
             [
              0.3333333333333333,
              "#9c179e"
             ],
             [
              0.4444444444444444,
              "#bd3786"
             ],
             [
              0.5555555555555556,
              "#d8576b"
             ],
             [
              0.6666666666666666,
              "#ed7953"
             ],
             [
              0.7777777777777778,
              "#fb9f3a"
             ],
             [
              0.8888888888888888,
              "#fdca26"
             ],
             [
              1,
              "#f0f921"
             ]
            ],
            "type": "histogram2dcontour"
           }
          ],
          "mesh3d": [
           {
            "colorbar": {
             "outlinewidth": 0,
             "ticks": ""
            },
            "type": "mesh3d"
           }
          ],
          "parcoords": [
           {
            "line": {
             "colorbar": {
              "outlinewidth": 0,
              "ticks": ""
             }
            },
            "type": "parcoords"
           }
          ],
          "pie": [
           {
            "automargin": true,
            "type": "pie"
           }
          ],
          "scatter": [
           {
            "marker": {
             "colorbar": {
              "outlinewidth": 0,
              "ticks": ""
             }
            },
            "type": "scatter"
           }
          ],
          "scatter3d": [
           {
            "line": {
             "colorbar": {
              "outlinewidth": 0,
              "ticks": ""
             }
            },
            "marker": {
             "colorbar": {
              "outlinewidth": 0,
              "ticks": ""
             }
            },
            "type": "scatter3d"
           }
          ],
          "scattercarpet": [
           {
            "marker": {
             "colorbar": {
              "outlinewidth": 0,
              "ticks": ""
             }
            },
            "type": "scattercarpet"
           }
          ],
          "scattergeo": [
           {
            "marker": {
             "colorbar": {
              "outlinewidth": 0,
              "ticks": ""
             }
            },
            "type": "scattergeo"
           }
          ],
          "scattergl": [
           {
            "marker": {
             "colorbar": {
              "outlinewidth": 0,
              "ticks": ""
             }
            },
            "type": "scattergl"
           }
          ],
          "scattermapbox": [
           {
            "marker": {
             "colorbar": {
              "outlinewidth": 0,
              "ticks": ""
             }
            },
            "type": "scattermapbox"
           }
          ],
          "scatterpolar": [
           {
            "marker": {
             "colorbar": {
              "outlinewidth": 0,
              "ticks": ""
             }
            },
            "type": "scatterpolar"
           }
          ],
          "scatterpolargl": [
           {
            "marker": {
             "colorbar": {
              "outlinewidth": 0,
              "ticks": ""
             }
            },
            "type": "scatterpolargl"
           }
          ],
          "scatterternary": [
           {
            "marker": {
             "colorbar": {
              "outlinewidth": 0,
              "ticks": ""
             }
            },
            "type": "scatterternary"
           }
          ],
          "surface": [
           {
            "colorbar": {
             "outlinewidth": 0,
             "ticks": ""
            },
            "colorscale": [
             [
              0,
              "#0d0887"
             ],
             [
              0.1111111111111111,
              "#46039f"
             ],
             [
              0.2222222222222222,
              "#7201a8"
             ],
             [
              0.3333333333333333,
              "#9c179e"
             ],
             [
              0.4444444444444444,
              "#bd3786"
             ],
             [
              0.5555555555555556,
              "#d8576b"
             ],
             [
              0.6666666666666666,
              "#ed7953"
             ],
             [
              0.7777777777777778,
              "#fb9f3a"
             ],
             [
              0.8888888888888888,
              "#fdca26"
             ],
             [
              1,
              "#f0f921"
             ]
            ],
            "type": "surface"
           }
          ],
          "table": [
           {
            "cells": {
             "fill": {
              "color": "#EBF0F8"
             },
             "line": {
              "color": "white"
             }
            },
            "header": {
             "fill": {
              "color": "#C8D4E3"
             },
             "line": {
              "color": "white"
             }
            },
            "type": "table"
           }
          ]
         },
         "layout": {
          "annotationdefaults": {
           "arrowcolor": "#2a3f5f",
           "arrowhead": 0,
           "arrowwidth": 1
          },
          "coloraxis": {
           "colorbar": {
            "outlinewidth": 0,
            "ticks": ""
           }
          },
          "colorscale": {
           "diverging": [
            [
             0,
             "#8e0152"
            ],
            [
             0.1,
             "#c51b7d"
            ],
            [
             0.2,
             "#de77ae"
            ],
            [
             0.3,
             "#f1b6da"
            ],
            [
             0.4,
             "#fde0ef"
            ],
            [
             0.5,
             "#f7f7f7"
            ],
            [
             0.6,
             "#e6f5d0"
            ],
            [
             0.7,
             "#b8e186"
            ],
            [
             0.8,
             "#7fbc41"
            ],
            [
             0.9,
             "#4d9221"
            ],
            [
             1,
             "#276419"
            ]
           ],
           "sequential": [
            [
             0,
             "#0d0887"
            ],
            [
             0.1111111111111111,
             "#46039f"
            ],
            [
             0.2222222222222222,
             "#7201a8"
            ],
            [
             0.3333333333333333,
             "#9c179e"
            ],
            [
             0.4444444444444444,
             "#bd3786"
            ],
            [
             0.5555555555555556,
             "#d8576b"
            ],
            [
             0.6666666666666666,
             "#ed7953"
            ],
            [
             0.7777777777777778,
             "#fb9f3a"
            ],
            [
             0.8888888888888888,
             "#fdca26"
            ],
            [
             1,
             "#f0f921"
            ]
           ],
           "sequentialminus": [
            [
             0,
             "#0d0887"
            ],
            [
             0.1111111111111111,
             "#46039f"
            ],
            [
             0.2222222222222222,
             "#7201a8"
            ],
            [
             0.3333333333333333,
             "#9c179e"
            ],
            [
             0.4444444444444444,
             "#bd3786"
            ],
            [
             0.5555555555555556,
             "#d8576b"
            ],
            [
             0.6666666666666666,
             "#ed7953"
            ],
            [
             0.7777777777777778,
             "#fb9f3a"
            ],
            [
             0.8888888888888888,
             "#fdca26"
            ],
            [
             1,
             "#f0f921"
            ]
           ]
          },
          "colorway": [
           "#636efa",
           "#EF553B",
           "#00cc96",
           "#ab63fa",
           "#FFA15A",
           "#19d3f3",
           "#FF6692",
           "#B6E880",
           "#FF97FF",
           "#FECB52"
          ],
          "font": {
           "color": "#2a3f5f"
          },
          "geo": {
           "bgcolor": "white",
           "lakecolor": "white",
           "landcolor": "#E5ECF6",
           "showlakes": true,
           "showland": true,
           "subunitcolor": "white"
          },
          "hoverlabel": {
           "align": "left"
          },
          "hovermode": "closest",
          "mapbox": {
           "style": "light"
          },
          "paper_bgcolor": "white",
          "plot_bgcolor": "#E5ECF6",
          "polar": {
           "angularaxis": {
            "gridcolor": "white",
            "linecolor": "white",
            "ticks": ""
           },
           "bgcolor": "#E5ECF6",
           "radialaxis": {
            "gridcolor": "white",
            "linecolor": "white",
            "ticks": ""
           }
          },
          "scene": {
           "xaxis": {
            "backgroundcolor": "#E5ECF6",
            "gridcolor": "white",
            "gridwidth": 2,
            "linecolor": "white",
            "showbackground": true,
            "ticks": "",
            "zerolinecolor": "white"
           },
           "yaxis": {
            "backgroundcolor": "#E5ECF6",
            "gridcolor": "white",
            "gridwidth": 2,
            "linecolor": "white",
            "showbackground": true,
            "ticks": "",
            "zerolinecolor": "white"
           },
           "zaxis": {
            "backgroundcolor": "#E5ECF6",
            "gridcolor": "white",
            "gridwidth": 2,
            "linecolor": "white",
            "showbackground": true,
            "ticks": "",
            "zerolinecolor": "white"
           }
          },
          "shapedefaults": {
           "line": {
            "color": "#2a3f5f"
           }
          },
          "ternary": {
           "aaxis": {
            "gridcolor": "white",
            "linecolor": "white",
            "ticks": ""
           },
           "baxis": {
            "gridcolor": "white",
            "linecolor": "white",
            "ticks": ""
           },
           "bgcolor": "#E5ECF6",
           "caxis": {
            "gridcolor": "white",
            "linecolor": "white",
            "ticks": ""
           }
          },
          "title": {
           "x": 0.05
          },
          "xaxis": {
           "automargin": true,
           "gridcolor": "white",
           "linecolor": "white",
           "ticks": "",
           "title": {
            "standoff": 15
           },
           "zerolinecolor": "white",
           "zerolinewidth": 2
          },
          "yaxis": {
           "automargin": true,
           "gridcolor": "white",
           "linecolor": "white",
           "ticks": "",
           "title": {
            "standoff": 15
           },
           "zerolinecolor": "white",
           "zerolinewidth": 2
          }
         }
        },
        "title": {
         "text": "Entropy of pitch and rhythm distributions"
        },
        "updatemenus": [
         {
          "active": 0,
          "buttons": [
           {
            "args": [
             {
              "visible": [
               true,
               true,
               true,
               true,
               true,
               false,
               false,
               false,
               false,
               false,
               false,
               false,
               false,
               false,
               false
              ]
             },
             {
              "title": "Entropy of pitch distribution"
             }
            ],
            "label": "Pitch entropy",
            "method": "update"
           },
           {
            "args": [
             {
              "visible": [
               false,
               false,
               false,
               false,
               false,
               true,
               true,
               true,
               true,
               true,
               false,
               false,
               false,
               false,
               false
              ]
             },
             {
              "title": "Entropy of duration distribution"
             }
            ],
            "label": "Duration entropy",
            "method": "update"
           },
           {
            "args": [
             {
              "visible": [
               false,
               false,
               false,
               false,
               false,
               false,
               false,
               false,
               false,
               false,
               true,
               true,
               true,
               true,
               true
              ]
             },
             {
              "title": "Entropy of onset distribution"
             }
            ],
            "label": "Onset entropy",
            "method": "update"
           }
          ]
         }
        ]
       }
      },
      "text/html": [
       "<div>\n",
       "        \n",
       "        \n",
       "            <div id=\"6bf2a05e-b35c-4962-8ed2-202d9e681b7d\" class=\"plotly-graph-div\" style=\"height:525px; width:100%;\"></div>\n",
       "            <script type=\"text/javascript\">\n",
       "                require([\"plotly\"], function(Plotly) {\n",
       "                    window.PLOTLYENV=window.PLOTLYENV || {};\n",
       "                    \n",
       "                if (document.getElementById(\"6bf2a05e-b35c-4962-8ed2-202d9e681b7d\")) {\n",
       "                    Plotly.newPlot(\n",
       "                        '6bf2a05e-b35c-4962-8ed2-202d9e681b7d',\n",
       "                        [{\"line\": {\"color\": \"red\"}, \"name\": \"walzer\", \"type\": \"box\", \"y\": [0.625986490341442, 0.6200115233907694, 0.6558588959277599, 0.663716644588264, 0.6101203910214466, 0.613891142408127, 0.5537498547085771, 0.6225679301054827, 0.6324198437537544, 0.6303164783199772, 0.6052966244249157, 0.6131580979942916, 0.5724601483491841, 0.6028345002568635, 0.5656131063436413, 0.5998059978666764, 0.589708991887797, 0.5746228578021413, 0.609245727116286, 0.5970927095381293, 0.5888111547914975, 0.7174132900448499, 0.6151352586874872, 0.6315425186534005, 0.5918649987366343, 0.5851588875245205, 0.5714229051906133, 0.6058035124257621, 0.5960151521019084, 0.6074982640803642, 0.6149020632166861, 0.6191962797004192, 0.6107016125424298, 0.7217651270080313, 0.5978972973087885, 0.593973314322511, 0.5559266418332841, 0.5899062226739107, 0.6118517403648843, 0.5682787191512921, 0.5495101343225542, 0.5644912091573033, 0.5756219220190056, 0.5586229893413321, 0.5618859737989709, 0.7255055607728721, 0.6005761859334954, 0.6260543656830391, 0.5514844029060165, 0.5160815547075982, 0.5816838009259282, 0.59405519064369, 0.5751474054154293, 0.6615168381443787, 0.5547228141526287, 0.5264420227077625, 0.5335457383516995, 0.5462044730176111, 0.5916365534765294, 0.5311454371988097, 0.6462619367296201, 0.5785264533602535, 0.6295060598816948, 0.6653323656025407, 0.6432799362494289, 0.582631686467581, 0.6241822589779118, 0.6455934189605972, 0.6963194733809228, 0.5869905232286513, 0.6641985689615735, 0.5574066932225413, 0.5918082169974342, 0.5824247680273634, 0.5527437739190116, 0.6232819583398015, 0.6200544112651019, 0.5953014583518199, 0.5604681945863184, 0.6133029588232422, 0.6158801802977616, 0.6397269245111356, 0.6309240115554351, 0.5946991530508593, 0.6686255885576375, 0.5998242955711606, 0.5419325748122793, 0.5655067312629021, 0.5944790805070822, 0.5909323132510841, 0.5863883953525734, 0.6144337285219444, 0.593729126681492, 0.5617826460294121, 0.6189528599726911, 0.5433673039847025, 0.6091487683465509, 0.5987057041177584, 0.5778630940036578, 0.6167373593378208, 0.5256936000928889, 0.5964904330703966, 0.5527714989983983, 0.5950698236074965, 0.6052304866087428, 0.5169199005323037, 0.6029605497105631, 0.5791882137322093, 0.6107586810248066, 0.6061284458438152, 0.5955390874270547, 0.5964652377459032, 0.6127718477145531, 0.6143516313520789, 0.5911172966479947, 0.6204240387662628, 0.5884948005703147, 0.5070496290629579, 0.6173663400021635, 0.6382163408686877, 0.6612560129776686, 0.5791052711140385, 0.5657430486643785, 0.5091611397235868, 0.6028008247513655, 0.5459299333342631, 0.5945895880533303, 0.6138653089040677, 0.5566841797489065, 0.5940234989064386, 0.5752690176502717, 0.5887392397598631]}, {\"line\": {\"color\": \"orange\"}, \"name\": \"deutscher\", \"type\": \"box\", \"y\": [0.5885170903363593, 0.6490597344644209, 0.5767631332342366, 0.6281514157473894, 0.5924337583333921, 0.6532019489057312, 0.5454300195393215, 0.6245827166147996, 0.6200894426674001, 0.6002420440911634, 0.6034918440736141, 0.5529309765135589, 0.5559929090293225, 0.5282674873876071, 0.5889338042952361, 0.6087322323958237, 0.6029402140319113, 0.5325520808790322, 0.6031606517819643, 0.5990898232523554, 0.5591865460660305, 0.5428331896845956, 0.5671434761727501, 0.596525418514394, 0.6483306751406512, 0.7173846694345092, 0.5869334078699827, 0.6249306286576125, 0.5757295196526536, 0.6667981305800951, 0.5173743337971445, 0.551988990783519, 0.5958434812493061, 0.5770299677872716, 0.6420791038136319, 0.5501258488675144, 0.5405711537828349, 0.5984020989322731, 0.6706231622782316, 0.5854607876671141, 0.5690142490958344, 0.6275360227885073, 0.6759690752577239, 0.5858732951381519, 0.6577595611687642, 0.6504264526187136, 0.6466537500187284, 0.6465597666880815, 0.6112391959409651, 0.614623675618628, 0.609033701543084, 0.6024490127792939, 0.6003738943210831, 0.5660303474593007, 0.5637183670610697, 0.5654276726496942, 0.5273443676792895, 0.5237230061495107, 0.5332212160317803, 0.5898236016585949, 0.6461036643091084, 0.5882275831282092, 0.5654509938234611, 0.5589994275398784, 0.58552986752616, 0.5602452172065011, 0.551825334630313, 0.5871711104320283, 0.6153791492304032, 0.571079803916355, 0.5571353507830772]}, {\"line\": {\"color\": \"yellow\"}, \"name\": \"l\\u00e4ndler\", \"type\": \"box\", \"y\": [0.5281633796084424, 0.5487590204664379, 0.5269292836766147, 0.5634290099118389, 0.5620609346219599, 0.5266932058205441, 0.5419430214629193, 0.5876863612698269, 0.5850723501996326, 0.5472640117050509, 0.5394524336800763, 0.5544866851851148, 0.546701353066483, 0.5607367106018829, 0.5312243235681025, 0.5146169998608316, 0.5271685399570167, 0.5965654535695897, 0.6214286027447911, 0.5935273503810559, 0.5834100658475276, 0.6490712846994112, 0.5941455240367333, 0.5674347107227835, 0.5993419110242415, 0.6450618352550607, 0.5470511227084055, 0.5466385968355736, 0.5894526471193297, 0.6387013107384006, 0.6153677616155555, 0.5592002365073881, 0.5868129049205245, 0.6131033579590123, 0.5124219664658437, 0.5334495852059584, 0.5577314387292611, 0.5324574615060436, 0.5704282547165198, 0.5580152553644444, 0.5562009374727438, 0.5218467653114769, 0.5476232131725812, 0.5839599314405637, 0.5967465782046212, 0.4960562513822301, 0.5625508061914691, 0.5723117818901092, 0.5838890923670691, 0.5598236697178446, 0.6095049234393947, 0.5427859900305417, 0.5805278999617539, 0.6109874540311289, 0.5341125354726663, 0.6529317044724487, 0.5596302789987817, 0.6508476629940432, 0.5357941993766553, 0.5932771022833528, 0.5449060981955751, 0.5791757855899591, 0.6072379031359266, 0.6455532514743607, 0.5541095728573033, 0.5531068714943943, 0.6824374387141516, 0.6771796859133876, 0.6575372636589709, 0.633653034404937, 0.6385630938826274, 0.6140666653800771, 0.639856560446245, 0.6954091647345162, 0.6294601969433345, 0.7108035953037825, 0.5552984160380107, 0.5519093058512694]}, {\"line\": {\"color\": \"blue\"}, \"name\": \"menuett\", \"type\": \"box\", \"y\": [0.456823384283, 0.5644447611743146, 0.5889113478609509, 0.5989364258894511, 0.5457207730623015, 0.6011043675639397, 0.6197753656702228, 0.6020633983023971, 0.6344435114480484, 0.6364816509453874, 0.5720625158355331, 0.6563755150001229, 0.6418861319095779, 0.6099272369621938, 0.5931604566816778, 0.6625021104165061, 0.6299079834241054, 0.5930590924587879, 0.6392880844783214, 0.5745852390027695, 0.6019152171152327, 0.6227288221075182, 0.6180145457802347, 0.6046653218208565, 0.5919416339666753, 0.5642234346841224, 0.5577875400441511, 0.5517845904271031, 0.6514535181680474]}, {\"line\": {\"color\": \"lightblue\"}, \"name\": \"trio\", \"type\": \"box\", \"y\": [0.5784748238933831, 0.6127004126509702, 0.5716105417284488, 0.5757152007497746, 0.5428986262283768, 0.5565708300236795, 0.5563276459826759, 0.4871861305657593, 0.5592304431537539, 0.5722821648551364, 0.6026690637042824, 0.5986406300322104, 0.6252887399212735, 0.5764687360659816, 0.6119932071817394, 0.5765966562133757, 0.5980727831840748, 0.6014288968196622, 0.4891745409635539, 0.5263217325148486, 0.5707961490613974, 0.5734832777898561, 0.5384103562998257, 0.6130644254930756, 0.5778132333819477, 0.5630635993345623, 0.6235182085335772, 0.5977171313425279, 0.5819645526600999, 0.5956251558789046, 0.5270800899061289, 0.5805097837599307, 0.5173184710944112, 0.52183310729494, 0.6200912608337922, 0.5668268524350712, 0.5751429325381666, 0.6056010090428516, 0.6051694718161952, 0.5629772447207987, 0.5989234090048886, 0.5881602690450075, 0.5670430815857559, 0.6159975784433172, 0.5428205295482822, 0.5840556581816625, 0.5937039798943279, 0.5988555748935467]}, {\"line\": {\"color\": \"red\"}, \"name\": \"walzer\", \"type\": \"box\", \"y\": [0.7952373839785893, 1.5226134525752102, 0.7163510827602839, 0.9558414160146704, 0.7238773946238383, 1.2490527460461534, 0.8354505335997809, 0.8883350364985959, 1.2262041877885663, 1.073249788496064, 0.4823597699439359, 1.2234930917757676, 0.3073047542355127, 0.9557287824597996, 1.518456263568837, 0.6837247431413755, 1.0538728931566044, 0.9892819960357004, 0.4286809540522741, 1.128610005067724, 1.002416114670564, 1.1978843165002246, 0.9708499071494322, 0.7633573846858741, 0.4559998686106026, 1.0600520055355154, 0.9373787585401926, 0.8783096026780475, 0.9705850845621014, 0.8855251222525296, 0.95475525789045, 0.5973581570584374, 1.0582703397071385, 0.7522816050387019, 0.9500028724426168, 1.1203818231802158, 0.944413373492764, 0.7253474162343481, 0.7430252531153261, 0.8552676701293926, 0.7318585469607684, 0.8966718209661432, 0.8257475458821535, 0.8457745139765002, 0.6971743678100852, 0.9149202292097544, 1.1322197790526276, 1.0433258152683669, 1.147394865548641, 1.074729867939712, 0.871255214234865, 0.7000612736243526, 0.8474747840419643, 0.7762620538018642, 0.8774670358564607, 0.7544677858594562, 0.7897451749509801, 0.955249712155524, 0.5795157198065708, 1.12124386129397, 0.9876697111849738, 0.5620360792641151, 0.8760117397424911, 1.0159493929258585, 0.9154760916049364, 0.8579329318830079, 0.9280400956203734, 1.1915403423001845, 0.7407807149269799, 0.965971627858744, 1.0216332064053912, 0.9415565541445182, 1.1453026230933303, 0.7263229581577116, 0.7794465394711051, 0.7786213882178575, 0.9433741945845888, 0.7403979465934735, 0.966345315762914, 0.8077809852288241, 0.9048656181471356, 0.7522420912400929, 1.0399180918185384, 0.6974877363793317, 0.8816749782656094, 0.9374331200741988, 0.8965667947623821, 0.7606241147288159, 1.1650746226465458, 0.8602711020598464, 0.7442535759931102, 0.8190984115437681, 0.9461393208533572, 0.8347139092230833, 0.7758017746639464, 0.7549875391373424, 0.7585458619691214, 1.2963801443817635, 0.7630039841797188, 0.8118680391318464, 0.9655020862419884, 0.7062956292392523, 1.027148905126775, 0.6594122912306877, 0.773945452047419, 0.8186155132691125, 0.8778593411031268, 0.7734705791817512, 0.7075643792174751, 0.7790200356875506, 0.9445921091872324, 0.6011139479814778, 0.519805072553745, 0.9129297873163876, 0.7816858421282694, 0.9256378389134922, 0.8418013454258921, 0.7513257091403598, 1.2178627507484, 1.0316804647835445, 0.7388357256735172, 0.8949065946888345, 1.0036448390602748, 0.7395914029328547, 1.2863189698471422, 0.8888938041591382, 0.7705607996470306, 0.6918121233157231, 0.6206784924138603, 0.9744259998659504, 0.9826273962755454, 0.9129270513223507]}, {\"line\": {\"color\": \"orange\"}, \"name\": \"deutscher\", \"type\": \"box\", \"y\": [1.2543963138352223, 1.3669858077082662, 1.2166753530579026, 1.0464469220647552, 1.145855998964355, 1.0066583165011818, 1.2587788252874128, 1.1672969008744003, 1.0191681998850748, 1.3071031843894276, 1.0983121484866036, 1.0344154198556228, 0.17884491271684755, 0.9128014461416072, 0.9479507416690768, 0.8612841318669155, 1.0667822464605023, 1.0028365035350515, 0.9406262911887848, 1.1826246820658362, 0.9048885292252408, 1.1789476545884994, 0.8520399246201771, 1.1679994346507596, 1.4377510045118616, 0.7283411330067081, 1.1545857834108124, 1.2924455314326997, 0.8293428580732151, 0.7503384438580072, 1.4174887207035276, 0.978074611372608, 1.3207664556209615, 0.982174148077268, 0.8072554210386483, 0.9593697549497544, 1.251433868270034, 0.8084923084892138, 0.7020940662014933, 0.8575298992249442, 1.1450649684964924, 1.1850734481410767, 0.8309509825472949, 0.9552128382875112, 1.1141767241797857, 1.0770797635291045, 1.142431864987406, 0.999547991675068, 0.5395538086739511, 1.0372820819604232, 0.964918396606488, 1.493075436389271, 0.6415047667885176, 0.8346222987977964, 0.846392645797155, 0.7081646945335953, 0.7361678357412983, 0.8575863155823871, 0.6343494403717377, 0.974952698825108, 0.7374483106712131, 1.1538923931578466, 0.8246489994789684, 0.6930940390085429, 0.5521884001610994, 1.0577041723797145, 1.5789231412789524, 1.1861857408561676, 0.9396960201642914, 1.0026458510815734, 1.0316583207043448]}, {\"line\": {\"color\": \"yellow\"}, \"name\": \"l\\u00e4ndler\", \"type\": \"box\", \"y\": [0.708931928691073, 0.7999259113659832, 0.8431493885116691, 0.9054509810816064, 0.8969250645131869, 1.2721628833648984, 0.7390634242899123, 0.9893470051387874, 1.309679819351316, 1.128916192396887, 0.7776007618097179, 1.3135474033678614, 0.7161787096144561, 0.6852584198245772, 0.7836229053903379, 0.6155636658840107, 0.6997973341585112, 0.6587439430085317, 1.292246546838003, 0.8653823640063139, 1.0040636966066208, 0.5665166006766944, 0.8545688630523005, 0.7794962189740187, 0.7999644719364812, 0.9237844466126754, 1.047263201468314, 0.6803642347270429, 1.1046974352744807, 0.8331515165691142, 0.9823702005036814, 1.2999867435807642, 1.072636858077704, 0.9526942150108016, 0.9717241175993226, 0.9752915114038488, 0.982659189536207, 0.8920458431776351, 0.968460011689422, 1.1797958271084676, 0.9003786701734845, 0.9923365294803558, 0.8838200416504054, 1.0772133770941754, 0.9522409481622044, 0.9797859255747688, 1.3604813995267506, 1.1433638129661443, 0.7790680810312254, 0.8247921588090574, 0.8324861734036285, 0.8922436791057368, 0.3361487680534997, 0.8686037425616906, 0.7660030713823232, 0.5738925358825729, 0.8870568018040783, 0.7561786829007805, 0.8576660369232779, 1.0262557342756842, 0.8761615432248475, 0.683675788227053, 0.7888215258578424, 1.0091437743576397, 1.0451415190032471, 0.7652812684102286, 0.8901274692985403, 1.2088722720157206, 1.1755327162860532, 1.0313683303524883, 1.199469318602584, 1.1222713164422222, 0.6649298438390172, 0.8063218199124335, 0.667328056379872, 1.3511902913628722, 1.1397094096354574, 1.0026199548152928]}, {\"line\": {\"color\": \"blue\"}, \"name\": \"menuett\", \"type\": \"box\", \"y\": [1.5475575606338314, 1.4157198135791562, 1.5088214361917092, 1.0982771837948573, 1.4018921597382714, 1.350810151508664, 1.3414922571649543, 1.3722703741583941, 1.2220741049937098, 1.575064647223934, 1.5032214246841735, 1.2510290386784455, 1.4353766615107204, 1.4822987345469234, 1.3902259359439235, 1.3129172507081586, 1.0976957621332863, 1.3604509350705367, 1.4467224738780733, 1.1782145787191387, 1.2767049215736932, 1.356809329040149, 1.0527029849457656, 1.2442641012452391, 1.2458873869659115, 1.04123743117063, 1.2920647149762474, 1.4412786125809365, 1.1819790130582046]}, {\"line\": {\"color\": \"lightblue\"}, \"name\": \"trio\", \"type\": \"box\", \"y\": [1.1868397680850762, 0.9470974741477616, 1.3369495760163836, 1.42792811391928, 1.393554840345788, 1.4195968086610722, 1.3288990804200804, 1.26854168375922, 0.6273093755604916, 1.5212768298939188, 0.8182847452182804, 1.1817515748109344, 1.5217751777507773, 1.1968665258852975, 1.0231278514857112, 1.2514385729367823, 0.9650101749777016, 1.2296408605879086, 1.1022938503639117, 0.9564542101726422, 1.2156032721289267, 0.9837973307980826, 1.3890832829186106, 1.6209743554775409, 0.692598858764456, 1.0803029474049035, 0.9562252120112221, 0.888529325663022, 0.4804713537474018, 0.8697397368327696, 0.5783365425529, 0.7173558966213718, 1.2740473585616938, 0.9595955369750528, 1.0398022368425726, 1.1571451104285733, 0.8206297046715259, 0.5117995871804877, 0.8942970264444162, 1.3991998705510291, 1.2529443086632626, 0.9590461408374802, 1.4769138982038703, 1.366724430538102, 1.1880265847485372, 1.4432152126797488, 0.691202462290162, 1.1916289549564325]}, {\"line\": {\"color\": \"red\"}, \"name\": \"walzer\", \"type\": \"box\", \"y\": [1.3299436073166016, 1.3848160084239518, 1.3667462415173417, 1.5593972760306054, 1.5576190344594656, 1.5325273326475914, 1.2697137297680596, 1.5936236908483703, 1.4108045445870332, 1.0582773128389884, 1.0945403237220015, 1.8175488429484048, 1.2828491746696242, 1.5048007545677846, 1.5961403627688722, 1.2156836115405902, 1.5850731139624603, 1.3413438426775564, 1.2421677632245611, 1.4747145615138726, 1.368175765673438, 1.5281219714993717, 1.5305243319632793, 1.412052627409738, 1.3468022086649016, 1.5612230448984872, 1.3652484019167257, 1.5644007935266848, 1.52921401219884, 1.6024098799620765, 1.5894331528231516, 1.0700318375575248, 1.3707950818205847, 1.5986782575830332, 1.5660248872419655, 1.3811491764064279, 1.2529084415316185, 1.3960719849938228, 1.3848279770987997, 1.6901151564943018, 1.3972200511489992, 1.5350498300344817, 1.6955087913786813, 1.4361134366416342, 1.1709121288218538, 1.597523503893248, 1.3938449264063912, 1.4395263540184504, 1.420503488586368, 1.3709784692648592, 1.4678482091534306, 1.4225609646019997, 1.528361977876963, 1.5454238698927882, 1.4143030356036463, 1.6437293360507534, 1.4348152362541349, 1.4227449372783665, 1.3731734759872465, 1.490700183544003, 1.4244039487243898, 1.365087381830258, 1.413586645903946, 1.4707140774168903, 1.4402692565174664, 1.4457726426865902, 1.5635637057000829, 1.0536952933822277, 1.277507009923396, 1.5426334032804303, 1.6119504230897612, 1.6878058321566969, 1.7027997597397946, 1.5065427093500927, 1.407354669307541, 1.60511649467415, 1.5845477276606432, 1.5775307918008954, 1.6637795486223872, 1.5907655917492909, 1.3355590225008591, 1.296355293648464, 1.612962199717401, 1.4772354737409716, 1.5252234754769858, 1.4807009358858167, 1.5260083542686482, 1.5698361559700773, 1.4953236915386456, 1.3412782450285627, 1.5065195247940175, 1.5906457098227431, 1.5222654339805757, 1.3671833566302418, 1.5143870825559371, 1.2562348943568602, 1.4026924889975512, 1.821930508774528, 1.4988513097909149, 1.589164901800751, 1.5062322114465867, 1.4806528543057542, 1.596783145180105, 0.8989529941249754, 1.4500549110278251, 1.4373484174375817, 1.4806139063871735, 1.5639902485477322, 1.2721555675493696, 1.486363651531873, 1.3617333701458862, 1.4373339449466327, 1.2854392587650456, 1.5734357378490371, 1.3101368265095843, 1.4393421701137001, 1.4312110830631433, 1.4792674442972509, 1.3882789231051451, 1.5480247906523137, 1.460178618048673, 1.4598353248126557, 1.6612656695672479, 1.2338031149624848, 1.4450210424315026, 1.3951783031447176, 1.5057058303710429, 1.4550263239616323, 1.445574931986818, 1.3480829934458267, 1.5897218885263134, 1.3211586751864908]}, {\"line\": {\"color\": \"orange\"}, \"name\": \"deutscher\", \"type\": \"box\", \"y\": [1.5800772739878797, 1.3204145616850669, 1.5330452620270647, 1.5036755497411285, 1.5036936750065986, 1.581355815421273, 1.6140430784383564, 1.5347803591855491, 1.4611627285529705, 1.5888706777769226, 1.5221870167767728, 1.577679434014284, 1.0960886237238197, 1.3309568785853545, 1.4517981166538263, 1.2335687277722391, 1.361880886522023, 1.4283080419997087, 1.3552290364800723, 1.6791315860566112, 1.4085100571990694, 1.5041613161461251, 1.4122644023987787, 1.4704484222757226, 1.655534000525501, 1.6900614658034143, 1.4938800844757731, 1.6915385847502735, 1.685083403477295, 1.2744544962593116, 1.5280294541699793, 1.5757690928482857, 1.94639761254301, 1.6434181097058786, 1.398442377759499, 1.2823799108095644, 1.4785290834465377, 1.39172339091032, 1.3187139902102727, 1.6242730233588043, 1.4676503848525104, 1.3417192447659785, 1.4932916541914745, 1.2779311811608305, 1.2333942769498871, 1.5913599561183671, 1.5547327545295475, 1.478898473484476, 1.094083575150342, 1.294266358034217, 1.4394005482754109, 1.563958502788665, 1.695966648760923, 1.3569254116624845, 1.2348984577664015, 1.2782601593745004, 1.3545279826925172, 1.4070185743600312, 1.3811805411295093, 1.2691101350864995, 1.6021738393374216, 1.5166732141222663, 1.611220542673321, 1.6116564040591348, 1.460915844589972, 1.6824969446606282, 1.6946053153282292, 1.1379477443920551, 1.4659528568804847, 1.4332701698997157, 1.4687049391786748]}, {\"line\": {\"color\": \"yellow\"}, \"name\": \"l\\u00e4ndler\", \"type\": \"box\", \"y\": [1.532631776072252, 1.3061844479217006, 1.4881568851374505, 1.3448323205204131, 1.5403797263966412, 1.8027201442824163, 1.3876597570047098, 1.739413883806629, 1.409890780242028, 1.6387825857084874, 1.433901845665548, 1.915020289033173, 1.5589073621392782, 1.5341165960162182, 1.3361885111378666, 1.3857429212541137, 1.4920109412445488, 1.480353035628983, 1.4213401497818463, 0.7576250434842141, 1.5778068584720053, 1.2911098446742597, 1.4299986334658799, 1.4664733598136566, 1.7722784260912825, 1.4173504048209955, 1.4716497006663374, 1.3399979859767641, 1.4647180864536629, 1.4600606437389418, 1.3354475522351188, 1.4539078575353959, 1.592548427302877, 1.4544794195685864, 1.6065658773120284, 1.6175834884129998, 1.6007338961776765, 1.5565597502479631, 1.6237967716800317, 1.5715980193024346, 1.4919717837076094, 1.3979753338057908, 1.5481958139190246, 1.6406530002179183, 1.3390450780365473, 1.3869558720945725, 1.5891919669290784, 1.4280935225221083, 1.6995196557841092, 1.6064213647378809, 1.3682188743609929, 1.5088171088453508, 1.0926343115457935, 1.5253096891119913, 1.6962643751454425, 1.3068108148100068, 1.4692523258762549, 1.6165375933180255, 1.5604042483923408, 1.2065135728644498, 1.5498567949826487, 1.5056683551202288, 1.61086676063463, 1.6070302192685009, 1.4081328402198958, 1.400913019687992, 1.2345485925131967, 1.5840881765790358, 1.6046234066902918, 0.9053462565156148, 1.3869374172449944, 1.2482333533024084, 1.3060659550585867, 1.641234849838454, 1.4224840311958618, 1.3643670858643977, 1.6444998734729563, 1.5871764146822882]}, {\"line\": {\"color\": \"blue\"}, \"name\": \"menuett\", \"type\": \"box\", \"y\": [1.6932019428976903, 1.5214294381876137, 1.7635928514407586, 1.9447857574071716, 1.4704940055635758, 2.0267343445553943, 1.6445734896957132, 1.951564058275847, 1.5728229762924697, 1.7593080941740888, 1.6357787900930436, 1.7903110739047192, 1.5234425207901496, 1.9958519982277352, 2.0895222694799083, 2.0728488527439497, 1.85823512861898, 1.6827734618706929, 1.9446488212223647, 1.762743053100219, 1.8794523747678369, 1.7354976079072713, 0.8172971490427886, 1.7326065850913153, 1.5718252892047655, 1.6566145456697805, 1.813237912025132, 1.8540739639375512, 1.5061000995790004]}, {\"line\": {\"color\": \"lightblue\"}, \"name\": \"trio\", \"type\": \"box\", \"y\": [2.0118604654874668, 2.147050134653719, 1.7534000203591251, 1.6193036250130373, 1.896079249153539, 1.5164759996910144, 1.5571670694468451, 2.022451131134292, 1.8997491623338896, 1.9150518457733103, 1.5572344172862933, 1.8935784326591487, 2.0816574700255908, 2.378482636359573, 1.8718966255266756, 2.1089939983276045, 2.3997792124527653, 1.9039635832739956, 1.9255156817925565, 2.2014411904432833, 1.8016559693036782, 1.8474869297590493, 1.988122953878828, 1.7139835651279545, 1.5428400319315014, 0.9229421951282036, 1.487824928004841, 1.4121703143516593, 1.2840023631641733, 1.0502146702177628, 1.0712340029130267, 1.2338283989668302, 1.7650886704999391, 0.9512720063926818, 1.5578712854048118, 1.4469575781841515, 1.6591171580734014, 1.2700397309009719, 1.720815214608692, 1.8532598402784657, 1.4526654084533568, 1.7803434918551957, 1.863007258628126, 1.8700095727135309, 2.0957093911098803, 1.8228967627436727, 1.572368010148969, 1.7729788700582811]}],\n",
       "                        {\"template\": {\"data\": {\"bar\": [{\"error_x\": {\"color\": \"#2a3f5f\"}, \"error_y\": {\"color\": \"#2a3f5f\"}, \"marker\": {\"line\": {\"color\": \"#E5ECF6\", \"width\": 0.5}}, \"type\": \"bar\"}], \"barpolar\": [{\"marker\": {\"line\": {\"color\": \"#E5ECF6\", \"width\": 0.5}}, \"type\": \"barpolar\"}], \"carpet\": [{\"aaxis\": {\"endlinecolor\": \"#2a3f5f\", \"gridcolor\": \"white\", \"linecolor\": \"white\", \"minorgridcolor\": \"white\", \"startlinecolor\": \"#2a3f5f\"}, \"baxis\": {\"endlinecolor\": \"#2a3f5f\", \"gridcolor\": \"white\", \"linecolor\": \"white\", \"minorgridcolor\": \"white\", \"startlinecolor\": \"#2a3f5f\"}, \"type\": \"carpet\"}], \"choropleth\": [{\"colorbar\": {\"outlinewidth\": 0, \"ticks\": \"\"}, \"type\": \"choropleth\"}], \"contour\": [{\"colorbar\": {\"outlinewidth\": 0, \"ticks\": \"\"}, \"colorscale\": [[0.0, \"#0d0887\"], [0.1111111111111111, \"#46039f\"], [0.2222222222222222, \"#7201a8\"], [0.3333333333333333, \"#9c179e\"], [0.4444444444444444, \"#bd3786\"], [0.5555555555555556, \"#d8576b\"], [0.6666666666666666, \"#ed7953\"], [0.7777777777777778, \"#fb9f3a\"], [0.8888888888888888, \"#fdca26\"], [1.0, \"#f0f921\"]], \"type\": \"contour\"}], \"contourcarpet\": [{\"colorbar\": {\"outlinewidth\": 0, \"ticks\": \"\"}, \"type\": \"contourcarpet\"}], \"heatmap\": [{\"colorbar\": {\"outlinewidth\": 0, \"ticks\": \"\"}, \"colorscale\": [[0.0, \"#0d0887\"], [0.1111111111111111, \"#46039f\"], [0.2222222222222222, \"#7201a8\"], [0.3333333333333333, \"#9c179e\"], [0.4444444444444444, \"#bd3786\"], [0.5555555555555556, \"#d8576b\"], [0.6666666666666666, \"#ed7953\"], [0.7777777777777778, \"#fb9f3a\"], [0.8888888888888888, \"#fdca26\"], [1.0, \"#f0f921\"]], \"type\": \"heatmap\"}], \"heatmapgl\": [{\"colorbar\": {\"outlinewidth\": 0, \"ticks\": \"\"}, \"colorscale\": [[0.0, \"#0d0887\"], [0.1111111111111111, \"#46039f\"], [0.2222222222222222, \"#7201a8\"], [0.3333333333333333, \"#9c179e\"], [0.4444444444444444, \"#bd3786\"], [0.5555555555555556, \"#d8576b\"], [0.6666666666666666, \"#ed7953\"], [0.7777777777777778, \"#fb9f3a\"], [0.8888888888888888, \"#fdca26\"], [1.0, \"#f0f921\"]], \"type\": \"heatmapgl\"}], \"histogram\": [{\"marker\": {\"colorbar\": {\"outlinewidth\": 0, \"ticks\": \"\"}}, \"type\": \"histogram\"}], \"histogram2d\": [{\"colorbar\": {\"outlinewidth\": 0, \"ticks\": \"\"}, \"colorscale\": [[0.0, \"#0d0887\"], [0.1111111111111111, \"#46039f\"], [0.2222222222222222, \"#7201a8\"], [0.3333333333333333, \"#9c179e\"], [0.4444444444444444, \"#bd3786\"], [0.5555555555555556, \"#d8576b\"], [0.6666666666666666, \"#ed7953\"], [0.7777777777777778, \"#fb9f3a\"], [0.8888888888888888, \"#fdca26\"], [1.0, \"#f0f921\"]], \"type\": \"histogram2d\"}], \"histogram2dcontour\": [{\"colorbar\": {\"outlinewidth\": 0, \"ticks\": \"\"}, \"colorscale\": [[0.0, \"#0d0887\"], [0.1111111111111111, \"#46039f\"], [0.2222222222222222, \"#7201a8\"], [0.3333333333333333, \"#9c179e\"], [0.4444444444444444, \"#bd3786\"], [0.5555555555555556, \"#d8576b\"], [0.6666666666666666, \"#ed7953\"], [0.7777777777777778, \"#fb9f3a\"], [0.8888888888888888, \"#fdca26\"], [1.0, \"#f0f921\"]], \"type\": \"histogram2dcontour\"}], \"mesh3d\": [{\"colorbar\": {\"outlinewidth\": 0, \"ticks\": \"\"}, \"type\": \"mesh3d\"}], \"parcoords\": [{\"line\": {\"colorbar\": {\"outlinewidth\": 0, \"ticks\": \"\"}}, \"type\": \"parcoords\"}], \"pie\": [{\"automargin\": true, \"type\": \"pie\"}], \"scatter\": [{\"marker\": {\"colorbar\": {\"outlinewidth\": 0, \"ticks\": \"\"}}, \"type\": \"scatter\"}], \"scatter3d\": [{\"line\": {\"colorbar\": {\"outlinewidth\": 0, \"ticks\": \"\"}}, \"marker\": {\"colorbar\": {\"outlinewidth\": 0, \"ticks\": \"\"}}, \"type\": \"scatter3d\"}], \"scattercarpet\": [{\"marker\": {\"colorbar\": {\"outlinewidth\": 0, \"ticks\": \"\"}}, \"type\": \"scattercarpet\"}], \"scattergeo\": [{\"marker\": {\"colorbar\": {\"outlinewidth\": 0, \"ticks\": \"\"}}, \"type\": \"scattergeo\"}], \"scattergl\": [{\"marker\": {\"colorbar\": {\"outlinewidth\": 0, \"ticks\": \"\"}}, \"type\": \"scattergl\"}], \"scattermapbox\": [{\"marker\": {\"colorbar\": {\"outlinewidth\": 0, \"ticks\": \"\"}}, \"type\": \"scattermapbox\"}], \"scatterpolar\": [{\"marker\": {\"colorbar\": {\"outlinewidth\": 0, \"ticks\": \"\"}}, \"type\": \"scatterpolar\"}], \"scatterpolargl\": [{\"marker\": {\"colorbar\": {\"outlinewidth\": 0, \"ticks\": \"\"}}, \"type\": \"scatterpolargl\"}], \"scatterternary\": [{\"marker\": {\"colorbar\": {\"outlinewidth\": 0, \"ticks\": \"\"}}, \"type\": \"scatterternary\"}], \"surface\": [{\"colorbar\": {\"outlinewidth\": 0, \"ticks\": \"\"}, \"colorscale\": [[0.0, \"#0d0887\"], [0.1111111111111111, \"#46039f\"], [0.2222222222222222, \"#7201a8\"], [0.3333333333333333, \"#9c179e\"], [0.4444444444444444, \"#bd3786\"], [0.5555555555555556, \"#d8576b\"], [0.6666666666666666, \"#ed7953\"], [0.7777777777777778, \"#fb9f3a\"], [0.8888888888888888, \"#fdca26\"], [1.0, \"#f0f921\"]], \"type\": \"surface\"}], \"table\": [{\"cells\": {\"fill\": {\"color\": \"#EBF0F8\"}, \"line\": {\"color\": \"white\"}}, \"header\": {\"fill\": {\"color\": \"#C8D4E3\"}, \"line\": {\"color\": \"white\"}}, \"type\": \"table\"}]}, \"layout\": {\"annotationdefaults\": {\"arrowcolor\": \"#2a3f5f\", \"arrowhead\": 0, \"arrowwidth\": 1}, \"coloraxis\": {\"colorbar\": {\"outlinewidth\": 0, \"ticks\": \"\"}}, \"colorscale\": {\"diverging\": [[0, \"#8e0152\"], [0.1, \"#c51b7d\"], [0.2, \"#de77ae\"], [0.3, \"#f1b6da\"], [0.4, \"#fde0ef\"], [0.5, \"#f7f7f7\"], [0.6, \"#e6f5d0\"], [0.7, \"#b8e186\"], [0.8, \"#7fbc41\"], [0.9, \"#4d9221\"], [1, \"#276419\"]], \"sequential\": [[0.0, \"#0d0887\"], [0.1111111111111111, \"#46039f\"], [0.2222222222222222, \"#7201a8\"], [0.3333333333333333, \"#9c179e\"], [0.4444444444444444, \"#bd3786\"], [0.5555555555555556, \"#d8576b\"], [0.6666666666666666, \"#ed7953\"], [0.7777777777777778, \"#fb9f3a\"], [0.8888888888888888, \"#fdca26\"], [1.0, \"#f0f921\"]], \"sequentialminus\": [[0.0, \"#0d0887\"], [0.1111111111111111, \"#46039f\"], [0.2222222222222222, \"#7201a8\"], [0.3333333333333333, \"#9c179e\"], [0.4444444444444444, \"#bd3786\"], [0.5555555555555556, \"#d8576b\"], [0.6666666666666666, \"#ed7953\"], [0.7777777777777778, \"#fb9f3a\"], [0.8888888888888888, \"#fdca26\"], [1.0, \"#f0f921\"]]}, \"colorway\": [\"#636efa\", \"#EF553B\", \"#00cc96\", \"#ab63fa\", \"#FFA15A\", \"#19d3f3\", \"#FF6692\", \"#B6E880\", \"#FF97FF\", \"#FECB52\"], \"font\": {\"color\": \"#2a3f5f\"}, \"geo\": {\"bgcolor\": \"white\", \"lakecolor\": \"white\", \"landcolor\": \"#E5ECF6\", \"showlakes\": true, \"showland\": true, \"subunitcolor\": \"white\"}, \"hoverlabel\": {\"align\": \"left\"}, \"hovermode\": \"closest\", \"mapbox\": {\"style\": \"light\"}, \"paper_bgcolor\": \"white\", \"plot_bgcolor\": \"#E5ECF6\", \"polar\": {\"angularaxis\": {\"gridcolor\": \"white\", \"linecolor\": \"white\", \"ticks\": \"\"}, \"bgcolor\": \"#E5ECF6\", \"radialaxis\": {\"gridcolor\": \"white\", \"linecolor\": \"white\", \"ticks\": \"\"}}, \"scene\": {\"xaxis\": {\"backgroundcolor\": \"#E5ECF6\", \"gridcolor\": \"white\", \"gridwidth\": 2, \"linecolor\": \"white\", \"showbackground\": true, \"ticks\": \"\", \"zerolinecolor\": \"white\"}, \"yaxis\": {\"backgroundcolor\": \"#E5ECF6\", \"gridcolor\": \"white\", \"gridwidth\": 2, \"linecolor\": \"white\", \"showbackground\": true, \"ticks\": \"\", \"zerolinecolor\": \"white\"}, \"zaxis\": {\"backgroundcolor\": \"#E5ECF6\", \"gridcolor\": \"white\", \"gridwidth\": 2, \"linecolor\": \"white\", \"showbackground\": true, \"ticks\": \"\", \"zerolinecolor\": \"white\"}}, \"shapedefaults\": {\"line\": {\"color\": \"#2a3f5f\"}}, \"ternary\": {\"aaxis\": {\"gridcolor\": \"white\", \"linecolor\": \"white\", \"ticks\": \"\"}, \"baxis\": {\"gridcolor\": \"white\", \"linecolor\": \"white\", \"ticks\": \"\"}, \"bgcolor\": \"#E5ECF6\", \"caxis\": {\"gridcolor\": \"white\", \"linecolor\": \"white\", \"ticks\": \"\"}}, \"title\": {\"x\": 0.05}, \"xaxis\": {\"automargin\": true, \"gridcolor\": \"white\", \"linecolor\": \"white\", \"ticks\": \"\", \"title\": {\"standoff\": 15}, \"zerolinecolor\": \"white\", \"zerolinewidth\": 2}, \"yaxis\": {\"automargin\": true, \"gridcolor\": \"white\", \"linecolor\": \"white\", \"ticks\": \"\", \"title\": {\"standoff\": 15}, \"zerolinecolor\": \"white\", \"zerolinewidth\": 2}}}, \"title\": {\"text\": \"Entropy of pitch and rhythm distributions\"}, \"updatemenus\": [{\"active\": 0, \"buttons\": [{\"args\": [{\"visible\": [true, true, true, true, true, false, false, false, false, false, false, false, false, false, false]}, {\"title\": \"Entropy of pitch distribution\"}], \"label\": \"Pitch entropy\", \"method\": \"update\"}, {\"args\": [{\"visible\": [false, false, false, false, false, true, true, true, true, true, false, false, false, false, false]}, {\"title\": \"Entropy of duration distribution\"}], \"label\": \"Duration entropy\", \"method\": \"update\"}, {\"args\": [{\"visible\": [false, false, false, false, false, false, false, false, false, false, true, true, true, true, true]}, {\"title\": \"Entropy of onset distribution\"}], \"label\": \"Onset entropy\", \"method\": \"update\"}]}]},\n",
       "                        {\"responsive\": true}\n",
       "                    ).then(function(){\n",
       "                            \n",
       "var gd = document.getElementById('6bf2a05e-b35c-4962-8ed2-202d9e681b7d');\n",
       "var x = new MutationObserver(function (mutations, observer) {{\n",
       "        var display = window.getComputedStyle(gd).display;\n",
       "        if (!display || display === 'none') {{\n",
       "            console.log([gd, 'removed!']);\n",
       "            Plotly.purge(gd);\n",
       "            observer.disconnect();\n",
       "        }}\n",
       "}});\n",
       "\n",
       "// Listen for the removal of the full notebook cells\n",
       "var notebookContainer = gd.closest('#notebook-container');\n",
       "if (notebookContainer) {{\n",
       "    x.observe(notebookContainer, {childList: true});\n",
       "}}\n",
       "\n",
       "// Listen for the clearing of the current output cell\n",
       "var outputEl = gd.closest('.output');\n",
       "if (outputEl) {{\n",
       "    x.observe(outputEl, {childList: true});\n",
       "}}\n",
       "\n",
       "                        })\n",
       "                };\n",
       "                });\n",
       "            </script>\n",
       "        </div>"
      ]
     },
     "metadata": {},
     "output_type": "display_data"
    }
   ],
   "source": [
    "fig = go.Figure()\n",
    "\n",
    "for dance in classif_dances:\n",
    "    fig.add_trace(\n",
    "        go.Box( \n",
    "             y= files.set_index('dance', append=True).entropy.unstack(level=1)[dance].dropna().to_list(),\n",
    "               name=dance,\n",
    "             line = dict(color = color_dances[dance])\n",
    "        )\n",
    "    )\n",
    "    \n",
    "for dance in classif_dances:\n",
    "    fig.add_trace(\n",
    "        go.Box( \n",
    "             y= files.set_index('dance', append=True).duration_entropy.unstack(level=1)[dance].dropna().to_list(),\n",
    "               name=dance,\n",
    "            line = dict(color = color_dances[dance])\n",
    "    ))\n",
    "\n",
    "for dance in classif_dances:\n",
    "    fig.add_trace(\n",
    "        go.Box( \n",
    "             y= files.set_index('dance', append=True).onset_entropy.unstack(level=1)[dance].dropna().to_list(),\n",
    "               name=dance,\n",
    "            line = dict(color = color_dances[dance])\n",
    "    ))\n",
    "\n",
    "\n",
    "fig.update_layout(\n",
    "    updatemenus=[\n",
    "        go.layout.Updatemenu(\n",
    "            active=0,\n",
    "            buttons=list([\n",
    "                dict(label=\"Pitch entropy\",\n",
    "                     method=\"update\",\n",
    "                     args=[{\"visible\": [True]*len(classif_dances)+[False]*len(classif_dances)+[False]*len(classif_dances)},\n",
    "                           {\"title\": \"Entropy of pitch distribution\",\n",
    "                            }]),\n",
    "                dict(label=\"Duration entropy\",\n",
    "                     method=\"update\",\n",
    "                     args=[{\"visible\": [False]*len(classif_dances)+[True]*len(classif_dances)+[False]*len(classif_dances)},\n",
    "                           {\"title\": \"Entropy of duration distribution\",\n",
    "                           }]),\n",
    "                dict(label=\"Onset entropy\",\n",
    "                     method=\"update\",\n",
    "                     args=[{\"visible\": [False]*len(classif_dances)+[False]*len(classif_dances)+[True]*len(classif_dances)},\n",
    "                           {\"title\": \"Entropy of onset distribution\",\n",
    "                            }]),    \n",
    "            ]),\n",
    "        )\n",
    "    ])\n",
    "\n",
    "fig.update_layout(title_text=\"Entropy of pitch and rhythm distributions\")\n",
    "\n",
    "fig.show()"
   ]
  },
  {
   "cell_type": "markdown",
   "metadata": {},
   "source": [
    "### Key"
   ]
  },
  {
   "cell_type": "markdown",
   "metadata": {},
   "source": [
    "#### Intro\n",
    "\n",
    " A piece of tonal music is like a journey across different regions, each being characterised by specific sonorities, moods, colours. These features of a tonal region             arise as a consequence of the choice of notes and relationships among notes that the composer assembles in that particular spot in the music. In one word, a key: with this term, we refer to (1) a set of notes and (2) a hierarchy among them, where one note (the tonic) can be thought of as the center while all other notes have different functions with respect to the tonic itself. \n",
    "\n",
    "In each piece, one key is particularly important, as it marks the final goal and often also the starting point of the music: it is the global key of the piece. However, just as painters choose colours from their palette, composers can change the “colour” of the music by shifting from key to key as the piece unfolds. \n",
    "\n",
    "The most striking  distinction is between so-called major and minor keys, that roughly correspond to happy and melancholic moods respectively. Furthermore, with respect to the global key of a piece, each other major and minor key conveys different shades of these moods. "
   ]
  },
  {
   "cell_type": "markdown",
   "metadata": {},
   "source": [
    "#### Methodology\n",
    "\n",
    "The musicological understanding of a piece relies on a detailed analysis of what is written in the score to infer the key that are encountered as it unfolds. However, to what extent does this score-based mode identification agree with the perceptual “feel” of a key? \n",
    "\n",
    "Extensive research has shown that Western listeners have consistent expectations on the fitness of individual notes into a key. For example, this plot shows how much each one of the twelve notes is perceived as fitting into the Cmajor or Cminor keys: these are called the Cmajor and Cminor **key profiles**.\n",
    "\n",
    "[Krumhansl, C.L. & Kessler, E. J. (1982). Tracing the dynamic changes in perceived tonal organization in a spatial representation of musical keys. Psychological Review, 89(4), 334–368.]"
   ]
  },
  {
   "cell_type": "code",
   "execution_count": 239,
   "metadata": {},
   "outputs": [
    {
     "data": {
      "application/vnd.plotly.v1+json": {
       "config": {
        "linkText": "Export to plot.ly",
        "plotlyServerURL": "https://plot.ly",
        "showLink": true
       },
       "data": [
        {
         "line": {
          "color": "rgba(226, 74, 51, 1.0)",
          "dash": "solid",
          "shape": "linear",
          "width": 1.3
         },
         "marker": {
          "size": 12,
          "symbol": "circle"
         },
         "mode": "lines+markers",
         "name": "major",
         "text": "",
         "type": "scatter",
         "x": [
          "C",
          "C#/Db",
          "D",
          "D#/Eb",
          "E",
          "F",
          "F#/Gb",
          "G",
          "G#/Ab",
          "A",
          "A#/Bb",
          "B"
         ],
         "y": [
          6.2,
          2.55,
          3.45,
          2.85,
          4.22,
          4.57,
          2.67,
          5.25,
          2.45,
          3.35,
          2.7,
          2.7
         ]
        },
        {
         "line": {
          "color": "rgba(62, 111, 176, 1.0)",
          "dash": "solid",
          "shape": "linear",
          "width": 1.3
         },
         "marker": {
          "size": 12,
          "symbol": "circle"
         },
         "mode": "lines+markers",
         "name": "minor",
         "text": "",
         "type": "scatter",
         "x": [
          "C",
          "C#/Db",
          "D",
          "D#/Eb",
          "E",
          "F",
          "F#/Gb",
          "G",
          "G#/Ab",
          "A",
          "A#/Bb",
          "B"
         ],
         "y": [
          6.03,
          3.35,
          3.67,
          5.28,
          2.58,
          3.55,
          2.87,
          4.8,
          4.35,
          2.67,
          2.5,
          3.42
         ]
        }
       ],
       "layout": {
        "legend": {
         "bgcolor": "#FFFFFF",
         "font": {
          "color": "#666666"
         }
        },
        "paper_bgcolor": "#FFFFFF",
        "plot_bgcolor": "#E5E5E5",
        "template": {
         "data": {
          "bar": [
           {
            "error_x": {
             "color": "#2a3f5f"
            },
            "error_y": {
             "color": "#2a3f5f"
            },
            "marker": {
             "line": {
              "color": "#E5ECF6",
              "width": 0.5
             }
            },
            "type": "bar"
           }
          ],
          "barpolar": [
           {
            "marker": {
             "line": {
              "color": "#E5ECF6",
              "width": 0.5
             }
            },
            "type": "barpolar"
           }
          ],
          "carpet": [
           {
            "aaxis": {
             "endlinecolor": "#2a3f5f",
             "gridcolor": "white",
             "linecolor": "white",
             "minorgridcolor": "white",
             "startlinecolor": "#2a3f5f"
            },
            "baxis": {
             "endlinecolor": "#2a3f5f",
             "gridcolor": "white",
             "linecolor": "white",
             "minorgridcolor": "white",
             "startlinecolor": "#2a3f5f"
            },
            "type": "carpet"
           }
          ],
          "choropleth": [
           {
            "colorbar": {
             "outlinewidth": 0,
             "ticks": ""
            },
            "type": "choropleth"
           }
          ],
          "contour": [
           {
            "colorbar": {
             "outlinewidth": 0,
             "ticks": ""
            },
            "colorscale": [
             [
              0,
              "#0d0887"
             ],
             [
              0.1111111111111111,
              "#46039f"
             ],
             [
              0.2222222222222222,
              "#7201a8"
             ],
             [
              0.3333333333333333,
              "#9c179e"
             ],
             [
              0.4444444444444444,
              "#bd3786"
             ],
             [
              0.5555555555555556,
              "#d8576b"
             ],
             [
              0.6666666666666666,
              "#ed7953"
             ],
             [
              0.7777777777777778,
              "#fb9f3a"
             ],
             [
              0.8888888888888888,
              "#fdca26"
             ],
             [
              1,
              "#f0f921"
             ]
            ],
            "type": "contour"
           }
          ],
          "contourcarpet": [
           {
            "colorbar": {
             "outlinewidth": 0,
             "ticks": ""
            },
            "type": "contourcarpet"
           }
          ],
          "heatmap": [
           {
            "colorbar": {
             "outlinewidth": 0,
             "ticks": ""
            },
            "colorscale": [
             [
              0,
              "#0d0887"
             ],
             [
              0.1111111111111111,
              "#46039f"
             ],
             [
              0.2222222222222222,
              "#7201a8"
             ],
             [
              0.3333333333333333,
              "#9c179e"
             ],
             [
              0.4444444444444444,
              "#bd3786"
             ],
             [
              0.5555555555555556,
              "#d8576b"
             ],
             [
              0.6666666666666666,
              "#ed7953"
             ],
             [
              0.7777777777777778,
              "#fb9f3a"
             ],
             [
              0.8888888888888888,
              "#fdca26"
             ],
             [
              1,
              "#f0f921"
             ]
            ],
            "type": "heatmap"
           }
          ],
          "heatmapgl": [
           {
            "colorbar": {
             "outlinewidth": 0,
             "ticks": ""
            },
            "colorscale": [
             [
              0,
              "#0d0887"
             ],
             [
              0.1111111111111111,
              "#46039f"
             ],
             [
              0.2222222222222222,
              "#7201a8"
             ],
             [
              0.3333333333333333,
              "#9c179e"
             ],
             [
              0.4444444444444444,
              "#bd3786"
             ],
             [
              0.5555555555555556,
              "#d8576b"
             ],
             [
              0.6666666666666666,
              "#ed7953"
             ],
             [
              0.7777777777777778,
              "#fb9f3a"
             ],
             [
              0.8888888888888888,
              "#fdca26"
             ],
             [
              1,
              "#f0f921"
             ]
            ],
            "type": "heatmapgl"
           }
          ],
          "histogram": [
           {
            "marker": {
             "colorbar": {
              "outlinewidth": 0,
              "ticks": ""
             }
            },
            "type": "histogram"
           }
          ],
          "histogram2d": [
           {
            "colorbar": {
             "outlinewidth": 0,
             "ticks": ""
            },
            "colorscale": [
             [
              0,
              "#0d0887"
             ],
             [
              0.1111111111111111,
              "#46039f"
             ],
             [
              0.2222222222222222,
              "#7201a8"
             ],
             [
              0.3333333333333333,
              "#9c179e"
             ],
             [
              0.4444444444444444,
              "#bd3786"
             ],
             [
              0.5555555555555556,
              "#d8576b"
             ],
             [
              0.6666666666666666,
              "#ed7953"
             ],
             [
              0.7777777777777778,
              "#fb9f3a"
             ],
             [
              0.8888888888888888,
              "#fdca26"
             ],
             [
              1,
              "#f0f921"
             ]
            ],
            "type": "histogram2d"
           }
          ],
          "histogram2dcontour": [
           {
            "colorbar": {
             "outlinewidth": 0,
             "ticks": ""
            },
            "colorscale": [
             [
              0,
              "#0d0887"
             ],
             [
              0.1111111111111111,
              "#46039f"
             ],
             [
              0.2222222222222222,
              "#7201a8"
             ],
             [
              0.3333333333333333,
              "#9c179e"
             ],
             [
              0.4444444444444444,
              "#bd3786"
             ],
             [
              0.5555555555555556,
              "#d8576b"
             ],
             [
              0.6666666666666666,
              "#ed7953"
             ],
             [
              0.7777777777777778,
              "#fb9f3a"
             ],
             [
              0.8888888888888888,
              "#fdca26"
             ],
             [
              1,
              "#f0f921"
             ]
            ],
            "type": "histogram2dcontour"
           }
          ],
          "mesh3d": [
           {
            "colorbar": {
             "outlinewidth": 0,
             "ticks": ""
            },
            "type": "mesh3d"
           }
          ],
          "parcoords": [
           {
            "line": {
             "colorbar": {
              "outlinewidth": 0,
              "ticks": ""
             }
            },
            "type": "parcoords"
           }
          ],
          "pie": [
           {
            "automargin": true,
            "type": "pie"
           }
          ],
          "scatter": [
           {
            "marker": {
             "colorbar": {
              "outlinewidth": 0,
              "ticks": ""
             }
            },
            "type": "scatter"
           }
          ],
          "scatter3d": [
           {
            "line": {
             "colorbar": {
              "outlinewidth": 0,
              "ticks": ""
             }
            },
            "marker": {
             "colorbar": {
              "outlinewidth": 0,
              "ticks": ""
             }
            },
            "type": "scatter3d"
           }
          ],
          "scattercarpet": [
           {
            "marker": {
             "colorbar": {
              "outlinewidth": 0,
              "ticks": ""
             }
            },
            "type": "scattercarpet"
           }
          ],
          "scattergeo": [
           {
            "marker": {
             "colorbar": {
              "outlinewidth": 0,
              "ticks": ""
             }
            },
            "type": "scattergeo"
           }
          ],
          "scattergl": [
           {
            "marker": {
             "colorbar": {
              "outlinewidth": 0,
              "ticks": ""
             }
            },
            "type": "scattergl"
           }
          ],
          "scattermapbox": [
           {
            "marker": {
             "colorbar": {
              "outlinewidth": 0,
              "ticks": ""
             }
            },
            "type": "scattermapbox"
           }
          ],
          "scatterpolar": [
           {
            "marker": {
             "colorbar": {
              "outlinewidth": 0,
              "ticks": ""
             }
            },
            "type": "scatterpolar"
           }
          ],
          "scatterpolargl": [
           {
            "marker": {
             "colorbar": {
              "outlinewidth": 0,
              "ticks": ""
             }
            },
            "type": "scatterpolargl"
           }
          ],
          "scatterternary": [
           {
            "marker": {
             "colorbar": {
              "outlinewidth": 0,
              "ticks": ""
             }
            },
            "type": "scatterternary"
           }
          ],
          "surface": [
           {
            "colorbar": {
             "outlinewidth": 0,
             "ticks": ""
            },
            "colorscale": [
             [
              0,
              "#0d0887"
             ],
             [
              0.1111111111111111,
              "#46039f"
             ],
             [
              0.2222222222222222,
              "#7201a8"
             ],
             [
              0.3333333333333333,
              "#9c179e"
             ],
             [
              0.4444444444444444,
              "#bd3786"
             ],
             [
              0.5555555555555556,
              "#d8576b"
             ],
             [
              0.6666666666666666,
              "#ed7953"
             ],
             [
              0.7777777777777778,
              "#fb9f3a"
             ],
             [
              0.8888888888888888,
              "#fdca26"
             ],
             [
              1,
              "#f0f921"
             ]
            ],
            "type": "surface"
           }
          ],
          "table": [
           {
            "cells": {
             "fill": {
              "color": "#EBF0F8"
             },
             "line": {
              "color": "white"
             }
            },
            "header": {
             "fill": {
              "color": "#C8D4E3"
             },
             "line": {
              "color": "white"
             }
            },
            "type": "table"
           }
          ]
         },
         "layout": {
          "annotationdefaults": {
           "arrowcolor": "#2a3f5f",
           "arrowhead": 0,
           "arrowwidth": 1
          },
          "coloraxis": {
           "colorbar": {
            "outlinewidth": 0,
            "ticks": ""
           }
          },
          "colorscale": {
           "diverging": [
            [
             0,
             "#8e0152"
            ],
            [
             0.1,
             "#c51b7d"
            ],
            [
             0.2,
             "#de77ae"
            ],
            [
             0.3,
             "#f1b6da"
            ],
            [
             0.4,
             "#fde0ef"
            ],
            [
             0.5,
             "#f7f7f7"
            ],
            [
             0.6,
             "#e6f5d0"
            ],
            [
             0.7,
             "#b8e186"
            ],
            [
             0.8,
             "#7fbc41"
            ],
            [
             0.9,
             "#4d9221"
            ],
            [
             1,
             "#276419"
            ]
           ],
           "sequential": [
            [
             0,
             "#0d0887"
            ],
            [
             0.1111111111111111,
             "#46039f"
            ],
            [
             0.2222222222222222,
             "#7201a8"
            ],
            [
             0.3333333333333333,
             "#9c179e"
            ],
            [
             0.4444444444444444,
             "#bd3786"
            ],
            [
             0.5555555555555556,
             "#d8576b"
            ],
            [
             0.6666666666666666,
             "#ed7953"
            ],
            [
             0.7777777777777778,
             "#fb9f3a"
            ],
            [
             0.8888888888888888,
             "#fdca26"
            ],
            [
             1,
             "#f0f921"
            ]
           ],
           "sequentialminus": [
            [
             0,
             "#0d0887"
            ],
            [
             0.1111111111111111,
             "#46039f"
            ],
            [
             0.2222222222222222,
             "#7201a8"
            ],
            [
             0.3333333333333333,
             "#9c179e"
            ],
            [
             0.4444444444444444,
             "#bd3786"
            ],
            [
             0.5555555555555556,
             "#d8576b"
            ],
            [
             0.6666666666666666,
             "#ed7953"
            ],
            [
             0.7777777777777778,
             "#fb9f3a"
            ],
            [
             0.8888888888888888,
             "#fdca26"
            ],
            [
             1,
             "#f0f921"
            ]
           ]
          },
          "colorway": [
           "#636efa",
           "#EF553B",
           "#00cc96",
           "#ab63fa",
           "#FFA15A",
           "#19d3f3",
           "#FF6692",
           "#B6E880",
           "#FF97FF",
           "#FECB52"
          ],
          "font": {
           "color": "#2a3f5f"
          },
          "geo": {
           "bgcolor": "white",
           "lakecolor": "white",
           "landcolor": "#E5ECF6",
           "showlakes": true,
           "showland": true,
           "subunitcolor": "white"
          },
          "hoverlabel": {
           "align": "left"
          },
          "hovermode": "closest",
          "mapbox": {
           "style": "light"
          },
          "paper_bgcolor": "white",
          "plot_bgcolor": "#E5ECF6",
          "polar": {
           "angularaxis": {
            "gridcolor": "white",
            "linecolor": "white",
            "ticks": ""
           },
           "bgcolor": "#E5ECF6",
           "radialaxis": {
            "gridcolor": "white",
            "linecolor": "white",
            "ticks": ""
           }
          },
          "scene": {
           "xaxis": {
            "backgroundcolor": "#E5ECF6",
            "gridcolor": "white",
            "gridwidth": 2,
            "linecolor": "white",
            "showbackground": true,
            "ticks": "",
            "zerolinecolor": "white"
           },
           "yaxis": {
            "backgroundcolor": "#E5ECF6",
            "gridcolor": "white",
            "gridwidth": 2,
            "linecolor": "white",
            "showbackground": true,
            "ticks": "",
            "zerolinecolor": "white"
           },
           "zaxis": {
            "backgroundcolor": "#E5ECF6",
            "gridcolor": "white",
            "gridwidth": 2,
            "linecolor": "white",
            "showbackground": true,
            "ticks": "",
            "zerolinecolor": "white"
           }
          },
          "shapedefaults": {
           "line": {
            "color": "#2a3f5f"
           }
          },
          "ternary": {
           "aaxis": {
            "gridcolor": "white",
            "linecolor": "white",
            "ticks": ""
           },
           "baxis": {
            "gridcolor": "white",
            "linecolor": "white",
            "ticks": ""
           },
           "bgcolor": "#E5ECF6",
           "caxis": {
            "gridcolor": "white",
            "linecolor": "white",
            "ticks": ""
           }
          },
          "title": {
           "x": 0.05
          },
          "xaxis": {
           "automargin": true,
           "gridcolor": "white",
           "linecolor": "white",
           "ticks": "",
           "title": {
            "standoff": 15
           },
           "zerolinecolor": "white",
           "zerolinewidth": 2
          },
          "yaxis": {
           "automargin": true,
           "gridcolor": "white",
           "linecolor": "white",
           "ticks": "",
           "title": {
            "standoff": 15
           },
           "zerolinecolor": "white",
           "zerolinewidth": 2
          }
         }
        },
        "title": {
         "font": {
          "color": "#151516"
         },
         "text": "Major and minor key profiles (Krumhansl & Kessler 1982)"
        },
        "xaxis": {
         "gridcolor": "#F6F6F6",
         "showgrid": true,
         "tickfont": {
          "color": "#666666"
         },
         "title": {
          "font": {
           "color": "#666666"
          },
          "text": "pitch class"
         },
         "zerolinecolor": "#F6F6F6"
        },
        "yaxis": {
         "gridcolor": "#F6F6F6",
         "showgrid": true,
         "tickfont": {
          "color": "#666666"
         },
         "title": {
          "font": {
           "color": "#666666"
          },
          "text": "rating"
         },
         "zerolinecolor": "#F6F6F6"
        }
       }
      },
      "text/html": [
       "<div>\n",
       "        \n",
       "        \n",
       "            <div id=\"2019b4fb-d08c-4050-8ee9-324b78e35d94\" class=\"plotly-graph-div\" style=\"height:525px; width:100%;\"></div>\n",
       "            <script type=\"text/javascript\">\n",
       "                require([\"plotly\"], function(Plotly) {\n",
       "                    window.PLOTLYENV=window.PLOTLYENV || {};\n",
       "                    window.PLOTLYENV.BASE_URL='https://plot.ly';\n",
       "                    \n",
       "                if (document.getElementById(\"2019b4fb-d08c-4050-8ee9-324b78e35d94\")) {\n",
       "                    Plotly.newPlot(\n",
       "                        '2019b4fb-d08c-4050-8ee9-324b78e35d94',\n",
       "                        [{\"line\": {\"color\": \"rgba(226, 74, 51, 1.0)\", \"dash\": \"solid\", \"shape\": \"linear\", \"width\": 1.3}, \"marker\": {\"size\": 12, \"symbol\": \"circle\"}, \"mode\": \"lines+markers\", \"name\": \"major\", \"text\": \"\", \"type\": \"scatter\", \"x\": [\"C\", \"C#/Db\", \"D\", \"D#/Eb\", \"E\", \"F\", \"F#/Gb\", \"G\", \"G#/Ab\", \"A\", \"A#/Bb\", \"B\"], \"y\": [6.2, 2.55, 3.45, 2.85, 4.22, 4.57, 2.67, 5.25, 2.45, 3.35, 2.7, 2.7]}, {\"line\": {\"color\": \"rgba(62, 111, 176, 1.0)\", \"dash\": \"solid\", \"shape\": \"linear\", \"width\": 1.3}, \"marker\": {\"size\": 12, \"symbol\": \"circle\"}, \"mode\": \"lines+markers\", \"name\": \"minor\", \"text\": \"\", \"type\": \"scatter\", \"x\": [\"C\", \"C#/Db\", \"D\", \"D#/Eb\", \"E\", \"F\", \"F#/Gb\", \"G\", \"G#/Ab\", \"A\", \"A#/Bb\", \"B\"], \"y\": [6.03, 3.35, 3.67, 5.28, 2.58, 3.55, 2.87, 4.8, 4.35, 2.67, 2.5, 3.42]}],\n",
       "                        {\"legend\": {\"bgcolor\": \"#FFFFFF\", \"font\": {\"color\": \"#666666\"}}, \"paper_bgcolor\": \"#FFFFFF\", \"plot_bgcolor\": \"#E5E5E5\", \"template\": {\"data\": {\"bar\": [{\"error_x\": {\"color\": \"#2a3f5f\"}, \"error_y\": {\"color\": \"#2a3f5f\"}, \"marker\": {\"line\": {\"color\": \"#E5ECF6\", \"width\": 0.5}}, \"type\": \"bar\"}], \"barpolar\": [{\"marker\": {\"line\": {\"color\": \"#E5ECF6\", \"width\": 0.5}}, \"type\": \"barpolar\"}], \"carpet\": [{\"aaxis\": {\"endlinecolor\": \"#2a3f5f\", \"gridcolor\": \"white\", \"linecolor\": \"white\", \"minorgridcolor\": \"white\", \"startlinecolor\": \"#2a3f5f\"}, \"baxis\": {\"endlinecolor\": \"#2a3f5f\", \"gridcolor\": \"white\", \"linecolor\": \"white\", \"minorgridcolor\": \"white\", \"startlinecolor\": \"#2a3f5f\"}, \"type\": \"carpet\"}], \"choropleth\": [{\"colorbar\": {\"outlinewidth\": 0, \"ticks\": \"\"}, \"type\": \"choropleth\"}], \"contour\": [{\"colorbar\": {\"outlinewidth\": 0, \"ticks\": \"\"}, \"colorscale\": [[0.0, \"#0d0887\"], [0.1111111111111111, \"#46039f\"], [0.2222222222222222, \"#7201a8\"], [0.3333333333333333, \"#9c179e\"], [0.4444444444444444, \"#bd3786\"], [0.5555555555555556, \"#d8576b\"], [0.6666666666666666, \"#ed7953\"], [0.7777777777777778, \"#fb9f3a\"], [0.8888888888888888, \"#fdca26\"], [1.0, \"#f0f921\"]], \"type\": \"contour\"}], \"contourcarpet\": [{\"colorbar\": {\"outlinewidth\": 0, \"ticks\": \"\"}, \"type\": \"contourcarpet\"}], \"heatmap\": [{\"colorbar\": {\"outlinewidth\": 0, \"ticks\": \"\"}, \"colorscale\": [[0.0, \"#0d0887\"], [0.1111111111111111, \"#46039f\"], [0.2222222222222222, \"#7201a8\"], [0.3333333333333333, \"#9c179e\"], [0.4444444444444444, \"#bd3786\"], [0.5555555555555556, \"#d8576b\"], [0.6666666666666666, \"#ed7953\"], [0.7777777777777778, \"#fb9f3a\"], [0.8888888888888888, \"#fdca26\"], [1.0, \"#f0f921\"]], \"type\": \"heatmap\"}], \"heatmapgl\": [{\"colorbar\": {\"outlinewidth\": 0, \"ticks\": \"\"}, \"colorscale\": [[0.0, \"#0d0887\"], [0.1111111111111111, \"#46039f\"], [0.2222222222222222, \"#7201a8\"], [0.3333333333333333, \"#9c179e\"], [0.4444444444444444, \"#bd3786\"], [0.5555555555555556, \"#d8576b\"], [0.6666666666666666, \"#ed7953\"], [0.7777777777777778, \"#fb9f3a\"], [0.8888888888888888, \"#fdca26\"], [1.0, \"#f0f921\"]], \"type\": \"heatmapgl\"}], \"histogram\": [{\"marker\": {\"colorbar\": {\"outlinewidth\": 0, \"ticks\": \"\"}}, \"type\": \"histogram\"}], \"histogram2d\": [{\"colorbar\": {\"outlinewidth\": 0, \"ticks\": \"\"}, \"colorscale\": [[0.0, \"#0d0887\"], [0.1111111111111111, \"#46039f\"], [0.2222222222222222, \"#7201a8\"], [0.3333333333333333, \"#9c179e\"], [0.4444444444444444, \"#bd3786\"], [0.5555555555555556, \"#d8576b\"], [0.6666666666666666, \"#ed7953\"], [0.7777777777777778, \"#fb9f3a\"], [0.8888888888888888, \"#fdca26\"], [1.0, \"#f0f921\"]], \"type\": \"histogram2d\"}], \"histogram2dcontour\": [{\"colorbar\": {\"outlinewidth\": 0, \"ticks\": \"\"}, \"colorscale\": [[0.0, \"#0d0887\"], [0.1111111111111111, \"#46039f\"], [0.2222222222222222, \"#7201a8\"], [0.3333333333333333, \"#9c179e\"], [0.4444444444444444, \"#bd3786\"], [0.5555555555555556, \"#d8576b\"], [0.6666666666666666, \"#ed7953\"], [0.7777777777777778, \"#fb9f3a\"], [0.8888888888888888, \"#fdca26\"], [1.0, \"#f0f921\"]], \"type\": \"histogram2dcontour\"}], \"mesh3d\": [{\"colorbar\": {\"outlinewidth\": 0, \"ticks\": \"\"}, \"type\": \"mesh3d\"}], \"parcoords\": [{\"line\": {\"colorbar\": {\"outlinewidth\": 0, \"ticks\": \"\"}}, \"type\": \"parcoords\"}], \"pie\": [{\"automargin\": true, \"type\": \"pie\"}], \"scatter\": [{\"marker\": {\"colorbar\": {\"outlinewidth\": 0, \"ticks\": \"\"}}, \"type\": \"scatter\"}], \"scatter3d\": [{\"line\": {\"colorbar\": {\"outlinewidth\": 0, \"ticks\": \"\"}}, \"marker\": {\"colorbar\": {\"outlinewidth\": 0, \"ticks\": \"\"}}, \"type\": \"scatter3d\"}], \"scattercarpet\": [{\"marker\": {\"colorbar\": {\"outlinewidth\": 0, \"ticks\": \"\"}}, \"type\": \"scattercarpet\"}], \"scattergeo\": [{\"marker\": {\"colorbar\": {\"outlinewidth\": 0, \"ticks\": \"\"}}, \"type\": \"scattergeo\"}], \"scattergl\": [{\"marker\": {\"colorbar\": {\"outlinewidth\": 0, \"ticks\": \"\"}}, \"type\": \"scattergl\"}], \"scattermapbox\": [{\"marker\": {\"colorbar\": {\"outlinewidth\": 0, \"ticks\": \"\"}}, \"type\": \"scattermapbox\"}], \"scatterpolar\": [{\"marker\": {\"colorbar\": {\"outlinewidth\": 0, \"ticks\": \"\"}}, \"type\": \"scatterpolar\"}], \"scatterpolargl\": [{\"marker\": {\"colorbar\": {\"outlinewidth\": 0, \"ticks\": \"\"}}, \"type\": \"scatterpolargl\"}], \"scatterternary\": [{\"marker\": {\"colorbar\": {\"outlinewidth\": 0, \"ticks\": \"\"}}, \"type\": \"scatterternary\"}], \"surface\": [{\"colorbar\": {\"outlinewidth\": 0, \"ticks\": \"\"}, \"colorscale\": [[0.0, \"#0d0887\"], [0.1111111111111111, \"#46039f\"], [0.2222222222222222, \"#7201a8\"], [0.3333333333333333, \"#9c179e\"], [0.4444444444444444, \"#bd3786\"], [0.5555555555555556, \"#d8576b\"], [0.6666666666666666, \"#ed7953\"], [0.7777777777777778, \"#fb9f3a\"], [0.8888888888888888, \"#fdca26\"], [1.0, \"#f0f921\"]], \"type\": \"surface\"}], \"table\": [{\"cells\": {\"fill\": {\"color\": \"#EBF0F8\"}, \"line\": {\"color\": \"white\"}}, \"header\": {\"fill\": {\"color\": \"#C8D4E3\"}, \"line\": {\"color\": \"white\"}}, \"type\": \"table\"}]}, \"layout\": {\"annotationdefaults\": {\"arrowcolor\": \"#2a3f5f\", \"arrowhead\": 0, \"arrowwidth\": 1}, \"coloraxis\": {\"colorbar\": {\"outlinewidth\": 0, \"ticks\": \"\"}}, \"colorscale\": {\"diverging\": [[0, \"#8e0152\"], [0.1, \"#c51b7d\"], [0.2, \"#de77ae\"], [0.3, \"#f1b6da\"], [0.4, \"#fde0ef\"], [0.5, \"#f7f7f7\"], [0.6, \"#e6f5d0\"], [0.7, \"#b8e186\"], [0.8, \"#7fbc41\"], [0.9, \"#4d9221\"], [1, \"#276419\"]], \"sequential\": [[0.0, \"#0d0887\"], [0.1111111111111111, \"#46039f\"], [0.2222222222222222, \"#7201a8\"], [0.3333333333333333, \"#9c179e\"], [0.4444444444444444, \"#bd3786\"], [0.5555555555555556, \"#d8576b\"], [0.6666666666666666, \"#ed7953\"], [0.7777777777777778, \"#fb9f3a\"], [0.8888888888888888, \"#fdca26\"], [1.0, \"#f0f921\"]], \"sequentialminus\": [[0.0, \"#0d0887\"], [0.1111111111111111, \"#46039f\"], [0.2222222222222222, \"#7201a8\"], [0.3333333333333333, \"#9c179e\"], [0.4444444444444444, \"#bd3786\"], [0.5555555555555556, \"#d8576b\"], [0.6666666666666666, \"#ed7953\"], [0.7777777777777778, \"#fb9f3a\"], [0.8888888888888888, \"#fdca26\"], [1.0, \"#f0f921\"]]}, \"colorway\": [\"#636efa\", \"#EF553B\", \"#00cc96\", \"#ab63fa\", \"#FFA15A\", \"#19d3f3\", \"#FF6692\", \"#B6E880\", \"#FF97FF\", \"#FECB52\"], \"font\": {\"color\": \"#2a3f5f\"}, \"geo\": {\"bgcolor\": \"white\", \"lakecolor\": \"white\", \"landcolor\": \"#E5ECF6\", \"showlakes\": true, \"showland\": true, \"subunitcolor\": \"white\"}, \"hoverlabel\": {\"align\": \"left\"}, \"hovermode\": \"closest\", \"mapbox\": {\"style\": \"light\"}, \"paper_bgcolor\": \"white\", \"plot_bgcolor\": \"#E5ECF6\", \"polar\": {\"angularaxis\": {\"gridcolor\": \"white\", \"linecolor\": \"white\", \"ticks\": \"\"}, \"bgcolor\": \"#E5ECF6\", \"radialaxis\": {\"gridcolor\": \"white\", \"linecolor\": \"white\", \"ticks\": \"\"}}, \"scene\": {\"xaxis\": {\"backgroundcolor\": \"#E5ECF6\", \"gridcolor\": \"white\", \"gridwidth\": 2, \"linecolor\": \"white\", \"showbackground\": true, \"ticks\": \"\", \"zerolinecolor\": \"white\"}, \"yaxis\": {\"backgroundcolor\": \"#E5ECF6\", \"gridcolor\": \"white\", \"gridwidth\": 2, \"linecolor\": \"white\", \"showbackground\": true, \"ticks\": \"\", \"zerolinecolor\": \"white\"}, \"zaxis\": {\"backgroundcolor\": \"#E5ECF6\", \"gridcolor\": \"white\", \"gridwidth\": 2, \"linecolor\": \"white\", \"showbackground\": true, \"ticks\": \"\", \"zerolinecolor\": \"white\"}}, \"shapedefaults\": {\"line\": {\"color\": \"#2a3f5f\"}}, \"ternary\": {\"aaxis\": {\"gridcolor\": \"white\", \"linecolor\": \"white\", \"ticks\": \"\"}, \"baxis\": {\"gridcolor\": \"white\", \"linecolor\": \"white\", \"ticks\": \"\"}, \"bgcolor\": \"#E5ECF6\", \"caxis\": {\"gridcolor\": \"white\", \"linecolor\": \"white\", \"ticks\": \"\"}}, \"title\": {\"x\": 0.05}, \"xaxis\": {\"automargin\": true, \"gridcolor\": \"white\", \"linecolor\": \"white\", \"ticks\": \"\", \"title\": {\"standoff\": 15}, \"zerolinecolor\": \"white\", \"zerolinewidth\": 2}, \"yaxis\": {\"automargin\": true, \"gridcolor\": \"white\", \"linecolor\": \"white\", \"ticks\": \"\", \"title\": {\"standoff\": 15}, \"zerolinecolor\": \"white\", \"zerolinewidth\": 2}}}, \"title\": {\"font\": {\"color\": \"#151516\"}, \"text\": \"Major and minor key profiles (Krumhansl & Kessler 1982)\"}, \"xaxis\": {\"gridcolor\": \"#F6F6F6\", \"showgrid\": true, \"tickfont\": {\"color\": \"#666666\"}, \"title\": {\"font\": {\"color\": \"#666666\"}, \"text\": \"pitch class\"}, \"zerolinecolor\": \"#F6F6F6\"}, \"yaxis\": {\"gridcolor\": \"#F6F6F6\", \"showgrid\": true, \"tickfont\": {\"color\": \"#666666\"}, \"title\": {\"font\": {\"color\": \"#666666\"}, \"text\": \"rating\"}, \"zerolinecolor\": \"#F6F6F6\"}},\n",
       "                        {\"showLink\": true, \"linkText\": \"Export to plot.ly\", \"plotlyServerURL\": \"https://plot.ly\", \"responsive\": true}\n",
       "                    ).then(function(){\n",
       "                            \n",
       "var gd = document.getElementById('2019b4fb-d08c-4050-8ee9-324b78e35d94');\n",
       "var x = new MutationObserver(function (mutations, observer) {{\n",
       "        var display = window.getComputedStyle(gd).display;\n",
       "        if (!display || display === 'none') {{\n",
       "            console.log([gd, 'removed!']);\n",
       "            Plotly.purge(gd);\n",
       "            observer.disconnect();\n",
       "        }}\n",
       "}});\n",
       "\n",
       "// Listen for the removal of the full notebook cells\n",
       "var notebookContainer = gd.closest('#notebook-container');\n",
       "if (notebookContainer) {{\n",
       "    x.observe(notebookContainer, {childList: true});\n",
       "}}\n",
       "\n",
       "// Listen for the clearing of the current output cell\n",
       "var outputEl = gd.closest('.output');\n",
       "if (outputEl) {{\n",
       "    x.observe(outputEl, {childList: true});\n",
       "}}\n",
       "\n",
       "                        })\n",
       "                };\n",
       "                });\n",
       "            </script>\n",
       "        </div>"
      ]
     },
     "metadata": {},
     "output_type": "display_data"
    }
   ],
   "source": [
    "maj_min_key_profiles = pd.DataFrame(np.array([[6.20, 2.55, 3.45, 2.85, 4.22, 4.57, 2.67, 5.25, 2.45, 3.35, 2.70, 2.70],[6.03, 3.35, 3.67, 5.28, 2.58, 3.55, 2.87, 4.80, 4.35, 2.67, 2.50, 3.42]]).transpose(), columns = ['major', 'minor'], index = ['C', 'C#/Db',  'D',  'D#/Eb', 'E','F', 'F#/Gb', 'G','G#/Ab', 'A', 'A#/Bb', 'B']).iplot('scatter', mode = 'lines+markers', title = 'Major and minor key profiles (Krumhansl & Kessler 1982)', xTitle = 'pitch class', yTitle = 'rating')\n",
    "maj_min_key_profiles"
   ]
  },
  {
   "cell_type": "markdown",
   "metadata": {},
   "source": [
    "Any fragment of music consists of a **bag of notes**, i.e. the frequency distribution of notes occurring in the fragment itself. The correlation between the bag of notes and any individual key profile is a proxy to how perceptually close to that key the fragment of music is. Each fragment of music can closely match one key, i.e. sound decidedly *in* that key, based on the corresponding perceptual expectations, or it can be ambiguously equidistant to several keys. \n",
    "\n",
    "[Cf. Krumhansl, C. L. (1990). Cognitive Foundations of Musical Pitch. Oxford University Press.]"
   ]
  },
  {
   "cell_type": "markdown",
   "metadata": {},
   "source": [
    "#### Tracking key\n",
    "\n",
    "It is possible to track the emotional journey of a dance by following the unfolding of keys in the piece, each key corresponding to a different musical colour or shade. Listen to the animated example: can you follow the shifting keys and interpret the trajectories?"
   ]
  },
  {
   "cell_type": "code",
   "execution_count": 240,
   "metadata": {},
   "outputs": [
    {
     "data": {
      "text/html": [
       "<video src=\"data/video/D41TrioN12.mp4\" controls  width=\"800\" >\n",
       "      Your browser does not support the <code>video</code> element.\n",
       "    </video>"
      ],
      "text/plain": [
       "<IPython.core.display.Video object>"
      ]
     },
     "execution_count": 240,
     "metadata": {},
     "output_type": "execute_result"
    }
   ],
   "source": [
    "Video(\"data/video/D41TrioN12.mp4\", width = 800)"
   ]
  },
  {
   "cell_type": "markdown",
   "metadata": {},
   "source": [
    "Now you can explore the emotional path of a few dances of your choice by inspecting the corresponding key trajectories. In some cases, there is one clear dominant key, while there are also moments where several keys compete with each other for tonal primacy, resulting in a more ambiguous and tormented expression."
   ]
  },
  {
   "cell_type": "code",
   "execution_count": 252,
   "metadata": {},
   "outputs": [
    {
     "data": {
      "application/vnd.plotly.v1+json": {
       "config": {
        "plotlyServerURL": "https://plot.ly"
       },
       "data": [
        {
         "mode": "lines",
         "name": "C major",
         "showlegend": true,
         "type": "scatter",
         "visible": true,
         "x": [
          0,
          1,
          2,
          3,
          4,
          5,
          6,
          7,
          8,
          9,
          10,
          11,
          12,
          13,
          14,
          15,
          16
         ],
         "y": [
          0.7819255978651092,
          0.836260164367423,
          0.847786163677065,
          0.847786163677065,
          0.8019526704968168,
          0.7601115840270101,
          0.8035370080638088,
          0.702912884665092,
          0.4740943331813513,
          0.4312347923159552,
          0.5390522672640455,
          0.6656946161393945,
          0.8291430456386503,
          0.8097650477113201,
          0.7984821990136732,
          0.8399368727161335,
          0.840395115315956
         ]
        },
        {
         "mode": "lines",
         "name": "G major",
         "showlegend": true,
         "type": "scatter",
         "visible": true,
         "x": [
          0,
          1,
          2,
          3,
          4,
          5,
          6,
          7,
          8,
          9,
          10,
          11,
          12,
          13,
          14,
          15,
          16
         ],
         "y": [
          0.25233585107702794,
          0.28712277070259445,
          0.31491868309786913,
          0.31491868309786913,
          0.31671901759641696,
          0.26370837193557684,
          0.42105673783854514,
          0.672211769173528,
          0.6608912976158243,
          0.63798133676788,
          0.5894368898980047,
          0.5508195384697596,
          0.4329626027793402,
          0.3929191935903745,
          0.41706874860407706,
          0.4206716423559137,
          0.4895125329745047
         ]
        },
        {
         "mode": "lines",
         "name": "E minor",
         "showlegend": true,
         "type": "scatter",
         "visible": true,
         "x": [
          0,
          1,
          2,
          3,
          4,
          5,
          6,
          7,
          8,
          9,
          10,
          11,
          12,
          13,
          14,
          15,
          16
         ],
         "y": [
          0.6374831455204579,
          0.6156971576353466,
          0.6181608196847279,
          0.6181608196847279,
          0.6738545090078433,
          0.620453030784517,
          0.6652495202310229,
          0.7158891926214904,
          0.6070547311204768,
          0.6055159421256443,
          0.5888216376213526,
          0.6212288346480555,
          0.6594858297262267,
          0.709512952943511,
          0.7311505796370449,
          0.6839268255278331,
          0.6729893390312017
         ]
        },
        {
         "mode": "lines",
         "name": "C major",
         "showlegend": true,
         "type": "scatter",
         "visible": false,
         "x": [
          0,
          1,
          2,
          3,
          4,
          5,
          6,
          7,
          8,
          9,
          10,
          11,
          12,
          13,
          14,
          15,
          16,
          17,
          18,
          19,
          20,
          21,
          22
         ],
         "y": [
          0.9063959564248671,
          0.9241242169563725,
          0.848954071711463,
          0.780852221244481,
          0.5906487756923494,
          0.4628349622040845,
          0.5234073769703073,
          0.482424217444239,
          0.4856823077218663,
          0.5263716365882741,
          0.500151243463919,
          0.6620554201558532,
          0.551565434483053,
          0.6402143284318107,
          0.486418194764524,
          0.7279751909330989,
          0.8699760786186094,
          0.9174782205991044,
          0.7322312982981364,
          0.6150578844455821,
          0.6893528982918353,
          0.9154286592993268,
          0.8859965610629581
         ]
        },
        {
         "mode": "lines",
         "name": "G major",
         "showlegend": true,
         "type": "scatter",
         "visible": false,
         "x": [
          0,
          1,
          2,
          3,
          4,
          5,
          6,
          7,
          8,
          9,
          10,
          11,
          12,
          13,
          14,
          15,
          16,
          17,
          18,
          19,
          20,
          21,
          22
         ],
         "y": [
          0.46883850507387814,
          0.4575754088850553,
          0.5013824158648191,
          0.5587383773577531,
          0.4796995723218844,
          0.4494241713490277,
          0.42838062394328347,
          0.49259188837548123,
          0.5743715809138185,
          0.5704657020609891,
          0.5348820749878102,
          0.47098560058630695,
          0.5165578584034579,
          0.5420929605440827,
          0.5712928798060419,
          0.48992353496339375,
          0.4561256686424998,
          0.42545896026674623,
          0.6009768447071183,
          0.5146916402597576,
          0.42315064550363973,
          0.2940828116307415,
          0.27971950946146185
         ]
        },
        {
         "mode": "lines",
         "name": "G minor",
         "showlegend": true,
         "type": "scatter",
         "visible": false,
         "x": [
          0,
          1,
          2,
          3,
          4,
          5,
          6,
          7,
          8,
          9,
          10,
          11,
          12,
          13,
          14,
          15,
          16,
          17,
          18,
          19,
          20,
          21,
          22
         ],
         "y": [
          0.23958904042333254,
          0.2630419330523536,
          0.29043832671577186,
          0.41231704412216347,
          0.23280291150687116,
          0.3952853167768263,
          0.3803370920657902,
          0.5569309787079239,
          0.48549426071148255,
          0.44141238220477014,
          0.41334603802336073,
          0.37258685954951215,
          0.36208035201214456,
          0.39554978640026695,
          0.4428785039941852,
          0.3600579896162478,
          0.27522123420717814,
          0.2122041425978971,
          0.4232792060220044,
          0.31350177258595774,
          0.3064418611822934,
          0.04774688960469732,
          0.08516657308390027
         ]
        },
        {
         "mode": "lines",
         "name": "E minor",
         "showlegend": true,
         "type": "scatter",
         "visible": false,
         "x": [
          0,
          1,
          2,
          3,
          4,
          5,
          6,
          7,
          8,
          9,
          10,
          11,
          12,
          13,
          14,
          15,
          16,
          17,
          18,
          19,
          20,
          21,
          22
         ],
         "y": [
          0.6701677576583509,
          0.6112400706849576,
          0.7239832876827095,
          0.6379050725655973,
          0.5081863058826389,
          0.40017800891314126,
          0.40981181910136344,
          0.4891770568615952,
          0.482935548597224,
          0.6442557455036952,
          0.5705113457092978,
          0.6184018542375403,
          0.4975654915857996,
          0.6358564334473624,
          0.5829552558223188,
          0.6283948592823737,
          0.5248710739269999,
          0.610765821048047,
          0.6573714849111427,
          0.7513516087499226,
          0.6225998963507056,
          0.5281339144992614,
          0.27076122725239765
         ]
        },
        {
         "mode": "lines",
         "name": "C major",
         "showlegend": true,
         "type": "scatter",
         "visible": false,
         "x": [
          0,
          1,
          2,
          3,
          4,
          5,
          6,
          7,
          8,
          9,
          10,
          11,
          12,
          13,
          14,
          15,
          16
         ],
         "y": [
          0.8739751094513505,
          0.9203445243542665,
          0.9565712247692714,
          0.850679905270687,
          0.6077396831766092,
          0.5400758582313061,
          0.8035018365452893,
          0.8952766382558976,
          0.5938345793642494,
          0.5312752766767399,
          0.520917584544192,
          0.48704061822466255,
          0.5535700655856005,
          0.8206891282889806,
          0.924647443292305,
          0.9451440510731183,
          0.9574376838335859
         ]
        },
        {
         "mode": "lines",
         "name": "C major",
         "showlegend": true,
         "type": "scatter",
         "visible": false,
         "x": [
          0,
          1,
          2,
          3,
          4,
          5,
          6,
          7,
          8,
          9,
          10,
          11,
          12,
          13,
          14,
          15,
          16
         ],
         "y": [
          0.3994287086356371,
          0.4044781835721142,
          0.25881785892089537,
          0.4006086845176135,
          0.3154557087944747,
          0.6054401305245545,
          0.6576346351633416,
          0.8624967049799519,
          0.9108142289617073,
          0.5045454094615466,
          0.640934321091228,
          0.4348903571669619,
          0.46307236929266055,
          0.27714275334695027,
          0.3823177057164766,
          0.28488188614592075,
          0.30293121990790034
         ]
        },
        {
         "mode": "lines",
         "name": "A minor",
         "showlegend": true,
         "type": "scatter",
         "visible": false,
         "x": [
          0,
          1,
          2,
          3,
          4,
          5,
          6,
          7,
          8,
          9,
          10,
          11,
          12,
          13,
          14,
          15,
          16
         ],
         "y": [
          0.6413533455005039,
          0.7501873971502029,
          0.5231808746991543,
          0.7677415625958386,
          0.5496807422802388,
          0.5436889497375841,
          0.322508714026841,
          0.4042462185457068,
          0.43316622555938505,
          -0.15152498214644383,
          0.07177239051367937,
          0.17308979778092948,
          0.6998733094479714,
          0.5479467099393701,
          0.7141502789453075,
          0.7601305423631861,
          0.8900431239021012
         ]
        },
        {
         "mode": "lines",
         "name": "G#/Ab minor",
         "showlegend": true,
         "type": "scatter",
         "visible": false,
         "x": [
          0,
          1,
          2,
          3,
          4,
          5,
          6,
          7,
          8,
          9,
          10,
          11,
          12,
          13,
          14,
          15,
          16
         ],
         "y": [
          0.13701632236932665,
          0.10067922382266106,
          0.1990268923123151,
          0.09745274499056553,
          -0.1388417612965022,
          -0.30523224197742793,
          -0.38684916603000663,
          -0.16256502503718256,
          -0.23801877509858005,
          0.15609069759680586,
          0.1869595084878693,
          0.5432019340047498,
          0.2958055856637946,
          0.3195981762017599,
          0.11289367847640833,
          0.11091288113587078,
          -0.012807256329561145
         ]
        },
        {
         "mode": "lines",
         "name": "C major",
         "showlegend": true,
         "type": "scatter",
         "visible": false,
         "x": [
          0,
          1,
          2,
          3,
          4,
          5,
          6,
          7,
          8,
          9,
          10,
          11,
          12,
          13,
          14,
          15,
          16
         ],
         "y": [
          0.7575015609210537,
          0.7239852167776754,
          0.5611102540140488,
          0.42319184855735337,
          0.6616089427214868,
          0.69853103646453,
          0.5227068349378616,
          0.33107566151796686,
          0.6555079452391428,
          0.6525424897201602,
          0.7667983993660058,
          0.777548092334251,
          0.639345749467785,
          0.6882991652407918,
          0.7044094932002176,
          0.9291307692331923,
          0.8856962601220629
         ]
        },
        {
         "mode": "lines",
         "name": "G major",
         "showlegend": true,
         "type": "scatter",
         "visible": false,
         "x": [
          0,
          1,
          2,
          3,
          4,
          5,
          6,
          7,
          8,
          9,
          10,
          11,
          12,
          13,
          14,
          15,
          16
         ],
         "y": [
          0.5285370823788378,
          0.5437218656079105,
          0.4746192290226592,
          0.4249228844819963,
          0.504201279056098,
          0.5691878673334686,
          0.5878705656690412,
          0.5114388932333968,
          0.5062794749915882,
          -0.055337470180795156,
          0.14872140781025037,
          0.5104493494369962,
          0.5612522955466294,
          0.56171178598973,
          0.42834768327277994,
          0.34549685429792626,
          0.22962548662616353
         ]
        },
        {
         "mode": "lines",
         "name": "G minor",
         "showlegend": true,
         "type": "scatter",
         "visible": false,
         "x": [
          0,
          1,
          2,
          3,
          4,
          5,
          6,
          7,
          8,
          9,
          10,
          11,
          12,
          13,
          14,
          15,
          16
         ],
         "y": [
          0.345598749610013,
          0.4281521434826885,
          0.44425050740020433,
          0.4952992588386718,
          0.4460658700396865,
          0.4252555750430919,
          0.3935672613727742,
          0.39763854119827535,
          0.3766644171480739,
          0.05452964783188528,
          0.12907838886900455,
          0.4000556501370572,
          0.43188282175183274,
          0.40650305628784406,
          0.40945989043423664,
          0.17032070835576277,
          0.16036502269106104
         ]
        },
        {
         "mode": "lines",
         "name": "A minor",
         "showlegend": true,
         "type": "scatter",
         "visible": false,
         "x": [
          0,
          1,
          2,
          3,
          4,
          5,
          6,
          7,
          8,
          9,
          10,
          11,
          12,
          13,
          14,
          15,
          16
         ],
         "y": [
          0.026452159600693127,
          -0.014473977424842148,
          -0.11225012605552465,
          -0.2182076360465789,
          -0.09143564589210913,
          -0.05005544281559771,
          -0.1565359328692273,
          -0.21867175719269386,
          0.13967716722986748,
          0.7133385797716245,
          0.5310115310438477,
          0.08809236419819627,
          -0.13920753098332286,
          -0.07056365577005322,
          -0.05221402829117355,
          0.2532688738795746,
          0.22462407646991073
         ]
        },
        {
         "mode": "lines",
         "name": "B minor",
         "showlegend": true,
         "type": "scatter",
         "visible": false,
         "x": [
          0,
          1,
          2,
          3,
          4,
          5,
          6,
          7,
          8,
          9,
          10,
          11,
          12,
          13,
          14,
          15,
          16
         ],
         "y": [
          -0.056675820921353676,
          0.2033853378884455,
          0.47712528669582355,
          0.46865820999828167,
          0.25838715179297816,
          0.17700581863571946,
          0.4249611784108899,
          0.5132998313818607,
          0.32473298206515594,
          -0.2922240874100943,
          -0.21887822011128405,
          0.16419116856045338,
          0.1332065626694224,
          0.12221318413729891,
          0.1277987005322312,
          0.09433677167425614,
          0.1943184536195846
         ]
        },
        {
         "mode": "lines",
         "name": "C major",
         "showlegend": true,
         "type": "scatter",
         "visible": false,
         "x": [
          0,
          1,
          2,
          3,
          4,
          5,
          6,
          7,
          8,
          9,
          10,
          11,
          12,
          13,
          14,
          15,
          16
         ],
         "y": [
          0.35720073752275733,
          0.6645924227923801,
          0.8754649600215496,
          0.8256565001186584,
          0.6877680522396974,
          0.5634128589162548,
          0.8819249758769181,
          0.9391248629964154,
          0.5300182019625339,
          0.11116495336333965,
          0.30412495969399067,
          0.7253988295335476,
          0.8317657366063661,
          0.850300736748855,
          0.8869451203618899,
          0.9373072408746546,
          0.8466926629161694
         ]
        },
        {
         "mode": "lines",
         "name": "G minor",
         "showlegend": true,
         "type": "scatter",
         "visible": false,
         "x": [
          0,
          1,
          2,
          3,
          4,
          5,
          6,
          7,
          8,
          9,
          10,
          11,
          12,
          13,
          14,
          15,
          16
         ],
         "y": [
          0.5922304442871635,
          0.43604980492547074,
          0.012223468364225653,
          0.04818753952860691,
          0.4165513253695021,
          0.5241030691291332,
          0.34407955668550533,
          0.13555023138695563,
          -0.12062424082402134,
          -0.04674790945692486,
          0.12565288080070264,
          0.268015842914758,
          0.23849667140925623,
          0.11074537211265924,
          0.2634368788261597,
          0.23978345564024792,
          0.33513258521968525
         ]
        },
        {
         "mode": "lines",
         "name": "D minor",
         "showlegend": true,
         "type": "scatter",
         "visible": false,
         "x": [
          0,
          1,
          2,
          3,
          4,
          5,
          6,
          7,
          8,
          9,
          10,
          11,
          12,
          13,
          14,
          15,
          16
         ],
         "y": [
          0.2523611969281549,
          0.09692570737113682,
          -0.10917631364184344,
          -0.21896430907114667,
          0.13827284978584037,
          0.21647701937025265,
          0.03833066174906292,
          -0.14850678573027723,
          -0.017267122620298614,
          0.6330805706347026,
          0.6633359515862409,
          0.469466507565784,
          -0.12776208256119215,
          -0.2881999757336539,
          -0.05784173626311234,
          -0.032721619236810426,
          0.19912348977928498
         ]
        },
        {
         "mode": "lines",
         "name": "A minor",
         "showlegend": true,
         "type": "scatter",
         "visible": false,
         "x": [
          0,
          1,
          2,
          3,
          4,
          5,
          6,
          7,
          8,
          9,
          10,
          11,
          12,
          13,
          14,
          15,
          16
         ],
         "y": [
          -0.33843815383226933,
          -0.08338041184255597,
          0.37410268088417253,
          0.2600316920671804,
          -0.05778774665394097,
          -0.1971246740811775,
          0.12739963372616042,
          0.3756489709177653,
          0.6445756636705169,
          0.5683010596365761,
          0.3455981803702235,
          0.2619661416913204,
          0.06022777236461611,
          0.22850252289941017,
          0.11807102522731094,
          0.2038016264696486,
          0.10202634954706859
         ]
        },
        {
         "mode": "lines",
         "name": "C major",
         "showlegend": true,
         "type": "scatter",
         "visible": false,
         "x": [
          0,
          1,
          2,
          3,
          4,
          5,
          6,
          7,
          8,
          9,
          10,
          11,
          12,
          13,
          14,
          15,
          16,
          17,
          18,
          19,
          20,
          21,
          22,
          23,
          24
         ],
         "y": [
          0.5442900824783536,
          0.7070682126728368,
          0.6003994420288864,
          0.6734978794644673,
          0.609638631984076,
          0.6739632009026387,
          0.46821539375807103,
          0.6354824594084661,
          0.4743802465885438,
          0.7296375643831575,
          0.7321844595569682,
          0.8591584130421701,
          0.45103306657490067,
          0.6367146403081512,
          0.691423335800439,
          0.9036481776964154,
          0.6770950927988658,
          0.5559502606750849,
          0.5255586322027599,
          0.5931012895504932,
          0.552778953102002,
          0.5308586571456021,
          0.564262237246969,
          0.7842676791643496,
          0.8584347731457753
         ]
        },
        {
         "mode": "lines",
         "name": "G major",
         "showlegend": true,
         "type": "scatter",
         "visible": false,
         "x": [
          0,
          1,
          2,
          3,
          4,
          5,
          6,
          7,
          8,
          9,
          10,
          11,
          12,
          13,
          14,
          15,
          16,
          17,
          18,
          19,
          20,
          21,
          22,
          23,
          24
         ],
         "y": [
          0.6372652305321238,
          0.6006819353045234,
          0.5924555317102655,
          0.6079681110847671,
          0.47896520388425873,
          0.32054121573650346,
          -0.07177315714112695,
          0.1804832058626587,
          0.02556958655065611,
          0.2868319346794482,
          0.19387614251685564,
          0.49575380737834185,
          0.3336721698829819,
          0.4085689740620571,
          0.19834078306910996,
          0.4637698595407281,
          0.5765967940073158,
          0.6403391876167043,
          0.4855004506826742,
          0.49998141217444675,
          0.4882759209289074,
          0.6343604059751853,
          0.5329347911504368,
          0.5561174700110536,
          0.48395870609460534
         ]
        },
        {
         "mode": "lines",
         "name": "E minor",
         "showlegend": true,
         "type": "scatter",
         "visible": false,
         "x": [
          0,
          1,
          2,
          3,
          4,
          5,
          6,
          7,
          8,
          9,
          10,
          11,
          12,
          13,
          14,
          15,
          16,
          17,
          18,
          19,
          20,
          21,
          22,
          23,
          24
         ],
         "y": [
          0.6069081417380747,
          0.6490221663550172,
          0.5766820270655992,
          0.6669333550153275,
          0.7690895211668032,
          0.7356742902522814,
          0.5204836963699169,
          0.6644848982463745,
          0.5277484272926258,
          0.2540746078119064,
          0.3078426086539982,
          0.5385562592702177,
          0.4351974416119246,
          0.3587082595426441,
          0.11606444161733145,
          0.358171194161036,
          0.48846785742705445,
          0.6507048599723416,
          0.4484315186868584,
          0.5147680086371578,
          0.44846692537141264,
          0.660830985950022,
          0.4887294647244816,
          0.5990432426976691,
          0.5113712570216067
         ]
        },
        {
         "mode": "lines",
         "name": "B minor",
         "showlegend": true,
         "type": "scatter",
         "visible": false,
         "x": [
          0,
          1,
          2,
          3,
          4,
          5,
          6,
          7,
          8,
          9,
          10,
          11,
          12,
          13,
          14,
          15,
          16,
          17,
          18,
          19,
          20,
          21,
          22,
          23,
          24
         ],
         "y": [
          0.1372549009476729,
          0.16014393372817223,
          0.26360557537622403,
          0.20825659368438992,
          0.1141216505750947,
          -0.02549266317741609,
          -0.10493976714026307,
          -0.03525516726179595,
          0.42573002087044404,
          0.35897054903758696,
          0.3610468701434042,
          0.18848415627293663,
          0.5672373316799332,
          0.45036663784879327,
          0.427832154017415,
          0.0997145900370501,
          0.2821941534247475,
          0.1259785405800267,
          0.1540454301536533,
          0.11734119405209785,
          0.14945701127711977,
          0.11026640318246073,
          0.1437418217694097,
          0.0569732111750879,
          0.06281012235619446
         ]
        },
        {
         "mode": "lines",
         "name": "C#/Db minor",
         "showlegend": true,
         "type": "scatter",
         "visible": false,
         "x": [
          0,
          1,
          2,
          3,
          4,
          5,
          6,
          7,
          8,
          9,
          10,
          11,
          12,
          13,
          14,
          15,
          16,
          17,
          18,
          19,
          20,
          21,
          22,
          23,
          24
         ],
         "y": [
          -0.25245757610541775,
          -0.1914476232643767,
          -0.2563147877622018,
          -0.22090935233512432,
          0.07084351454252155,
          0.29225207461396685,
          0.6007254198276073,
          0.4047703200213079,
          0.2084669866344527,
          -0.31102946052432945,
          -0.1391171931348444,
          -0.18109283715590477,
          -0.2511693348688613,
          -0.37120661089837,
          -0.24452908153897246,
          -0.20241410604065438,
          -0.2798523926020224,
          -0.24313190772307788,
          -0.1516585605449889,
          -0.11154362554536425,
          -0.15142072444270976,
          -0.21290820739911798,
          -0.16754122648965009,
          -0.09336812189283933,
          -0.06101827981148514
         ]
        }
       ],
       "layout": {
        "template": {
         "data": {
          "bar": [
           {
            "error_x": {
             "color": "#2a3f5f"
            },
            "error_y": {
             "color": "#2a3f5f"
            },
            "marker": {
             "line": {
              "color": "#E5ECF6",
              "width": 0.5
             }
            },
            "type": "bar"
           }
          ],
          "barpolar": [
           {
            "marker": {
             "line": {
              "color": "#E5ECF6",
              "width": 0.5
             }
            },
            "type": "barpolar"
           }
          ],
          "carpet": [
           {
            "aaxis": {
             "endlinecolor": "#2a3f5f",
             "gridcolor": "white",
             "linecolor": "white",
             "minorgridcolor": "white",
             "startlinecolor": "#2a3f5f"
            },
            "baxis": {
             "endlinecolor": "#2a3f5f",
             "gridcolor": "white",
             "linecolor": "white",
             "minorgridcolor": "white",
             "startlinecolor": "#2a3f5f"
            },
            "type": "carpet"
           }
          ],
          "choropleth": [
           {
            "colorbar": {
             "outlinewidth": 0,
             "ticks": ""
            },
            "type": "choropleth"
           }
          ],
          "contour": [
           {
            "colorbar": {
             "outlinewidth": 0,
             "ticks": ""
            },
            "colorscale": [
             [
              0,
              "#0d0887"
             ],
             [
              0.1111111111111111,
              "#46039f"
             ],
             [
              0.2222222222222222,
              "#7201a8"
             ],
             [
              0.3333333333333333,
              "#9c179e"
             ],
             [
              0.4444444444444444,
              "#bd3786"
             ],
             [
              0.5555555555555556,
              "#d8576b"
             ],
             [
              0.6666666666666666,
              "#ed7953"
             ],
             [
              0.7777777777777778,
              "#fb9f3a"
             ],
             [
              0.8888888888888888,
              "#fdca26"
             ],
             [
              1,
              "#f0f921"
             ]
            ],
            "type": "contour"
           }
          ],
          "contourcarpet": [
           {
            "colorbar": {
             "outlinewidth": 0,
             "ticks": ""
            },
            "type": "contourcarpet"
           }
          ],
          "heatmap": [
           {
            "colorbar": {
             "outlinewidth": 0,
             "ticks": ""
            },
            "colorscale": [
             [
              0,
              "#0d0887"
             ],
             [
              0.1111111111111111,
              "#46039f"
             ],
             [
              0.2222222222222222,
              "#7201a8"
             ],
             [
              0.3333333333333333,
              "#9c179e"
             ],
             [
              0.4444444444444444,
              "#bd3786"
             ],
             [
              0.5555555555555556,
              "#d8576b"
             ],
             [
              0.6666666666666666,
              "#ed7953"
             ],
             [
              0.7777777777777778,
              "#fb9f3a"
             ],
             [
              0.8888888888888888,
              "#fdca26"
             ],
             [
              1,
              "#f0f921"
             ]
            ],
            "type": "heatmap"
           }
          ],
          "heatmapgl": [
           {
            "colorbar": {
             "outlinewidth": 0,
             "ticks": ""
            },
            "colorscale": [
             [
              0,
              "#0d0887"
             ],
             [
              0.1111111111111111,
              "#46039f"
             ],
             [
              0.2222222222222222,
              "#7201a8"
             ],
             [
              0.3333333333333333,
              "#9c179e"
             ],
             [
              0.4444444444444444,
              "#bd3786"
             ],
             [
              0.5555555555555556,
              "#d8576b"
             ],
             [
              0.6666666666666666,
              "#ed7953"
             ],
             [
              0.7777777777777778,
              "#fb9f3a"
             ],
             [
              0.8888888888888888,
              "#fdca26"
             ],
             [
              1,
              "#f0f921"
             ]
            ],
            "type": "heatmapgl"
           }
          ],
          "histogram": [
           {
            "marker": {
             "colorbar": {
              "outlinewidth": 0,
              "ticks": ""
             }
            },
            "type": "histogram"
           }
          ],
          "histogram2d": [
           {
            "colorbar": {
             "outlinewidth": 0,
             "ticks": ""
            },
            "colorscale": [
             [
              0,
              "#0d0887"
             ],
             [
              0.1111111111111111,
              "#46039f"
             ],
             [
              0.2222222222222222,
              "#7201a8"
             ],
             [
              0.3333333333333333,
              "#9c179e"
             ],
             [
              0.4444444444444444,
              "#bd3786"
             ],
             [
              0.5555555555555556,
              "#d8576b"
             ],
             [
              0.6666666666666666,
              "#ed7953"
             ],
             [
              0.7777777777777778,
              "#fb9f3a"
             ],
             [
              0.8888888888888888,
              "#fdca26"
             ],
             [
              1,
              "#f0f921"
             ]
            ],
            "type": "histogram2d"
           }
          ],
          "histogram2dcontour": [
           {
            "colorbar": {
             "outlinewidth": 0,
             "ticks": ""
            },
            "colorscale": [
             [
              0,
              "#0d0887"
             ],
             [
              0.1111111111111111,
              "#46039f"
             ],
             [
              0.2222222222222222,
              "#7201a8"
             ],
             [
              0.3333333333333333,
              "#9c179e"
             ],
             [
              0.4444444444444444,
              "#bd3786"
             ],
             [
              0.5555555555555556,
              "#d8576b"
             ],
             [
              0.6666666666666666,
              "#ed7953"
             ],
             [
              0.7777777777777778,
              "#fb9f3a"
             ],
             [
              0.8888888888888888,
              "#fdca26"
             ],
             [
              1,
              "#f0f921"
             ]
            ],
            "type": "histogram2dcontour"
           }
          ],
          "mesh3d": [
           {
            "colorbar": {
             "outlinewidth": 0,
             "ticks": ""
            },
            "type": "mesh3d"
           }
          ],
          "parcoords": [
           {
            "line": {
             "colorbar": {
              "outlinewidth": 0,
              "ticks": ""
             }
            },
            "type": "parcoords"
           }
          ],
          "pie": [
           {
            "automargin": true,
            "type": "pie"
           }
          ],
          "scatter": [
           {
            "marker": {
             "colorbar": {
              "outlinewidth": 0,
              "ticks": ""
             }
            },
            "type": "scatter"
           }
          ],
          "scatter3d": [
           {
            "line": {
             "colorbar": {
              "outlinewidth": 0,
              "ticks": ""
             }
            },
            "marker": {
             "colorbar": {
              "outlinewidth": 0,
              "ticks": ""
             }
            },
            "type": "scatter3d"
           }
          ],
          "scattercarpet": [
           {
            "marker": {
             "colorbar": {
              "outlinewidth": 0,
              "ticks": ""
             }
            },
            "type": "scattercarpet"
           }
          ],
          "scattergeo": [
           {
            "marker": {
             "colorbar": {
              "outlinewidth": 0,
              "ticks": ""
             }
            },
            "type": "scattergeo"
           }
          ],
          "scattergl": [
           {
            "marker": {
             "colorbar": {
              "outlinewidth": 0,
              "ticks": ""
             }
            },
            "type": "scattergl"
           }
          ],
          "scattermapbox": [
           {
            "marker": {
             "colorbar": {
              "outlinewidth": 0,
              "ticks": ""
             }
            },
            "type": "scattermapbox"
           }
          ],
          "scatterpolar": [
           {
            "marker": {
             "colorbar": {
              "outlinewidth": 0,
              "ticks": ""
             }
            },
            "type": "scatterpolar"
           }
          ],
          "scatterpolargl": [
           {
            "marker": {
             "colorbar": {
              "outlinewidth": 0,
              "ticks": ""
             }
            },
            "type": "scatterpolargl"
           }
          ],
          "scatterternary": [
           {
            "marker": {
             "colorbar": {
              "outlinewidth": 0,
              "ticks": ""
             }
            },
            "type": "scatterternary"
           }
          ],
          "surface": [
           {
            "colorbar": {
             "outlinewidth": 0,
             "ticks": ""
            },
            "colorscale": [
             [
              0,
              "#0d0887"
             ],
             [
              0.1111111111111111,
              "#46039f"
             ],
             [
              0.2222222222222222,
              "#7201a8"
             ],
             [
              0.3333333333333333,
              "#9c179e"
             ],
             [
              0.4444444444444444,
              "#bd3786"
             ],
             [
              0.5555555555555556,
              "#d8576b"
             ],
             [
              0.6666666666666666,
              "#ed7953"
             ],
             [
              0.7777777777777778,
              "#fb9f3a"
             ],
             [
              0.8888888888888888,
              "#fdca26"
             ],
             [
              1,
              "#f0f921"
             ]
            ],
            "type": "surface"
           }
          ],
          "table": [
           {
            "cells": {
             "fill": {
              "color": "#EBF0F8"
             },
             "line": {
              "color": "white"
             }
            },
            "header": {
             "fill": {
              "color": "#C8D4E3"
             },
             "line": {
              "color": "white"
             }
            },
            "type": "table"
           }
          ]
         },
         "layout": {
          "annotationdefaults": {
           "arrowcolor": "#2a3f5f",
           "arrowhead": 0,
           "arrowwidth": 1
          },
          "coloraxis": {
           "colorbar": {
            "outlinewidth": 0,
            "ticks": ""
           }
          },
          "colorscale": {
           "diverging": [
            [
             0,
             "#8e0152"
            ],
            [
             0.1,
             "#c51b7d"
            ],
            [
             0.2,
             "#de77ae"
            ],
            [
             0.3,
             "#f1b6da"
            ],
            [
             0.4,
             "#fde0ef"
            ],
            [
             0.5,
             "#f7f7f7"
            ],
            [
             0.6,
             "#e6f5d0"
            ],
            [
             0.7,
             "#b8e186"
            ],
            [
             0.8,
             "#7fbc41"
            ],
            [
             0.9,
             "#4d9221"
            ],
            [
             1,
             "#276419"
            ]
           ],
           "sequential": [
            [
             0,
             "#0d0887"
            ],
            [
             0.1111111111111111,
             "#46039f"
            ],
            [
             0.2222222222222222,
             "#7201a8"
            ],
            [
             0.3333333333333333,
             "#9c179e"
            ],
            [
             0.4444444444444444,
             "#bd3786"
            ],
            [
             0.5555555555555556,
             "#d8576b"
            ],
            [
             0.6666666666666666,
             "#ed7953"
            ],
            [
             0.7777777777777778,
             "#fb9f3a"
            ],
            [
             0.8888888888888888,
             "#fdca26"
            ],
            [
             1,
             "#f0f921"
            ]
           ],
           "sequentialminus": [
            [
             0,
             "#0d0887"
            ],
            [
             0.1111111111111111,
             "#46039f"
            ],
            [
             0.2222222222222222,
             "#7201a8"
            ],
            [
             0.3333333333333333,
             "#9c179e"
            ],
            [
             0.4444444444444444,
             "#bd3786"
            ],
            [
             0.5555555555555556,
             "#d8576b"
            ],
            [
             0.6666666666666666,
             "#ed7953"
            ],
            [
             0.7777777777777778,
             "#fb9f3a"
            ],
            [
             0.8888888888888888,
             "#fdca26"
            ],
            [
             1,
             "#f0f921"
            ]
           ]
          },
          "colorway": [
           "#636efa",
           "#EF553B",
           "#00cc96",
           "#ab63fa",
           "#FFA15A",
           "#19d3f3",
           "#FF6692",
           "#B6E880",
           "#FF97FF",
           "#FECB52"
          ],
          "font": {
           "color": "#2a3f5f"
          },
          "geo": {
           "bgcolor": "white",
           "lakecolor": "white",
           "landcolor": "#E5ECF6",
           "showlakes": true,
           "showland": true,
           "subunitcolor": "white"
          },
          "hoverlabel": {
           "align": "left"
          },
          "hovermode": "closest",
          "mapbox": {
           "style": "light"
          },
          "paper_bgcolor": "white",
          "plot_bgcolor": "#E5ECF6",
          "polar": {
           "angularaxis": {
            "gridcolor": "white",
            "linecolor": "white",
            "ticks": ""
           },
           "bgcolor": "#E5ECF6",
           "radialaxis": {
            "gridcolor": "white",
            "linecolor": "white",
            "ticks": ""
           }
          },
          "scene": {
           "xaxis": {
            "backgroundcolor": "#E5ECF6",
            "gridcolor": "white",
            "gridwidth": 2,
            "linecolor": "white",
            "showbackground": true,
            "ticks": "",
            "zerolinecolor": "white"
           },
           "yaxis": {
            "backgroundcolor": "#E5ECF6",
            "gridcolor": "white",
            "gridwidth": 2,
            "linecolor": "white",
            "showbackground": true,
            "ticks": "",
            "zerolinecolor": "white"
           },
           "zaxis": {
            "backgroundcolor": "#E5ECF6",
            "gridcolor": "white",
            "gridwidth": 2,
            "linecolor": "white",
            "showbackground": true,
            "ticks": "",
            "zerolinecolor": "white"
           }
          },
          "shapedefaults": {
           "line": {
            "color": "#2a3f5f"
           }
          },
          "ternary": {
           "aaxis": {
            "gridcolor": "white",
            "linecolor": "white",
            "ticks": ""
           },
           "baxis": {
            "gridcolor": "white",
            "linecolor": "white",
            "ticks": ""
           },
           "bgcolor": "#E5ECF6",
           "caxis": {
            "gridcolor": "white",
            "linecolor": "white",
            "ticks": ""
           }
          },
          "title": {
           "x": 0.05
          },
          "xaxis": {
           "automargin": true,
           "gridcolor": "white",
           "linecolor": "white",
           "ticks": "",
           "title": {
            "standoff": 15
           },
           "zerolinecolor": "white",
           "zerolinewidth": 2
          },
          "yaxis": {
           "automargin": true,
           "gridcolor": "white",
           "linecolor": "white",
           "ticks": "",
           "title": {
            "standoff": 15
           },
           "zerolinecolor": "white",
           "zerolinewidth": 2
          }
         }
        },
        "title": {
         "text": "Key Trajectories"
        },
        "updatemenus": [
         {
          "buttons": [
           {
            "args": [
             {
              "visible": [
               true,
               true,
               true,
               false,
               false,
               false,
               false,
               false,
               false,
               false,
               false,
               false,
               false,
               false,
               false,
               false,
               false,
               false,
               false,
               false,
               false,
               false,
               false,
               false,
               false
              ]
             }
            ],
            "label": "D41 Menuett N. 1",
            "method": "update"
           },
           {
            "args": [
             {
              "visible": [
               false,
               false,
               false,
               true,
               true,
               true,
               true,
               false,
               false,
               false,
               false,
               false,
               false,
               false,
               false,
               false,
               false,
               false,
               false,
               false,
               false,
               false,
               false,
               false,
               false
              ]
             }
            ],
            "label": "D41 Trio N. 1",
            "method": "update"
           },
           {
            "args": [
             {
              "visible": [
               false,
               false,
               false,
               false,
               false,
               false,
               false,
               true,
               false,
               false,
               false,
               false,
               false,
               false,
               false,
               false,
               false,
               false,
               false,
               false,
               false,
               false,
               false,
               false,
               false
              ]
             }
            ],
            "label": "D41 Menuett N. 2",
            "method": "update"
           },
           {
            "args": [
             {
              "visible": [
               false,
               false,
               false,
               false,
               false,
               false,
               false,
               false,
               true,
               true,
               true,
               false,
               false,
               false,
               false,
               false,
               false,
               false,
               false,
               false,
               false,
               false,
               false,
               false,
               false
              ]
             }
            ],
            "label": "D41 Trio N. 12",
            "method": "update"
           },
           {
            "args": [
             {
              "visible": [
               false,
               false,
               false,
               false,
               false,
               false,
               false,
               false,
               false,
               false,
               false,
               true,
               true,
               true,
               true,
               true,
               false,
               false,
               false,
               false,
               false,
               false,
               false,
               false,
               false
              ]
             }
            ],
            "label": "D366 Ländler N. 15",
            "method": "update"
           },
           {
            "args": [
             {
              "visible": [
               false,
               false,
               false,
               false,
               false,
               false,
               false,
               false,
               false,
               false,
               false,
               false,
               false,
               false,
               false,
               false,
               true,
               true,
               true,
               true,
               false,
               false,
               false,
               false,
               false
              ]
             }
            ],
            "label": "D779 Walzer N. 9",
            "method": "update"
           },
           {
            "args": [
             {
              "visible": [
               false,
               false,
               false,
               false,
               false,
               false,
               false,
               false,
               false,
               false,
               false,
               false,
               false,
               false,
               false,
               false,
               false,
               false,
               false,
               false,
               true,
               true,
               true,
               true,
               true
              ]
             }
            ],
            "label": "D969 Walzer N. 8",
            "method": "update"
           }
          ],
          "direction": "down",
          "showactive": true
         }
        ],
        "xaxis": {
         "title": {
          "text": "Bars"
         }
        },
        "yaxis": {
         "autorange": false,
         "range": [
          -0.5,
          1.1
         ],
         "title": {
          "text": "Correlation"
         },
         "zeroline": false
        }
       }
      },
      "text/html": [
       "<div>\n",
       "        \n",
       "        \n",
       "            <div id=\"38ccb520-d2f5-419d-aef4-e972844cd20d\" class=\"plotly-graph-div\" style=\"height:525px; width:100%;\"></div>\n",
       "            <script type=\"text/javascript\">\n",
       "                require([\"plotly\"], function(Plotly) {\n",
       "                    window.PLOTLYENV=window.PLOTLYENV || {};\n",
       "                    \n",
       "                if (document.getElementById(\"38ccb520-d2f5-419d-aef4-e972844cd20d\")) {\n",
       "                    Plotly.newPlot(\n",
       "                        '38ccb520-d2f5-419d-aef4-e972844cd20d',\n",
       "                        [{\"mode\": \"lines\", \"name\": \"C major\", \"showlegend\": true, \"type\": \"scatter\", \"visible\": true, \"x\": [0, 1, 2, 3, 4, 5, 6, 7, 8, 9, 10, 11, 12, 13, 14, 15, 16], \"y\": [0.7819255978651092, 0.836260164367423, 0.847786163677065, 0.847786163677065, 0.8019526704968168, 0.7601115840270101, 0.8035370080638088, 0.702912884665092, 0.4740943331813513, 0.4312347923159552, 0.5390522672640455, 0.6656946161393945, 0.8291430456386503, 0.8097650477113201, 0.7984821990136732, 0.8399368727161335, 0.840395115315956]}, {\"mode\": \"lines\", \"name\": \"G major\", \"showlegend\": true, \"type\": \"scatter\", \"visible\": true, \"x\": [0, 1, 2, 3, 4, 5, 6, 7, 8, 9, 10, 11, 12, 13, 14, 15, 16], \"y\": [0.25233585107702794, 0.28712277070259445, 0.31491868309786913, 0.31491868309786913, 0.31671901759641696, 0.26370837193557684, 0.42105673783854514, 0.672211769173528, 0.6608912976158243, 0.63798133676788, 0.5894368898980047, 0.5508195384697596, 0.4329626027793402, 0.3929191935903745, 0.41706874860407706, 0.4206716423559137, 0.4895125329745047]}, {\"mode\": \"lines\", \"name\": \"E minor\", \"showlegend\": true, \"type\": \"scatter\", \"visible\": true, \"x\": [0, 1, 2, 3, 4, 5, 6, 7, 8, 9, 10, 11, 12, 13, 14, 15, 16], \"y\": [0.6374831455204579, 0.6156971576353466, 0.6181608196847279, 0.6181608196847279, 0.6738545090078433, 0.620453030784517, 0.6652495202310229, 0.7158891926214904, 0.6070547311204768, 0.6055159421256443, 0.5888216376213526, 0.6212288346480555, 0.6594858297262267, 0.709512952943511, 0.7311505796370449, 0.6839268255278331, 0.6729893390312017]}, {\"mode\": \"lines\", \"name\": \"C major\", \"showlegend\": true, \"type\": \"scatter\", \"visible\": false, \"x\": [0, 1, 2, 3, 4, 5, 6, 7, 8, 9, 10, 11, 12, 13, 14, 15, 16, 17, 18, 19, 20, 21, 22], \"y\": [0.9063959564248671, 0.9241242169563725, 0.848954071711463, 0.780852221244481, 0.5906487756923494, 0.4628349622040845, 0.5234073769703073, 0.482424217444239, 0.4856823077218663, 0.5263716365882741, 0.500151243463919, 0.6620554201558532, 0.551565434483053, 0.6402143284318107, 0.486418194764524, 0.7279751909330989, 0.8699760786186094, 0.9174782205991044, 0.7322312982981364, 0.6150578844455821, 0.6893528982918353, 0.9154286592993268, 0.8859965610629581]}, {\"mode\": \"lines\", \"name\": \"G major\", \"showlegend\": true, \"type\": \"scatter\", \"visible\": false, \"x\": [0, 1, 2, 3, 4, 5, 6, 7, 8, 9, 10, 11, 12, 13, 14, 15, 16, 17, 18, 19, 20, 21, 22], \"y\": [0.46883850507387814, 0.4575754088850553, 0.5013824158648191, 0.5587383773577531, 0.4796995723218844, 0.4494241713490277, 0.42838062394328347, 0.49259188837548123, 0.5743715809138185, 0.5704657020609891, 0.5348820749878102, 0.47098560058630695, 0.5165578584034579, 0.5420929605440827, 0.5712928798060419, 0.48992353496339375, 0.4561256686424998, 0.42545896026674623, 0.6009768447071183, 0.5146916402597576, 0.42315064550363973, 0.2940828116307415, 0.27971950946146185]}, {\"mode\": \"lines\", \"name\": \"G minor\", \"showlegend\": true, \"type\": \"scatter\", \"visible\": false, \"x\": [0, 1, 2, 3, 4, 5, 6, 7, 8, 9, 10, 11, 12, 13, 14, 15, 16, 17, 18, 19, 20, 21, 22], \"y\": [0.23958904042333254, 0.2630419330523536, 0.29043832671577186, 0.41231704412216347, 0.23280291150687116, 0.3952853167768263, 0.3803370920657902, 0.5569309787079239, 0.48549426071148255, 0.44141238220477014, 0.41334603802336073, 0.37258685954951215, 0.36208035201214456, 0.39554978640026695, 0.4428785039941852, 0.3600579896162478, 0.27522123420717814, 0.2122041425978971, 0.4232792060220044, 0.31350177258595774, 0.3064418611822934, 0.04774688960469732, 0.08516657308390027]}, {\"mode\": \"lines\", \"name\": \"E minor\", \"showlegend\": true, \"type\": \"scatter\", \"visible\": false, \"x\": [0, 1, 2, 3, 4, 5, 6, 7, 8, 9, 10, 11, 12, 13, 14, 15, 16, 17, 18, 19, 20, 21, 22], \"y\": [0.6701677576583509, 0.6112400706849576, 0.7239832876827095, 0.6379050725655973, 0.5081863058826389, 0.40017800891314126, 0.40981181910136344, 0.4891770568615952, 0.482935548597224, 0.6442557455036952, 0.5705113457092978, 0.6184018542375403, 0.4975654915857996, 0.6358564334473624, 0.5829552558223188, 0.6283948592823737, 0.5248710739269999, 0.610765821048047, 0.6573714849111427, 0.7513516087499226, 0.6225998963507056, 0.5281339144992614, 0.27076122725239765]}, {\"mode\": \"lines\", \"name\": \"C major\", \"showlegend\": true, \"type\": \"scatter\", \"visible\": false, \"x\": [0, 1, 2, 3, 4, 5, 6, 7, 8, 9, 10, 11, 12, 13, 14, 15, 16], \"y\": [0.8739751094513505, 0.9203445243542665, 0.9565712247692714, 0.850679905270687, 0.6077396831766092, 0.5400758582313061, 0.8035018365452893, 0.8952766382558976, 0.5938345793642494, 0.5312752766767399, 0.520917584544192, 0.48704061822466255, 0.5535700655856005, 0.8206891282889806, 0.924647443292305, 0.9451440510731183, 0.9574376838335859]}, {\"mode\": \"lines\", \"name\": \"C major\", \"showlegend\": true, \"type\": \"scatter\", \"visible\": false, \"x\": [0, 1, 2, 3, 4, 5, 6, 7, 8, 9, 10, 11, 12, 13, 14, 15, 16], \"y\": [0.3994287086356371, 0.4044781835721142, 0.25881785892089537, 0.4006086845176135, 0.3154557087944747, 0.6054401305245545, 0.6576346351633416, 0.8624967049799519, 0.9108142289617073, 0.5045454094615466, 0.640934321091228, 0.4348903571669619, 0.46307236929266055, 0.27714275334695027, 0.3823177057164766, 0.28488188614592075, 0.30293121990790034]}, {\"mode\": \"lines\", \"name\": \"A minor\", \"showlegend\": true, \"type\": \"scatter\", \"visible\": false, \"x\": [0, 1, 2, 3, 4, 5, 6, 7, 8, 9, 10, 11, 12, 13, 14, 15, 16], \"y\": [0.6413533455005039, 0.7501873971502029, 0.5231808746991543, 0.7677415625958386, 0.5496807422802388, 0.5436889497375841, 0.322508714026841, 0.4042462185457068, 0.43316622555938505, -0.15152498214644383, 0.07177239051367937, 0.17308979778092948, 0.6998733094479714, 0.5479467099393701, 0.7141502789453075, 0.7601305423631861, 0.8900431239021012]}, {\"mode\": \"lines\", \"name\": \"G#/Ab minor\", \"showlegend\": true, \"type\": \"scatter\", \"visible\": false, \"x\": [0, 1, 2, 3, 4, 5, 6, 7, 8, 9, 10, 11, 12, 13, 14, 15, 16], \"y\": [0.13701632236932665, 0.10067922382266106, 0.1990268923123151, 0.09745274499056553, -0.1388417612965022, -0.30523224197742793, -0.38684916603000663, -0.16256502503718256, -0.23801877509858005, 0.15609069759680586, 0.1869595084878693, 0.5432019340047498, 0.2958055856637946, 0.3195981762017599, 0.11289367847640833, 0.11091288113587078, -0.012807256329561145]}, {\"mode\": \"lines\", \"name\": \"C major\", \"showlegend\": true, \"type\": \"scatter\", \"visible\": false, \"x\": [0, 1, 2, 3, 4, 5, 6, 7, 8, 9, 10, 11, 12, 13, 14, 15, 16], \"y\": [0.7575015609210537, 0.7239852167776754, 0.5611102540140488, 0.42319184855735337, 0.6616089427214868, 0.69853103646453, 0.5227068349378616, 0.33107566151796686, 0.6555079452391428, 0.6525424897201602, 0.7667983993660058, 0.777548092334251, 0.639345749467785, 0.6882991652407918, 0.7044094932002176, 0.9291307692331923, 0.8856962601220629]}, {\"mode\": \"lines\", \"name\": \"G major\", \"showlegend\": true, \"type\": \"scatter\", \"visible\": false, \"x\": [0, 1, 2, 3, 4, 5, 6, 7, 8, 9, 10, 11, 12, 13, 14, 15, 16], \"y\": [0.5285370823788378, 0.5437218656079105, 0.4746192290226592, 0.4249228844819963, 0.504201279056098, 0.5691878673334686, 0.5878705656690412, 0.5114388932333968, 0.5062794749915882, -0.055337470180795156, 0.14872140781025037, 0.5104493494369962, 0.5612522955466294, 0.56171178598973, 0.42834768327277994, 0.34549685429792626, 0.22962548662616353]}, {\"mode\": \"lines\", \"name\": \"G minor\", \"showlegend\": true, \"type\": \"scatter\", \"visible\": false, \"x\": [0, 1, 2, 3, 4, 5, 6, 7, 8, 9, 10, 11, 12, 13, 14, 15, 16], \"y\": [0.345598749610013, 0.4281521434826885, 0.44425050740020433, 0.4952992588386718, 0.4460658700396865, 0.4252555750430919, 0.3935672613727742, 0.39763854119827535, 0.3766644171480739, 0.05452964783188528, 0.12907838886900455, 0.4000556501370572, 0.43188282175183274, 0.40650305628784406, 0.40945989043423664, 0.17032070835576277, 0.16036502269106104]}, {\"mode\": \"lines\", \"name\": \"A minor\", \"showlegend\": true, \"type\": \"scatter\", \"visible\": false, \"x\": [0, 1, 2, 3, 4, 5, 6, 7, 8, 9, 10, 11, 12, 13, 14, 15, 16], \"y\": [0.026452159600693127, -0.014473977424842148, -0.11225012605552465, -0.2182076360465789, -0.09143564589210913, -0.05005544281559771, -0.1565359328692273, -0.21867175719269386, 0.13967716722986748, 0.7133385797716245, 0.5310115310438477, 0.08809236419819627, -0.13920753098332286, -0.07056365577005322, -0.05221402829117355, 0.2532688738795746, 0.22462407646991073]}, {\"mode\": \"lines\", \"name\": \"B minor\", \"showlegend\": true, \"type\": \"scatter\", \"visible\": false, \"x\": [0, 1, 2, 3, 4, 5, 6, 7, 8, 9, 10, 11, 12, 13, 14, 15, 16], \"y\": [-0.056675820921353676, 0.2033853378884455, 0.47712528669582355, 0.46865820999828167, 0.25838715179297816, 0.17700581863571946, 0.4249611784108899, 0.5132998313818607, 0.32473298206515594, -0.2922240874100943, -0.21887822011128405, 0.16419116856045338, 0.1332065626694224, 0.12221318413729891, 0.1277987005322312, 0.09433677167425614, 0.1943184536195846]}, {\"mode\": \"lines\", \"name\": \"C major\", \"showlegend\": true, \"type\": \"scatter\", \"visible\": false, \"x\": [0, 1, 2, 3, 4, 5, 6, 7, 8, 9, 10, 11, 12, 13, 14, 15, 16], \"y\": [0.35720073752275733, 0.6645924227923801, 0.8754649600215496, 0.8256565001186584, 0.6877680522396974, 0.5634128589162548, 0.8819249758769181, 0.9391248629964154, 0.5300182019625339, 0.11116495336333965, 0.30412495969399067, 0.7253988295335476, 0.8317657366063661, 0.850300736748855, 0.8869451203618899, 0.9373072408746546, 0.8466926629161694]}, {\"mode\": \"lines\", \"name\": \"G minor\", \"showlegend\": true, \"type\": \"scatter\", \"visible\": false, \"x\": [0, 1, 2, 3, 4, 5, 6, 7, 8, 9, 10, 11, 12, 13, 14, 15, 16], \"y\": [0.5922304442871635, 0.43604980492547074, 0.012223468364225653, 0.04818753952860691, 0.4165513253695021, 0.5241030691291332, 0.34407955668550533, 0.13555023138695563, -0.12062424082402134, -0.04674790945692486, 0.12565288080070264, 0.268015842914758, 0.23849667140925623, 0.11074537211265924, 0.2634368788261597, 0.23978345564024792, 0.33513258521968525]}, {\"mode\": \"lines\", \"name\": \"D minor\", \"showlegend\": true, \"type\": \"scatter\", \"visible\": false, \"x\": [0, 1, 2, 3, 4, 5, 6, 7, 8, 9, 10, 11, 12, 13, 14, 15, 16], \"y\": [0.2523611969281549, 0.09692570737113682, -0.10917631364184344, -0.21896430907114667, 0.13827284978584037, 0.21647701937025265, 0.03833066174906292, -0.14850678573027723, -0.017267122620298614, 0.6330805706347026, 0.6633359515862409, 0.469466507565784, -0.12776208256119215, -0.2881999757336539, -0.05784173626311234, -0.032721619236810426, 0.19912348977928498]}, {\"mode\": \"lines\", \"name\": \"A minor\", \"showlegend\": true, \"type\": \"scatter\", \"visible\": false, \"x\": [0, 1, 2, 3, 4, 5, 6, 7, 8, 9, 10, 11, 12, 13, 14, 15, 16], \"y\": [-0.33843815383226933, -0.08338041184255597, 0.37410268088417253, 0.2600316920671804, -0.05778774665394097, -0.1971246740811775, 0.12739963372616042, 0.3756489709177653, 0.6445756636705169, 0.5683010596365761, 0.3455981803702235, 0.2619661416913204, 0.06022777236461611, 0.22850252289941017, 0.11807102522731094, 0.2038016264696486, 0.10202634954706859]}, {\"mode\": \"lines\", \"name\": \"C major\", \"showlegend\": true, \"type\": \"scatter\", \"visible\": false, \"x\": [0, 1, 2, 3, 4, 5, 6, 7, 8, 9, 10, 11, 12, 13, 14, 15, 16, 17, 18, 19, 20, 21, 22, 23, 24], \"y\": [0.5442900824783536, 0.7070682126728368, 0.6003994420288864, 0.6734978794644673, 0.609638631984076, 0.6739632009026387, 0.46821539375807103, 0.6354824594084661, 0.4743802465885438, 0.7296375643831575, 0.7321844595569682, 0.8591584130421701, 0.45103306657490067, 0.6367146403081512, 0.691423335800439, 0.9036481776964154, 0.6770950927988658, 0.5559502606750849, 0.5255586322027599, 0.5931012895504932, 0.552778953102002, 0.5308586571456021, 0.564262237246969, 0.7842676791643496, 0.8584347731457753]}, {\"mode\": \"lines\", \"name\": \"G major\", \"showlegend\": true, \"type\": \"scatter\", \"visible\": false, \"x\": [0, 1, 2, 3, 4, 5, 6, 7, 8, 9, 10, 11, 12, 13, 14, 15, 16, 17, 18, 19, 20, 21, 22, 23, 24], \"y\": [0.6372652305321238, 0.6006819353045234, 0.5924555317102655, 0.6079681110847671, 0.47896520388425873, 0.32054121573650346, -0.07177315714112695, 0.1804832058626587, 0.02556958655065611, 0.2868319346794482, 0.19387614251685564, 0.49575380737834185, 0.3336721698829819, 0.4085689740620571, 0.19834078306910996, 0.4637698595407281, 0.5765967940073158, 0.6403391876167043, 0.4855004506826742, 0.49998141217444675, 0.4882759209289074, 0.6343604059751853, 0.5329347911504368, 0.5561174700110536, 0.48395870609460534]}, {\"mode\": \"lines\", \"name\": \"E minor\", \"showlegend\": true, \"type\": \"scatter\", \"visible\": false, \"x\": [0, 1, 2, 3, 4, 5, 6, 7, 8, 9, 10, 11, 12, 13, 14, 15, 16, 17, 18, 19, 20, 21, 22, 23, 24], \"y\": [0.6069081417380747, 0.6490221663550172, 0.5766820270655992, 0.6669333550153275, 0.7690895211668032, 0.7356742902522814, 0.5204836963699169, 0.6644848982463745, 0.5277484272926258, 0.2540746078119064, 0.3078426086539982, 0.5385562592702177, 0.4351974416119246, 0.3587082595426441, 0.11606444161733145, 0.358171194161036, 0.48846785742705445, 0.6507048599723416, 0.4484315186868584, 0.5147680086371578, 0.44846692537141264, 0.660830985950022, 0.4887294647244816, 0.5990432426976691, 0.5113712570216067]}, {\"mode\": \"lines\", \"name\": \"B minor\", \"showlegend\": true, \"type\": \"scatter\", \"visible\": false, \"x\": [0, 1, 2, 3, 4, 5, 6, 7, 8, 9, 10, 11, 12, 13, 14, 15, 16, 17, 18, 19, 20, 21, 22, 23, 24], \"y\": [0.1372549009476729, 0.16014393372817223, 0.26360557537622403, 0.20825659368438992, 0.1141216505750947, -0.02549266317741609, -0.10493976714026307, -0.03525516726179595, 0.42573002087044404, 0.35897054903758696, 0.3610468701434042, 0.18848415627293663, 0.5672373316799332, 0.45036663784879327, 0.427832154017415, 0.0997145900370501, 0.2821941534247475, 0.1259785405800267, 0.1540454301536533, 0.11734119405209785, 0.14945701127711977, 0.11026640318246073, 0.1437418217694097, 0.0569732111750879, 0.06281012235619446]}, {\"mode\": \"lines\", \"name\": \"C#/Db minor\", \"showlegend\": true, \"type\": \"scatter\", \"visible\": false, \"x\": [0, 1, 2, 3, 4, 5, 6, 7, 8, 9, 10, 11, 12, 13, 14, 15, 16, 17, 18, 19, 20, 21, 22, 23, 24], \"y\": [-0.25245757610541775, -0.1914476232643767, -0.2563147877622018, -0.22090935233512432, 0.07084351454252155, 0.29225207461396685, 0.6007254198276073, 0.4047703200213079, 0.2084669866344527, -0.31102946052432945, -0.1391171931348444, -0.18109283715590477, -0.2511693348688613, -0.37120661089837, -0.24452908153897246, -0.20241410604065438, -0.2798523926020224, -0.24313190772307788, -0.1516585605449889, -0.11154362554536425, -0.15142072444270976, -0.21290820739911798, -0.16754122648965009, -0.09336812189283933, -0.06101827981148514]}],\n",
       "                        {\"template\": {\"data\": {\"bar\": [{\"error_x\": {\"color\": \"#2a3f5f\"}, \"error_y\": {\"color\": \"#2a3f5f\"}, \"marker\": {\"line\": {\"color\": \"#E5ECF6\", \"width\": 0.5}}, \"type\": \"bar\"}], \"barpolar\": [{\"marker\": {\"line\": {\"color\": \"#E5ECF6\", \"width\": 0.5}}, \"type\": \"barpolar\"}], \"carpet\": [{\"aaxis\": {\"endlinecolor\": \"#2a3f5f\", \"gridcolor\": \"white\", \"linecolor\": \"white\", \"minorgridcolor\": \"white\", \"startlinecolor\": \"#2a3f5f\"}, \"baxis\": {\"endlinecolor\": \"#2a3f5f\", \"gridcolor\": \"white\", \"linecolor\": \"white\", \"minorgridcolor\": \"white\", \"startlinecolor\": \"#2a3f5f\"}, \"type\": \"carpet\"}], \"choropleth\": [{\"colorbar\": {\"outlinewidth\": 0, \"ticks\": \"\"}, \"type\": \"choropleth\"}], \"contour\": [{\"colorbar\": {\"outlinewidth\": 0, \"ticks\": \"\"}, \"colorscale\": [[0.0, \"#0d0887\"], [0.1111111111111111, \"#46039f\"], [0.2222222222222222, \"#7201a8\"], [0.3333333333333333, \"#9c179e\"], [0.4444444444444444, \"#bd3786\"], [0.5555555555555556, \"#d8576b\"], [0.6666666666666666, \"#ed7953\"], [0.7777777777777778, \"#fb9f3a\"], [0.8888888888888888, \"#fdca26\"], [1.0, \"#f0f921\"]], \"type\": \"contour\"}], \"contourcarpet\": [{\"colorbar\": {\"outlinewidth\": 0, \"ticks\": \"\"}, \"type\": \"contourcarpet\"}], \"heatmap\": [{\"colorbar\": {\"outlinewidth\": 0, \"ticks\": \"\"}, \"colorscale\": [[0.0, \"#0d0887\"], [0.1111111111111111, \"#46039f\"], [0.2222222222222222, \"#7201a8\"], [0.3333333333333333, \"#9c179e\"], [0.4444444444444444, \"#bd3786\"], [0.5555555555555556, \"#d8576b\"], [0.6666666666666666, \"#ed7953\"], [0.7777777777777778, \"#fb9f3a\"], [0.8888888888888888, \"#fdca26\"], [1.0, \"#f0f921\"]], \"type\": \"heatmap\"}], \"heatmapgl\": [{\"colorbar\": {\"outlinewidth\": 0, \"ticks\": \"\"}, \"colorscale\": [[0.0, \"#0d0887\"], [0.1111111111111111, \"#46039f\"], [0.2222222222222222, \"#7201a8\"], [0.3333333333333333, \"#9c179e\"], [0.4444444444444444, \"#bd3786\"], [0.5555555555555556, \"#d8576b\"], [0.6666666666666666, \"#ed7953\"], [0.7777777777777778, \"#fb9f3a\"], [0.8888888888888888, \"#fdca26\"], [1.0, \"#f0f921\"]], \"type\": \"heatmapgl\"}], \"histogram\": [{\"marker\": {\"colorbar\": {\"outlinewidth\": 0, \"ticks\": \"\"}}, \"type\": \"histogram\"}], \"histogram2d\": [{\"colorbar\": {\"outlinewidth\": 0, \"ticks\": \"\"}, \"colorscale\": [[0.0, \"#0d0887\"], [0.1111111111111111, \"#46039f\"], [0.2222222222222222, \"#7201a8\"], [0.3333333333333333, \"#9c179e\"], [0.4444444444444444, \"#bd3786\"], [0.5555555555555556, \"#d8576b\"], [0.6666666666666666, \"#ed7953\"], [0.7777777777777778, \"#fb9f3a\"], [0.8888888888888888, \"#fdca26\"], [1.0, \"#f0f921\"]], \"type\": \"histogram2d\"}], \"histogram2dcontour\": [{\"colorbar\": {\"outlinewidth\": 0, \"ticks\": \"\"}, \"colorscale\": [[0.0, \"#0d0887\"], [0.1111111111111111, \"#46039f\"], [0.2222222222222222, \"#7201a8\"], [0.3333333333333333, \"#9c179e\"], [0.4444444444444444, \"#bd3786\"], [0.5555555555555556, \"#d8576b\"], [0.6666666666666666, \"#ed7953\"], [0.7777777777777778, \"#fb9f3a\"], [0.8888888888888888, \"#fdca26\"], [1.0, \"#f0f921\"]], \"type\": \"histogram2dcontour\"}], \"mesh3d\": [{\"colorbar\": {\"outlinewidth\": 0, \"ticks\": \"\"}, \"type\": \"mesh3d\"}], \"parcoords\": [{\"line\": {\"colorbar\": {\"outlinewidth\": 0, \"ticks\": \"\"}}, \"type\": \"parcoords\"}], \"pie\": [{\"automargin\": true, \"type\": \"pie\"}], \"scatter\": [{\"marker\": {\"colorbar\": {\"outlinewidth\": 0, \"ticks\": \"\"}}, \"type\": \"scatter\"}], \"scatter3d\": [{\"line\": {\"colorbar\": {\"outlinewidth\": 0, \"ticks\": \"\"}}, \"marker\": {\"colorbar\": {\"outlinewidth\": 0, \"ticks\": \"\"}}, \"type\": \"scatter3d\"}], \"scattercarpet\": [{\"marker\": {\"colorbar\": {\"outlinewidth\": 0, \"ticks\": \"\"}}, \"type\": \"scattercarpet\"}], \"scattergeo\": [{\"marker\": {\"colorbar\": {\"outlinewidth\": 0, \"ticks\": \"\"}}, \"type\": \"scattergeo\"}], \"scattergl\": [{\"marker\": {\"colorbar\": {\"outlinewidth\": 0, \"ticks\": \"\"}}, \"type\": \"scattergl\"}], \"scattermapbox\": [{\"marker\": {\"colorbar\": {\"outlinewidth\": 0, \"ticks\": \"\"}}, \"type\": \"scattermapbox\"}], \"scatterpolar\": [{\"marker\": {\"colorbar\": {\"outlinewidth\": 0, \"ticks\": \"\"}}, \"type\": \"scatterpolar\"}], \"scatterpolargl\": [{\"marker\": {\"colorbar\": {\"outlinewidth\": 0, \"ticks\": \"\"}}, \"type\": \"scatterpolargl\"}], \"scatterternary\": [{\"marker\": {\"colorbar\": {\"outlinewidth\": 0, \"ticks\": \"\"}}, \"type\": \"scatterternary\"}], \"surface\": [{\"colorbar\": {\"outlinewidth\": 0, \"ticks\": \"\"}, \"colorscale\": [[0.0, \"#0d0887\"], [0.1111111111111111, \"#46039f\"], [0.2222222222222222, \"#7201a8\"], [0.3333333333333333, \"#9c179e\"], [0.4444444444444444, \"#bd3786\"], [0.5555555555555556, \"#d8576b\"], [0.6666666666666666, \"#ed7953\"], [0.7777777777777778, \"#fb9f3a\"], [0.8888888888888888, \"#fdca26\"], [1.0, \"#f0f921\"]], \"type\": \"surface\"}], \"table\": [{\"cells\": {\"fill\": {\"color\": \"#EBF0F8\"}, \"line\": {\"color\": \"white\"}}, \"header\": {\"fill\": {\"color\": \"#C8D4E3\"}, \"line\": {\"color\": \"white\"}}, \"type\": \"table\"}]}, \"layout\": {\"annotationdefaults\": {\"arrowcolor\": \"#2a3f5f\", \"arrowhead\": 0, \"arrowwidth\": 1}, \"coloraxis\": {\"colorbar\": {\"outlinewidth\": 0, \"ticks\": \"\"}}, \"colorscale\": {\"diverging\": [[0, \"#8e0152\"], [0.1, \"#c51b7d\"], [0.2, \"#de77ae\"], [0.3, \"#f1b6da\"], [0.4, \"#fde0ef\"], [0.5, \"#f7f7f7\"], [0.6, \"#e6f5d0\"], [0.7, \"#b8e186\"], [0.8, \"#7fbc41\"], [0.9, \"#4d9221\"], [1, \"#276419\"]], \"sequential\": [[0.0, \"#0d0887\"], [0.1111111111111111, \"#46039f\"], [0.2222222222222222, \"#7201a8\"], [0.3333333333333333, \"#9c179e\"], [0.4444444444444444, \"#bd3786\"], [0.5555555555555556, \"#d8576b\"], [0.6666666666666666, \"#ed7953\"], [0.7777777777777778, \"#fb9f3a\"], [0.8888888888888888, \"#fdca26\"], [1.0, \"#f0f921\"]], \"sequentialminus\": [[0.0, \"#0d0887\"], [0.1111111111111111, \"#46039f\"], [0.2222222222222222, \"#7201a8\"], [0.3333333333333333, \"#9c179e\"], [0.4444444444444444, \"#bd3786\"], [0.5555555555555556, \"#d8576b\"], [0.6666666666666666, \"#ed7953\"], [0.7777777777777778, \"#fb9f3a\"], [0.8888888888888888, \"#fdca26\"], [1.0, \"#f0f921\"]]}, \"colorway\": [\"#636efa\", \"#EF553B\", \"#00cc96\", \"#ab63fa\", \"#FFA15A\", \"#19d3f3\", \"#FF6692\", \"#B6E880\", \"#FF97FF\", \"#FECB52\"], \"font\": {\"color\": \"#2a3f5f\"}, \"geo\": {\"bgcolor\": \"white\", \"lakecolor\": \"white\", \"landcolor\": \"#E5ECF6\", \"showlakes\": true, \"showland\": true, \"subunitcolor\": \"white\"}, \"hoverlabel\": {\"align\": \"left\"}, \"hovermode\": \"closest\", \"mapbox\": {\"style\": \"light\"}, \"paper_bgcolor\": \"white\", \"plot_bgcolor\": \"#E5ECF6\", \"polar\": {\"angularaxis\": {\"gridcolor\": \"white\", \"linecolor\": \"white\", \"ticks\": \"\"}, \"bgcolor\": \"#E5ECF6\", \"radialaxis\": {\"gridcolor\": \"white\", \"linecolor\": \"white\", \"ticks\": \"\"}}, \"scene\": {\"xaxis\": {\"backgroundcolor\": \"#E5ECF6\", \"gridcolor\": \"white\", \"gridwidth\": 2, \"linecolor\": \"white\", \"showbackground\": true, \"ticks\": \"\", \"zerolinecolor\": \"white\"}, \"yaxis\": {\"backgroundcolor\": \"#E5ECF6\", \"gridcolor\": \"white\", \"gridwidth\": 2, \"linecolor\": \"white\", \"showbackground\": true, \"ticks\": \"\", \"zerolinecolor\": \"white\"}, \"zaxis\": {\"backgroundcolor\": \"#E5ECF6\", \"gridcolor\": \"white\", \"gridwidth\": 2, \"linecolor\": \"white\", \"showbackground\": true, \"ticks\": \"\", \"zerolinecolor\": \"white\"}}, \"shapedefaults\": {\"line\": {\"color\": \"#2a3f5f\"}}, \"ternary\": {\"aaxis\": {\"gridcolor\": \"white\", \"linecolor\": \"white\", \"ticks\": \"\"}, \"baxis\": {\"gridcolor\": \"white\", \"linecolor\": \"white\", \"ticks\": \"\"}, \"bgcolor\": \"#E5ECF6\", \"caxis\": {\"gridcolor\": \"white\", \"linecolor\": \"white\", \"ticks\": \"\"}}, \"title\": {\"x\": 0.05}, \"xaxis\": {\"automargin\": true, \"gridcolor\": \"white\", \"linecolor\": \"white\", \"ticks\": \"\", \"title\": {\"standoff\": 15}, \"zerolinecolor\": \"white\", \"zerolinewidth\": 2}, \"yaxis\": {\"automargin\": true, \"gridcolor\": \"white\", \"linecolor\": \"white\", \"ticks\": \"\", \"title\": {\"standoff\": 15}, \"zerolinecolor\": \"white\", \"zerolinewidth\": 2}}}, \"title\": {\"text\": \"Key Trajectories\"}, \"updatemenus\": [{\"buttons\": [{\"args\": [{\"visible\": [true, true, true, false, false, false, false, false, false, false, false, false, false, false, false, false, false, false, false, false, false, false, false, false, false]}], \"label\": \"D41 Menuett N. 1\", \"method\": \"update\"}, {\"args\": [{\"visible\": [false, false, false, true, true, true, true, false, false, false, false, false, false, false, false, false, false, false, false, false, false, false, false, false, false]}], \"label\": \"D41 Trio N. 1\", \"method\": \"update\"}, {\"args\": [{\"visible\": [false, false, false, false, false, false, false, true, false, false, false, false, false, false, false, false, false, false, false, false, false, false, false, false, false]}], \"label\": \"D41 Menuett N. 2\", \"method\": \"update\"}, {\"args\": [{\"visible\": [false, false, false, false, false, false, false, false, true, true, true, false, false, false, false, false, false, false, false, false, false, false, false, false, false]}], \"label\": \"D41 Trio N. 12\", \"method\": \"update\"}, {\"args\": [{\"visible\": [false, false, false, false, false, false, false, false, false, false, false, true, true, true, true, true, false, false, false, false, false, false, false, false, false]}], \"label\": \"D366 L\\u00e4ndler N. 15\", \"method\": \"update\"}, {\"args\": [{\"visible\": [false, false, false, false, false, false, false, false, false, false, false, false, false, false, false, false, true, true, true, true, false, false, false, false, false]}], \"label\": \"D779 Walzer N. 9\", \"method\": \"update\"}, {\"args\": [{\"visible\": [false, false, false, false, false, false, false, false, false, false, false, false, false, false, false, false, false, false, false, false, true, true, true, true, true]}], \"label\": \"D969 Walzer N. 8\", \"method\": \"update\"}], \"direction\": \"down\", \"showactive\": true}], \"xaxis\": {\"title\": {\"text\": \"Bars\"}}, \"yaxis\": {\"autorange\": false, \"range\": [-0.5, 1.1], \"title\": {\"text\": \"Correlation\"}, \"zeroline\": false}},\n",
       "                        {\"responsive\": true}\n",
       "                    ).then(function(){\n",
       "                            \n",
       "var gd = document.getElementById('38ccb520-d2f5-419d-aef4-e972844cd20d');\n",
       "var x = new MutationObserver(function (mutations, observer) {{\n",
       "        var display = window.getComputedStyle(gd).display;\n",
       "        if (!display || display === 'none') {{\n",
       "            console.log([gd, 'removed!']);\n",
       "            Plotly.purge(gd);\n",
       "            observer.disconnect();\n",
       "        }}\n",
       "}});\n",
       "\n",
       "// Listen for the removal of the full notebook cells\n",
       "var notebookContainer = gd.closest('#notebook-container');\n",
       "if (notebookContainer) {{\n",
       "    x.observe(notebookContainer, {childList: true});\n",
       "}}\n",
       "\n",
       "// Listen for the clearing of the current output cell\n",
       "var outputEl = gd.closest('.output');\n",
       "if (outputEl) {{\n",
       "    x.observe(outputEl, {childList: true});\n",
       "}}\n",
       "\n",
       "                        })\n",
       "                };\n",
       "                });\n",
       "            </script>\n",
       "        </div>"
      ]
     },
     "metadata": {},
     "output_type": "display_data"
    }
   ],
   "source": [
    "with open(os.path.join('data', 'pickle', 'key_trajectory_dict.pkl'), 'rb') as f:\n",
    "    key_traj_dict = pickle.load(f)\n",
    "    \n",
    "# Specifiy the dance IDs that should appear in the dropdown\n",
    "selection = [1, 2, 3, 24, 200, 300, 400]\n",
    "\n",
    "buttons = []\n",
    "lines = []\n",
    "lines_idx_dict = {}\n",
    "counter = 0\n",
    "\n",
    "# Create the lines for all trajectories\n",
    "for idx, dance in enumerate(selection):\n",
    "    counter_before = counter\n",
    "    key_trajectories = key_traj_dict[dance]\n",
    "    if idx == 0:\n",
    "        visible=True\n",
    "    else:\n",
    "        visible=False\n",
    "\n",
    "    for key in key_trajectories:\n",
    "        key_string = str(key[1])+' '+str(key[0])\n",
    "        line = go.Scatter(x=np.arange(len(key_trajectories[key])),\n",
    "                          y=key_trajectories[key].to_list(),\n",
    "                          name=key_string,\n",
    "                          visible=visible,\n",
    "                          mode = 'lines',\n",
    "                          showlegend=True)\n",
    "        \n",
    "        lines.append(line)\n",
    "        counter = counter + 1\n",
    "        \n",
    "    lines_idx_dict[dance] = (counter_before, counter)\n",
    "    \n",
    "# Create the buttons that toggle the visibility\n",
    "for idx, dance in enumerate(selection):\n",
    "    true_false_list = [False] * len(lines)\n",
    "    label = 'D' + str(files.loc[dance]['D']) + ' ' + str(files.loc[dance]['dance']).capitalize() + ' N. ' + str(files.loc[dance]['no'])    \n",
    "    visible_list = true_false_list\n",
    "    \n",
    "    for i in range(lines_idx_dict[dance][0], lines_idx_dict[dance][1]):\n",
    "        true_false_list[i] = True\n",
    "    \n",
    "    button = dict(label=label,\n",
    "                  method='update',\n",
    "                  args=[{'visible': true_false_list}])\n",
    "    buttons.append(button)\n",
    "    \n",
    "updatemenus = [dict(buttons=buttons, direction='down', showactive=True)]\n",
    "\n",
    "layout = go.Layout(\n",
    "    title='Key Trajectories',\n",
    "    updatemenus=updatemenus,\n",
    "    xaxis_title='Bars',\n",
    "    yaxis_title='Correlation',\n",
    "    yaxis=dict(range=[-0.5, 1.1], autorange=False, zeroline=False)\n",
    ")\n",
    "\n",
    "figure = go.Figure(data=lines, layout=layout)\n",
    "figure.show()"
   ]
  },
  {
   "cell_type": "markdown",
   "metadata": {},
   "source": [
    "#### Variety\n",
    "\n",
    "Let us look into some details. Many dances start and end in the same key, but this is by no means a necessity."
   ]
  },
  {
   "cell_type": "code",
   "execution_count": null,
   "metadata": {},
   "outputs": [],
   "source": [
    "start_end_key = pd.DataFrame(files.groupby('dance').start_end_key.value_counts()).rename(columns = {'start_end_key': 'counts' })\n",
    "start_end_key.reset_index(inplace = True)\n",
    "start_end_key['start_end_key'] = list(map(int, start_end_key['start_end_key']))\n",
    "px.bar(start_end_key.reset_index(), x = 'dance', y = 'counts', color = 'start_end_key', barmode = 'stack', title = 'Does the dance start and end in the same key?')\n"
   ]
  },
  {
   "cell_type": "markdown",
   "metadata": {},
   "source": [
    "Dances have a twofold expressive purpose: being simple enough to be enjoyable without dedicated intellectual engagement, while at the same time materialising well-identified moods possibly taken to their extremes and contrasted with one another in sudden, although temporary, emotional clashes. As each key corresponds to an emotional region, how many keys does each dance cross during its journey? A plausible hypothesis is that certain dance-types are more likely to exhibit complex key trajectories than others.\n",
    "\n",
    "Indeed, more than half of the dances do not touch more than three keys, and unsurprisingly the rural Ländler are tendentially more likely to be monolithic in this respect compared to all other dance types."
   ]
  },
  {
   "cell_type": "code",
   "execution_count": null,
   "metadata": {},
   "outputs": [],
   "source": [
    "files[files.dance.isin(classif_dances)].set_index('dance', append=True)\\\n",
    "     .num_keys\\\n",
    "     .unstack(level=1)\\\n",
    "     .iplot('hist', barmode='stack')"
   ]
  },
  {
   "cell_type": "markdown",
   "metadata": {},
   "source": [
    "#### Mode identification\n",
    "\n",
    "According to our  musicological **ground truth** analysis, most dances are in the major mode, consistently with the enjoyable character expected of a dance. "
   ]
  },
  {
   "cell_type": "code",
   "execution_count": null,
   "metadata": {},
   "outputs": [],
   "source": [
    "dances_mode = pd.DataFrame(files.groupby('dance').gt_mode.value_counts())\n",
    "dances_mode.rename(columns = {'gt_mode': 'count'}, inplace = True)\n",
    "dances_mode.reset_index(inplace = True)\n",
    "px.bar(dances_mode, x = 'dance', y = 'count', color = 'gt_mode')"
   ]
  },
  {
   "cell_type": "markdown",
   "metadata": {},
   "source": [
    "How does this musicological classification correspond to the *feel* of the dances themselves? To answer this question, we focus on the first phrase of a piece: the similarity with the major and minor profile determines the coordinates of a “mode space” where each dance occupies a point based on its incipit. "
   ]
  },
  {
   "cell_type": "code",
   "execution_count": null,
   "metadata": {},
   "outputs": [],
   "source": [
    "fig = px.scatter(files, x = 'major', y = 'minor', color = 'gt_mode')\n",
    "fig.update_layout(\n",
    "    title=\"Mood map\",\n",
    "    xaxis_title=\"correlation with major key profile\",\n",
    "    yaxis_title=\"correlation with minor key profile\")\n",
    "fig.add_shape(\n",
    "        # Line Horizontal\n",
    "        go.layout.Shape(\n",
    "            type=\"line\",\n",
    "            x0 = -0.1,\n",
    "            x1 = 1,\n",
    "            y0=-0.1,\n",
    "            y1=1,\n",
    "            line=dict(\n",
    "                color=\"black\",\n",
    "                width=2,\n",
    "                dash=\"dot\",\n",
    "            ),\n",
    "    ))\n",
    "\n",
    "fig.show()"
   ]
  },
  {
   "cell_type": "markdown",
   "metadata": {},
   "source": [
    "The diagonal of this plot sets predominantly positively and predominantly negatively valenced dances apart. The classification provided by this divider is indeed in good agreement with the musicological ground truth (Cohen’s Kappa = 0.847). In other words, the initial mood of a piece is what determines the musical character of the piece as a whole. \n",
    "\n",
    "In particular, we can also compute a coefficient of modal ambiguity for each dance: once again, Ländler stand out as being less likely to be more ambiguous compared to representatives of other dance types. "
   ]
  },
  {
   "cell_type": "code",
   "execution_count": null,
   "metadata": {},
   "outputs": [],
   "source": [
    "files[files.dance.isin(classif_dances)].set_index('dance', append=True)\\\n",
    "     .maj_min_first_abs\\\n",
    "     .unstack(level=1)\\\n",
    "     .iplot('box', title = 'Modal ambiguity', yTitle = '|major correlation - minor correlation|')"
   ]
  },
  {
   "cell_type": "markdown",
   "metadata": {},
   "source": [
    "### Rhythmic patterns"
   ]
  },
  {
   "cell_type": "markdown",
   "metadata": {},
   "source": [
    "#### Characteristic rhythmic patterns\n",
    "\n",
    "The individual rhythmic patterns singled out in Part I might contribute to characterise different dance types. In particular, the rhythmic texture of the left hand, which represents the metrical skeleton of the music, and of the right hand, which usually articulates the melody, might help the classification task. "
   ]
  },
  {
   "cell_type": "markdown",
   "metadata": {},
   "source": [
    "#### Event density\n",
    "\n",
    "A surface-level characterisation of the texture of a dance is how \"crowded\" the music is: i.e., how many notes populate each time interval on average. All dances are somewhat similar in the overall density, but even more relevant for the auditory experience of music is the density of onsets of events, which marks the superficial rhythmic texture. French dances tend to be more dense in this respect."
   ]
  },
  {
   "cell_type": "code",
   "execution_count": null,
   "metadata": {},
   "outputs": [],
   "source": [
    "files[files.dance.isin(classif_dances)].set_index('dance', append=True)\\\n",
    "     .onset_density\\\n",
    "     .unstack(level=1)\\\n",
    "     .iplot('box', xTitle = 'Onset density')"
   ]
  },
  {
   "cell_type": "markdown",
   "metadata": {},
   "source": [
    "#### Downbeat accent\n",
    "\n",
    "Another potentially important feature for a dance is the relationship between the downbeat and the other beats of each bar, as this maps to the typical steps of the corresponding coreography. \n",
    "\n",
    "For example, it may be expected that a dance that is markedly \"in one\" (i.e., with one \"heavy\" step and two lighter ones) such as the spinning walzer might have a higher downbeat vs. offbeat density ratio compared to heavier dances that are markedly \"in three\" (e.g. the Ländler). However, this does not seem to be the case: Ländler have generally not lower downbeat vs. offbeat ratios with respect to Waltzer. This is biased, however, by a notational issue: in the well-known \"oom-pah-pah\" pattern of the Walzer, the first beat in the left hand is usually just one single note, while the second and third beats are chords; it is the performer, in these cases, that modulates the weight of the beats to convey the appropriate metrical feel, which is not reflected in the notation. These exceeds the scope of a score-based approach: especially in this case, music is a tool for social interaction, and much of the music-related knowledge is diffused in the social norms of the group rather than written down in the score.  \n",
    "\n",
    "However, compared to the German dances, French dances have heavier downbeats in terms of overall event density, considering both the events contained in the beats and those strictly happening *on* the beats.\n",
    "\n",
    "On the contrary, if we look at the ratio of onset densities between downbeats and offbeats, Menuets are significantly lower and Ländler asignificantly higher on average than other dances."
   ]
  },
  {
   "cell_type": "code",
   "execution_count": null,
   "metadata": {},
   "outputs": [],
   "source": [
    "fig = go.Figure()\n",
    "\n",
    "# Add Traces\n",
    "for dance in classif_dances:\n",
    "    fig.add_trace(\n",
    "        go.Box( \n",
    "             y= files.set_index('dance', append=True).ratio_downbeat_non_downbeat.unstack(level=1)[dance].dropna().to_list(),\n",
    "               name=dance,\n",
    "             line = dict(color = color_dances[dance])\n",
    "        )\n",
    "    )\n",
    "    \n",
    "for dance in classif_dances:\n",
    "    fig.add_trace(\n",
    "        go.Box( \n",
    "             y= files.set_index('dance', append=True).ratio_downbeat_non_downbeat_onset.unstack(level=1)[dance].dropna().to_list(),\n",
    "               name=dance,\n",
    "            line = dict(color = color_dances[dance])\n",
    "    ))\n",
    "\n",
    "for dance in classif_dances:\n",
    "    fig.add_trace(\n",
    "        go.Box( \n",
    "             y= files.set_index('dance', append=True).ratio_downbeat_non_downbeat_strictly.unstack(level=1)[dance].dropna().to_list(),\n",
    "               name=dance,\n",
    "            line = dict(color = color_dances[dance])\n",
    "    ))\n",
    "\n",
    "\n",
    "fig.update_layout(\n",
    "    updatemenus=[\n",
    "        go.layout.Updatemenu(\n",
    "            active=0,\n",
    "            buttons=list([\n",
    "                dict(label=\"Event density\",\n",
    "                     method=\"update\",\n",
    "                     args=[{\"visible\": [True]*len(classif_dances)+[False]*len(classif_dances)+[False]*len(classif_dances)},\n",
    "                           {\"title\": \"Ratio of downbeat vs. offbeat event density\",\n",
    "                            \"annotations\": []}]),\n",
    "                dict(label=\"Onset density\",\n",
    "                     method=\"update\",\n",
    "                     args=[{\"visible\": [False]*len(classif_dances)+[True]*len(classif_dances)+[False]*len(classif_dances)},\n",
    "                           {\"title\": \"Ratio fo downbeat vs. offbeat onset density\",\n",
    "                            \"annotations\": []}]),\n",
    "                dict(label=\"Strict\",\n",
    "                     method=\"update\",\n",
    "                     args=[{\"visible\": [False]*len(classif_dances)+[False]*len(classif_dances)+[True]*len(classif_dances)},\n",
    "                           {\"title\": \"Ratio of density of strictly downbeat vs. offbeat events\",\n",
    "                            \"annotations\": []}]),\n",
    "               \n",
    "            ]),\n",
    "        )\n",
    "    ])\n",
    "\n",
    "# Set title\n",
    "fig.update_layout(title_text=\"Ratio of downbeat and offbeat events\")\n",
    "\n",
    "fig.show()"
   ]
  },
  {
   "cell_type": "markdown",
   "metadata": {},
   "source": [
    "### Characteristic intervals"
   ]
  },
  {
   "cell_type": "markdown",
   "metadata": {},
   "source": [
    "#### Registral accent\n",
    "\n",
    "A form of accent that is not reflected in the rhythmicality of the music is the *registral* accent, i.e. the abrupt change of height (register) within one voice. It may be hypothesised that this feeature may betray, on a notational level, the bar-by-bar flow typical of some dance types (see, e.g., the prototypical bass line in the example from Walzer D924 no. 1 above). In our case, the Ländler and the Walzer share the feature of having stronger registral accents on average than other dance types. "
   ]
  },
  {
   "cell_type": "code",
   "execution_count": null,
   "metadata": {},
   "outputs": [],
   "source": [
    "files[files.dance.isin(classif_dances)].set_index('dance', append=True)\\\n",
    "     .interval_downbeat_offbeat\\\n",
    "     .unstack(level=1)\\\n",
    "     .iplot('box', title = 'Average ratio of melodic intervals between downbeat and offbeat', yTitle = 'average ratio')"
   ]
  },
  {
   "cell_type": "markdown",
   "metadata": {},
   "source": [
    "#### Sixths and thirds\n",
    "\n",
    "As a final classification feature, we will track the use of peculiar pitch intervals in the various dances: different harmonic intervals correspond to different sonorities, that might be characteristic of certain dances. Intervals of sixth and third, in particular, result to be less frequent in French dances than in German ones."
   ]
  },
  {
   "cell_type": "code",
   "execution_count": null,
   "metadata": {},
   "outputs": [],
   "source": [
    "fig = go.Figure()\n",
    "\n",
    "# Add Traces\n",
    "for dance in classif_dances:\n",
    "    fig.add_trace(\n",
    "        go.Box( \n",
    "             y= files.set_index('dance', append=True).sixths_count.unstack(level=1)[dance].dropna().to_list(),\n",
    "               name=dance,\n",
    "             line = dict(color = color_dances[dance])\n",
    "        )\n",
    "    )\n",
    "    \n",
    "for dance in classif_dances:\n",
    "    fig.add_trace(\n",
    "        go.Box( \n",
    "             y= files.set_index('dance', append=True).thirds_count.unstack(level=1)[dance].dropna().to_list(),\n",
    "               name=dance,\n",
    "            line = dict(color = color_dances[dance])\n",
    "    ))\n",
    "\n",
    "\n",
    "\n",
    "fig.update_layout(\n",
    "    updatemenus=[\n",
    "        go.layout.Updatemenu(\n",
    "            active=None,\n",
    "            buttons=list([\n",
    "                dict(label=\"Sixths\",\n",
    "                     method=\"update\",\n",
    "                     args=[{\"visible\": [True]*len(classif_dances)+[False]*len(classif_dances)+[False]*len(classif_dances)},\n",
    "                           {\"title\": \"Frequency of sixth intervals\",\n",
    "                            \"annotations\": []}]),\n",
    "                dict(label=\"Thirds\",\n",
    "                     method=\"update\",\n",
    "                     args=[{\"visible\": [False]*len(classif_dances)+[True]*len(classif_dances)+[False]*len(classif_dances)},\n",
    "                           {\"title\": \"Frequency of third intervals\",\n",
    "                            \"annotations\": []}]),\n",
    "    \n",
    "               \n",
    "            ]),\n",
    "        )\n",
    "    ])\n",
    "\n",
    "# Set title\n",
    "fig.update_layout(title_text=\"Ratio of downbeat and offbeat events\")\n",
    "\n",
    "fig.show()"
   ]
  },
  {
   "cell_type": "markdown",
   "metadata": {},
   "source": [
    "## Classification: dancing in the forest\n",
    "\n",
    "Although specific biases can be recognised for the different dance types with respect to the features discussed above, this may not be enough to classify individual dances. A data-driven machine-learning approach is precious in this case: our poor computer has never enjoyed the beauty of these short dances, which makes of it the perfect naive candidate to learn their characteristics from scratch. \n",
    "\n",
    "The task is indeed daunting and the fact that a random forest model trained on the features described above achieves a significantly above chance performance (Cohen's Kappa score = 0.46, 95% CI = (0.37,0.55)) is already an interesting fact. Dance types are not only social stereotypes: they are characterised by musical features that can be spotted when listening."
   ]
  },
  {
   "cell_type": "code",
   "execution_count": null,
   "metadata": {},
   "outputs": [],
   "source": [
    "global_confusion = pd.read_csv(os.path.join(data_tsv, 'global_confusion.tsv'), sep='\\t', index_col=0)\n",
    "dance_dict = {'deutscher':0, 'ländler':2, 'menuett':3, 'trio':4, 'walzer':5}\n",
    "dance_list = list(dance_dict.keys())\n",
    "\n",
    "fig = ff.create_annotated_heatmap(z=np.array(global_confusion), x=dance_list, y=dance_list)\n",
    "\n",
    "#fig = go.Figure(data=go.Heatmap(z=cm, x=dance_list, y=dance_list))\n",
    "fig.update_layout(title='Confusion Map For Dance Classification',\n",
    "                  xaxis_title=\"Predicted labels\", yaxis_title=\"True labels\")\n",
    "fig.data[0].update(zmin=0, zmax=1)\n",
    "fig.show()"
   ]
  },
  {
   "cell_type": "markdown",
   "metadata": {},
   "source": [
    "Among all of the features, the following are the most relevant for the classification task: "
   ]
  },
  {
   "cell_type": "code",
   "execution_count": null,
   "metadata": {},
   "outputs": [],
   "source": [
    "feature_ranking = pd.read_csv(os.path.join(data_tsv, 'feature_ranking.tsv'), sep='\\t', index_col=0)\n",
    "top_features = feature_ranking[feature_ranking.importance >.02]\n",
    "fig = go.Figure()\n",
    "fig.add_trace(go.Bar(\n",
    "    name='Feature importance: top 20',\n",
    "    x=top_features.index, y=top_features.importance,\n",
    "    error_y=dict(type='data', array=top_features.CI)\n",
    "))\n",
    "\n",
    "fig.update_layout(barmode='group', yaxis_title = 'Feature importance')\n",
    "fig.show()"
   ]
  },
  {
   "cell_type": "markdown",
   "metadata": {},
   "source": [
    "The various forms of metrical accent appear to be particularly informative in distinguishing the various dance types. A few of the rhithmic patterns are also important cues that should help the listener to recognise dance types: the left hand and right hand versions of the \"oom-pah-pah\" are, unsurprisingly, among these, as well as the uniform eigth-notes rhythm. Among the top ranking features we also find the rhythmic texture (onset density) and various forms of complexity (entropies).  \n",
    "\n",
    "Interestingly, among the German dances, Ländler are the most peculiar: it is less likely for other dance types to be mistaken for Ländler. The different taste that is addressed by the Ländler genre, with its strong folk and rural references, is thus reflected in the compositional features we have analysed. \n",
    "\n",
    "The few top-ranking features shown above are successful in unearthing some structure in the dancing fog of this corpus."
   ]
  },
  {
   "cell_type": "code",
   "execution_count": null,
   "metadata": {},
   "outputs": [],
   "source": [
    "tsne_coord = pd.read_csv(os.path.join(data_tsv, 'tsne.tsv'), sep='\\t', index_col=0)\n",
    "px.scatter(tsne_coord, x = 'TSNE1', y = 'TSNE2', color = 'dance', title = 't-SNE scatter plot')\n"
   ]
  },
  {
   "cell_type": "markdown",
   "metadata": {},
   "source": [
    "The unsupervised spatialization of dances induced by our top-ranking features shows the segregation of the French, towards the top-left corner, and German dances, towards the bottom-right one. Indeed, these features contain enough information to recognise at least the cultural model that conventionally inspires the character of each dance, be it the noble Versailles court or the rural Austrian countryside.   "
   ]
  },
  {
   "cell_type": "code",
   "execution_count": null,
   "metadata": {},
   "outputs": [],
   "source": [
    "national_classif = pd.read_csv(os.path.join(data_tsv, 'cm_national.tsv'), sep='\\t', index_col=0)\n",
    "\n",
    "fig = ff.create_annotated_heatmap(z=np.array(national_classif), x=['french', 'german'], y=['french', 'german'])\n",
    "fig.update_layout(title='Confusion Map For Dance Classification',\n",
    "                  xaxis_title=\"Predicted labels\", yaxis_title=\"True labels\")\n",
    "fig"
   ]
  },
  {
   "cell_type": "markdown",
   "metadata": {},
   "source": [
    "## Can you do better?"
   ]
  },
  {
   "cell_type": "markdown",
   "metadata": {},
   "source": [
    "Clearly, the performance of the model is not ideal: it could hardly be otherwise, since the variety within each dance type is so high that one can only recognise minor trends. This should not be surprising, though: even for a trained musician, with implicit access to many more features than the ones we considered here and, more importantly, with appropriate means to prioritize among them, it is very hard to distinguish dance types. The performance of the model should then be gauged against the intrinsic difficulty of the task: do you think you can you do better? Here is a small game to test your classifying skills!"
   ]
  },
  {
   "cell_type": "code",
   "execution_count": null,
   "metadata": {},
   "outputs": [],
   "source": [
    "%%HTML\n",
    "<span id=\"round\"> Round 1/5 </span> <p>\n",
    "\n",
    "<button type=\"button\" onclick=\"dancePlay()\">Play</button>\n",
    "<button tyle=\"button\" onclick=\"dancePause()\">Pause</button> <p>\n",
    "<audio id=\"dance\">\n",
    "<source type=\"audio/mpeg\" />\n",
    "</audio>\n",
    "\n",
    "<span> Guess the dance type: </span> </br>\n",
    "    \n",
    "<select id=\"dropdown\">\n",
    "    <option value=\"default\">Choose...</option>\n",
    "    <option value=\"deutscher\">Deutsche</option>\n",
    "    <option value=\"ländler\">Ländler</option>\n",
    "    <option value=\"walzer\">Waltz</option>\n",
    "    <option value=\"menuett\">Menuet</option>\n",
    "    <option value=\"trio\">Trio</option>\n",
    "    <option value=\"ecossaise\">Ecossaise</option>\n",
    "</select>\n",
    "\n",
    "<button style=\"button\" onclick=\"select()\">Select</button> <p>\n",
    "<span id=\"answer\"> </span> <p>\n",
    "<button id='nextRound' style=\"button\" onclick=\"nextRound()\">Next round</button>\n",
    "<button id='playAgain' style=\"button\" onclick=\"reset()\">Play again</button> <p> \n",
    "\n",
    "</center>\n",
    "<script src='quiz.js'>\n",
    "\n",
    "</script>"
   ]
  },
  {
   "cell_type": "markdown",
   "metadata": {},
   "source": [
    "This music, that a couple of centuries ago represented the essence of simplicity, is to our ears somewhat obscure. It hides a code of social practices, class ambitions, shy or audacious sexuality. Learning the keys to crack this code would allow us to feel familiar with the inhabitants of a distant age in the most natural way: dancing together."
   ]
  },
  {
   "cell_type": "code",
   "execution_count": null,
   "metadata": {},
   "outputs": [],
   "source": []
  }
 ],
 "metadata": {
  "@webio": {
   "lastCommId": null,
   "lastKernelId": null
  },
  "kernelspec": {
   "display_name": "Python 3",
   "language": "python",
   "name": "python3"
  },
  "language_info": {
   "codemirror_mode": {
    "name": "ipython",
    "version": 3
   },
   "file_extension": ".py",
   "mimetype": "text/x-python",
   "name": "python",
   "nbconvert_exporter": "python",
   "pygments_lexer": "ipython3",
   "version": "3.7.3"
  },
  "toc": {
   "base_numbering": 1,
   "nav_menu": {},
   "number_sections": true,
   "sideBar": true,
   "skip_h1_title": false,
   "title_cell": "Analyzing a Corpus of Sheet Music",
   "title_sidebar": "Contents",
   "toc_cell": true,
   "toc_position": {},
   "toc_section_display": true,
   "toc_window_display": true
  }
 },
 "nbformat": 4,
 "nbformat_minor": 2
}
