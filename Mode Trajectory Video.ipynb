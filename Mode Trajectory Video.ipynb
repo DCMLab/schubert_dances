{
 "cells": [
  {
   "cell_type": "code",
   "execution_count": 63,
   "metadata": {},
   "outputs": [],
   "source": [
    "import pandas as pd\n",
    "import pickle\n",
    "import numpy as np\n",
    "import itertools\n",
    "from scipy import stats \n",
    "import plotly.graph_objects as go"
   ]
  },
  {
   "cell_type": "code",
   "execution_count": 41,
   "metadata": {},
   "outputs": [],
   "source": [
    "with open('note_list.pkl', 'rb') as f:\n",
    "    note_list = pickle.load(f)\n",
    "with open('note_list_transposed.pkl', 'rb') as f:\n",
    "    note_list_transposed = pickle.load(f)\n",
    "with open('measure_list.pkl', 'rb') as f:\n",
    "    measure_list = pickle.load(f)"
   ]
  },
  {
   "cell_type": "code",
   "execution_count": 42,
   "metadata": {},
   "outputs": [],
   "source": [
    "def KK(mode, transposition):\n",
    "    \"\"\"Krumhansl and Kessler (1982) key profiles for major and minor modes\"\"\"\n",
    "    \n",
    "    major = [6.20, 2.55, 3.45, 2.85, 4.22, 4.57, 2.67, 5.25, 2.45, 3.35, 2.70, 2.70]\n",
    "    minor = [6.03, 3.35, 3.67, 5.28, 2.58, 3.55, 2.87, 4.80, 4.35, 2.67, 2.50, 3.42]\n",
    "    \n",
    "    major_by_fifths = [None] * len(major)\n",
    "    minor_by_fifths = [None] * len(minor)\n",
    "    \n",
    "    #reorder by fifths\n",
    "    for i in range(len(major)):\n",
    "        major_by_fifths[(i*7)%12] = major[i]\n",
    "        minor_by_fifths[((i*7)+3)%12] = minor[i]\n",
    "    \n",
    "    #major = list(map(lambda x: x/sum(major), major))\n",
    "    #minor = list(map(lambda x: x/sum(minor), minor))\n",
    "    \n",
    "    if mode == 0:   \n",
    "        return major_by_fifths[-transposition:]+major[:-transposition]\n",
    "    elif mode == 1:\n",
    "        return minor_by_fifths[-transposition:]+minor[:-transposition]\n",
    "    else:\n",
    "        print('0 = major, 1 = minor')"
   ]
  },
  {
   "cell_type": "code",
   "execution_count": 43,
   "metadata": {},
   "outputs": [],
   "source": [
    "def bag_of_notes(df, tpc='tpc'):\n",
    "    \"\"\"Input: DataFrame including the columns ['tpc', 'duration'].\n",
    "    Output: Note distribution.\"\"\"\n",
    "    tpcs = df.tpc\n",
    "    occurring = np.sort(tpcs.unique())\n",
    "    bag = pd.DataFrame(index=occurring, columns=['count_a', 'count_n', 'duration_a', 'duration_n'])\n",
    "    GB = df.groupby('tpc')\n",
    "    bag.count_a = GB.size()\n",
    "    bag.count_n = bag.count_a / bag.count_a.sum()\n",
    "    bag.duration_a = GB['duration'].sum().astype(float)\n",
    "    bag.duration_n = (bag.duration_a / bag.duration_a.sum()).astype(float)\n",
    "    if tpc != 'tpc':\n",
    "        names = tpc.split('+')\n",
    "        note_names = []\n",
    "        for n in names:\n",
    "            if n == 'tpc':\n",
    "                note_names.append(occurring)\n",
    "            elif n == 'name':\n",
    "                note_names.append(tpc2name(occurring))\n",
    "            elif n == 'degree':\n",
    "                note_names.append(tpc2rn(occurring))\n",
    "            elif n == 'pc':\n",
    "                note_names.append(tpc2pc(occurring))\n",
    "            else:\n",
    "                logging.warning(\"Parameter tpc can only be {'tpc', 'name', 'degree', 'pc'} or a combination such as 'tpc+pc' or 'name+degree+tpc'.\")\n",
    "        L = len(note_names)\n",
    "        if L == 0:\n",
    "            note_names.append(bag.index)\n",
    "            L = 1\n",
    "        if L == 1:\n",
    "            bag.index = note_names[0]\n",
    "        else:\n",
    "            bag.index = [f\"{t[0]} ({', '.join(str(e) for e in t[1:])})\" for t in zip(*note_names)]\n",
    "    return bag"
   ]
  },
  {
   "cell_type": "code",
   "execution_count": 58,
   "metadata": {},
   "outputs": [],
   "source": [
    "def key_slider(dance, m):\n",
    "    '''Returns the correlation with major and minor key profiles in a 2-measures window starting at m'''\n",
    "    window = (note_list_transposed.mc >= m) & (note_list_transposed.mc <= m+2)\n",
    "    bag = bag_of_notes(note_list_transposed[window].loc[dance], 'tpc')\n",
    "    \n",
    "    key_profile = pd.DataFrame(index = list(range(12)), columns = ['profile']).fillna(0)\n",
    "    for i in bag.index:\n",
    "        key_profile.loc[i] = bag.duration_n.loc[i]\n",
    "        \n",
    "    temp = pd.Series(list(itertools.product([0,1], range(12))), index = pd.MultiIndex.from_product([['major', 'minor'], ['C', 'G',  'D',  'A', 'E','B', 'F#/Gb', 'C#/Db','G#/Ab', 'D#/Eb', 'A#/Bb', 'F']]))\n",
    "    temp = temp.apply(lambda x: KK(x[0], x[1]-3*x[0]))\n",
    "    temp = temp.apply(lambda x: stats.pearsonr(key_profile.profile, x)[0])\n",
    "    \n",
    "    \n",
    "    return temp"
   ]
  },
  {
   "cell_type": "code",
   "execution_count": 59,
   "metadata": {},
   "outputs": [],
   "source": [
    "def key_trajectory(dance):\n",
    "    local_max = []\n",
    "    trajectory = pd.DataFrame()\n",
    "    \n",
    "    for i in range(len(measure_list.loc[dance])-1):\n",
    "        keys = key_slider(dance,i).copy()\n",
    "        trajectory = pd.concat([trajectory, keys], axis = 1, ignore_index = True)\n",
    "        local_max += [keys.idxmax()]\n",
    "    \n",
    "    return [trajectory, set(local_max)]"
   ]
  },
  {
   "cell_type": "code",
   "execution_count": 104,
   "metadata": {},
   "outputs": [],
   "source": [
    "def key_traj_interactive(dance, speed=0.5, xlabel='Bars', ylabel='Correlation', title='Key Correlations'):    \n",
    "    \"\"\" Plots key trajectories and an animated position marker as vertical line\n",
    "\n",
    "    Args:\n",
    "        dance: Index of the dance to plot\n",
    "        speed: Speed of the marker (bars per animation frame)\n",
    "        xlabel: Label of the x-axis\n",
    "        ylabel: Label of the y-axis\n",
    "        title: Plot title\n",
    "\n",
    "    \"\"\"\n",
    "\n",
    "\n",
    "    key_trajectories = key_trajectory(dance)[0][key_trajectory(dance)[0].index.isin(key_trajectory(dance)[1])].transpose()\n",
    "\n",
    "    # Define the colors of the trajectories\n",
    "    colors = ['#1f77b4', '#ff7f0e', '#2ca02c', '#d62728', '#9467bd',\n",
    "              '#8c564b', '#e377c2', '#7f7f7f', '#bcbd22', '#17becf']\n",
    "    maj_colors = ['#1a5276 ', ' #2e86c1 ', ' #7fb3d5 ', ' #154360 ']\n",
    "    min_colors = ['#FF0010', ' #e74c3c  ', ' #7b241c ', ' #d98880 ']\n",
    "\n",
    "    n_bars = key_trajectories.shape[0]\n",
    "    bars = list(range(n_bars))\n",
    "    data = []\n",
    "\n",
    "    # Plot the permanent data \n",
    "    for idx, key in enumerate(key_trajectories):\n",
    "        if 'minor' in key:\n",
    "            color = min_colors[idx%len(colors)]\n",
    "        else:\n",
    "            color = maj_colors[idx%len(colors)]\n",
    "        key_graph1=go.Scatter(x=bars, y=key_trajectories[key],\n",
    "                              mode=\"lines\",\n",
    "                              showlegend=False,\n",
    "                              line=dict(color=color))\n",
    "        key_graph2=go.Scatter(x=bars, y=key_trajectories[key],\n",
    "                              name=str(key[1])+' '+str(key[0]),\n",
    "                              mode=\"lines\",\n",
    "                              line=dict(color=color))\n",
    "        data.append(key_graph1)\n",
    "        data.append(key_graph2)\n",
    "\n",
    "    # Define the buttons\n",
    "    updatemenus = [dict(buttons=[dict(args=[None, \n",
    "                                            dict(frame=dict(duration=500, redraw=False),\n",
    "                                                 fromcurrent=True,\n",
    "                                                 transition=dict(duration=3000, easing='quadratic-in-out'))],\n",
    "                                      label='Play',\n",
    "                                      method='animate'),\n",
    "                                 dict(args=[[None],\n",
    "                                            dict(frame=dict(duration=0, redraw=False),\n",
    "                                                 mode='immediate',\n",
    "                                                 transition=dict(duration=0))],\n",
    "                                          label='Pause',\n",
    "                                          method='animate')],\n",
    "                        type='buttons')]\n",
    "\n",
    "    #Create the moving frames(i.e. the vertical line that moves from left to right)\n",
    "    bar_axis = np.arange(0, n_bars, speed)\n",
    "\n",
    "    frames=[go.Frame(\n",
    "            data=[go.Scatter(\n",
    "                x=[bar_axis[k], bar_axis[k]],\n",
    "                y=[-2, 2],\n",
    "                mode=\"lines\",\n",
    "                line=dict(color=\"black\", width=2))\n",
    "            ]) for k in range(len(bar_axis))]\n",
    "\n",
    "    # Define the layout of the plot\n",
    "    layout=go.Layout(width=950, height=600,\n",
    "                     xaxis=dict(range=[0, max(bars)], autorange=False, zeroline=False),\n",
    "                     yaxis=dict(range=[-0.4, 1], autorange=False, zeroline=False),\n",
    "                     xaxis_title=xlabel,\n",
    "                     yaxis_title=ylabel,\n",
    "                     title=title,\n",
    "                     hovermode=\"closest\",\n",
    "                     updatemenus=updatemenus)\n",
    "\n",
    "    # Create figure\n",
    "    fig = go.Figure(data, layout, frames)\n",
    "    fig.show()"
   ]
  },
  {
   "cell_type": "code",
   "execution_count": 107,
   "metadata": {
    "scrolled": false
   },
   "outputs": [
    {
     "data": {
      "application/vnd.plotly.v1+json": {
       "config": {
        "plotlyServerURL": "https://plot.ly"
       },
       "data": [
        {
         "line": {
          "color": "#1a5276 "
         },
         "mode": "lines",
         "showlegend": false,
         "type": "scatter",
         "x": [
          0,
          1,
          2,
          3,
          4,
          5,
          6,
          7,
          8,
          9,
          10,
          11,
          12,
          13,
          14,
          15,
          16
         ],
         "y": [
          0.3994287086356371,
          0.4044781835721142,
          0.25881785892089537,
          0.4006086845176135,
          0.3154557087944747,
          0.6054401305245545,
          0.6576346351633416,
          0.8624967049799519,
          0.9108142289617073,
          0.5045454094615466,
          0.640934321091228,
          0.4348903571669619,
          0.46307236929266055,
          0.27714275334695027,
          0.3823177057164766,
          0.28488188614592075,
          0.30293121990790034
         ]
        },
        {
         "line": {
          "color": "#1a5276 "
         },
         "mode": "lines",
         "name": "C major",
         "type": "scatter",
         "x": [
          0,
          1,
          2,
          3,
          4,
          5,
          6,
          7,
          8,
          9,
          10,
          11,
          12,
          13,
          14,
          15,
          16
         ],
         "y": [
          0.3994287086356371,
          0.4044781835721142,
          0.25881785892089537,
          0.4006086845176135,
          0.3154557087944747,
          0.6054401305245545,
          0.6576346351633416,
          0.8624967049799519,
          0.9108142289617073,
          0.5045454094615466,
          0.640934321091228,
          0.4348903571669619,
          0.46307236929266055,
          0.27714275334695027,
          0.3823177057164766,
          0.28488188614592075,
          0.30293121990790034
         ]
        },
        {
         "line": {
          "color": " #e74c3c  "
         },
         "mode": "lines",
         "showlegend": false,
         "type": "scatter",
         "x": [
          0,
          1,
          2,
          3,
          4,
          5,
          6,
          7,
          8,
          9,
          10,
          11,
          12,
          13,
          14,
          15,
          16
         ],
         "y": [
          0.6413533455005039,
          0.7501873971502029,
          0.5231808746991543,
          0.7677415625958386,
          0.5496807422802388,
          0.5436889497375841,
          0.322508714026841,
          0.4042462185457068,
          0.43316622555938505,
          -0.15152498214644383,
          0.07177239051367937,
          0.17308979778092948,
          0.6998733094479714,
          0.5479467099393701,
          0.7141502789453075,
          0.7601305423631861,
          0.8900431239021012
         ]
        },
        {
         "line": {
          "color": " #e74c3c  "
         },
         "mode": "lines",
         "name": "A minor",
         "type": "scatter",
         "x": [
          0,
          1,
          2,
          3,
          4,
          5,
          6,
          7,
          8,
          9,
          10,
          11,
          12,
          13,
          14,
          15,
          16
         ],
         "y": [
          0.6413533455005039,
          0.7501873971502029,
          0.5231808746991543,
          0.7677415625958386,
          0.5496807422802388,
          0.5436889497375841,
          0.322508714026841,
          0.4042462185457068,
          0.43316622555938505,
          -0.15152498214644383,
          0.07177239051367937,
          0.17308979778092948,
          0.6998733094479714,
          0.5479467099393701,
          0.7141502789453075,
          0.7601305423631861,
          0.8900431239021012
         ]
        },
        {
         "line": {
          "color": " #7b241c "
         },
         "mode": "lines",
         "showlegend": false,
         "type": "scatter",
         "x": [
          0,
          1,
          2,
          3,
          4,
          5,
          6,
          7,
          8,
          9,
          10,
          11,
          12,
          13,
          14,
          15,
          16
         ],
         "y": [
          0.13701632236932665,
          0.10067922382266106,
          0.1990268923123151,
          0.09745274499056553,
          -0.1388417612965022,
          -0.30523224197742793,
          -0.38684916603000663,
          -0.16256502503718256,
          -0.23801877509858005,
          0.15609069759680586,
          0.1869595084878693,
          0.5432019340047498,
          0.2958055856637946,
          0.3195981762017599,
          0.11289367847640833,
          0.11091288113587078,
          -0.012807256329561145
         ]
        },
        {
         "line": {
          "color": " #7b241c "
         },
         "mode": "lines",
         "name": "G#/Ab minor",
         "type": "scatter",
         "x": [
          0,
          1,
          2,
          3,
          4,
          5,
          6,
          7,
          8,
          9,
          10,
          11,
          12,
          13,
          14,
          15,
          16
         ],
         "y": [
          0.13701632236932665,
          0.10067922382266106,
          0.1990268923123151,
          0.09745274499056553,
          -0.1388417612965022,
          -0.30523224197742793,
          -0.38684916603000663,
          -0.16256502503718256,
          -0.23801877509858005,
          0.15609069759680586,
          0.1869595084878693,
          0.5432019340047498,
          0.2958055856637946,
          0.3195981762017599,
          0.11289367847640833,
          0.11091288113587078,
          -0.012807256329561145
         ]
        }
       ],
       "frames": [
        {
         "data": [
          {
           "line": {
            "color": "black",
            "width": 2
           },
           "mode": "lines",
           "type": "scatter",
           "x": [
            0,
            0
           ],
           "y": [
            -2,
            2
           ]
          }
         ]
        },
        {
         "data": [
          {
           "line": {
            "color": "black",
            "width": 2
           },
           "mode": "lines",
           "type": "scatter",
           "x": [
            0.5,
            0.5
           ],
           "y": [
            -2,
            2
           ]
          }
         ]
        },
        {
         "data": [
          {
           "line": {
            "color": "black",
            "width": 2
           },
           "mode": "lines",
           "type": "scatter",
           "x": [
            1,
            1
           ],
           "y": [
            -2,
            2
           ]
          }
         ]
        },
        {
         "data": [
          {
           "line": {
            "color": "black",
            "width": 2
           },
           "mode": "lines",
           "type": "scatter",
           "x": [
            1.5,
            1.5
           ],
           "y": [
            -2,
            2
           ]
          }
         ]
        },
        {
         "data": [
          {
           "line": {
            "color": "black",
            "width": 2
           },
           "mode": "lines",
           "type": "scatter",
           "x": [
            2,
            2
           ],
           "y": [
            -2,
            2
           ]
          }
         ]
        },
        {
         "data": [
          {
           "line": {
            "color": "black",
            "width": 2
           },
           "mode": "lines",
           "type": "scatter",
           "x": [
            2.5,
            2.5
           ],
           "y": [
            -2,
            2
           ]
          }
         ]
        },
        {
         "data": [
          {
           "line": {
            "color": "black",
            "width": 2
           },
           "mode": "lines",
           "type": "scatter",
           "x": [
            3,
            3
           ],
           "y": [
            -2,
            2
           ]
          }
         ]
        },
        {
         "data": [
          {
           "line": {
            "color": "black",
            "width": 2
           },
           "mode": "lines",
           "type": "scatter",
           "x": [
            3.5,
            3.5
           ],
           "y": [
            -2,
            2
           ]
          }
         ]
        },
        {
         "data": [
          {
           "line": {
            "color": "black",
            "width": 2
           },
           "mode": "lines",
           "type": "scatter",
           "x": [
            4,
            4
           ],
           "y": [
            -2,
            2
           ]
          }
         ]
        },
        {
         "data": [
          {
           "line": {
            "color": "black",
            "width": 2
           },
           "mode": "lines",
           "type": "scatter",
           "x": [
            4.5,
            4.5
           ],
           "y": [
            -2,
            2
           ]
          }
         ]
        },
        {
         "data": [
          {
           "line": {
            "color": "black",
            "width": 2
           },
           "mode": "lines",
           "type": "scatter",
           "x": [
            5,
            5
           ],
           "y": [
            -2,
            2
           ]
          }
         ]
        },
        {
         "data": [
          {
           "line": {
            "color": "black",
            "width": 2
           },
           "mode": "lines",
           "type": "scatter",
           "x": [
            5.5,
            5.5
           ],
           "y": [
            -2,
            2
           ]
          }
         ]
        },
        {
         "data": [
          {
           "line": {
            "color": "black",
            "width": 2
           },
           "mode": "lines",
           "type": "scatter",
           "x": [
            6,
            6
           ],
           "y": [
            -2,
            2
           ]
          }
         ]
        },
        {
         "data": [
          {
           "line": {
            "color": "black",
            "width": 2
           },
           "mode": "lines",
           "type": "scatter",
           "x": [
            6.5,
            6.5
           ],
           "y": [
            -2,
            2
           ]
          }
         ]
        },
        {
         "data": [
          {
           "line": {
            "color": "black",
            "width": 2
           },
           "mode": "lines",
           "type": "scatter",
           "x": [
            7,
            7
           ],
           "y": [
            -2,
            2
           ]
          }
         ]
        },
        {
         "data": [
          {
           "line": {
            "color": "black",
            "width": 2
           },
           "mode": "lines",
           "type": "scatter",
           "x": [
            7.5,
            7.5
           ],
           "y": [
            -2,
            2
           ]
          }
         ]
        },
        {
         "data": [
          {
           "line": {
            "color": "black",
            "width": 2
           },
           "mode": "lines",
           "type": "scatter",
           "x": [
            8,
            8
           ],
           "y": [
            -2,
            2
           ]
          }
         ]
        },
        {
         "data": [
          {
           "line": {
            "color": "black",
            "width": 2
           },
           "mode": "lines",
           "type": "scatter",
           "x": [
            8.5,
            8.5
           ],
           "y": [
            -2,
            2
           ]
          }
         ]
        },
        {
         "data": [
          {
           "line": {
            "color": "black",
            "width": 2
           },
           "mode": "lines",
           "type": "scatter",
           "x": [
            9,
            9
           ],
           "y": [
            -2,
            2
           ]
          }
         ]
        },
        {
         "data": [
          {
           "line": {
            "color": "black",
            "width": 2
           },
           "mode": "lines",
           "type": "scatter",
           "x": [
            9.5,
            9.5
           ],
           "y": [
            -2,
            2
           ]
          }
         ]
        },
        {
         "data": [
          {
           "line": {
            "color": "black",
            "width": 2
           },
           "mode": "lines",
           "type": "scatter",
           "x": [
            10,
            10
           ],
           "y": [
            -2,
            2
           ]
          }
         ]
        },
        {
         "data": [
          {
           "line": {
            "color": "black",
            "width": 2
           },
           "mode": "lines",
           "type": "scatter",
           "x": [
            10.5,
            10.5
           ],
           "y": [
            -2,
            2
           ]
          }
         ]
        },
        {
         "data": [
          {
           "line": {
            "color": "black",
            "width": 2
           },
           "mode": "lines",
           "type": "scatter",
           "x": [
            11,
            11
           ],
           "y": [
            -2,
            2
           ]
          }
         ]
        },
        {
         "data": [
          {
           "line": {
            "color": "black",
            "width": 2
           },
           "mode": "lines",
           "type": "scatter",
           "x": [
            11.5,
            11.5
           ],
           "y": [
            -2,
            2
           ]
          }
         ]
        },
        {
         "data": [
          {
           "line": {
            "color": "black",
            "width": 2
           },
           "mode": "lines",
           "type": "scatter",
           "x": [
            12,
            12
           ],
           "y": [
            -2,
            2
           ]
          }
         ]
        },
        {
         "data": [
          {
           "line": {
            "color": "black",
            "width": 2
           },
           "mode": "lines",
           "type": "scatter",
           "x": [
            12.5,
            12.5
           ],
           "y": [
            -2,
            2
           ]
          }
         ]
        },
        {
         "data": [
          {
           "line": {
            "color": "black",
            "width": 2
           },
           "mode": "lines",
           "type": "scatter",
           "x": [
            13,
            13
           ],
           "y": [
            -2,
            2
           ]
          }
         ]
        },
        {
         "data": [
          {
           "line": {
            "color": "black",
            "width": 2
           },
           "mode": "lines",
           "type": "scatter",
           "x": [
            13.5,
            13.5
           ],
           "y": [
            -2,
            2
           ]
          }
         ]
        },
        {
         "data": [
          {
           "line": {
            "color": "black",
            "width": 2
           },
           "mode": "lines",
           "type": "scatter",
           "x": [
            14,
            14
           ],
           "y": [
            -2,
            2
           ]
          }
         ]
        },
        {
         "data": [
          {
           "line": {
            "color": "black",
            "width": 2
           },
           "mode": "lines",
           "type": "scatter",
           "x": [
            14.5,
            14.5
           ],
           "y": [
            -2,
            2
           ]
          }
         ]
        },
        {
         "data": [
          {
           "line": {
            "color": "black",
            "width": 2
           },
           "mode": "lines",
           "type": "scatter",
           "x": [
            15,
            15
           ],
           "y": [
            -2,
            2
           ]
          }
         ]
        },
        {
         "data": [
          {
           "line": {
            "color": "black",
            "width": 2
           },
           "mode": "lines",
           "type": "scatter",
           "x": [
            15.5,
            15.5
           ],
           "y": [
            -2,
            2
           ]
          }
         ]
        },
        {
         "data": [
          {
           "line": {
            "color": "black",
            "width": 2
           },
           "mode": "lines",
           "type": "scatter",
           "x": [
            16,
            16
           ],
           "y": [
            -2,
            2
           ]
          }
         ]
        },
        {
         "data": [
          {
           "line": {
            "color": "black",
            "width": 2
           },
           "mode": "lines",
           "type": "scatter",
           "x": [
            16.5,
            16.5
           ],
           "y": [
            -2,
            2
           ]
          }
         ]
        }
       ],
       "layout": {
        "height": 600,
        "hovermode": "closest",
        "template": {
         "data": {
          "bar": [
           {
            "error_x": {
             "color": "#2a3f5f"
            },
            "error_y": {
             "color": "#2a3f5f"
            },
            "marker": {
             "line": {
              "color": "#E5ECF6",
              "width": 0.5
             }
            },
            "type": "bar"
           }
          ],
          "barpolar": [
           {
            "marker": {
             "line": {
              "color": "#E5ECF6",
              "width": 0.5
             }
            },
            "type": "barpolar"
           }
          ],
          "carpet": [
           {
            "aaxis": {
             "endlinecolor": "#2a3f5f",
             "gridcolor": "white",
             "linecolor": "white",
             "minorgridcolor": "white",
             "startlinecolor": "#2a3f5f"
            },
            "baxis": {
             "endlinecolor": "#2a3f5f",
             "gridcolor": "white",
             "linecolor": "white",
             "minorgridcolor": "white",
             "startlinecolor": "#2a3f5f"
            },
            "type": "carpet"
           }
          ],
          "choropleth": [
           {
            "colorbar": {
             "outlinewidth": 0,
             "ticks": ""
            },
            "type": "choropleth"
           }
          ],
          "contour": [
           {
            "colorbar": {
             "outlinewidth": 0,
             "ticks": ""
            },
            "colorscale": [
             [
              0,
              "#0d0887"
             ],
             [
              0.1111111111111111,
              "#46039f"
             ],
             [
              0.2222222222222222,
              "#7201a8"
             ],
             [
              0.3333333333333333,
              "#9c179e"
             ],
             [
              0.4444444444444444,
              "#bd3786"
             ],
             [
              0.5555555555555556,
              "#d8576b"
             ],
             [
              0.6666666666666666,
              "#ed7953"
             ],
             [
              0.7777777777777778,
              "#fb9f3a"
             ],
             [
              0.8888888888888888,
              "#fdca26"
             ],
             [
              1,
              "#f0f921"
             ]
            ],
            "type": "contour"
           }
          ],
          "contourcarpet": [
           {
            "colorbar": {
             "outlinewidth": 0,
             "ticks": ""
            },
            "type": "contourcarpet"
           }
          ],
          "heatmap": [
           {
            "colorbar": {
             "outlinewidth": 0,
             "ticks": ""
            },
            "colorscale": [
             [
              0,
              "#0d0887"
             ],
             [
              0.1111111111111111,
              "#46039f"
             ],
             [
              0.2222222222222222,
              "#7201a8"
             ],
             [
              0.3333333333333333,
              "#9c179e"
             ],
             [
              0.4444444444444444,
              "#bd3786"
             ],
             [
              0.5555555555555556,
              "#d8576b"
             ],
             [
              0.6666666666666666,
              "#ed7953"
             ],
             [
              0.7777777777777778,
              "#fb9f3a"
             ],
             [
              0.8888888888888888,
              "#fdca26"
             ],
             [
              1,
              "#f0f921"
             ]
            ],
            "type": "heatmap"
           }
          ],
          "heatmapgl": [
           {
            "colorbar": {
             "outlinewidth": 0,
             "ticks": ""
            },
            "colorscale": [
             [
              0,
              "#0d0887"
             ],
             [
              0.1111111111111111,
              "#46039f"
             ],
             [
              0.2222222222222222,
              "#7201a8"
             ],
             [
              0.3333333333333333,
              "#9c179e"
             ],
             [
              0.4444444444444444,
              "#bd3786"
             ],
             [
              0.5555555555555556,
              "#d8576b"
             ],
             [
              0.6666666666666666,
              "#ed7953"
             ],
             [
              0.7777777777777778,
              "#fb9f3a"
             ],
             [
              0.8888888888888888,
              "#fdca26"
             ],
             [
              1,
              "#f0f921"
             ]
            ],
            "type": "heatmapgl"
           }
          ],
          "histogram": [
           {
            "marker": {
             "colorbar": {
              "outlinewidth": 0,
              "ticks": ""
             }
            },
            "type": "histogram"
           }
          ],
          "histogram2d": [
           {
            "colorbar": {
             "outlinewidth": 0,
             "ticks": ""
            },
            "colorscale": [
             [
              0,
              "#0d0887"
             ],
             [
              0.1111111111111111,
              "#46039f"
             ],
             [
              0.2222222222222222,
              "#7201a8"
             ],
             [
              0.3333333333333333,
              "#9c179e"
             ],
             [
              0.4444444444444444,
              "#bd3786"
             ],
             [
              0.5555555555555556,
              "#d8576b"
             ],
             [
              0.6666666666666666,
              "#ed7953"
             ],
             [
              0.7777777777777778,
              "#fb9f3a"
             ],
             [
              0.8888888888888888,
              "#fdca26"
             ],
             [
              1,
              "#f0f921"
             ]
            ],
            "type": "histogram2d"
           }
          ],
          "histogram2dcontour": [
           {
            "colorbar": {
             "outlinewidth": 0,
             "ticks": ""
            },
            "colorscale": [
             [
              0,
              "#0d0887"
             ],
             [
              0.1111111111111111,
              "#46039f"
             ],
             [
              0.2222222222222222,
              "#7201a8"
             ],
             [
              0.3333333333333333,
              "#9c179e"
             ],
             [
              0.4444444444444444,
              "#bd3786"
             ],
             [
              0.5555555555555556,
              "#d8576b"
             ],
             [
              0.6666666666666666,
              "#ed7953"
             ],
             [
              0.7777777777777778,
              "#fb9f3a"
             ],
             [
              0.8888888888888888,
              "#fdca26"
             ],
             [
              1,
              "#f0f921"
             ]
            ],
            "type": "histogram2dcontour"
           }
          ],
          "mesh3d": [
           {
            "colorbar": {
             "outlinewidth": 0,
             "ticks": ""
            },
            "type": "mesh3d"
           }
          ],
          "parcoords": [
           {
            "line": {
             "colorbar": {
              "outlinewidth": 0,
              "ticks": ""
             }
            },
            "type": "parcoords"
           }
          ],
          "pie": [
           {
            "automargin": true,
            "type": "pie"
           }
          ],
          "scatter": [
           {
            "marker": {
             "colorbar": {
              "outlinewidth": 0,
              "ticks": ""
             }
            },
            "type": "scatter"
           }
          ],
          "scatter3d": [
           {
            "line": {
             "colorbar": {
              "outlinewidth": 0,
              "ticks": ""
             }
            },
            "marker": {
             "colorbar": {
              "outlinewidth": 0,
              "ticks": ""
             }
            },
            "type": "scatter3d"
           }
          ],
          "scattercarpet": [
           {
            "marker": {
             "colorbar": {
              "outlinewidth": 0,
              "ticks": ""
             }
            },
            "type": "scattercarpet"
           }
          ],
          "scattergeo": [
           {
            "marker": {
             "colorbar": {
              "outlinewidth": 0,
              "ticks": ""
             }
            },
            "type": "scattergeo"
           }
          ],
          "scattergl": [
           {
            "marker": {
             "colorbar": {
              "outlinewidth": 0,
              "ticks": ""
             }
            },
            "type": "scattergl"
           }
          ],
          "scattermapbox": [
           {
            "marker": {
             "colorbar": {
              "outlinewidth": 0,
              "ticks": ""
             }
            },
            "type": "scattermapbox"
           }
          ],
          "scatterpolar": [
           {
            "marker": {
             "colorbar": {
              "outlinewidth": 0,
              "ticks": ""
             }
            },
            "type": "scatterpolar"
           }
          ],
          "scatterpolargl": [
           {
            "marker": {
             "colorbar": {
              "outlinewidth": 0,
              "ticks": ""
             }
            },
            "type": "scatterpolargl"
           }
          ],
          "scatterternary": [
           {
            "marker": {
             "colorbar": {
              "outlinewidth": 0,
              "ticks": ""
             }
            },
            "type": "scatterternary"
           }
          ],
          "surface": [
           {
            "colorbar": {
             "outlinewidth": 0,
             "ticks": ""
            },
            "colorscale": [
             [
              0,
              "#0d0887"
             ],
             [
              0.1111111111111111,
              "#46039f"
             ],
             [
              0.2222222222222222,
              "#7201a8"
             ],
             [
              0.3333333333333333,
              "#9c179e"
             ],
             [
              0.4444444444444444,
              "#bd3786"
             ],
             [
              0.5555555555555556,
              "#d8576b"
             ],
             [
              0.6666666666666666,
              "#ed7953"
             ],
             [
              0.7777777777777778,
              "#fb9f3a"
             ],
             [
              0.8888888888888888,
              "#fdca26"
             ],
             [
              1,
              "#f0f921"
             ]
            ],
            "type": "surface"
           }
          ],
          "table": [
           {
            "cells": {
             "fill": {
              "color": "#EBF0F8"
             },
             "line": {
              "color": "white"
             }
            },
            "header": {
             "fill": {
              "color": "#C8D4E3"
             },
             "line": {
              "color": "white"
             }
            },
            "type": "table"
           }
          ]
         },
         "layout": {
          "annotationdefaults": {
           "arrowcolor": "#2a3f5f",
           "arrowhead": 0,
           "arrowwidth": 1
          },
          "coloraxis": {
           "colorbar": {
            "outlinewidth": 0,
            "ticks": ""
           }
          },
          "colorscale": {
           "diverging": [
            [
             0,
             "#8e0152"
            ],
            [
             0.1,
             "#c51b7d"
            ],
            [
             0.2,
             "#de77ae"
            ],
            [
             0.3,
             "#f1b6da"
            ],
            [
             0.4,
             "#fde0ef"
            ],
            [
             0.5,
             "#f7f7f7"
            ],
            [
             0.6,
             "#e6f5d0"
            ],
            [
             0.7,
             "#b8e186"
            ],
            [
             0.8,
             "#7fbc41"
            ],
            [
             0.9,
             "#4d9221"
            ],
            [
             1,
             "#276419"
            ]
           ],
           "sequential": [
            [
             0,
             "#0d0887"
            ],
            [
             0.1111111111111111,
             "#46039f"
            ],
            [
             0.2222222222222222,
             "#7201a8"
            ],
            [
             0.3333333333333333,
             "#9c179e"
            ],
            [
             0.4444444444444444,
             "#bd3786"
            ],
            [
             0.5555555555555556,
             "#d8576b"
            ],
            [
             0.6666666666666666,
             "#ed7953"
            ],
            [
             0.7777777777777778,
             "#fb9f3a"
            ],
            [
             0.8888888888888888,
             "#fdca26"
            ],
            [
             1,
             "#f0f921"
            ]
           ],
           "sequentialminus": [
            [
             0,
             "#0d0887"
            ],
            [
             0.1111111111111111,
             "#46039f"
            ],
            [
             0.2222222222222222,
             "#7201a8"
            ],
            [
             0.3333333333333333,
             "#9c179e"
            ],
            [
             0.4444444444444444,
             "#bd3786"
            ],
            [
             0.5555555555555556,
             "#d8576b"
            ],
            [
             0.6666666666666666,
             "#ed7953"
            ],
            [
             0.7777777777777778,
             "#fb9f3a"
            ],
            [
             0.8888888888888888,
             "#fdca26"
            ],
            [
             1,
             "#f0f921"
            ]
           ]
          },
          "colorway": [
           "#636efa",
           "#EF553B",
           "#00cc96",
           "#ab63fa",
           "#FFA15A",
           "#19d3f3",
           "#FF6692",
           "#B6E880",
           "#FF97FF",
           "#FECB52"
          ],
          "font": {
           "color": "#2a3f5f"
          },
          "geo": {
           "bgcolor": "white",
           "lakecolor": "white",
           "landcolor": "#E5ECF6",
           "showlakes": true,
           "showland": true,
           "subunitcolor": "white"
          },
          "hoverlabel": {
           "align": "left"
          },
          "hovermode": "closest",
          "mapbox": {
           "style": "light"
          },
          "paper_bgcolor": "white",
          "plot_bgcolor": "#E5ECF6",
          "polar": {
           "angularaxis": {
            "gridcolor": "white",
            "linecolor": "white",
            "ticks": ""
           },
           "bgcolor": "#E5ECF6",
           "radialaxis": {
            "gridcolor": "white",
            "linecolor": "white",
            "ticks": ""
           }
          },
          "scene": {
           "xaxis": {
            "backgroundcolor": "#E5ECF6",
            "gridcolor": "white",
            "gridwidth": 2,
            "linecolor": "white",
            "showbackground": true,
            "ticks": "",
            "zerolinecolor": "white"
           },
           "yaxis": {
            "backgroundcolor": "#E5ECF6",
            "gridcolor": "white",
            "gridwidth": 2,
            "linecolor": "white",
            "showbackground": true,
            "ticks": "",
            "zerolinecolor": "white"
           },
           "zaxis": {
            "backgroundcolor": "#E5ECF6",
            "gridcolor": "white",
            "gridwidth": 2,
            "linecolor": "white",
            "showbackground": true,
            "ticks": "",
            "zerolinecolor": "white"
           }
          },
          "shapedefaults": {
           "line": {
            "color": "#2a3f5f"
           }
          },
          "ternary": {
           "aaxis": {
            "gridcolor": "white",
            "linecolor": "white",
            "ticks": ""
           },
           "baxis": {
            "gridcolor": "white",
            "linecolor": "white",
            "ticks": ""
           },
           "bgcolor": "#E5ECF6",
           "caxis": {
            "gridcolor": "white",
            "linecolor": "white",
            "ticks": ""
           }
          },
          "title": {
           "x": 0.05
          },
          "xaxis": {
           "automargin": true,
           "gridcolor": "white",
           "linecolor": "white",
           "ticks": "",
           "title": {
            "standoff": 15
           },
           "zerolinecolor": "white",
           "zerolinewidth": 2
          },
          "yaxis": {
           "automargin": true,
           "gridcolor": "white",
           "linecolor": "white",
           "ticks": "",
           "title": {
            "standoff": 15
           },
           "zerolinecolor": "white",
           "zerolinewidth": 2
          }
         }
        },
        "title": {
         "text": "Key trajectories for Trio D41 Nr.12"
        },
        "updatemenus": [
         {
          "buttons": [
           {
            "args": [
             null,
             {
              "frame": {
               "duration": 500,
               "redraw": false
              },
              "fromcurrent": true,
              "transition": {
               "duration": 3000,
               "easing": "quadratic-in-out"
              }
             }
            ],
            "label": "Play",
            "method": "animate"
           },
           {
            "args": [
             [
              null
             ],
             {
              "frame": {
               "duration": 0,
               "redraw": false
              },
              "mode": "immediate",
              "transition": {
               "duration": 0
              }
             }
            ],
            "label": "Pause",
            "method": "animate"
           }
          ],
          "type": "buttons"
         }
        ],
        "width": 950,
        "xaxis": {
         "autorange": false,
         "range": [
          0,
          16
         ],
         "title": {
          "text": "Bars"
         },
         "zeroline": false
        },
        "yaxis": {
         "autorange": false,
         "range": [
          -0.4,
          1
         ],
         "title": {
          "text": "Correlation"
         },
         "zeroline": false
        }
       }
      },
      "text/html": [
       "<div>\n",
       "        \n",
       "        \n",
       "            <div id=\"15bc9325-becc-4aad-98e9-b5f74d6e2045\" class=\"plotly-graph-div\" style=\"height:600px; width:950px;\"></div>\n",
       "            <script type=\"text/javascript\">\n",
       "                require([\"plotly\"], function(Plotly) {\n",
       "                    window.PLOTLYENV=window.PLOTLYENV || {};\n",
       "                    \n",
       "                if (document.getElementById(\"15bc9325-becc-4aad-98e9-b5f74d6e2045\")) {\n",
       "                    Plotly.newPlot(\n",
       "                        '15bc9325-becc-4aad-98e9-b5f74d6e2045',\n",
       "                        [{\"line\": {\"color\": \"#1a5276 \"}, \"mode\": \"lines\", \"showlegend\": false, \"type\": \"scatter\", \"x\": [0, 1, 2, 3, 4, 5, 6, 7, 8, 9, 10, 11, 12, 13, 14, 15, 16], \"y\": [0.3994287086356371, 0.4044781835721142, 0.25881785892089537, 0.4006086845176135, 0.3154557087944747, 0.6054401305245545, 0.6576346351633416, 0.8624967049799519, 0.9108142289617073, 0.5045454094615466, 0.640934321091228, 0.4348903571669619, 0.46307236929266055, 0.27714275334695027, 0.3823177057164766, 0.28488188614592075, 0.30293121990790034]}, {\"line\": {\"color\": \"#1a5276 \"}, \"mode\": \"lines\", \"name\": \"C major\", \"type\": \"scatter\", \"x\": [0, 1, 2, 3, 4, 5, 6, 7, 8, 9, 10, 11, 12, 13, 14, 15, 16], \"y\": [0.3994287086356371, 0.4044781835721142, 0.25881785892089537, 0.4006086845176135, 0.3154557087944747, 0.6054401305245545, 0.6576346351633416, 0.8624967049799519, 0.9108142289617073, 0.5045454094615466, 0.640934321091228, 0.4348903571669619, 0.46307236929266055, 0.27714275334695027, 0.3823177057164766, 0.28488188614592075, 0.30293121990790034]}, {\"line\": {\"color\": \" #e74c3c  \"}, \"mode\": \"lines\", \"showlegend\": false, \"type\": \"scatter\", \"x\": [0, 1, 2, 3, 4, 5, 6, 7, 8, 9, 10, 11, 12, 13, 14, 15, 16], \"y\": [0.6413533455005039, 0.7501873971502029, 0.5231808746991543, 0.7677415625958386, 0.5496807422802388, 0.5436889497375841, 0.322508714026841, 0.4042462185457068, 0.43316622555938505, -0.15152498214644383, 0.07177239051367937, 0.17308979778092948, 0.6998733094479714, 0.5479467099393701, 0.7141502789453075, 0.7601305423631861, 0.8900431239021012]}, {\"line\": {\"color\": \" #e74c3c  \"}, \"mode\": \"lines\", \"name\": \"A minor\", \"type\": \"scatter\", \"x\": [0, 1, 2, 3, 4, 5, 6, 7, 8, 9, 10, 11, 12, 13, 14, 15, 16], \"y\": [0.6413533455005039, 0.7501873971502029, 0.5231808746991543, 0.7677415625958386, 0.5496807422802388, 0.5436889497375841, 0.322508714026841, 0.4042462185457068, 0.43316622555938505, -0.15152498214644383, 0.07177239051367937, 0.17308979778092948, 0.6998733094479714, 0.5479467099393701, 0.7141502789453075, 0.7601305423631861, 0.8900431239021012]}, {\"line\": {\"color\": \" #7b241c \"}, \"mode\": \"lines\", \"showlegend\": false, \"type\": \"scatter\", \"x\": [0, 1, 2, 3, 4, 5, 6, 7, 8, 9, 10, 11, 12, 13, 14, 15, 16], \"y\": [0.13701632236932665, 0.10067922382266106, 0.1990268923123151, 0.09745274499056553, -0.1388417612965022, -0.30523224197742793, -0.38684916603000663, -0.16256502503718256, -0.23801877509858005, 0.15609069759680586, 0.1869595084878693, 0.5432019340047498, 0.2958055856637946, 0.3195981762017599, 0.11289367847640833, 0.11091288113587078, -0.012807256329561145]}, {\"line\": {\"color\": \" #7b241c \"}, \"mode\": \"lines\", \"name\": \"G#/Ab minor\", \"type\": \"scatter\", \"x\": [0, 1, 2, 3, 4, 5, 6, 7, 8, 9, 10, 11, 12, 13, 14, 15, 16], \"y\": [0.13701632236932665, 0.10067922382266106, 0.1990268923123151, 0.09745274499056553, -0.1388417612965022, -0.30523224197742793, -0.38684916603000663, -0.16256502503718256, -0.23801877509858005, 0.15609069759680586, 0.1869595084878693, 0.5432019340047498, 0.2958055856637946, 0.3195981762017599, 0.11289367847640833, 0.11091288113587078, -0.012807256329561145]}],\n",
       "                        {\"height\": 600, \"hovermode\": \"closest\", \"template\": {\"data\": {\"bar\": [{\"error_x\": {\"color\": \"#2a3f5f\"}, \"error_y\": {\"color\": \"#2a3f5f\"}, \"marker\": {\"line\": {\"color\": \"#E5ECF6\", \"width\": 0.5}}, \"type\": \"bar\"}], \"barpolar\": [{\"marker\": {\"line\": {\"color\": \"#E5ECF6\", \"width\": 0.5}}, \"type\": \"barpolar\"}], \"carpet\": [{\"aaxis\": {\"endlinecolor\": \"#2a3f5f\", \"gridcolor\": \"white\", \"linecolor\": \"white\", \"minorgridcolor\": \"white\", \"startlinecolor\": \"#2a3f5f\"}, \"baxis\": {\"endlinecolor\": \"#2a3f5f\", \"gridcolor\": \"white\", \"linecolor\": \"white\", \"minorgridcolor\": \"white\", \"startlinecolor\": \"#2a3f5f\"}, \"type\": \"carpet\"}], \"choropleth\": [{\"colorbar\": {\"outlinewidth\": 0, \"ticks\": \"\"}, \"type\": \"choropleth\"}], \"contour\": [{\"colorbar\": {\"outlinewidth\": 0, \"ticks\": \"\"}, \"colorscale\": [[0.0, \"#0d0887\"], [0.1111111111111111, \"#46039f\"], [0.2222222222222222, \"#7201a8\"], [0.3333333333333333, \"#9c179e\"], [0.4444444444444444, \"#bd3786\"], [0.5555555555555556, \"#d8576b\"], [0.6666666666666666, \"#ed7953\"], [0.7777777777777778, \"#fb9f3a\"], [0.8888888888888888, \"#fdca26\"], [1.0, \"#f0f921\"]], \"type\": \"contour\"}], \"contourcarpet\": [{\"colorbar\": {\"outlinewidth\": 0, \"ticks\": \"\"}, \"type\": \"contourcarpet\"}], \"heatmap\": [{\"colorbar\": {\"outlinewidth\": 0, \"ticks\": \"\"}, \"colorscale\": [[0.0, \"#0d0887\"], [0.1111111111111111, \"#46039f\"], [0.2222222222222222, \"#7201a8\"], [0.3333333333333333, \"#9c179e\"], [0.4444444444444444, \"#bd3786\"], [0.5555555555555556, \"#d8576b\"], [0.6666666666666666, \"#ed7953\"], [0.7777777777777778, \"#fb9f3a\"], [0.8888888888888888, \"#fdca26\"], [1.0, \"#f0f921\"]], \"type\": \"heatmap\"}], \"heatmapgl\": [{\"colorbar\": {\"outlinewidth\": 0, \"ticks\": \"\"}, \"colorscale\": [[0.0, \"#0d0887\"], [0.1111111111111111, \"#46039f\"], [0.2222222222222222, \"#7201a8\"], [0.3333333333333333, \"#9c179e\"], [0.4444444444444444, \"#bd3786\"], [0.5555555555555556, \"#d8576b\"], [0.6666666666666666, \"#ed7953\"], [0.7777777777777778, \"#fb9f3a\"], [0.8888888888888888, \"#fdca26\"], [1.0, \"#f0f921\"]], \"type\": \"heatmapgl\"}], \"histogram\": [{\"marker\": {\"colorbar\": {\"outlinewidth\": 0, \"ticks\": \"\"}}, \"type\": \"histogram\"}], \"histogram2d\": [{\"colorbar\": {\"outlinewidth\": 0, \"ticks\": \"\"}, \"colorscale\": [[0.0, \"#0d0887\"], [0.1111111111111111, \"#46039f\"], [0.2222222222222222, \"#7201a8\"], [0.3333333333333333, \"#9c179e\"], [0.4444444444444444, \"#bd3786\"], [0.5555555555555556, \"#d8576b\"], [0.6666666666666666, \"#ed7953\"], [0.7777777777777778, \"#fb9f3a\"], [0.8888888888888888, \"#fdca26\"], [1.0, \"#f0f921\"]], \"type\": \"histogram2d\"}], \"histogram2dcontour\": [{\"colorbar\": {\"outlinewidth\": 0, \"ticks\": \"\"}, \"colorscale\": [[0.0, \"#0d0887\"], [0.1111111111111111, \"#46039f\"], [0.2222222222222222, \"#7201a8\"], [0.3333333333333333, \"#9c179e\"], [0.4444444444444444, \"#bd3786\"], [0.5555555555555556, \"#d8576b\"], [0.6666666666666666, \"#ed7953\"], [0.7777777777777778, \"#fb9f3a\"], [0.8888888888888888, \"#fdca26\"], [1.0, \"#f0f921\"]], \"type\": \"histogram2dcontour\"}], \"mesh3d\": [{\"colorbar\": {\"outlinewidth\": 0, \"ticks\": \"\"}, \"type\": \"mesh3d\"}], \"parcoords\": [{\"line\": {\"colorbar\": {\"outlinewidth\": 0, \"ticks\": \"\"}}, \"type\": \"parcoords\"}], \"pie\": [{\"automargin\": true, \"type\": \"pie\"}], \"scatter\": [{\"marker\": {\"colorbar\": {\"outlinewidth\": 0, \"ticks\": \"\"}}, \"type\": \"scatter\"}], \"scatter3d\": [{\"line\": {\"colorbar\": {\"outlinewidth\": 0, \"ticks\": \"\"}}, \"marker\": {\"colorbar\": {\"outlinewidth\": 0, \"ticks\": \"\"}}, \"type\": \"scatter3d\"}], \"scattercarpet\": [{\"marker\": {\"colorbar\": {\"outlinewidth\": 0, \"ticks\": \"\"}}, \"type\": \"scattercarpet\"}], \"scattergeo\": [{\"marker\": {\"colorbar\": {\"outlinewidth\": 0, \"ticks\": \"\"}}, \"type\": \"scattergeo\"}], \"scattergl\": [{\"marker\": {\"colorbar\": {\"outlinewidth\": 0, \"ticks\": \"\"}}, \"type\": \"scattergl\"}], \"scattermapbox\": [{\"marker\": {\"colorbar\": {\"outlinewidth\": 0, \"ticks\": \"\"}}, \"type\": \"scattermapbox\"}], \"scatterpolar\": [{\"marker\": {\"colorbar\": {\"outlinewidth\": 0, \"ticks\": \"\"}}, \"type\": \"scatterpolar\"}], \"scatterpolargl\": [{\"marker\": {\"colorbar\": {\"outlinewidth\": 0, \"ticks\": \"\"}}, \"type\": \"scatterpolargl\"}], \"scatterternary\": [{\"marker\": {\"colorbar\": {\"outlinewidth\": 0, \"ticks\": \"\"}}, \"type\": \"scatterternary\"}], \"surface\": [{\"colorbar\": {\"outlinewidth\": 0, \"ticks\": \"\"}, \"colorscale\": [[0.0, \"#0d0887\"], [0.1111111111111111, \"#46039f\"], [0.2222222222222222, \"#7201a8\"], [0.3333333333333333, \"#9c179e\"], [0.4444444444444444, \"#bd3786\"], [0.5555555555555556, \"#d8576b\"], [0.6666666666666666, \"#ed7953\"], [0.7777777777777778, \"#fb9f3a\"], [0.8888888888888888, \"#fdca26\"], [1.0, \"#f0f921\"]], \"type\": \"surface\"}], \"table\": [{\"cells\": {\"fill\": {\"color\": \"#EBF0F8\"}, \"line\": {\"color\": \"white\"}}, \"header\": {\"fill\": {\"color\": \"#C8D4E3\"}, \"line\": {\"color\": \"white\"}}, \"type\": \"table\"}]}, \"layout\": {\"annotationdefaults\": {\"arrowcolor\": \"#2a3f5f\", \"arrowhead\": 0, \"arrowwidth\": 1}, \"coloraxis\": {\"colorbar\": {\"outlinewidth\": 0, \"ticks\": \"\"}}, \"colorscale\": {\"diverging\": [[0, \"#8e0152\"], [0.1, \"#c51b7d\"], [0.2, \"#de77ae\"], [0.3, \"#f1b6da\"], [0.4, \"#fde0ef\"], [0.5, \"#f7f7f7\"], [0.6, \"#e6f5d0\"], [0.7, \"#b8e186\"], [0.8, \"#7fbc41\"], [0.9, \"#4d9221\"], [1, \"#276419\"]], \"sequential\": [[0.0, \"#0d0887\"], [0.1111111111111111, \"#46039f\"], [0.2222222222222222, \"#7201a8\"], [0.3333333333333333, \"#9c179e\"], [0.4444444444444444, \"#bd3786\"], [0.5555555555555556, \"#d8576b\"], [0.6666666666666666, \"#ed7953\"], [0.7777777777777778, \"#fb9f3a\"], [0.8888888888888888, \"#fdca26\"], [1.0, \"#f0f921\"]], \"sequentialminus\": [[0.0, \"#0d0887\"], [0.1111111111111111, \"#46039f\"], [0.2222222222222222, \"#7201a8\"], [0.3333333333333333, \"#9c179e\"], [0.4444444444444444, \"#bd3786\"], [0.5555555555555556, \"#d8576b\"], [0.6666666666666666, \"#ed7953\"], [0.7777777777777778, \"#fb9f3a\"], [0.8888888888888888, \"#fdca26\"], [1.0, \"#f0f921\"]]}, \"colorway\": [\"#636efa\", \"#EF553B\", \"#00cc96\", \"#ab63fa\", \"#FFA15A\", \"#19d3f3\", \"#FF6692\", \"#B6E880\", \"#FF97FF\", \"#FECB52\"], \"font\": {\"color\": \"#2a3f5f\"}, \"geo\": {\"bgcolor\": \"white\", \"lakecolor\": \"white\", \"landcolor\": \"#E5ECF6\", \"showlakes\": true, \"showland\": true, \"subunitcolor\": \"white\"}, \"hoverlabel\": {\"align\": \"left\"}, \"hovermode\": \"closest\", \"mapbox\": {\"style\": \"light\"}, \"paper_bgcolor\": \"white\", \"plot_bgcolor\": \"#E5ECF6\", \"polar\": {\"angularaxis\": {\"gridcolor\": \"white\", \"linecolor\": \"white\", \"ticks\": \"\"}, \"bgcolor\": \"#E5ECF6\", \"radialaxis\": {\"gridcolor\": \"white\", \"linecolor\": \"white\", \"ticks\": \"\"}}, \"scene\": {\"xaxis\": {\"backgroundcolor\": \"#E5ECF6\", \"gridcolor\": \"white\", \"gridwidth\": 2, \"linecolor\": \"white\", \"showbackground\": true, \"ticks\": \"\", \"zerolinecolor\": \"white\"}, \"yaxis\": {\"backgroundcolor\": \"#E5ECF6\", \"gridcolor\": \"white\", \"gridwidth\": 2, \"linecolor\": \"white\", \"showbackground\": true, \"ticks\": \"\", \"zerolinecolor\": \"white\"}, \"zaxis\": {\"backgroundcolor\": \"#E5ECF6\", \"gridcolor\": \"white\", \"gridwidth\": 2, \"linecolor\": \"white\", \"showbackground\": true, \"ticks\": \"\", \"zerolinecolor\": \"white\"}}, \"shapedefaults\": {\"line\": {\"color\": \"#2a3f5f\"}}, \"ternary\": {\"aaxis\": {\"gridcolor\": \"white\", \"linecolor\": \"white\", \"ticks\": \"\"}, \"baxis\": {\"gridcolor\": \"white\", \"linecolor\": \"white\", \"ticks\": \"\"}, \"bgcolor\": \"#E5ECF6\", \"caxis\": {\"gridcolor\": \"white\", \"linecolor\": \"white\", \"ticks\": \"\"}}, \"title\": {\"x\": 0.05}, \"xaxis\": {\"automargin\": true, \"gridcolor\": \"white\", \"linecolor\": \"white\", \"ticks\": \"\", \"title\": {\"standoff\": 15}, \"zerolinecolor\": \"white\", \"zerolinewidth\": 2}, \"yaxis\": {\"automargin\": true, \"gridcolor\": \"white\", \"linecolor\": \"white\", \"ticks\": \"\", \"title\": {\"standoff\": 15}, \"zerolinecolor\": \"white\", \"zerolinewidth\": 2}}}, \"title\": {\"text\": \"Key trajectories for Trio D41 Nr.12\"}, \"updatemenus\": [{\"buttons\": [{\"args\": [null, {\"frame\": {\"duration\": 500, \"redraw\": false}, \"fromcurrent\": true, \"transition\": {\"duration\": 3000, \"easing\": \"quadratic-in-out\"}}], \"label\": \"Play\", \"method\": \"animate\"}, {\"args\": [[null], {\"frame\": {\"duration\": 0, \"redraw\": false}, \"mode\": \"immediate\", \"transition\": {\"duration\": 0}}], \"label\": \"Pause\", \"method\": \"animate\"}], \"type\": \"buttons\"}], \"width\": 950, \"xaxis\": {\"autorange\": false, \"range\": [0, 16], \"title\": {\"text\": \"Bars\"}, \"zeroline\": false}, \"yaxis\": {\"autorange\": false, \"range\": [-0.4, 1], \"title\": {\"text\": \"Correlation\"}, \"zeroline\": false}},\n",
       "                        {\"responsive\": true}\n",
       "                    ).then(function(){\n",
       "                            Plotly.addFrames('15bc9325-becc-4aad-98e9-b5f74d6e2045', [{\"data\": [{\"line\": {\"color\": \"black\", \"width\": 2}, \"mode\": \"lines\", \"x\": [0.0, 0.0], \"y\": [-2, 2], \"type\": \"scatter\"}]}, {\"data\": [{\"line\": {\"color\": \"black\", \"width\": 2}, \"mode\": \"lines\", \"x\": [0.5, 0.5], \"y\": [-2, 2], \"type\": \"scatter\"}]}, {\"data\": [{\"line\": {\"color\": \"black\", \"width\": 2}, \"mode\": \"lines\", \"x\": [1.0, 1.0], \"y\": [-2, 2], \"type\": \"scatter\"}]}, {\"data\": [{\"line\": {\"color\": \"black\", \"width\": 2}, \"mode\": \"lines\", \"x\": [1.5, 1.5], \"y\": [-2, 2], \"type\": \"scatter\"}]}, {\"data\": [{\"line\": {\"color\": \"black\", \"width\": 2}, \"mode\": \"lines\", \"x\": [2.0, 2.0], \"y\": [-2, 2], \"type\": \"scatter\"}]}, {\"data\": [{\"line\": {\"color\": \"black\", \"width\": 2}, \"mode\": \"lines\", \"x\": [2.5, 2.5], \"y\": [-2, 2], \"type\": \"scatter\"}]}, {\"data\": [{\"line\": {\"color\": \"black\", \"width\": 2}, \"mode\": \"lines\", \"x\": [3.0, 3.0], \"y\": [-2, 2], \"type\": \"scatter\"}]}, {\"data\": [{\"line\": {\"color\": \"black\", \"width\": 2}, \"mode\": \"lines\", \"x\": [3.5, 3.5], \"y\": [-2, 2], \"type\": \"scatter\"}]}, {\"data\": [{\"line\": {\"color\": \"black\", \"width\": 2}, \"mode\": \"lines\", \"x\": [4.0, 4.0], \"y\": [-2, 2], \"type\": \"scatter\"}]}, {\"data\": [{\"line\": {\"color\": \"black\", \"width\": 2}, \"mode\": \"lines\", \"x\": [4.5, 4.5], \"y\": [-2, 2], \"type\": \"scatter\"}]}, {\"data\": [{\"line\": {\"color\": \"black\", \"width\": 2}, \"mode\": \"lines\", \"x\": [5.0, 5.0], \"y\": [-2, 2], \"type\": \"scatter\"}]}, {\"data\": [{\"line\": {\"color\": \"black\", \"width\": 2}, \"mode\": \"lines\", \"x\": [5.5, 5.5], \"y\": [-2, 2], \"type\": \"scatter\"}]}, {\"data\": [{\"line\": {\"color\": \"black\", \"width\": 2}, \"mode\": \"lines\", \"x\": [6.0, 6.0], \"y\": [-2, 2], \"type\": \"scatter\"}]}, {\"data\": [{\"line\": {\"color\": \"black\", \"width\": 2}, \"mode\": \"lines\", \"x\": [6.5, 6.5], \"y\": [-2, 2], \"type\": \"scatter\"}]}, {\"data\": [{\"line\": {\"color\": \"black\", \"width\": 2}, \"mode\": \"lines\", \"x\": [7.0, 7.0], \"y\": [-2, 2], \"type\": \"scatter\"}]}, {\"data\": [{\"line\": {\"color\": \"black\", \"width\": 2}, \"mode\": \"lines\", \"x\": [7.5, 7.5], \"y\": [-2, 2], \"type\": \"scatter\"}]}, {\"data\": [{\"line\": {\"color\": \"black\", \"width\": 2}, \"mode\": \"lines\", \"x\": [8.0, 8.0], \"y\": [-2, 2], \"type\": \"scatter\"}]}, {\"data\": [{\"line\": {\"color\": \"black\", \"width\": 2}, \"mode\": \"lines\", \"x\": [8.5, 8.5], \"y\": [-2, 2], \"type\": \"scatter\"}]}, {\"data\": [{\"line\": {\"color\": \"black\", \"width\": 2}, \"mode\": \"lines\", \"x\": [9.0, 9.0], \"y\": [-2, 2], \"type\": \"scatter\"}]}, {\"data\": [{\"line\": {\"color\": \"black\", \"width\": 2}, \"mode\": \"lines\", \"x\": [9.5, 9.5], \"y\": [-2, 2], \"type\": \"scatter\"}]}, {\"data\": [{\"line\": {\"color\": \"black\", \"width\": 2}, \"mode\": \"lines\", \"x\": [10.0, 10.0], \"y\": [-2, 2], \"type\": \"scatter\"}]}, {\"data\": [{\"line\": {\"color\": \"black\", \"width\": 2}, \"mode\": \"lines\", \"x\": [10.5, 10.5], \"y\": [-2, 2], \"type\": \"scatter\"}]}, {\"data\": [{\"line\": {\"color\": \"black\", \"width\": 2}, \"mode\": \"lines\", \"x\": [11.0, 11.0], \"y\": [-2, 2], \"type\": \"scatter\"}]}, {\"data\": [{\"line\": {\"color\": \"black\", \"width\": 2}, \"mode\": \"lines\", \"x\": [11.5, 11.5], \"y\": [-2, 2], \"type\": \"scatter\"}]}, {\"data\": [{\"line\": {\"color\": \"black\", \"width\": 2}, \"mode\": \"lines\", \"x\": [12.0, 12.0], \"y\": [-2, 2], \"type\": \"scatter\"}]}, {\"data\": [{\"line\": {\"color\": \"black\", \"width\": 2}, \"mode\": \"lines\", \"x\": [12.5, 12.5], \"y\": [-2, 2], \"type\": \"scatter\"}]}, {\"data\": [{\"line\": {\"color\": \"black\", \"width\": 2}, \"mode\": \"lines\", \"x\": [13.0, 13.0], \"y\": [-2, 2], \"type\": \"scatter\"}]}, {\"data\": [{\"line\": {\"color\": \"black\", \"width\": 2}, \"mode\": \"lines\", \"x\": [13.5, 13.5], \"y\": [-2, 2], \"type\": \"scatter\"}]}, {\"data\": [{\"line\": {\"color\": \"black\", \"width\": 2}, \"mode\": \"lines\", \"x\": [14.0, 14.0], \"y\": [-2, 2], \"type\": \"scatter\"}]}, {\"data\": [{\"line\": {\"color\": \"black\", \"width\": 2}, \"mode\": \"lines\", \"x\": [14.5, 14.5], \"y\": [-2, 2], \"type\": \"scatter\"}]}, {\"data\": [{\"line\": {\"color\": \"black\", \"width\": 2}, \"mode\": \"lines\", \"x\": [15.0, 15.0], \"y\": [-2, 2], \"type\": \"scatter\"}]}, {\"data\": [{\"line\": {\"color\": \"black\", \"width\": 2}, \"mode\": \"lines\", \"x\": [15.5, 15.5], \"y\": [-2, 2], \"type\": \"scatter\"}]}, {\"data\": [{\"line\": {\"color\": \"black\", \"width\": 2}, \"mode\": \"lines\", \"x\": [16.0, 16.0], \"y\": [-2, 2], \"type\": \"scatter\"}]}, {\"data\": [{\"line\": {\"color\": \"black\", \"width\": 2}, \"mode\": \"lines\", \"x\": [16.5, 16.5], \"y\": [-2, 2], \"type\": \"scatter\"}]}]);\n",
       "                        }).then(function(){\n",
       "                            \n",
       "var gd = document.getElementById('15bc9325-becc-4aad-98e9-b5f74d6e2045');\n",
       "var x = new MutationObserver(function (mutations, observer) {{\n",
       "        var display = window.getComputedStyle(gd).display;\n",
       "        if (!display || display === 'none') {{\n",
       "            console.log([gd, 'removed!']);\n",
       "            Plotly.purge(gd);\n",
       "            observer.disconnect();\n",
       "        }}\n",
       "}});\n",
       "\n",
       "// Listen for the removal of the full notebook cells\n",
       "var notebookContainer = gd.closest('#notebook-container');\n",
       "if (notebookContainer) {{\n",
       "    x.observe(notebookContainer, {childList: true});\n",
       "}}\n",
       "\n",
       "// Listen for the clearing of the current output cell\n",
       "var outputEl = gd.closest('.output');\n",
       "if (outputEl) {{\n",
       "    x.observe(outputEl, {childList: true});\n",
       "}}\n",
       "\n",
       "                        })\n",
       "                };\n",
       "                });\n",
       "            </script>\n",
       "        </div>"
      ]
     },
     "metadata": {},
     "output_type": "display_data"
    }
   ],
   "source": [
    "key_traj_interactive(24, title=\"Key trajectories for Trio D41 Nr.12\") "
   ]
  },
  {
   "cell_type": "code",
   "execution_count": 85,
   "metadata": {},
   "outputs": [
    {
     "data": {
      "text/html": [
       "<div>\n",
       "<style scoped>\n",
       "    .dataframe tbody tr th:only-of-type {\n",
       "        vertical-align: middle;\n",
       "    }\n",
       "\n",
       "    .dataframe tbody tr th {\n",
       "        vertical-align: top;\n",
       "    }\n",
       "\n",
       "    .dataframe thead th {\n",
       "        text-align: right;\n",
       "    }\n",
       "</style>\n",
       "<table border=\"1\" class=\"dataframe\">\n",
       "  <thead>\n",
       "    <tr style=\"text-align: right;\">\n",
       "      <th></th>\n",
       "      <th>id</th>\n",
       "      <th>D</th>\n",
       "      <th>no</th>\n",
       "      <th>dance</th>\n",
       "      <th>path</th>\n",
       "      <th>gt_mode</th>\n",
       "      <th>entropy</th>\n",
       "      <th>duration_entropy</th>\n",
       "      <th>onset_entropy</th>\n",
       "      <th>num_keys</th>\n",
       "      <th>...</th>\n",
       "      <th>TitiTitiTiti_right</th>\n",
       "      <th>TitiTitino_right</th>\n",
       "      <th>TitigiTa_right</th>\n",
       "      <th>TitigiTi_right</th>\n",
       "      <th>TitigiTigitigi_right</th>\n",
       "      <th>TitigiTiti_right</th>\n",
       "      <th>TitigiTitigi_right</th>\n",
       "      <th>Triole_right</th>\n",
       "      <th>nogiTimgi_right</th>\n",
       "      <th>nogiTiti_right</th>\n",
       "    </tr>\n",
       "  </thead>\n",
       "  <tbody>\n",
       "    <tr>\n",
       "      <th>6</th>\n",
       "      <td>7</td>\n",
       "      <td>41</td>\n",
       "      <td>4</td>\n",
       "      <td>menuett</td>\n",
       "      <td>041/D041menuett04a.mscx</td>\n",
       "      <td>minor</td>\n",
       "      <td>0.598936</td>\n",
       "      <td>1.098277</td>\n",
       "      <td>1.944786</td>\n",
       "      <td>6</td>\n",
       "      <td>...</td>\n",
       "      <td>0.000</td>\n",
       "      <td>0.0</td>\n",
       "      <td>0.0</td>\n",
       "      <td>0.0</td>\n",
       "      <td>0.0</td>\n",
       "      <td>0.0</td>\n",
       "      <td>0.0</td>\n",
       "      <td>0.0</td>\n",
       "      <td>0.0</td>\n",
       "      <td>0.0</td>\n",
       "    </tr>\n",
       "    <tr>\n",
       "      <th>15</th>\n",
       "      <td>16</td>\n",
       "      <td>41</td>\n",
       "      <td>8</td>\n",
       "      <td>trio</td>\n",
       "      <td>041/D041trio08b.mscx</td>\n",
       "      <td>minor</td>\n",
       "      <td>0.487186</td>\n",
       "      <td>1.268542</td>\n",
       "      <td>2.022451</td>\n",
       "      <td>4</td>\n",
       "      <td>...</td>\n",
       "      <td>0.000</td>\n",
       "      <td>0.0</td>\n",
       "      <td>0.0</td>\n",
       "      <td>0.0</td>\n",
       "      <td>0.0</td>\n",
       "      <td>0.0</td>\n",
       "      <td>0.0</td>\n",
       "      <td>0.0</td>\n",
       "      <td>0.0</td>\n",
       "      <td>0.0</td>\n",
       "    </tr>\n",
       "    <tr>\n",
       "      <th>17</th>\n",
       "      <td>18</td>\n",
       "      <td>41</td>\n",
       "      <td>9</td>\n",
       "      <td>trio</td>\n",
       "      <td>041/D041trio09b.mscx</td>\n",
       "      <td>minor</td>\n",
       "      <td>0.559230</td>\n",
       "      <td>0.627309</td>\n",
       "      <td>1.899749</td>\n",
       "      <td>3</td>\n",
       "      <td>...</td>\n",
       "      <td>0.000</td>\n",
       "      <td>0.0</td>\n",
       "      <td>0.0</td>\n",
       "      <td>0.0</td>\n",
       "      <td>0.0</td>\n",
       "      <td>0.0</td>\n",
       "      <td>0.0</td>\n",
       "      <td>0.0</td>\n",
       "      <td>0.0</td>\n",
       "      <td>0.0</td>\n",
       "    </tr>\n",
       "    <tr>\n",
       "      <th>23</th>\n",
       "      <td>24</td>\n",
       "      <td>41</td>\n",
       "      <td>12</td>\n",
       "      <td>trio</td>\n",
       "      <td>041/D041trio12b.mscx</td>\n",
       "      <td>minor</td>\n",
       "      <td>0.598641</td>\n",
       "      <td>1.181752</td>\n",
       "      <td>1.893578</td>\n",
       "      <td>3</td>\n",
       "      <td>...</td>\n",
       "      <td>0.000</td>\n",
       "      <td>0.0</td>\n",
       "      <td>0.0</td>\n",
       "      <td>0.0</td>\n",
       "      <td>0.0</td>\n",
       "      <td>0.0</td>\n",
       "      <td>0.0</td>\n",
       "      <td>0.0</td>\n",
       "      <td>0.0</td>\n",
       "      <td>0.0</td>\n",
       "    </tr>\n",
       "    <tr>\n",
       "      <th>51</th>\n",
       "      <td>52</td>\n",
       "      <td>128</td>\n",
       "      <td>6</td>\n",
       "      <td>deutscher</td>\n",
       "      <td>128/D128deutscher06.mscx</td>\n",
       "      <td>minor</td>\n",
       "      <td>0.653202</td>\n",
       "      <td>1.006658</td>\n",
       "      <td>1.581356</td>\n",
       "      <td>7</td>\n",
       "      <td>...</td>\n",
       "      <td>1.125</td>\n",
       "      <td>0.0</td>\n",
       "      <td>0.0</td>\n",
       "      <td>0.0</td>\n",
       "      <td>0.0</td>\n",
       "      <td>0.0</td>\n",
       "      <td>0.0</td>\n",
       "      <td>0.0</td>\n",
       "      <td>0.0</td>\n",
       "      <td>0.0</td>\n",
       "    </tr>\n",
       "    <tr>\n",
       "      <th>...</th>\n",
       "      <td>...</td>\n",
       "      <td>...</td>\n",
       "      <td>...</td>\n",
       "      <td>...</td>\n",
       "      <td>...</td>\n",
       "      <td>...</td>\n",
       "      <td>...</td>\n",
       "      <td>...</td>\n",
       "      <td>...</td>\n",
       "      <td>...</td>\n",
       "      <td>...</td>\n",
       "      <td>...</td>\n",
       "      <td>...</td>\n",
       "      <td>...</td>\n",
       "      <td>...</td>\n",
       "      <td>...</td>\n",
       "      <td>...</td>\n",
       "      <td>...</td>\n",
       "      <td>...</td>\n",
       "      <td>...</td>\n",
       "      <td>...</td>\n",
       "    </tr>\n",
       "    <tr>\n",
       "      <th>400</th>\n",
       "      <td>401</td>\n",
       "      <td>969</td>\n",
       "      <td>9</td>\n",
       "      <td>walzer</td>\n",
       "      <td>969/D969walzer09.mscx</td>\n",
       "      <td>minor</td>\n",
       "      <td>0.602801</td>\n",
       "      <td>1.286319</td>\n",
       "      <td>1.445021</td>\n",
       "      <td>5</td>\n",
       "      <td>...</td>\n",
       "      <td>0.000</td>\n",
       "      <td>0.0</td>\n",
       "      <td>0.0</td>\n",
       "      <td>0.0</td>\n",
       "      <td>0.0</td>\n",
       "      <td>0.0</td>\n",
       "      <td>0.0</td>\n",
       "      <td>0.0</td>\n",
       "      <td>0.0</td>\n",
       "      <td>0.0</td>\n",
       "    </tr>\n",
       "    <tr>\n",
       "      <th>410</th>\n",
       "      <td>411</td>\n",
       "      <td>971</td>\n",
       "      <td>1</td>\n",
       "      <td>deutscher</td>\n",
       "      <td>971/D971deutscher01.mscx</td>\n",
       "      <td>minor</td>\n",
       "      <td>0.589824</td>\n",
       "      <td>0.974953</td>\n",
       "      <td>1.269110</td>\n",
       "      <td>5</td>\n",
       "      <td>...</td>\n",
       "      <td>0.000</td>\n",
       "      <td>0.0</td>\n",
       "      <td>0.0</td>\n",
       "      <td>0.0</td>\n",
       "      <td>0.0</td>\n",
       "      <td>0.0</td>\n",
       "      <td>0.0</td>\n",
       "      <td>0.0</td>\n",
       "      <td>0.0</td>\n",
       "      <td>0.0</td>\n",
       "    </tr>\n",
       "    <tr>\n",
       "      <th>429</th>\n",
       "      <td>430</td>\n",
       "      <td>977</td>\n",
       "      <td>8</td>\n",
       "      <td>ecossaise</td>\n",
       "      <td>977/D977ecossaise08.mscx</td>\n",
       "      <td>minor</td>\n",
       "      <td>0.613197</td>\n",
       "      <td>1.044776</td>\n",
       "      <td>1.105133</td>\n",
       "      <td>4</td>\n",
       "      <td>...</td>\n",
       "      <td>0.000</td>\n",
       "      <td>0.0</td>\n",
       "      <td>0.0</td>\n",
       "      <td>0.0</td>\n",
       "      <td>0.0</td>\n",
       "      <td>0.0</td>\n",
       "      <td>0.0</td>\n",
       "      <td>0.0</td>\n",
       "      <td>0.0</td>\n",
       "      <td>0.0</td>\n",
       "    </tr>\n",
       "    <tr>\n",
       "      <th>431</th>\n",
       "      <td>432</td>\n",
       "      <td>979</td>\n",
       "      <td>1</td>\n",
       "      <td>walzer</td>\n",
       "      <td>979/D979walzer01.mscx</td>\n",
       "      <td>minor</td>\n",
       "      <td>0.594023</td>\n",
       "      <td>0.974426</td>\n",
       "      <td>1.348083</td>\n",
       "      <td>6</td>\n",
       "      <td>...</td>\n",
       "      <td>0.000</td>\n",
       "      <td>0.0</td>\n",
       "      <td>0.0</td>\n",
       "      <td>0.0</td>\n",
       "      <td>0.0</td>\n",
       "      <td>0.0</td>\n",
       "      <td>0.0</td>\n",
       "      <td>0.0</td>\n",
       "      <td>0.0</td>\n",
       "      <td>0.0</td>\n",
       "    </tr>\n",
       "    <tr>\n",
       "      <th>433</th>\n",
       "      <td>434</td>\n",
       "      <td>980</td>\n",
       "      <td>2</td>\n",
       "      <td>walzer</td>\n",
       "      <td>980/D980walzer02.mscx</td>\n",
       "      <td>minor</td>\n",
       "      <td>0.588739</td>\n",
       "      <td>0.912927</td>\n",
       "      <td>1.321159</td>\n",
       "      <td>5</td>\n",
       "      <td>...</td>\n",
       "      <td>0.000</td>\n",
       "      <td>0.0</td>\n",
       "      <td>0.0</td>\n",
       "      <td>0.0</td>\n",
       "      <td>0.0</td>\n",
       "      <td>0.0</td>\n",
       "      <td>0.0</td>\n",
       "      <td>0.0</td>\n",
       "      <td>0.0</td>\n",
       "      <td>0.0</td>\n",
       "    </tr>\n",
       "  </tbody>\n",
       "</table>\n",
       "<p>63 rows × 231 columns</p>\n",
       "</div>"
      ],
      "text/plain": [
       "      id    D  no      dance                      path gt_mode   entropy  \\\n",
       "6      7   41   4    menuett   041/D041menuett04a.mscx   minor  0.598936   \n",
       "15    16   41   8       trio      041/D041trio08b.mscx   minor  0.487186   \n",
       "17    18   41   9       trio      041/D041trio09b.mscx   minor  0.559230   \n",
       "23    24   41  12       trio      041/D041trio12b.mscx   minor  0.598641   \n",
       "51    52  128   6  deutscher  128/D128deutscher06.mscx   minor  0.653202   \n",
       "..   ...  ...  ..        ...                       ...     ...       ...   \n",
       "400  401  969   9     walzer     969/D969walzer09.mscx   minor  0.602801   \n",
       "410  411  971   1  deutscher  971/D971deutscher01.mscx   minor  0.589824   \n",
       "429  430  977   8  ecossaise  977/D977ecossaise08.mscx   minor  0.613197   \n",
       "431  432  979   1     walzer     979/D979walzer01.mscx   minor  0.594023   \n",
       "433  434  980   2     walzer     980/D980walzer02.mscx   minor  0.588739   \n",
       "\n",
       "     duration_entropy  onset_entropy  num_keys  ...  TitiTitiTiti_right  \\\n",
       "6            1.098277       1.944786         6  ...               0.000   \n",
       "15           1.268542       2.022451         4  ...               0.000   \n",
       "17           0.627309       1.899749         3  ...               0.000   \n",
       "23           1.181752       1.893578         3  ...               0.000   \n",
       "51           1.006658       1.581356         7  ...               1.125   \n",
       "..                ...            ...       ...  ...                 ...   \n",
       "400          1.286319       1.445021         5  ...               0.000   \n",
       "410          0.974953       1.269110         5  ...               0.000   \n",
       "429          1.044776       1.105133         4  ...               0.000   \n",
       "431          0.974426       1.348083         6  ...               0.000   \n",
       "433          0.912927       1.321159         5  ...               0.000   \n",
       "\n",
       "     TitiTitino_right  TitigiTa_right  TitigiTi_right  TitigiTigitigi_right  \\\n",
       "6                 0.0             0.0             0.0                   0.0   \n",
       "15                0.0             0.0             0.0                   0.0   \n",
       "17                0.0             0.0             0.0                   0.0   \n",
       "23                0.0             0.0             0.0                   0.0   \n",
       "51                0.0             0.0             0.0                   0.0   \n",
       "..                ...             ...             ...                   ...   \n",
       "400               0.0             0.0             0.0                   0.0   \n",
       "410               0.0             0.0             0.0                   0.0   \n",
       "429               0.0             0.0             0.0                   0.0   \n",
       "431               0.0             0.0             0.0                   0.0   \n",
       "433               0.0             0.0             0.0                   0.0   \n",
       "\n",
       "     TitigiTiti_right  TitigiTitigi_right  Triole_right  nogiTimgi_right  \\\n",
       "6                 0.0                 0.0           0.0              0.0   \n",
       "15                0.0                 0.0           0.0              0.0   \n",
       "17                0.0                 0.0           0.0              0.0   \n",
       "23                0.0                 0.0           0.0              0.0   \n",
       "51                0.0                 0.0           0.0              0.0   \n",
       "..                ...                 ...           ...              ...   \n",
       "400               0.0                 0.0           0.0              0.0   \n",
       "410               0.0                 0.0           0.0              0.0   \n",
       "429               0.0                 0.0           0.0              0.0   \n",
       "431               0.0                 0.0           0.0              0.0   \n",
       "433               0.0                 0.0           0.0              0.0   \n",
       "\n",
       "     nogiTiti_right  \n",
       "6               0.0  \n",
       "15              0.0  \n",
       "17              0.0  \n",
       "23              0.0  \n",
       "51              0.0  \n",
       "..              ...  \n",
       "400             0.0  \n",
       "410             0.0  \n",
       "429             0.0  \n",
       "431             0.0  \n",
       "433             0.0  \n",
       "\n",
       "[63 rows x 231 columns]"
      ]
     },
     "execution_count": 85,
     "metadata": {},
     "output_type": "execute_result"
    }
   ],
   "source": [
    "files.loc[files['gt_mode']=='minor'].head(314)"
   ]
  },
  {
   "cell_type": "code",
   "execution_count": 90,
   "metadata": {},
   "outputs": [],
   "source": [
    "key_trajectories = key_trajectory(24)[0][key_trajectory(24)[0].index.isin(key_trajectory(24)[1])].transpose()"
   ]
  },
  {
   "cell_type": "code",
   "execution_count": 91,
   "metadata": {},
   "outputs": [
    {
     "data": {
      "text/html": [
       "<div>\n",
       "<style scoped>\n",
       "    .dataframe tbody tr th:only-of-type {\n",
       "        vertical-align: middle;\n",
       "    }\n",
       "\n",
       "    .dataframe tbody tr th {\n",
       "        vertical-align: top;\n",
       "    }\n",
       "\n",
       "    .dataframe thead th {\n",
       "        text-align: right;\n",
       "    }\n",
       "</style>\n",
       "<table border=\"1\" class=\"dataframe\">\n",
       "  <thead>\n",
       "    <tr style=\"text-align: right;\">\n",
       "      <th></th>\n",
       "      <th>(major, C)</th>\n",
       "      <th>(minor, A)</th>\n",
       "      <th>(minor, G#/Ab)</th>\n",
       "    </tr>\n",
       "  </thead>\n",
       "  <tbody>\n",
       "    <tr>\n",
       "      <th>0</th>\n",
       "      <td>0.399429</td>\n",
       "      <td>0.641353</td>\n",
       "      <td>0.137016</td>\n",
       "    </tr>\n",
       "    <tr>\n",
       "      <th>1</th>\n",
       "      <td>0.404478</td>\n",
       "      <td>0.750187</td>\n",
       "      <td>0.100679</td>\n",
       "    </tr>\n",
       "    <tr>\n",
       "      <th>2</th>\n",
       "      <td>0.258818</td>\n",
       "      <td>0.523181</td>\n",
       "      <td>0.199027</td>\n",
       "    </tr>\n",
       "    <tr>\n",
       "      <th>3</th>\n",
       "      <td>0.400609</td>\n",
       "      <td>0.767742</td>\n",
       "      <td>0.097453</td>\n",
       "    </tr>\n",
       "    <tr>\n",
       "      <th>4</th>\n",
       "      <td>0.315456</td>\n",
       "      <td>0.549681</td>\n",
       "      <td>-0.138842</td>\n",
       "    </tr>\n",
       "    <tr>\n",
       "      <th>5</th>\n",
       "      <td>0.605440</td>\n",
       "      <td>0.543689</td>\n",
       "      <td>-0.305232</td>\n",
       "    </tr>\n",
       "    <tr>\n",
       "      <th>6</th>\n",
       "      <td>0.657635</td>\n",
       "      <td>0.322509</td>\n",
       "      <td>-0.386849</td>\n",
       "    </tr>\n",
       "    <tr>\n",
       "      <th>7</th>\n",
       "      <td>0.862497</td>\n",
       "      <td>0.404246</td>\n",
       "      <td>-0.162565</td>\n",
       "    </tr>\n",
       "    <tr>\n",
       "      <th>8</th>\n",
       "      <td>0.910814</td>\n",
       "      <td>0.433166</td>\n",
       "      <td>-0.238019</td>\n",
       "    </tr>\n",
       "    <tr>\n",
       "      <th>9</th>\n",
       "      <td>0.504545</td>\n",
       "      <td>-0.151525</td>\n",
       "      <td>0.156091</td>\n",
       "    </tr>\n",
       "    <tr>\n",
       "      <th>10</th>\n",
       "      <td>0.640934</td>\n",
       "      <td>0.071772</td>\n",
       "      <td>0.186960</td>\n",
       "    </tr>\n",
       "    <tr>\n",
       "      <th>11</th>\n",
       "      <td>0.434890</td>\n",
       "      <td>0.173090</td>\n",
       "      <td>0.543202</td>\n",
       "    </tr>\n",
       "    <tr>\n",
       "      <th>12</th>\n",
       "      <td>0.463072</td>\n",
       "      <td>0.699873</td>\n",
       "      <td>0.295806</td>\n",
       "    </tr>\n",
       "    <tr>\n",
       "      <th>13</th>\n",
       "      <td>0.277143</td>\n",
       "      <td>0.547947</td>\n",
       "      <td>0.319598</td>\n",
       "    </tr>\n",
       "    <tr>\n",
       "      <th>14</th>\n",
       "      <td>0.382318</td>\n",
       "      <td>0.714150</td>\n",
       "      <td>0.112894</td>\n",
       "    </tr>\n",
       "    <tr>\n",
       "      <th>15</th>\n",
       "      <td>0.284882</td>\n",
       "      <td>0.760131</td>\n",
       "      <td>0.110913</td>\n",
       "    </tr>\n",
       "    <tr>\n",
       "      <th>16</th>\n",
       "      <td>0.302931</td>\n",
       "      <td>0.890043</td>\n",
       "      <td>-0.012807</td>\n",
       "    </tr>\n",
       "  </tbody>\n",
       "</table>\n",
       "</div>"
      ],
      "text/plain": [
       "    (major, C)  (minor, A)  (minor, G#/Ab)\n",
       "0     0.399429    0.641353        0.137016\n",
       "1     0.404478    0.750187        0.100679\n",
       "2     0.258818    0.523181        0.199027\n",
       "3     0.400609    0.767742        0.097453\n",
       "4     0.315456    0.549681       -0.138842\n",
       "5     0.605440    0.543689       -0.305232\n",
       "6     0.657635    0.322509       -0.386849\n",
       "7     0.862497    0.404246       -0.162565\n",
       "8     0.910814    0.433166       -0.238019\n",
       "9     0.504545   -0.151525        0.156091\n",
       "10    0.640934    0.071772        0.186960\n",
       "11    0.434890    0.173090        0.543202\n",
       "12    0.463072    0.699873        0.295806\n",
       "13    0.277143    0.547947        0.319598\n",
       "14    0.382318    0.714150        0.112894\n",
       "15    0.284882    0.760131        0.110913\n",
       "16    0.302931    0.890043       -0.012807"
      ]
     },
     "execution_count": 91,
     "metadata": {},
     "output_type": "execute_result"
    }
   ],
   "source": [
    "key_trajectories"
   ]
  },
  {
   "cell_type": "code",
   "execution_count": null,
   "metadata": {},
   "outputs": [],
   "source": []
  }
 ],
 "metadata": {
  "kernelspec": {
   "display_name": "Python 3",
   "language": "python",
   "name": "python3"
  },
  "language_info": {
   "codemirror_mode": {
    "name": "ipython",
    "version": 3
   },
   "file_extension": ".py",
   "mimetype": "text/x-python",
   "name": "python",
   "nbconvert_exporter": "python",
   "pygments_lexer": "ipython3",
   "version": "3.7.3"
  }
 },
 "nbformat": 4,
 "nbformat_minor": 2
}
