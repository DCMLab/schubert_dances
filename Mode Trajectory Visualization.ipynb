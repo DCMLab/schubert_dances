{
 "cells": [
  {
   "cell_type": "markdown",
   "metadata": {},
   "source": [
    "# Mode Trajectory Video"
   ]
  },
  {
   "cell_type": "code",
   "execution_count": 1,
   "metadata": {},
   "outputs": [],
   "source": [
    "import pandas as pd\n",
    "import pickle\n",
    "import numpy as np\n",
    "import itertools\n",
    "from scipy import stats \n",
    "import plotly.graph_objects as go"
   ]
  },
  {
   "cell_type": "code",
   "execution_count": 10,
   "metadata": {},
   "outputs": [],
   "source": [
    "with open('note_list.pkl', 'rb') as f:\n",
    "    note_list = pickle.load(f)\n",
    "with open('note_list_transposed.pkl', 'rb') as f:\n",
    "    note_list_transposed = pickle.load(f)\n",
    "with open('measure_list.pkl', 'rb') as f:\n",
    "    measure_list = pickle.load(f)\n",
    "with open('files.pkl', 'rb') as f:\n",
    "    files = pickle.load(f)"
   ]
  },
  {
   "cell_type": "code",
   "execution_count": 3,
   "metadata": {},
   "outputs": [],
   "source": [
    "def KK(mode, transposition):\n",
    "    \"\"\"Krumhansl and Kessler (1982) key profiles for major and minor modes\"\"\"\n",
    "    \n",
    "    major = [6.20, 2.55, 3.45, 2.85, 4.22, 4.57, 2.67, 5.25, 2.45, 3.35, 2.70, 2.70]\n",
    "    minor = [6.03, 3.35, 3.67, 5.28, 2.58, 3.55, 2.87, 4.80, 4.35, 2.67, 2.50, 3.42]\n",
    "    \n",
    "    major_by_fifths = [None] * len(major)\n",
    "    minor_by_fifths = [None] * len(minor)\n",
    "    \n",
    "    #reorder by fifths\n",
    "    for i in range(len(major)):\n",
    "        major_by_fifths[(i*7)%12] = major[i]\n",
    "        minor_by_fifths[((i*7)+3)%12] = minor[i]\n",
    "    \n",
    "    #major = list(map(lambda x: x/sum(major), major))\n",
    "    #minor = list(map(lambda x: x/sum(minor), minor))\n",
    "    \n",
    "    if mode == 0:   \n",
    "        return major_by_fifths[-transposition:]+major[:-transposition]\n",
    "    elif mode == 1:\n",
    "        return minor_by_fifths[-transposition:]+minor[:-transposition]\n",
    "    else:\n",
    "        print('0 = major, 1 = minor')"
   ]
  },
  {
   "cell_type": "code",
   "execution_count": 4,
   "metadata": {},
   "outputs": [],
   "source": [
    "def bag_of_notes(df, tpc='tpc'):\n",
    "    \"\"\"Input: DataFrame including the columns ['tpc', 'duration'].\n",
    "    Output: Note distribution.\"\"\"\n",
    "    tpcs = df.tpc\n",
    "    occurring = np.sort(tpcs.unique())\n",
    "    bag = pd.DataFrame(index=occurring, columns=['count_a', 'count_n', 'duration_a', 'duration_n'])\n",
    "    GB = df.groupby('tpc')\n",
    "    bag.count_a = GB.size()\n",
    "    bag.count_n = bag.count_a / bag.count_a.sum()\n",
    "    bag.duration_a = GB['duration'].sum().astype(float)\n",
    "    bag.duration_n = (bag.duration_a / bag.duration_a.sum()).astype(float)\n",
    "    if tpc != 'tpc':\n",
    "        names = tpc.split('+')\n",
    "        note_names = []\n",
    "        for n in names:\n",
    "            if n == 'tpc':\n",
    "                note_names.append(occurring)\n",
    "            elif n == 'name':\n",
    "                note_names.append(tpc2name(occurring))\n",
    "            elif n == 'degree':\n",
    "                note_names.append(tpc2rn(occurring))\n",
    "            elif n == 'pc':\n",
    "                note_names.append(tpc2pc(occurring))\n",
    "            else:\n",
    "                logging.warning(\"Parameter tpc can only be {'tpc', 'name', 'degree', 'pc'} or a combination such as 'tpc+pc' or 'name+degree+tpc'.\")\n",
    "        L = len(note_names)\n",
    "        if L == 0:\n",
    "            note_names.append(bag.index)\n",
    "            L = 1\n",
    "        if L == 1:\n",
    "            bag.index = note_names[0]\n",
    "        else:\n",
    "            bag.index = [f\"{t[0]} ({', '.join(str(e) for e in t[1:])})\" for t in zip(*note_names)]\n",
    "    return bag"
   ]
  },
  {
   "cell_type": "code",
   "execution_count": 5,
   "metadata": {},
   "outputs": [],
   "source": [
    "def key_slider(dance, m):\n",
    "    '''Returns the correlation with major and minor key profiles in a 2-measures window starting at m'''\n",
    "    window = (note_list_transposed.mc >= m) & (note_list_transposed.mc <= m+2)\n",
    "    bag = bag_of_notes(note_list_transposed[window].loc[dance], 'tpc')\n",
    "    \n",
    "    key_profile = pd.DataFrame(index = list(range(12)), columns = ['profile']).fillna(0)\n",
    "    for i in bag.index:\n",
    "        key_profile.loc[i] = bag.duration_n.loc[i]\n",
    "        \n",
    "    temp = pd.Series(list(itertools.product([0,1], range(12))), index = pd.MultiIndex.from_product([['major', 'minor'], ['C', 'G',  'D',  'A', 'E','B', 'F#/Gb', 'C#/Db','G#/Ab', 'D#/Eb', 'A#/Bb', 'F']]))\n",
    "    temp = temp.apply(lambda x: KK(x[0], x[1]-3*x[0]))\n",
    "    temp = temp.apply(lambda x: stats.pearsonr(key_profile.profile, x)[0])\n",
    "    \n",
    "    \n",
    "    return temp"
   ]
  },
  {
   "cell_type": "code",
   "execution_count": 6,
   "metadata": {},
   "outputs": [],
   "source": [
    "def key_trajectory(dance):\n",
    "    local_max = []\n",
    "    trajectory = pd.DataFrame()\n",
    "    \n",
    "    for i in range(len(measure_list.loc[dance])-1):\n",
    "        keys = key_slider(dance,i).copy()\n",
    "        trajectory = pd.concat([trajectory, keys], axis = 1, ignore_index = True)\n",
    "        local_max += [keys.idxmax()]\n",
    "    \n",
    "    return [trajectory, set(local_max)]"
   ]
  },
  {
   "cell_type": "code",
   "execution_count": 103,
   "metadata": {},
   "outputs": [],
   "source": [
    "def key_traj_interactive(dance, speed=0.5, xlabel='Bars', ylabel='Correlation', title='Key Correlations'):    \n",
    "    \"\"\" Plots key trajectories and an animated position marker as vertical line\n",
    "\n",
    "    Args:\n",
    "        dance: Index of the dance to plot\n",
    "        speed: Speed of the marker (bars per animation frame)\n",
    "        xlabel: Label of the x-axis\n",
    "        ylabel: Label of the y-axis\n",
    "        title: Plot title\n",
    "\n",
    "    \"\"\"\n",
    "\n",
    "\n",
    "    key_trajectories = key_trajectory(dance)[0][key_trajectory(dance)[0].index.isin(key_trajectory(dance)[1])].transpose()\n",
    "\n",
    "    # Define the colors of the trajectories\n",
    "    colors = ['#1f77b4', '#ff7f0e', '#2ca02c', '#d62728', '#9467bd',\n",
    "              '#8c564b', '#e377c2', '#7f7f7f', '#bcbd22', '#17becf']\n",
    "    maj_colors = ['#1a5276 ', ' #2e86c1 ', ' #7fb3d5 ', ' #154360 ']\n",
    "    min_colors = ['#FF0010', ' #e74c3c  ', ' #7b241c ', ' #d98880 ']\n",
    "\n",
    "    n_bars = key_trajectories.shape[0]\n",
    "    bars = list(range(n_bars))\n",
    "    data = []\n",
    "\n",
    "    # Plot the permanent data \n",
    "    for idx, key in enumerate(key_trajectories):\n",
    "        if 'minor' in key:\n",
    "            color = min_colors[idx%len(min_colors)]\n",
    "        else:\n",
    "            color = maj_colors[idx%len(maj_colors)]\n",
    "        key_graph1=go.Scatter(x=bars, y=key_trajectories[key],\n",
    "                              mode=\"lines\",\n",
    "                              showlegend=False,\n",
    "                              line=dict(color=color))\n",
    "        key_graph2=go.Scatter(x=bars, y=key_trajectories[key],\n",
    "                              name=str(key[1])+' '+str(key[0]),\n",
    "                              mode=\"lines\",\n",
    "                              line=dict(color=color))\n",
    "        data.append(key_graph1)\n",
    "        data.append(key_graph2)\n",
    "\n",
    "    # Define the buttons\n",
    "    updatemenus = [dict(buttons=[dict(args=[None, \n",
    "                                            dict(frame=dict(duration=500, redraw=False),\n",
    "                                                 fromcurrent=True,\n",
    "                                                 transition=dict(duration=3000, easing='quadratic-in-out'))],\n",
    "                                      label='Play',\n",
    "                                      method='animate'),\n",
    "                                 dict(args=[[None],\n",
    "                                            dict(frame=dict(duration=0, redraw=False),\n",
    "                                                 mode='immediate',\n",
    "                                                 transition=dict(duration=0))],\n",
    "                                          label='Pause',\n",
    "                                          method='animate')],\n",
    "                        type='buttons')]\n",
    "\n",
    "    #Create the moving frames(i.e. the vertical line that moves from left to right)\n",
    "    bar_axis = np.arange(0, n_bars, speed)\n",
    "\n",
    "    frames=[go.Frame(\n",
    "            data=[go.Scatter(\n",
    "                x=[bar_axis[k], bar_axis[k]],\n",
    "                y=[-2, 2],\n",
    "                mode=\"lines\",\n",
    "                line=dict(color=\"black\", width=2))\n",
    "            ]) for k in range(len(bar_axis))]\n",
    "\n",
    "    # Define the layout of the plot\n",
    "    layout=go.Layout(width=950, height=600,\n",
    "                     xaxis=dict(range=[0, max(bars)], autorange=False, zeroline=False),\n",
    "                     yaxis=dict(range=[-0.4, 1], autorange=False, zeroline=False),\n",
    "                     xaxis_title=xlabel,\n",
    "                     yaxis_title=ylabel,\n",
    "                     title=title,\n",
    "                     hovermode=\"closest\",\n",
    "                     updatemenus=updatemenus)\n",
    "\n",
    "    # Create figure\n",
    "    fig = go.Figure(data, layout, frames)\n",
    "    fig.show()"
   ]
  },
  {
   "cell_type": "code",
   "execution_count": 104,
   "metadata": {
    "scrolled": false
   },
   "outputs": [
    {
     "data": {
      "application/vnd.plotly.v1+json": {
       "config": {
        "plotlyServerURL": "https://plot.ly"
       },
       "data": [
        {
         "line": {
          "color": "#1a5276 "
         },
         "mode": "lines",
         "showlegend": false,
         "type": "scatter",
         "x": [
          0,
          1,
          2,
          3,
          4,
          5,
          6,
          7,
          8,
          9,
          10,
          11,
          12,
          13,
          14,
          15,
          16,
          17,
          18,
          19,
          20
         ],
         "y": [
          0.7065959628530418,
          0.560587268919891,
          0.7731092597897361,
          0.5439504087410314,
          0.47594296249967416,
          0.21198762848321934,
          0.29025187293202814,
          0.3768102227306246,
          0.3940946475117733,
          0.23269500937734064,
          0.1765980456226835,
          0.20664441330903266,
          0.3068096370769999,
          0.6914974558959834,
          0.5654559819892129,
          0.8302725397281103,
          0.6937973169347329,
          0.8396415732369439,
          0.7024596524978015,
          0.9376362288701028,
          0.9697538132764532
         ]
        },
        {
         "line": {
          "color": "#1a5276 "
         },
         "mode": "lines",
         "name": "C major",
         "type": "scatter",
         "x": [
          0,
          1,
          2,
          3,
          4,
          5,
          6,
          7,
          8,
          9,
          10,
          11,
          12,
          13,
          14,
          15,
          16,
          17,
          18,
          19,
          20
         ],
         "y": [
          0.7065959628530418,
          0.560587268919891,
          0.7731092597897361,
          0.5439504087410314,
          0.47594296249967416,
          0.21198762848321934,
          0.29025187293202814,
          0.3768102227306246,
          0.3940946475117733,
          0.23269500937734064,
          0.1765980456226835,
          0.20664441330903266,
          0.3068096370769999,
          0.6914974558959834,
          0.5654559819892129,
          0.8302725397281103,
          0.6937973169347329,
          0.8396415732369439,
          0.7024596524978015,
          0.9376362288701028,
          0.9697538132764532
         ]
        },
        {
         "line": {
          "color": " #2e86c1 "
         },
         "mode": "lines",
         "showlegend": false,
         "type": "scatter",
         "x": [
          0,
          1,
          2,
          3,
          4,
          5,
          6,
          7,
          8,
          9,
          10,
          11,
          12,
          13,
          14,
          15,
          16,
          17,
          18,
          19,
          20
         ],
         "y": [
          0.17380721873454688,
          0.259286813473945,
          0.029008005775548986,
          0.3821876951294939,
          0.36029445129982235,
          0.5299399373820692,
          0.514326061131716,
          0.5581686672210141,
          0.17151830997489614,
          -0.0794676350458337,
          -0.09335408267432443,
          -0.1416566850827079,
          -0.006089869019484127,
          0.04686072331865151,
          0.321709337854128,
          0.10919854135156369,
          0.31699945200072516,
          0.028262161782044482,
          0.2228730307058454,
          -0.13139251621209627,
          -0.11175570245103703
         ]
        },
        {
         "line": {
          "color": " #2e86c1 "
         },
         "mode": "lines",
         "name": "D major",
         "type": "scatter",
         "x": [
          0,
          1,
          2,
          3,
          4,
          5,
          6,
          7,
          8,
          9,
          10,
          11,
          12,
          13,
          14,
          15,
          16,
          17,
          18,
          19,
          20
         ],
         "y": [
          0.17380721873454688,
          0.259286813473945,
          0.029008005775548986,
          0.3821876951294939,
          0.36029445129982235,
          0.5299399373820692,
          0.514326061131716,
          0.5581686672210141,
          0.17151830997489614,
          -0.0794676350458337,
          -0.09335408267432443,
          -0.1416566850827079,
          -0.006089869019484127,
          0.04686072331865151,
          0.321709337854128,
          0.10919854135156369,
          0.31699945200072516,
          0.028262161782044482,
          0.2228730307058454,
          -0.13139251621209627,
          -0.11175570245103703
         ]
        },
        {
         "line": {
          "color": " #7b241c "
         },
         "mode": "lines",
         "showlegend": false,
         "type": "scatter",
         "x": [
          0,
          1,
          2,
          3,
          4,
          5,
          6,
          7,
          8,
          9,
          10,
          11,
          12,
          13,
          14,
          15,
          16,
          17,
          18,
          19,
          20
         ],
         "y": [
          -0.03249855250213486,
          0.022931880046070857,
          -0.15139059215109318,
          0.08669299934120088,
          0.012835383650009968,
          0.17922542449278897,
          0.11518129989888122,
          0.1896412652616519,
          0.09150330822351486,
          0.6321751016883179,
          0.4461076022333498,
          0.6712911584672796,
          0.6649907362721227,
          0.5257319639092325,
          0.3672385538831494,
          0.03886816577097352,
          0.2825332858379901,
          -0.05793689992278238,
          0.22127440310948215,
          -0.1168666293208877,
          -0.07285301629578954
         ]
        },
        {
         "line": {
          "color": " #7b241c "
         },
         "mode": "lines",
         "name": "D minor",
         "type": "scatter",
         "x": [
          0,
          1,
          2,
          3,
          4,
          5,
          6,
          7,
          8,
          9,
          10,
          11,
          12,
          13,
          14,
          15,
          16,
          17,
          18,
          19,
          20
         ],
         "y": [
          -0.03249855250213486,
          0.022931880046070857,
          -0.15139059215109318,
          0.08669299934120088,
          0.012835383650009968,
          0.17922542449278897,
          0.11518129989888122,
          0.1896412652616519,
          0.09150330822351486,
          0.6321751016883179,
          0.4461076022333498,
          0.6712911584672796,
          0.6649907362721227,
          0.5257319639092325,
          0.3672385538831494,
          0.03886816577097352,
          0.2825332858379901,
          -0.05793689992278238,
          0.22127440310948215,
          -0.1168666293208877,
          -0.07285301629578954
         ]
        },
        {
         "line": {
          "color": " #d98880 "
         },
         "mode": "lines",
         "showlegend": false,
         "type": "scatter",
         "x": [
          0,
          1,
          2,
          3,
          4,
          5,
          6,
          7,
          8,
          9,
          10,
          11,
          12,
          13,
          14,
          15,
          16,
          17,
          18,
          19,
          20
         ],
         "y": [
          0.06187829886858262,
          -0.08662489074669945,
          0.2517088787920975,
          0.13702038987678042,
          0.10943240620316369,
          -0.07468953925476289,
          -0.24498813222899962,
          -0.14373544329327653,
          -0.012863774301660169,
          0.5920017060235495,
          0.5559590521000356,
          0.6842913794278452,
          0.5620746589777212,
          0.4260120976950874,
          -0.00880655746809731,
          0.22932606173648165,
          0.08586290161911646,
          0.327122227921882,
          0.040481986794397885,
          0.4300964361235949,
          0.34731646914325803
         ]
        },
        {
         "line": {
          "color": " #d98880 "
         },
         "mode": "lines",
         "name": "A minor",
         "type": "scatter",
         "x": [
          0,
          1,
          2,
          3,
          4,
          5,
          6,
          7,
          8,
          9,
          10,
          11,
          12,
          13,
          14,
          15,
          16,
          17,
          18,
          19,
          20
         ],
         "y": [
          0.06187829886858262,
          -0.08662489074669945,
          0.2517088787920975,
          0.13702038987678042,
          0.10943240620316369,
          -0.07468953925476289,
          -0.24498813222899962,
          -0.14373544329327653,
          -0.012863774301660169,
          0.5920017060235495,
          0.5559590521000356,
          0.6842913794278452,
          0.5620746589777212,
          0.4260120976950874,
          -0.00880655746809731,
          0.22932606173648165,
          0.08586290161911646,
          0.327122227921882,
          0.040481986794397885,
          0.4300964361235949,
          0.34731646914325803
         ]
        },
        {
         "line": {
          "color": "#FF0010"
         },
         "mode": "lines",
         "showlegend": false,
         "type": "scatter",
         "x": [
          0,
          1,
          2,
          3,
          4,
          5,
          6,
          7,
          8,
          9,
          10,
          11,
          12,
          13,
          14,
          15,
          16,
          17,
          18,
          19,
          20
         ],
         "y": [
          0.6080064847126443,
          0.4941943390427234,
          0.62072962877886,
          0.27430100820814207,
          0.23235333833738406,
          -0.006851769070325392,
          0.2000806700121353,
          0.20977892470635912,
          0.5816438307901779,
          -0.004521363126534561,
          0.0950544869406908,
          -0.09212483496355843,
          0.014297671755030689,
          0.3037913648589373,
          0.2796904161380405,
          0.5604770890866446,
          0.35692368763400006,
          0.6332213132184804,
          0.5580670467835056,
          0.5274882868702611,
          0.4056553198433233
         ]
        },
        {
         "line": {
          "color": "#FF0010"
         },
         "mode": "lines",
         "name": "E minor",
         "type": "scatter",
         "x": [
          0,
          1,
          2,
          3,
          4,
          5,
          6,
          7,
          8,
          9,
          10,
          11,
          12,
          13,
          14,
          15,
          16,
          17,
          18,
          19,
          20
         ],
         "y": [
          0.6080064847126443,
          0.4941943390427234,
          0.62072962877886,
          0.27430100820814207,
          0.23235333833738406,
          -0.006851769070325392,
          0.2000806700121353,
          0.20977892470635912,
          0.5816438307901779,
          -0.004521363126534561,
          0.0950544869406908,
          -0.09212483496355843,
          0.014297671755030689,
          0.3037913648589373,
          0.2796904161380405,
          0.5604770890866446,
          0.35692368763400006,
          0.6332213132184804,
          0.5580670467835056,
          0.5274882868702611,
          0.4056553198433233
         ]
        },
        {
         "line": {
          "color": " #e74c3c  "
         },
         "mode": "lines",
         "showlegend": false,
         "type": "scatter",
         "x": [
          0,
          1,
          2,
          3,
          4,
          5,
          6,
          7,
          8,
          9,
          10,
          11,
          12,
          13,
          14,
          15,
          16,
          17,
          18,
          19,
          20
         ],
         "y": [
          0.33005674280456776,
          0.4652273769062759,
          0.19904673627408442,
          0.44805308088304974,
          0.48218775815718934,
          0.49569557450447144,
          0.5978175376669396,
          0.42081008513060103,
          0.13242357781147654,
          -0.23661359754387334,
          -0.2391755547824822,
          -0.25237829871686757,
          -0.04345322191912121,
          0.05618533071504017,
          0.3930359703055544,
          0.16955314017710504,
          0.4318308821470998,
          0.08639759194277295,
          0.21884115351138006,
          -0.09468283849240272,
          -0.07109067457167983
         ]
        },
        {
         "line": {
          "color": " #e74c3c  "
         },
         "mode": "lines",
         "name": "B minor",
         "type": "scatter",
         "x": [
          0,
          1,
          2,
          3,
          4,
          5,
          6,
          7,
          8,
          9,
          10,
          11,
          12,
          13,
          14,
          15,
          16,
          17,
          18,
          19,
          20
         ],
         "y": [
          0.33005674280456776,
          0.4652273769062759,
          0.19904673627408442,
          0.44805308088304974,
          0.48218775815718934,
          0.49569557450447144,
          0.5978175376669396,
          0.42081008513060103,
          0.13242357781147654,
          -0.23661359754387334,
          -0.2391755547824822,
          -0.25237829871686757,
          -0.04345322191912121,
          0.05618533071504017,
          0.3930359703055544,
          0.16955314017710504,
          0.4318308821470998,
          0.08639759194277295,
          0.21884115351138006,
          -0.09468283849240272,
          -0.07109067457167983
         ]
        },
        {
         "line": {
          "color": " #7b241c "
         },
         "mode": "lines",
         "showlegend": false,
         "type": "scatter",
         "x": [
          0,
          1,
          2,
          3,
          4,
          5,
          6,
          7,
          8,
          9,
          10,
          11,
          12,
          13,
          14,
          15,
          16,
          17,
          18,
          19,
          20
         ],
         "y": [
          -0.017846457828920248,
          -0.19084292072911235,
          0.1313398207695824,
          -0.126428598383145,
          -0.12968807677714414,
          -0.3189910470797433,
          -0.40808082760979364,
          -0.3657839161616861,
          0.301815626167623,
          0.699572503742902,
          0.8397892643587943,
          0.5759637999350211,
          0.612376706464225,
          0.22897161726203902,
          0.05252783562987258,
          0.1701957434960091,
          -0.06529138128184003,
          0.2085381933729149,
          0.025218778717360696,
          0.18061408421451713,
          -0.0751771078438403
         ]
        },
        {
         "line": {
          "color": " #7b241c "
         },
         "mode": "lines",
         "name": "C#/Db minor",
         "type": "scatter",
         "x": [
          0,
          1,
          2,
          3,
          4,
          5,
          6,
          7,
          8,
          9,
          10,
          11,
          12,
          13,
          14,
          15,
          16,
          17,
          18,
          19,
          20
         ],
         "y": [
          -0.017846457828920248,
          -0.19084292072911235,
          0.1313398207695824,
          -0.126428598383145,
          -0.12968807677714414,
          -0.3189910470797433,
          -0.40808082760979364,
          -0.3657839161616861,
          0.301815626167623,
          0.699572503742902,
          0.8397892643587943,
          0.5759637999350211,
          0.612376706464225,
          0.22897161726203902,
          0.05252783562987258,
          0.1701957434960091,
          -0.06529138128184003,
          0.2085381933729149,
          0.025218778717360696,
          0.18061408421451713,
          -0.0751771078438403
         ]
        }
       ],
       "frames": [
        {
         "data": [
          {
           "line": {
            "color": "black",
            "width": 2
           },
           "mode": "lines",
           "type": "scatter",
           "x": [
            0,
            0
           ],
           "y": [
            -2,
            2
           ]
          }
         ]
        },
        {
         "data": [
          {
           "line": {
            "color": "black",
            "width": 2
           },
           "mode": "lines",
           "type": "scatter",
           "x": [
            0.5,
            0.5
           ],
           "y": [
            -2,
            2
           ]
          }
         ]
        },
        {
         "data": [
          {
           "line": {
            "color": "black",
            "width": 2
           },
           "mode": "lines",
           "type": "scatter",
           "x": [
            1,
            1
           ],
           "y": [
            -2,
            2
           ]
          }
         ]
        },
        {
         "data": [
          {
           "line": {
            "color": "black",
            "width": 2
           },
           "mode": "lines",
           "type": "scatter",
           "x": [
            1.5,
            1.5
           ],
           "y": [
            -2,
            2
           ]
          }
         ]
        },
        {
         "data": [
          {
           "line": {
            "color": "black",
            "width": 2
           },
           "mode": "lines",
           "type": "scatter",
           "x": [
            2,
            2
           ],
           "y": [
            -2,
            2
           ]
          }
         ]
        },
        {
         "data": [
          {
           "line": {
            "color": "black",
            "width": 2
           },
           "mode": "lines",
           "type": "scatter",
           "x": [
            2.5,
            2.5
           ],
           "y": [
            -2,
            2
           ]
          }
         ]
        },
        {
         "data": [
          {
           "line": {
            "color": "black",
            "width": 2
           },
           "mode": "lines",
           "type": "scatter",
           "x": [
            3,
            3
           ],
           "y": [
            -2,
            2
           ]
          }
         ]
        },
        {
         "data": [
          {
           "line": {
            "color": "black",
            "width": 2
           },
           "mode": "lines",
           "type": "scatter",
           "x": [
            3.5,
            3.5
           ],
           "y": [
            -2,
            2
           ]
          }
         ]
        },
        {
         "data": [
          {
           "line": {
            "color": "black",
            "width": 2
           },
           "mode": "lines",
           "type": "scatter",
           "x": [
            4,
            4
           ],
           "y": [
            -2,
            2
           ]
          }
         ]
        },
        {
         "data": [
          {
           "line": {
            "color": "black",
            "width": 2
           },
           "mode": "lines",
           "type": "scatter",
           "x": [
            4.5,
            4.5
           ],
           "y": [
            -2,
            2
           ]
          }
         ]
        },
        {
         "data": [
          {
           "line": {
            "color": "black",
            "width": 2
           },
           "mode": "lines",
           "type": "scatter",
           "x": [
            5,
            5
           ],
           "y": [
            -2,
            2
           ]
          }
         ]
        },
        {
         "data": [
          {
           "line": {
            "color": "black",
            "width": 2
           },
           "mode": "lines",
           "type": "scatter",
           "x": [
            5.5,
            5.5
           ],
           "y": [
            -2,
            2
           ]
          }
         ]
        },
        {
         "data": [
          {
           "line": {
            "color": "black",
            "width": 2
           },
           "mode": "lines",
           "type": "scatter",
           "x": [
            6,
            6
           ],
           "y": [
            -2,
            2
           ]
          }
         ]
        },
        {
         "data": [
          {
           "line": {
            "color": "black",
            "width": 2
           },
           "mode": "lines",
           "type": "scatter",
           "x": [
            6.5,
            6.5
           ],
           "y": [
            -2,
            2
           ]
          }
         ]
        },
        {
         "data": [
          {
           "line": {
            "color": "black",
            "width": 2
           },
           "mode": "lines",
           "type": "scatter",
           "x": [
            7,
            7
           ],
           "y": [
            -2,
            2
           ]
          }
         ]
        },
        {
         "data": [
          {
           "line": {
            "color": "black",
            "width": 2
           },
           "mode": "lines",
           "type": "scatter",
           "x": [
            7.5,
            7.5
           ],
           "y": [
            -2,
            2
           ]
          }
         ]
        },
        {
         "data": [
          {
           "line": {
            "color": "black",
            "width": 2
           },
           "mode": "lines",
           "type": "scatter",
           "x": [
            8,
            8
           ],
           "y": [
            -2,
            2
           ]
          }
         ]
        },
        {
         "data": [
          {
           "line": {
            "color": "black",
            "width": 2
           },
           "mode": "lines",
           "type": "scatter",
           "x": [
            8.5,
            8.5
           ],
           "y": [
            -2,
            2
           ]
          }
         ]
        },
        {
         "data": [
          {
           "line": {
            "color": "black",
            "width": 2
           },
           "mode": "lines",
           "type": "scatter",
           "x": [
            9,
            9
           ],
           "y": [
            -2,
            2
           ]
          }
         ]
        },
        {
         "data": [
          {
           "line": {
            "color": "black",
            "width": 2
           },
           "mode": "lines",
           "type": "scatter",
           "x": [
            9.5,
            9.5
           ],
           "y": [
            -2,
            2
           ]
          }
         ]
        },
        {
         "data": [
          {
           "line": {
            "color": "black",
            "width": 2
           },
           "mode": "lines",
           "type": "scatter",
           "x": [
            10,
            10
           ],
           "y": [
            -2,
            2
           ]
          }
         ]
        },
        {
         "data": [
          {
           "line": {
            "color": "black",
            "width": 2
           },
           "mode": "lines",
           "type": "scatter",
           "x": [
            10.5,
            10.5
           ],
           "y": [
            -2,
            2
           ]
          }
         ]
        },
        {
         "data": [
          {
           "line": {
            "color": "black",
            "width": 2
           },
           "mode": "lines",
           "type": "scatter",
           "x": [
            11,
            11
           ],
           "y": [
            -2,
            2
           ]
          }
         ]
        },
        {
         "data": [
          {
           "line": {
            "color": "black",
            "width": 2
           },
           "mode": "lines",
           "type": "scatter",
           "x": [
            11.5,
            11.5
           ],
           "y": [
            -2,
            2
           ]
          }
         ]
        },
        {
         "data": [
          {
           "line": {
            "color": "black",
            "width": 2
           },
           "mode": "lines",
           "type": "scatter",
           "x": [
            12,
            12
           ],
           "y": [
            -2,
            2
           ]
          }
         ]
        },
        {
         "data": [
          {
           "line": {
            "color": "black",
            "width": 2
           },
           "mode": "lines",
           "type": "scatter",
           "x": [
            12.5,
            12.5
           ],
           "y": [
            -2,
            2
           ]
          }
         ]
        },
        {
         "data": [
          {
           "line": {
            "color": "black",
            "width": 2
           },
           "mode": "lines",
           "type": "scatter",
           "x": [
            13,
            13
           ],
           "y": [
            -2,
            2
           ]
          }
         ]
        },
        {
         "data": [
          {
           "line": {
            "color": "black",
            "width": 2
           },
           "mode": "lines",
           "type": "scatter",
           "x": [
            13.5,
            13.5
           ],
           "y": [
            -2,
            2
           ]
          }
         ]
        },
        {
         "data": [
          {
           "line": {
            "color": "black",
            "width": 2
           },
           "mode": "lines",
           "type": "scatter",
           "x": [
            14,
            14
           ],
           "y": [
            -2,
            2
           ]
          }
         ]
        },
        {
         "data": [
          {
           "line": {
            "color": "black",
            "width": 2
           },
           "mode": "lines",
           "type": "scatter",
           "x": [
            14.5,
            14.5
           ],
           "y": [
            -2,
            2
           ]
          }
         ]
        },
        {
         "data": [
          {
           "line": {
            "color": "black",
            "width": 2
           },
           "mode": "lines",
           "type": "scatter",
           "x": [
            15,
            15
           ],
           "y": [
            -2,
            2
           ]
          }
         ]
        },
        {
         "data": [
          {
           "line": {
            "color": "black",
            "width": 2
           },
           "mode": "lines",
           "type": "scatter",
           "x": [
            15.5,
            15.5
           ],
           "y": [
            -2,
            2
           ]
          }
         ]
        },
        {
         "data": [
          {
           "line": {
            "color": "black",
            "width": 2
           },
           "mode": "lines",
           "type": "scatter",
           "x": [
            16,
            16
           ],
           "y": [
            -2,
            2
           ]
          }
         ]
        },
        {
         "data": [
          {
           "line": {
            "color": "black",
            "width": 2
           },
           "mode": "lines",
           "type": "scatter",
           "x": [
            16.5,
            16.5
           ],
           "y": [
            -2,
            2
           ]
          }
         ]
        },
        {
         "data": [
          {
           "line": {
            "color": "black",
            "width": 2
           },
           "mode": "lines",
           "type": "scatter",
           "x": [
            17,
            17
           ],
           "y": [
            -2,
            2
           ]
          }
         ]
        },
        {
         "data": [
          {
           "line": {
            "color": "black",
            "width": 2
           },
           "mode": "lines",
           "type": "scatter",
           "x": [
            17.5,
            17.5
           ],
           "y": [
            -2,
            2
           ]
          }
         ]
        },
        {
         "data": [
          {
           "line": {
            "color": "black",
            "width": 2
           },
           "mode": "lines",
           "type": "scatter",
           "x": [
            18,
            18
           ],
           "y": [
            -2,
            2
           ]
          }
         ]
        },
        {
         "data": [
          {
           "line": {
            "color": "black",
            "width": 2
           },
           "mode": "lines",
           "type": "scatter",
           "x": [
            18.5,
            18.5
           ],
           "y": [
            -2,
            2
           ]
          }
         ]
        },
        {
         "data": [
          {
           "line": {
            "color": "black",
            "width": 2
           },
           "mode": "lines",
           "type": "scatter",
           "x": [
            19,
            19
           ],
           "y": [
            -2,
            2
           ]
          }
         ]
        },
        {
         "data": [
          {
           "line": {
            "color": "black",
            "width": 2
           },
           "mode": "lines",
           "type": "scatter",
           "x": [
            19.5,
            19.5
           ],
           "y": [
            -2,
            2
           ]
          }
         ]
        },
        {
         "data": [
          {
           "line": {
            "color": "black",
            "width": 2
           },
           "mode": "lines",
           "type": "scatter",
           "x": [
            20,
            20
           ],
           "y": [
            -2,
            2
           ]
          }
         ]
        },
        {
         "data": [
          {
           "line": {
            "color": "black",
            "width": 2
           },
           "mode": "lines",
           "type": "scatter",
           "x": [
            20.5,
            20.5
           ],
           "y": [
            -2,
            2
           ]
          }
         ]
        }
       ],
       "layout": {
        "height": 600,
        "hovermode": "closest",
        "template": {
         "data": {
          "bar": [
           {
            "error_x": {
             "color": "#2a3f5f"
            },
            "error_y": {
             "color": "#2a3f5f"
            },
            "marker": {
             "line": {
              "color": "#E5ECF6",
              "width": 0.5
             }
            },
            "type": "bar"
           }
          ],
          "barpolar": [
           {
            "marker": {
             "line": {
              "color": "#E5ECF6",
              "width": 0.5
             }
            },
            "type": "barpolar"
           }
          ],
          "carpet": [
           {
            "aaxis": {
             "endlinecolor": "#2a3f5f",
             "gridcolor": "white",
             "linecolor": "white",
             "minorgridcolor": "white",
             "startlinecolor": "#2a3f5f"
            },
            "baxis": {
             "endlinecolor": "#2a3f5f",
             "gridcolor": "white",
             "linecolor": "white",
             "minorgridcolor": "white",
             "startlinecolor": "#2a3f5f"
            },
            "type": "carpet"
           }
          ],
          "choropleth": [
           {
            "colorbar": {
             "outlinewidth": 0,
             "ticks": ""
            },
            "type": "choropleth"
           }
          ],
          "contour": [
           {
            "colorbar": {
             "outlinewidth": 0,
             "ticks": ""
            },
            "colorscale": [
             [
              0,
              "#0d0887"
             ],
             [
              0.1111111111111111,
              "#46039f"
             ],
             [
              0.2222222222222222,
              "#7201a8"
             ],
             [
              0.3333333333333333,
              "#9c179e"
             ],
             [
              0.4444444444444444,
              "#bd3786"
             ],
             [
              0.5555555555555556,
              "#d8576b"
             ],
             [
              0.6666666666666666,
              "#ed7953"
             ],
             [
              0.7777777777777778,
              "#fb9f3a"
             ],
             [
              0.8888888888888888,
              "#fdca26"
             ],
             [
              1,
              "#f0f921"
             ]
            ],
            "type": "contour"
           }
          ],
          "contourcarpet": [
           {
            "colorbar": {
             "outlinewidth": 0,
             "ticks": ""
            },
            "type": "contourcarpet"
           }
          ],
          "heatmap": [
           {
            "colorbar": {
             "outlinewidth": 0,
             "ticks": ""
            },
            "colorscale": [
             [
              0,
              "#0d0887"
             ],
             [
              0.1111111111111111,
              "#46039f"
             ],
             [
              0.2222222222222222,
              "#7201a8"
             ],
             [
              0.3333333333333333,
              "#9c179e"
             ],
             [
              0.4444444444444444,
              "#bd3786"
             ],
             [
              0.5555555555555556,
              "#d8576b"
             ],
             [
              0.6666666666666666,
              "#ed7953"
             ],
             [
              0.7777777777777778,
              "#fb9f3a"
             ],
             [
              0.8888888888888888,
              "#fdca26"
             ],
             [
              1,
              "#f0f921"
             ]
            ],
            "type": "heatmap"
           }
          ],
          "heatmapgl": [
           {
            "colorbar": {
             "outlinewidth": 0,
             "ticks": ""
            },
            "colorscale": [
             [
              0,
              "#0d0887"
             ],
             [
              0.1111111111111111,
              "#46039f"
             ],
             [
              0.2222222222222222,
              "#7201a8"
             ],
             [
              0.3333333333333333,
              "#9c179e"
             ],
             [
              0.4444444444444444,
              "#bd3786"
             ],
             [
              0.5555555555555556,
              "#d8576b"
             ],
             [
              0.6666666666666666,
              "#ed7953"
             ],
             [
              0.7777777777777778,
              "#fb9f3a"
             ],
             [
              0.8888888888888888,
              "#fdca26"
             ],
             [
              1,
              "#f0f921"
             ]
            ],
            "type": "heatmapgl"
           }
          ],
          "histogram": [
           {
            "marker": {
             "colorbar": {
              "outlinewidth": 0,
              "ticks": ""
             }
            },
            "type": "histogram"
           }
          ],
          "histogram2d": [
           {
            "colorbar": {
             "outlinewidth": 0,
             "ticks": ""
            },
            "colorscale": [
             [
              0,
              "#0d0887"
             ],
             [
              0.1111111111111111,
              "#46039f"
             ],
             [
              0.2222222222222222,
              "#7201a8"
             ],
             [
              0.3333333333333333,
              "#9c179e"
             ],
             [
              0.4444444444444444,
              "#bd3786"
             ],
             [
              0.5555555555555556,
              "#d8576b"
             ],
             [
              0.6666666666666666,
              "#ed7953"
             ],
             [
              0.7777777777777778,
              "#fb9f3a"
             ],
             [
              0.8888888888888888,
              "#fdca26"
             ],
             [
              1,
              "#f0f921"
             ]
            ],
            "type": "histogram2d"
           }
          ],
          "histogram2dcontour": [
           {
            "colorbar": {
             "outlinewidth": 0,
             "ticks": ""
            },
            "colorscale": [
             [
              0,
              "#0d0887"
             ],
             [
              0.1111111111111111,
              "#46039f"
             ],
             [
              0.2222222222222222,
              "#7201a8"
             ],
             [
              0.3333333333333333,
              "#9c179e"
             ],
             [
              0.4444444444444444,
              "#bd3786"
             ],
             [
              0.5555555555555556,
              "#d8576b"
             ],
             [
              0.6666666666666666,
              "#ed7953"
             ],
             [
              0.7777777777777778,
              "#fb9f3a"
             ],
             [
              0.8888888888888888,
              "#fdca26"
             ],
             [
              1,
              "#f0f921"
             ]
            ],
            "type": "histogram2dcontour"
           }
          ],
          "mesh3d": [
           {
            "colorbar": {
             "outlinewidth": 0,
             "ticks": ""
            },
            "type": "mesh3d"
           }
          ],
          "parcoords": [
           {
            "line": {
             "colorbar": {
              "outlinewidth": 0,
              "ticks": ""
             }
            },
            "type": "parcoords"
           }
          ],
          "pie": [
           {
            "automargin": true,
            "type": "pie"
           }
          ],
          "scatter": [
           {
            "marker": {
             "colorbar": {
              "outlinewidth": 0,
              "ticks": ""
             }
            },
            "type": "scatter"
           }
          ],
          "scatter3d": [
           {
            "line": {
             "colorbar": {
              "outlinewidth": 0,
              "ticks": ""
             }
            },
            "marker": {
             "colorbar": {
              "outlinewidth": 0,
              "ticks": ""
             }
            },
            "type": "scatter3d"
           }
          ],
          "scattercarpet": [
           {
            "marker": {
             "colorbar": {
              "outlinewidth": 0,
              "ticks": ""
             }
            },
            "type": "scattercarpet"
           }
          ],
          "scattergeo": [
           {
            "marker": {
             "colorbar": {
              "outlinewidth": 0,
              "ticks": ""
             }
            },
            "type": "scattergeo"
           }
          ],
          "scattergl": [
           {
            "marker": {
             "colorbar": {
              "outlinewidth": 0,
              "ticks": ""
             }
            },
            "type": "scattergl"
           }
          ],
          "scattermapbox": [
           {
            "marker": {
             "colorbar": {
              "outlinewidth": 0,
              "ticks": ""
             }
            },
            "type": "scattermapbox"
           }
          ],
          "scatterpolar": [
           {
            "marker": {
             "colorbar": {
              "outlinewidth": 0,
              "ticks": ""
             }
            },
            "type": "scatterpolar"
           }
          ],
          "scatterpolargl": [
           {
            "marker": {
             "colorbar": {
              "outlinewidth": 0,
              "ticks": ""
             }
            },
            "type": "scatterpolargl"
           }
          ],
          "scatterternary": [
           {
            "marker": {
             "colorbar": {
              "outlinewidth": 0,
              "ticks": ""
             }
            },
            "type": "scatterternary"
           }
          ],
          "surface": [
           {
            "colorbar": {
             "outlinewidth": 0,
             "ticks": ""
            },
            "colorscale": [
             [
              0,
              "#0d0887"
             ],
             [
              0.1111111111111111,
              "#46039f"
             ],
             [
              0.2222222222222222,
              "#7201a8"
             ],
             [
              0.3333333333333333,
              "#9c179e"
             ],
             [
              0.4444444444444444,
              "#bd3786"
             ],
             [
              0.5555555555555556,
              "#d8576b"
             ],
             [
              0.6666666666666666,
              "#ed7953"
             ],
             [
              0.7777777777777778,
              "#fb9f3a"
             ],
             [
              0.8888888888888888,
              "#fdca26"
             ],
             [
              1,
              "#f0f921"
             ]
            ],
            "type": "surface"
           }
          ],
          "table": [
           {
            "cells": {
             "fill": {
              "color": "#EBF0F8"
             },
             "line": {
              "color": "white"
             }
            },
            "header": {
             "fill": {
              "color": "#C8D4E3"
             },
             "line": {
              "color": "white"
             }
            },
            "type": "table"
           }
          ]
         },
         "layout": {
          "annotationdefaults": {
           "arrowcolor": "#2a3f5f",
           "arrowhead": 0,
           "arrowwidth": 1
          },
          "coloraxis": {
           "colorbar": {
            "outlinewidth": 0,
            "ticks": ""
           }
          },
          "colorscale": {
           "diverging": [
            [
             0,
             "#8e0152"
            ],
            [
             0.1,
             "#c51b7d"
            ],
            [
             0.2,
             "#de77ae"
            ],
            [
             0.3,
             "#f1b6da"
            ],
            [
             0.4,
             "#fde0ef"
            ],
            [
             0.5,
             "#f7f7f7"
            ],
            [
             0.6,
             "#e6f5d0"
            ],
            [
             0.7,
             "#b8e186"
            ],
            [
             0.8,
             "#7fbc41"
            ],
            [
             0.9,
             "#4d9221"
            ],
            [
             1,
             "#276419"
            ]
           ],
           "sequential": [
            [
             0,
             "#0d0887"
            ],
            [
             0.1111111111111111,
             "#46039f"
            ],
            [
             0.2222222222222222,
             "#7201a8"
            ],
            [
             0.3333333333333333,
             "#9c179e"
            ],
            [
             0.4444444444444444,
             "#bd3786"
            ],
            [
             0.5555555555555556,
             "#d8576b"
            ],
            [
             0.6666666666666666,
             "#ed7953"
            ],
            [
             0.7777777777777778,
             "#fb9f3a"
            ],
            [
             0.8888888888888888,
             "#fdca26"
            ],
            [
             1,
             "#f0f921"
            ]
           ],
           "sequentialminus": [
            [
             0,
             "#0d0887"
            ],
            [
             0.1111111111111111,
             "#46039f"
            ],
            [
             0.2222222222222222,
             "#7201a8"
            ],
            [
             0.3333333333333333,
             "#9c179e"
            ],
            [
             0.4444444444444444,
             "#bd3786"
            ],
            [
             0.5555555555555556,
             "#d8576b"
            ],
            [
             0.6666666666666666,
             "#ed7953"
            ],
            [
             0.7777777777777778,
             "#fb9f3a"
            ],
            [
             0.8888888888888888,
             "#fdca26"
            ],
            [
             1,
             "#f0f921"
            ]
           ]
          },
          "colorway": [
           "#636efa",
           "#EF553B",
           "#00cc96",
           "#ab63fa",
           "#FFA15A",
           "#19d3f3",
           "#FF6692",
           "#B6E880",
           "#FF97FF",
           "#FECB52"
          ],
          "font": {
           "color": "#2a3f5f"
          },
          "geo": {
           "bgcolor": "white",
           "lakecolor": "white",
           "landcolor": "#E5ECF6",
           "showlakes": true,
           "showland": true,
           "subunitcolor": "white"
          },
          "hoverlabel": {
           "align": "left"
          },
          "hovermode": "closest",
          "mapbox": {
           "style": "light"
          },
          "paper_bgcolor": "white",
          "plot_bgcolor": "#E5ECF6",
          "polar": {
           "angularaxis": {
            "gridcolor": "white",
            "linecolor": "white",
            "ticks": ""
           },
           "bgcolor": "#E5ECF6",
           "radialaxis": {
            "gridcolor": "white",
            "linecolor": "white",
            "ticks": ""
           }
          },
          "scene": {
           "xaxis": {
            "backgroundcolor": "#E5ECF6",
            "gridcolor": "white",
            "gridwidth": 2,
            "linecolor": "white",
            "showbackground": true,
            "ticks": "",
            "zerolinecolor": "white"
           },
           "yaxis": {
            "backgroundcolor": "#E5ECF6",
            "gridcolor": "white",
            "gridwidth": 2,
            "linecolor": "white",
            "showbackground": true,
            "ticks": "",
            "zerolinecolor": "white"
           },
           "zaxis": {
            "backgroundcolor": "#E5ECF6",
            "gridcolor": "white",
            "gridwidth": 2,
            "linecolor": "white",
            "showbackground": true,
            "ticks": "",
            "zerolinecolor": "white"
           }
          },
          "shapedefaults": {
           "line": {
            "color": "#2a3f5f"
           }
          },
          "ternary": {
           "aaxis": {
            "gridcolor": "white",
            "linecolor": "white",
            "ticks": ""
           },
           "baxis": {
            "gridcolor": "white",
            "linecolor": "white",
            "ticks": ""
           },
           "bgcolor": "#E5ECF6",
           "caxis": {
            "gridcolor": "white",
            "linecolor": "white",
            "ticks": ""
           }
          },
          "title": {
           "x": 0.05
          },
          "xaxis": {
           "automargin": true,
           "gridcolor": "white",
           "linecolor": "white",
           "ticks": "",
           "title": {
            "standoff": 15
           },
           "zerolinecolor": "white",
           "zerolinewidth": 2
          },
          "yaxis": {
           "automargin": true,
           "gridcolor": "white",
           "linecolor": "white",
           "ticks": "",
           "title": {
            "standoff": 15
           },
           "zerolinecolor": "white",
           "zerolinewidth": 2
          }
         }
        },
        "title": {
         "text": "Key trajectories for Trio D41 Nr.12"
        },
        "updatemenus": [
         {
          "buttons": [
           {
            "args": [
             null,
             {
              "frame": {
               "duration": 500,
               "redraw": false
              },
              "fromcurrent": true,
              "transition": {
               "duration": 3000,
               "easing": "quadratic-in-out"
              }
             }
            ],
            "label": "Play",
            "method": "animate"
           },
           {
            "args": [
             [
              null
             ],
             {
              "frame": {
               "duration": 0,
               "redraw": false
              },
              "mode": "immediate",
              "transition": {
               "duration": 0
              }
             }
            ],
            "label": "Pause",
            "method": "animate"
           }
          ],
          "type": "buttons"
         }
        ],
        "width": 950,
        "xaxis": {
         "autorange": false,
         "range": [
          0,
          20
         ],
         "title": {
          "text": "Bars"
         },
         "zeroline": false
        },
        "yaxis": {
         "autorange": false,
         "range": [
          -0.4,
          1
         ],
         "title": {
          "text": "Correlation"
         },
         "zeroline": false
        }
       }
      },
      "text/html": [
       "<div>\n",
       "        \n",
       "        \n",
       "            <div id=\"c100e9c2-f2de-4937-8c8a-d2254c43d3ab\" class=\"plotly-graph-div\" style=\"height:600px; width:950px;\"></div>\n",
       "            <script type=\"text/javascript\">\n",
       "                require([\"plotly\"], function(Plotly) {\n",
       "                    window.PLOTLYENV=window.PLOTLYENV || {};\n",
       "                    \n",
       "                if (document.getElementById(\"c100e9c2-f2de-4937-8c8a-d2254c43d3ab\")) {\n",
       "                    Plotly.newPlot(\n",
       "                        'c100e9c2-f2de-4937-8c8a-d2254c43d3ab',\n",
       "                        [{\"line\": {\"color\": \"#1a5276 \"}, \"mode\": \"lines\", \"showlegend\": false, \"type\": \"scatter\", \"x\": [0, 1, 2, 3, 4, 5, 6, 7, 8, 9, 10, 11, 12, 13, 14, 15, 16, 17, 18, 19, 20], \"y\": [0.7065959628530418, 0.560587268919891, 0.7731092597897361, 0.5439504087410314, 0.47594296249967416, 0.21198762848321934, 0.29025187293202814, 0.3768102227306246, 0.3940946475117733, 0.23269500937734064, 0.1765980456226835, 0.20664441330903266, 0.3068096370769999, 0.6914974558959834, 0.5654559819892129, 0.8302725397281103, 0.6937973169347329, 0.8396415732369439, 0.7024596524978015, 0.9376362288701028, 0.9697538132764532]}, {\"line\": {\"color\": \"#1a5276 \"}, \"mode\": \"lines\", \"name\": \"C major\", \"type\": \"scatter\", \"x\": [0, 1, 2, 3, 4, 5, 6, 7, 8, 9, 10, 11, 12, 13, 14, 15, 16, 17, 18, 19, 20], \"y\": [0.7065959628530418, 0.560587268919891, 0.7731092597897361, 0.5439504087410314, 0.47594296249967416, 0.21198762848321934, 0.29025187293202814, 0.3768102227306246, 0.3940946475117733, 0.23269500937734064, 0.1765980456226835, 0.20664441330903266, 0.3068096370769999, 0.6914974558959834, 0.5654559819892129, 0.8302725397281103, 0.6937973169347329, 0.8396415732369439, 0.7024596524978015, 0.9376362288701028, 0.9697538132764532]}, {\"line\": {\"color\": \" #2e86c1 \"}, \"mode\": \"lines\", \"showlegend\": false, \"type\": \"scatter\", \"x\": [0, 1, 2, 3, 4, 5, 6, 7, 8, 9, 10, 11, 12, 13, 14, 15, 16, 17, 18, 19, 20], \"y\": [0.17380721873454688, 0.259286813473945, 0.029008005775548986, 0.3821876951294939, 0.36029445129982235, 0.5299399373820692, 0.514326061131716, 0.5581686672210141, 0.17151830997489614, -0.0794676350458337, -0.09335408267432443, -0.1416566850827079, -0.006089869019484127, 0.04686072331865151, 0.321709337854128, 0.10919854135156369, 0.31699945200072516, 0.028262161782044482, 0.2228730307058454, -0.13139251621209627, -0.11175570245103703]}, {\"line\": {\"color\": \" #2e86c1 \"}, \"mode\": \"lines\", \"name\": \"D major\", \"type\": \"scatter\", \"x\": [0, 1, 2, 3, 4, 5, 6, 7, 8, 9, 10, 11, 12, 13, 14, 15, 16, 17, 18, 19, 20], \"y\": [0.17380721873454688, 0.259286813473945, 0.029008005775548986, 0.3821876951294939, 0.36029445129982235, 0.5299399373820692, 0.514326061131716, 0.5581686672210141, 0.17151830997489614, -0.0794676350458337, -0.09335408267432443, -0.1416566850827079, -0.006089869019484127, 0.04686072331865151, 0.321709337854128, 0.10919854135156369, 0.31699945200072516, 0.028262161782044482, 0.2228730307058454, -0.13139251621209627, -0.11175570245103703]}, {\"line\": {\"color\": \" #7b241c \"}, \"mode\": \"lines\", \"showlegend\": false, \"type\": \"scatter\", \"x\": [0, 1, 2, 3, 4, 5, 6, 7, 8, 9, 10, 11, 12, 13, 14, 15, 16, 17, 18, 19, 20], \"y\": [-0.03249855250213486, 0.022931880046070857, -0.15139059215109318, 0.08669299934120088, 0.012835383650009968, 0.17922542449278897, 0.11518129989888122, 0.1896412652616519, 0.09150330822351486, 0.6321751016883179, 0.4461076022333498, 0.6712911584672796, 0.6649907362721227, 0.5257319639092325, 0.3672385538831494, 0.03886816577097352, 0.2825332858379901, -0.05793689992278238, 0.22127440310948215, -0.1168666293208877, -0.07285301629578954]}, {\"line\": {\"color\": \" #7b241c \"}, \"mode\": \"lines\", \"name\": \"D minor\", \"type\": \"scatter\", \"x\": [0, 1, 2, 3, 4, 5, 6, 7, 8, 9, 10, 11, 12, 13, 14, 15, 16, 17, 18, 19, 20], \"y\": [-0.03249855250213486, 0.022931880046070857, -0.15139059215109318, 0.08669299934120088, 0.012835383650009968, 0.17922542449278897, 0.11518129989888122, 0.1896412652616519, 0.09150330822351486, 0.6321751016883179, 0.4461076022333498, 0.6712911584672796, 0.6649907362721227, 0.5257319639092325, 0.3672385538831494, 0.03886816577097352, 0.2825332858379901, -0.05793689992278238, 0.22127440310948215, -0.1168666293208877, -0.07285301629578954]}, {\"line\": {\"color\": \" #d98880 \"}, \"mode\": \"lines\", \"showlegend\": false, \"type\": \"scatter\", \"x\": [0, 1, 2, 3, 4, 5, 6, 7, 8, 9, 10, 11, 12, 13, 14, 15, 16, 17, 18, 19, 20], \"y\": [0.06187829886858262, -0.08662489074669945, 0.2517088787920975, 0.13702038987678042, 0.10943240620316369, -0.07468953925476289, -0.24498813222899962, -0.14373544329327653, -0.012863774301660169, 0.5920017060235495, 0.5559590521000356, 0.6842913794278452, 0.5620746589777212, 0.4260120976950874, -0.00880655746809731, 0.22932606173648165, 0.08586290161911646, 0.327122227921882, 0.040481986794397885, 0.4300964361235949, 0.34731646914325803]}, {\"line\": {\"color\": \" #d98880 \"}, \"mode\": \"lines\", \"name\": \"A minor\", \"type\": \"scatter\", \"x\": [0, 1, 2, 3, 4, 5, 6, 7, 8, 9, 10, 11, 12, 13, 14, 15, 16, 17, 18, 19, 20], \"y\": [0.06187829886858262, -0.08662489074669945, 0.2517088787920975, 0.13702038987678042, 0.10943240620316369, -0.07468953925476289, -0.24498813222899962, -0.14373544329327653, -0.012863774301660169, 0.5920017060235495, 0.5559590521000356, 0.6842913794278452, 0.5620746589777212, 0.4260120976950874, -0.00880655746809731, 0.22932606173648165, 0.08586290161911646, 0.327122227921882, 0.040481986794397885, 0.4300964361235949, 0.34731646914325803]}, {\"line\": {\"color\": \"#FF0010\"}, \"mode\": \"lines\", \"showlegend\": false, \"type\": \"scatter\", \"x\": [0, 1, 2, 3, 4, 5, 6, 7, 8, 9, 10, 11, 12, 13, 14, 15, 16, 17, 18, 19, 20], \"y\": [0.6080064847126443, 0.4941943390427234, 0.62072962877886, 0.27430100820814207, 0.23235333833738406, -0.006851769070325392, 0.2000806700121353, 0.20977892470635912, 0.5816438307901779, -0.004521363126534561, 0.0950544869406908, -0.09212483496355843, 0.014297671755030689, 0.3037913648589373, 0.2796904161380405, 0.5604770890866446, 0.35692368763400006, 0.6332213132184804, 0.5580670467835056, 0.5274882868702611, 0.4056553198433233]}, {\"line\": {\"color\": \"#FF0010\"}, \"mode\": \"lines\", \"name\": \"E minor\", \"type\": \"scatter\", \"x\": [0, 1, 2, 3, 4, 5, 6, 7, 8, 9, 10, 11, 12, 13, 14, 15, 16, 17, 18, 19, 20], \"y\": [0.6080064847126443, 0.4941943390427234, 0.62072962877886, 0.27430100820814207, 0.23235333833738406, -0.006851769070325392, 0.2000806700121353, 0.20977892470635912, 0.5816438307901779, -0.004521363126534561, 0.0950544869406908, -0.09212483496355843, 0.014297671755030689, 0.3037913648589373, 0.2796904161380405, 0.5604770890866446, 0.35692368763400006, 0.6332213132184804, 0.5580670467835056, 0.5274882868702611, 0.4056553198433233]}, {\"line\": {\"color\": \" #e74c3c  \"}, \"mode\": \"lines\", \"showlegend\": false, \"type\": \"scatter\", \"x\": [0, 1, 2, 3, 4, 5, 6, 7, 8, 9, 10, 11, 12, 13, 14, 15, 16, 17, 18, 19, 20], \"y\": [0.33005674280456776, 0.4652273769062759, 0.19904673627408442, 0.44805308088304974, 0.48218775815718934, 0.49569557450447144, 0.5978175376669396, 0.42081008513060103, 0.13242357781147654, -0.23661359754387334, -0.2391755547824822, -0.25237829871686757, -0.04345322191912121, 0.05618533071504017, 0.3930359703055544, 0.16955314017710504, 0.4318308821470998, 0.08639759194277295, 0.21884115351138006, -0.09468283849240272, -0.07109067457167983]}, {\"line\": {\"color\": \" #e74c3c  \"}, \"mode\": \"lines\", \"name\": \"B minor\", \"type\": \"scatter\", \"x\": [0, 1, 2, 3, 4, 5, 6, 7, 8, 9, 10, 11, 12, 13, 14, 15, 16, 17, 18, 19, 20], \"y\": [0.33005674280456776, 0.4652273769062759, 0.19904673627408442, 0.44805308088304974, 0.48218775815718934, 0.49569557450447144, 0.5978175376669396, 0.42081008513060103, 0.13242357781147654, -0.23661359754387334, -0.2391755547824822, -0.25237829871686757, -0.04345322191912121, 0.05618533071504017, 0.3930359703055544, 0.16955314017710504, 0.4318308821470998, 0.08639759194277295, 0.21884115351138006, -0.09468283849240272, -0.07109067457167983]}, {\"line\": {\"color\": \" #7b241c \"}, \"mode\": \"lines\", \"showlegend\": false, \"type\": \"scatter\", \"x\": [0, 1, 2, 3, 4, 5, 6, 7, 8, 9, 10, 11, 12, 13, 14, 15, 16, 17, 18, 19, 20], \"y\": [-0.017846457828920248, -0.19084292072911235, 0.1313398207695824, -0.126428598383145, -0.12968807677714414, -0.3189910470797433, -0.40808082760979364, -0.3657839161616861, 0.301815626167623, 0.699572503742902, 0.8397892643587943, 0.5759637999350211, 0.612376706464225, 0.22897161726203902, 0.05252783562987258, 0.1701957434960091, -0.06529138128184003, 0.2085381933729149, 0.025218778717360696, 0.18061408421451713, -0.0751771078438403]}, {\"line\": {\"color\": \" #7b241c \"}, \"mode\": \"lines\", \"name\": \"C#/Db minor\", \"type\": \"scatter\", \"x\": [0, 1, 2, 3, 4, 5, 6, 7, 8, 9, 10, 11, 12, 13, 14, 15, 16, 17, 18, 19, 20], \"y\": [-0.017846457828920248, -0.19084292072911235, 0.1313398207695824, -0.126428598383145, -0.12968807677714414, -0.3189910470797433, -0.40808082760979364, -0.3657839161616861, 0.301815626167623, 0.699572503742902, 0.8397892643587943, 0.5759637999350211, 0.612376706464225, 0.22897161726203902, 0.05252783562987258, 0.1701957434960091, -0.06529138128184003, 0.2085381933729149, 0.025218778717360696, 0.18061408421451713, -0.0751771078438403]}],\n",
       "                        {\"height\": 600, \"hovermode\": \"closest\", \"template\": {\"data\": {\"bar\": [{\"error_x\": {\"color\": \"#2a3f5f\"}, \"error_y\": {\"color\": \"#2a3f5f\"}, \"marker\": {\"line\": {\"color\": \"#E5ECF6\", \"width\": 0.5}}, \"type\": \"bar\"}], \"barpolar\": [{\"marker\": {\"line\": {\"color\": \"#E5ECF6\", \"width\": 0.5}}, \"type\": \"barpolar\"}], \"carpet\": [{\"aaxis\": {\"endlinecolor\": \"#2a3f5f\", \"gridcolor\": \"white\", \"linecolor\": \"white\", \"minorgridcolor\": \"white\", \"startlinecolor\": \"#2a3f5f\"}, \"baxis\": {\"endlinecolor\": \"#2a3f5f\", \"gridcolor\": \"white\", \"linecolor\": \"white\", \"minorgridcolor\": \"white\", \"startlinecolor\": \"#2a3f5f\"}, \"type\": \"carpet\"}], \"choropleth\": [{\"colorbar\": {\"outlinewidth\": 0, \"ticks\": \"\"}, \"type\": \"choropleth\"}], \"contour\": [{\"colorbar\": {\"outlinewidth\": 0, \"ticks\": \"\"}, \"colorscale\": [[0.0, \"#0d0887\"], [0.1111111111111111, \"#46039f\"], [0.2222222222222222, \"#7201a8\"], [0.3333333333333333, \"#9c179e\"], [0.4444444444444444, \"#bd3786\"], [0.5555555555555556, \"#d8576b\"], [0.6666666666666666, \"#ed7953\"], [0.7777777777777778, \"#fb9f3a\"], [0.8888888888888888, \"#fdca26\"], [1.0, \"#f0f921\"]], \"type\": \"contour\"}], \"contourcarpet\": [{\"colorbar\": {\"outlinewidth\": 0, \"ticks\": \"\"}, \"type\": \"contourcarpet\"}], \"heatmap\": [{\"colorbar\": {\"outlinewidth\": 0, \"ticks\": \"\"}, \"colorscale\": [[0.0, \"#0d0887\"], [0.1111111111111111, \"#46039f\"], [0.2222222222222222, \"#7201a8\"], [0.3333333333333333, \"#9c179e\"], [0.4444444444444444, \"#bd3786\"], [0.5555555555555556, \"#d8576b\"], [0.6666666666666666, \"#ed7953\"], [0.7777777777777778, \"#fb9f3a\"], [0.8888888888888888, \"#fdca26\"], [1.0, \"#f0f921\"]], \"type\": \"heatmap\"}], \"heatmapgl\": [{\"colorbar\": {\"outlinewidth\": 0, \"ticks\": \"\"}, \"colorscale\": [[0.0, \"#0d0887\"], [0.1111111111111111, \"#46039f\"], [0.2222222222222222, \"#7201a8\"], [0.3333333333333333, \"#9c179e\"], [0.4444444444444444, \"#bd3786\"], [0.5555555555555556, \"#d8576b\"], [0.6666666666666666, \"#ed7953\"], [0.7777777777777778, \"#fb9f3a\"], [0.8888888888888888, \"#fdca26\"], [1.0, \"#f0f921\"]], \"type\": \"heatmapgl\"}], \"histogram\": [{\"marker\": {\"colorbar\": {\"outlinewidth\": 0, \"ticks\": \"\"}}, \"type\": \"histogram\"}], \"histogram2d\": [{\"colorbar\": {\"outlinewidth\": 0, \"ticks\": \"\"}, \"colorscale\": [[0.0, \"#0d0887\"], [0.1111111111111111, \"#46039f\"], [0.2222222222222222, \"#7201a8\"], [0.3333333333333333, \"#9c179e\"], [0.4444444444444444, \"#bd3786\"], [0.5555555555555556, \"#d8576b\"], [0.6666666666666666, \"#ed7953\"], [0.7777777777777778, \"#fb9f3a\"], [0.8888888888888888, \"#fdca26\"], [1.0, \"#f0f921\"]], \"type\": \"histogram2d\"}], \"histogram2dcontour\": [{\"colorbar\": {\"outlinewidth\": 0, \"ticks\": \"\"}, \"colorscale\": [[0.0, \"#0d0887\"], [0.1111111111111111, \"#46039f\"], [0.2222222222222222, \"#7201a8\"], [0.3333333333333333, \"#9c179e\"], [0.4444444444444444, \"#bd3786\"], [0.5555555555555556, \"#d8576b\"], [0.6666666666666666, \"#ed7953\"], [0.7777777777777778, \"#fb9f3a\"], [0.8888888888888888, \"#fdca26\"], [1.0, \"#f0f921\"]], \"type\": \"histogram2dcontour\"}], \"mesh3d\": [{\"colorbar\": {\"outlinewidth\": 0, \"ticks\": \"\"}, \"type\": \"mesh3d\"}], \"parcoords\": [{\"line\": {\"colorbar\": {\"outlinewidth\": 0, \"ticks\": \"\"}}, \"type\": \"parcoords\"}], \"pie\": [{\"automargin\": true, \"type\": \"pie\"}], \"scatter\": [{\"marker\": {\"colorbar\": {\"outlinewidth\": 0, \"ticks\": \"\"}}, \"type\": \"scatter\"}], \"scatter3d\": [{\"line\": {\"colorbar\": {\"outlinewidth\": 0, \"ticks\": \"\"}}, \"marker\": {\"colorbar\": {\"outlinewidth\": 0, \"ticks\": \"\"}}, \"type\": \"scatter3d\"}], \"scattercarpet\": [{\"marker\": {\"colorbar\": {\"outlinewidth\": 0, \"ticks\": \"\"}}, \"type\": \"scattercarpet\"}], \"scattergeo\": [{\"marker\": {\"colorbar\": {\"outlinewidth\": 0, \"ticks\": \"\"}}, \"type\": \"scattergeo\"}], \"scattergl\": [{\"marker\": {\"colorbar\": {\"outlinewidth\": 0, \"ticks\": \"\"}}, \"type\": \"scattergl\"}], \"scattermapbox\": [{\"marker\": {\"colorbar\": {\"outlinewidth\": 0, \"ticks\": \"\"}}, \"type\": \"scattermapbox\"}], \"scatterpolar\": [{\"marker\": {\"colorbar\": {\"outlinewidth\": 0, \"ticks\": \"\"}}, \"type\": \"scatterpolar\"}], \"scatterpolargl\": [{\"marker\": {\"colorbar\": {\"outlinewidth\": 0, \"ticks\": \"\"}}, \"type\": \"scatterpolargl\"}], \"scatterternary\": [{\"marker\": {\"colorbar\": {\"outlinewidth\": 0, \"ticks\": \"\"}}, \"type\": \"scatterternary\"}], \"surface\": [{\"colorbar\": {\"outlinewidth\": 0, \"ticks\": \"\"}, \"colorscale\": [[0.0, \"#0d0887\"], [0.1111111111111111, \"#46039f\"], [0.2222222222222222, \"#7201a8\"], [0.3333333333333333, \"#9c179e\"], [0.4444444444444444, \"#bd3786\"], [0.5555555555555556, \"#d8576b\"], [0.6666666666666666, \"#ed7953\"], [0.7777777777777778, \"#fb9f3a\"], [0.8888888888888888, \"#fdca26\"], [1.0, \"#f0f921\"]], \"type\": \"surface\"}], \"table\": [{\"cells\": {\"fill\": {\"color\": \"#EBF0F8\"}, \"line\": {\"color\": \"white\"}}, \"header\": {\"fill\": {\"color\": \"#C8D4E3\"}, \"line\": {\"color\": \"white\"}}, \"type\": \"table\"}]}, \"layout\": {\"annotationdefaults\": {\"arrowcolor\": \"#2a3f5f\", \"arrowhead\": 0, \"arrowwidth\": 1}, \"coloraxis\": {\"colorbar\": {\"outlinewidth\": 0, \"ticks\": \"\"}}, \"colorscale\": {\"diverging\": [[0, \"#8e0152\"], [0.1, \"#c51b7d\"], [0.2, \"#de77ae\"], [0.3, \"#f1b6da\"], [0.4, \"#fde0ef\"], [0.5, \"#f7f7f7\"], [0.6, \"#e6f5d0\"], [0.7, \"#b8e186\"], [0.8, \"#7fbc41\"], [0.9, \"#4d9221\"], [1, \"#276419\"]], \"sequential\": [[0.0, \"#0d0887\"], [0.1111111111111111, \"#46039f\"], [0.2222222222222222, \"#7201a8\"], [0.3333333333333333, \"#9c179e\"], [0.4444444444444444, \"#bd3786\"], [0.5555555555555556, \"#d8576b\"], [0.6666666666666666, \"#ed7953\"], [0.7777777777777778, \"#fb9f3a\"], [0.8888888888888888, \"#fdca26\"], [1.0, \"#f0f921\"]], \"sequentialminus\": [[0.0, \"#0d0887\"], [0.1111111111111111, \"#46039f\"], [0.2222222222222222, \"#7201a8\"], [0.3333333333333333, \"#9c179e\"], [0.4444444444444444, \"#bd3786\"], [0.5555555555555556, \"#d8576b\"], [0.6666666666666666, \"#ed7953\"], [0.7777777777777778, \"#fb9f3a\"], [0.8888888888888888, \"#fdca26\"], [1.0, \"#f0f921\"]]}, \"colorway\": [\"#636efa\", \"#EF553B\", \"#00cc96\", \"#ab63fa\", \"#FFA15A\", \"#19d3f3\", \"#FF6692\", \"#B6E880\", \"#FF97FF\", \"#FECB52\"], \"font\": {\"color\": \"#2a3f5f\"}, \"geo\": {\"bgcolor\": \"white\", \"lakecolor\": \"white\", \"landcolor\": \"#E5ECF6\", \"showlakes\": true, \"showland\": true, \"subunitcolor\": \"white\"}, \"hoverlabel\": {\"align\": \"left\"}, \"hovermode\": \"closest\", \"mapbox\": {\"style\": \"light\"}, \"paper_bgcolor\": \"white\", \"plot_bgcolor\": \"#E5ECF6\", \"polar\": {\"angularaxis\": {\"gridcolor\": \"white\", \"linecolor\": \"white\", \"ticks\": \"\"}, \"bgcolor\": \"#E5ECF6\", \"radialaxis\": {\"gridcolor\": \"white\", \"linecolor\": \"white\", \"ticks\": \"\"}}, \"scene\": {\"xaxis\": {\"backgroundcolor\": \"#E5ECF6\", \"gridcolor\": \"white\", \"gridwidth\": 2, \"linecolor\": \"white\", \"showbackground\": true, \"ticks\": \"\", \"zerolinecolor\": \"white\"}, \"yaxis\": {\"backgroundcolor\": \"#E5ECF6\", \"gridcolor\": \"white\", \"gridwidth\": 2, \"linecolor\": \"white\", \"showbackground\": true, \"ticks\": \"\", \"zerolinecolor\": \"white\"}, \"zaxis\": {\"backgroundcolor\": \"#E5ECF6\", \"gridcolor\": \"white\", \"gridwidth\": 2, \"linecolor\": \"white\", \"showbackground\": true, \"ticks\": \"\", \"zerolinecolor\": \"white\"}}, \"shapedefaults\": {\"line\": {\"color\": \"#2a3f5f\"}}, \"ternary\": {\"aaxis\": {\"gridcolor\": \"white\", \"linecolor\": \"white\", \"ticks\": \"\"}, \"baxis\": {\"gridcolor\": \"white\", \"linecolor\": \"white\", \"ticks\": \"\"}, \"bgcolor\": \"#E5ECF6\", \"caxis\": {\"gridcolor\": \"white\", \"linecolor\": \"white\", \"ticks\": \"\"}}, \"title\": {\"x\": 0.05}, \"xaxis\": {\"automargin\": true, \"gridcolor\": \"white\", \"linecolor\": \"white\", \"ticks\": \"\", \"title\": {\"standoff\": 15}, \"zerolinecolor\": \"white\", \"zerolinewidth\": 2}, \"yaxis\": {\"automargin\": true, \"gridcolor\": \"white\", \"linecolor\": \"white\", \"ticks\": \"\", \"title\": {\"standoff\": 15}, \"zerolinecolor\": \"white\", \"zerolinewidth\": 2}}}, \"title\": {\"text\": \"Key trajectories for Trio D41 Nr.12\"}, \"updatemenus\": [{\"buttons\": [{\"args\": [null, {\"frame\": {\"duration\": 500, \"redraw\": false}, \"fromcurrent\": true, \"transition\": {\"duration\": 3000, \"easing\": \"quadratic-in-out\"}}], \"label\": \"Play\", \"method\": \"animate\"}, {\"args\": [[null], {\"frame\": {\"duration\": 0, \"redraw\": false}, \"mode\": \"immediate\", \"transition\": {\"duration\": 0}}], \"label\": \"Pause\", \"method\": \"animate\"}], \"type\": \"buttons\"}], \"width\": 950, \"xaxis\": {\"autorange\": false, \"range\": [0, 20], \"title\": {\"text\": \"Bars\"}, \"zeroline\": false}, \"yaxis\": {\"autorange\": false, \"range\": [-0.4, 1], \"title\": {\"text\": \"Correlation\"}, \"zeroline\": false}},\n",
       "                        {\"responsive\": true}\n",
       "                    ).then(function(){\n",
       "                            Plotly.addFrames('c100e9c2-f2de-4937-8c8a-d2254c43d3ab', [{\"data\": [{\"line\": {\"color\": \"black\", \"width\": 2}, \"mode\": \"lines\", \"x\": [0.0, 0.0], \"y\": [-2, 2], \"type\": \"scatter\"}]}, {\"data\": [{\"line\": {\"color\": \"black\", \"width\": 2}, \"mode\": \"lines\", \"x\": [0.5, 0.5], \"y\": [-2, 2], \"type\": \"scatter\"}]}, {\"data\": [{\"line\": {\"color\": \"black\", \"width\": 2}, \"mode\": \"lines\", \"x\": [1.0, 1.0], \"y\": [-2, 2], \"type\": \"scatter\"}]}, {\"data\": [{\"line\": {\"color\": \"black\", \"width\": 2}, \"mode\": \"lines\", \"x\": [1.5, 1.5], \"y\": [-2, 2], \"type\": \"scatter\"}]}, {\"data\": [{\"line\": {\"color\": \"black\", \"width\": 2}, \"mode\": \"lines\", \"x\": [2.0, 2.0], \"y\": [-2, 2], \"type\": \"scatter\"}]}, {\"data\": [{\"line\": {\"color\": \"black\", \"width\": 2}, \"mode\": \"lines\", \"x\": [2.5, 2.5], \"y\": [-2, 2], \"type\": \"scatter\"}]}, {\"data\": [{\"line\": {\"color\": \"black\", \"width\": 2}, \"mode\": \"lines\", \"x\": [3.0, 3.0], \"y\": [-2, 2], \"type\": \"scatter\"}]}, {\"data\": [{\"line\": {\"color\": \"black\", \"width\": 2}, \"mode\": \"lines\", \"x\": [3.5, 3.5], \"y\": [-2, 2], \"type\": \"scatter\"}]}, {\"data\": [{\"line\": {\"color\": \"black\", \"width\": 2}, \"mode\": \"lines\", \"x\": [4.0, 4.0], \"y\": [-2, 2], \"type\": \"scatter\"}]}, {\"data\": [{\"line\": {\"color\": \"black\", \"width\": 2}, \"mode\": \"lines\", \"x\": [4.5, 4.5], \"y\": [-2, 2], \"type\": \"scatter\"}]}, {\"data\": [{\"line\": {\"color\": \"black\", \"width\": 2}, \"mode\": \"lines\", \"x\": [5.0, 5.0], \"y\": [-2, 2], \"type\": \"scatter\"}]}, {\"data\": [{\"line\": {\"color\": \"black\", \"width\": 2}, \"mode\": \"lines\", \"x\": [5.5, 5.5], \"y\": [-2, 2], \"type\": \"scatter\"}]}, {\"data\": [{\"line\": {\"color\": \"black\", \"width\": 2}, \"mode\": \"lines\", \"x\": [6.0, 6.0], \"y\": [-2, 2], \"type\": \"scatter\"}]}, {\"data\": [{\"line\": {\"color\": \"black\", \"width\": 2}, \"mode\": \"lines\", \"x\": [6.5, 6.5], \"y\": [-2, 2], \"type\": \"scatter\"}]}, {\"data\": [{\"line\": {\"color\": \"black\", \"width\": 2}, \"mode\": \"lines\", \"x\": [7.0, 7.0], \"y\": [-2, 2], \"type\": \"scatter\"}]}, {\"data\": [{\"line\": {\"color\": \"black\", \"width\": 2}, \"mode\": \"lines\", \"x\": [7.5, 7.5], \"y\": [-2, 2], \"type\": \"scatter\"}]}, {\"data\": [{\"line\": {\"color\": \"black\", \"width\": 2}, \"mode\": \"lines\", \"x\": [8.0, 8.0], \"y\": [-2, 2], \"type\": \"scatter\"}]}, {\"data\": [{\"line\": {\"color\": \"black\", \"width\": 2}, \"mode\": \"lines\", \"x\": [8.5, 8.5], \"y\": [-2, 2], \"type\": \"scatter\"}]}, {\"data\": [{\"line\": {\"color\": \"black\", \"width\": 2}, \"mode\": \"lines\", \"x\": [9.0, 9.0], \"y\": [-2, 2], \"type\": \"scatter\"}]}, {\"data\": [{\"line\": {\"color\": \"black\", \"width\": 2}, \"mode\": \"lines\", \"x\": [9.5, 9.5], \"y\": [-2, 2], \"type\": \"scatter\"}]}, {\"data\": [{\"line\": {\"color\": \"black\", \"width\": 2}, \"mode\": \"lines\", \"x\": [10.0, 10.0], \"y\": [-2, 2], \"type\": \"scatter\"}]}, {\"data\": [{\"line\": {\"color\": \"black\", \"width\": 2}, \"mode\": \"lines\", \"x\": [10.5, 10.5], \"y\": [-2, 2], \"type\": \"scatter\"}]}, {\"data\": [{\"line\": {\"color\": \"black\", \"width\": 2}, \"mode\": \"lines\", \"x\": [11.0, 11.0], \"y\": [-2, 2], \"type\": \"scatter\"}]}, {\"data\": [{\"line\": {\"color\": \"black\", \"width\": 2}, \"mode\": \"lines\", \"x\": [11.5, 11.5], \"y\": [-2, 2], \"type\": \"scatter\"}]}, {\"data\": [{\"line\": {\"color\": \"black\", \"width\": 2}, \"mode\": \"lines\", \"x\": [12.0, 12.0], \"y\": [-2, 2], \"type\": \"scatter\"}]}, {\"data\": [{\"line\": {\"color\": \"black\", \"width\": 2}, \"mode\": \"lines\", \"x\": [12.5, 12.5], \"y\": [-2, 2], \"type\": \"scatter\"}]}, {\"data\": [{\"line\": {\"color\": \"black\", \"width\": 2}, \"mode\": \"lines\", \"x\": [13.0, 13.0], \"y\": [-2, 2], \"type\": \"scatter\"}]}, {\"data\": [{\"line\": {\"color\": \"black\", \"width\": 2}, \"mode\": \"lines\", \"x\": [13.5, 13.5], \"y\": [-2, 2], \"type\": \"scatter\"}]}, {\"data\": [{\"line\": {\"color\": \"black\", \"width\": 2}, \"mode\": \"lines\", \"x\": [14.0, 14.0], \"y\": [-2, 2], \"type\": \"scatter\"}]}, {\"data\": [{\"line\": {\"color\": \"black\", \"width\": 2}, \"mode\": \"lines\", \"x\": [14.5, 14.5], \"y\": [-2, 2], \"type\": \"scatter\"}]}, {\"data\": [{\"line\": {\"color\": \"black\", \"width\": 2}, \"mode\": \"lines\", \"x\": [15.0, 15.0], \"y\": [-2, 2], \"type\": \"scatter\"}]}, {\"data\": [{\"line\": {\"color\": \"black\", \"width\": 2}, \"mode\": \"lines\", \"x\": [15.5, 15.5], \"y\": [-2, 2], \"type\": \"scatter\"}]}, {\"data\": [{\"line\": {\"color\": \"black\", \"width\": 2}, \"mode\": \"lines\", \"x\": [16.0, 16.0], \"y\": [-2, 2], \"type\": \"scatter\"}]}, {\"data\": [{\"line\": {\"color\": \"black\", \"width\": 2}, \"mode\": \"lines\", \"x\": [16.5, 16.5], \"y\": [-2, 2], \"type\": \"scatter\"}]}, {\"data\": [{\"line\": {\"color\": \"black\", \"width\": 2}, \"mode\": \"lines\", \"x\": [17.0, 17.0], \"y\": [-2, 2], \"type\": \"scatter\"}]}, {\"data\": [{\"line\": {\"color\": \"black\", \"width\": 2}, \"mode\": \"lines\", \"x\": [17.5, 17.5], \"y\": [-2, 2], \"type\": \"scatter\"}]}, {\"data\": [{\"line\": {\"color\": \"black\", \"width\": 2}, \"mode\": \"lines\", \"x\": [18.0, 18.0], \"y\": [-2, 2], \"type\": \"scatter\"}]}, {\"data\": [{\"line\": {\"color\": \"black\", \"width\": 2}, \"mode\": \"lines\", \"x\": [18.5, 18.5], \"y\": [-2, 2], \"type\": \"scatter\"}]}, {\"data\": [{\"line\": {\"color\": \"black\", \"width\": 2}, \"mode\": \"lines\", \"x\": [19.0, 19.0], \"y\": [-2, 2], \"type\": \"scatter\"}]}, {\"data\": [{\"line\": {\"color\": \"black\", \"width\": 2}, \"mode\": \"lines\", \"x\": [19.5, 19.5], \"y\": [-2, 2], \"type\": \"scatter\"}]}, {\"data\": [{\"line\": {\"color\": \"black\", \"width\": 2}, \"mode\": \"lines\", \"x\": [20.0, 20.0], \"y\": [-2, 2], \"type\": \"scatter\"}]}, {\"data\": [{\"line\": {\"color\": \"black\", \"width\": 2}, \"mode\": \"lines\", \"x\": [20.5, 20.5], \"y\": [-2, 2], \"type\": \"scatter\"}]}]);\n",
       "                        }).then(function(){\n",
       "                            \n",
       "var gd = document.getElementById('c100e9c2-f2de-4937-8c8a-d2254c43d3ab');\n",
       "var x = new MutationObserver(function (mutations, observer) {{\n",
       "        var display = window.getComputedStyle(gd).display;\n",
       "        if (!display || display === 'none') {{\n",
       "            console.log([gd, 'removed!']);\n",
       "            Plotly.purge(gd);\n",
       "            observer.disconnect();\n",
       "        }}\n",
       "}});\n",
       "\n",
       "// Listen for the removal of the full notebook cells\n",
       "var notebookContainer = gd.closest('#notebook-container');\n",
       "if (notebookContainer) {{\n",
       "    x.observe(notebookContainer, {childList: true});\n",
       "}}\n",
       "\n",
       "// Listen for the clearing of the current output cell\n",
       "var outputEl = gd.closest('.output');\n",
       "if (outputEl) {{\n",
       "    x.observe(outputEl, {childList: true});\n",
       "}}\n",
       "\n",
       "                        })\n",
       "                };\n",
       "                });\n",
       "            </script>\n",
       "        </div>"
      ]
     },
     "metadata": {},
     "output_type": "display_data"
    }
   ],
   "source": [
    "key_traj_interactive(24, title=\"Key trajectories for Trio D41 Nr.12\") "
   ]
  },
  {
   "cell_type": "markdown",
   "metadata": {},
   "source": [
    "## Static plot of key trajectories with dropdown"
   ]
  },
  {
   "cell_type": "code",
   "execution_count": 100,
   "metadata": {},
   "outputs": [],
   "source": [
    "import cufflinks as cf"
   ]
  },
  {
   "cell_type": "code",
   "execution_count": 111,
   "metadata": {},
   "outputs": [
    {
     "name": "stdout",
     "output_type": "stream",
     "text": [
      "C major\n"
     ]
    },
    {
     "data": {
      "application/vnd.plotly.v1+json": {
       "config": {
        "linkText": "Export to plot.ly",
        "plotlyServerURL": "https://plot.ly",
        "showLink": false
       },
       "data": [
        {
         "name": "C major",
         "showlegend": true,
         "type": "scatter",
         "visible": true,
         "x": [
          0,
          1,
          2,
          3,
          4,
          5,
          6,
          7,
          8,
          9,
          10,
          11,
          12,
          13,
          14,
          15,
          16
         ],
         "y": [
          0.7819255978651092,
          0.836260164367423,
          0.847786163677065,
          0.847786163677065,
          0.8019526704968168,
          0.7601115840270101,
          0.8035370080638088,
          0.702912884665092,
          0.4740943331813513,
          0.4312347923159552,
          0.5390522672640455,
          0.6656946161393945,
          0.8291430456386503,
          0.8097650477113201,
          0.7984821990136732,
          0.8399368727161335,
          0.840395115315956
         ]
        },
        {
         "name": "C major",
         "showlegend": true,
         "type": "scatter",
         "visible": true,
         "x": [
          0,
          1,
          2,
          3,
          4,
          5,
          6,
          7,
          8,
          9,
          10,
          11,
          12,
          13,
          14,
          15,
          16
         ],
         "y": [
          0.25233585107702794,
          0.28712277070259445,
          0.31491868309786913,
          0.31491868309786913,
          0.31671901759641696,
          0.26370837193557684,
          0.42105673783854514,
          0.672211769173528,
          0.6608912976158243,
          0.63798133676788,
          0.5894368898980047,
          0.5508195384697596,
          0.4329626027793402,
          0.3929191935903745,
          0.41706874860407706,
          0.4206716423559137,
          0.4895125329745047
         ]
        },
        {
         "name": "C major",
         "showlegend": true,
         "type": "scatter",
         "visible": true,
         "x": [
          0,
          1,
          2,
          3,
          4,
          5,
          6,
          7,
          8,
          9,
          10,
          11,
          12,
          13,
          14,
          15,
          16
         ],
         "y": [
          0.6374831455204579,
          0.6156971576353466,
          0.6181608196847279,
          0.6181608196847279,
          0.6738545090078433,
          0.620453030784517,
          0.6652495202310229,
          0.7158891926214904,
          0.6070547311204768,
          0.6055159421256443,
          0.5888216376213526,
          0.6212288346480555,
          0.6594858297262267,
          0.709512952943511,
          0.7311505796370449,
          0.6839268255278331,
          0.6729893390312017
         ]
        },
        {
         "name": "E minor",
         "showlegend": true,
         "type": "scatter",
         "visible": false,
         "x": [
          0,
          1,
          2,
          3,
          4,
          5,
          6,
          7,
          8,
          9,
          10,
          11,
          12,
          13,
          14,
          15,
          16
         ],
         "y": [
          0.9063959564248671,
          0.9241242169563725,
          0.848954071711463,
          0.780852221244481,
          0.5906487756923494,
          0.4628349622040845,
          0.5234073769703073,
          0.482424217444239,
          0.4856823077218663,
          0.5263716365882741,
          0.500151243463919,
          0.6620554201558532,
          0.551565434483053,
          0.6402143284318107,
          0.486418194764524,
          0.7279751909330989,
          0.8699760786186094,
          0.9174782205991044,
          0.7322312982981364,
          0.6150578844455821,
          0.6893528982918353,
          0.9154286592993268,
          0.8859965610629581
         ]
        },
        {
         "name": "E minor",
         "showlegend": true,
         "type": "scatter",
         "visible": false,
         "x": [
          0,
          1,
          2,
          3,
          4,
          5,
          6,
          7,
          8,
          9,
          10,
          11,
          12,
          13,
          14,
          15,
          16
         ],
         "y": [
          0.46883850507387814,
          0.4575754088850553,
          0.5013824158648191,
          0.5587383773577531,
          0.4796995723218844,
          0.4494241713490277,
          0.42838062394328347,
          0.49259188837548123,
          0.5743715809138185,
          0.5704657020609891,
          0.5348820749878102,
          0.47098560058630695,
          0.5165578584034579,
          0.5420929605440827,
          0.5712928798060419,
          0.48992353496339375,
          0.4561256686424998,
          0.42545896026674623,
          0.6009768447071183,
          0.5146916402597576,
          0.42315064550363973,
          0.2940828116307415,
          0.27971950946146185
         ]
        },
        {
         "name": "E minor",
         "showlegend": true,
         "type": "scatter",
         "visible": false,
         "x": [
          0,
          1,
          2,
          3,
          4,
          5,
          6,
          7,
          8,
          9,
          10,
          11,
          12,
          13,
          14,
          15,
          16
         ],
         "y": [
          0.23958904042333254,
          0.2630419330523536,
          0.29043832671577186,
          0.41231704412216347,
          0.23280291150687116,
          0.3952853167768263,
          0.3803370920657902,
          0.5569309787079239,
          0.48549426071148255,
          0.44141238220477014,
          0.41334603802336073,
          0.37258685954951215,
          0.36208035201214456,
          0.39554978640026695,
          0.4428785039941852,
          0.3600579896162478,
          0.27522123420717814,
          0.2122041425978971,
          0.4232792060220044,
          0.31350177258595774,
          0.3064418611822934,
          0.04774688960469732,
          0.08516657308390027
         ]
        },
        {
         "name": "E minor",
         "showlegend": true,
         "type": "scatter",
         "visible": false,
         "x": [
          0,
          1,
          2,
          3,
          4,
          5,
          6,
          7,
          8,
          9,
          10,
          11,
          12,
          13,
          14,
          15,
          16
         ],
         "y": [
          0.6701677576583509,
          0.6112400706849576,
          0.7239832876827095,
          0.6379050725655973,
          0.5081863058826389,
          0.40017800891314126,
          0.40981181910136344,
          0.4891770568615952,
          0.482935548597224,
          0.6442557455036952,
          0.5705113457092978,
          0.6184018542375403,
          0.4975654915857996,
          0.6358564334473624,
          0.5829552558223188,
          0.6283948592823737,
          0.5248710739269999,
          0.610765821048047,
          0.6573714849111427,
          0.7513516087499226,
          0.6225998963507056,
          0.5281339144992614,
          0.27076122725239765
         ]
        },
        {
         "name": "E minor",
         "showlegend": true,
         "type": "scatter",
         "visible": false,
         "x": [
          0,
          1,
          2,
          3,
          4,
          5,
          6,
          7,
          8,
          9,
          10,
          11,
          12,
          13,
          14,
          15,
          16
         ],
         "y": [
          0.8739751094513505,
          0.9203445243542665,
          0.9565712247692714,
          0.850679905270687,
          0.6077396831766092,
          0.5400758582313061,
          0.8035018365452893,
          0.8952766382558976,
          0.5938345793642494,
          0.5312752766767399,
          0.520917584544192,
          0.48704061822466255,
          0.5535700655856005,
          0.8206891282889806,
          0.924647443292305,
          0.9451440510731183,
          0.9574376838335859
         ]
        },
        {
         "name": "C major",
         "showlegend": true,
         "type": "scatter",
         "visible": false,
         "x": [
          0,
          1,
          2,
          3,
          4,
          5,
          6,
          7,
          8,
          9,
          10,
          11,
          12,
          13,
          14,
          15,
          16
         ],
         "y": [
          0.3994287086356371,
          0.4044781835721142,
          0.25881785892089537,
          0.4006086845176135,
          0.3154557087944747,
          0.6054401305245545,
          0.6576346351633416,
          0.8624967049799519,
          0.9108142289617073,
          0.5045454094615466,
          0.640934321091228,
          0.4348903571669619,
          0.46307236929266055,
          0.27714275334695027,
          0.3823177057164766,
          0.28488188614592075,
          0.30293121990790034
         ]
        },
        {
         "name": "C major",
         "showlegend": true,
         "type": "scatter",
         "visible": false,
         "x": [
          0,
          1,
          2,
          3,
          4,
          5,
          6,
          7,
          8,
          9,
          10,
          11,
          12,
          13,
          14,
          15,
          16
         ],
         "y": [
          0.6413533455005039,
          0.7501873971502029,
          0.5231808746991543,
          0.7677415625958386,
          0.5496807422802388,
          0.5436889497375841,
          0.322508714026841,
          0.4042462185457068,
          0.43316622555938505,
          -0.15152498214644383,
          0.07177239051367937,
          0.17308979778092948,
          0.6998733094479714,
          0.5479467099393701,
          0.7141502789453075,
          0.7601305423631861,
          0.8900431239021012
         ]
        },
        {
         "name": "C major",
         "showlegend": true,
         "type": "scatter",
         "visible": false,
         "x": [
          0,
          1,
          2,
          3,
          4,
          5,
          6,
          7,
          8,
          9,
          10,
          11,
          12,
          13,
          14,
          15,
          16
         ],
         "y": [
          0.13701632236932665,
          0.10067922382266106,
          0.1990268923123151,
          0.09745274499056553,
          -0.1388417612965022,
          -0.30523224197742793,
          -0.38684916603000663,
          -0.16256502503718256,
          -0.23801877509858005,
          0.15609069759680586,
          0.1869595084878693,
          0.5432019340047498,
          0.2958055856637946,
          0.3195981762017599,
          0.11289367847640833,
          0.11091288113587078,
          -0.012807256329561145
         ]
        }
       ],
       "layout": {
        "template": {
         "data": {
          "bar": [
           {
            "error_x": {
             "color": "#2a3f5f"
            },
            "error_y": {
             "color": "#2a3f5f"
            },
            "marker": {
             "line": {
              "color": "#E5ECF6",
              "width": 0.5
             }
            },
            "type": "bar"
           }
          ],
          "barpolar": [
           {
            "marker": {
             "line": {
              "color": "#E5ECF6",
              "width": 0.5
             }
            },
            "type": "barpolar"
           }
          ],
          "carpet": [
           {
            "aaxis": {
             "endlinecolor": "#2a3f5f",
             "gridcolor": "white",
             "linecolor": "white",
             "minorgridcolor": "white",
             "startlinecolor": "#2a3f5f"
            },
            "baxis": {
             "endlinecolor": "#2a3f5f",
             "gridcolor": "white",
             "linecolor": "white",
             "minorgridcolor": "white",
             "startlinecolor": "#2a3f5f"
            },
            "type": "carpet"
           }
          ],
          "choropleth": [
           {
            "colorbar": {
             "outlinewidth": 0,
             "ticks": ""
            },
            "type": "choropleth"
           }
          ],
          "contour": [
           {
            "colorbar": {
             "outlinewidth": 0,
             "ticks": ""
            },
            "colorscale": [
             [
              0,
              "#0d0887"
             ],
             [
              0.1111111111111111,
              "#46039f"
             ],
             [
              0.2222222222222222,
              "#7201a8"
             ],
             [
              0.3333333333333333,
              "#9c179e"
             ],
             [
              0.4444444444444444,
              "#bd3786"
             ],
             [
              0.5555555555555556,
              "#d8576b"
             ],
             [
              0.6666666666666666,
              "#ed7953"
             ],
             [
              0.7777777777777778,
              "#fb9f3a"
             ],
             [
              0.8888888888888888,
              "#fdca26"
             ],
             [
              1,
              "#f0f921"
             ]
            ],
            "type": "contour"
           }
          ],
          "contourcarpet": [
           {
            "colorbar": {
             "outlinewidth": 0,
             "ticks": ""
            },
            "type": "contourcarpet"
           }
          ],
          "heatmap": [
           {
            "colorbar": {
             "outlinewidth": 0,
             "ticks": ""
            },
            "colorscale": [
             [
              0,
              "#0d0887"
             ],
             [
              0.1111111111111111,
              "#46039f"
             ],
             [
              0.2222222222222222,
              "#7201a8"
             ],
             [
              0.3333333333333333,
              "#9c179e"
             ],
             [
              0.4444444444444444,
              "#bd3786"
             ],
             [
              0.5555555555555556,
              "#d8576b"
             ],
             [
              0.6666666666666666,
              "#ed7953"
             ],
             [
              0.7777777777777778,
              "#fb9f3a"
             ],
             [
              0.8888888888888888,
              "#fdca26"
             ],
             [
              1,
              "#f0f921"
             ]
            ],
            "type": "heatmap"
           }
          ],
          "heatmapgl": [
           {
            "colorbar": {
             "outlinewidth": 0,
             "ticks": ""
            },
            "colorscale": [
             [
              0,
              "#0d0887"
             ],
             [
              0.1111111111111111,
              "#46039f"
             ],
             [
              0.2222222222222222,
              "#7201a8"
             ],
             [
              0.3333333333333333,
              "#9c179e"
             ],
             [
              0.4444444444444444,
              "#bd3786"
             ],
             [
              0.5555555555555556,
              "#d8576b"
             ],
             [
              0.6666666666666666,
              "#ed7953"
             ],
             [
              0.7777777777777778,
              "#fb9f3a"
             ],
             [
              0.8888888888888888,
              "#fdca26"
             ],
             [
              1,
              "#f0f921"
             ]
            ],
            "type": "heatmapgl"
           }
          ],
          "histogram": [
           {
            "marker": {
             "colorbar": {
              "outlinewidth": 0,
              "ticks": ""
             }
            },
            "type": "histogram"
           }
          ],
          "histogram2d": [
           {
            "colorbar": {
             "outlinewidth": 0,
             "ticks": ""
            },
            "colorscale": [
             [
              0,
              "#0d0887"
             ],
             [
              0.1111111111111111,
              "#46039f"
             ],
             [
              0.2222222222222222,
              "#7201a8"
             ],
             [
              0.3333333333333333,
              "#9c179e"
             ],
             [
              0.4444444444444444,
              "#bd3786"
             ],
             [
              0.5555555555555556,
              "#d8576b"
             ],
             [
              0.6666666666666666,
              "#ed7953"
             ],
             [
              0.7777777777777778,
              "#fb9f3a"
             ],
             [
              0.8888888888888888,
              "#fdca26"
             ],
             [
              1,
              "#f0f921"
             ]
            ],
            "type": "histogram2d"
           }
          ],
          "histogram2dcontour": [
           {
            "colorbar": {
             "outlinewidth": 0,
             "ticks": ""
            },
            "colorscale": [
             [
              0,
              "#0d0887"
             ],
             [
              0.1111111111111111,
              "#46039f"
             ],
             [
              0.2222222222222222,
              "#7201a8"
             ],
             [
              0.3333333333333333,
              "#9c179e"
             ],
             [
              0.4444444444444444,
              "#bd3786"
             ],
             [
              0.5555555555555556,
              "#d8576b"
             ],
             [
              0.6666666666666666,
              "#ed7953"
             ],
             [
              0.7777777777777778,
              "#fb9f3a"
             ],
             [
              0.8888888888888888,
              "#fdca26"
             ],
             [
              1,
              "#f0f921"
             ]
            ],
            "type": "histogram2dcontour"
           }
          ],
          "mesh3d": [
           {
            "colorbar": {
             "outlinewidth": 0,
             "ticks": ""
            },
            "type": "mesh3d"
           }
          ],
          "parcoords": [
           {
            "line": {
             "colorbar": {
              "outlinewidth": 0,
              "ticks": ""
             }
            },
            "type": "parcoords"
           }
          ],
          "pie": [
           {
            "automargin": true,
            "type": "pie"
           }
          ],
          "scatter": [
           {
            "marker": {
             "colorbar": {
              "outlinewidth": 0,
              "ticks": ""
             }
            },
            "type": "scatter"
           }
          ],
          "scatter3d": [
           {
            "line": {
             "colorbar": {
              "outlinewidth": 0,
              "ticks": ""
             }
            },
            "marker": {
             "colorbar": {
              "outlinewidth": 0,
              "ticks": ""
             }
            },
            "type": "scatter3d"
           }
          ],
          "scattercarpet": [
           {
            "marker": {
             "colorbar": {
              "outlinewidth": 0,
              "ticks": ""
             }
            },
            "type": "scattercarpet"
           }
          ],
          "scattergeo": [
           {
            "marker": {
             "colorbar": {
              "outlinewidth": 0,
              "ticks": ""
             }
            },
            "type": "scattergeo"
           }
          ],
          "scattergl": [
           {
            "marker": {
             "colorbar": {
              "outlinewidth": 0,
              "ticks": ""
             }
            },
            "type": "scattergl"
           }
          ],
          "scattermapbox": [
           {
            "marker": {
             "colorbar": {
              "outlinewidth": 0,
              "ticks": ""
             }
            },
            "type": "scattermapbox"
           }
          ],
          "scatterpolar": [
           {
            "marker": {
             "colorbar": {
              "outlinewidth": 0,
              "ticks": ""
             }
            },
            "type": "scatterpolar"
           }
          ],
          "scatterpolargl": [
           {
            "marker": {
             "colorbar": {
              "outlinewidth": 0,
              "ticks": ""
             }
            },
            "type": "scatterpolargl"
           }
          ],
          "scatterternary": [
           {
            "marker": {
             "colorbar": {
              "outlinewidth": 0,
              "ticks": ""
             }
            },
            "type": "scatterternary"
           }
          ],
          "surface": [
           {
            "colorbar": {
             "outlinewidth": 0,
             "ticks": ""
            },
            "colorscale": [
             [
              0,
              "#0d0887"
             ],
             [
              0.1111111111111111,
              "#46039f"
             ],
             [
              0.2222222222222222,
              "#7201a8"
             ],
             [
              0.3333333333333333,
              "#9c179e"
             ],
             [
              0.4444444444444444,
              "#bd3786"
             ],
             [
              0.5555555555555556,
              "#d8576b"
             ],
             [
              0.6666666666666666,
              "#ed7953"
             ],
             [
              0.7777777777777778,
              "#fb9f3a"
             ],
             [
              0.8888888888888888,
              "#fdca26"
             ],
             [
              1,
              "#f0f921"
             ]
            ],
            "type": "surface"
           }
          ],
          "table": [
           {
            "cells": {
             "fill": {
              "color": "#EBF0F8"
             },
             "line": {
              "color": "white"
             }
            },
            "header": {
             "fill": {
              "color": "#C8D4E3"
             },
             "line": {
              "color": "white"
             }
            },
            "type": "table"
           }
          ]
         },
         "layout": {
          "annotationdefaults": {
           "arrowcolor": "#2a3f5f",
           "arrowhead": 0,
           "arrowwidth": 1
          },
          "coloraxis": {
           "colorbar": {
            "outlinewidth": 0,
            "ticks": ""
           }
          },
          "colorscale": {
           "diverging": [
            [
             0,
             "#8e0152"
            ],
            [
             0.1,
             "#c51b7d"
            ],
            [
             0.2,
             "#de77ae"
            ],
            [
             0.3,
             "#f1b6da"
            ],
            [
             0.4,
             "#fde0ef"
            ],
            [
             0.5,
             "#f7f7f7"
            ],
            [
             0.6,
             "#e6f5d0"
            ],
            [
             0.7,
             "#b8e186"
            ],
            [
             0.8,
             "#7fbc41"
            ],
            [
             0.9,
             "#4d9221"
            ],
            [
             1,
             "#276419"
            ]
           ],
           "sequential": [
            [
             0,
             "#0d0887"
            ],
            [
             0.1111111111111111,
             "#46039f"
            ],
            [
             0.2222222222222222,
             "#7201a8"
            ],
            [
             0.3333333333333333,
             "#9c179e"
            ],
            [
             0.4444444444444444,
             "#bd3786"
            ],
            [
             0.5555555555555556,
             "#d8576b"
            ],
            [
             0.6666666666666666,
             "#ed7953"
            ],
            [
             0.7777777777777778,
             "#fb9f3a"
            ],
            [
             0.8888888888888888,
             "#fdca26"
            ],
            [
             1,
             "#f0f921"
            ]
           ],
           "sequentialminus": [
            [
             0,
             "#0d0887"
            ],
            [
             0.1111111111111111,
             "#46039f"
            ],
            [
             0.2222222222222222,
             "#7201a8"
            ],
            [
             0.3333333333333333,
             "#9c179e"
            ],
            [
             0.4444444444444444,
             "#bd3786"
            ],
            [
             0.5555555555555556,
             "#d8576b"
            ],
            [
             0.6666666666666666,
             "#ed7953"
            ],
            [
             0.7777777777777778,
             "#fb9f3a"
            ],
            [
             0.8888888888888888,
             "#fdca26"
            ],
            [
             1,
             "#f0f921"
            ]
           ]
          },
          "colorway": [
           "#636efa",
           "#EF553B",
           "#00cc96",
           "#ab63fa",
           "#FFA15A",
           "#19d3f3",
           "#FF6692",
           "#B6E880",
           "#FF97FF",
           "#FECB52"
          ],
          "font": {
           "color": "#2a3f5f"
          },
          "geo": {
           "bgcolor": "white",
           "lakecolor": "white",
           "landcolor": "#E5ECF6",
           "showlakes": true,
           "showland": true,
           "subunitcolor": "white"
          },
          "hoverlabel": {
           "align": "left"
          },
          "hovermode": "closest",
          "mapbox": {
           "style": "light"
          },
          "paper_bgcolor": "white",
          "plot_bgcolor": "#E5ECF6",
          "polar": {
           "angularaxis": {
            "gridcolor": "white",
            "linecolor": "white",
            "ticks": ""
           },
           "bgcolor": "#E5ECF6",
           "radialaxis": {
            "gridcolor": "white",
            "linecolor": "white",
            "ticks": ""
           }
          },
          "scene": {
           "xaxis": {
            "backgroundcolor": "#E5ECF6",
            "gridcolor": "white",
            "gridwidth": 2,
            "linecolor": "white",
            "showbackground": true,
            "ticks": "",
            "zerolinecolor": "white"
           },
           "yaxis": {
            "backgroundcolor": "#E5ECF6",
            "gridcolor": "white",
            "gridwidth": 2,
            "linecolor": "white",
            "showbackground": true,
            "ticks": "",
            "zerolinecolor": "white"
           },
           "zaxis": {
            "backgroundcolor": "#E5ECF6",
            "gridcolor": "white",
            "gridwidth": 2,
            "linecolor": "white",
            "showbackground": true,
            "ticks": "",
            "zerolinecolor": "white"
           }
          },
          "shapedefaults": {
           "line": {
            "color": "#2a3f5f"
           }
          },
          "ternary": {
           "aaxis": {
            "gridcolor": "white",
            "linecolor": "white",
            "ticks": ""
           },
           "baxis": {
            "gridcolor": "white",
            "linecolor": "white",
            "ticks": ""
           },
           "bgcolor": "#E5ECF6",
           "caxis": {
            "gridcolor": "white",
            "linecolor": "white",
            "ticks": ""
           }
          },
          "title": {
           "x": 0.05
          },
          "xaxis": {
           "automargin": true,
           "gridcolor": "white",
           "linecolor": "white",
           "ticks": "",
           "title": {
            "standoff": 15
           },
           "zerolinecolor": "white",
           "zerolinewidth": 2
          },
          "yaxis": {
           "automargin": true,
           "gridcolor": "white",
           "linecolor": "white",
           "ticks": "",
           "title": {
            "standoff": 15
           },
           "zerolinecolor": "white",
           "zerolinewidth": 2
          }
         }
        },
        "updatemenus": [
         {
          "buttons": [
           {
            "args": [
             {
              "visible": [
               true,
               true,
               true,
               false,
               false,
               false,
               false,
               false,
               false,
               false,
               false
              ]
             }
            ],
            "label": "D41 menuett N. 1",
            "method": "update"
           },
           {
            "args": [
             {
              "visible": [
               false,
               false,
               false,
               true,
               true,
               true,
               true,
               false,
               false,
               false,
               false
              ]
             }
            ],
            "label": "D41 trio N. 1",
            "method": "update"
           },
           {
            "args": [
             {
              "visible": [
               false,
               false,
               false,
               false,
               false,
               false,
               false,
               true,
               false,
               false,
               false
              ]
             }
            ],
            "label": "D41 menuett N. 2",
            "method": "update"
           },
           {
            "args": [
             {
              "visible": [
               false,
               false,
               false,
               false,
               false,
               false,
               false,
               false,
               true,
               true,
               true
              ]
             }
            ],
            "label": "D41 trio N. 12",
            "method": "update"
           }
          ],
          "direction": "down",
          "showactive": true
         }
        ]
       }
      },
      "text/html": [
       "<div>\n",
       "        \n",
       "        \n",
       "            <div id=\"485c3f0d-9d92-4637-898e-2e0f3ae3233c\" class=\"plotly-graph-div\" style=\"height:525px; width:100%;\"></div>\n",
       "            <script type=\"text/javascript\">\n",
       "                require([\"plotly\"], function(Plotly) {\n",
       "                    window.PLOTLYENV=window.PLOTLYENV || {};\n",
       "                    \n",
       "                if (document.getElementById(\"485c3f0d-9d92-4637-898e-2e0f3ae3233c\")) {\n",
       "                    Plotly.newPlot(\n",
       "                        '485c3f0d-9d92-4637-898e-2e0f3ae3233c',\n",
       "                        [{\"name\": \"C major\", \"showlegend\": true, \"type\": \"scatter\", \"visible\": true, \"x\": [0, 1, 2, 3, 4, 5, 6, 7, 8, 9, 10, 11, 12, 13, 14, 15, 16], \"y\": [0.7819255978651092, 0.836260164367423, 0.847786163677065, 0.847786163677065, 0.8019526704968168, 0.7601115840270101, 0.8035370080638088, 0.702912884665092, 0.4740943331813513, 0.4312347923159552, 0.5390522672640455, 0.6656946161393945, 0.8291430456386503, 0.8097650477113201, 0.7984821990136732, 0.8399368727161335, 0.840395115315956]}, {\"name\": \"C major\", \"showlegend\": true, \"type\": \"scatter\", \"visible\": true, \"x\": [0, 1, 2, 3, 4, 5, 6, 7, 8, 9, 10, 11, 12, 13, 14, 15, 16], \"y\": [0.25233585107702794, 0.28712277070259445, 0.31491868309786913, 0.31491868309786913, 0.31671901759641696, 0.26370837193557684, 0.42105673783854514, 0.672211769173528, 0.6608912976158243, 0.63798133676788, 0.5894368898980047, 0.5508195384697596, 0.4329626027793402, 0.3929191935903745, 0.41706874860407706, 0.4206716423559137, 0.4895125329745047]}, {\"name\": \"C major\", \"showlegend\": true, \"type\": \"scatter\", \"visible\": true, \"x\": [0, 1, 2, 3, 4, 5, 6, 7, 8, 9, 10, 11, 12, 13, 14, 15, 16], \"y\": [0.6374831455204579, 0.6156971576353466, 0.6181608196847279, 0.6181608196847279, 0.6738545090078433, 0.620453030784517, 0.6652495202310229, 0.7158891926214904, 0.6070547311204768, 0.6055159421256443, 0.5888216376213526, 0.6212288346480555, 0.6594858297262267, 0.709512952943511, 0.7311505796370449, 0.6839268255278331, 0.6729893390312017]}, {\"name\": \"E minor\", \"showlegend\": true, \"type\": \"scatter\", \"visible\": false, \"x\": [0, 1, 2, 3, 4, 5, 6, 7, 8, 9, 10, 11, 12, 13, 14, 15, 16], \"y\": [0.9063959564248671, 0.9241242169563725, 0.848954071711463, 0.780852221244481, 0.5906487756923494, 0.4628349622040845, 0.5234073769703073, 0.482424217444239, 0.4856823077218663, 0.5263716365882741, 0.500151243463919, 0.6620554201558532, 0.551565434483053, 0.6402143284318107, 0.486418194764524, 0.7279751909330989, 0.8699760786186094, 0.9174782205991044, 0.7322312982981364, 0.6150578844455821, 0.6893528982918353, 0.9154286592993268, 0.8859965610629581]}, {\"name\": \"E minor\", \"showlegend\": true, \"type\": \"scatter\", \"visible\": false, \"x\": [0, 1, 2, 3, 4, 5, 6, 7, 8, 9, 10, 11, 12, 13, 14, 15, 16], \"y\": [0.46883850507387814, 0.4575754088850553, 0.5013824158648191, 0.5587383773577531, 0.4796995723218844, 0.4494241713490277, 0.42838062394328347, 0.49259188837548123, 0.5743715809138185, 0.5704657020609891, 0.5348820749878102, 0.47098560058630695, 0.5165578584034579, 0.5420929605440827, 0.5712928798060419, 0.48992353496339375, 0.4561256686424998, 0.42545896026674623, 0.6009768447071183, 0.5146916402597576, 0.42315064550363973, 0.2940828116307415, 0.27971950946146185]}, {\"name\": \"E minor\", \"showlegend\": true, \"type\": \"scatter\", \"visible\": false, \"x\": [0, 1, 2, 3, 4, 5, 6, 7, 8, 9, 10, 11, 12, 13, 14, 15, 16], \"y\": [0.23958904042333254, 0.2630419330523536, 0.29043832671577186, 0.41231704412216347, 0.23280291150687116, 0.3952853167768263, 0.3803370920657902, 0.5569309787079239, 0.48549426071148255, 0.44141238220477014, 0.41334603802336073, 0.37258685954951215, 0.36208035201214456, 0.39554978640026695, 0.4428785039941852, 0.3600579896162478, 0.27522123420717814, 0.2122041425978971, 0.4232792060220044, 0.31350177258595774, 0.3064418611822934, 0.04774688960469732, 0.08516657308390027]}, {\"name\": \"E minor\", \"showlegend\": true, \"type\": \"scatter\", \"visible\": false, \"x\": [0, 1, 2, 3, 4, 5, 6, 7, 8, 9, 10, 11, 12, 13, 14, 15, 16], \"y\": [0.6701677576583509, 0.6112400706849576, 0.7239832876827095, 0.6379050725655973, 0.5081863058826389, 0.40017800891314126, 0.40981181910136344, 0.4891770568615952, 0.482935548597224, 0.6442557455036952, 0.5705113457092978, 0.6184018542375403, 0.4975654915857996, 0.6358564334473624, 0.5829552558223188, 0.6283948592823737, 0.5248710739269999, 0.610765821048047, 0.6573714849111427, 0.7513516087499226, 0.6225998963507056, 0.5281339144992614, 0.27076122725239765]}, {\"name\": \"E minor\", \"showlegend\": true, \"type\": \"scatter\", \"visible\": false, \"x\": [0, 1, 2, 3, 4, 5, 6, 7, 8, 9, 10, 11, 12, 13, 14, 15, 16], \"y\": [0.8739751094513505, 0.9203445243542665, 0.9565712247692714, 0.850679905270687, 0.6077396831766092, 0.5400758582313061, 0.8035018365452893, 0.8952766382558976, 0.5938345793642494, 0.5312752766767399, 0.520917584544192, 0.48704061822466255, 0.5535700655856005, 0.8206891282889806, 0.924647443292305, 0.9451440510731183, 0.9574376838335859]}, {\"name\": \"C major\", \"showlegend\": true, \"type\": \"scatter\", \"visible\": false, \"x\": [0, 1, 2, 3, 4, 5, 6, 7, 8, 9, 10, 11, 12, 13, 14, 15, 16], \"y\": [0.3994287086356371, 0.4044781835721142, 0.25881785892089537, 0.4006086845176135, 0.3154557087944747, 0.6054401305245545, 0.6576346351633416, 0.8624967049799519, 0.9108142289617073, 0.5045454094615466, 0.640934321091228, 0.4348903571669619, 0.46307236929266055, 0.27714275334695027, 0.3823177057164766, 0.28488188614592075, 0.30293121990790034]}, {\"name\": \"C major\", \"showlegend\": true, \"type\": \"scatter\", \"visible\": false, \"x\": [0, 1, 2, 3, 4, 5, 6, 7, 8, 9, 10, 11, 12, 13, 14, 15, 16], \"y\": [0.6413533455005039, 0.7501873971502029, 0.5231808746991543, 0.7677415625958386, 0.5496807422802388, 0.5436889497375841, 0.322508714026841, 0.4042462185457068, 0.43316622555938505, -0.15152498214644383, 0.07177239051367937, 0.17308979778092948, 0.6998733094479714, 0.5479467099393701, 0.7141502789453075, 0.7601305423631861, 0.8900431239021012]}, {\"name\": \"C major\", \"showlegend\": true, \"type\": \"scatter\", \"visible\": false, \"x\": [0, 1, 2, 3, 4, 5, 6, 7, 8, 9, 10, 11, 12, 13, 14, 15, 16], \"y\": [0.13701632236932665, 0.10067922382266106, 0.1990268923123151, 0.09745274499056553, -0.1388417612965022, -0.30523224197742793, -0.38684916603000663, -0.16256502503718256, -0.23801877509858005, 0.15609069759680586, 0.1869595084878693, 0.5432019340047498, 0.2958055856637946, 0.3195981762017599, 0.11289367847640833, 0.11091288113587078, -0.012807256329561145]}],\n",
       "                        {\"template\": {\"data\": {\"bar\": [{\"error_x\": {\"color\": \"#2a3f5f\"}, \"error_y\": {\"color\": \"#2a3f5f\"}, \"marker\": {\"line\": {\"color\": \"#E5ECF6\", \"width\": 0.5}}, \"type\": \"bar\"}], \"barpolar\": [{\"marker\": {\"line\": {\"color\": \"#E5ECF6\", \"width\": 0.5}}, \"type\": \"barpolar\"}], \"carpet\": [{\"aaxis\": {\"endlinecolor\": \"#2a3f5f\", \"gridcolor\": \"white\", \"linecolor\": \"white\", \"minorgridcolor\": \"white\", \"startlinecolor\": \"#2a3f5f\"}, \"baxis\": {\"endlinecolor\": \"#2a3f5f\", \"gridcolor\": \"white\", \"linecolor\": \"white\", \"minorgridcolor\": \"white\", \"startlinecolor\": \"#2a3f5f\"}, \"type\": \"carpet\"}], \"choropleth\": [{\"colorbar\": {\"outlinewidth\": 0, \"ticks\": \"\"}, \"type\": \"choropleth\"}], \"contour\": [{\"colorbar\": {\"outlinewidth\": 0, \"ticks\": \"\"}, \"colorscale\": [[0.0, \"#0d0887\"], [0.1111111111111111, \"#46039f\"], [0.2222222222222222, \"#7201a8\"], [0.3333333333333333, \"#9c179e\"], [0.4444444444444444, \"#bd3786\"], [0.5555555555555556, \"#d8576b\"], [0.6666666666666666, \"#ed7953\"], [0.7777777777777778, \"#fb9f3a\"], [0.8888888888888888, \"#fdca26\"], [1.0, \"#f0f921\"]], \"type\": \"contour\"}], \"contourcarpet\": [{\"colorbar\": {\"outlinewidth\": 0, \"ticks\": \"\"}, \"type\": \"contourcarpet\"}], \"heatmap\": [{\"colorbar\": {\"outlinewidth\": 0, \"ticks\": \"\"}, \"colorscale\": [[0.0, \"#0d0887\"], [0.1111111111111111, \"#46039f\"], [0.2222222222222222, \"#7201a8\"], [0.3333333333333333, \"#9c179e\"], [0.4444444444444444, \"#bd3786\"], [0.5555555555555556, \"#d8576b\"], [0.6666666666666666, \"#ed7953\"], [0.7777777777777778, \"#fb9f3a\"], [0.8888888888888888, \"#fdca26\"], [1.0, \"#f0f921\"]], \"type\": \"heatmap\"}], \"heatmapgl\": [{\"colorbar\": {\"outlinewidth\": 0, \"ticks\": \"\"}, \"colorscale\": [[0.0, \"#0d0887\"], [0.1111111111111111, \"#46039f\"], [0.2222222222222222, \"#7201a8\"], [0.3333333333333333, \"#9c179e\"], [0.4444444444444444, \"#bd3786\"], [0.5555555555555556, \"#d8576b\"], [0.6666666666666666, \"#ed7953\"], [0.7777777777777778, \"#fb9f3a\"], [0.8888888888888888, \"#fdca26\"], [1.0, \"#f0f921\"]], \"type\": \"heatmapgl\"}], \"histogram\": [{\"marker\": {\"colorbar\": {\"outlinewidth\": 0, \"ticks\": \"\"}}, \"type\": \"histogram\"}], \"histogram2d\": [{\"colorbar\": {\"outlinewidth\": 0, \"ticks\": \"\"}, \"colorscale\": [[0.0, \"#0d0887\"], [0.1111111111111111, \"#46039f\"], [0.2222222222222222, \"#7201a8\"], [0.3333333333333333, \"#9c179e\"], [0.4444444444444444, \"#bd3786\"], [0.5555555555555556, \"#d8576b\"], [0.6666666666666666, \"#ed7953\"], [0.7777777777777778, \"#fb9f3a\"], [0.8888888888888888, \"#fdca26\"], [1.0, \"#f0f921\"]], \"type\": \"histogram2d\"}], \"histogram2dcontour\": [{\"colorbar\": {\"outlinewidth\": 0, \"ticks\": \"\"}, \"colorscale\": [[0.0, \"#0d0887\"], [0.1111111111111111, \"#46039f\"], [0.2222222222222222, \"#7201a8\"], [0.3333333333333333, \"#9c179e\"], [0.4444444444444444, \"#bd3786\"], [0.5555555555555556, \"#d8576b\"], [0.6666666666666666, \"#ed7953\"], [0.7777777777777778, \"#fb9f3a\"], [0.8888888888888888, \"#fdca26\"], [1.0, \"#f0f921\"]], \"type\": \"histogram2dcontour\"}], \"mesh3d\": [{\"colorbar\": {\"outlinewidth\": 0, \"ticks\": \"\"}, \"type\": \"mesh3d\"}], \"parcoords\": [{\"line\": {\"colorbar\": {\"outlinewidth\": 0, \"ticks\": \"\"}}, \"type\": \"parcoords\"}], \"pie\": [{\"automargin\": true, \"type\": \"pie\"}], \"scatter\": [{\"marker\": {\"colorbar\": {\"outlinewidth\": 0, \"ticks\": \"\"}}, \"type\": \"scatter\"}], \"scatter3d\": [{\"line\": {\"colorbar\": {\"outlinewidth\": 0, \"ticks\": \"\"}}, \"marker\": {\"colorbar\": {\"outlinewidth\": 0, \"ticks\": \"\"}}, \"type\": \"scatter3d\"}], \"scattercarpet\": [{\"marker\": {\"colorbar\": {\"outlinewidth\": 0, \"ticks\": \"\"}}, \"type\": \"scattercarpet\"}], \"scattergeo\": [{\"marker\": {\"colorbar\": {\"outlinewidth\": 0, \"ticks\": \"\"}}, \"type\": \"scattergeo\"}], \"scattergl\": [{\"marker\": {\"colorbar\": {\"outlinewidth\": 0, \"ticks\": \"\"}}, \"type\": \"scattergl\"}], \"scattermapbox\": [{\"marker\": {\"colorbar\": {\"outlinewidth\": 0, \"ticks\": \"\"}}, \"type\": \"scattermapbox\"}], \"scatterpolar\": [{\"marker\": {\"colorbar\": {\"outlinewidth\": 0, \"ticks\": \"\"}}, \"type\": \"scatterpolar\"}], \"scatterpolargl\": [{\"marker\": {\"colorbar\": {\"outlinewidth\": 0, \"ticks\": \"\"}}, \"type\": \"scatterpolargl\"}], \"scatterternary\": [{\"marker\": {\"colorbar\": {\"outlinewidth\": 0, \"ticks\": \"\"}}, \"type\": \"scatterternary\"}], \"surface\": [{\"colorbar\": {\"outlinewidth\": 0, \"ticks\": \"\"}, \"colorscale\": [[0.0, \"#0d0887\"], [0.1111111111111111, \"#46039f\"], [0.2222222222222222, \"#7201a8\"], [0.3333333333333333, \"#9c179e\"], [0.4444444444444444, \"#bd3786\"], [0.5555555555555556, \"#d8576b\"], [0.6666666666666666, \"#ed7953\"], [0.7777777777777778, \"#fb9f3a\"], [0.8888888888888888, \"#fdca26\"], [1.0, \"#f0f921\"]], \"type\": \"surface\"}], \"table\": [{\"cells\": {\"fill\": {\"color\": \"#EBF0F8\"}, \"line\": {\"color\": \"white\"}}, \"header\": {\"fill\": {\"color\": \"#C8D4E3\"}, \"line\": {\"color\": \"white\"}}, \"type\": \"table\"}]}, \"layout\": {\"annotationdefaults\": {\"arrowcolor\": \"#2a3f5f\", \"arrowhead\": 0, \"arrowwidth\": 1}, \"coloraxis\": {\"colorbar\": {\"outlinewidth\": 0, \"ticks\": \"\"}}, \"colorscale\": {\"diverging\": [[0, \"#8e0152\"], [0.1, \"#c51b7d\"], [0.2, \"#de77ae\"], [0.3, \"#f1b6da\"], [0.4, \"#fde0ef\"], [0.5, \"#f7f7f7\"], [0.6, \"#e6f5d0\"], [0.7, \"#b8e186\"], [0.8, \"#7fbc41\"], [0.9, \"#4d9221\"], [1, \"#276419\"]], \"sequential\": [[0.0, \"#0d0887\"], [0.1111111111111111, \"#46039f\"], [0.2222222222222222, \"#7201a8\"], [0.3333333333333333, \"#9c179e\"], [0.4444444444444444, \"#bd3786\"], [0.5555555555555556, \"#d8576b\"], [0.6666666666666666, \"#ed7953\"], [0.7777777777777778, \"#fb9f3a\"], [0.8888888888888888, \"#fdca26\"], [1.0, \"#f0f921\"]], \"sequentialminus\": [[0.0, \"#0d0887\"], [0.1111111111111111, \"#46039f\"], [0.2222222222222222, \"#7201a8\"], [0.3333333333333333, \"#9c179e\"], [0.4444444444444444, \"#bd3786\"], [0.5555555555555556, \"#d8576b\"], [0.6666666666666666, \"#ed7953\"], [0.7777777777777778, \"#fb9f3a\"], [0.8888888888888888, \"#fdca26\"], [1.0, \"#f0f921\"]]}, \"colorway\": [\"#636efa\", \"#EF553B\", \"#00cc96\", \"#ab63fa\", \"#FFA15A\", \"#19d3f3\", \"#FF6692\", \"#B6E880\", \"#FF97FF\", \"#FECB52\"], \"font\": {\"color\": \"#2a3f5f\"}, \"geo\": {\"bgcolor\": \"white\", \"lakecolor\": \"white\", \"landcolor\": \"#E5ECF6\", \"showlakes\": true, \"showland\": true, \"subunitcolor\": \"white\"}, \"hoverlabel\": {\"align\": \"left\"}, \"hovermode\": \"closest\", \"mapbox\": {\"style\": \"light\"}, \"paper_bgcolor\": \"white\", \"plot_bgcolor\": \"#E5ECF6\", \"polar\": {\"angularaxis\": {\"gridcolor\": \"white\", \"linecolor\": \"white\", \"ticks\": \"\"}, \"bgcolor\": \"#E5ECF6\", \"radialaxis\": {\"gridcolor\": \"white\", \"linecolor\": \"white\", \"ticks\": \"\"}}, \"scene\": {\"xaxis\": {\"backgroundcolor\": \"#E5ECF6\", \"gridcolor\": \"white\", \"gridwidth\": 2, \"linecolor\": \"white\", \"showbackground\": true, \"ticks\": \"\", \"zerolinecolor\": \"white\"}, \"yaxis\": {\"backgroundcolor\": \"#E5ECF6\", \"gridcolor\": \"white\", \"gridwidth\": 2, \"linecolor\": \"white\", \"showbackground\": true, \"ticks\": \"\", \"zerolinecolor\": \"white\"}, \"zaxis\": {\"backgroundcolor\": \"#E5ECF6\", \"gridcolor\": \"white\", \"gridwidth\": 2, \"linecolor\": \"white\", \"showbackground\": true, \"ticks\": \"\", \"zerolinecolor\": \"white\"}}, \"shapedefaults\": {\"line\": {\"color\": \"#2a3f5f\"}}, \"ternary\": {\"aaxis\": {\"gridcolor\": \"white\", \"linecolor\": \"white\", \"ticks\": \"\"}, \"baxis\": {\"gridcolor\": \"white\", \"linecolor\": \"white\", \"ticks\": \"\"}, \"bgcolor\": \"#E5ECF6\", \"caxis\": {\"gridcolor\": \"white\", \"linecolor\": \"white\", \"ticks\": \"\"}}, \"title\": {\"x\": 0.05}, \"xaxis\": {\"automargin\": true, \"gridcolor\": \"white\", \"linecolor\": \"white\", \"ticks\": \"\", \"title\": {\"standoff\": 15}, \"zerolinecolor\": \"white\", \"zerolinewidth\": 2}, \"yaxis\": {\"automargin\": true, \"gridcolor\": \"white\", \"linecolor\": \"white\", \"ticks\": \"\", \"title\": {\"standoff\": 15}, \"zerolinecolor\": \"white\", \"zerolinewidth\": 2}}}, \"updatemenus\": [{\"buttons\": [{\"args\": [{\"visible\": [true, true, true, false, false, false, false, false, false, false, false]}], \"label\": \"D41 menuett N. 1\", \"method\": \"update\"}, {\"args\": [{\"visible\": [false, false, false, true, true, true, true, false, false, false, false]}], \"label\": \"D41 trio N. 1\", \"method\": \"update\"}, {\"args\": [{\"visible\": [false, false, false, false, false, false, false, true, false, false, false]}], \"label\": \"D41 menuett N. 2\", \"method\": \"update\"}, {\"args\": [{\"visible\": [false, false, false, false, false, false, false, false, true, true, true]}], \"label\": \"D41 trio N. 12\", \"method\": \"update\"}], \"direction\": \"down\", \"showactive\": true}]},\n",
       "                        {\"responsive\": true}\n",
       "                    ).then(function(){\n",
       "                            \n",
       "var gd = document.getElementById('485c3f0d-9d92-4637-898e-2e0f3ae3233c');\n",
       "var x = new MutationObserver(function (mutations, observer) {{\n",
       "        var display = window.getComputedStyle(gd).display;\n",
       "        if (!display || display === 'none') {{\n",
       "            console.log([gd, 'removed!']);\n",
       "            Plotly.purge(gd);\n",
       "            observer.disconnect();\n",
       "        }}\n",
       "}});\n",
       "\n",
       "// Listen for the removal of the full notebook cells\n",
       "var notebookContainer = gd.closest('#notebook-container');\n",
       "if (notebookContainer) {{\n",
       "    x.observe(notebookContainer, {childList: true});\n",
       "}}\n",
       "\n",
       "// Listen for the clearing of the current output cell\n",
       "var outputEl = gd.closest('.output');\n",
       "if (outputEl) {{\n",
       "    x.observe(outputEl, {childList: true});\n",
       "}}\n",
       "\n",
       "                        })\n",
       "                };\n",
       "                });\n",
       "            </script>\n",
       "        </div>"
      ]
     },
     "metadata": {},
     "output_type": "display_data"
    }
   ],
   "source": [
    "# Specifiy the dance IDs that should appear in the dropdown\n",
    "selection = [1, 2, 3, 24]\n",
    "\n",
    "buttons = []\n",
    "lines = []\n",
    "lines_idx_dict = {}\n",
    "counter = 0\n",
    "\n",
    "# Create the lines for all trajectories\n",
    "for idx, dance in enumerate(selection):\n",
    "    counter_before = counter\n",
    "    key_trajectories = key_trajectory(dance)[0][key_trajectory(dance)[0].index.isin(key_trajectory(dance)[1])].transpose()\n",
    "    if idx == 0:\n",
    "        visible=True\n",
    "    else:\n",
    "        visible=False\n",
    "        \n",
    "    key_string = str(key[1])+' '+str(key[0])\n",
    "    \n",
    "    for key in key_trajectories:\n",
    "        line = go.Scatter(x=np.arange(len(key_trajectories_list[0])),\n",
    "                          y=key_trajectories[key].to_list(),\n",
    "                          name=key_string,\n",
    "                          visible=visible,\n",
    "                          showlegend=True)\n",
    "        \n",
    "        lines.append(line)\n",
    "        counter = counter + 1\n",
    "        \n",
    "    lines_idx_dict[dance] = (counter_before, counter)\n",
    "    \n",
    "# Create the buttons that toggle the visibility\n",
    "for idx, dance in enumerate(selection):\n",
    "    true_false_list = [False] * len(lines)\n",
    "    label = 'D' + str(files.loc[dance]['D']) + ' ' + str(files.loc[dance]['dance']) + ' N. ' + str(files.loc[dance]['no'])    \n",
    "    visible_list = true_false_list\n",
    "    \n",
    "    for i in range(lines_idx_dict[dance][0], lines_idx_dict[dance][1]):\n",
    "        true_false_list[i] = True\n",
    "    \n",
    "    button = dict(label=label,\n",
    "                  method='update',\n",
    "                  args=[{'visible': true_false_list}])\n",
    "    buttons.append(button)\n",
    "    \n",
    "updatemenus = [dict(buttons=buttons, direction='down', showactive=True)]\n",
    "\n",
    "layout = go.Layout(\n",
    "    updatemenus=updatemenus,\n",
    ")\n",
    "\n",
    "figure = go.Figure(data=lines, layout=layout)\n",
    "po.iplot(figure)"
   ]
  },
  {
   "cell_type": "code",
   "execution_count": null,
   "metadata": {},
   "outputs": [],
   "source": []
  }
 ],
 "metadata": {
  "kernelspec": {
   "display_name": "Python 3",
   "language": "python",
   "name": "python3"
  },
  "language_info": {
   "codemirror_mode": {
    "name": "ipython",
    "version": 3
   },
   "file_extension": ".py",
   "mimetype": "text/x-python",
   "name": "python",
   "nbconvert_exporter": "python",
   "pygments_lexer": "ipython3",
   "version": "3.7.3"
  }
 },
 "nbformat": 4,
 "nbformat_minor": 2
}
