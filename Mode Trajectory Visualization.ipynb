{
 "cells": [
  {
   "cell_type": "markdown",
   "metadata": {},
   "source": [
    "# 1. Mode Trajectory Video"
   ]
  },
  {
   "cell_type": "code",
   "execution_count": 1,
   "metadata": {},
   "outputs": [],
   "source": [
    "import pandas as pd\n",
    "import pickle\n",
    "import numpy as np\n",
    "import itertools\n",
    "from scipy import stats \n",
    "import plotly.graph_objects as go\n",
    "from os.path import join\n",
    "import cufflinks as cf"
   ]
  },
  {
   "cell_type": "markdown",
   "metadata": {},
   "source": [
    "Load the necessary precomputed variables"
   ]
  },
  {
   "cell_type": "code",
   "execution_count": 5,
   "metadata": {},
   "outputs": [],
   "source": [
    "with open(join('data', 'pickle', 'note_list.pkl'), 'rb') as f:\n",
    "    note_list = pickle.load(f)\n",
    "with open(join('data', 'pickle', 'note_list_transposed.pkl'), 'rb') as f:\n",
    "    note_list_transposed = pickle.load(f)\n",
    "with open(join('data', 'pickle', 'measure_list.pkl'), 'rb') as f:\n",
    "    measure_list = pickle.load(f)\n",
    "with open(join('data', 'pickle', 'files.pkl'), 'rb') as f:\n",
    "    files = pickle.load(f)"
   ]
  },
  {
   "cell_type": "markdown",
   "metadata": {},
   "source": [
    "Define necessary functions (copy from schubert_project notebook)"
   ]
  },
  {
   "cell_type": "code",
   "execution_count": 6,
   "metadata": {},
   "outputs": [],
   "source": [
    "def KK(mode, transposition):\n",
    "    \"\"\"Krumhansl and Kessler (1982) key profiles for major and minor modes\"\"\"\n",
    "    \n",
    "    major = [6.20, 2.55, 3.45, 2.85, 4.22, 4.57, 2.67, 5.25, 2.45, 3.35, 2.70, 2.70]\n",
    "    minor = [6.03, 3.35, 3.67, 5.28, 2.58, 3.55, 2.87, 4.80, 4.35, 2.67, 2.50, 3.42]\n",
    "    \n",
    "    major_by_fifths = [None] * len(major)\n",
    "    minor_by_fifths = [None] * len(minor)\n",
    "    \n",
    "    #reorder by fifths\n",
    "    for i in range(len(major)):\n",
    "        major_by_fifths[(i*7)%12] = major[i]\n",
    "        minor_by_fifths[((i*7)+3)%12] = minor[i]\n",
    "    \n",
    "    #major = list(map(lambda x: x/sum(major), major))\n",
    "    #minor = list(map(lambda x: x/sum(minor), minor))\n",
    "    \n",
    "    if mode == 0:   \n",
    "        return major_by_fifths[-transposition:]+major[:-transposition]\n",
    "    elif mode == 1:\n",
    "        return minor_by_fifths[-transposition:]+minor[:-transposition]\n",
    "    else:\n",
    "        print('0 = major, 1 = minor')"
   ]
  },
  {
   "cell_type": "code",
   "execution_count": 7,
   "metadata": {},
   "outputs": [],
   "source": [
    "def bag_of_notes(df, tpc='tpc'):\n",
    "    \"\"\"Input: DataFrame including the columns ['tpc', 'duration'].\n",
    "    Output: Note distribution.\"\"\"\n",
    "    tpcs = df.tpc\n",
    "    occurring = np.sort(tpcs.unique())\n",
    "    bag = pd.DataFrame(index=occurring, columns=['count_a', 'count_n', 'duration_a', 'duration_n'])\n",
    "    GB = df.groupby('tpc')\n",
    "    bag.count_a = GB.size()\n",
    "    bag.count_n = bag.count_a / bag.count_a.sum()\n",
    "    bag.duration_a = GB['duration'].sum().astype(float)\n",
    "    bag.duration_n = (bag.duration_a / bag.duration_a.sum()).astype(float)\n",
    "    if tpc != 'tpc':\n",
    "        names = tpc.split('+')\n",
    "        note_names = []\n",
    "        for n in names:\n",
    "            if n == 'tpc':\n",
    "                note_names.append(occurring)\n",
    "            elif n == 'name':\n",
    "                note_names.append(tpc2name(occurring))\n",
    "            elif n == 'degree':\n",
    "                note_names.append(tpc2rn(occurring))\n",
    "            elif n == 'pc':\n",
    "                note_names.append(tpc2pc(occurring))\n",
    "            else:\n",
    "                logging.warning(\"Parameter tpc can only be {'tpc', 'name', 'degree', 'pc'} or a combination such as 'tpc+pc' or 'name+degree+tpc'.\")\n",
    "        L = len(note_names)\n",
    "        if L == 0:\n",
    "            note_names.append(bag.index)\n",
    "            L = 1\n",
    "        if L == 1:\n",
    "            bag.index = note_names[0]\n",
    "        else:\n",
    "            bag.index = [f\"{t[0]} ({', '.join(str(e) for e in t[1:])})\" for t in zip(*note_names)]\n",
    "    return bag"
   ]
  },
  {
   "cell_type": "code",
   "execution_count": 8,
   "metadata": {},
   "outputs": [],
   "source": [
    "def key_slider(dance, m):\n",
    "    '''Returns the correlation with major and minor key profiles in a 2-measures window starting at m'''\n",
    "    window = (note_list_transposed.mc >= m) & (note_list_transposed.mc <= m+2)\n",
    "    bag = bag_of_notes(note_list_transposed[window].loc[dance], 'tpc')\n",
    "    \n",
    "    key_profile = pd.DataFrame(index = list(range(12)), columns = ['profile']).fillna(0)\n",
    "    for i in bag.index:\n",
    "        key_profile.loc[i] = bag.duration_n.loc[i]\n",
    "        \n",
    "    temp = pd.Series(list(itertools.product([0,1], range(12))), index = pd.MultiIndex.from_product([['major', 'minor'], ['C', 'G',  'D',  'A', 'E','B', 'F#/Gb', 'C#/Db','G#/Ab', 'D#/Eb', 'A#/Bb', 'F']]))\n",
    "    temp = temp.apply(lambda x: KK(x[0], x[1]-3*x[0]))\n",
    "    temp = temp.apply(lambda x: stats.pearsonr(key_profile.profile, x)[0])\n",
    "    \n",
    "    \n",
    "    return temp"
   ]
  },
  {
   "cell_type": "code",
   "execution_count": 9,
   "metadata": {},
   "outputs": [],
   "source": [
    "def key_trajectory(dance):\n",
    "    local_max = []\n",
    "    trajectory = pd.DataFrame()\n",
    "    \n",
    "    for i in range(len(measure_list.loc[dance])-1):\n",
    "        keys = key_slider(dance,i).copy()\n",
    "        trajectory = pd.concat([trajectory, keys], axis = 1, ignore_index = True)\n",
    "        local_max += [keys.idxmax()]\n",
    "    \n",
    "    return [trajectory, set(local_max)]"
   ]
  },
  {
   "cell_type": "code",
   "execution_count": 10,
   "metadata": {},
   "outputs": [],
   "source": [
    "def key_traj_interactive(dance, speed=0.5, xlabel='Bars', ylabel='Correlation', title='Key Correlations'):    \n",
    "    \"\"\" Plots key trajectories and an animated position marker as vertical line\n",
    "\n",
    "    Args:\n",
    "        dance: Index of the dance to plot\n",
    "        speed: Speed of the marker (bars per animation frame)\n",
    "        xlabel: Label of the x-axis\n",
    "        ylabel: Label of the y-axis\n",
    "        title: Plot title\n",
    "\n",
    "    \"\"\"\n",
    "\n",
    "\n",
    "    key_trajectories = key_trajectory(dance)[0][key_trajectory(dance)[0].index.isin(key_trajectory(dance)[1])].transpose()\n",
    "\n",
    "    # Define the colors of the trajectories\n",
    "    colors = ['#1f77b4', '#ff7f0e', '#2ca02c', '#d62728', '#9467bd',\n",
    "              '#8c564b', '#e377c2', '#7f7f7f', '#bcbd22', '#17becf']\n",
    "    maj_colors = ['#1a5276 ', ' #2e86c1 ', ' #7fb3d5 ', ' #154360 ']\n",
    "    min_colors = ['#FF0010', ' #e74c3c  ', ' #7b241c ', ' #d98880 ']\n",
    "\n",
    "    n_bars = key_trajectories.shape[0]\n",
    "    bars = list(range(n_bars))\n",
    "    data = []\n",
    "\n",
    "    # Plot the permanent data \n",
    "    for idx, key in enumerate(key_trajectories):\n",
    "        if 'minor' in key:\n",
    "            color = min_colors[idx%len(min_colors)]\n",
    "        else:\n",
    "            color = maj_colors[idx%len(maj_colors)]\n",
    "        key_graph1=go.Scatter(x=bars, y=key_trajectories[key],\n",
    "                              mode=\"lines\",\n",
    "                              showlegend=False,\n",
    "                              line=dict(color=color))\n",
    "        key_graph2=go.Scatter(x=bars, y=key_trajectories[key],\n",
    "                              name=str(key[1])+' '+str(key[0]),\n",
    "                              mode=\"lines\",\n",
    "                              line=dict(color=color))\n",
    "        data.append(key_graph1)\n",
    "        data.append(key_graph2)\n",
    "\n",
    "    # Define the buttons\n",
    "    updatemenus = [dict(buttons=[dict(args=[None, \n",
    "                                            dict(frame=dict(duration=500, redraw=False),\n",
    "                                                 fromcurrent=True,\n",
    "                                                 transition=dict(duration=3000, easing='quadratic-in-out'))],\n",
    "                                      label='Play',\n",
    "                                      method='animate'),\n",
    "                                 dict(args=[[None],\n",
    "                                            dict(frame=dict(duration=0, redraw=False),\n",
    "                                                 mode='immediate',\n",
    "                                                 transition=dict(duration=0))],\n",
    "                                          label='Pause',\n",
    "                                          method='animate')],\n",
    "                        type='buttons')]\n",
    "\n",
    "    #Create the moving frames(i.e. the vertical line that moves from left to right)\n",
    "    bar_axis = np.arange(0, n_bars, speed)\n",
    "\n",
    "    frames=[go.Frame(\n",
    "            data=[go.Scatter(\n",
    "                x=[bar_axis[k], bar_axis[k]],\n",
    "                y=[-2, 2],\n",
    "                mode=\"lines\",\n",
    "                line=dict(color=\"black\", width=2))\n",
    "            ]) for k in range(len(bar_axis))]\n",
    "\n",
    "    # Define the layout of the plot\n",
    "    layout=go.Layout(width=950, height=600,\n",
    "                     xaxis=dict(range=[0, max(bars)], autorange=False, zeroline=False),\n",
    "                     yaxis=dict(range=[-0.4, 1], autorange=False, zeroline=False),\n",
    "                     xaxis_title=xlabel,\n",
    "                     yaxis_title=ylabel,\n",
    "                     title=title,\n",
    "                     hovermode=\"closest\",\n",
    "                     updatemenus=updatemenus)\n",
    "\n",
    "    # Create figure\n",
    "    fig = go.Figure(data, layout, frames)\n",
    "    fig.show()"
   ]
  },
  {
   "cell_type": "code",
   "execution_count": null,
   "metadata": {
    "scrolled": false
   },
   "outputs": [],
   "source": [
    "key_traj_interactive(24, title=\"Key trajectories for Trio D41 Nr.12\") "
   ]
  },
  {
   "cell_type": "markdown",
   "metadata": {},
   "source": [
    "## Static plot of key trajectories with dropdown"
   ]
  },
  {
   "cell_type": "markdown",
   "metadata": {},
   "source": [
    "You can either compute all key_trajectories anew...."
   ]
  },
  {
   "cell_type": "code",
   "execution_count": null,
   "metadata": {},
   "outputs": [],
   "source": [
    "triplemeter_dance_ids = files.loc[files['dance'] != 'ecossaise'].index.to_list()\n",
    "\n",
    "compute_anew = False\n",
    "if compute_anew == True:\n",
    "    key_traj_dict = {}\n",
    "    for dance in triplemeter_dance_ids:\n",
    "        key_traj_dict[dance] = key_trajectory(dance)[0][key_trajectory(dance)[0].index.isin(key_trajectory(dance)[1])].transpose()\n",
    "\n",
    "    with open(join('data', 'pickle', 'key_trajectory_dict.pkl'), 'wb') as f:\n",
    "        note_list = pickle.dump(key_traj_dict, f)"
   ]
  },
  {
   "cell_type": "markdown",
   "metadata": {},
   "source": [
    "Or just load them from a pickle file"
   ]
  },
  {
   "cell_type": "code",
   "execution_count": null,
   "metadata": {},
   "outputs": [],
   "source": [
    "with open(join('data', 'pickle', 'key_trajectory_dict.pkl'), 'rb') as f:\n",
    "    key_traj_dict = pickle.load(f)"
   ]
  },
  {
   "cell_type": "code",
   "execution_count": null,
   "metadata": {},
   "outputs": [],
   "source": [
    "# Specifiy the dance IDs that should appear in the dropdown\n",
    "selection = [1, 2, 3, 24, 200, 300, 400]\n",
    "\n",
    "buttons = []\n",
    "lines = []\n",
    "lines_idx_dict = {}\n",
    "counter = 0\n",
    "\n",
    "# Create the lines for all trajectories\n",
    "for idx, dance in enumerate(selection):\n",
    "    counter_before = counter\n",
    "    key_trajectories = key_traj_dict[dance]\n",
    "    if idx == 0:\n",
    "        visible=True\n",
    "    else:\n",
    "        visible=False\n",
    "\n",
    "    for key in key_trajectories:\n",
    "        key_string = str(key[1])+' '+str(key[0])\n",
    "        line = go.Scatter(x=np.arange(len(key_trajectories[key])),\n",
    "                          y=key_trajectories[key].to_list(),\n",
    "                          name=key_string,\n",
    "                          visible=visible,\n",
    "                          showlegend=True)\n",
    "        \n",
    "        lines.append(line)\n",
    "        counter = counter + 1\n",
    "        \n",
    "    lines_idx_dict[dance] = (counter_before, counter)\n",
    "    \n",
    "# Create the buttons that toggle the visibility\n",
    "for idx, dance in enumerate(selection):\n",
    "    true_false_list = [False] * len(lines)\n",
    "    label = 'D' + str(files.loc[dance]['D']) + ' ' + str(files.loc[dance]['dance']).capitalize() + ' N. ' + str(files.loc[dance]['no'])    \n",
    "    visible_list = true_false_list\n",
    "    \n",
    "    for i in range(lines_idx_dict[dance][0], lines_idx_dict[dance][1]):\n",
    "        true_false_list[i] = True\n",
    "    \n",
    "    button = dict(label=label,\n",
    "                  method='update',\n",
    "                  args=[{'visible': true_false_list}])\n",
    "    buttons.append(button)\n",
    "    \n",
    "updatemenus = [dict(buttons=buttons, direction='down', showactive=True)]\n",
    "\n",
    "layout = go.Layout(\n",
    "    title='Key Trajectories',\n",
    "    updatemenus=updatemenus,\n",
    "    xaxis_title='Bars',\n",
    "    yaxis_title='Correlation',\n",
    "    yaxis=dict(range=[-0.5, 1.1], autorange=False, zeroline=False)\n",
    ")\n",
    "\n",
    "figure = go.Figure(data=lines, layout=layout)\n",
    "figure.show()"
   ]
  }
 ],
 "metadata": {
  "kernelspec": {
   "display_name": "Python 3",
   "language": "python",
   "name": "python3"
  },
  "language_info": {
   "codemirror_mode": {
    "name": "ipython",
    "version": 3
   },
   "file_extension": ".py",
   "mimetype": "text/x-python",
   "name": "python",
   "nbconvert_exporter": "python",
   "pygments_lexer": "ipython3",
   "version": "3.7.3"
  }
 },
 "nbformat": 4,
 "nbformat_minor": 2
}
