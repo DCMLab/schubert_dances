{
 "cells": [
  {
   "cell_type": "markdown",
   "metadata": {},
   "source": [
    "## Guess-the-dance-type game!"
   ]
  },
  {
   "cell_type": "code",
   "execution_count": 12,
   "metadata": {
    "scrolled": true
   },
   "outputs": [
    {
     "data": {
      "text/html": [
       "<span id=\"round\"> Round 1/5 </span> <p>\n",
       "\n",
       "<button type=\"button\" onclick=\"dancePlay()\">Play</button>\n",
       "<button tyle=\"button\" onclick=\"dancePause()\">Pause</button> <p>\n",
       "<audio id=\"dance\">\n",
       "<source type=\"audio/mpeg\" />\n",
       "</audio>\n",
       "\n",
       "<span> Guess the dance type: </span> </br>\n",
       "    \n",
       "<select id=\"dropdown\">\n",
       "    <option value=\"default\">Choose...</option>\n",
       "    <option value=\"deutscher\">Deutsche</option>\n",
       "    <option value=\"ländler\">Ländler</option>\n",
       "    <option value=\"walzer\">Waltz</option>\n",
       "    <option value=\"menuett\">Menuet</option>\n",
       "    <option value=\"trio\">Trio</option>\n",
       "    <option value=\"ecossaise\">Ecossaise</option>\n",
       "</select>\n",
       "\n",
       "<button style=\"button\" onclick=\"select()\">Select</button> <p>\n",
       "<span id=\"answer\"> </span> <p>\n",
       "<button id='nextRound' style=\"button\" onclick=\"nextRound()\">Next round</button>\n",
       "<button id='playAgain' style=\"button\" onclick=\"reset()\">Play again</button> <p> \n",
       "\n",
       "</center>\n",
       "<script src='quiz.js'>\n",
       "\n",
       "</script>\n"
      ],
      "text/plain": [
       "<IPython.core.display.HTML object>"
      ]
     },
     "metadata": {},
     "output_type": "display_data"
    }
   ],
   "source": [
    "%%HTML\n",
    "<span id=\"round\"> Round 1/5 </span> <p>\n",
    "\n",
    "<button type=\"button\" onclick=\"dancePlay()\">Play</button>\n",
    "<button tyle=\"button\" onclick=\"dancePause()\">Pause</button> <p>\n",
    "<audio id=\"dance\">\n",
    "<source type=\"audio/mpeg\" />\n",
    "</audio>\n",
    "\n",
    "<span> Guess the dance type: </span> </br>\n",
    "    \n",
    "<select id=\"dropdown\">\n",
    "    <option value=\"default\">Choose...</option>\n",
    "    <option value=\"deutscher\">Deutsche</option>\n",
    "    <option value=\"ländler\">Ländler</option>\n",
    "    <option value=\"walzer\">Waltz</option>\n",
    "    <option value=\"menuett\">Menuet</option>\n",
    "    <option value=\"trio\">Trio</option>\n",
    "    <option value=\"ecossaise\">Ecossaise</option>\n",
    "</select>\n",
    "\n",
    "<button style=\"button\" onclick=\"select()\">Select</button> <p>\n",
    "<span id=\"answer\"> </span> <p>\n",
    "<button id='nextRound' style=\"button\" onclick=\"nextRound()\">Next round</button>\n",
    "<button id='playAgain' style=\"button\" onclick=\"reset()\">Play again</button> <p> \n",
    "\n",
    "</center>\n",
    "<script src='quiz.js'>\n",
    "\n",
    "</script>"
   ]
  },
  {
   "cell_type": "markdown",
   "metadata": {},
   "source": [
    "Helper:\n",
    "Write an index.txt file containing all dance names"
   ]
  },
  {
   "cell_type": "code",
   "execution_count": 52,
   "metadata": {},
   "outputs": [],
   "source": [
    "import os\n",
    "filenames = os.listdir('data/Quiz')\n",
    "\n",
    "with open(\"data/Quiz/index.txt\", \"w\") as txt_file:\n",
    "    for line in filenames:\n",
    "        if line != 'index.txt':\n",
    "            txt_file.write(\"\".join(line) + \"\\n\")"
   ]
  },
  {
   "cell_type": "code",
   "execution_count": null,
   "metadata": {},
   "outputs": [],
   "source": []
  }
 ],
 "metadata": {
  "kernelspec": {
   "display_name": "Python 3",
   "language": "python",
   "name": "python3"
  },
  "language_info": {
   "codemirror_mode": {
    "name": "ipython",
    "version": 3
   },
   "file_extension": ".py",
   "mimetype": "text/x-python",
   "name": "python",
   "nbconvert_exporter": "python",
   "pygments_lexer": "ipython3",
   "version": "3.7.3"
  }
 },
 "nbformat": 4,
 "nbformat_minor": 2
}
