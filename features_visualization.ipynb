{
 "cells": [
  {
   "cell_type": "markdown",
   "metadata": {},
   "source": [
    "Test Notebook for Visualization\n"
   ]
  },
  {
   "cell_type": "code",
   "execution_count": 1,
   "metadata": {},
   "outputs": [
    {
     "data": {
      "text/html": [
       "        <script type=\"text/javascript\">\n",
       "        window.PlotlyConfig = {MathJaxConfig: 'local'};\n",
       "        if (window.MathJax) {MathJax.Hub.Config({SVG: {font: \"STIX-Web\"}});}\n",
       "        if (typeof require !== 'undefined') {\n",
       "        require.undef(\"plotly\");\n",
       "        requirejs.config({\n",
       "            paths: {\n",
       "                'plotly': ['https://cdn.plot.ly/plotly-latest.min']\n",
       "            }\n",
       "        });\n",
       "        require(['plotly'], function(Plotly) {\n",
       "            window._Plotly = Plotly;\n",
       "        });\n",
       "        }\n",
       "        </script>\n",
       "        "
      ]
     },
     "metadata": {},
     "output_type": "display_data"
    }
   ],
   "source": [
    "%load_ext autoreload\n",
    "%autoreload 2\n",
    "# import os\n",
    "# os.chdir(/path/to/git_folder)\n",
    "from tools.ms3 import *\n",
    "import itertools\n",
    "import scipy as sp\n",
    "from plotly.offline import iplot\n",
    "import plotly.express as px\n",
    "import cufflinks as cf # for creating plots from pandas on the fly\n",
    "import plotly.io as IO\n",
    "cf.go_offline()\n",
    "cf.set_config_file(theme='ggplot') #{'solar', 'pearl', 'white', 'ggplot'}"
   ]
  },
  {
   "cell_type": "markdown",
   "metadata": {},
   "source": [
    "# configuration "
   ]
  },
  {
   "cell_type": "code",
   "execution_count": 2,
   "metadata": {
    "scrolled": true
   },
   "outputs": [],
   "source": [
    "compute_all = False                              # Sets all 'compute_anew' flags to True\n",
    "logging.getLogger().setLevel(logging.WARNING)    # logging level\n",
    "data ='data'                                     # data folders\n",
    "data_ms3 = os.path.join(data,'MuseScore_3')\n",
    "data_tsv = os.path.join(data,'tsv')\n",
    "note_features = None                             # TODO: Pass selected features as kwargs to get_notes()\n",
    "#plt.rcParams['figure.figsize'] = [15,10]        # Change the plotsize for matplotlib in the entire notebook\n",
    "std_plotsize = (1100, 500)                       # Standard plotsize (in px) for storing plotly images to disk \n",
    "                                                 # (the ones in the notebook adapt to windows size)"
   ]
  },
  {
   "cell_type": "markdown",
   "metadata": {},
   "source": [
    "# helper functions"
   ]
  },
  {
   "cell_type": "code",
   "execution_count": 3,
   "metadata": {},
   "outputs": [],
   "source": [
    "def plot(df, fname='test.png', kind='scatter', size=std_plotsize,  **kwargs):\n",
    "    \"\"\"Used to store plots as graphics.\"\"\"\n",
    "    fig = df.iplot(asFigure=True,kind=kind, **kwargs)\n",
    "    #fig.update(layout={})\n",
    "    w, h = size[0], size[1]\n",
    "    IO.write_image(fig, fname, width=w, height=h)\n",
    "    iplot(fig)"
   ]
  },
  {
   "cell_type": "code",
   "execution_count": 4,
   "metadata": {},
   "outputs": [],
   "source": [
    "def bag_of_notes(df, tpc='tpc'):\n",
    "    \"\"\"Input: DataFrame including the columns ['tpc', 'duration'].\n",
    "    Output: Note distribution.\"\"\"\n",
    "    tpcs = df.tpc\n",
    "    occurring = np.sort(tpcs.unique())\n",
    "    bag = pd.DataFrame(index=occurring, columns=['count_a', 'count_n', 'duration_a', 'duration_n'])\n",
    "    GB = df.groupby('tpc')\n",
    "    bag.count_a = GB.size()\n",
    "    bag.count_n = bag.count_a / bag.count_a.sum()\n",
    "    bag.duration_a = GB['duration'].sum().astype(float)\n",
    "    bag.duration_n = (bag.duration_a / bag.duration_a.sum()).astype(float)\n",
    "    if tpc != 'tpc':\n",
    "        names = tpc.split('+')\n",
    "        note_names = []\n",
    "        for n in names:\n",
    "            if n == 'tpc':\n",
    "                note_names.append(occurring)\n",
    "            elif n == 'name':\n",
    "                note_names.append(tpc2name(occurring))\n",
    "            elif n == 'degree':\n",
    "                note_names.append(tpc2degree(occurring))\n",
    "            elif n == 'pc':\n",
    "                note_names.append(tpc2pc(occurring))\n",
    "            else:\n",
    "                logging.warning(\"Parameter tpc can only be {'tpc', 'name', 'degree', 'pc'} or a combination such as 'tpc+pc' or 'name+degree+tpc'.\")\n",
    "        L = len(note_names)\n",
    "        if L == 0:\n",
    "            note_names.append(bag.index)\n",
    "            L = 1\n",
    "        if L == 1:\n",
    "            bag.index = note_names[0]\n",
    "        else:\n",
    "            bag.index = [f\"{t[0]} ({', '.join(str(e) for e in t[1:])})\" for t in zip(*note_names)]\n",
    "    return bag"
   ]
  },
  {
   "cell_type": "markdown",
   "metadata": {},
   "source": [
    "# loading the data\n",
    "The dataframe `merged_ids` maps the 435 IDs to the files in the `data_ms3` folder. The different types of trios (trio I, trio II, alternative trio) are all replaced by the term 'trio'."
   ]
  },
  {
   "cell_type": "code",
   "execution_count": 5,
   "metadata": {},
   "outputs": [
    {
     "data": {
      "text/html": [
       "<div>\n",
       "<style scoped>\n",
       "    .dataframe tbody tr th:only-of-type {\n",
       "        vertical-align: middle;\n",
       "    }\n",
       "\n",
       "    .dataframe tbody tr th {\n",
       "        vertical-align: top;\n",
       "    }\n",
       "\n",
       "    .dataframe thead th {\n",
       "        text-align: right;\n",
       "    }\n",
       "</style>\n",
       "<table border=\"1\" class=\"dataframe\">\n",
       "  <thead>\n",
       "    <tr style=\"text-align: right;\">\n",
       "      <th></th>\n",
       "      <th>D</th>\n",
       "      <th>no</th>\n",
       "      <th>dance</th>\n",
       "      <th>path</th>\n",
       "    </tr>\n",
       "    <tr>\n",
       "      <th>id</th>\n",
       "      <th></th>\n",
       "      <th></th>\n",
       "      <th></th>\n",
       "      <th></th>\n",
       "    </tr>\n",
       "  </thead>\n",
       "  <tbody>\n",
       "    <tr>\n",
       "      <td>1</td>\n",
       "      <td>41</td>\n",
       "      <td>1</td>\n",
       "      <td>menuett</td>\n",
       "      <td>041/D041menuett01a.mscx</td>\n",
       "    </tr>\n",
       "    <tr>\n",
       "      <td>2</td>\n",
       "      <td>41</td>\n",
       "      <td>1</td>\n",
       "      <td>trio</td>\n",
       "      <td>041/D041trio01b.mscx</td>\n",
       "    </tr>\n",
       "    <tr>\n",
       "      <td>3</td>\n",
       "      <td>41</td>\n",
       "      <td>2</td>\n",
       "      <td>menuett</td>\n",
       "      <td>041/D041menuett02a.mscx</td>\n",
       "    </tr>\n",
       "    <tr>\n",
       "      <td>4</td>\n",
       "      <td>41</td>\n",
       "      <td>2</td>\n",
       "      <td>trio</td>\n",
       "      <td>041/D041trio02b.mscx</td>\n",
       "    </tr>\n",
       "    <tr>\n",
       "      <td>5</td>\n",
       "      <td>41</td>\n",
       "      <td>3</td>\n",
       "      <td>menuett</td>\n",
       "      <td>041/D041menuett03a.mscx</td>\n",
       "    </tr>\n",
       "  </tbody>\n",
       "</table>\n",
       "</div>"
      ],
      "text/plain": [
       "     D  no    dance                     path\n",
       "id                                          \n",
       "1   41   1  menuett  041/D041menuett01a.mscx\n",
       "2   41   1     trio     041/D041trio01b.mscx\n",
       "3   41   2  menuett  041/D041menuett02a.mscx\n",
       "4   41   2     trio     041/D041trio02b.mscx\n",
       "5   41   3  menuett  041/D041menuett03a.mscx"
      ]
     },
     "execution_count": 5,
     "metadata": {},
     "output_type": "execute_result"
    }
   ],
   "source": [
    "merged_ids = os.path.join(data_ms3, 'merged_ids.tsv')\n",
    "files = pd.read_csv(merged_ids, sep='\\t', index_col=0)\n",
    "files.loc[files.dance.str.contains('trio'), 'dance'] = 'trio'\n",
    "files.head()"
   ]
  },
  {
   "cell_type": "markdown",
   "metadata": {},
   "source": [
    "**Accessibility**\n",
    "We check whether all files are accessible."
   ]
  },
  {
   "cell_type": "code",
   "execution_count": 6,
   "metadata": {},
   "outputs": [
    {
     "name": "stdout",
     "output_type": "stream",
     "text": [
      "All files found.\n"
     ]
    }
   ],
   "source": [
    "missing = [file for file in files.path.values if not os.path.isfile(os.path.join(data_ms3, file))]\n",
    "if missing != []:\n",
    "    print(\"These files are missing:\\n\" + '\\n'.join(missing))\n",
    "else:\n",
    "    print(\"All files found.\")"
   ]
  },
  {
   "cell_type": "markdown",
   "metadata": {},
   "source": [
    "## computing or loading the dataframe representation of the music\n",
    "We will be working on the data set in the form of note_lists. These can be newly computed from the scores or loaded from the precomputed TSV."
   ]
  },
  {
   "cell_type": "code",
   "execution_count": 7,
   "metadata": {},
   "outputs": [],
   "source": [
    "compute_anew = False\n",
    "\n",
    "if compute_anew or compute_all:\n",
    "\n",
    "    parse_score = lambda path: Score(os.path.join(data_ms3,path))\n",
    "    score_objects = pd.DataFrame(files.path.apply(parse_score)).rename(columns={'path': 'object'})\n",
    "    note_list = score_objects.groupby('id').apply(lambda df: df.iloc[0,0].get_notes(volta_warning=False))\n",
    "    note_list.to_csv(os.path.join(data_tsv, 'note_list_complete.tsv'), sep='\\t')\n",
    "    measure_list = score_objects.groupby('id').apply(lambda df: df.iloc[0,0].info)\\\n",
    "                                .astype({'section': int, \n",
    "                                         'keysig': int, \n",
    "                                         'voices': int, \n",
    "                                         'volta': 'Int64', \n",
    "                                         'numbering_offset': 'Int64', \n",
    "                                         'dont_count': 'Int64'})\n",
    "    measure_list.to_csv(os.path.join(data_tsv, 'measure_list_complete.tsv'), sep='\\t')\n",
    "    section_order = score_objects.applymap(lambda x: x.section_order).rename(columns = {'path': 'sections'})\n",
    "    section_order.to_csv(os.path.join(data_tsv, 'section_order_complete.tsv'), sep='\\t')\n",
    "    \n",
    "else:\n",
    "    note_list = pd.read_csv(os.path.join(data_tsv, 'note_list_complete.tsv'), sep='\\t', index_col=[0,1,2], \n",
    "                            dtype={'tied': 'Int64', \n",
    "                                   'volta': 'Int64'}, \n",
    "                            converters={'onset':frac, \n",
    "                                        'duration':frac, \n",
    "                                        'nominal_duration':frac, \n",
    "                                        'scalar':frac})\n",
    "    measure_list = pd.read_csv(os.path.join(data_tsv, 'measure_list_complete.tsv'), sep='\\t', index_col=[0,1], \n",
    "                               dtype={'volta': 'Int64', \n",
    "                                      'numbering_offset': 'Int64', \n",
    "                                      'dont_count': 'Int64'}, \n",
    "                               converters={'duration': frac, \n",
    "                                           'act_dur': frac, \n",
    "                                           'offset': frac, \n",
    "                                           'next': lambda l: [int(mc) for mc in l.strip('[]').split(', ') if mc != '']})\n",
    "    section_order = pd.read_csv(os.path.join(data_tsv, 'section_order_complete.tsv'), sep='\\t', index_col = [0])\\\n",
    "                      .rename(columns={'object': 'sections'})\n",
    "## converters={'object': lambda l: [int(s) for s in l.strip('[]').split(', ')]}\n",
    "                                \n",
    "    note_list.head()"
   ]
  },
  {
   "cell_type": "markdown",
   "metadata": {},
   "source": [
    "## loading ground truth data"
   ]
  },
  {
   "cell_type": "markdown",
   "metadata": {},
   "source": [
    "### major vs minor ground truth\n"
   ]
  },
  {
   "cell_type": "code",
   "execution_count": 8,
   "metadata": {},
   "outputs": [
    {
     "data": {
      "text/plain": [
       "major    372\n",
       "minor     63\n",
       "Name: mode, dtype: int64"
      ]
     },
     "execution_count": 8,
     "metadata": {},
     "output_type": "execute_result"
    }
   ],
   "source": [
    "GT_ma_mi = pd.read_csv(os.path.join(data_tsv, 'GT_ma_mi.tsv'), sep='\\t', index_col=[0])['mode']\n",
    "GT_ma_mi.value_counts()"
   ]
  },
  {
   "cell_type": "code",
   "execution_count": 9,
   "metadata": {},
   "outputs": [],
   "source": [
    "files['gt_mode'] = GT_ma_mi"
   ]
  },
  {
   "cell_type": "markdown",
   "metadata": {},
   "source": [
    "# basic statistics"
   ]
  },
  {
   "cell_type": "code",
   "execution_count": 10,
   "metadata": {},
   "outputs": [],
   "source": [
    "tpc_distribution = bag_of_notes(note_list, 'name')"
   ]
  },
  {
   "cell_type": "markdown",
   "metadata": {},
   "source": [
    "### average note duration"
   ]
  },
  {
   "cell_type": "markdown",
   "metadata": {},
   "source": [
    "The duration and count of tonal pitch-classes are analogously distributed over the corpus. This implies that the average duration of each note is roughly independent of its tonal pitch class."
   ]
  },
  {
   "cell_type": "code",
   "execution_count": 11,
   "metadata": {},
   "outputs": [],
   "source": [
    "average_duration = pd.DataFrame(tpc_distribution['duration_a']/tpc_distribution['count_a'], columns = ['Average duration'])\n",
    "\n",
    "#average_duration.iplot('bar')"
   ]
  },
  {
   "cell_type": "markdown",
   "metadata": {},
   "source": [
    "The common average duration is close to a quarter note, which is also the common tactus of all the dances (that are only written in 3/4 or 2/4 meter)."
   ]
  },
  {
   "cell_type": "markdown",
   "metadata": {},
   "source": [
    "## distribution of transposed notes\n",
    "All pitches are transposed to C major / a minor by substracting the key signature from `tpc`\n",
    "\n",
    "*Example*: `keysig == 1` &rightarrow; 1 sharp &rightarrow; key of G major (or E minor) &rightarrow; tonic = G = `tpc == 1` &rightarrow; transposition to C major (or A minor) by subtracting 1"
   ]
  },
  {
   "cell_type": "code",
   "execution_count": 12,
   "metadata": {},
   "outputs": [],
   "source": [
    "note_list_transposed = transpose_to_C(note_list, measure_list)                                                 \n",
    "transposed_distribution = bag_of_notes(note_list_transposed, 'degree+name')"
   ]
  },
  {
   "cell_type": "markdown",
   "metadata": {},
   "source": [
    "## entropy of the pitch class distribution\n",
    "\n",
    "For each dance, we compute the entropy of the distribution of tonal pitch classes, normalised to the alphabet of all 35 tpcs up to 2 accidentals."
   ]
  },
  {
   "cell_type": "code",
   "execution_count": 13,
   "metadata": {},
   "outputs": [],
   "source": [
    "note_list_by_dance = note_list.groupby('id').apply(lambda x: bag_of_notes(x, 'tpc'))\n",
    "entropies = note_list_by_dance.groupby('id').apply(lambda x: sp.stats.entropy(x.count_a)/np.log(35))\n",
    "\n",
    "#entropies.iplot('hist', bins = 50, xTitle = 'Normalised entropy')\n",
    "\n"
   ]
  },
  {
   "cell_type": "markdown",
   "metadata": {},
   "source": [
    "The entropy distribution seems to be independent of the key signature, with no significant (at 95% confidence and, if any, small in effect size) correlation between entropy and key signature or number of accidentals."
   ]
  },
  {
   "cell_type": "code",
   "execution_count": 14,
   "metadata": {},
   "outputs": [],
   "source": [
    "accidentals = note_list.merge(measure_list['keysig'], on=['id', 'mc'], right_index=True).groupby('id').keysig.max()\n",
    "pd.DataFrame({'entropy': entropies, 'accidentals':  accidentals}).boxplot(column = 'entropy', by = 'accidentals');\n",
    "\n",
    "\n",
    "#iplot('scatter', mode='markers', x = 'key_sig', y = 'entropy')"
   ]
  },
  {
   "cell_type": "markdown",
   "metadata": {},
   "source": [
    "### Entropy of pitch distribution"
   ]
  },
  {
   "cell_type": "code",
   "execution_count": 15,
   "metadata": {},
   "outputs": [],
   "source": [
    "files['entropy'] = entropies"
   ]
  },
  {
   "cell_type": "code",
   "execution_count": 16,
   "metadata": {},
   "outputs": [],
   "source": [
    "#files.set_index('dance', append=True)\\\n",
    "#     .entropy\\\n",
    "#     .unstack(level=1)\\\n",
    "#     .iplot('box', yTitle = 'entropy' )"
   ]
  },
  {
   "cell_type": "markdown",
   "metadata": {},
   "source": [
    "### Entropy of durations distribution"
   ]
  },
  {
   "cell_type": "code",
   "execution_count": 17,
   "metadata": {},
   "outputs": [],
   "source": [
    "files['duration_entropy'] = note_list.groupby('id').duration.value_counts().groupby('id').apply(lambda x: sp.stats.entropy(x))\n",
    "\n",
    "#files.set_index('dance', append=True)\\\n",
    "#     .duration_entropy\\\n",
    "#     .unstack(level=1)\\\n",
    "#     .iplot('box', yTitle = 'durations entropy' )"
   ]
  },
  {
   "cell_type": "markdown",
   "metadata": {},
   "source": [
    "### Entropy of onsets distributions"
   ]
  },
  {
   "cell_type": "code",
   "execution_count": 18,
   "metadata": {},
   "outputs": [],
   "source": [
    "files['onset_entropy'] = note_list.groupby('id').onset.value_counts().groupby('id').apply(lambda x: sp.stats.entropy(x))\n",
    "\n",
    "#files.set_index('dance', append=True)\\\n",
    "#     .onset_entropy\\\n",
    "#     .unstack(level=1)\\\n",
    "#     .iplot('box', yTitle = 'onset entropy' )"
   ]
  },
  {
   "cell_type": "markdown",
   "metadata": {},
   "source": [
    "## provisional mode classification"
   ]
  },
  {
   "cell_type": "markdown",
   "metadata": {},
   "source": [
    "The historically influential Krumhansl & Kessler (1982) key profiles classify pitch classes according to their perceived fit into a major or minor tonal context. The correlation of the pitch-class distribution of each dance with a key profile provides a first estimate of the fit of that dance into a mode (cf. Krumhansl, 1990). It should be noted that these key profiles are based on behavioural responses of listeners rather than on corpus statistics. "
   ]
  },
  {
   "cell_type": "code",
   "execution_count": 19,
   "metadata": {},
   "outputs": [],
   "source": [
    "def KK(mode, transposition):\n",
    "    \"\"\"Krumhansl and Kessler (1982) key profiles for major and minor modes\"\"\"\n",
    "    \n",
    "    major = [6.20, 2.55, 3.45, 2.85, 4.22, 4.57, 2.67, 5.25, 2.45, 3.35, 2.70, 2.70]\n",
    "    minor = [6.03, 3.35, 3.67, 5.28, 2.58, 3.55, 2.87, 4.80, 4.35, 2.67, 2.50, 3.42]\n",
    "    \n",
    "    major_by_fifths = [None] * len(major)\n",
    "    minor_by_fifths = [None] * len(minor)\n",
    "    \n",
    "    #reorder by fifths\n",
    "    for i in range(len(major)):\n",
    "        major_by_fifths[(i*7)%12] = major[i]\n",
    "        minor_by_fifths[((i*7)+3)%12] = minor[i]\n",
    "    \n",
    "    #major = list(map(lambda x: x/sum(major), major))\n",
    "    #minor = list(map(lambda x: x/sum(minor), minor))\n",
    "    \n",
    "    if mode == 0:   \n",
    "        return major_by_fifths[-transposition:]+major[:-transposition]\n",
    "    elif mode == 1:\n",
    "        return minor_by_fifths[-transposition:]+minor[:-transposition]\n",
    "    else:\n",
    "        print('0 = major, 1 = minor')"
   ]
  },
  {
   "cell_type": "markdown",
   "metadata": {},
   "source": [
    "### key profiles"
   ]
  },
  {
   "cell_type": "code",
   "execution_count": 20,
   "metadata": {},
   "outputs": [],
   "source": [
    "pc_list = note_list_transposed\n",
    "pc_list.tpc = pc_list.tpc.apply(lambda x: x%12)\n",
    "pc_list_distr = pc_list.groupby('id').apply(lambda x: bag_of_notes(x, 'tpc'))\n",
    "\n",
    "def full_distr(bag, index):\n",
    "    key_profile_index = pd.MultiIndex.from_product([index, list(range(12))])\n",
    "    key_profile = pd.DataFrame(index = key_profile_index, columns = ['profile']).fillna(0)\n",
    "\n",
    "    for i in bag.index:\n",
    "        key_profile.loc[i] = bag.loc[i].duration_n\n",
    "    return key_profile"
   ]
  },
  {
   "cell_type": "code",
   "execution_count": 21,
   "metadata": {},
   "outputs": [],
   "source": [
    "glob_key_profile = full_distr(pc_list_distr, files.index)\n",
    "major_corr = pd.DataFrame(glob_key_profile.groupby(axis = 0, level = 0).profile.apply(lambda x: sp.stats.pearsonr(x, KK(0,0))[0])).rename(columns = {'profile': 'major'})\n",
    "minor_corr = pd.DataFrame(glob_key_profile.groupby(axis = 0, level = 0).profile.apply(lambda x: sp.stats.pearsonr(x, KK(1,0))[0])).rename(columns = {'profile': 'minor'})\n",
    "key_corr = pd.concat([major_corr, minor_corr], axis = 1)"
   ]
  },
  {
   "cell_type": "code",
   "execution_count": 22,
   "metadata": {},
   "outputs": [
    {
     "name": "stdout",
     "output_type": "stream",
     "text": [
      "According to this preliminary classification, there are 401 dances whose global pitch-class distribution matches the major key profile better than the minor one, and 34 whose global pitch-class distribution matches the minor key profile better than the major one. \n"
     ]
    }
   ],
   "source": [
    "major_dances_prov = files.loc[key_corr[key_corr.minor<=key_corr.major].index]\n",
    "minor_dances_prov = files.loc[key_corr[key_corr.minor>key_corr.major].index]\n",
    "\n",
    "print(f'According to this preliminary classification, there are {len(major_dances_prov)} dances whose global pitch-class distribution matches the major key profile better than the minor one, and {len(minor_dances_prov)} whose global pitch-class distribution matches the minor key profile better than the major one. ')"
   ]
  },
  {
   "cell_type": "code",
   "execution_count": 23,
   "metadata": {},
   "outputs": [],
   "source": [
    "#minor_dances_prov.groupby('dance').size().iplot('bar', title = 'Distribution of minor mode dances (provisional)')"
   ]
  },
  {
   "cell_type": "code",
   "execution_count": 24,
   "metadata": {},
   "outputs": [],
   "source": [
    "dances_mode = pd.DataFrame(files.groupby('dance').gt_mode.value_counts())\n",
    "dances_mode.rename(columns = {'gt_mode': 'count'}, inplace = True)\n",
    "dances_mode.reset_index(inplace = True)\n"
   ]
  },
  {
   "cell_type": "code",
   "execution_count": 25,
   "metadata": {},
   "outputs": [],
   "source": [
    "#px.bar(dances_mode, x = 'dance', y = 'count', color = 'gt_mode')"
   ]
  },
  {
   "cell_type": "markdown",
   "metadata": {},
   "source": [
    "### mode recognition based on first section alone"
   ]
  },
  {
   "cell_type": "code",
   "execution_count": 26,
   "metadata": {},
   "outputs": [],
   "source": [
    "pc_list_distr_A = pc_list[pc_list.index.get_level_values('section') == 0].groupby('id').apply(lambda x: bag_of_notes(x, 'tpc'))"
   ]
  },
  {
   "cell_type": "code",
   "execution_count": 27,
   "metadata": {},
   "outputs": [],
   "source": [
    "A_key_profile = full_distr(pc_list_distr_A, files.index)\n",
    "major_corr_A = pd.DataFrame(A_key_profile.groupby(axis = 0, level = 0).profile.apply(lambda x: sp.stats.pearsonr(x, KK(0,0))[0])).rename(columns = {'profile': 'major'})\n",
    "minor_corr_A = pd.DataFrame(A_key_profile.groupby(axis = 0, level = 0).profile.apply(lambda x: sp.stats.pearsonr(x, KK(1,0))[0])).rename(columns = {'profile': 'minor'})\n",
    "key_corr_A = pd.concat([major_corr_A, minor_corr_A], axis = 1)\n"
   ]
  },
  {
   "cell_type": "code",
   "execution_count": 28,
   "metadata": {},
   "outputs": [
    {
     "name": "stdout",
     "output_type": "stream",
     "text": [
      "When looking at the pitch distribution of first sections only, there are 55 dances whose pitch profile is closer to the minor KK key profile than to the major one.\n"
     ]
    }
   ],
   "source": [
    "major_dances_A = files.loc[key_corr_A[key_corr_A.minor<=key_corr_A.major].index]\n",
    "minor_dances_A = files.loc[key_corr_A[key_corr_A.minor>key_corr_A.major].index]\n",
    "\n",
    "print(f'When looking at the pitch distribution of first sections only, there are {len(minor_dances_A)} dances whose pitch profile is closer to the minor KK key profile than to the major one.')"
   ]
  },
  {
   "cell_type": "code",
   "execution_count": 29,
   "metadata": {},
   "outputs": [
    {
     "name": "stdout",
     "output_type": "stream",
     "text": [
      "This simple model successfully recognises 51 of the 63 dances labeled as minor in our ground-truth. It wrongly labels 4 dances as minor and fails to recognise 12 minor dances.\n"
     ]
    }
   ],
   "source": [
    "GT_minor = pd.DataFrame(GT_ma_mi)\n",
    "GT_minor = GT_minor[GT_minor['mode']=='minor'].index\n",
    "\n",
    "detected_minor_A = minor_dances_A[minor_dances_A.index.isin(GT_minor)]\n",
    "falsely_detected_minor_A = minor_dances_A[~minor_dances_A.index.isin(detected_minor_A.index)]\n",
    "not_detected_minor_A = major_dances_A[major_dances_A.index.isin(GT_minor)]\n",
    "\n",
    "print(f'This simple model successfully recognises {len(detected_minor_A)} of the {len(GT_minor)} dances labeled as minor in our ground-truth. It wrongly labels {len(falsely_detected_minor_A)} dances as minor and fails to recognise {len(not_detected_minor_A)} minor dances.')"
   ]
  },
  {
   "cell_type": "markdown",
   "metadata": {},
   "source": [
    "#### distribution of false positives/negatives by dance type"
   ]
  },
  {
   "cell_type": "code",
   "execution_count": 30,
   "metadata": {},
   "outputs": [
    {
     "data": {
      "text/html": [
       "<div>\n",
       "<style scoped>\n",
       "    .dataframe tbody tr th:only-of-type {\n",
       "        vertical-align: middle;\n",
       "    }\n",
       "\n",
       "    .dataframe tbody tr th {\n",
       "        vertical-align: top;\n",
       "    }\n",
       "\n",
       "    .dataframe thead th {\n",
       "        text-align: right;\n",
       "    }\n",
       "</style>\n",
       "<table border=\"1\" class=\"dataframe\">\n",
       "  <thead>\n",
       "    <tr style=\"text-align: right;\">\n",
       "      <th></th>\n",
       "      <th>D</th>\n",
       "      <th>no</th>\n",
       "      <th>dance</th>\n",
       "      <th>path</th>\n",
       "      <th>gt_mode</th>\n",
       "      <th>entropy</th>\n",
       "      <th>duration_entropy</th>\n",
       "      <th>onset_entropy</th>\n",
       "      <th>major</th>\n",
       "      <th>minor</th>\n",
       "    </tr>\n",
       "  </thead>\n",
       "  <tbody>\n",
       "    <tr>\n",
       "      <td>338</td>\n",
       "      <td>783</td>\n",
       "      <td>1</td>\n",
       "      <td>deutscher</td>\n",
       "      <td>783/D783deutscher01.mscx</td>\n",
       "      <td>major</td>\n",
       "      <td>0.624948</td>\n",
       "      <td>0.750338</td>\n",
       "      <td>1.274454</td>\n",
       "      <td>0.475333</td>\n",
       "      <td>0.744253</td>\n",
       "    </tr>\n",
       "    <tr>\n",
       "      <td>346</td>\n",
       "      <td>783</td>\n",
       "      <td>9</td>\n",
       "      <td>deutscher</td>\n",
       "      <td>783/D783deutscher09.mscx</td>\n",
       "      <td>major</td>\n",
       "      <td>0.560845</td>\n",
       "      <td>0.808492</td>\n",
       "      <td>1.391723</td>\n",
       "      <td>0.092300</td>\n",
       "      <td>0.165038</td>\n",
       "    </tr>\n",
       "    <tr>\n",
       "      <td>369</td>\n",
       "      <td>816</td>\n",
       "      <td>3</td>\n",
       "      <td>ecossaise</td>\n",
       "      <td>816/D816ecossaise03.mscx</td>\n",
       "      <td>major</td>\n",
       "      <td>0.582274</td>\n",
       "      <td>0.868209</td>\n",
       "      <td>0.913351</td>\n",
       "      <td>0.677665</td>\n",
       "      <td>0.744747</td>\n",
       "    </tr>\n",
       "    <tr>\n",
       "      <td>415</td>\n",
       "      <td>972</td>\n",
       "      <td>2</td>\n",
       "      <td>deutscher</td>\n",
       "      <td>972/D972deutscher02.mscx</td>\n",
       "      <td>major</td>\n",
       "      <td>0.523915</td>\n",
       "      <td>0.693094</td>\n",
       "      <td>1.611656</td>\n",
       "      <td>0.092300</td>\n",
       "      <td>0.165038</td>\n",
       "    </tr>\n",
       "  </tbody>\n",
       "</table>\n",
       "</div>"
      ],
      "text/plain": [
       "       D  no      dance                      path gt_mode   entropy  \\\n",
       "338  783   1  deutscher  783/D783deutscher01.mscx   major  0.624948   \n",
       "346  783   9  deutscher  783/D783deutscher09.mscx   major  0.560845   \n",
       "369  816   3  ecossaise  816/D816ecossaise03.mscx   major  0.582274   \n",
       "415  972   2  deutscher  972/D972deutscher02.mscx   major  0.523915   \n",
       "\n",
       "     duration_entropy  onset_entropy     major     minor  \n",
       "338          0.750338       1.274454  0.475333  0.744253  \n",
       "346          0.808492       1.391723  0.092300  0.165038  \n",
       "369          0.868209       0.913351  0.677665  0.744747  \n",
       "415          0.693094       1.611656  0.092300  0.165038  "
      ]
     },
     "execution_count": 30,
     "metadata": {},
     "output_type": "execute_result"
    }
   ],
   "source": [
    "falsely_detected_minor_A.merge(key_corr_A, left_index = True, right_index = True)"
   ]
  },
  {
   "cell_type": "markdown",
   "metadata": {},
   "source": [
    "- D783.1 shifts immediately to relative minor. \n",
    "- D783.9 is parsed so that section 0 is only the pick-up measure. \n",
    "- D816.3 shifts to relative minor after first phrase.\n",
    "- D972.2 is parsed so that section 0 is only the pick-up measure.\n",
    "\n",
    "Dances with ID = 60, 103, 196, 223, 267, 275, 307, 346, 349, 375, 394, 413, 415 have the pick-up section issue."
   ]
  },
  {
   "cell_type": "code",
   "execution_count": 31,
   "metadata": {},
   "outputs": [
    {
     "data": {
      "text/html": [
       "<div>\n",
       "<style scoped>\n",
       "    .dataframe tbody tr th:only-of-type {\n",
       "        vertical-align: middle;\n",
       "    }\n",
       "\n",
       "    .dataframe tbody tr th {\n",
       "        vertical-align: top;\n",
       "    }\n",
       "\n",
       "    .dataframe thead th {\n",
       "        text-align: right;\n",
       "    }\n",
       "</style>\n",
       "<table border=\"1\" class=\"dataframe\">\n",
       "  <thead>\n",
       "    <tr style=\"text-align: right;\">\n",
       "      <th></th>\n",
       "      <th>D</th>\n",
       "      <th>no</th>\n",
       "      <th>dance</th>\n",
       "      <th>path</th>\n",
       "      <th>gt_mode</th>\n",
       "      <th>entropy</th>\n",
       "      <th>duration_entropy</th>\n",
       "      <th>onset_entropy</th>\n",
       "      <th>major</th>\n",
       "      <th>minor</th>\n",
       "    </tr>\n",
       "  </thead>\n",
       "  <tbody>\n",
       "    <tr>\n",
       "      <td>56</td>\n",
       "      <td>128</td>\n",
       "      <td>10</td>\n",
       "      <td>deutscher</td>\n",
       "      <td>128/D128deutscher10.mscx</td>\n",
       "      <td>minor</td>\n",
       "      <td>0.562569</td>\n",
       "      <td>1.307103</td>\n",
       "      <td>1.588871</td>\n",
       "      <td>0.577539</td>\n",
       "      <td>0.222567</td>\n",
       "    </tr>\n",
       "    <tr>\n",
       "      <td>63</td>\n",
       "      <td>145</td>\n",
       "      <td>3</td>\n",
       "      <td>walzer</td>\n",
       "      <td>145/D145walzer03.mscx</td>\n",
       "      <td>minor</td>\n",
       "      <td>0.614695</td>\n",
       "      <td>0.716351</td>\n",
       "      <td>1.366746</td>\n",
       "      <td>0.718390</td>\n",
       "      <td>0.605821</td>\n",
       "    </tr>\n",
       "    <tr>\n",
       "      <td>69</td>\n",
       "      <td>145</td>\n",
       "      <td>9</td>\n",
       "      <td>walzer</td>\n",
       "      <td>145/D145walzer09.mscx</td>\n",
       "      <td>minor</td>\n",
       "      <td>0.592727</td>\n",
       "      <td>1.226204</td>\n",
       "      <td>1.410805</td>\n",
       "      <td>0.848188</td>\n",
       "      <td>0.598276</td>\n",
       "    </tr>\n",
       "    <tr>\n",
       "      <td>194</td>\n",
       "      <td>366</td>\n",
       "      <td>9</td>\n",
       "      <td>ländler</td>\n",
       "      <td>366/D366ländler09.mscx</td>\n",
       "      <td>minor</td>\n",
       "      <td>0.604576</td>\n",
       "      <td>0.923784</td>\n",
       "      <td>1.417350</td>\n",
       "      <td>0.756567</td>\n",
       "      <td>-0.022396</td>\n",
       "    </tr>\n",
       "    <tr>\n",
       "      <td>198</td>\n",
       "      <td>366</td>\n",
       "      <td>13</td>\n",
       "      <td>ländler</td>\n",
       "      <td>366/D366ländler13.mscx</td>\n",
       "      <td>minor</td>\n",
       "      <td>0.598615</td>\n",
       "      <td>0.833152</td>\n",
       "      <td>1.460061</td>\n",
       "      <td>0.663618</td>\n",
       "      <td>0.315752</td>\n",
       "    </tr>\n",
       "    <tr>\n",
       "      <td>314</td>\n",
       "      <td>779</td>\n",
       "      <td>23</td>\n",
       "      <td>walzer</td>\n",
       "      <td>779/D779walzer23.mscx</td>\n",
       "      <td>minor</td>\n",
       "      <td>0.575870</td>\n",
       "      <td>0.819098</td>\n",
       "      <td>1.590646</td>\n",
       "      <td>0.713975</td>\n",
       "      <td>0.375713</td>\n",
       "    </tr>\n",
       "    <tr>\n",
       "      <td>342</td>\n",
       "      <td>783</td>\n",
       "      <td>5</td>\n",
       "      <td>deutscher</td>\n",
       "      <td>783/D783deutscher05.mscx</td>\n",
       "      <td>minor</td>\n",
       "      <td>0.540814</td>\n",
       "      <td>0.982174</td>\n",
       "      <td>1.643418</td>\n",
       "      <td>0.868694</td>\n",
       "      <td>0.299102</td>\n",
       "    </tr>\n",
       "    <tr>\n",
       "      <td>348</td>\n",
       "      <td>783</td>\n",
       "      <td>11</td>\n",
       "      <td>deutscher</td>\n",
       "      <td>783/D783deutscher11.mscx</td>\n",
       "      <td>minor</td>\n",
       "      <td>0.548716</td>\n",
       "      <td>0.857530</td>\n",
       "      <td>1.624273</td>\n",
       "      <td>0.706857</td>\n",
       "      <td>0.651459</td>\n",
       "    </tr>\n",
       "    <tr>\n",
       "      <td>351</td>\n",
       "      <td>783</td>\n",
       "      <td>14</td>\n",
       "      <td>deutscher</td>\n",
       "      <td>783/D783deutscher14.mscx</td>\n",
       "      <td>minor</td>\n",
       "      <td>0.633543</td>\n",
       "      <td>0.830951</td>\n",
       "      <td>1.493292</td>\n",
       "      <td>0.718854</td>\n",
       "      <td>0.709965</td>\n",
       "    </tr>\n",
       "    <tr>\n",
       "      <td>355</td>\n",
       "      <td>783</td>\n",
       "      <td>2</td>\n",
       "      <td>ecossaise</td>\n",
       "      <td>783/D783ecossaise02.mscx</td>\n",
       "      <td>minor</td>\n",
       "      <td>0.555444</td>\n",
       "      <td>0.978762</td>\n",
       "      <td>1.007479</td>\n",
       "      <td>0.835016</td>\n",
       "      <td>0.165022</td>\n",
       "    </tr>\n",
       "    <tr>\n",
       "      <td>389</td>\n",
       "      <td>924</td>\n",
       "      <td>11</td>\n",
       "      <td>walzer</td>\n",
       "      <td>924/D924walzer11.mscx</td>\n",
       "      <td>minor</td>\n",
       "      <td>0.554017</td>\n",
       "      <td>0.781686</td>\n",
       "      <td>1.310137</td>\n",
       "      <td>0.923445</td>\n",
       "      <td>0.519277</td>\n",
       "    </tr>\n",
       "    <tr>\n",
       "      <td>397</td>\n",
       "      <td>969</td>\n",
       "      <td>5</td>\n",
       "      <td>walzer</td>\n",
       "      <td>969/D969walzer05.mscx</td>\n",
       "      <td>minor</td>\n",
       "      <td>0.619754</td>\n",
       "      <td>0.738836</td>\n",
       "      <td>1.460179</td>\n",
       "      <td>0.757260</td>\n",
       "      <td>0.544627</td>\n",
       "    </tr>\n",
       "  </tbody>\n",
       "</table>\n",
       "</div>"
      ],
      "text/plain": [
       "       D  no      dance                      path gt_mode   entropy  \\\n",
       "56   128  10  deutscher  128/D128deutscher10.mscx   minor  0.562569   \n",
       "63   145   3     walzer     145/D145walzer03.mscx   minor  0.614695   \n",
       "69   145   9     walzer     145/D145walzer09.mscx   minor  0.592727   \n",
       "194  366   9    ländler    366/D366ländler09.mscx   minor  0.604576   \n",
       "198  366  13    ländler    366/D366ländler13.mscx   minor  0.598615   \n",
       "314  779  23     walzer     779/D779walzer23.mscx   minor  0.575870   \n",
       "342  783   5  deutscher  783/D783deutscher05.mscx   minor  0.540814   \n",
       "348  783  11  deutscher  783/D783deutscher11.mscx   minor  0.548716   \n",
       "351  783  14  deutscher  783/D783deutscher14.mscx   minor  0.633543   \n",
       "355  783   2  ecossaise  783/D783ecossaise02.mscx   minor  0.555444   \n",
       "389  924  11     walzer     924/D924walzer11.mscx   minor  0.554017   \n",
       "397  969   5     walzer     969/D969walzer05.mscx   minor  0.619754   \n",
       "\n",
       "     duration_entropy  onset_entropy     major     minor  \n",
       "56           1.307103       1.588871  0.577539  0.222567  \n",
       "63           0.716351       1.366746  0.718390  0.605821  \n",
       "69           1.226204       1.410805  0.848188  0.598276  \n",
       "194          0.923784       1.417350  0.756567 -0.022396  \n",
       "198          0.833152       1.460061  0.663618  0.315752  \n",
       "314          0.819098       1.590646  0.713975  0.375713  \n",
       "342          0.982174       1.643418  0.868694  0.299102  \n",
       "348          0.857530       1.624273  0.706857  0.651459  \n",
       "351          0.830951       1.493292  0.718854  0.709965  \n",
       "355          0.978762       1.007479  0.835016  0.165022  \n",
       "389          0.781686       1.310137  0.923445  0.519277  \n",
       "397          0.738836       1.460179  0.757260  0.544627  "
      ]
     },
     "execution_count": 31,
     "metadata": {},
     "output_type": "execute_result"
    }
   ],
   "source": [
    "not_detected_minor_A.merge(key_corr_A, left_index = True, right_index = True)"
   ]
  },
  {
   "cell_type": "markdown",
   "metadata": {},
   "source": [
    "- D128.10 starts ambiguously, but F#min, but then Dmaj. I'd say it is Dmaj. \n",
    "- D145.3 starts Amin-->Cmaj, then Amaj\n",
    "- D145.9 is F#min. Shift to the dominant might be confusing for the model.\n",
    "- D366.9 I would say this is definitely Bmaj, although it starts in Bmin. The key signature is Bmaj (hence neg. corr with minor).\n",
    "- D366.13 is Bbmin. Shift to relative major might be confusing for the model.\n",
    "- D779.23 BEAUTIFUL! is Ebmaj, but starts with II/Gmin, and then moves to Eb through a deceptive cadence.\n",
    "- D783.5 BEAUTIFUL! is Dmaj but starts with Bmin (just colouring).\n",
    "- D783.11 starts Emin, then goes Gmaj till the end (correlation very close).\n",
    "- D783.14 starts Fmin, then Abmaj, then second part in Fmaj (corr. very close).\n",
    "- D783.2(ecossaise) starts Bmin (omophonic) but abruptly moves to Dmaj\n",
    "- D924.11 starts in Emin, but just colouring. No cadence.\n",
    "- D969.5 model is wrong. Strong Amin/Emin in the beginning.\n",
    "\n",
    "It seems that deutscher and walzers are more likely to exhibit modal shifts in the beginning."
   ]
  },
  {
   "cell_type": "markdown",
   "metadata": {},
   "source": [
    "#### mode recognition based on first phrase"
   ]
  },
  {
   "cell_type": "code",
   "execution_count": 32,
   "metadata": {},
   "outputs": [],
   "source": [
    "pc_list_distr_first = pc_list[(pc_list.index.get_level_values('section') == 0) & (pc_list.mc <= 4)].groupby('id').apply(lambda x: bag_of_notes(x, 'tpc'))"
   ]
  },
  {
   "cell_type": "code",
   "execution_count": 33,
   "metadata": {},
   "outputs": [],
   "source": [
    "first_key_profile = full_distr(pc_list_distr_first, files.index)\n",
    "major_corr_first = pd.DataFrame(first_key_profile.groupby(axis = 0, level = 0).profile.apply(lambda x: sp.stats.pearsonr(x, KK(0,0))[0])).rename(columns = {'profile': 'major'})\n",
    "minor_corr_first = pd.DataFrame(first_key_profile.groupby(axis = 0, level = 0).profile.apply(lambda x: sp.stats.pearsonr(x, KK(1,0))[0])).rename(columns = {'profile': 'minor'})\n",
    "key_corr_first = pd.concat([major_corr_first, minor_corr_first], axis = 1)\n"
   ]
  },
  {
   "cell_type": "code",
   "execution_count": 34,
   "metadata": {},
   "outputs": [
    {
     "name": "stdout",
     "output_type": "stream",
     "text": [
      "When looking at the pitch distribution of first phrase only, there are 68 dances whose pitch profile is closer to the minor KK key profile than to the major one.\n"
     ]
    }
   ],
   "source": [
    "major_dances_first = files.loc[key_corr_first[key_corr_first.minor<=key_corr_first.major].index]\n",
    "minor_dances_first = files.loc[key_corr_first[key_corr_first.minor>key_corr_first.major].index]\n",
    "\n",
    "print(f'When looking at the pitch distribution of first phrase only, there are {len(minor_dances_first)} dances whose pitch profile is closer to the minor KK key profile than to the major one.')"
   ]
  },
  {
   "cell_type": "code",
   "execution_count": 35,
   "metadata": {},
   "outputs": [
    {
     "name": "stdout",
     "output_type": "stream",
     "text": [
      "This simple model successfully recognises 57 of the 63 dances labeled as minor in our ground-truth. It wrongly labels 11 dances as minor and fails to recognise 6 minor dances.\n"
     ]
    }
   ],
   "source": [
    "detected_minor_first = minor_dances_first[minor_dances_first.index.isin(GT_minor)]\n",
    "falsely_detected_minor_first = minor_dances_first[~minor_dances_first.index.isin(detected_minor_first.index)]\n",
    "not_detected_minor_first = major_dances_first[major_dances_first.index.isin(GT_minor)]\n",
    "\n",
    "print(f'This simple model successfully recognises {len(detected_minor_first)} of the {len(GT_minor)} dances labeled as minor in our ground-truth. It wrongly labels {len(falsely_detected_minor_first)} dances as minor and fails to recognise {len(not_detected_minor_first)} minor dances.')"
   ]
  },
  {
   "cell_type": "code",
   "execution_count": 36,
   "metadata": {},
   "outputs": [
    {
     "data": {
      "text/html": [
       "<div>\n",
       "<style scoped>\n",
       "    .dataframe tbody tr th:only-of-type {\n",
       "        vertical-align: middle;\n",
       "    }\n",
       "\n",
       "    .dataframe tbody tr th {\n",
       "        vertical-align: top;\n",
       "    }\n",
       "\n",
       "    .dataframe thead th {\n",
       "        text-align: right;\n",
       "    }\n",
       "</style>\n",
       "<table border=\"1\" class=\"dataframe\">\n",
       "  <thead>\n",
       "    <tr style=\"text-align: right;\">\n",
       "      <th></th>\n",
       "      <th>D</th>\n",
       "      <th>no</th>\n",
       "      <th>dance</th>\n",
       "      <th>path</th>\n",
       "      <th>gt_mode</th>\n",
       "      <th>entropy</th>\n",
       "      <th>duration_entropy</th>\n",
       "      <th>onset_entropy</th>\n",
       "      <th>major</th>\n",
       "      <th>minor</th>\n",
       "    </tr>\n",
       "  </thead>\n",
       "  <tbody>\n",
       "    <tr>\n",
       "      <td>29</td>\n",
       "      <td>41</td>\n",
       "      <td>15</td>\n",
       "      <td>menuett</td>\n",
       "      <td>041/D041menuett15a.mscx</td>\n",
       "      <td>major</td>\n",
       "      <td>0.555932</td>\n",
       "      <td>1.390226</td>\n",
       "      <td>2.089522</td>\n",
       "      <td>0.509178</td>\n",
       "      <td>0.846547</td>\n",
       "    </tr>\n",
       "    <tr>\n",
       "      <td>37</td>\n",
       "      <td>41</td>\n",
       "      <td>19</td>\n",
       "      <td>menuett</td>\n",
       "      <td>041/D041menuett19a.mscx</td>\n",
       "      <td>major</td>\n",
       "      <td>0.599165</td>\n",
       "      <td>1.446722</td>\n",
       "      <td>1.944649</td>\n",
       "      <td>0.664435</td>\n",
       "      <td>0.830364</td>\n",
       "    </tr>\n",
       "    <tr>\n",
       "      <td>44</td>\n",
       "      <td>91</td>\n",
       "      <td>2</td>\n",
       "      <td>menuett</td>\n",
       "      <td>091/D091menuett02a.mscx</td>\n",
       "      <td>major</td>\n",
       "      <td>0.583645</td>\n",
       "      <td>1.356809</td>\n",
       "      <td>1.735498</td>\n",
       "      <td>0.756829</td>\n",
       "      <td>0.830454</td>\n",
       "    </tr>\n",
       "    <tr>\n",
       "      <td>51</td>\n",
       "      <td>128</td>\n",
       "      <td>5</td>\n",
       "      <td>deutscher</td>\n",
       "      <td>128/D128deutscher05.mscx</td>\n",
       "      <td>major</td>\n",
       "      <td>0.555251</td>\n",
       "      <td>1.145856</td>\n",
       "      <td>1.503694</td>\n",
       "      <td>0.703286</td>\n",
       "      <td>0.849986</td>\n",
       "    </tr>\n",
       "    <tr>\n",
       "      <td>125</td>\n",
       "      <td>146</td>\n",
       "      <td>16</td>\n",
       "      <td>walzer</td>\n",
       "      <td>146/D146walzer16.mscx</td>\n",
       "      <td>major</td>\n",
       "      <td>0.567782</td>\n",
       "      <td>0.878310</td>\n",
       "      <td>1.564401</td>\n",
       "      <td>0.437819</td>\n",
       "      <td>0.770300</td>\n",
       "    </tr>\n",
       "    <tr>\n",
       "      <td>220</td>\n",
       "      <td>420</td>\n",
       "      <td>3</td>\n",
       "      <td>deutscher</td>\n",
       "      <td>420/D420deutscher03.mscx</td>\n",
       "      <td>major</td>\n",
       "      <td>0.570527</td>\n",
       "      <td>0.861284</td>\n",
       "      <td>1.233569</td>\n",
       "      <td>0.576944</td>\n",
       "      <td>0.584717</td>\n",
       "    </tr>\n",
       "    <tr>\n",
       "      <td>229</td>\n",
       "      <td>420</td>\n",
       "      <td>12</td>\n",
       "      <td>deutscher</td>\n",
       "      <td>420/D420deutscher12.mscx</td>\n",
       "      <td>major</td>\n",
       "      <td>0.607640</td>\n",
       "      <td>1.437751</td>\n",
       "      <td>1.655534</td>\n",
       "      <td>0.680403</td>\n",
       "      <td>0.825352</td>\n",
       "    </tr>\n",
       "    <tr>\n",
       "      <td>231</td>\n",
       "      <td>421</td>\n",
       "      <td>3</td>\n",
       "      <td>ecossaise</td>\n",
       "      <td>421/D421ecossaise03.mscx</td>\n",
       "      <td>major</td>\n",
       "      <td>0.647691</td>\n",
       "      <td>0.987865</td>\n",
       "      <td>0.837939</td>\n",
       "      <td>0.715494</td>\n",
       "      <td>0.826970</td>\n",
       "    </tr>\n",
       "    <tr>\n",
       "      <td>299</td>\n",
       "      <td>779</td>\n",
       "      <td>8</td>\n",
       "      <td>walzer</td>\n",
       "      <td>779/D779walzer08.mscx</td>\n",
       "      <td>major</td>\n",
       "      <td>0.581138</td>\n",
       "      <td>0.943374</td>\n",
       "      <td>1.584548</td>\n",
       "      <td>0.518983</td>\n",
       "      <td>0.688841</td>\n",
       "    </tr>\n",
       "    <tr>\n",
       "      <td>346</td>\n",
       "      <td>783</td>\n",
       "      <td>9</td>\n",
       "      <td>deutscher</td>\n",
       "      <td>783/D783deutscher09.mscx</td>\n",
       "      <td>major</td>\n",
       "      <td>0.560845</td>\n",
       "      <td>0.808492</td>\n",
       "      <td>1.391723</td>\n",
       "      <td>0.092300</td>\n",
       "      <td>0.165038</td>\n",
       "    </tr>\n",
       "    <tr>\n",
       "      <td>415</td>\n",
       "      <td>972</td>\n",
       "      <td>2</td>\n",
       "      <td>deutscher</td>\n",
       "      <td>972/D972deutscher02.mscx</td>\n",
       "      <td>major</td>\n",
       "      <td>0.523915</td>\n",
       "      <td>0.693094</td>\n",
       "      <td>1.611656</td>\n",
       "      <td>0.092300</td>\n",
       "      <td>0.165038</td>\n",
       "    </tr>\n",
       "  </tbody>\n",
       "</table>\n",
       "</div>"
      ],
      "text/plain": [
       "       D  no      dance                      path gt_mode   entropy  \\\n",
       "29    41  15    menuett   041/D041menuett15a.mscx   major  0.555932   \n",
       "37    41  19    menuett   041/D041menuett19a.mscx   major  0.599165   \n",
       "44    91   2    menuett   091/D091menuett02a.mscx   major  0.583645   \n",
       "51   128   5  deutscher  128/D128deutscher05.mscx   major  0.555251   \n",
       "125  146  16     walzer     146/D146walzer16.mscx   major  0.567782   \n",
       "220  420   3  deutscher  420/D420deutscher03.mscx   major  0.570527   \n",
       "229  420  12  deutscher  420/D420deutscher12.mscx   major  0.607640   \n",
       "231  421   3  ecossaise  421/D421ecossaise03.mscx   major  0.647691   \n",
       "299  779   8     walzer     779/D779walzer08.mscx   major  0.581138   \n",
       "346  783   9  deutscher  783/D783deutscher09.mscx   major  0.560845   \n",
       "415  972   2  deutscher  972/D972deutscher02.mscx   major  0.523915   \n",
       "\n",
       "     duration_entropy  onset_entropy     major     minor  \n",
       "29           1.390226       2.089522  0.509178  0.846547  \n",
       "37           1.446722       1.944649  0.664435  0.830364  \n",
       "44           1.356809       1.735498  0.756829  0.830454  \n",
       "51           1.145856       1.503694  0.703286  0.849986  \n",
       "125          0.878310       1.564401  0.437819  0.770300  \n",
       "220          0.861284       1.233569  0.576944  0.584717  \n",
       "229          1.437751       1.655534  0.680403  0.825352  \n",
       "231          0.987865       0.837939  0.715494  0.826970  \n",
       "299          0.943374       1.584548  0.518983  0.688841  \n",
       "346          0.808492       1.391723  0.092300  0.165038  \n",
       "415          0.693094       1.611656  0.092300  0.165038  "
      ]
     },
     "execution_count": 36,
     "metadata": {},
     "output_type": "execute_result"
    }
   ],
   "source": [
    "falsely_detected_minor_first.merge(key_corr_first, left_index = True, right_index = True)"
   ]
  },
  {
   "cell_type": "markdown",
   "metadata": {},
   "source": [
    "- D041.15 beginning strongly minor\n",
    "- D041.19 beginning has strong 'minor' feel, but it is just colour.\n",
    "- D091.2  beginning has strong 'minor' feel, but it is just colour.\n",
    "- D128.5 progression by thirds over the first phrase (which, however, should include bar 5)\n",
    "- D146.16 minor start.\n",
    "- D420.3 first phrase shifts to Bmin.\n",
    "- D420.12 slightest minor colour in first phrase, within progression by thirds.\n",
    "- D421.3 long Abmaj chord in bar 4\n",
    "- D779.8 cadence in Bmin\n",
    "- D783.9 section 0 is only pick-up measure\n",
    "- D972.2 section 0 is only pick-up measure\n"
   ]
  },
  {
   "cell_type": "code",
   "execution_count": 37,
   "metadata": {},
   "outputs": [
    {
     "data": {
      "text/html": [
       "<div>\n",
       "<style scoped>\n",
       "    .dataframe tbody tr th:only-of-type {\n",
       "        vertical-align: middle;\n",
       "    }\n",
       "\n",
       "    .dataframe tbody tr th {\n",
       "        vertical-align: top;\n",
       "    }\n",
       "\n",
       "    .dataframe thead th {\n",
       "        text-align: right;\n",
       "    }\n",
       "</style>\n",
       "<table border=\"1\" class=\"dataframe\">\n",
       "  <thead>\n",
       "    <tr style=\"text-align: right;\">\n",
       "      <th></th>\n",
       "      <th>D</th>\n",
       "      <th>no</th>\n",
       "      <th>dance</th>\n",
       "      <th>path</th>\n",
       "      <th>gt_mode</th>\n",
       "      <th>entropy</th>\n",
       "      <th>duration_entropy</th>\n",
       "      <th>onset_entropy</th>\n",
       "      <th>major</th>\n",
       "      <th>minor</th>\n",
       "    </tr>\n",
       "  </thead>\n",
       "  <tbody>\n",
       "    <tr>\n",
       "      <td>194</td>\n",
       "      <td>366</td>\n",
       "      <td>9</td>\n",
       "      <td>ländler</td>\n",
       "      <td>366/D366ländler09.mscx</td>\n",
       "      <td>minor</td>\n",
       "      <td>0.604576</td>\n",
       "      <td>0.923784</td>\n",
       "      <td>1.417350</td>\n",
       "      <td>0.549020</td>\n",
       "      <td>-0.166303</td>\n",
       "    </tr>\n",
       "    <tr>\n",
       "      <td>245</td>\n",
       "      <td>643</td>\n",
       "      <td>1</td>\n",
       "      <td>deutscher</td>\n",
       "      <td>643/D643deutscher01.mscx</td>\n",
       "      <td>minor</td>\n",
       "      <td>0.672360</td>\n",
       "      <td>0.728341</td>\n",
       "      <td>1.690061</td>\n",
       "      <td>0.709750</td>\n",
       "      <td>0.696980</td>\n",
       "    </tr>\n",
       "    <tr>\n",
       "      <td>314</td>\n",
       "      <td>779</td>\n",
       "      <td>23</td>\n",
       "      <td>walzer</td>\n",
       "      <td>779/D779walzer23.mscx</td>\n",
       "      <td>minor</td>\n",
       "      <td>0.575870</td>\n",
       "      <td>0.819098</td>\n",
       "      <td>1.590646</td>\n",
       "      <td>0.226579</td>\n",
       "      <td>0.219348</td>\n",
       "    </tr>\n",
       "    <tr>\n",
       "      <td>342</td>\n",
       "      <td>783</td>\n",
       "      <td>5</td>\n",
       "      <td>deutscher</td>\n",
       "      <td>783/D783deutscher05.mscx</td>\n",
       "      <td>minor</td>\n",
       "      <td>0.540814</td>\n",
       "      <td>0.982174</td>\n",
       "      <td>1.643418</td>\n",
       "      <td>0.661921</td>\n",
       "      <td>0.576631</td>\n",
       "    </tr>\n",
       "    <tr>\n",
       "      <td>355</td>\n",
       "      <td>783</td>\n",
       "      <td>2</td>\n",
       "      <td>ecossaise</td>\n",
       "      <td>783/D783ecossaise02.mscx</td>\n",
       "      <td>minor</td>\n",
       "      <td>0.555444</td>\n",
       "      <td>0.978762</td>\n",
       "      <td>1.007479</td>\n",
       "      <td>0.838473</td>\n",
       "      <td>0.489397</td>\n",
       "    </tr>\n",
       "    <tr>\n",
       "      <td>389</td>\n",
       "      <td>924</td>\n",
       "      <td>11</td>\n",
       "      <td>walzer</td>\n",
       "      <td>924/D924walzer11.mscx</td>\n",
       "      <td>minor</td>\n",
       "      <td>0.554017</td>\n",
       "      <td>0.781686</td>\n",
       "      <td>1.310137</td>\n",
       "      <td>0.880939</td>\n",
       "      <td>0.642622</td>\n",
       "    </tr>\n",
       "  </tbody>\n",
       "</table>\n",
       "</div>"
      ],
      "text/plain": [
       "       D  no      dance                      path gt_mode   entropy  \\\n",
       "194  366   9    ländler    366/D366ländler09.mscx   minor  0.604576   \n",
       "245  643   1  deutscher  643/D643deutscher01.mscx   minor  0.672360   \n",
       "314  779  23     walzer     779/D779walzer23.mscx   minor  0.575870   \n",
       "342  783   5  deutscher  783/D783deutscher05.mscx   minor  0.540814   \n",
       "355  783   2  ecossaise  783/D783ecossaise02.mscx   minor  0.555444   \n",
       "389  924  11     walzer     924/D924walzer11.mscx   minor  0.554017   \n",
       "\n",
       "     duration_entropy  onset_entropy     major     minor  \n",
       "194          0.923784       1.417350  0.549020 -0.166303  \n",
       "245          0.728341       1.690061  0.709750  0.696980  \n",
       "314          0.819098       1.590646  0.226579  0.219348  \n",
       "342          0.982174       1.643418  0.661921  0.576631  \n",
       "355          0.978762       1.007479  0.838473  0.489397  \n",
       "389          0.781686       1.310137  0.880939  0.642622  "
      ]
     },
     "execution_count": 37,
     "metadata": {},
     "output_type": "execute_result"
    }
   ],
   "source": [
    "not_detected_minor_first.merge(key_corr_first, left_index = True, right_index = True)"
   ]
  },
  {
   "cell_type": "markdown",
   "metadata": {},
   "source": [
    "- D366.9 I would say this is definitely Bmaj, although it starts in Bmin. The key signature is Bmaj (hence neg. corr with minor).\n",
    "- D643.1 cadence in Emaj\n",
    "- D779.23 BEAUTIFUL! is Ebmaj, but starts with II/Gmin, and then moves to Eb through a deceptive cadence.\n",
    "- D783.5 BEAUTIFUL! is Dmaj but starts with Bmin (just colouring).\n",
    "- D783.2(ecossaise) starts Bmin (omophonic) but abruptly moves to Dmaj\n",
    "- D924.11 starts in Emin, but just colouring. No cadence."
   ]
  },
  {
   "cell_type": "markdown",
   "metadata": {},
   "source": [
    "Deutscher and Waltzes definitely more likely to exhibit modal shift/colouring in the beginning w.r.t. Landler."
   ]
  },
  {
   "cell_type": "code",
   "execution_count": 38,
   "metadata": {},
   "outputs": [],
   "source": [
    "test_files = files.head(10)"
   ]
  },
  {
   "cell_type": "markdown",
   "metadata": {},
   "source": [
    "# Mode tracking"
   ]
  },
  {
   "cell_type": "code",
   "execution_count": 39,
   "metadata": {},
   "outputs": [],
   "source": [
    "def mode_slider(dance, m):\n",
    "    '''Returns the correlation with major and minor key profiles in a 4-measures window starting at m'''\n",
    "    window = (note_list.mn >= m) & (note_list.mn < m+4)\n",
    "    bag = bag_of_notes(note_list_transposed[window].loc[dance], 'tpc')\n",
    "    \n",
    "    key_profile = pd.DataFrame(index = list(range(12)), columns = ['profile']).fillna(0)\n",
    "    for i in bag.index:\n",
    "        key_profile.loc[i] = bag.duration_n.loc[i]\n",
    "\n",
    "    major = sp.stats.pearsonr(key_profile.profile, KK(0,0))[0]\n",
    "    minor = sp.stats.pearsonr(key_profile.profile, KK(1,0))[0]\n",
    "    \n",
    "    return [major, minor]"
   ]
  },
  {
   "cell_type": "code",
   "execution_count": 40,
   "metadata": {},
   "outputs": [],
   "source": [
    "def maj_trajectory(dance):\n",
    "    print(dance.name)\n",
    "    dance = dance.name\n",
    "    mode = []\n",
    "    for i in range(len(measure_list.loc[dance])-4):\n",
    "        mode += [mode_slider(dance, i)]\n",
    "    mode_frame = pd.DataFrame(mode, columns = ['major', 'minor'])\n",
    "    return mode_frame['major'].to_list()    \n",
    "\n",
    "def min_trajectory(dance):\n",
    "    print(dance.name)\n",
    "    dance = dance.name\n",
    "    mode = []\n",
    "    for i in range(len(measure_list.loc[dance])-4):\n",
    "        mode += [mode_slider(dance, i)]\n",
    "    mode_frame = pd.DataFrame(mode, columns = ['major', 'minor'])\n",
    "    return mode_frame['minor'].to_list()  "
   ]
  },
  {
   "cell_type": "markdown",
   "metadata": {},
   "source": [
    "Calculate the major/minor mode trajectory for every piece"
   ]
  },
  {
   "cell_type": "code",
   "execution_count": null,
   "metadata": {},
   "outputs": [],
   "source": []
  },
  {
   "cell_type": "code",
   "execution_count": 41,
   "metadata": {
    "scrolled": true
   },
   "outputs": [
    {
     "name": "stdout",
     "output_type": "stream",
     "text": [
      "1\n",
      "2\n",
      "3\n",
      "4\n",
      "5\n",
      "6\n",
      "7\n",
      "8\n",
      "9\n",
      "10\n"
     ]
    }
   ],
   "source": [
    "test_files['maj_traj'] = test_files.apply(maj_trajectory, axis=1)"
   ]
  },
  {
   "cell_type": "code",
   "execution_count": 42,
   "metadata": {
    "scrolled": true
   },
   "outputs": [
    {
     "name": "stdout",
     "output_type": "stream",
     "text": [
      "1\n",
      "2\n",
      "3\n",
      "4\n",
      "5\n",
      "6\n",
      "7\n",
      "8\n",
      "9\n",
      "10\n"
     ]
    }
   ],
   "source": [
    "test_files['min_traj'] = test_files.apply(min_trajectory, axis=1)"
   ]
  },
  {
   "cell_type": "markdown",
   "metadata": {},
   "source": [
    "# Key tracking"
   ]
  },
  {
   "cell_type": "code",
   "execution_count": 45,
   "metadata": {},
   "outputs": [],
   "source": [
    "key_names = {0: 'C', 1: 'G', 2: 'D', 3: 'A', 4:'E', 5:'B', 6:'F#/Gb', 7:'C#/Db', 8:'G#/Ab', 9:'D#/Eb', 10:'A#/Bb', 11:'F'}\n",
    "mode_names = {0: 'major', 1: 'minor'}"
   ]
  },
  {
   "cell_type": "code",
   "execution_count": 46,
   "metadata": {},
   "outputs": [],
   "source": [
    "def key_slider(dance, m):\n",
    "    '''Returns the correlation with major and minor key profiles in a 4-measures window starting at m'''\n",
    "    window = (note_list.mn >= m) & (note_list.mn < m+4)\n",
    "    bag = bag_of_notes(note_list_transposed[window].loc[dance], 'tpc')\n",
    "    \n",
    "    key_profile = pd.DataFrame(index = list(range(12)), columns = ['profile']).fillna(0)\n",
    "    for i in bag.index:\n",
    "        key_profile.loc[i] = bag.duration_n.loc[i]\n",
    "        \n",
    "    temp = pd.Series(list(itertools.product([0,1], range(12))), index = pd.MultiIndex.from_product([['major', 'minor'], ['C', 'G',  'D',  'A', 'E','B', 'F#/Gb', 'C#/Db','G#/Ab', 'D#/Eb', 'A#/Bb', 'F']]))\n",
    "    temp = temp.apply(lambda x: KK(x[0], x[1]-3*x[0]))\n",
    "    temp = temp.apply(lambda x: sp.stats.pearsonr(key_profile.profile, x)[0])\n",
    "    \n",
    "    \n",
    "    return temp"
   ]
  },
  {
   "cell_type": "code",
   "execution_count": 47,
   "metadata": {},
   "outputs": [],
   "source": [
    "def key_trajectory(dance):\n",
    "    local_max = []\n",
    "    trajectory = pd.DataFrame()\n",
    "    \n",
    "    for i in range(len(measure_list.loc[dance])-4):\n",
    "        keys = key_slider(dance,i).copy()\n",
    "    \n",
    "        \n",
    "        trajectory = pd.concat([trajectory, keys], axis = 1, ignore_index = True)\n",
    "        local_max += [keys.idxmax()]\n",
    "        \n",
    "    \n",
    "    \n",
    "    return [trajectory, set(local_max)]"
   ]
  },
  {
   "cell_type": "code",
   "execution_count": 48,
   "metadata": {},
   "outputs": [],
   "source": [
    "def key_plot(dance):\n",
    "    key_trajectory(dance)[0][key_trajectory(dance)[0].index.isin(key_trajectory(dance)[1])].transpose().iplot('scatter')"
   ]
  },
  {
   "cell_type": "code",
   "execution_count": 49,
   "metadata": {},
   "outputs": [
    {
     "data": {
      "application/vnd.plotly.v1+json": {
       "config": {
        "linkText": "Export to plot.ly",
        "plotlyServerURL": "https://plot.ly",
        "showLink": true
       },
       "data": [
        {
         "line": {
          "color": "rgba(226, 74, 51, 1.0)",
          "dash": "solid",
          "shape": "linear",
          "width": 1.3
         },
         "mode": "lines",
         "name": "('major', 'C')",
         "text": "",
         "type": "scatter",
         "x": [
          0,
          1,
          2,
          3,
          4,
          5,
          6,
          7,
          8,
          9,
          10,
          11,
          12,
          13
         ],
         "y": [
          0.8228660888548474,
          0.8348159073296554,
          0.8348159073296554,
          0.8348159073296554,
          0.7763915014918952,
          0.813229153644244,
          0.7017356903185459,
          0.5552043730989793,
          0.5362906440983117,
          0.5940360516858395,
          0.7603152470623753,
          0.8451790956164629,
          0.7895481218151521,
          0.8325950585174906
         ]
        },
        {
         "line": {
          "color": "rgba(62, 111, 176, 1.0)",
          "dash": "solid",
          "shape": "linear",
          "width": 1.3
         },
         "mode": "lines",
         "name": "('major', 'G')",
         "text": "",
         "type": "scatter",
         "x": [
          0,
          1,
          2,
          3,
          4,
          5,
          6,
          7,
          8,
          9,
          10,
          11,
          12,
          13
         ],
         "y": [
          0.25975873571491565,
          0.3085893788614138,
          0.3085893788614138,
          0.3085893788614138,
          0.29207697455437465,
          0.5023075487538683,
          0.6450747409522448,
          0.6778005351510872,
          0.6201888133436719,
          0.5929519869519695,
          0.528934740407218,
          0.4070050492412869,
          0.4536868618277573,
          0.38609833915996766
         ]
        },
        {
         "line": {
          "color": "rgba(132, 118, 202, 1.0)",
          "dash": "solid",
          "shape": "linear",
          "width": 1.3
         },
         "mode": "lines",
         "name": "('minor', 'E')",
         "text": "",
         "type": "scatter",
         "x": [
          0,
          1,
          2,
          3,
          4,
          5,
          6,
          7,
          8,
          9,
          10,
          11,
          12,
          13
         ],
         "y": [
          0.5999196517534722,
          0.6330275152073208,
          0.6330275152073208,
          0.6330275152073208,
          0.6395744422016891,
          0.7436156744428508,
          0.7482528416354457,
          0.6737225907346057,
          0.5972164368041004,
          0.627617163817692,
          0.6886312720992204,
          0.6812500740002174,
          0.7314363039912074,
          0.6830419407760473
         ]
        }
       ],
       "layout": {
        "legend": {
         "bgcolor": "#FFFFFF",
         "font": {
          "color": "#666666"
         }
        },
        "paper_bgcolor": "#FFFFFF",
        "plot_bgcolor": "#E5E5E5",
        "template": {
         "data": {
          "bar": [
           {
            "error_x": {
             "color": "#2a3f5f"
            },
            "error_y": {
             "color": "#2a3f5f"
            },
            "marker": {
             "line": {
              "color": "#E5ECF6",
              "width": 0.5
             }
            },
            "type": "bar"
           }
          ],
          "barpolar": [
           {
            "marker": {
             "line": {
              "color": "#E5ECF6",
              "width": 0.5
             }
            },
            "type": "barpolar"
           }
          ],
          "carpet": [
           {
            "aaxis": {
             "endlinecolor": "#2a3f5f",
             "gridcolor": "white",
             "linecolor": "white",
             "minorgridcolor": "white",
             "startlinecolor": "#2a3f5f"
            },
            "baxis": {
             "endlinecolor": "#2a3f5f",
             "gridcolor": "white",
             "linecolor": "white",
             "minorgridcolor": "white",
             "startlinecolor": "#2a3f5f"
            },
            "type": "carpet"
           }
          ],
          "choropleth": [
           {
            "colorbar": {
             "outlinewidth": 0,
             "ticks": ""
            },
            "type": "choropleth"
           }
          ],
          "contour": [
           {
            "colorbar": {
             "outlinewidth": 0,
             "ticks": ""
            },
            "colorscale": [
             [
              0,
              "#0d0887"
             ],
             [
              0.1111111111111111,
              "#46039f"
             ],
             [
              0.2222222222222222,
              "#7201a8"
             ],
             [
              0.3333333333333333,
              "#9c179e"
             ],
             [
              0.4444444444444444,
              "#bd3786"
             ],
             [
              0.5555555555555556,
              "#d8576b"
             ],
             [
              0.6666666666666666,
              "#ed7953"
             ],
             [
              0.7777777777777778,
              "#fb9f3a"
             ],
             [
              0.8888888888888888,
              "#fdca26"
             ],
             [
              1,
              "#f0f921"
             ]
            ],
            "type": "contour"
           }
          ],
          "contourcarpet": [
           {
            "colorbar": {
             "outlinewidth": 0,
             "ticks": ""
            },
            "type": "contourcarpet"
           }
          ],
          "heatmap": [
           {
            "colorbar": {
             "outlinewidth": 0,
             "ticks": ""
            },
            "colorscale": [
             [
              0,
              "#0d0887"
             ],
             [
              0.1111111111111111,
              "#46039f"
             ],
             [
              0.2222222222222222,
              "#7201a8"
             ],
             [
              0.3333333333333333,
              "#9c179e"
             ],
             [
              0.4444444444444444,
              "#bd3786"
             ],
             [
              0.5555555555555556,
              "#d8576b"
             ],
             [
              0.6666666666666666,
              "#ed7953"
             ],
             [
              0.7777777777777778,
              "#fb9f3a"
             ],
             [
              0.8888888888888888,
              "#fdca26"
             ],
             [
              1,
              "#f0f921"
             ]
            ],
            "type": "heatmap"
           }
          ],
          "heatmapgl": [
           {
            "colorbar": {
             "outlinewidth": 0,
             "ticks": ""
            },
            "colorscale": [
             [
              0,
              "#0d0887"
             ],
             [
              0.1111111111111111,
              "#46039f"
             ],
             [
              0.2222222222222222,
              "#7201a8"
             ],
             [
              0.3333333333333333,
              "#9c179e"
             ],
             [
              0.4444444444444444,
              "#bd3786"
             ],
             [
              0.5555555555555556,
              "#d8576b"
             ],
             [
              0.6666666666666666,
              "#ed7953"
             ],
             [
              0.7777777777777778,
              "#fb9f3a"
             ],
             [
              0.8888888888888888,
              "#fdca26"
             ],
             [
              1,
              "#f0f921"
             ]
            ],
            "type": "heatmapgl"
           }
          ],
          "histogram": [
           {
            "marker": {
             "colorbar": {
              "outlinewidth": 0,
              "ticks": ""
             }
            },
            "type": "histogram"
           }
          ],
          "histogram2d": [
           {
            "colorbar": {
             "outlinewidth": 0,
             "ticks": ""
            },
            "colorscale": [
             [
              0,
              "#0d0887"
             ],
             [
              0.1111111111111111,
              "#46039f"
             ],
             [
              0.2222222222222222,
              "#7201a8"
             ],
             [
              0.3333333333333333,
              "#9c179e"
             ],
             [
              0.4444444444444444,
              "#bd3786"
             ],
             [
              0.5555555555555556,
              "#d8576b"
             ],
             [
              0.6666666666666666,
              "#ed7953"
             ],
             [
              0.7777777777777778,
              "#fb9f3a"
             ],
             [
              0.8888888888888888,
              "#fdca26"
             ],
             [
              1,
              "#f0f921"
             ]
            ],
            "type": "histogram2d"
           }
          ],
          "histogram2dcontour": [
           {
            "colorbar": {
             "outlinewidth": 0,
             "ticks": ""
            },
            "colorscale": [
             [
              0,
              "#0d0887"
             ],
             [
              0.1111111111111111,
              "#46039f"
             ],
             [
              0.2222222222222222,
              "#7201a8"
             ],
             [
              0.3333333333333333,
              "#9c179e"
             ],
             [
              0.4444444444444444,
              "#bd3786"
             ],
             [
              0.5555555555555556,
              "#d8576b"
             ],
             [
              0.6666666666666666,
              "#ed7953"
             ],
             [
              0.7777777777777778,
              "#fb9f3a"
             ],
             [
              0.8888888888888888,
              "#fdca26"
             ],
             [
              1,
              "#f0f921"
             ]
            ],
            "type": "histogram2dcontour"
           }
          ],
          "mesh3d": [
           {
            "colorbar": {
             "outlinewidth": 0,
             "ticks": ""
            },
            "type": "mesh3d"
           }
          ],
          "parcoords": [
           {
            "line": {
             "colorbar": {
              "outlinewidth": 0,
              "ticks": ""
             }
            },
            "type": "parcoords"
           }
          ],
          "pie": [
           {
            "automargin": true,
            "type": "pie"
           }
          ],
          "scatter": [
           {
            "marker": {
             "colorbar": {
              "outlinewidth": 0,
              "ticks": ""
             }
            },
            "type": "scatter"
           }
          ],
          "scatter3d": [
           {
            "line": {
             "colorbar": {
              "outlinewidth": 0,
              "ticks": ""
             }
            },
            "marker": {
             "colorbar": {
              "outlinewidth": 0,
              "ticks": ""
             }
            },
            "type": "scatter3d"
           }
          ],
          "scattercarpet": [
           {
            "marker": {
             "colorbar": {
              "outlinewidth": 0,
              "ticks": ""
             }
            },
            "type": "scattercarpet"
           }
          ],
          "scattergeo": [
           {
            "marker": {
             "colorbar": {
              "outlinewidth": 0,
              "ticks": ""
             }
            },
            "type": "scattergeo"
           }
          ],
          "scattergl": [
           {
            "marker": {
             "colorbar": {
              "outlinewidth": 0,
              "ticks": ""
             }
            },
            "type": "scattergl"
           }
          ],
          "scattermapbox": [
           {
            "marker": {
             "colorbar": {
              "outlinewidth": 0,
              "ticks": ""
             }
            },
            "type": "scattermapbox"
           }
          ],
          "scatterpolar": [
           {
            "marker": {
             "colorbar": {
              "outlinewidth": 0,
              "ticks": ""
             }
            },
            "type": "scatterpolar"
           }
          ],
          "scatterpolargl": [
           {
            "marker": {
             "colorbar": {
              "outlinewidth": 0,
              "ticks": ""
             }
            },
            "type": "scatterpolargl"
           }
          ],
          "scatterternary": [
           {
            "marker": {
             "colorbar": {
              "outlinewidth": 0,
              "ticks": ""
             }
            },
            "type": "scatterternary"
           }
          ],
          "surface": [
           {
            "colorbar": {
             "outlinewidth": 0,
             "ticks": ""
            },
            "colorscale": [
             [
              0,
              "#0d0887"
             ],
             [
              0.1111111111111111,
              "#46039f"
             ],
             [
              0.2222222222222222,
              "#7201a8"
             ],
             [
              0.3333333333333333,
              "#9c179e"
             ],
             [
              0.4444444444444444,
              "#bd3786"
             ],
             [
              0.5555555555555556,
              "#d8576b"
             ],
             [
              0.6666666666666666,
              "#ed7953"
             ],
             [
              0.7777777777777778,
              "#fb9f3a"
             ],
             [
              0.8888888888888888,
              "#fdca26"
             ],
             [
              1,
              "#f0f921"
             ]
            ],
            "type": "surface"
           }
          ],
          "table": [
           {
            "cells": {
             "fill": {
              "color": "#EBF0F8"
             },
             "line": {
              "color": "white"
             }
            },
            "header": {
             "fill": {
              "color": "#C8D4E3"
             },
             "line": {
              "color": "white"
             }
            },
            "type": "table"
           }
          ]
         },
         "layout": {
          "annotationdefaults": {
           "arrowcolor": "#2a3f5f",
           "arrowhead": 0,
           "arrowwidth": 1
          },
          "coloraxis": {
           "colorbar": {
            "outlinewidth": 0,
            "ticks": ""
           }
          },
          "colorscale": {
           "diverging": [
            [
             0,
             "#8e0152"
            ],
            [
             0.1,
             "#c51b7d"
            ],
            [
             0.2,
             "#de77ae"
            ],
            [
             0.3,
             "#f1b6da"
            ],
            [
             0.4,
             "#fde0ef"
            ],
            [
             0.5,
             "#f7f7f7"
            ],
            [
             0.6,
             "#e6f5d0"
            ],
            [
             0.7,
             "#b8e186"
            ],
            [
             0.8,
             "#7fbc41"
            ],
            [
             0.9,
             "#4d9221"
            ],
            [
             1,
             "#276419"
            ]
           ],
           "sequential": [
            [
             0,
             "#0d0887"
            ],
            [
             0.1111111111111111,
             "#46039f"
            ],
            [
             0.2222222222222222,
             "#7201a8"
            ],
            [
             0.3333333333333333,
             "#9c179e"
            ],
            [
             0.4444444444444444,
             "#bd3786"
            ],
            [
             0.5555555555555556,
             "#d8576b"
            ],
            [
             0.6666666666666666,
             "#ed7953"
            ],
            [
             0.7777777777777778,
             "#fb9f3a"
            ],
            [
             0.8888888888888888,
             "#fdca26"
            ],
            [
             1,
             "#f0f921"
            ]
           ],
           "sequentialminus": [
            [
             0,
             "#0d0887"
            ],
            [
             0.1111111111111111,
             "#46039f"
            ],
            [
             0.2222222222222222,
             "#7201a8"
            ],
            [
             0.3333333333333333,
             "#9c179e"
            ],
            [
             0.4444444444444444,
             "#bd3786"
            ],
            [
             0.5555555555555556,
             "#d8576b"
            ],
            [
             0.6666666666666666,
             "#ed7953"
            ],
            [
             0.7777777777777778,
             "#fb9f3a"
            ],
            [
             0.8888888888888888,
             "#fdca26"
            ],
            [
             1,
             "#f0f921"
            ]
           ]
          },
          "colorway": [
           "#636efa",
           "#EF553B",
           "#00cc96",
           "#ab63fa",
           "#FFA15A",
           "#19d3f3",
           "#FF6692",
           "#B6E880",
           "#FF97FF",
           "#FECB52"
          ],
          "font": {
           "color": "#2a3f5f"
          },
          "geo": {
           "bgcolor": "white",
           "lakecolor": "white",
           "landcolor": "#E5ECF6",
           "showlakes": true,
           "showland": true,
           "subunitcolor": "white"
          },
          "hoverlabel": {
           "align": "left"
          },
          "hovermode": "closest",
          "mapbox": {
           "style": "light"
          },
          "paper_bgcolor": "white",
          "plot_bgcolor": "#E5ECF6",
          "polar": {
           "angularaxis": {
            "gridcolor": "white",
            "linecolor": "white",
            "ticks": ""
           },
           "bgcolor": "#E5ECF6",
           "radialaxis": {
            "gridcolor": "white",
            "linecolor": "white",
            "ticks": ""
           }
          },
          "scene": {
           "xaxis": {
            "backgroundcolor": "#E5ECF6",
            "gridcolor": "white",
            "gridwidth": 2,
            "linecolor": "white",
            "showbackground": true,
            "ticks": "",
            "zerolinecolor": "white"
           },
           "yaxis": {
            "backgroundcolor": "#E5ECF6",
            "gridcolor": "white",
            "gridwidth": 2,
            "linecolor": "white",
            "showbackground": true,
            "ticks": "",
            "zerolinecolor": "white"
           },
           "zaxis": {
            "backgroundcolor": "#E5ECF6",
            "gridcolor": "white",
            "gridwidth": 2,
            "linecolor": "white",
            "showbackground": true,
            "ticks": "",
            "zerolinecolor": "white"
           }
          },
          "shapedefaults": {
           "line": {
            "color": "#2a3f5f"
           }
          },
          "ternary": {
           "aaxis": {
            "gridcolor": "white",
            "linecolor": "white",
            "ticks": ""
           },
           "baxis": {
            "gridcolor": "white",
            "linecolor": "white",
            "ticks": ""
           },
           "bgcolor": "#E5ECF6",
           "caxis": {
            "gridcolor": "white",
            "linecolor": "white",
            "ticks": ""
           }
          },
          "title": {
           "x": 0.05
          },
          "xaxis": {
           "automargin": true,
           "gridcolor": "white",
           "linecolor": "white",
           "ticks": "",
           "title": {
            "standoff": 15
           },
           "zerolinecolor": "white",
           "zerolinewidth": 2
          },
          "yaxis": {
           "automargin": true,
           "gridcolor": "white",
           "linecolor": "white",
           "ticks": "",
           "title": {
            "standoff": 15
           },
           "zerolinecolor": "white",
           "zerolinewidth": 2
          }
         }
        },
        "title": {
         "font": {
          "color": "#151516"
         }
        },
        "xaxis": {
         "gridcolor": "#F6F6F6",
         "showgrid": true,
         "tickfont": {
          "color": "#666666"
         },
         "title": {
          "font": {
           "color": "#666666"
          },
          "text": ""
         },
         "zerolinecolor": "#F6F6F6"
        },
        "yaxis": {
         "gridcolor": "#F6F6F6",
         "showgrid": true,
         "tickfont": {
          "color": "#666666"
         },
         "title": {
          "font": {
           "color": "#666666"
          },
          "text": ""
         },
         "zerolinecolor": "#F6F6F6"
        }
       }
      },
      "text/html": [
       "<div>\n",
       "        \n",
       "        \n",
       "            <div id=\"12ea31ae-c0d6-4cfd-a10c-60cc55b76fe7\" class=\"plotly-graph-div\" style=\"height:525px; width:100%;\"></div>\n",
       "            <script type=\"text/javascript\">\n",
       "                require([\"plotly\"], function(Plotly) {\n",
       "                    window.PLOTLYENV=window.PLOTLYENV || {};\n",
       "                    window.PLOTLYENV.BASE_URL='https://plot.ly';\n",
       "                    \n",
       "                if (document.getElementById(\"12ea31ae-c0d6-4cfd-a10c-60cc55b76fe7\")) {\n",
       "                    Plotly.newPlot(\n",
       "                        '12ea31ae-c0d6-4cfd-a10c-60cc55b76fe7',\n",
       "                        [{\"line\": {\"color\": \"rgba(226, 74, 51, 1.0)\", \"dash\": \"solid\", \"shape\": \"linear\", \"width\": 1.3}, \"mode\": \"lines\", \"name\": \"('major', 'C')\", \"text\": \"\", \"type\": \"scatter\", \"x\": [0, 1, 2, 3, 4, 5, 6, 7, 8, 9, 10, 11, 12, 13], \"y\": [0.8228660888548474, 0.8348159073296554, 0.8348159073296554, 0.8348159073296554, 0.7763915014918952, 0.813229153644244, 0.7017356903185459, 0.5552043730989793, 0.5362906440983117, 0.5940360516858395, 0.7603152470623753, 0.8451790956164629, 0.7895481218151521, 0.8325950585174906]}, {\"line\": {\"color\": \"rgba(62, 111, 176, 1.0)\", \"dash\": \"solid\", \"shape\": \"linear\", \"width\": 1.3}, \"mode\": \"lines\", \"name\": \"('major', 'G')\", \"text\": \"\", \"type\": \"scatter\", \"x\": [0, 1, 2, 3, 4, 5, 6, 7, 8, 9, 10, 11, 12, 13], \"y\": [0.25975873571491565, 0.3085893788614138, 0.3085893788614138, 0.3085893788614138, 0.29207697455437465, 0.5023075487538683, 0.6450747409522448, 0.6778005351510872, 0.6201888133436719, 0.5929519869519695, 0.528934740407218, 0.4070050492412869, 0.4536868618277573, 0.38609833915996766]}, {\"line\": {\"color\": \"rgba(132, 118, 202, 1.0)\", \"dash\": \"solid\", \"shape\": \"linear\", \"width\": 1.3}, \"mode\": \"lines\", \"name\": \"('minor', 'E')\", \"text\": \"\", \"type\": \"scatter\", \"x\": [0, 1, 2, 3, 4, 5, 6, 7, 8, 9, 10, 11, 12, 13], \"y\": [0.5999196517534722, 0.6330275152073208, 0.6330275152073208, 0.6330275152073208, 0.6395744422016891, 0.7436156744428508, 0.7482528416354457, 0.6737225907346057, 0.5972164368041004, 0.627617163817692, 0.6886312720992204, 0.6812500740002174, 0.7314363039912074, 0.6830419407760473]}],\n",
       "                        {\"legend\": {\"bgcolor\": \"#FFFFFF\", \"font\": {\"color\": \"#666666\"}}, \"paper_bgcolor\": \"#FFFFFF\", \"plot_bgcolor\": \"#E5E5E5\", \"template\": {\"data\": {\"bar\": [{\"error_x\": {\"color\": \"#2a3f5f\"}, \"error_y\": {\"color\": \"#2a3f5f\"}, \"marker\": {\"line\": {\"color\": \"#E5ECF6\", \"width\": 0.5}}, \"type\": \"bar\"}], \"barpolar\": [{\"marker\": {\"line\": {\"color\": \"#E5ECF6\", \"width\": 0.5}}, \"type\": \"barpolar\"}], \"carpet\": [{\"aaxis\": {\"endlinecolor\": \"#2a3f5f\", \"gridcolor\": \"white\", \"linecolor\": \"white\", \"minorgridcolor\": \"white\", \"startlinecolor\": \"#2a3f5f\"}, \"baxis\": {\"endlinecolor\": \"#2a3f5f\", \"gridcolor\": \"white\", \"linecolor\": \"white\", \"minorgridcolor\": \"white\", \"startlinecolor\": \"#2a3f5f\"}, \"type\": \"carpet\"}], \"choropleth\": [{\"colorbar\": {\"outlinewidth\": 0, \"ticks\": \"\"}, \"type\": \"choropleth\"}], \"contour\": [{\"colorbar\": {\"outlinewidth\": 0, \"ticks\": \"\"}, \"colorscale\": [[0.0, \"#0d0887\"], [0.1111111111111111, \"#46039f\"], [0.2222222222222222, \"#7201a8\"], [0.3333333333333333, \"#9c179e\"], [0.4444444444444444, \"#bd3786\"], [0.5555555555555556, \"#d8576b\"], [0.6666666666666666, \"#ed7953\"], [0.7777777777777778, \"#fb9f3a\"], [0.8888888888888888, \"#fdca26\"], [1.0, \"#f0f921\"]], \"type\": \"contour\"}], \"contourcarpet\": [{\"colorbar\": {\"outlinewidth\": 0, \"ticks\": \"\"}, \"type\": \"contourcarpet\"}], \"heatmap\": [{\"colorbar\": {\"outlinewidth\": 0, \"ticks\": \"\"}, \"colorscale\": [[0.0, \"#0d0887\"], [0.1111111111111111, \"#46039f\"], [0.2222222222222222, \"#7201a8\"], [0.3333333333333333, \"#9c179e\"], [0.4444444444444444, \"#bd3786\"], [0.5555555555555556, \"#d8576b\"], [0.6666666666666666, \"#ed7953\"], [0.7777777777777778, \"#fb9f3a\"], [0.8888888888888888, \"#fdca26\"], [1.0, \"#f0f921\"]], \"type\": \"heatmap\"}], \"heatmapgl\": [{\"colorbar\": {\"outlinewidth\": 0, \"ticks\": \"\"}, \"colorscale\": [[0.0, \"#0d0887\"], [0.1111111111111111, \"#46039f\"], [0.2222222222222222, \"#7201a8\"], [0.3333333333333333, \"#9c179e\"], [0.4444444444444444, \"#bd3786\"], [0.5555555555555556, \"#d8576b\"], [0.6666666666666666, \"#ed7953\"], [0.7777777777777778, \"#fb9f3a\"], [0.8888888888888888, \"#fdca26\"], [1.0, \"#f0f921\"]], \"type\": \"heatmapgl\"}], \"histogram\": [{\"marker\": {\"colorbar\": {\"outlinewidth\": 0, \"ticks\": \"\"}}, \"type\": \"histogram\"}], \"histogram2d\": [{\"colorbar\": {\"outlinewidth\": 0, \"ticks\": \"\"}, \"colorscale\": [[0.0, \"#0d0887\"], [0.1111111111111111, \"#46039f\"], [0.2222222222222222, \"#7201a8\"], [0.3333333333333333, \"#9c179e\"], [0.4444444444444444, \"#bd3786\"], [0.5555555555555556, \"#d8576b\"], [0.6666666666666666, \"#ed7953\"], [0.7777777777777778, \"#fb9f3a\"], [0.8888888888888888, \"#fdca26\"], [1.0, \"#f0f921\"]], \"type\": \"histogram2d\"}], \"histogram2dcontour\": [{\"colorbar\": {\"outlinewidth\": 0, \"ticks\": \"\"}, \"colorscale\": [[0.0, \"#0d0887\"], [0.1111111111111111, \"#46039f\"], [0.2222222222222222, \"#7201a8\"], [0.3333333333333333, \"#9c179e\"], [0.4444444444444444, \"#bd3786\"], [0.5555555555555556, \"#d8576b\"], [0.6666666666666666, \"#ed7953\"], [0.7777777777777778, \"#fb9f3a\"], [0.8888888888888888, \"#fdca26\"], [1.0, \"#f0f921\"]], \"type\": \"histogram2dcontour\"}], \"mesh3d\": [{\"colorbar\": {\"outlinewidth\": 0, \"ticks\": \"\"}, \"type\": \"mesh3d\"}], \"parcoords\": [{\"line\": {\"colorbar\": {\"outlinewidth\": 0, \"ticks\": \"\"}}, \"type\": \"parcoords\"}], \"pie\": [{\"automargin\": true, \"type\": \"pie\"}], \"scatter\": [{\"marker\": {\"colorbar\": {\"outlinewidth\": 0, \"ticks\": \"\"}}, \"type\": \"scatter\"}], \"scatter3d\": [{\"line\": {\"colorbar\": {\"outlinewidth\": 0, \"ticks\": \"\"}}, \"marker\": {\"colorbar\": {\"outlinewidth\": 0, \"ticks\": \"\"}}, \"type\": \"scatter3d\"}], \"scattercarpet\": [{\"marker\": {\"colorbar\": {\"outlinewidth\": 0, \"ticks\": \"\"}}, \"type\": \"scattercarpet\"}], \"scattergeo\": [{\"marker\": {\"colorbar\": {\"outlinewidth\": 0, \"ticks\": \"\"}}, \"type\": \"scattergeo\"}], \"scattergl\": [{\"marker\": {\"colorbar\": {\"outlinewidth\": 0, \"ticks\": \"\"}}, \"type\": \"scattergl\"}], \"scattermapbox\": [{\"marker\": {\"colorbar\": {\"outlinewidth\": 0, \"ticks\": \"\"}}, \"type\": \"scattermapbox\"}], \"scatterpolar\": [{\"marker\": {\"colorbar\": {\"outlinewidth\": 0, \"ticks\": \"\"}}, \"type\": \"scatterpolar\"}], \"scatterpolargl\": [{\"marker\": {\"colorbar\": {\"outlinewidth\": 0, \"ticks\": \"\"}}, \"type\": \"scatterpolargl\"}], \"scatterternary\": [{\"marker\": {\"colorbar\": {\"outlinewidth\": 0, \"ticks\": \"\"}}, \"type\": \"scatterternary\"}], \"surface\": [{\"colorbar\": {\"outlinewidth\": 0, \"ticks\": \"\"}, \"colorscale\": [[0.0, \"#0d0887\"], [0.1111111111111111, \"#46039f\"], [0.2222222222222222, \"#7201a8\"], [0.3333333333333333, \"#9c179e\"], [0.4444444444444444, \"#bd3786\"], [0.5555555555555556, \"#d8576b\"], [0.6666666666666666, \"#ed7953\"], [0.7777777777777778, \"#fb9f3a\"], [0.8888888888888888, \"#fdca26\"], [1.0, \"#f0f921\"]], \"type\": \"surface\"}], \"table\": [{\"cells\": {\"fill\": {\"color\": \"#EBF0F8\"}, \"line\": {\"color\": \"white\"}}, \"header\": {\"fill\": {\"color\": \"#C8D4E3\"}, \"line\": {\"color\": \"white\"}}, \"type\": \"table\"}]}, \"layout\": {\"annotationdefaults\": {\"arrowcolor\": \"#2a3f5f\", \"arrowhead\": 0, \"arrowwidth\": 1}, \"coloraxis\": {\"colorbar\": {\"outlinewidth\": 0, \"ticks\": \"\"}}, \"colorscale\": {\"diverging\": [[0, \"#8e0152\"], [0.1, \"#c51b7d\"], [0.2, \"#de77ae\"], [0.3, \"#f1b6da\"], [0.4, \"#fde0ef\"], [0.5, \"#f7f7f7\"], [0.6, \"#e6f5d0\"], [0.7, \"#b8e186\"], [0.8, \"#7fbc41\"], [0.9, \"#4d9221\"], [1, \"#276419\"]], \"sequential\": [[0.0, \"#0d0887\"], [0.1111111111111111, \"#46039f\"], [0.2222222222222222, \"#7201a8\"], [0.3333333333333333, \"#9c179e\"], [0.4444444444444444, \"#bd3786\"], [0.5555555555555556, \"#d8576b\"], [0.6666666666666666, \"#ed7953\"], [0.7777777777777778, \"#fb9f3a\"], [0.8888888888888888, \"#fdca26\"], [1.0, \"#f0f921\"]], \"sequentialminus\": [[0.0, \"#0d0887\"], [0.1111111111111111, \"#46039f\"], [0.2222222222222222, \"#7201a8\"], [0.3333333333333333, \"#9c179e\"], [0.4444444444444444, \"#bd3786\"], [0.5555555555555556, \"#d8576b\"], [0.6666666666666666, \"#ed7953\"], [0.7777777777777778, \"#fb9f3a\"], [0.8888888888888888, \"#fdca26\"], [1.0, \"#f0f921\"]]}, \"colorway\": [\"#636efa\", \"#EF553B\", \"#00cc96\", \"#ab63fa\", \"#FFA15A\", \"#19d3f3\", \"#FF6692\", \"#B6E880\", \"#FF97FF\", \"#FECB52\"], \"font\": {\"color\": \"#2a3f5f\"}, \"geo\": {\"bgcolor\": \"white\", \"lakecolor\": \"white\", \"landcolor\": \"#E5ECF6\", \"showlakes\": true, \"showland\": true, \"subunitcolor\": \"white\"}, \"hoverlabel\": {\"align\": \"left\"}, \"hovermode\": \"closest\", \"mapbox\": {\"style\": \"light\"}, \"paper_bgcolor\": \"white\", \"plot_bgcolor\": \"#E5ECF6\", \"polar\": {\"angularaxis\": {\"gridcolor\": \"white\", \"linecolor\": \"white\", \"ticks\": \"\"}, \"bgcolor\": \"#E5ECF6\", \"radialaxis\": {\"gridcolor\": \"white\", \"linecolor\": \"white\", \"ticks\": \"\"}}, \"scene\": {\"xaxis\": {\"backgroundcolor\": \"#E5ECF6\", \"gridcolor\": \"white\", \"gridwidth\": 2, \"linecolor\": \"white\", \"showbackground\": true, \"ticks\": \"\", \"zerolinecolor\": \"white\"}, \"yaxis\": {\"backgroundcolor\": \"#E5ECF6\", \"gridcolor\": \"white\", \"gridwidth\": 2, \"linecolor\": \"white\", \"showbackground\": true, \"ticks\": \"\", \"zerolinecolor\": \"white\"}, \"zaxis\": {\"backgroundcolor\": \"#E5ECF6\", \"gridcolor\": \"white\", \"gridwidth\": 2, \"linecolor\": \"white\", \"showbackground\": true, \"ticks\": \"\", \"zerolinecolor\": \"white\"}}, \"shapedefaults\": {\"line\": {\"color\": \"#2a3f5f\"}}, \"ternary\": {\"aaxis\": {\"gridcolor\": \"white\", \"linecolor\": \"white\", \"ticks\": \"\"}, \"baxis\": {\"gridcolor\": \"white\", \"linecolor\": \"white\", \"ticks\": \"\"}, \"bgcolor\": \"#E5ECF6\", \"caxis\": {\"gridcolor\": \"white\", \"linecolor\": \"white\", \"ticks\": \"\"}}, \"title\": {\"x\": 0.05}, \"xaxis\": {\"automargin\": true, \"gridcolor\": \"white\", \"linecolor\": \"white\", \"ticks\": \"\", \"title\": {\"standoff\": 15}, \"zerolinecolor\": \"white\", \"zerolinewidth\": 2}, \"yaxis\": {\"automargin\": true, \"gridcolor\": \"white\", \"linecolor\": \"white\", \"ticks\": \"\", \"title\": {\"standoff\": 15}, \"zerolinecolor\": \"white\", \"zerolinewidth\": 2}}}, \"title\": {\"font\": {\"color\": \"#151516\"}}, \"xaxis\": {\"gridcolor\": \"#F6F6F6\", \"showgrid\": true, \"tickfont\": {\"color\": \"#666666\"}, \"title\": {\"font\": {\"color\": \"#666666\"}, \"text\": \"\"}, \"zerolinecolor\": \"#F6F6F6\"}, \"yaxis\": {\"gridcolor\": \"#F6F6F6\", \"showgrid\": true, \"tickfont\": {\"color\": \"#666666\"}, \"title\": {\"font\": {\"color\": \"#666666\"}, \"text\": \"\"}, \"zerolinecolor\": \"#F6F6F6\"}},\n",
       "                        {\"showLink\": true, \"linkText\": \"Export to plot.ly\", \"plotlyServerURL\": \"https://plot.ly\", \"responsive\": true}\n",
       "                    ).then(function(){\n",
       "                            \n",
       "var gd = document.getElementById('12ea31ae-c0d6-4cfd-a10c-60cc55b76fe7');\n",
       "var x = new MutationObserver(function (mutations, observer) {{\n",
       "        var display = window.getComputedStyle(gd).display;\n",
       "        if (!display || display === 'none') {{\n",
       "            console.log([gd, 'removed!']);\n",
       "            Plotly.purge(gd);\n",
       "            observer.disconnect();\n",
       "        }}\n",
       "}});\n",
       "\n",
       "// Listen for the removal of the full notebook cells\n",
       "var notebookContainer = gd.closest('#notebook-container');\n",
       "if (notebookContainer) {{\n",
       "    x.observe(notebookContainer, {childList: true});\n",
       "}}\n",
       "\n",
       "// Listen for the clearing of the current output cell\n",
       "var outputEl = gd.closest('.output');\n",
       "if (outputEl) {{\n",
       "    x.observe(outputEl, {childList: true});\n",
       "}}\n",
       "\n",
       "                        })\n",
       "                };\n",
       "                });\n",
       "            </script>\n",
       "        </div>"
      ]
     },
     "metadata": {},
     "output_type": "display_data"
    }
   ],
   "source": [
    "key_plot(1)"
   ]
  },
  {
   "cell_type": "markdown",
   "metadata": {},
   "source": [
    "### Clustering keys"
   ]
  },
  {
   "cell_type": "markdown",
   "metadata": {},
   "source": [
    "### First section"
   ]
  },
  {
   "cell_type": "code",
   "execution_count": 50,
   "metadata": {},
   "outputs": [
    {
     "data": {
      "application/vnd.plotly.v1+json": {
       "config": {
        "plotlyServerURL": "https://plot.ly"
       },
       "data": [
        {
         "hoverlabel": {
          "namelength": 0
         },
         "hovertemplate": "dance=menuett<br>major=%{x}<br>minor=%{y}",
         "legendgroup": "dance=menuett",
         "marker": {
          "color": "#636efa",
          "symbol": "circle"
         },
         "mode": "markers",
         "name": "dance=menuett",
         "showlegend": true,
         "type": "scatter",
         "x": [
          0.8207972980220555,
          0.9079654856001922,
          0.9176111600754956,
          0.3564362257227567,
          0.9069530118887316,
          0.6199061978084154,
          0.8489655225255782,
          0.8417953169947824,
          0.8461262818125667,
          0.8491638916382442,
          0.7303992431878297,
          0.916744347281714,
          0.9261327417053864,
          0.7669305042853196,
          0.8273486105817075,
          0.9242976868385244,
          0.7549613488862846,
          0.7597052386277912,
          0.7173698432223571,
          0.8572242936027941,
          0.8033129634145662,
          0.9467801159809195,
          0.8148392982274775,
          0.92984517880828,
          0.7939541796845854,
          0.7962045127225502,
          0.8161337160691613,
          0.8781603665786994,
          0.2694511643069183
         ],
         "xaxis": "x",
         "y": [
          0.39228631604245967,
          0.12855523531804558,
          0.5749511959319853,
          0.6982221834493415,
          0.4499366452831151,
          0.42535730704227337,
          0.1613610698631563,
          0.20089916526045903,
          0.28501770447256425,
          0.29048451287142674,
          0.08852510139747138,
          0.5061797337474555,
          0.6194697011533248,
          0.5152655441524653,
          0.6585212893468385,
          0.3722782595746864,
          0.5450339555427025,
          0.17973912144187365,
          0.5741630508350284,
          0.17392554284013073,
          0.1041317230714281,
          0.6539094953328332,
          0.24275312947256805,
          0.46178387412871885,
          0.17714293270128378,
          0.13523869040821446,
          0.19161032689412166,
          0.38036743144109564,
          0.9135317212521981
         ],
         "yaxis": "y"
        },
        {
         "hoverlabel": {
          "namelength": 0
         },
         "hovertemplate": "dance=trio<br>major=%{x}<br>minor=%{y}",
         "legendgroup": "dance=trio",
         "marker": {
          "color": "#EF553B",
          "symbol": "circle"
         },
         "mode": "markers",
         "name": "dance=trio",
         "showlegend": true,
         "type": "scatter",
         "x": [
          0.790240973660125,
          0.5419773214163084,
          0.9109401055748021,
          0.8328806553444592,
          0.9270863520697097,
          0.8400797622363756,
          0.8075420086113754,
          0.4315995644766423,
          0.2567467615360213,
          0.8695429706438508,
          0.7903720782169069,
          0.5381421927711866,
          0.721215764651099,
          0.7836839226480539,
          0.7093195900822011,
          0.8464834099430194,
          0.6307379271203661,
          0.6741382139070993,
          0.6480905916915303,
          0.7501679464358135,
          0.8404658735801976,
          0.915025814591951,
          0.6207516525474026,
          0.9169335862646248,
          0.8362437660015885,
          0.8805882054162543,
          0.43123479231595513,
          0.8795915971807882,
          0.922372996986131,
          0.9146324999572443,
          0.7842552613954143,
          0.8859579429426125,
          0.8515315146365823,
          0.901354335175613,
          0.740487549684391,
          0.851004394751246,
          0.8872275969707697,
          0.7435560559650365,
          0.8569978972689744,
          0.8948439803587751,
          0.804671224007528,
          0.5128630297771848,
          0.6455361655006635,
          0.7018500861122507,
          0.914074594068353,
          0.8004075614985321,
          0.8358933802471776,
          0.874402382465929
         ],
         "xaxis": "x",
         "y": [
          0.2288537030895549,
          -0.03459441149568593,
          0.4746593313048446,
          0.2948661639984085,
          0.3593625851748892,
          0.24777190226653878,
          0.24918482361113997,
          0.6276633962266147,
          0.8344502183819462,
          0.2610876889777317,
          0.10597097582166026,
          0.6662505687109525,
          0.19390495054882043,
          0.30851392023167323,
          0.2140800262747025,
          0.5377928170232299,
          0.008622163157918139,
          0.2505663064085388,
          0.04578929088695399,
          -0.058771238963172684,
          0.29723677567145745,
          0.38012684013868864,
          0.4243826197758498,
          0.4962066353930457,
          0.19106174709633705,
          0.24961794250442232,
          -0.3482186682881229,
          0.3262155405242041,
          0.4201512298150226,
          0.4437920125564112,
          0.05027077122699475,
          0.36831228138394073,
          0.48650390426767964,
          0.31264760224921584,
          0.03550664991785407,
          0.10940767204634397,
          0.2826556881835743,
          0.19921695771352627,
          0.4776720106244244,
          0.35782432005299003,
          0.16506248003775487,
          0.013877839323403335,
          -0.1108399830969038,
          0.07581359650967093,
          0.39749970506673965,
          0.1002171829202381,
          0.34208391109094516,
          0.18873549784597948
         ],
         "yaxis": "y"
        },
        {
         "hoverlabel": {
          "namelength": 0
         },
         "hovertemplate": "dance=deutscher<br>major=%{x}<br>minor=%{y}",
         "legendgroup": "dance=deutscher",
         "marker": {
          "color": "#00cc96",
          "symbol": "circle"
         },
         "mode": "markers",
         "name": "dance=deutscher",
         "showlegend": true,
         "type": "scatter",
         "x": [
          0.9219154733853785,
          0.9402624549513166,
          0.8963698884569248,
          0.9048708448802895,
          0.8524348227571585,
          -0.017748860487105236,
          0.9065464811571441,
          0.9067742885516609,
          0.9513223497226696,
          0.5775386466748496,
          0.9446603878671918,
          0.8976348825338288,
          0.7659402291385216,
          0.8444767764997334,
          0.8267217340357464,
          0.7243330724427574,
          0.7690896226042561,
          0.8742868353188548,
          0.6806019423888425,
          0.8602171674601538,
          0.848248536936258,
          0.9271820618579545,
          0.806546691502891,
          0.7475913735454975,
          0.88212114758662,
          0.6046575652584907,
          0.9346352194615217,
          0.8459047972677619,
          0.7926699440813331,
          0.47533347519771074,
          0.852370731944642,
          0.8056336311145462,
          0.8842289769607229,
          0.868694462578719,
          0.7859798058702769,
          0.7734731570775302,
          0.8375691417490325,
          0.092299597917662,
          0.37058337431386723,
          0.7068566581100748,
          0.43123479231595513,
          0.9220189783878902,
          0.7188536464772576,
          0.4026897925675681,
          0.7510606905401425,
          0.9073964413277711,
          0.8835345231577325,
          0.9322767674457559,
          0.7473768742496228,
          0.8250397309312123,
          0.43123479231595513,
          0.8820873016665784,
          0.6826475051130533,
          0.8780700854535254,
          0.8979109867921413,
          0.8041212843115413,
          0.8298237469264662,
          0.9313816718757337,
          0.9061786678451326,
          0.12695919765152608,
          0.9158485004462725,
          0.68471096841837,
          0.738989398283245,
          0.092299597917662,
          0.8224448694989599,
          0.8026269785689357,
          0.8903009340134476,
          0.7396378196026485,
          0.8031676568439177,
          0.9200848307808146,
          0.8493399692858359
         ],
         "xaxis": "x",
         "y": [
          0.29676883763227546,
          0.4194102849754887,
          0.29301863809704043,
          0.27403932724386193,
          0.6271879072906202,
          0.7746575340008228,
          0.29873750759375967,
          0.4136809424536767,
          0.3902834121173706,
          0.22256696791350356,
          0.38111403232688384,
          0.1995961838592769,
          0.026219252006479787,
          0.08314377459604672,
          0.17728898519071168,
          0.49898766965018226,
          0.05830920887842242,
          0.22043847309234652,
          0.1111217089877583,
          0.11004041482458549,
          0.11790886619247168,
          0.2567028778087741,
          0.017616769324116932,
          0.49197408523043257,
          0.3818825917952726,
          0.7942786957372912,
          0.5060131649489243,
          0.07843969365674425,
          0.20259956328241865,
          0.7442534625245161,
          0.18677085705192942,
          0.2480579080796274,
          0.17085253044666512,
          0.29910247584603,
          0.7444590413817351,
          0.006397865595847041,
          0.09990534514469104,
          0.16503776931958358,
          0.846970993011136,
          0.6514586710793325,
          -0.3482186682881229,
          0.5240729170882404,
          0.7099651050877184,
          0.4764635476397851,
          0.22962909161950748,
          0.6074075501831991,
          0.4680558007001163,
          0.31956477965305585,
          0.05198511167873954,
          0.23644089386186168,
          -0.3482186682881229,
          0.5532364794077188,
          -0.007298760752439376,
          0.09847465426991636,
          0.23942981870714716,
          0.3201306827651502,
          0.06839596969049738,
          0.21943668582935028,
          0.21765788966851768,
          0.7935483526183537,
          0.30388609153378915,
          -0.1066114979937407,
          -0.009633206292227692,
          0.16503776931958358,
          0.5010626345435194,
          0.12928260570257202,
          0.29828220425553326,
          -0.053204803446208815,
          0.05571548420459804,
          0.3065677881369588,
          0.5593932848346324
         ],
         "yaxis": "y"
        },
        {
         "hoverlabel": {
          "namelength": 0
         },
         "hovertemplate": "dance=walzer<br>major=%{x}<br>minor=%{y}",
         "legendgroup": "dance=walzer",
         "marker": {
          "color": "#ab63fa",
          "symbol": "circle"
         },
         "mode": "markers",
         "name": "dance=walzer",
         "showlegend": true,
         "type": "scatter",
         "x": [
          0.6440893804730612,
          0.9101546947494579,
          0.7183900575686415,
          0.5520828485274398,
          0.27118019791869546,
          0.4430529403483363,
          0.9058115968049769,
          0.4482790914845825,
          0.8481884726155746,
          0.4181545443442719,
          0.8857100785461274,
          0.5236157290770527,
          0.8708986915109078,
          0.7553069558597482,
          0.793109676762467,
          0.7858153171119768,
          0.7194100780119327,
          0.4647454610134685,
          0.6497680422364198,
          0.8503879384371739,
          0.7942333336006174,
          0.43123479231595513,
          0.7684498195618548,
          0.30615766679558415,
          0.9652740837807514,
          0.8976949664605398,
          0.6943833476654513,
          0.8132212878806183,
          0.797046016793501,
          0.6587896583753408,
          0.6926942418866691,
          0.7411138968760563,
          0.6861990712014543,
          0.7621875172357848,
          0.8371516060760373,
          0.6699462245481193,
          0.9268951300011311,
          0.7421715640907587,
          0.9151639245870246,
          0.8096350361372575,
          0.7787468419992692,
          0.6767925215653594,
          0.8091563108280297,
          0.924446748270715,
          0.8016197179951077,
          0.7314568211328376,
          0.7593308769452298,
          0.8356727179421592,
          0.8742056056729145,
          0.935844307324392,
          0.8721133513415096,
          0.746984301441737,
          0.8602085467887749,
          0.9007345440804067,
          0.8170713650703303,
          0.917902382931389,
          0.8395250004749565,
          0.8402391048865885,
          0.31365306052877723,
          0.8497901405223965,
          0.7994476340305596,
          0.7968376956245826,
          0.6151980818421076,
          0.9070204405472918,
          0.8802548369814793,
          0.8585041531270217,
          0.9032217671804541,
          0.8923359691253232,
          0.5817090069029686,
          0.8815480699125496,
          0.8531550140543549,
          0.9182176671446445,
          0.7894395246648587,
          0.8576753648358209,
          0.8883390664392824,
          0.24072924584365782,
          0.6920783658747602,
          0.7904701165590944,
          0.865296515660761,
          0.9254188366267289,
          0.8435590377597921,
          0.876528112635615,
          0.8710479304331555,
          0.8735067520096298,
          0.43123479231595513,
          0.9386145109340174,
          0.927302274147728,
          0.8593596798864069,
          0.7488138456056977,
          0.7850024435960434,
          0.8739120291012034,
          0.7139747475718368,
          0.20386091301902964,
          0.8810949493449133,
          0.7482928874535228,
          0.9166500511714917,
          0.7169875041031106,
          0.842697135855791,
          0.8930963535160774,
          0.29351227290852444,
          0.7827775970566779,
          0.8458435665230742,
          0.8381225856820353,
          0.9069094158073724,
          0.9573350912005576,
          0.8710105207046359,
          0.3057561008793867,
          0.9128965624821297,
          0.954902163389393,
          0.3580808659993604,
          0.6504458215016796,
          0.8795892272990781,
          0.05590596119787658,
          0.82279470072282,
          0.9234451166722375,
          0.697431228641235,
          0.8693632330586837,
          0.43123479231595513,
          0.8540122018104981,
          0.721234730026231,
          0.7572600053725898,
          0.9636151132819889,
          0.83854758195593,
          0.6984411219952029,
          0.43403517877953196,
          0.8871213014485729,
          0.8579074316307665,
          0.8116878844423361,
          0.8334324318026497,
          0.2206784542250201,
          0.9117473862595278,
          0.25117905847732874
         ],
         "xaxis": "x",
         "y": [
          0.20878624616556582,
          0.4657054448946942,
          0.6058209895267899,
          0.619685856130709,
          0.8490573888814251,
          0.7427359358701586,
          0.20534441088397173,
          0.8644181209205027,
          0.5982762089970963,
          0.7961745236838412,
          0.34858353117163565,
          -0.1026409861720493,
          0.40784519334148783,
          0.3468317036014891,
          0.02909372199526644,
          0.2961797117978643,
          0.12366394989636752,
          -0.1692569838224974,
          0.8528864552815153,
          0.11604344490425461,
          0.2956312384298398,
          -0.3482186682881229,
          0.02952614509671897,
          0.8440353728539142,
          0.5563198996442763,
          0.32182418174642224,
          0.7102787470433796,
          0.7440648300662893,
          0.20431054644560745,
          0.64100146381762,
          0.5310355915712348,
          0.22135517436557295,
          -0.11703720713697546,
          0.23859508428418938,
          0.17675936869705042,
          -0.11038130447561234,
          0.3189211070957634,
          0.28332692874738374,
          0.3732788160057552,
          0.1049180486014728,
          0.04278770842059104,
          0.027803343076008985,
          0.13254338136600613,
          0.2748757279424157,
          0.2220249203835265,
          -0.0020437419308114158,
          -0.047670689833708174,
          0.12412439286699983,
          0.10288778654956449,
          0.16089927923915587,
          0.09537219332429117,
          -0.007694486155211927,
          0.10843727053237823,
          0.062120445071350394,
          0.008053611059609223,
          0.16325565663734165,
          0.17122951990152094,
          0.0932394602618723,
          0.8061137860154619,
          0.05396433499662978,
          0.12273551405466265,
          0.32449029607012553,
          0.2574329772377771,
          0.16139403966542643,
          0.13532244647795227,
          0.30648654806216846,
          0.1670301266260485,
          0.1765634023784323,
          0.7526748377116874,
          0.23903512599725313,
          0.10480004355370093,
          0.2949862053961171,
          0.516030688990012,
          0.08288020422514891,
          0.4036036026718135,
          0.6699609911994377,
          0.5686153190401442,
          0.02113208682725387,
          0.06389943515185964,
          0.27330609393718974,
          0.07948810393263683,
          0.3138425284451051,
          0.2510345355356661,
          0.5342612797632743,
          -0.3482186682881229,
          0.35219454842170334,
          0.24240813678096879,
          0.09602187643223875,
          0.1147916924705511,
          0.07056326185890768,
          0.16061578632900808,
          0.3757125682624658,
          0.8828667993912976,
          0.22597091024468902,
          -0.009121517909650628,
          0.3215348943060899,
          0.2431114523292652,
          0.04357745226862017,
          0.25869995592759626,
          0.9043119439001496,
          0.19956928662519086,
          0.11875996122854493,
          0.10559058069827187,
          0.5525215504051847,
          0.4688126873605671,
          0.43280395696002777,
          0.726901166151076,
          0.3310703323977734,
          0.39861295293256005,
          0.9039357761619611,
          0.7919300829737025,
          0.11222695315982584,
          0.6366750261701302,
          0.2536981925760804,
          0.5192774451130717,
          0.02013240876764627,
          0.20521077112109617,
          -0.3482186682881229,
          0.37691995976333564,
          0.29625554361697937,
          0.5446273962168513,
          0.4897426642869928,
          0.05006524085795866,
          0.005926052407009608,
          0.9106431653383944,
          0.5453718960089988,
          0.41882201582895917,
          0.03389218977232061,
          0.04220475659373363,
          0.4762181748492387,
          0.18893826010639808,
          0.8726324710348085
         ],
         "yaxis": "y"
        },
        {
         "hoverlabel": {
          "namelength": 0
         },
         "hovertemplate": "dance=ländler<br>major=%{x}<br>minor=%{y}",
         "legendgroup": "dance=ländler",
         "marker": {
          "color": "#FFA15A",
          "symbol": "circle"
         },
         "mode": "markers",
         "name": "dance=ländler",
         "showlegend": true,
         "type": "scatter",
         "x": [
          0.9310418662011759,
          0.8759685382166088,
          0.8364464161298937,
          0.7838330084190975,
          0.8876489227149067,
          0.7734955892187356,
          0.8426479204597233,
          0.25416638267798186,
          0.7938046486291177,
          0.8214088895224017,
          0.8646788126778518,
          0.8360708901904723,
          0.934591992791185,
          0.9009851265939632,
          0.9071272861215018,
          0.882132082990858,
          0.9110268186986226,
          0.9334145543027021,
          0.855301583299803,
          0.578222198244182,
          0.29417482923522853,
          0.6103728352312368,
          0.931415191232734,
          0.8431003375546402,
          0.7636298495976774,
          0.7565665056038506,
          0.12272870129904337,
          0.43123479231595513,
          0.567030173750623,
          0.6636184923565203,
          0.7694542423107658,
          0.5862443658688374,
          0.6589643842485426,
          0.8045721631527099,
          0.8615973249550243,
          0.8654653221256748,
          0.8952522793091374,
          0.7930062606366772,
          0.9265286578932277,
          0.8780535390052749,
          0.8863517388734022,
          0.9330113309839155,
          0.891358034858618,
          0.9725451034062516,
          0.656522105422085,
          0.8889932226304946,
          0.8918933740995139,
          0.7533702787445948,
          0.5908999301308846,
          0.6854552230157581,
          0.8591825782823683,
          0.886356983754699,
          0.9447294899406192,
          0.9487903215026833,
          0.9266873347901843,
          0.8420206225894586,
          0.8773457441249395,
          0.8526503410008253,
          0.8422642852028362,
          0.6513781016070805,
          0.8787050181370103,
          0.8944507476923889,
          0.7673984823986076,
          0.4423750719259727,
          0.8640653749498342,
          0.9409708477979617,
          0.8511888811985884,
          0.6246263434862656,
          0.8372967898999426,
          0.5045317963898185,
          0.24420293333750587,
          0.8666343624662326,
          0.16849506088143887,
          0.6371737683917067,
          0.8722812455877168,
          0.6647414764836439,
          0.7639790968201912,
          0.8217349951428545
         ],
         "xaxis": "x",
         "y": [
          0.31982458070169834,
          0.1320571329110443,
          0.06526089763328685,
          0.09331320683202526,
          0.44247342337859064,
          -0.01994209549368592,
          0.08498028724556903,
          0.8732632367522339,
          0.0775887100950497,
          0.0647035374087025,
          0.22539202247109727,
          0.12965105565917445,
          0.3557388834044911,
          0.2194885640275534,
          0.18818219148279963,
          0.12531476149320203,
          0.21513981573671906,
          0.43617574069375153,
          0.09675987132320324,
          0.8608550679245042,
          0.8275163213035523,
          0.6148083622559226,
          0.3998013713563038,
          0.07913076942559749,
          0.03655752334690998,
          -0.02239634257925155,
          0.8137038317523346,
          -0.3482186682881229,
          0.6146930453317192,
          0.3157522034647203,
          0.0392940779515249,
          -0.13964577533598596,
          -0.1301378678199166,
          0.264033125044397,
          0.08691470265595147,
          0.16113338690124984,
          0.30983337383676224,
          0.049440029716583955,
          0.5572597300746823,
          0.20206652275107764,
          0.1489095871148678,
          0.3497550642936572,
          0.23429568195536948,
          0.2650840825120955,
          0.16051363841653865,
          0.2696623151945034,
          0.22076038704563872,
          0.14004821323168906,
          -0.20167477089702163,
          -0.017635241805923102,
          0.1515759171916115,
          0.2198594616515723,
          0.36181840889255934,
          0.4727310217607553,
          0.2004821598930142,
          0.38769838012595226,
          0.2842804361664595,
          0.08374466018380045,
          0.11057663573305052,
          -0.09199741793424715,
          0.4255516873660388,
          0.16333314300877044,
          0.4334001156426538,
          -0.043526511299134624,
          0.34860264539704955,
          0.5422995683087216,
          0.20547272264260874,
          -0.007529862081568195,
          0.583439411467277,
          0.8084875739173465,
          0.6889811588599484,
          0.41339167547129885,
          0.7922967951410098,
          -0.11915185711883602,
          0.42127071729281806,
          0.08500779142582163,
          -0.060026446087606766,
          0.08703457168195616
         ],
         "yaxis": "y"
        },
        {
         "hoverlabel": {
          "namelength": 0
         },
         "hovertemplate": "dance=ecossaise<br>major=%{x}<br>minor=%{y}",
         "legendgroup": "dance=ecossaise",
         "marker": {
          "color": "#19d3f3",
          "symbol": "circle"
         },
         "mode": "markers",
         "name": "dance=ecossaise",
         "showlegend": true,
         "type": "scatter",
         "x": [
          0.7724492966284047,
          0.8537656927609241,
          0.2432819013639539,
          0.8941015238569348,
          0.8984801815717804,
          0.835355796097343,
          0.9480918817230681,
          0.3170302891466167,
          0.9154771162435411,
          0.46591408367117904,
          0.7841452417693724,
          0.8540043899998073,
          0.7492103188476575,
          0.902942393216534,
          0.9368390212110557,
          0.9478993650602603,
          0.9531830246417694,
          0.9014544396337655,
          0.7474629728480966,
          0.9378838061443855,
          0.9145442260074385,
          0.6018320209649907,
          0.9260298246031826,
          0.8272539828512996,
          0.8736413441536015,
          0.8618231374818344,
          0.8678057937190076,
          0.8793781116157812,
          0.912611091853504,
          0.8720390560741154,
          0.8846633606364691,
          0.7795844966823775,
          0.8945485307540846,
          0.8924154090451807,
          0.8188059940175345,
          0.9013537981931259,
          0.8543049457099945,
          0.8566107881445488,
          0.8977774803387295,
          0.9091623342856566,
          0.5854794596109515,
          0.9408362644547827,
          0.8906256903717373,
          0.6495867756792022,
          0.8214332149849839,
          0.6623930942651601,
          0.9087943042524002,
          0.8948930216591302,
          0.9210443460607327,
          0.8174677902414258,
          0.9096640650683521,
          0.9164201459634166,
          0.8013009323779486,
          0.9403275808658653,
          0.6037855913925356,
          0.17142197766721076,
          0.25274406085451073,
          0.8958162134128083,
          0.5518925095706356,
          0.3405789953549248,
          0.5906456495809809,
          0.9083300998611498,
          0.3082958289547358,
          0.8350155443750266,
          0.7971170982121901,
          0.9223993213180794,
          0.6776648390327069,
          0.768448629454144,
          0.8434935671119391,
          0.926987413959862,
          0.9246550747255226,
          0.6422456076884634,
          0.8867524413416124,
          0.2607663520646209
         ],
         "xaxis": "x",
         "y": [
          -0.018526143529809247,
          0.07170700265907032,
          0.8228736225731883,
          0.3263973778570833,
          0.1609283584181419,
          0.026230010418450356,
          0.22239201627366023,
          0.9052110992315521,
          0.2989127093886226,
          0.5522731814361154,
          0.3886170179594922,
          0.49668712011068733,
          0.01694291986023555,
          0.441366373998995,
          0.2855299659479533,
          0.42414026406405747,
          0.3666901649150178,
          0.24810937868072533,
          -0.03558013205841276,
          0.4318862049779311,
          0.32860456715699315,
          0.8733489601001283,
          0.6618122786027714,
          0.36744605940559577,
          0.5785445994646194,
          0.24482626550329856,
          0.21870881232595368,
          0.19592140100089947,
          0.4778765627611546,
          0.10546817727388588,
          0.12833658186653502,
          0.18136413710680005,
          0.27725744644709843,
          0.210703777460381,
          0.5191025424598972,
          0.25514030953805467,
          0.09505171040633997,
          0.10310932796059236,
          0.18528646199810694,
          0.22275587534879798,
          0.817811295170849,
          0.28639968106153696,
          0.3830352671623623,
          0.6982563505083392,
          0.06777940020439249,
          0.08956877424548426,
          0.32011714666766333,
          0.22520837402979055,
          0.340266114862135,
          0.14023134399435863,
          0.14923490476798512,
          0.27634696170982576,
          0.624744300726434,
          0.28607690986057677,
          0.53761976814721,
          0.6659999256938025,
          0.8865913042364393,
          0.2410415064805435,
          0.17864496963173052,
          0.9276587117047328,
          0.728634560264908,
          0.40935759010780925,
          0.5576921743782673,
          0.1650219036836697,
          0.2996221750450523,
          0.23439087387297375,
          0.7447468504231658,
          0.17425989231106098,
          0.3128479516163527,
          0.3805014305879244,
          0.31487918400743775,
          -0.04296133559029375,
          0.2236506373300263,
          0.6249194588871463
         ],
         "yaxis": "y"
        },
        {
         "hoverlabel": {
          "namelength": 0
         },
         "hovertemplate": "dance=galopp<br>major=%{x}<br>minor=%{y}",
         "legendgroup": "dance=galopp",
         "marker": {
          "color": "#FF6692",
          "symbol": "circle"
         },
         "mode": "markers",
         "name": "dance=galopp",
         "showlegend": true,
         "type": "scatter",
         "x": [
          0.8790962325863106,
          0.8231871047149939
         ],
         "xaxis": "x",
         "y": [
          0.2906953663427274,
          0.11282101739004805
         ],
         "yaxis": "y"
        },
        {
         "hoverlabel": {
          "namelength": 0
         },
         "hovertemplate": "dance=cotillon<br>major=%{x}<br>minor=%{y}",
         "legendgroup": "dance=cotillon",
         "marker": {
          "color": "#B6E880",
          "symbol": "circle"
         },
         "mode": "markers",
         "name": "dance=cotillon",
         "showlegend": true,
         "type": "scatter",
         "x": [
          0.8976082951746882
         ],
         "xaxis": "x",
         "y": [
          0.4603977246468637
         ],
         "yaxis": "y"
        }
       ],
       "layout": {
        "height": 600,
        "legend": {
         "tracegroupgap": 0
        },
        "margin": {
         "t": 60
        },
        "template": {
         "data": {
          "bar": [
           {
            "error_x": {
             "color": "#2a3f5f"
            },
            "error_y": {
             "color": "#2a3f5f"
            },
            "marker": {
             "line": {
              "color": "#E5ECF6",
              "width": 0.5
             }
            },
            "type": "bar"
           }
          ],
          "barpolar": [
           {
            "marker": {
             "line": {
              "color": "#E5ECF6",
              "width": 0.5
             }
            },
            "type": "barpolar"
           }
          ],
          "carpet": [
           {
            "aaxis": {
             "endlinecolor": "#2a3f5f",
             "gridcolor": "white",
             "linecolor": "white",
             "minorgridcolor": "white",
             "startlinecolor": "#2a3f5f"
            },
            "baxis": {
             "endlinecolor": "#2a3f5f",
             "gridcolor": "white",
             "linecolor": "white",
             "minorgridcolor": "white",
             "startlinecolor": "#2a3f5f"
            },
            "type": "carpet"
           }
          ],
          "choropleth": [
           {
            "colorbar": {
             "outlinewidth": 0,
             "ticks": ""
            },
            "type": "choropleth"
           }
          ],
          "contour": [
           {
            "colorbar": {
             "outlinewidth": 0,
             "ticks": ""
            },
            "colorscale": [
             [
              0,
              "#0d0887"
             ],
             [
              0.1111111111111111,
              "#46039f"
             ],
             [
              0.2222222222222222,
              "#7201a8"
             ],
             [
              0.3333333333333333,
              "#9c179e"
             ],
             [
              0.4444444444444444,
              "#bd3786"
             ],
             [
              0.5555555555555556,
              "#d8576b"
             ],
             [
              0.6666666666666666,
              "#ed7953"
             ],
             [
              0.7777777777777778,
              "#fb9f3a"
             ],
             [
              0.8888888888888888,
              "#fdca26"
             ],
             [
              1,
              "#f0f921"
             ]
            ],
            "type": "contour"
           }
          ],
          "contourcarpet": [
           {
            "colorbar": {
             "outlinewidth": 0,
             "ticks": ""
            },
            "type": "contourcarpet"
           }
          ],
          "heatmap": [
           {
            "colorbar": {
             "outlinewidth": 0,
             "ticks": ""
            },
            "colorscale": [
             [
              0,
              "#0d0887"
             ],
             [
              0.1111111111111111,
              "#46039f"
             ],
             [
              0.2222222222222222,
              "#7201a8"
             ],
             [
              0.3333333333333333,
              "#9c179e"
             ],
             [
              0.4444444444444444,
              "#bd3786"
             ],
             [
              0.5555555555555556,
              "#d8576b"
             ],
             [
              0.6666666666666666,
              "#ed7953"
             ],
             [
              0.7777777777777778,
              "#fb9f3a"
             ],
             [
              0.8888888888888888,
              "#fdca26"
             ],
             [
              1,
              "#f0f921"
             ]
            ],
            "type": "heatmap"
           }
          ],
          "heatmapgl": [
           {
            "colorbar": {
             "outlinewidth": 0,
             "ticks": ""
            },
            "colorscale": [
             [
              0,
              "#0d0887"
             ],
             [
              0.1111111111111111,
              "#46039f"
             ],
             [
              0.2222222222222222,
              "#7201a8"
             ],
             [
              0.3333333333333333,
              "#9c179e"
             ],
             [
              0.4444444444444444,
              "#bd3786"
             ],
             [
              0.5555555555555556,
              "#d8576b"
             ],
             [
              0.6666666666666666,
              "#ed7953"
             ],
             [
              0.7777777777777778,
              "#fb9f3a"
             ],
             [
              0.8888888888888888,
              "#fdca26"
             ],
             [
              1,
              "#f0f921"
             ]
            ],
            "type": "heatmapgl"
           }
          ],
          "histogram": [
           {
            "marker": {
             "colorbar": {
              "outlinewidth": 0,
              "ticks": ""
             }
            },
            "type": "histogram"
           }
          ],
          "histogram2d": [
           {
            "colorbar": {
             "outlinewidth": 0,
             "ticks": ""
            },
            "colorscale": [
             [
              0,
              "#0d0887"
             ],
             [
              0.1111111111111111,
              "#46039f"
             ],
             [
              0.2222222222222222,
              "#7201a8"
             ],
             [
              0.3333333333333333,
              "#9c179e"
             ],
             [
              0.4444444444444444,
              "#bd3786"
             ],
             [
              0.5555555555555556,
              "#d8576b"
             ],
             [
              0.6666666666666666,
              "#ed7953"
             ],
             [
              0.7777777777777778,
              "#fb9f3a"
             ],
             [
              0.8888888888888888,
              "#fdca26"
             ],
             [
              1,
              "#f0f921"
             ]
            ],
            "type": "histogram2d"
           }
          ],
          "histogram2dcontour": [
           {
            "colorbar": {
             "outlinewidth": 0,
             "ticks": ""
            },
            "colorscale": [
             [
              0,
              "#0d0887"
             ],
             [
              0.1111111111111111,
              "#46039f"
             ],
             [
              0.2222222222222222,
              "#7201a8"
             ],
             [
              0.3333333333333333,
              "#9c179e"
             ],
             [
              0.4444444444444444,
              "#bd3786"
             ],
             [
              0.5555555555555556,
              "#d8576b"
             ],
             [
              0.6666666666666666,
              "#ed7953"
             ],
             [
              0.7777777777777778,
              "#fb9f3a"
             ],
             [
              0.8888888888888888,
              "#fdca26"
             ],
             [
              1,
              "#f0f921"
             ]
            ],
            "type": "histogram2dcontour"
           }
          ],
          "mesh3d": [
           {
            "colorbar": {
             "outlinewidth": 0,
             "ticks": ""
            },
            "type": "mesh3d"
           }
          ],
          "parcoords": [
           {
            "line": {
             "colorbar": {
              "outlinewidth": 0,
              "ticks": ""
             }
            },
            "type": "parcoords"
           }
          ],
          "pie": [
           {
            "automargin": true,
            "type": "pie"
           }
          ],
          "scatter": [
           {
            "marker": {
             "colorbar": {
              "outlinewidth": 0,
              "ticks": ""
             }
            },
            "type": "scatter"
           }
          ],
          "scatter3d": [
           {
            "line": {
             "colorbar": {
              "outlinewidth": 0,
              "ticks": ""
             }
            },
            "marker": {
             "colorbar": {
              "outlinewidth": 0,
              "ticks": ""
             }
            },
            "type": "scatter3d"
           }
          ],
          "scattercarpet": [
           {
            "marker": {
             "colorbar": {
              "outlinewidth": 0,
              "ticks": ""
             }
            },
            "type": "scattercarpet"
           }
          ],
          "scattergeo": [
           {
            "marker": {
             "colorbar": {
              "outlinewidth": 0,
              "ticks": ""
             }
            },
            "type": "scattergeo"
           }
          ],
          "scattergl": [
           {
            "marker": {
             "colorbar": {
              "outlinewidth": 0,
              "ticks": ""
             }
            },
            "type": "scattergl"
           }
          ],
          "scattermapbox": [
           {
            "marker": {
             "colorbar": {
              "outlinewidth": 0,
              "ticks": ""
             }
            },
            "type": "scattermapbox"
           }
          ],
          "scatterpolar": [
           {
            "marker": {
             "colorbar": {
              "outlinewidth": 0,
              "ticks": ""
             }
            },
            "type": "scatterpolar"
           }
          ],
          "scatterpolargl": [
           {
            "marker": {
             "colorbar": {
              "outlinewidth": 0,
              "ticks": ""
             }
            },
            "type": "scatterpolargl"
           }
          ],
          "scatterternary": [
           {
            "marker": {
             "colorbar": {
              "outlinewidth": 0,
              "ticks": ""
             }
            },
            "type": "scatterternary"
           }
          ],
          "surface": [
           {
            "colorbar": {
             "outlinewidth": 0,
             "ticks": ""
            },
            "colorscale": [
             [
              0,
              "#0d0887"
             ],
             [
              0.1111111111111111,
              "#46039f"
             ],
             [
              0.2222222222222222,
              "#7201a8"
             ],
             [
              0.3333333333333333,
              "#9c179e"
             ],
             [
              0.4444444444444444,
              "#bd3786"
             ],
             [
              0.5555555555555556,
              "#d8576b"
             ],
             [
              0.6666666666666666,
              "#ed7953"
             ],
             [
              0.7777777777777778,
              "#fb9f3a"
             ],
             [
              0.8888888888888888,
              "#fdca26"
             ],
             [
              1,
              "#f0f921"
             ]
            ],
            "type": "surface"
           }
          ],
          "table": [
           {
            "cells": {
             "fill": {
              "color": "#EBF0F8"
             },
             "line": {
              "color": "white"
             }
            },
            "header": {
             "fill": {
              "color": "#C8D4E3"
             },
             "line": {
              "color": "white"
             }
            },
            "type": "table"
           }
          ]
         },
         "layout": {
          "annotationdefaults": {
           "arrowcolor": "#2a3f5f",
           "arrowhead": 0,
           "arrowwidth": 1
          },
          "coloraxis": {
           "colorbar": {
            "outlinewidth": 0,
            "ticks": ""
           }
          },
          "colorscale": {
           "diverging": [
            [
             0,
             "#8e0152"
            ],
            [
             0.1,
             "#c51b7d"
            ],
            [
             0.2,
             "#de77ae"
            ],
            [
             0.3,
             "#f1b6da"
            ],
            [
             0.4,
             "#fde0ef"
            ],
            [
             0.5,
             "#f7f7f7"
            ],
            [
             0.6,
             "#e6f5d0"
            ],
            [
             0.7,
             "#b8e186"
            ],
            [
             0.8,
             "#7fbc41"
            ],
            [
             0.9,
             "#4d9221"
            ],
            [
             1,
             "#276419"
            ]
           ],
           "sequential": [
            [
             0,
             "#0d0887"
            ],
            [
             0.1111111111111111,
             "#46039f"
            ],
            [
             0.2222222222222222,
             "#7201a8"
            ],
            [
             0.3333333333333333,
             "#9c179e"
            ],
            [
             0.4444444444444444,
             "#bd3786"
            ],
            [
             0.5555555555555556,
             "#d8576b"
            ],
            [
             0.6666666666666666,
             "#ed7953"
            ],
            [
             0.7777777777777778,
             "#fb9f3a"
            ],
            [
             0.8888888888888888,
             "#fdca26"
            ],
            [
             1,
             "#f0f921"
            ]
           ],
           "sequentialminus": [
            [
             0,
             "#0d0887"
            ],
            [
             0.1111111111111111,
             "#46039f"
            ],
            [
             0.2222222222222222,
             "#7201a8"
            ],
            [
             0.3333333333333333,
             "#9c179e"
            ],
            [
             0.4444444444444444,
             "#bd3786"
            ],
            [
             0.5555555555555556,
             "#d8576b"
            ],
            [
             0.6666666666666666,
             "#ed7953"
            ],
            [
             0.7777777777777778,
             "#fb9f3a"
            ],
            [
             0.8888888888888888,
             "#fdca26"
            ],
            [
             1,
             "#f0f921"
            ]
           ]
          },
          "colorway": [
           "#636efa",
           "#EF553B",
           "#00cc96",
           "#ab63fa",
           "#FFA15A",
           "#19d3f3",
           "#FF6692",
           "#B6E880",
           "#FF97FF",
           "#FECB52"
          ],
          "font": {
           "color": "#2a3f5f"
          },
          "geo": {
           "bgcolor": "white",
           "lakecolor": "white",
           "landcolor": "#E5ECF6",
           "showlakes": true,
           "showland": true,
           "subunitcolor": "white"
          },
          "hoverlabel": {
           "align": "left"
          },
          "hovermode": "closest",
          "mapbox": {
           "style": "light"
          },
          "paper_bgcolor": "white",
          "plot_bgcolor": "#E5ECF6",
          "polar": {
           "angularaxis": {
            "gridcolor": "white",
            "linecolor": "white",
            "ticks": ""
           },
           "bgcolor": "#E5ECF6",
           "radialaxis": {
            "gridcolor": "white",
            "linecolor": "white",
            "ticks": ""
           }
          },
          "scene": {
           "xaxis": {
            "backgroundcolor": "#E5ECF6",
            "gridcolor": "white",
            "gridwidth": 2,
            "linecolor": "white",
            "showbackground": true,
            "ticks": "",
            "zerolinecolor": "white"
           },
           "yaxis": {
            "backgroundcolor": "#E5ECF6",
            "gridcolor": "white",
            "gridwidth": 2,
            "linecolor": "white",
            "showbackground": true,
            "ticks": "",
            "zerolinecolor": "white"
           },
           "zaxis": {
            "backgroundcolor": "#E5ECF6",
            "gridcolor": "white",
            "gridwidth": 2,
            "linecolor": "white",
            "showbackground": true,
            "ticks": "",
            "zerolinecolor": "white"
           }
          },
          "shapedefaults": {
           "line": {
            "color": "#2a3f5f"
           }
          },
          "ternary": {
           "aaxis": {
            "gridcolor": "white",
            "linecolor": "white",
            "ticks": ""
           },
           "baxis": {
            "gridcolor": "white",
            "linecolor": "white",
            "ticks": ""
           },
           "bgcolor": "#E5ECF6",
           "caxis": {
            "gridcolor": "white",
            "linecolor": "white",
            "ticks": ""
           }
          },
          "title": {
           "x": 0.05
          },
          "xaxis": {
           "automargin": true,
           "gridcolor": "white",
           "linecolor": "white",
           "ticks": "",
           "title": {
            "standoff": 15
           },
           "zerolinecolor": "white",
           "zerolinewidth": 2
          },
          "yaxis": {
           "automargin": true,
           "gridcolor": "white",
           "linecolor": "white",
           "ticks": "",
           "title": {
            "standoff": 15
           },
           "zerolinecolor": "white",
           "zerolinewidth": 2
          }
         }
        },
        "xaxis": {
         "anchor": "y",
         "domain": [
          0,
          1
         ],
         "title": {
          "text": "major"
         }
        },
        "yaxis": {
         "anchor": "x",
         "domain": [
          0,
          1
         ],
         "title": {
          "text": "minor"
         }
        }
       }
      },
      "text/html": [
       "<div>\n",
       "        \n",
       "        \n",
       "            <div id=\"de7402be-2a19-4bf7-83e6-f450bb79efdd\" class=\"plotly-graph-div\" style=\"height:600px; width:100%;\"></div>\n",
       "            <script type=\"text/javascript\">\n",
       "                require([\"plotly\"], function(Plotly) {\n",
       "                    window.PLOTLYENV=window.PLOTLYENV || {};\n",
       "                    \n",
       "                if (document.getElementById(\"de7402be-2a19-4bf7-83e6-f450bb79efdd\")) {\n",
       "                    Plotly.newPlot(\n",
       "                        'de7402be-2a19-4bf7-83e6-f450bb79efdd',\n",
       "                        [{\"hoverlabel\": {\"namelength\": 0}, \"hovertemplate\": \"dance=menuett<br>major=%{x}<br>minor=%{y}\", \"legendgroup\": \"dance=menuett\", \"marker\": {\"color\": \"#636efa\", \"symbol\": \"circle\"}, \"mode\": \"markers\", \"name\": \"dance=menuett\", \"showlegend\": true, \"type\": \"scatter\", \"x\": [0.8207972980220555, 0.9079654856001922, 0.9176111600754956, 0.3564362257227567, 0.9069530118887316, 0.6199061978084154, 0.8489655225255782, 0.8417953169947824, 0.8461262818125667, 0.8491638916382442, 0.7303992431878297, 0.916744347281714, 0.9261327417053864, 0.7669305042853196, 0.8273486105817075, 0.9242976868385244, 0.7549613488862846, 0.7597052386277912, 0.7173698432223571, 0.8572242936027941, 0.8033129634145662, 0.9467801159809195, 0.8148392982274775, 0.92984517880828, 0.7939541796845854, 0.7962045127225502, 0.8161337160691613, 0.8781603665786994, 0.2694511643069183], \"xaxis\": \"x\", \"y\": [0.39228631604245967, 0.12855523531804558, 0.5749511959319853, 0.6982221834493415, 0.4499366452831151, 0.42535730704227337, 0.1613610698631563, 0.20089916526045903, 0.28501770447256425, 0.29048451287142674, 0.08852510139747138, 0.5061797337474555, 0.6194697011533248, 0.5152655441524653, 0.6585212893468385, 0.3722782595746864, 0.5450339555427025, 0.17973912144187365, 0.5741630508350284, 0.17392554284013073, 0.1041317230714281, 0.6539094953328332, 0.24275312947256805, 0.46178387412871885, 0.17714293270128378, 0.13523869040821446, 0.19161032689412166, 0.38036743144109564, 0.9135317212521981], \"yaxis\": \"y\"}, {\"hoverlabel\": {\"namelength\": 0}, \"hovertemplate\": \"dance=trio<br>major=%{x}<br>minor=%{y}\", \"legendgroup\": \"dance=trio\", \"marker\": {\"color\": \"#EF553B\", \"symbol\": \"circle\"}, \"mode\": \"markers\", \"name\": \"dance=trio\", \"showlegend\": true, \"type\": \"scatter\", \"x\": [0.790240973660125, 0.5419773214163084, 0.9109401055748021, 0.8328806553444592, 0.9270863520697097, 0.8400797622363756, 0.8075420086113754, 0.4315995644766423, 0.2567467615360213, 0.8695429706438508, 0.7903720782169069, 0.5381421927711866, 0.721215764651099, 0.7836839226480539, 0.7093195900822011, 0.8464834099430194, 0.6307379271203661, 0.6741382139070993, 0.6480905916915303, 0.7501679464358135, 0.8404658735801976, 0.915025814591951, 0.6207516525474026, 0.9169335862646248, 0.8362437660015885, 0.8805882054162543, 0.43123479231595513, 0.8795915971807882, 0.922372996986131, 0.9146324999572443, 0.7842552613954143, 0.8859579429426125, 0.8515315146365823, 0.901354335175613, 0.740487549684391, 0.851004394751246, 0.8872275969707697, 0.7435560559650365, 0.8569978972689744, 0.8948439803587751, 0.804671224007528, 0.5128630297771848, 0.6455361655006635, 0.7018500861122507, 0.914074594068353, 0.8004075614985321, 0.8358933802471776, 0.874402382465929], \"xaxis\": \"x\", \"y\": [0.2288537030895549, -0.03459441149568593, 0.4746593313048446, 0.2948661639984085, 0.3593625851748892, 0.24777190226653878, 0.24918482361113997, 0.6276633962266147, 0.8344502183819462, 0.2610876889777317, 0.10597097582166026, 0.6662505687109525, 0.19390495054882043, 0.30851392023167323, 0.2140800262747025, 0.5377928170232299, 0.008622163157918139, 0.2505663064085388, 0.04578929088695399, -0.058771238963172684, 0.29723677567145745, 0.38012684013868864, 0.4243826197758498, 0.4962066353930457, 0.19106174709633705, 0.24961794250442232, -0.3482186682881229, 0.3262155405242041, 0.4201512298150226, 0.4437920125564112, 0.05027077122699475, 0.36831228138394073, 0.48650390426767964, 0.31264760224921584, 0.03550664991785407, 0.10940767204634397, 0.2826556881835743, 0.19921695771352627, 0.4776720106244244, 0.35782432005299003, 0.16506248003775487, 0.013877839323403335, -0.1108399830969038, 0.07581359650967093, 0.39749970506673965, 0.1002171829202381, 0.34208391109094516, 0.18873549784597948], \"yaxis\": \"y\"}, {\"hoverlabel\": {\"namelength\": 0}, \"hovertemplate\": \"dance=deutscher<br>major=%{x}<br>minor=%{y}\", \"legendgroup\": \"dance=deutscher\", \"marker\": {\"color\": \"#00cc96\", \"symbol\": \"circle\"}, \"mode\": \"markers\", \"name\": \"dance=deutscher\", \"showlegend\": true, \"type\": \"scatter\", \"x\": [0.9219154733853785, 0.9402624549513166, 0.8963698884569248, 0.9048708448802895, 0.8524348227571585, -0.017748860487105236, 0.9065464811571441, 0.9067742885516609, 0.9513223497226696, 0.5775386466748496, 0.9446603878671918, 0.8976348825338288, 0.7659402291385216, 0.8444767764997334, 0.8267217340357464, 0.7243330724427574, 0.7690896226042561, 0.8742868353188548, 0.6806019423888425, 0.8602171674601538, 0.848248536936258, 0.9271820618579545, 0.806546691502891, 0.7475913735454975, 0.88212114758662, 0.6046575652584907, 0.9346352194615217, 0.8459047972677619, 0.7926699440813331, 0.47533347519771074, 0.852370731944642, 0.8056336311145462, 0.8842289769607229, 0.868694462578719, 0.7859798058702769, 0.7734731570775302, 0.8375691417490325, 0.092299597917662, 0.37058337431386723, 0.7068566581100748, 0.43123479231595513, 0.9220189783878902, 0.7188536464772576, 0.4026897925675681, 0.7510606905401425, 0.9073964413277711, 0.8835345231577325, 0.9322767674457559, 0.7473768742496228, 0.8250397309312123, 0.43123479231595513, 0.8820873016665784, 0.6826475051130533, 0.8780700854535254, 0.8979109867921413, 0.8041212843115413, 0.8298237469264662, 0.9313816718757337, 0.9061786678451326, 0.12695919765152608, 0.9158485004462725, 0.68471096841837, 0.738989398283245, 0.092299597917662, 0.8224448694989599, 0.8026269785689357, 0.8903009340134476, 0.7396378196026485, 0.8031676568439177, 0.9200848307808146, 0.8493399692858359], \"xaxis\": \"x\", \"y\": [0.29676883763227546, 0.4194102849754887, 0.29301863809704043, 0.27403932724386193, 0.6271879072906202, 0.7746575340008228, 0.29873750759375967, 0.4136809424536767, 0.3902834121173706, 0.22256696791350356, 0.38111403232688384, 0.1995961838592769, 0.026219252006479787, 0.08314377459604672, 0.17728898519071168, 0.49898766965018226, 0.05830920887842242, 0.22043847309234652, 0.1111217089877583, 0.11004041482458549, 0.11790886619247168, 0.2567028778087741, 0.017616769324116932, 0.49197408523043257, 0.3818825917952726, 0.7942786957372912, 0.5060131649489243, 0.07843969365674425, 0.20259956328241865, 0.7442534625245161, 0.18677085705192942, 0.2480579080796274, 0.17085253044666512, 0.29910247584603, 0.7444590413817351, 0.006397865595847041, 0.09990534514469104, 0.16503776931958358, 0.846970993011136, 0.6514586710793325, -0.3482186682881229, 0.5240729170882404, 0.7099651050877184, 0.4764635476397851, 0.22962909161950748, 0.6074075501831991, 0.4680558007001163, 0.31956477965305585, 0.05198511167873954, 0.23644089386186168, -0.3482186682881229, 0.5532364794077188, -0.007298760752439376, 0.09847465426991636, 0.23942981870714716, 0.3201306827651502, 0.06839596969049738, 0.21943668582935028, 0.21765788966851768, 0.7935483526183537, 0.30388609153378915, -0.1066114979937407, -0.009633206292227692, 0.16503776931958358, 0.5010626345435194, 0.12928260570257202, 0.29828220425553326, -0.053204803446208815, 0.05571548420459804, 0.3065677881369588, 0.5593932848346324], \"yaxis\": \"y\"}, {\"hoverlabel\": {\"namelength\": 0}, \"hovertemplate\": \"dance=walzer<br>major=%{x}<br>minor=%{y}\", \"legendgroup\": \"dance=walzer\", \"marker\": {\"color\": \"#ab63fa\", \"symbol\": \"circle\"}, \"mode\": \"markers\", \"name\": \"dance=walzer\", \"showlegend\": true, \"type\": \"scatter\", \"x\": [0.6440893804730612, 0.9101546947494579, 0.7183900575686415, 0.5520828485274398, 0.27118019791869546, 0.4430529403483363, 0.9058115968049769, 0.4482790914845825, 0.8481884726155746, 0.4181545443442719, 0.8857100785461274, 0.5236157290770527, 0.8708986915109078, 0.7553069558597482, 0.793109676762467, 0.7858153171119768, 0.7194100780119327, 0.4647454610134685, 0.6497680422364198, 0.8503879384371739, 0.7942333336006174, 0.43123479231595513, 0.7684498195618548, 0.30615766679558415, 0.9652740837807514, 0.8976949664605398, 0.6943833476654513, 0.8132212878806183, 0.797046016793501, 0.6587896583753408, 0.6926942418866691, 0.7411138968760563, 0.6861990712014543, 0.7621875172357848, 0.8371516060760373, 0.6699462245481193, 0.9268951300011311, 0.7421715640907587, 0.9151639245870246, 0.8096350361372575, 0.7787468419992692, 0.6767925215653594, 0.8091563108280297, 0.924446748270715, 0.8016197179951077, 0.7314568211328376, 0.7593308769452298, 0.8356727179421592, 0.8742056056729145, 0.935844307324392, 0.8721133513415096, 0.746984301441737, 0.8602085467887749, 0.9007345440804067, 0.8170713650703303, 0.917902382931389, 0.8395250004749565, 0.8402391048865885, 0.31365306052877723, 0.8497901405223965, 0.7994476340305596, 0.7968376956245826, 0.6151980818421076, 0.9070204405472918, 0.8802548369814793, 0.8585041531270217, 0.9032217671804541, 0.8923359691253232, 0.5817090069029686, 0.8815480699125496, 0.8531550140543549, 0.9182176671446445, 0.7894395246648587, 0.8576753648358209, 0.8883390664392824, 0.24072924584365782, 0.6920783658747602, 0.7904701165590944, 0.865296515660761, 0.9254188366267289, 0.8435590377597921, 0.876528112635615, 0.8710479304331555, 0.8735067520096298, 0.43123479231595513, 0.9386145109340174, 0.927302274147728, 0.8593596798864069, 0.7488138456056977, 0.7850024435960434, 0.8739120291012034, 0.7139747475718368, 0.20386091301902964, 0.8810949493449133, 0.7482928874535228, 0.9166500511714917, 0.7169875041031106, 0.842697135855791, 0.8930963535160774, 0.29351227290852444, 0.7827775970566779, 0.8458435665230742, 0.8381225856820353, 0.9069094158073724, 0.9573350912005576, 0.8710105207046359, 0.3057561008793867, 0.9128965624821297, 0.954902163389393, 0.3580808659993604, 0.6504458215016796, 0.8795892272990781, 0.05590596119787658, 0.82279470072282, 0.9234451166722375, 0.697431228641235, 0.8693632330586837, 0.43123479231595513, 0.8540122018104981, 0.721234730026231, 0.7572600053725898, 0.9636151132819889, 0.83854758195593, 0.6984411219952029, 0.43403517877953196, 0.8871213014485729, 0.8579074316307665, 0.8116878844423361, 0.8334324318026497, 0.2206784542250201, 0.9117473862595278, 0.25117905847732874], \"xaxis\": \"x\", \"y\": [0.20878624616556582, 0.4657054448946942, 0.6058209895267899, 0.619685856130709, 0.8490573888814251, 0.7427359358701586, 0.20534441088397173, 0.8644181209205027, 0.5982762089970963, 0.7961745236838412, 0.34858353117163565, -0.1026409861720493, 0.40784519334148783, 0.3468317036014891, 0.02909372199526644, 0.2961797117978643, 0.12366394989636752, -0.1692569838224974, 0.8528864552815153, 0.11604344490425461, 0.2956312384298398, -0.3482186682881229, 0.02952614509671897, 0.8440353728539142, 0.5563198996442763, 0.32182418174642224, 0.7102787470433796, 0.7440648300662893, 0.20431054644560745, 0.64100146381762, 0.5310355915712348, 0.22135517436557295, -0.11703720713697546, 0.23859508428418938, 0.17675936869705042, -0.11038130447561234, 0.3189211070957634, 0.28332692874738374, 0.3732788160057552, 0.1049180486014728, 0.04278770842059104, 0.027803343076008985, 0.13254338136600613, 0.2748757279424157, 0.2220249203835265, -0.0020437419308114158, -0.047670689833708174, 0.12412439286699983, 0.10288778654956449, 0.16089927923915587, 0.09537219332429117, -0.007694486155211927, 0.10843727053237823, 0.062120445071350394, 0.008053611059609223, 0.16325565663734165, 0.17122951990152094, 0.0932394602618723, 0.8061137860154619, 0.05396433499662978, 0.12273551405466265, 0.32449029607012553, 0.2574329772377771, 0.16139403966542643, 0.13532244647795227, 0.30648654806216846, 0.1670301266260485, 0.1765634023784323, 0.7526748377116874, 0.23903512599725313, 0.10480004355370093, 0.2949862053961171, 0.516030688990012, 0.08288020422514891, 0.4036036026718135, 0.6699609911994377, 0.5686153190401442, 0.02113208682725387, 0.06389943515185964, 0.27330609393718974, 0.07948810393263683, 0.3138425284451051, 0.2510345355356661, 0.5342612797632743, -0.3482186682881229, 0.35219454842170334, 0.24240813678096879, 0.09602187643223875, 0.1147916924705511, 0.07056326185890768, 0.16061578632900808, 0.3757125682624658, 0.8828667993912976, 0.22597091024468902, -0.009121517909650628, 0.3215348943060899, 0.2431114523292652, 0.04357745226862017, 0.25869995592759626, 0.9043119439001496, 0.19956928662519086, 0.11875996122854493, 0.10559058069827187, 0.5525215504051847, 0.4688126873605671, 0.43280395696002777, 0.726901166151076, 0.3310703323977734, 0.39861295293256005, 0.9039357761619611, 0.7919300829737025, 0.11222695315982584, 0.6366750261701302, 0.2536981925760804, 0.5192774451130717, 0.02013240876764627, 0.20521077112109617, -0.3482186682881229, 0.37691995976333564, 0.29625554361697937, 0.5446273962168513, 0.4897426642869928, 0.05006524085795866, 0.005926052407009608, 0.9106431653383944, 0.5453718960089988, 0.41882201582895917, 0.03389218977232061, 0.04220475659373363, 0.4762181748492387, 0.18893826010639808, 0.8726324710348085], \"yaxis\": \"y\"}, {\"hoverlabel\": {\"namelength\": 0}, \"hovertemplate\": \"dance=l\\u00e4ndler<br>major=%{x}<br>minor=%{y}\", \"legendgroup\": \"dance=l\\u00e4ndler\", \"marker\": {\"color\": \"#FFA15A\", \"symbol\": \"circle\"}, \"mode\": \"markers\", \"name\": \"dance=l\\u00e4ndler\", \"showlegend\": true, \"type\": \"scatter\", \"x\": [0.9310418662011759, 0.8759685382166088, 0.8364464161298937, 0.7838330084190975, 0.8876489227149067, 0.7734955892187356, 0.8426479204597233, 0.25416638267798186, 0.7938046486291177, 0.8214088895224017, 0.8646788126778518, 0.8360708901904723, 0.934591992791185, 0.9009851265939632, 0.9071272861215018, 0.882132082990858, 0.9110268186986226, 0.9334145543027021, 0.855301583299803, 0.578222198244182, 0.29417482923522853, 0.6103728352312368, 0.931415191232734, 0.8431003375546402, 0.7636298495976774, 0.7565665056038506, 0.12272870129904337, 0.43123479231595513, 0.567030173750623, 0.6636184923565203, 0.7694542423107658, 0.5862443658688374, 0.6589643842485426, 0.8045721631527099, 0.8615973249550243, 0.8654653221256748, 0.8952522793091374, 0.7930062606366772, 0.9265286578932277, 0.8780535390052749, 0.8863517388734022, 0.9330113309839155, 0.891358034858618, 0.9725451034062516, 0.656522105422085, 0.8889932226304946, 0.8918933740995139, 0.7533702787445948, 0.5908999301308846, 0.6854552230157581, 0.8591825782823683, 0.886356983754699, 0.9447294899406192, 0.9487903215026833, 0.9266873347901843, 0.8420206225894586, 0.8773457441249395, 0.8526503410008253, 0.8422642852028362, 0.6513781016070805, 0.8787050181370103, 0.8944507476923889, 0.7673984823986076, 0.4423750719259727, 0.8640653749498342, 0.9409708477979617, 0.8511888811985884, 0.6246263434862656, 0.8372967898999426, 0.5045317963898185, 0.24420293333750587, 0.8666343624662326, 0.16849506088143887, 0.6371737683917067, 0.8722812455877168, 0.6647414764836439, 0.7639790968201912, 0.8217349951428545], \"xaxis\": \"x\", \"y\": [0.31982458070169834, 0.1320571329110443, 0.06526089763328685, 0.09331320683202526, 0.44247342337859064, -0.01994209549368592, 0.08498028724556903, 0.8732632367522339, 0.0775887100950497, 0.0647035374087025, 0.22539202247109727, 0.12965105565917445, 0.3557388834044911, 0.2194885640275534, 0.18818219148279963, 0.12531476149320203, 0.21513981573671906, 0.43617574069375153, 0.09675987132320324, 0.8608550679245042, 0.8275163213035523, 0.6148083622559226, 0.3998013713563038, 0.07913076942559749, 0.03655752334690998, -0.02239634257925155, 0.8137038317523346, -0.3482186682881229, 0.6146930453317192, 0.3157522034647203, 0.0392940779515249, -0.13964577533598596, -0.1301378678199166, 0.264033125044397, 0.08691470265595147, 0.16113338690124984, 0.30983337383676224, 0.049440029716583955, 0.5572597300746823, 0.20206652275107764, 0.1489095871148678, 0.3497550642936572, 0.23429568195536948, 0.2650840825120955, 0.16051363841653865, 0.2696623151945034, 0.22076038704563872, 0.14004821323168906, -0.20167477089702163, -0.017635241805923102, 0.1515759171916115, 0.2198594616515723, 0.36181840889255934, 0.4727310217607553, 0.2004821598930142, 0.38769838012595226, 0.2842804361664595, 0.08374466018380045, 0.11057663573305052, -0.09199741793424715, 0.4255516873660388, 0.16333314300877044, 0.4334001156426538, -0.043526511299134624, 0.34860264539704955, 0.5422995683087216, 0.20547272264260874, -0.007529862081568195, 0.583439411467277, 0.8084875739173465, 0.6889811588599484, 0.41339167547129885, 0.7922967951410098, -0.11915185711883602, 0.42127071729281806, 0.08500779142582163, -0.060026446087606766, 0.08703457168195616], \"yaxis\": \"y\"}, {\"hoverlabel\": {\"namelength\": 0}, \"hovertemplate\": \"dance=ecossaise<br>major=%{x}<br>minor=%{y}\", \"legendgroup\": \"dance=ecossaise\", \"marker\": {\"color\": \"#19d3f3\", \"symbol\": \"circle\"}, \"mode\": \"markers\", \"name\": \"dance=ecossaise\", \"showlegend\": true, \"type\": \"scatter\", \"x\": [0.7724492966284047, 0.8537656927609241, 0.2432819013639539, 0.8941015238569348, 0.8984801815717804, 0.835355796097343, 0.9480918817230681, 0.3170302891466167, 0.9154771162435411, 0.46591408367117904, 0.7841452417693724, 0.8540043899998073, 0.7492103188476575, 0.902942393216534, 0.9368390212110557, 0.9478993650602603, 0.9531830246417694, 0.9014544396337655, 0.7474629728480966, 0.9378838061443855, 0.9145442260074385, 0.6018320209649907, 0.9260298246031826, 0.8272539828512996, 0.8736413441536015, 0.8618231374818344, 0.8678057937190076, 0.8793781116157812, 0.912611091853504, 0.8720390560741154, 0.8846633606364691, 0.7795844966823775, 0.8945485307540846, 0.8924154090451807, 0.8188059940175345, 0.9013537981931259, 0.8543049457099945, 0.8566107881445488, 0.8977774803387295, 0.9091623342856566, 0.5854794596109515, 0.9408362644547827, 0.8906256903717373, 0.6495867756792022, 0.8214332149849839, 0.6623930942651601, 0.9087943042524002, 0.8948930216591302, 0.9210443460607327, 0.8174677902414258, 0.9096640650683521, 0.9164201459634166, 0.8013009323779486, 0.9403275808658653, 0.6037855913925356, 0.17142197766721076, 0.25274406085451073, 0.8958162134128083, 0.5518925095706356, 0.3405789953549248, 0.5906456495809809, 0.9083300998611498, 0.3082958289547358, 0.8350155443750266, 0.7971170982121901, 0.9223993213180794, 0.6776648390327069, 0.768448629454144, 0.8434935671119391, 0.926987413959862, 0.9246550747255226, 0.6422456076884634, 0.8867524413416124, 0.2607663520646209], \"xaxis\": \"x\", \"y\": [-0.018526143529809247, 0.07170700265907032, 0.8228736225731883, 0.3263973778570833, 0.1609283584181419, 0.026230010418450356, 0.22239201627366023, 0.9052110992315521, 0.2989127093886226, 0.5522731814361154, 0.3886170179594922, 0.49668712011068733, 0.01694291986023555, 0.441366373998995, 0.2855299659479533, 0.42414026406405747, 0.3666901649150178, 0.24810937868072533, -0.03558013205841276, 0.4318862049779311, 0.32860456715699315, 0.8733489601001283, 0.6618122786027714, 0.36744605940559577, 0.5785445994646194, 0.24482626550329856, 0.21870881232595368, 0.19592140100089947, 0.4778765627611546, 0.10546817727388588, 0.12833658186653502, 0.18136413710680005, 0.27725744644709843, 0.210703777460381, 0.5191025424598972, 0.25514030953805467, 0.09505171040633997, 0.10310932796059236, 0.18528646199810694, 0.22275587534879798, 0.817811295170849, 0.28639968106153696, 0.3830352671623623, 0.6982563505083392, 0.06777940020439249, 0.08956877424548426, 0.32011714666766333, 0.22520837402979055, 0.340266114862135, 0.14023134399435863, 0.14923490476798512, 0.27634696170982576, 0.624744300726434, 0.28607690986057677, 0.53761976814721, 0.6659999256938025, 0.8865913042364393, 0.2410415064805435, 0.17864496963173052, 0.9276587117047328, 0.728634560264908, 0.40935759010780925, 0.5576921743782673, 0.1650219036836697, 0.2996221750450523, 0.23439087387297375, 0.7447468504231658, 0.17425989231106098, 0.3128479516163527, 0.3805014305879244, 0.31487918400743775, -0.04296133559029375, 0.2236506373300263, 0.6249194588871463], \"yaxis\": \"y\"}, {\"hoverlabel\": {\"namelength\": 0}, \"hovertemplate\": \"dance=galopp<br>major=%{x}<br>minor=%{y}\", \"legendgroup\": \"dance=galopp\", \"marker\": {\"color\": \"#FF6692\", \"symbol\": \"circle\"}, \"mode\": \"markers\", \"name\": \"dance=galopp\", \"showlegend\": true, \"type\": \"scatter\", \"x\": [0.8790962325863106, 0.8231871047149939], \"xaxis\": \"x\", \"y\": [0.2906953663427274, 0.11282101739004805], \"yaxis\": \"y\"}, {\"hoverlabel\": {\"namelength\": 0}, \"hovertemplate\": \"dance=cotillon<br>major=%{x}<br>minor=%{y}\", \"legendgroup\": \"dance=cotillon\", \"marker\": {\"color\": \"#B6E880\", \"symbol\": \"circle\"}, \"mode\": \"markers\", \"name\": \"dance=cotillon\", \"showlegend\": true, \"type\": \"scatter\", \"x\": [0.8976082951746882], \"xaxis\": \"x\", \"y\": [0.4603977246468637], \"yaxis\": \"y\"}],\n",
       "                        {\"height\": 600, \"legend\": {\"tracegroupgap\": 0}, \"margin\": {\"t\": 60}, \"template\": {\"data\": {\"bar\": [{\"error_x\": {\"color\": \"#2a3f5f\"}, \"error_y\": {\"color\": \"#2a3f5f\"}, \"marker\": {\"line\": {\"color\": \"#E5ECF6\", \"width\": 0.5}}, \"type\": \"bar\"}], \"barpolar\": [{\"marker\": {\"line\": {\"color\": \"#E5ECF6\", \"width\": 0.5}}, \"type\": \"barpolar\"}], \"carpet\": [{\"aaxis\": {\"endlinecolor\": \"#2a3f5f\", \"gridcolor\": \"white\", \"linecolor\": \"white\", \"minorgridcolor\": \"white\", \"startlinecolor\": \"#2a3f5f\"}, \"baxis\": {\"endlinecolor\": \"#2a3f5f\", \"gridcolor\": \"white\", \"linecolor\": \"white\", \"minorgridcolor\": \"white\", \"startlinecolor\": \"#2a3f5f\"}, \"type\": \"carpet\"}], \"choropleth\": [{\"colorbar\": {\"outlinewidth\": 0, \"ticks\": \"\"}, \"type\": \"choropleth\"}], \"contour\": [{\"colorbar\": {\"outlinewidth\": 0, \"ticks\": \"\"}, \"colorscale\": [[0.0, \"#0d0887\"], [0.1111111111111111, \"#46039f\"], [0.2222222222222222, \"#7201a8\"], [0.3333333333333333, \"#9c179e\"], [0.4444444444444444, \"#bd3786\"], [0.5555555555555556, \"#d8576b\"], [0.6666666666666666, \"#ed7953\"], [0.7777777777777778, \"#fb9f3a\"], [0.8888888888888888, \"#fdca26\"], [1.0, \"#f0f921\"]], \"type\": \"contour\"}], \"contourcarpet\": [{\"colorbar\": {\"outlinewidth\": 0, \"ticks\": \"\"}, \"type\": \"contourcarpet\"}], \"heatmap\": [{\"colorbar\": {\"outlinewidth\": 0, \"ticks\": \"\"}, \"colorscale\": [[0.0, \"#0d0887\"], [0.1111111111111111, \"#46039f\"], [0.2222222222222222, \"#7201a8\"], [0.3333333333333333, \"#9c179e\"], [0.4444444444444444, \"#bd3786\"], [0.5555555555555556, \"#d8576b\"], [0.6666666666666666, \"#ed7953\"], [0.7777777777777778, \"#fb9f3a\"], [0.8888888888888888, \"#fdca26\"], [1.0, \"#f0f921\"]], \"type\": \"heatmap\"}], \"heatmapgl\": [{\"colorbar\": {\"outlinewidth\": 0, \"ticks\": \"\"}, \"colorscale\": [[0.0, \"#0d0887\"], [0.1111111111111111, \"#46039f\"], [0.2222222222222222, \"#7201a8\"], [0.3333333333333333, \"#9c179e\"], [0.4444444444444444, \"#bd3786\"], [0.5555555555555556, \"#d8576b\"], [0.6666666666666666, \"#ed7953\"], [0.7777777777777778, \"#fb9f3a\"], [0.8888888888888888, \"#fdca26\"], [1.0, \"#f0f921\"]], \"type\": \"heatmapgl\"}], \"histogram\": [{\"marker\": {\"colorbar\": {\"outlinewidth\": 0, \"ticks\": \"\"}}, \"type\": \"histogram\"}], \"histogram2d\": [{\"colorbar\": {\"outlinewidth\": 0, \"ticks\": \"\"}, \"colorscale\": [[0.0, \"#0d0887\"], [0.1111111111111111, \"#46039f\"], [0.2222222222222222, \"#7201a8\"], [0.3333333333333333, \"#9c179e\"], [0.4444444444444444, \"#bd3786\"], [0.5555555555555556, \"#d8576b\"], [0.6666666666666666, \"#ed7953\"], [0.7777777777777778, \"#fb9f3a\"], [0.8888888888888888, \"#fdca26\"], [1.0, \"#f0f921\"]], \"type\": \"histogram2d\"}], \"histogram2dcontour\": [{\"colorbar\": {\"outlinewidth\": 0, \"ticks\": \"\"}, \"colorscale\": [[0.0, \"#0d0887\"], [0.1111111111111111, \"#46039f\"], [0.2222222222222222, \"#7201a8\"], [0.3333333333333333, \"#9c179e\"], [0.4444444444444444, \"#bd3786\"], [0.5555555555555556, \"#d8576b\"], [0.6666666666666666, \"#ed7953\"], [0.7777777777777778, \"#fb9f3a\"], [0.8888888888888888, \"#fdca26\"], [1.0, \"#f0f921\"]], \"type\": \"histogram2dcontour\"}], \"mesh3d\": [{\"colorbar\": {\"outlinewidth\": 0, \"ticks\": \"\"}, \"type\": \"mesh3d\"}], \"parcoords\": [{\"line\": {\"colorbar\": {\"outlinewidth\": 0, \"ticks\": \"\"}}, \"type\": \"parcoords\"}], \"pie\": [{\"automargin\": true, \"type\": \"pie\"}], \"scatter\": [{\"marker\": {\"colorbar\": {\"outlinewidth\": 0, \"ticks\": \"\"}}, \"type\": \"scatter\"}], \"scatter3d\": [{\"line\": {\"colorbar\": {\"outlinewidth\": 0, \"ticks\": \"\"}}, \"marker\": {\"colorbar\": {\"outlinewidth\": 0, \"ticks\": \"\"}}, \"type\": \"scatter3d\"}], \"scattercarpet\": [{\"marker\": {\"colorbar\": {\"outlinewidth\": 0, \"ticks\": \"\"}}, \"type\": \"scattercarpet\"}], \"scattergeo\": [{\"marker\": {\"colorbar\": {\"outlinewidth\": 0, \"ticks\": \"\"}}, \"type\": \"scattergeo\"}], \"scattergl\": [{\"marker\": {\"colorbar\": {\"outlinewidth\": 0, \"ticks\": \"\"}}, \"type\": \"scattergl\"}], \"scattermapbox\": [{\"marker\": {\"colorbar\": {\"outlinewidth\": 0, \"ticks\": \"\"}}, \"type\": \"scattermapbox\"}], \"scatterpolar\": [{\"marker\": {\"colorbar\": {\"outlinewidth\": 0, \"ticks\": \"\"}}, \"type\": \"scatterpolar\"}], \"scatterpolargl\": [{\"marker\": {\"colorbar\": {\"outlinewidth\": 0, \"ticks\": \"\"}}, \"type\": \"scatterpolargl\"}], \"scatterternary\": [{\"marker\": {\"colorbar\": {\"outlinewidth\": 0, \"ticks\": \"\"}}, \"type\": \"scatterternary\"}], \"surface\": [{\"colorbar\": {\"outlinewidth\": 0, \"ticks\": \"\"}, \"colorscale\": [[0.0, \"#0d0887\"], [0.1111111111111111, \"#46039f\"], [0.2222222222222222, \"#7201a8\"], [0.3333333333333333, \"#9c179e\"], [0.4444444444444444, \"#bd3786\"], [0.5555555555555556, \"#d8576b\"], [0.6666666666666666, \"#ed7953\"], [0.7777777777777778, \"#fb9f3a\"], [0.8888888888888888, \"#fdca26\"], [1.0, \"#f0f921\"]], \"type\": \"surface\"}], \"table\": [{\"cells\": {\"fill\": {\"color\": \"#EBF0F8\"}, \"line\": {\"color\": \"white\"}}, \"header\": {\"fill\": {\"color\": \"#C8D4E3\"}, \"line\": {\"color\": \"white\"}}, \"type\": \"table\"}]}, \"layout\": {\"annotationdefaults\": {\"arrowcolor\": \"#2a3f5f\", \"arrowhead\": 0, \"arrowwidth\": 1}, \"coloraxis\": {\"colorbar\": {\"outlinewidth\": 0, \"ticks\": \"\"}}, \"colorscale\": {\"diverging\": [[0, \"#8e0152\"], [0.1, \"#c51b7d\"], [0.2, \"#de77ae\"], [0.3, \"#f1b6da\"], [0.4, \"#fde0ef\"], [0.5, \"#f7f7f7\"], [0.6, \"#e6f5d0\"], [0.7, \"#b8e186\"], [0.8, \"#7fbc41\"], [0.9, \"#4d9221\"], [1, \"#276419\"]], \"sequential\": [[0.0, \"#0d0887\"], [0.1111111111111111, \"#46039f\"], [0.2222222222222222, \"#7201a8\"], [0.3333333333333333, \"#9c179e\"], [0.4444444444444444, \"#bd3786\"], [0.5555555555555556, \"#d8576b\"], [0.6666666666666666, \"#ed7953\"], [0.7777777777777778, \"#fb9f3a\"], [0.8888888888888888, \"#fdca26\"], [1.0, \"#f0f921\"]], \"sequentialminus\": [[0.0, \"#0d0887\"], [0.1111111111111111, \"#46039f\"], [0.2222222222222222, \"#7201a8\"], [0.3333333333333333, \"#9c179e\"], [0.4444444444444444, \"#bd3786\"], [0.5555555555555556, \"#d8576b\"], [0.6666666666666666, \"#ed7953\"], [0.7777777777777778, \"#fb9f3a\"], [0.8888888888888888, \"#fdca26\"], [1.0, \"#f0f921\"]]}, \"colorway\": [\"#636efa\", \"#EF553B\", \"#00cc96\", \"#ab63fa\", \"#FFA15A\", \"#19d3f3\", \"#FF6692\", \"#B6E880\", \"#FF97FF\", \"#FECB52\"], \"font\": {\"color\": \"#2a3f5f\"}, \"geo\": {\"bgcolor\": \"white\", \"lakecolor\": \"white\", \"landcolor\": \"#E5ECF6\", \"showlakes\": true, \"showland\": true, \"subunitcolor\": \"white\"}, \"hoverlabel\": {\"align\": \"left\"}, \"hovermode\": \"closest\", \"mapbox\": {\"style\": \"light\"}, \"paper_bgcolor\": \"white\", \"plot_bgcolor\": \"#E5ECF6\", \"polar\": {\"angularaxis\": {\"gridcolor\": \"white\", \"linecolor\": \"white\", \"ticks\": \"\"}, \"bgcolor\": \"#E5ECF6\", \"radialaxis\": {\"gridcolor\": \"white\", \"linecolor\": \"white\", \"ticks\": \"\"}}, \"scene\": {\"xaxis\": {\"backgroundcolor\": \"#E5ECF6\", \"gridcolor\": \"white\", \"gridwidth\": 2, \"linecolor\": \"white\", \"showbackground\": true, \"ticks\": \"\", \"zerolinecolor\": \"white\"}, \"yaxis\": {\"backgroundcolor\": \"#E5ECF6\", \"gridcolor\": \"white\", \"gridwidth\": 2, \"linecolor\": \"white\", \"showbackground\": true, \"ticks\": \"\", \"zerolinecolor\": \"white\"}, \"zaxis\": {\"backgroundcolor\": \"#E5ECF6\", \"gridcolor\": \"white\", \"gridwidth\": 2, \"linecolor\": \"white\", \"showbackground\": true, \"ticks\": \"\", \"zerolinecolor\": \"white\"}}, \"shapedefaults\": {\"line\": {\"color\": \"#2a3f5f\"}}, \"ternary\": {\"aaxis\": {\"gridcolor\": \"white\", \"linecolor\": \"white\", \"ticks\": \"\"}, \"baxis\": {\"gridcolor\": \"white\", \"linecolor\": \"white\", \"ticks\": \"\"}, \"bgcolor\": \"#E5ECF6\", \"caxis\": {\"gridcolor\": \"white\", \"linecolor\": \"white\", \"ticks\": \"\"}}, \"title\": {\"x\": 0.05}, \"xaxis\": {\"automargin\": true, \"gridcolor\": \"white\", \"linecolor\": \"white\", \"ticks\": \"\", \"title\": {\"standoff\": 15}, \"zerolinecolor\": \"white\", \"zerolinewidth\": 2}, \"yaxis\": {\"automargin\": true, \"gridcolor\": \"white\", \"linecolor\": \"white\", \"ticks\": \"\", \"title\": {\"standoff\": 15}, \"zerolinecolor\": \"white\", \"zerolinewidth\": 2}}}, \"xaxis\": {\"anchor\": \"y\", \"domain\": [0.0, 1.0], \"title\": {\"text\": \"major\"}}, \"yaxis\": {\"anchor\": \"x\", \"domain\": [0.0, 1.0], \"title\": {\"text\": \"minor\"}}},\n",
       "                        {\"responsive\": true}\n",
       "                    ).then(function(){\n",
       "                            \n",
       "var gd = document.getElementById('de7402be-2a19-4bf7-83e6-f450bb79efdd');\n",
       "var x = new MutationObserver(function (mutations, observer) {{\n",
       "        var display = window.getComputedStyle(gd).display;\n",
       "        if (!display || display === 'none') {{\n",
       "            console.log([gd, 'removed!']);\n",
       "            Plotly.purge(gd);\n",
       "            observer.disconnect();\n",
       "        }}\n",
       "}});\n",
       "\n",
       "// Listen for the removal of the full notebook cells\n",
       "var notebookContainer = gd.closest('#notebook-container');\n",
       "if (notebookContainer) {{\n",
       "    x.observe(notebookContainer, {childList: true});\n",
       "}}\n",
       "\n",
       "// Listen for the clearing of the current output cell\n",
       "var outputEl = gd.closest('.output');\n",
       "if (outputEl) {{\n",
       "    x.observe(outputEl, {childList: true});\n",
       "}}\n",
       "\n",
       "                        })\n",
       "                };\n",
       "                });\n",
       "            </script>\n",
       "        </div>"
      ]
     },
     "metadata": {},
     "output_type": "display_data"
    }
   ],
   "source": [
    "all_corr = files.merge(key_corr_A, left_index = True, right_index = True)\n",
    "px.scatter(all_corr, x = 'major', y = 'minor', color = 'dance')"
   ]
  },
  {
   "cell_type": "code",
   "execution_count": 56,
   "metadata": {},
   "outputs": [
    {
     "data": {
      "application/vnd.plotly.v1+json": {
       "config": {
        "plotlyServerURL": "https://plot.ly"
       },
       "data": [
        {
         "hoverlabel": {
          "namelength": 0
         },
         "hovertemplate": "gt_mode=major<br>major=%{x}<br>minor=%{y}",
         "legendgroup": "gt_mode=major",
         "marker": {
          "color": "#636efa",
          "symbol": "circle"
         },
         "mode": "markers",
         "name": "gt_mode=major",
         "showlegend": true,
         "type": "scatter",
         "x": [
          0.8207972980220555,
          0.790240973660125,
          0.9079654856001922,
          0.5419773214163084,
          0.9176111600754956,
          0.9109401055748021,
          0.8328806553444592,
          0.9069530118887316,
          0.9270863520697097,
          0.6199061978084154,
          0.8400797622363756,
          0.8489655225255782,
          0.8075420086113754,
          0.8417953169947824,
          0.8461262818125667,
          0.8491638916382442,
          0.8695429706438508,
          0.7303992431878297,
          0.7903720782169069,
          0.916744347281714,
          0.9261327417053864,
          0.721215764651099,
          0.7669305042853196,
          0.7836839226480539,
          0.8273486105817075,
          0.7093195900822011,
          0.9242976868385244,
          0.8464834099430194,
          0.7549613488862846,
          0.6307379271203661,
          0.7597052386277912,
          0.6741382139070993,
          0.7173698432223571,
          0.6480905916915303,
          0.8572242936027941,
          0.7501679464358135,
          0.8033129634145662,
          0.8404658735801976,
          0.915025814591951,
          0.9467801159809195,
          0.6207516525474026,
          0.9169335862646248,
          0.9219154733853785,
          0.9402624549513166,
          0.8963698884569248,
          0.9048708448802895,
          0.8524348227571585,
          0.9065464811571441,
          0.9067742885516609,
          0.9513223497226696,
          0.9446603878671918,
          0.8976348825338288,
          0.7659402291385216,
          0.8362437660015885,
          0.6440893804730612,
          0.9101546947494579,
          0.9058115968049769,
          0.8857100785461274,
          0.5236157290770527,
          0.9310418662011759,
          0.8759685382166088,
          0.8364464161298937,
          0.7838330084190975,
          0.8876489227149067,
          0.7734955892187356,
          0.8426479204597233,
          0.7938046486291177,
          0.8214088895224017,
          0.8646788126778518,
          0.8360708901904723,
          0.934591992791185,
          0.9009851265939632,
          0.9071272861215018,
          0.882132082990858,
          0.9110268186986226,
          0.7724492966284047,
          0.8537656927609241,
          0.8941015238569348,
          0.8984801815717804,
          0.835355796097343,
          0.9480918817230681,
          0.9154771162435411,
          0.8708986915109078,
          0.8805882054162543,
          0.7553069558597482,
          0.793109676762467,
          0.43123479231595513,
          0.8795915971807882,
          0.7858153171119768,
          0.922372996986131,
          0.7194100780119327,
          0.9146324999572443,
          0.4647454610134685,
          0.7842552613954143,
          0.8859579429426125,
          0.8503879384371739,
          0.8515315146365823,
          0.7942333336006174,
          0.901354335175613,
          0.43123479231595513,
          0.740487549684391,
          0.7684498195618548,
          0.851004394751246,
          0.9652740837807514,
          0.8976949664605398,
          0.8132212878806183,
          0.797046016793501,
          0.6587896583753408,
          0.6926942418866691,
          0.7411138968760563,
          0.8872275969707697,
          0.7841452417693724,
          0.8540043899998073,
          0.7492103188476575,
          0.902942393216534,
          0.9368390212110557,
          0.9478993650602603,
          0.9531830246417694,
          0.9014544396337655,
          0.7474629728480966,
          0.9378838061443855,
          0.9145442260074385,
          0.8148392982274775,
          0.7435560559650365,
          0.92984517880828,
          0.8569978972689744,
          0.8948439803587751,
          0.7939541796845854,
          0.804671224007528,
          0.6861990712014543,
          0.7621875172357848,
          0.8371516060760373,
          0.6699462245481193,
          0.9268951300011311,
          0.7421715640907587,
          0.9151639245870246,
          0.8096350361372575,
          0.7787468419992692,
          0.6767925215653594,
          0.8091563108280297,
          0.924446748270715,
          0.8016197179951077,
          0.7314568211328376,
          0.7593308769452298,
          0.8356727179421592,
          0.8742056056729145,
          0.935844307324392,
          0.8721133513415096,
          0.746984301441737,
          0.8602085467887749,
          0.9007345440804067,
          0.8170713650703303,
          0.917902382931389,
          0.8395250004749565,
          0.8402391048865885,
          0.8497901405223965,
          0.7994476340305596,
          0.7968376956245826,
          0.6151980818421076,
          0.9070204405472918,
          0.8802548369814793,
          0.8585041531270217,
          0.9032217671804541,
          0.8923359691253232,
          0.9334145543027021,
          0.855301583299803,
          0.931415191232734,
          0.8431003375546402,
          0.7636298495976774,
          0.43123479231595513,
          0.7694542423107658,
          0.5862443658688374,
          0.6589643842485426,
          0.8045721631527099,
          0.8615973249550243,
          0.8654653221256748,
          0.8952522793091374,
          0.7930062606366772,
          0.9265286578932277,
          0.8780535390052749,
          0.8863517388734022,
          0.9330113309839155,
          0.7962045127225502,
          0.5128630297771848,
          0.6455361655006635,
          0.8161337160691613,
          0.7018500861122507,
          0.914074594068353,
          0.8781603665786994,
          0.8444767764997334,
          0.8267217340357464,
          0.7243330724427574,
          0.7690896226042561,
          0.8742868353188548,
          0.6806019423888425,
          0.8602171674601538,
          0.848248536936258,
          0.9271820618579545,
          0.806546691502891,
          0.7475913735454975,
          0.88212114758662,
          0.9260298246031826,
          0.8272539828512996,
          0.8736413441536015,
          0.8618231374818344,
          0.8678057937190076,
          0.8793781116157812,
          0.912611091853504,
          0.8720390560741154,
          0.8846633606364691,
          0.7795844966823775,
          0.8945485307540846,
          0.8924154090451807,
          0.8004075614985321,
          0.8188059940175345,
          0.891358034858618,
          0.9725451034062516,
          0.656522105422085,
          0.8889932226304946,
          0.8918933740995139,
          0.7533702787445948,
          0.5908999301308846,
          0.6854552230157581,
          0.9013537981931259,
          0.8543049457099945,
          0.8566107881445488,
          0.8977774803387295,
          0.9091623342856566,
          0.9346352194615217,
          0.8591825782823683,
          0.886356983754699,
          0.9447294899406192,
          0.9487903215026833,
          0.9266873347901843,
          0.8420206225894586,
          0.8773457441249395,
          0.8526503410008253,
          0.8422642852028362,
          0.6513781016070805,
          0.8787050181370103,
          0.8944507476923889,
          0.7673984823986076,
          0.4423750719259727,
          0.8640653749498342,
          0.9409708477979617,
          0.9408362644547827,
          0.8790962325863106,
          0.8358933802471776,
          0.8906256903717373,
          0.8214332149849839,
          0.6623930942651601,
          0.9087943042524002,
          0.8948930216591302,
          0.9210443460607327,
          0.8174677902414258,
          0.8459047972677619,
          0.7926699440813331,
          0.8815480699125496,
          0.8531550140543549,
          0.9182176671446445,
          0.7894395246648587,
          0.8576753648358209,
          0.8883390664392824,
          0.6920783658747602,
          0.7904701165590944,
          0.865296515660761,
          0.9254188366267289,
          0.8435590377597921,
          0.876528112635615,
          0.8710479304331555,
          0.8735067520096298,
          0.43123479231595513,
          0.9386145109340174,
          0.927302274147728,
          0.8593596798864069,
          0.7488138456056977,
          0.7850024435960434,
          0.8739120291012034,
          0.8810949493449133,
          0.7482928874535228,
          0.9166500511714917,
          0.7169875041031106,
          0.842697135855791,
          0.8930963535160774,
          0.7827775970566779,
          0.8458435665230742,
          0.8381225856820353,
          0.9096640650683521,
          0.9164201459634166,
          0.8013009323779486,
          0.9403275808658653,
          0.6037855913925356,
          0.8958162134128083,
          0.5518925095706356,
          0.9083300998611498,
          0.47533347519771074,
          0.852370731944642,
          0.8056336311145462,
          0.8842289769607229,
          0.7859798058702769,
          0.7734731570775302,
          0.8375691417490325,
          0.092299597917662,
          0.43123479231595513,
          0.9220189783878902,
          0.7510606905401425,
          0.8511888811985884,
          0.6246263434862656,
          0.8372967898999426,
          0.8666343624662326,
          0.6371737683917067,
          0.8722812455877168,
          0.6647414764836439,
          0.7639790968201912,
          0.7971170982121901,
          0.9223993213180794,
          0.6776648390327069,
          0.9073964413277711,
          0.8835345231577325,
          0.9322767674457559,
          0.7473768742496228,
          0.8250397309312123,
          0.43123479231595513,
          0.8820873016665784,
          0.6826475051130533,
          0.9069094158073724,
          0.9573350912005576,
          0.8710105207046359,
          0.9128965624821297,
          0.954902163389393,
          0.8795892272990781,
          0.82279470072282,
          0.697431228641235,
          0.8231871047149939,
          0.874402382465929,
          0.8693632330586837,
          0.43123479231595513,
          0.8540122018104981,
          0.721234730026231,
          0.9636151132819889,
          0.83854758195593,
          0.6984411219952029,
          0.8871213014485729,
          0.8579074316307665,
          0.8116878844423361,
          0.8780700854535254,
          0.8979109867921413,
          0.8041212843115413,
          0.8298237469264662,
          0.9313816718757337,
          0.9061786678451326,
          0.9158485004462725,
          0.68471096841837,
          0.738989398283245,
          0.092299597917662,
          0.8224448694989599,
          0.8026269785689357,
          0.8903009340134476,
          0.7396378196026485,
          0.8031676568439177,
          0.9200848307808146,
          0.8493399692858359,
          0.8976082951746882,
          0.768448629454144,
          0.8434935671119391,
          0.926987413959862,
          0.9246550747255226,
          0.6422456076884634,
          0.8867524413416124,
          0.8334324318026497,
          0.9117473862595278,
          0.8217349951428545
         ],
         "xaxis": "x",
         "y": [
          0.39228631604245967,
          0.2288537030895549,
          0.12855523531804558,
          -0.03459441149568593,
          0.5749511959319853,
          0.4746593313048446,
          0.2948661639984085,
          0.4499366452831151,
          0.3593625851748892,
          0.42535730704227337,
          0.24777190226653878,
          0.1613610698631563,
          0.24918482361113997,
          0.20089916526045903,
          0.28501770447256425,
          0.29048451287142674,
          0.2610876889777317,
          0.08852510139747138,
          0.10597097582166026,
          0.5061797337474555,
          0.6194697011533248,
          0.19390495054882043,
          0.5152655441524653,
          0.30851392023167323,
          0.6585212893468385,
          0.2140800262747025,
          0.3722782595746864,
          0.5377928170232299,
          0.5450339555427025,
          0.008622163157918139,
          0.17973912144187365,
          0.2505663064085388,
          0.5741630508350284,
          0.04578929088695399,
          0.17392554284013073,
          -0.058771238963172684,
          0.1041317230714281,
          0.29723677567145745,
          0.38012684013868864,
          0.6539094953328332,
          0.4243826197758498,
          0.4962066353930457,
          0.29676883763227546,
          0.4194102849754887,
          0.29301863809704043,
          0.27403932724386193,
          0.6271879072906202,
          0.29873750759375967,
          0.4136809424536767,
          0.3902834121173706,
          0.38111403232688384,
          0.1995961838592769,
          0.026219252006479787,
          0.19106174709633705,
          0.20878624616556582,
          0.4657054448946942,
          0.20534441088397173,
          0.34858353117163565,
          -0.1026409861720493,
          0.31982458070169834,
          0.1320571329110443,
          0.06526089763328685,
          0.09331320683202526,
          0.44247342337859064,
          -0.01994209549368592,
          0.08498028724556903,
          0.0775887100950497,
          0.0647035374087025,
          0.22539202247109727,
          0.12965105565917445,
          0.3557388834044911,
          0.2194885640275534,
          0.18818219148279963,
          0.12531476149320203,
          0.21513981573671906,
          -0.018526143529809247,
          0.07170700265907032,
          0.3263973778570833,
          0.1609283584181419,
          0.026230010418450356,
          0.22239201627366023,
          0.2989127093886226,
          0.40784519334148783,
          0.24961794250442232,
          0.3468317036014891,
          0.02909372199526644,
          -0.3482186682881229,
          0.3262155405242041,
          0.2961797117978643,
          0.4201512298150226,
          0.12366394989636752,
          0.4437920125564112,
          -0.1692569838224974,
          0.05027077122699475,
          0.36831228138394073,
          0.11604344490425461,
          0.48650390426767964,
          0.2956312384298398,
          0.31264760224921584,
          -0.3482186682881229,
          0.03550664991785407,
          0.02952614509671897,
          0.10940767204634397,
          0.5563198996442763,
          0.32182418174642224,
          0.7440648300662893,
          0.20431054644560745,
          0.64100146381762,
          0.5310355915712348,
          0.22135517436557295,
          0.2826556881835743,
          0.3886170179594922,
          0.49668712011068733,
          0.01694291986023555,
          0.441366373998995,
          0.2855299659479533,
          0.42414026406405747,
          0.3666901649150178,
          0.24810937868072533,
          -0.03558013205841276,
          0.4318862049779311,
          0.32860456715699315,
          0.24275312947256805,
          0.19921695771352627,
          0.46178387412871885,
          0.4776720106244244,
          0.35782432005299003,
          0.17714293270128378,
          0.16506248003775487,
          -0.11703720713697546,
          0.23859508428418938,
          0.17675936869705042,
          -0.11038130447561234,
          0.3189211070957634,
          0.28332692874738374,
          0.3732788160057552,
          0.1049180486014728,
          0.04278770842059104,
          0.027803343076008985,
          0.13254338136600613,
          0.2748757279424157,
          0.2220249203835265,
          -0.0020437419308114158,
          -0.047670689833708174,
          0.12412439286699983,
          0.10288778654956449,
          0.16089927923915587,
          0.09537219332429117,
          -0.007694486155211927,
          0.10843727053237823,
          0.062120445071350394,
          0.008053611059609223,
          0.16325565663734165,
          0.17122951990152094,
          0.0932394602618723,
          0.05396433499662978,
          0.12273551405466265,
          0.32449029607012553,
          0.2574329772377771,
          0.16139403966542643,
          0.13532244647795227,
          0.30648654806216846,
          0.1670301266260485,
          0.1765634023784323,
          0.43617574069375153,
          0.09675987132320324,
          0.3998013713563038,
          0.07913076942559749,
          0.03655752334690998,
          -0.3482186682881229,
          0.0392940779515249,
          -0.13964577533598596,
          -0.1301378678199166,
          0.264033125044397,
          0.08691470265595147,
          0.16113338690124984,
          0.30983337383676224,
          0.049440029716583955,
          0.5572597300746823,
          0.20206652275107764,
          0.1489095871148678,
          0.3497550642936572,
          0.13523869040821446,
          0.013877839323403335,
          -0.1108399830969038,
          0.19161032689412166,
          0.07581359650967093,
          0.39749970506673965,
          0.38036743144109564,
          0.08314377459604672,
          0.17728898519071168,
          0.49898766965018226,
          0.05830920887842242,
          0.22043847309234652,
          0.1111217089877583,
          0.11004041482458549,
          0.11790886619247168,
          0.2567028778087741,
          0.017616769324116932,
          0.49197408523043257,
          0.3818825917952726,
          0.6618122786027714,
          0.36744605940559577,
          0.5785445994646194,
          0.24482626550329856,
          0.21870881232595368,
          0.19592140100089947,
          0.4778765627611546,
          0.10546817727388588,
          0.12833658186653502,
          0.18136413710680005,
          0.27725744644709843,
          0.210703777460381,
          0.1002171829202381,
          0.5191025424598972,
          0.23429568195536948,
          0.2650840825120955,
          0.16051363841653865,
          0.2696623151945034,
          0.22076038704563872,
          0.14004821323168906,
          -0.20167477089702163,
          -0.017635241805923102,
          0.25514030953805467,
          0.09505171040633997,
          0.10310932796059236,
          0.18528646199810694,
          0.22275587534879798,
          0.5060131649489243,
          0.1515759171916115,
          0.2198594616515723,
          0.36181840889255934,
          0.4727310217607553,
          0.2004821598930142,
          0.38769838012595226,
          0.2842804361664595,
          0.08374466018380045,
          0.11057663573305052,
          -0.09199741793424715,
          0.4255516873660388,
          0.16333314300877044,
          0.4334001156426538,
          -0.043526511299134624,
          0.34860264539704955,
          0.5422995683087216,
          0.28639968106153696,
          0.2906953663427274,
          0.34208391109094516,
          0.3830352671623623,
          0.06777940020439249,
          0.08956877424548426,
          0.32011714666766333,
          0.22520837402979055,
          0.340266114862135,
          0.14023134399435863,
          0.07843969365674425,
          0.20259956328241865,
          0.23903512599725313,
          0.10480004355370093,
          0.2949862053961171,
          0.516030688990012,
          0.08288020422514891,
          0.4036036026718135,
          0.5686153190401442,
          0.02113208682725387,
          0.06389943515185964,
          0.27330609393718974,
          0.07948810393263683,
          0.3138425284451051,
          0.2510345355356661,
          0.5342612797632743,
          -0.3482186682881229,
          0.35219454842170334,
          0.24240813678096879,
          0.09602187643223875,
          0.1147916924705511,
          0.07056326185890768,
          0.16061578632900808,
          0.22597091024468902,
          -0.009121517909650628,
          0.3215348943060899,
          0.2431114523292652,
          0.04357745226862017,
          0.25869995592759626,
          0.19956928662519086,
          0.11875996122854493,
          0.10559058069827187,
          0.14923490476798512,
          0.27634696170982576,
          0.624744300726434,
          0.28607690986057677,
          0.53761976814721,
          0.2410415064805435,
          0.17864496963173052,
          0.40935759010780925,
          0.7442534625245161,
          0.18677085705192942,
          0.2480579080796274,
          0.17085253044666512,
          0.7444590413817351,
          0.006397865595847041,
          0.09990534514469104,
          0.16503776931958358,
          -0.3482186682881229,
          0.5240729170882404,
          0.22962909161950748,
          0.20547272264260874,
          -0.007529862081568195,
          0.583439411467277,
          0.41339167547129885,
          -0.11915185711883602,
          0.42127071729281806,
          0.08500779142582163,
          -0.060026446087606766,
          0.2996221750450523,
          0.23439087387297375,
          0.7447468504231658,
          0.6074075501831991,
          0.4680558007001163,
          0.31956477965305585,
          0.05198511167873954,
          0.23644089386186168,
          -0.3482186682881229,
          0.5532364794077188,
          -0.007298760752439376,
          0.5525215504051847,
          0.4688126873605671,
          0.43280395696002777,
          0.3310703323977734,
          0.39861295293256005,
          0.11222695315982584,
          0.2536981925760804,
          0.02013240876764627,
          0.11282101739004805,
          0.18873549784597948,
          0.20521077112109617,
          -0.3482186682881229,
          0.37691995976333564,
          0.29625554361697937,
          0.4897426642869928,
          0.05006524085795866,
          0.005926052407009608,
          0.5453718960089988,
          0.41882201582895917,
          0.03389218977232061,
          0.09847465426991636,
          0.23942981870714716,
          0.3201306827651502,
          0.06839596969049738,
          0.21943668582935028,
          0.21765788966851768,
          0.30388609153378915,
          -0.1066114979937407,
          -0.009633206292227692,
          0.16503776931958358,
          0.5010626345435194,
          0.12928260570257202,
          0.29828220425553326,
          -0.053204803446208815,
          0.05571548420459804,
          0.3065677881369588,
          0.5593932848346324,
          0.4603977246468637,
          0.17425989231106098,
          0.3128479516163527,
          0.3805014305879244,
          0.31487918400743775,
          -0.04296133559029375,
          0.2236506373300263,
          0.04220475659373363,
          0.18893826010639808,
          0.08703457168195616
         ],
         "yaxis": "y"
        },
        {
         "hoverlabel": {
          "namelength": 0
         },
         "hovertemplate": "gt_mode=minor<br>major=%{x}<br>minor=%{y}",
         "legendgroup": "gt_mode=minor",
         "marker": {
          "color": "#EF553B",
          "symbol": "circle"
         },
         "mode": "markers",
         "name": "gt_mode=minor",
         "showlegend": true,
         "type": "scatter",
         "x": [
          0.3564362257227567,
          0.4315995644766423,
          0.2567467615360213,
          0.5381421927711866,
          -0.017748860487105236,
          0.5775386466748496,
          0.7183900575686415,
          0.5520828485274398,
          0.27118019791869546,
          0.4430529403483363,
          0.4482790914845825,
          0.8481884726155746,
          0.4181545443442719,
          0.25416638267798186,
          0.2432819013639539,
          0.3170302891466167,
          0.6497680422364198,
          0.30615766679558415,
          0.6943833476654513,
          0.46591408367117904,
          0.31365306052877723,
          0.578222198244182,
          0.29417482923522853,
          0.6103728352312368,
          0.7565665056038506,
          0.12272870129904337,
          0.567030173750623,
          0.6636184923565203,
          0.6018320209649907,
          0.2694511643069183,
          0.6046575652584907,
          0.5817090069029686,
          0.5854794596109515,
          0.6495867756792022,
          0.24072924584365782,
          0.7139747475718368,
          0.20386091301902964,
          0.29351227290852444,
          0.17142197766721076,
          0.25274406085451073,
          0.3405789953549248,
          0.5906456495809809,
          0.868694462578719,
          0.37058337431386723,
          0.7068566581100748,
          0.7188536464772576,
          0.4026897925675681,
          0.3082958289547358,
          0.8350155443750266,
          0.5045317963898185,
          0.24420293333750587,
          0.16849506088143887,
          0.3057561008793867,
          0.3580808659993604,
          0.6504458215016796,
          0.05590596119787658,
          0.9234451166722375,
          0.7572600053725898,
          0.43403517877953196,
          0.12695919765152608,
          0.2607663520646209,
          0.2206784542250201,
          0.25117905847732874
         ],
         "xaxis": "x",
         "y": [
          0.6982221834493415,
          0.6276633962266147,
          0.8344502183819462,
          0.6662505687109525,
          0.7746575340008228,
          0.22256696791350356,
          0.6058209895267899,
          0.619685856130709,
          0.8490573888814251,
          0.7427359358701586,
          0.8644181209205027,
          0.5982762089970963,
          0.7961745236838412,
          0.8732632367522339,
          0.8228736225731883,
          0.9052110992315521,
          0.8528864552815153,
          0.8440353728539142,
          0.7102787470433796,
          0.5522731814361154,
          0.8061137860154619,
          0.8608550679245042,
          0.8275163213035523,
          0.6148083622559226,
          -0.02239634257925155,
          0.8137038317523346,
          0.6146930453317192,
          0.3157522034647203,
          0.8733489601001283,
          0.9135317212521981,
          0.7942786957372912,
          0.7526748377116874,
          0.817811295170849,
          0.6982563505083392,
          0.6699609911994377,
          0.3757125682624658,
          0.8828667993912976,
          0.9043119439001496,
          0.6659999256938025,
          0.8865913042364393,
          0.9276587117047328,
          0.728634560264908,
          0.29910247584603,
          0.846970993011136,
          0.6514586710793325,
          0.7099651050877184,
          0.4764635476397851,
          0.5576921743782673,
          0.1650219036836697,
          0.8084875739173465,
          0.6889811588599484,
          0.7922967951410098,
          0.726901166151076,
          0.9039357761619611,
          0.7919300829737025,
          0.6366750261701302,
          0.5192774451130717,
          0.5446273962168513,
          0.9106431653383944,
          0.7935483526183537,
          0.6249194588871463,
          0.4762181748492387,
          0.8726324710348085
         ],
         "yaxis": "y"
        }
       ],
       "layout": {
        "height": 600,
        "legend": {
         "tracegroupgap": 0
        },
        "margin": {
         "t": 60
        },
        "template": {
         "data": {
          "bar": [
           {
            "error_x": {
             "color": "#2a3f5f"
            },
            "error_y": {
             "color": "#2a3f5f"
            },
            "marker": {
             "line": {
              "color": "#E5ECF6",
              "width": 0.5
             }
            },
            "type": "bar"
           }
          ],
          "barpolar": [
           {
            "marker": {
             "line": {
              "color": "#E5ECF6",
              "width": 0.5
             }
            },
            "type": "barpolar"
           }
          ],
          "carpet": [
           {
            "aaxis": {
             "endlinecolor": "#2a3f5f",
             "gridcolor": "white",
             "linecolor": "white",
             "minorgridcolor": "white",
             "startlinecolor": "#2a3f5f"
            },
            "baxis": {
             "endlinecolor": "#2a3f5f",
             "gridcolor": "white",
             "linecolor": "white",
             "minorgridcolor": "white",
             "startlinecolor": "#2a3f5f"
            },
            "type": "carpet"
           }
          ],
          "choropleth": [
           {
            "colorbar": {
             "outlinewidth": 0,
             "ticks": ""
            },
            "type": "choropleth"
           }
          ],
          "contour": [
           {
            "colorbar": {
             "outlinewidth": 0,
             "ticks": ""
            },
            "colorscale": [
             [
              0,
              "#0d0887"
             ],
             [
              0.1111111111111111,
              "#46039f"
             ],
             [
              0.2222222222222222,
              "#7201a8"
             ],
             [
              0.3333333333333333,
              "#9c179e"
             ],
             [
              0.4444444444444444,
              "#bd3786"
             ],
             [
              0.5555555555555556,
              "#d8576b"
             ],
             [
              0.6666666666666666,
              "#ed7953"
             ],
             [
              0.7777777777777778,
              "#fb9f3a"
             ],
             [
              0.8888888888888888,
              "#fdca26"
             ],
             [
              1,
              "#f0f921"
             ]
            ],
            "type": "contour"
           }
          ],
          "contourcarpet": [
           {
            "colorbar": {
             "outlinewidth": 0,
             "ticks": ""
            },
            "type": "contourcarpet"
           }
          ],
          "heatmap": [
           {
            "colorbar": {
             "outlinewidth": 0,
             "ticks": ""
            },
            "colorscale": [
             [
              0,
              "#0d0887"
             ],
             [
              0.1111111111111111,
              "#46039f"
             ],
             [
              0.2222222222222222,
              "#7201a8"
             ],
             [
              0.3333333333333333,
              "#9c179e"
             ],
             [
              0.4444444444444444,
              "#bd3786"
             ],
             [
              0.5555555555555556,
              "#d8576b"
             ],
             [
              0.6666666666666666,
              "#ed7953"
             ],
             [
              0.7777777777777778,
              "#fb9f3a"
             ],
             [
              0.8888888888888888,
              "#fdca26"
             ],
             [
              1,
              "#f0f921"
             ]
            ],
            "type": "heatmap"
           }
          ],
          "heatmapgl": [
           {
            "colorbar": {
             "outlinewidth": 0,
             "ticks": ""
            },
            "colorscale": [
             [
              0,
              "#0d0887"
             ],
             [
              0.1111111111111111,
              "#46039f"
             ],
             [
              0.2222222222222222,
              "#7201a8"
             ],
             [
              0.3333333333333333,
              "#9c179e"
             ],
             [
              0.4444444444444444,
              "#bd3786"
             ],
             [
              0.5555555555555556,
              "#d8576b"
             ],
             [
              0.6666666666666666,
              "#ed7953"
             ],
             [
              0.7777777777777778,
              "#fb9f3a"
             ],
             [
              0.8888888888888888,
              "#fdca26"
             ],
             [
              1,
              "#f0f921"
             ]
            ],
            "type": "heatmapgl"
           }
          ],
          "histogram": [
           {
            "marker": {
             "colorbar": {
              "outlinewidth": 0,
              "ticks": ""
             }
            },
            "type": "histogram"
           }
          ],
          "histogram2d": [
           {
            "colorbar": {
             "outlinewidth": 0,
             "ticks": ""
            },
            "colorscale": [
             [
              0,
              "#0d0887"
             ],
             [
              0.1111111111111111,
              "#46039f"
             ],
             [
              0.2222222222222222,
              "#7201a8"
             ],
             [
              0.3333333333333333,
              "#9c179e"
             ],
             [
              0.4444444444444444,
              "#bd3786"
             ],
             [
              0.5555555555555556,
              "#d8576b"
             ],
             [
              0.6666666666666666,
              "#ed7953"
             ],
             [
              0.7777777777777778,
              "#fb9f3a"
             ],
             [
              0.8888888888888888,
              "#fdca26"
             ],
             [
              1,
              "#f0f921"
             ]
            ],
            "type": "histogram2d"
           }
          ],
          "histogram2dcontour": [
           {
            "colorbar": {
             "outlinewidth": 0,
             "ticks": ""
            },
            "colorscale": [
             [
              0,
              "#0d0887"
             ],
             [
              0.1111111111111111,
              "#46039f"
             ],
             [
              0.2222222222222222,
              "#7201a8"
             ],
             [
              0.3333333333333333,
              "#9c179e"
             ],
             [
              0.4444444444444444,
              "#bd3786"
             ],
             [
              0.5555555555555556,
              "#d8576b"
             ],
             [
              0.6666666666666666,
              "#ed7953"
             ],
             [
              0.7777777777777778,
              "#fb9f3a"
             ],
             [
              0.8888888888888888,
              "#fdca26"
             ],
             [
              1,
              "#f0f921"
             ]
            ],
            "type": "histogram2dcontour"
           }
          ],
          "mesh3d": [
           {
            "colorbar": {
             "outlinewidth": 0,
             "ticks": ""
            },
            "type": "mesh3d"
           }
          ],
          "parcoords": [
           {
            "line": {
             "colorbar": {
              "outlinewidth": 0,
              "ticks": ""
             }
            },
            "type": "parcoords"
           }
          ],
          "pie": [
           {
            "automargin": true,
            "type": "pie"
           }
          ],
          "scatter": [
           {
            "marker": {
             "colorbar": {
              "outlinewidth": 0,
              "ticks": ""
             }
            },
            "type": "scatter"
           }
          ],
          "scatter3d": [
           {
            "line": {
             "colorbar": {
              "outlinewidth": 0,
              "ticks": ""
             }
            },
            "marker": {
             "colorbar": {
              "outlinewidth": 0,
              "ticks": ""
             }
            },
            "type": "scatter3d"
           }
          ],
          "scattercarpet": [
           {
            "marker": {
             "colorbar": {
              "outlinewidth": 0,
              "ticks": ""
             }
            },
            "type": "scattercarpet"
           }
          ],
          "scattergeo": [
           {
            "marker": {
             "colorbar": {
              "outlinewidth": 0,
              "ticks": ""
             }
            },
            "type": "scattergeo"
           }
          ],
          "scattergl": [
           {
            "marker": {
             "colorbar": {
              "outlinewidth": 0,
              "ticks": ""
             }
            },
            "type": "scattergl"
           }
          ],
          "scattermapbox": [
           {
            "marker": {
             "colorbar": {
              "outlinewidth": 0,
              "ticks": ""
             }
            },
            "type": "scattermapbox"
           }
          ],
          "scatterpolar": [
           {
            "marker": {
             "colorbar": {
              "outlinewidth": 0,
              "ticks": ""
             }
            },
            "type": "scatterpolar"
           }
          ],
          "scatterpolargl": [
           {
            "marker": {
             "colorbar": {
              "outlinewidth": 0,
              "ticks": ""
             }
            },
            "type": "scatterpolargl"
           }
          ],
          "scatterternary": [
           {
            "marker": {
             "colorbar": {
              "outlinewidth": 0,
              "ticks": ""
             }
            },
            "type": "scatterternary"
           }
          ],
          "surface": [
           {
            "colorbar": {
             "outlinewidth": 0,
             "ticks": ""
            },
            "colorscale": [
             [
              0,
              "#0d0887"
             ],
             [
              0.1111111111111111,
              "#46039f"
             ],
             [
              0.2222222222222222,
              "#7201a8"
             ],
             [
              0.3333333333333333,
              "#9c179e"
             ],
             [
              0.4444444444444444,
              "#bd3786"
             ],
             [
              0.5555555555555556,
              "#d8576b"
             ],
             [
              0.6666666666666666,
              "#ed7953"
             ],
             [
              0.7777777777777778,
              "#fb9f3a"
             ],
             [
              0.8888888888888888,
              "#fdca26"
             ],
             [
              1,
              "#f0f921"
             ]
            ],
            "type": "surface"
           }
          ],
          "table": [
           {
            "cells": {
             "fill": {
              "color": "#EBF0F8"
             },
             "line": {
              "color": "white"
             }
            },
            "header": {
             "fill": {
              "color": "#C8D4E3"
             },
             "line": {
              "color": "white"
             }
            },
            "type": "table"
           }
          ]
         },
         "layout": {
          "annotationdefaults": {
           "arrowcolor": "#2a3f5f",
           "arrowhead": 0,
           "arrowwidth": 1
          },
          "coloraxis": {
           "colorbar": {
            "outlinewidth": 0,
            "ticks": ""
           }
          },
          "colorscale": {
           "diverging": [
            [
             0,
             "#8e0152"
            ],
            [
             0.1,
             "#c51b7d"
            ],
            [
             0.2,
             "#de77ae"
            ],
            [
             0.3,
             "#f1b6da"
            ],
            [
             0.4,
             "#fde0ef"
            ],
            [
             0.5,
             "#f7f7f7"
            ],
            [
             0.6,
             "#e6f5d0"
            ],
            [
             0.7,
             "#b8e186"
            ],
            [
             0.8,
             "#7fbc41"
            ],
            [
             0.9,
             "#4d9221"
            ],
            [
             1,
             "#276419"
            ]
           ],
           "sequential": [
            [
             0,
             "#0d0887"
            ],
            [
             0.1111111111111111,
             "#46039f"
            ],
            [
             0.2222222222222222,
             "#7201a8"
            ],
            [
             0.3333333333333333,
             "#9c179e"
            ],
            [
             0.4444444444444444,
             "#bd3786"
            ],
            [
             0.5555555555555556,
             "#d8576b"
            ],
            [
             0.6666666666666666,
             "#ed7953"
            ],
            [
             0.7777777777777778,
             "#fb9f3a"
            ],
            [
             0.8888888888888888,
             "#fdca26"
            ],
            [
             1,
             "#f0f921"
            ]
           ],
           "sequentialminus": [
            [
             0,
             "#0d0887"
            ],
            [
             0.1111111111111111,
             "#46039f"
            ],
            [
             0.2222222222222222,
             "#7201a8"
            ],
            [
             0.3333333333333333,
             "#9c179e"
            ],
            [
             0.4444444444444444,
             "#bd3786"
            ],
            [
             0.5555555555555556,
             "#d8576b"
            ],
            [
             0.6666666666666666,
             "#ed7953"
            ],
            [
             0.7777777777777778,
             "#fb9f3a"
            ],
            [
             0.8888888888888888,
             "#fdca26"
            ],
            [
             1,
             "#f0f921"
            ]
           ]
          },
          "colorway": [
           "#636efa",
           "#EF553B",
           "#00cc96",
           "#ab63fa",
           "#FFA15A",
           "#19d3f3",
           "#FF6692",
           "#B6E880",
           "#FF97FF",
           "#FECB52"
          ],
          "font": {
           "color": "#2a3f5f"
          },
          "geo": {
           "bgcolor": "white",
           "lakecolor": "white",
           "landcolor": "#E5ECF6",
           "showlakes": true,
           "showland": true,
           "subunitcolor": "white"
          },
          "hoverlabel": {
           "align": "left"
          },
          "hovermode": "closest",
          "mapbox": {
           "style": "light"
          },
          "paper_bgcolor": "white",
          "plot_bgcolor": "#E5ECF6",
          "polar": {
           "angularaxis": {
            "gridcolor": "white",
            "linecolor": "white",
            "ticks": ""
           },
           "bgcolor": "#E5ECF6",
           "radialaxis": {
            "gridcolor": "white",
            "linecolor": "white",
            "ticks": ""
           }
          },
          "scene": {
           "xaxis": {
            "backgroundcolor": "#E5ECF6",
            "gridcolor": "white",
            "gridwidth": 2,
            "linecolor": "white",
            "showbackground": true,
            "ticks": "",
            "zerolinecolor": "white"
           },
           "yaxis": {
            "backgroundcolor": "#E5ECF6",
            "gridcolor": "white",
            "gridwidth": 2,
            "linecolor": "white",
            "showbackground": true,
            "ticks": "",
            "zerolinecolor": "white"
           },
           "zaxis": {
            "backgroundcolor": "#E5ECF6",
            "gridcolor": "white",
            "gridwidth": 2,
            "linecolor": "white",
            "showbackground": true,
            "ticks": "",
            "zerolinecolor": "white"
           }
          },
          "shapedefaults": {
           "line": {
            "color": "#2a3f5f"
           }
          },
          "ternary": {
           "aaxis": {
            "gridcolor": "white",
            "linecolor": "white",
            "ticks": ""
           },
           "baxis": {
            "gridcolor": "white",
            "linecolor": "white",
            "ticks": ""
           },
           "bgcolor": "#E5ECF6",
           "caxis": {
            "gridcolor": "white",
            "linecolor": "white",
            "ticks": ""
           }
          },
          "title": {
           "x": 0.05
          },
          "xaxis": {
           "automargin": true,
           "gridcolor": "white",
           "linecolor": "white",
           "ticks": "",
           "title": {
            "standoff": 15
           },
           "zerolinecolor": "white",
           "zerolinewidth": 2
          },
          "yaxis": {
           "automargin": true,
           "gridcolor": "white",
           "linecolor": "white",
           "ticks": "",
           "title": {
            "standoff": 15
           },
           "zerolinecolor": "white",
           "zerolinewidth": 2
          }
         }
        },
        "xaxis": {
         "anchor": "y",
         "domain": [
          0,
          1
         ],
         "title": {
          "text": "major"
         }
        },
        "yaxis": {
         "anchor": "x",
         "domain": [
          0,
          1
         ],
         "title": {
          "text": "minor"
         }
        }
       }
      },
      "text/html": [
       "<div>\n",
       "        \n",
       "        \n",
       "            <div id=\"45cc7783-d7f6-480a-8b97-cd77b7a974e8\" class=\"plotly-graph-div\" style=\"height:600px; width:100%;\"></div>\n",
       "            <script type=\"text/javascript\">\n",
       "                require([\"plotly\"], function(Plotly) {\n",
       "                    window.PLOTLYENV=window.PLOTLYENV || {};\n",
       "                    \n",
       "                if (document.getElementById(\"45cc7783-d7f6-480a-8b97-cd77b7a974e8\")) {\n",
       "                    Plotly.newPlot(\n",
       "                        '45cc7783-d7f6-480a-8b97-cd77b7a974e8',\n",
       "                        [{\"hoverlabel\": {\"namelength\": 0}, \"hovertemplate\": \"gt_mode=major<br>major=%{x}<br>minor=%{y}\", \"legendgroup\": \"gt_mode=major\", \"marker\": {\"color\": \"#636efa\", \"symbol\": \"circle\"}, \"mode\": \"markers\", \"name\": \"gt_mode=major\", \"showlegend\": true, \"type\": \"scatter\", \"x\": [0.8207972980220555, 0.790240973660125, 0.9079654856001922, 0.5419773214163084, 0.9176111600754956, 0.9109401055748021, 0.8328806553444592, 0.9069530118887316, 0.9270863520697097, 0.6199061978084154, 0.8400797622363756, 0.8489655225255782, 0.8075420086113754, 0.8417953169947824, 0.8461262818125667, 0.8491638916382442, 0.8695429706438508, 0.7303992431878297, 0.7903720782169069, 0.916744347281714, 0.9261327417053864, 0.721215764651099, 0.7669305042853196, 0.7836839226480539, 0.8273486105817075, 0.7093195900822011, 0.9242976868385244, 0.8464834099430194, 0.7549613488862846, 0.6307379271203661, 0.7597052386277912, 0.6741382139070993, 0.7173698432223571, 0.6480905916915303, 0.8572242936027941, 0.7501679464358135, 0.8033129634145662, 0.8404658735801976, 0.915025814591951, 0.9467801159809195, 0.6207516525474026, 0.9169335862646248, 0.9219154733853785, 0.9402624549513166, 0.8963698884569248, 0.9048708448802895, 0.8524348227571585, 0.9065464811571441, 0.9067742885516609, 0.9513223497226696, 0.9446603878671918, 0.8976348825338288, 0.7659402291385216, 0.8362437660015885, 0.6440893804730612, 0.9101546947494579, 0.9058115968049769, 0.8857100785461274, 0.5236157290770527, 0.9310418662011759, 0.8759685382166088, 0.8364464161298937, 0.7838330084190975, 0.8876489227149067, 0.7734955892187356, 0.8426479204597233, 0.7938046486291177, 0.8214088895224017, 0.8646788126778518, 0.8360708901904723, 0.934591992791185, 0.9009851265939632, 0.9071272861215018, 0.882132082990858, 0.9110268186986226, 0.7724492966284047, 0.8537656927609241, 0.8941015238569348, 0.8984801815717804, 0.835355796097343, 0.9480918817230681, 0.9154771162435411, 0.8708986915109078, 0.8805882054162543, 0.7553069558597482, 0.793109676762467, 0.43123479231595513, 0.8795915971807882, 0.7858153171119768, 0.922372996986131, 0.7194100780119327, 0.9146324999572443, 0.4647454610134685, 0.7842552613954143, 0.8859579429426125, 0.8503879384371739, 0.8515315146365823, 0.7942333336006174, 0.901354335175613, 0.43123479231595513, 0.740487549684391, 0.7684498195618548, 0.851004394751246, 0.9652740837807514, 0.8976949664605398, 0.8132212878806183, 0.797046016793501, 0.6587896583753408, 0.6926942418866691, 0.7411138968760563, 0.8872275969707697, 0.7841452417693724, 0.8540043899998073, 0.7492103188476575, 0.902942393216534, 0.9368390212110557, 0.9478993650602603, 0.9531830246417694, 0.9014544396337655, 0.7474629728480966, 0.9378838061443855, 0.9145442260074385, 0.8148392982274775, 0.7435560559650365, 0.92984517880828, 0.8569978972689744, 0.8948439803587751, 0.7939541796845854, 0.804671224007528, 0.6861990712014543, 0.7621875172357848, 0.8371516060760373, 0.6699462245481193, 0.9268951300011311, 0.7421715640907587, 0.9151639245870246, 0.8096350361372575, 0.7787468419992692, 0.6767925215653594, 0.8091563108280297, 0.924446748270715, 0.8016197179951077, 0.7314568211328376, 0.7593308769452298, 0.8356727179421592, 0.8742056056729145, 0.935844307324392, 0.8721133513415096, 0.746984301441737, 0.8602085467887749, 0.9007345440804067, 0.8170713650703303, 0.917902382931389, 0.8395250004749565, 0.8402391048865885, 0.8497901405223965, 0.7994476340305596, 0.7968376956245826, 0.6151980818421076, 0.9070204405472918, 0.8802548369814793, 0.8585041531270217, 0.9032217671804541, 0.8923359691253232, 0.9334145543027021, 0.855301583299803, 0.931415191232734, 0.8431003375546402, 0.7636298495976774, 0.43123479231595513, 0.7694542423107658, 0.5862443658688374, 0.6589643842485426, 0.8045721631527099, 0.8615973249550243, 0.8654653221256748, 0.8952522793091374, 0.7930062606366772, 0.9265286578932277, 0.8780535390052749, 0.8863517388734022, 0.9330113309839155, 0.7962045127225502, 0.5128630297771848, 0.6455361655006635, 0.8161337160691613, 0.7018500861122507, 0.914074594068353, 0.8781603665786994, 0.8444767764997334, 0.8267217340357464, 0.7243330724427574, 0.7690896226042561, 0.8742868353188548, 0.6806019423888425, 0.8602171674601538, 0.848248536936258, 0.9271820618579545, 0.806546691502891, 0.7475913735454975, 0.88212114758662, 0.9260298246031826, 0.8272539828512996, 0.8736413441536015, 0.8618231374818344, 0.8678057937190076, 0.8793781116157812, 0.912611091853504, 0.8720390560741154, 0.8846633606364691, 0.7795844966823775, 0.8945485307540846, 0.8924154090451807, 0.8004075614985321, 0.8188059940175345, 0.891358034858618, 0.9725451034062516, 0.656522105422085, 0.8889932226304946, 0.8918933740995139, 0.7533702787445948, 0.5908999301308846, 0.6854552230157581, 0.9013537981931259, 0.8543049457099945, 0.8566107881445488, 0.8977774803387295, 0.9091623342856566, 0.9346352194615217, 0.8591825782823683, 0.886356983754699, 0.9447294899406192, 0.9487903215026833, 0.9266873347901843, 0.8420206225894586, 0.8773457441249395, 0.8526503410008253, 0.8422642852028362, 0.6513781016070805, 0.8787050181370103, 0.8944507476923889, 0.7673984823986076, 0.4423750719259727, 0.8640653749498342, 0.9409708477979617, 0.9408362644547827, 0.8790962325863106, 0.8358933802471776, 0.8906256903717373, 0.8214332149849839, 0.6623930942651601, 0.9087943042524002, 0.8948930216591302, 0.9210443460607327, 0.8174677902414258, 0.8459047972677619, 0.7926699440813331, 0.8815480699125496, 0.8531550140543549, 0.9182176671446445, 0.7894395246648587, 0.8576753648358209, 0.8883390664392824, 0.6920783658747602, 0.7904701165590944, 0.865296515660761, 0.9254188366267289, 0.8435590377597921, 0.876528112635615, 0.8710479304331555, 0.8735067520096298, 0.43123479231595513, 0.9386145109340174, 0.927302274147728, 0.8593596798864069, 0.7488138456056977, 0.7850024435960434, 0.8739120291012034, 0.8810949493449133, 0.7482928874535228, 0.9166500511714917, 0.7169875041031106, 0.842697135855791, 0.8930963535160774, 0.7827775970566779, 0.8458435665230742, 0.8381225856820353, 0.9096640650683521, 0.9164201459634166, 0.8013009323779486, 0.9403275808658653, 0.6037855913925356, 0.8958162134128083, 0.5518925095706356, 0.9083300998611498, 0.47533347519771074, 0.852370731944642, 0.8056336311145462, 0.8842289769607229, 0.7859798058702769, 0.7734731570775302, 0.8375691417490325, 0.092299597917662, 0.43123479231595513, 0.9220189783878902, 0.7510606905401425, 0.8511888811985884, 0.6246263434862656, 0.8372967898999426, 0.8666343624662326, 0.6371737683917067, 0.8722812455877168, 0.6647414764836439, 0.7639790968201912, 0.7971170982121901, 0.9223993213180794, 0.6776648390327069, 0.9073964413277711, 0.8835345231577325, 0.9322767674457559, 0.7473768742496228, 0.8250397309312123, 0.43123479231595513, 0.8820873016665784, 0.6826475051130533, 0.9069094158073724, 0.9573350912005576, 0.8710105207046359, 0.9128965624821297, 0.954902163389393, 0.8795892272990781, 0.82279470072282, 0.697431228641235, 0.8231871047149939, 0.874402382465929, 0.8693632330586837, 0.43123479231595513, 0.8540122018104981, 0.721234730026231, 0.9636151132819889, 0.83854758195593, 0.6984411219952029, 0.8871213014485729, 0.8579074316307665, 0.8116878844423361, 0.8780700854535254, 0.8979109867921413, 0.8041212843115413, 0.8298237469264662, 0.9313816718757337, 0.9061786678451326, 0.9158485004462725, 0.68471096841837, 0.738989398283245, 0.092299597917662, 0.8224448694989599, 0.8026269785689357, 0.8903009340134476, 0.7396378196026485, 0.8031676568439177, 0.9200848307808146, 0.8493399692858359, 0.8976082951746882, 0.768448629454144, 0.8434935671119391, 0.926987413959862, 0.9246550747255226, 0.6422456076884634, 0.8867524413416124, 0.8334324318026497, 0.9117473862595278, 0.8217349951428545], \"xaxis\": \"x\", \"y\": [0.39228631604245967, 0.2288537030895549, 0.12855523531804558, -0.03459441149568593, 0.5749511959319853, 0.4746593313048446, 0.2948661639984085, 0.4499366452831151, 0.3593625851748892, 0.42535730704227337, 0.24777190226653878, 0.1613610698631563, 0.24918482361113997, 0.20089916526045903, 0.28501770447256425, 0.29048451287142674, 0.2610876889777317, 0.08852510139747138, 0.10597097582166026, 0.5061797337474555, 0.6194697011533248, 0.19390495054882043, 0.5152655441524653, 0.30851392023167323, 0.6585212893468385, 0.2140800262747025, 0.3722782595746864, 0.5377928170232299, 0.5450339555427025, 0.008622163157918139, 0.17973912144187365, 0.2505663064085388, 0.5741630508350284, 0.04578929088695399, 0.17392554284013073, -0.058771238963172684, 0.1041317230714281, 0.29723677567145745, 0.38012684013868864, 0.6539094953328332, 0.4243826197758498, 0.4962066353930457, 0.29676883763227546, 0.4194102849754887, 0.29301863809704043, 0.27403932724386193, 0.6271879072906202, 0.29873750759375967, 0.4136809424536767, 0.3902834121173706, 0.38111403232688384, 0.1995961838592769, 0.026219252006479787, 0.19106174709633705, 0.20878624616556582, 0.4657054448946942, 0.20534441088397173, 0.34858353117163565, -0.1026409861720493, 0.31982458070169834, 0.1320571329110443, 0.06526089763328685, 0.09331320683202526, 0.44247342337859064, -0.01994209549368592, 0.08498028724556903, 0.0775887100950497, 0.0647035374087025, 0.22539202247109727, 0.12965105565917445, 0.3557388834044911, 0.2194885640275534, 0.18818219148279963, 0.12531476149320203, 0.21513981573671906, -0.018526143529809247, 0.07170700265907032, 0.3263973778570833, 0.1609283584181419, 0.026230010418450356, 0.22239201627366023, 0.2989127093886226, 0.40784519334148783, 0.24961794250442232, 0.3468317036014891, 0.02909372199526644, -0.3482186682881229, 0.3262155405242041, 0.2961797117978643, 0.4201512298150226, 0.12366394989636752, 0.4437920125564112, -0.1692569838224974, 0.05027077122699475, 0.36831228138394073, 0.11604344490425461, 0.48650390426767964, 0.2956312384298398, 0.31264760224921584, -0.3482186682881229, 0.03550664991785407, 0.02952614509671897, 0.10940767204634397, 0.5563198996442763, 0.32182418174642224, 0.7440648300662893, 0.20431054644560745, 0.64100146381762, 0.5310355915712348, 0.22135517436557295, 0.2826556881835743, 0.3886170179594922, 0.49668712011068733, 0.01694291986023555, 0.441366373998995, 0.2855299659479533, 0.42414026406405747, 0.3666901649150178, 0.24810937868072533, -0.03558013205841276, 0.4318862049779311, 0.32860456715699315, 0.24275312947256805, 0.19921695771352627, 0.46178387412871885, 0.4776720106244244, 0.35782432005299003, 0.17714293270128378, 0.16506248003775487, -0.11703720713697546, 0.23859508428418938, 0.17675936869705042, -0.11038130447561234, 0.3189211070957634, 0.28332692874738374, 0.3732788160057552, 0.1049180486014728, 0.04278770842059104, 0.027803343076008985, 0.13254338136600613, 0.2748757279424157, 0.2220249203835265, -0.0020437419308114158, -0.047670689833708174, 0.12412439286699983, 0.10288778654956449, 0.16089927923915587, 0.09537219332429117, -0.007694486155211927, 0.10843727053237823, 0.062120445071350394, 0.008053611059609223, 0.16325565663734165, 0.17122951990152094, 0.0932394602618723, 0.05396433499662978, 0.12273551405466265, 0.32449029607012553, 0.2574329772377771, 0.16139403966542643, 0.13532244647795227, 0.30648654806216846, 0.1670301266260485, 0.1765634023784323, 0.43617574069375153, 0.09675987132320324, 0.3998013713563038, 0.07913076942559749, 0.03655752334690998, -0.3482186682881229, 0.0392940779515249, -0.13964577533598596, -0.1301378678199166, 0.264033125044397, 0.08691470265595147, 0.16113338690124984, 0.30983337383676224, 0.049440029716583955, 0.5572597300746823, 0.20206652275107764, 0.1489095871148678, 0.3497550642936572, 0.13523869040821446, 0.013877839323403335, -0.1108399830969038, 0.19161032689412166, 0.07581359650967093, 0.39749970506673965, 0.38036743144109564, 0.08314377459604672, 0.17728898519071168, 0.49898766965018226, 0.05830920887842242, 0.22043847309234652, 0.1111217089877583, 0.11004041482458549, 0.11790886619247168, 0.2567028778087741, 0.017616769324116932, 0.49197408523043257, 0.3818825917952726, 0.6618122786027714, 0.36744605940559577, 0.5785445994646194, 0.24482626550329856, 0.21870881232595368, 0.19592140100089947, 0.4778765627611546, 0.10546817727388588, 0.12833658186653502, 0.18136413710680005, 0.27725744644709843, 0.210703777460381, 0.1002171829202381, 0.5191025424598972, 0.23429568195536948, 0.2650840825120955, 0.16051363841653865, 0.2696623151945034, 0.22076038704563872, 0.14004821323168906, -0.20167477089702163, -0.017635241805923102, 0.25514030953805467, 0.09505171040633997, 0.10310932796059236, 0.18528646199810694, 0.22275587534879798, 0.5060131649489243, 0.1515759171916115, 0.2198594616515723, 0.36181840889255934, 0.4727310217607553, 0.2004821598930142, 0.38769838012595226, 0.2842804361664595, 0.08374466018380045, 0.11057663573305052, -0.09199741793424715, 0.4255516873660388, 0.16333314300877044, 0.4334001156426538, -0.043526511299134624, 0.34860264539704955, 0.5422995683087216, 0.28639968106153696, 0.2906953663427274, 0.34208391109094516, 0.3830352671623623, 0.06777940020439249, 0.08956877424548426, 0.32011714666766333, 0.22520837402979055, 0.340266114862135, 0.14023134399435863, 0.07843969365674425, 0.20259956328241865, 0.23903512599725313, 0.10480004355370093, 0.2949862053961171, 0.516030688990012, 0.08288020422514891, 0.4036036026718135, 0.5686153190401442, 0.02113208682725387, 0.06389943515185964, 0.27330609393718974, 0.07948810393263683, 0.3138425284451051, 0.2510345355356661, 0.5342612797632743, -0.3482186682881229, 0.35219454842170334, 0.24240813678096879, 0.09602187643223875, 0.1147916924705511, 0.07056326185890768, 0.16061578632900808, 0.22597091024468902, -0.009121517909650628, 0.3215348943060899, 0.2431114523292652, 0.04357745226862017, 0.25869995592759626, 0.19956928662519086, 0.11875996122854493, 0.10559058069827187, 0.14923490476798512, 0.27634696170982576, 0.624744300726434, 0.28607690986057677, 0.53761976814721, 0.2410415064805435, 0.17864496963173052, 0.40935759010780925, 0.7442534625245161, 0.18677085705192942, 0.2480579080796274, 0.17085253044666512, 0.7444590413817351, 0.006397865595847041, 0.09990534514469104, 0.16503776931958358, -0.3482186682881229, 0.5240729170882404, 0.22962909161950748, 0.20547272264260874, -0.007529862081568195, 0.583439411467277, 0.41339167547129885, -0.11915185711883602, 0.42127071729281806, 0.08500779142582163, -0.060026446087606766, 0.2996221750450523, 0.23439087387297375, 0.7447468504231658, 0.6074075501831991, 0.4680558007001163, 0.31956477965305585, 0.05198511167873954, 0.23644089386186168, -0.3482186682881229, 0.5532364794077188, -0.007298760752439376, 0.5525215504051847, 0.4688126873605671, 0.43280395696002777, 0.3310703323977734, 0.39861295293256005, 0.11222695315982584, 0.2536981925760804, 0.02013240876764627, 0.11282101739004805, 0.18873549784597948, 0.20521077112109617, -0.3482186682881229, 0.37691995976333564, 0.29625554361697937, 0.4897426642869928, 0.05006524085795866, 0.005926052407009608, 0.5453718960089988, 0.41882201582895917, 0.03389218977232061, 0.09847465426991636, 0.23942981870714716, 0.3201306827651502, 0.06839596969049738, 0.21943668582935028, 0.21765788966851768, 0.30388609153378915, -0.1066114979937407, -0.009633206292227692, 0.16503776931958358, 0.5010626345435194, 0.12928260570257202, 0.29828220425553326, -0.053204803446208815, 0.05571548420459804, 0.3065677881369588, 0.5593932848346324, 0.4603977246468637, 0.17425989231106098, 0.3128479516163527, 0.3805014305879244, 0.31487918400743775, -0.04296133559029375, 0.2236506373300263, 0.04220475659373363, 0.18893826010639808, 0.08703457168195616], \"yaxis\": \"y\"}, {\"hoverlabel\": {\"namelength\": 0}, \"hovertemplate\": \"gt_mode=minor<br>major=%{x}<br>minor=%{y}\", \"legendgroup\": \"gt_mode=minor\", \"marker\": {\"color\": \"#EF553B\", \"symbol\": \"circle\"}, \"mode\": \"markers\", \"name\": \"gt_mode=minor\", \"showlegend\": true, \"type\": \"scatter\", \"x\": [0.3564362257227567, 0.4315995644766423, 0.2567467615360213, 0.5381421927711866, -0.017748860487105236, 0.5775386466748496, 0.7183900575686415, 0.5520828485274398, 0.27118019791869546, 0.4430529403483363, 0.4482790914845825, 0.8481884726155746, 0.4181545443442719, 0.25416638267798186, 0.2432819013639539, 0.3170302891466167, 0.6497680422364198, 0.30615766679558415, 0.6943833476654513, 0.46591408367117904, 0.31365306052877723, 0.578222198244182, 0.29417482923522853, 0.6103728352312368, 0.7565665056038506, 0.12272870129904337, 0.567030173750623, 0.6636184923565203, 0.6018320209649907, 0.2694511643069183, 0.6046575652584907, 0.5817090069029686, 0.5854794596109515, 0.6495867756792022, 0.24072924584365782, 0.7139747475718368, 0.20386091301902964, 0.29351227290852444, 0.17142197766721076, 0.25274406085451073, 0.3405789953549248, 0.5906456495809809, 0.868694462578719, 0.37058337431386723, 0.7068566581100748, 0.7188536464772576, 0.4026897925675681, 0.3082958289547358, 0.8350155443750266, 0.5045317963898185, 0.24420293333750587, 0.16849506088143887, 0.3057561008793867, 0.3580808659993604, 0.6504458215016796, 0.05590596119787658, 0.9234451166722375, 0.7572600053725898, 0.43403517877953196, 0.12695919765152608, 0.2607663520646209, 0.2206784542250201, 0.25117905847732874], \"xaxis\": \"x\", \"y\": [0.6982221834493415, 0.6276633962266147, 0.8344502183819462, 0.6662505687109525, 0.7746575340008228, 0.22256696791350356, 0.6058209895267899, 0.619685856130709, 0.8490573888814251, 0.7427359358701586, 0.8644181209205027, 0.5982762089970963, 0.7961745236838412, 0.8732632367522339, 0.8228736225731883, 0.9052110992315521, 0.8528864552815153, 0.8440353728539142, 0.7102787470433796, 0.5522731814361154, 0.8061137860154619, 0.8608550679245042, 0.8275163213035523, 0.6148083622559226, -0.02239634257925155, 0.8137038317523346, 0.6146930453317192, 0.3157522034647203, 0.8733489601001283, 0.9135317212521981, 0.7942786957372912, 0.7526748377116874, 0.817811295170849, 0.6982563505083392, 0.6699609911994377, 0.3757125682624658, 0.8828667993912976, 0.9043119439001496, 0.6659999256938025, 0.8865913042364393, 0.9276587117047328, 0.728634560264908, 0.29910247584603, 0.846970993011136, 0.6514586710793325, 0.7099651050877184, 0.4764635476397851, 0.5576921743782673, 0.1650219036836697, 0.8084875739173465, 0.6889811588599484, 0.7922967951410098, 0.726901166151076, 0.9039357761619611, 0.7919300829737025, 0.6366750261701302, 0.5192774451130717, 0.5446273962168513, 0.9106431653383944, 0.7935483526183537, 0.6249194588871463, 0.4762181748492387, 0.8726324710348085], \"yaxis\": \"y\"}],\n",
       "                        {\"height\": 600, \"legend\": {\"tracegroupgap\": 0}, \"margin\": {\"t\": 60}, \"template\": {\"data\": {\"bar\": [{\"error_x\": {\"color\": \"#2a3f5f\"}, \"error_y\": {\"color\": \"#2a3f5f\"}, \"marker\": {\"line\": {\"color\": \"#E5ECF6\", \"width\": 0.5}}, \"type\": \"bar\"}], \"barpolar\": [{\"marker\": {\"line\": {\"color\": \"#E5ECF6\", \"width\": 0.5}}, \"type\": \"barpolar\"}], \"carpet\": [{\"aaxis\": {\"endlinecolor\": \"#2a3f5f\", \"gridcolor\": \"white\", \"linecolor\": \"white\", \"minorgridcolor\": \"white\", \"startlinecolor\": \"#2a3f5f\"}, \"baxis\": {\"endlinecolor\": \"#2a3f5f\", \"gridcolor\": \"white\", \"linecolor\": \"white\", \"minorgridcolor\": \"white\", \"startlinecolor\": \"#2a3f5f\"}, \"type\": \"carpet\"}], \"choropleth\": [{\"colorbar\": {\"outlinewidth\": 0, \"ticks\": \"\"}, \"type\": \"choropleth\"}], \"contour\": [{\"colorbar\": {\"outlinewidth\": 0, \"ticks\": \"\"}, \"colorscale\": [[0.0, \"#0d0887\"], [0.1111111111111111, \"#46039f\"], [0.2222222222222222, \"#7201a8\"], [0.3333333333333333, \"#9c179e\"], [0.4444444444444444, \"#bd3786\"], [0.5555555555555556, \"#d8576b\"], [0.6666666666666666, \"#ed7953\"], [0.7777777777777778, \"#fb9f3a\"], [0.8888888888888888, \"#fdca26\"], [1.0, \"#f0f921\"]], \"type\": \"contour\"}], \"contourcarpet\": [{\"colorbar\": {\"outlinewidth\": 0, \"ticks\": \"\"}, \"type\": \"contourcarpet\"}], \"heatmap\": [{\"colorbar\": {\"outlinewidth\": 0, \"ticks\": \"\"}, \"colorscale\": [[0.0, \"#0d0887\"], [0.1111111111111111, \"#46039f\"], [0.2222222222222222, \"#7201a8\"], [0.3333333333333333, \"#9c179e\"], [0.4444444444444444, \"#bd3786\"], [0.5555555555555556, \"#d8576b\"], [0.6666666666666666, \"#ed7953\"], [0.7777777777777778, \"#fb9f3a\"], [0.8888888888888888, \"#fdca26\"], [1.0, \"#f0f921\"]], \"type\": \"heatmap\"}], \"heatmapgl\": [{\"colorbar\": {\"outlinewidth\": 0, \"ticks\": \"\"}, \"colorscale\": [[0.0, \"#0d0887\"], [0.1111111111111111, \"#46039f\"], [0.2222222222222222, \"#7201a8\"], [0.3333333333333333, \"#9c179e\"], [0.4444444444444444, \"#bd3786\"], [0.5555555555555556, \"#d8576b\"], [0.6666666666666666, \"#ed7953\"], [0.7777777777777778, \"#fb9f3a\"], [0.8888888888888888, \"#fdca26\"], [1.0, \"#f0f921\"]], \"type\": \"heatmapgl\"}], \"histogram\": [{\"marker\": {\"colorbar\": {\"outlinewidth\": 0, \"ticks\": \"\"}}, \"type\": \"histogram\"}], \"histogram2d\": [{\"colorbar\": {\"outlinewidth\": 0, \"ticks\": \"\"}, \"colorscale\": [[0.0, \"#0d0887\"], [0.1111111111111111, \"#46039f\"], [0.2222222222222222, \"#7201a8\"], [0.3333333333333333, \"#9c179e\"], [0.4444444444444444, \"#bd3786\"], [0.5555555555555556, \"#d8576b\"], [0.6666666666666666, \"#ed7953\"], [0.7777777777777778, \"#fb9f3a\"], [0.8888888888888888, \"#fdca26\"], [1.0, \"#f0f921\"]], \"type\": \"histogram2d\"}], \"histogram2dcontour\": [{\"colorbar\": {\"outlinewidth\": 0, \"ticks\": \"\"}, \"colorscale\": [[0.0, \"#0d0887\"], [0.1111111111111111, \"#46039f\"], [0.2222222222222222, \"#7201a8\"], [0.3333333333333333, \"#9c179e\"], [0.4444444444444444, \"#bd3786\"], [0.5555555555555556, \"#d8576b\"], [0.6666666666666666, \"#ed7953\"], [0.7777777777777778, \"#fb9f3a\"], [0.8888888888888888, \"#fdca26\"], [1.0, \"#f0f921\"]], \"type\": \"histogram2dcontour\"}], \"mesh3d\": [{\"colorbar\": {\"outlinewidth\": 0, \"ticks\": \"\"}, \"type\": \"mesh3d\"}], \"parcoords\": [{\"line\": {\"colorbar\": {\"outlinewidth\": 0, \"ticks\": \"\"}}, \"type\": \"parcoords\"}], \"pie\": [{\"automargin\": true, \"type\": \"pie\"}], \"scatter\": [{\"marker\": {\"colorbar\": {\"outlinewidth\": 0, \"ticks\": \"\"}}, \"type\": \"scatter\"}], \"scatter3d\": [{\"line\": {\"colorbar\": {\"outlinewidth\": 0, \"ticks\": \"\"}}, \"marker\": {\"colorbar\": {\"outlinewidth\": 0, \"ticks\": \"\"}}, \"type\": \"scatter3d\"}], \"scattercarpet\": [{\"marker\": {\"colorbar\": {\"outlinewidth\": 0, \"ticks\": \"\"}}, \"type\": \"scattercarpet\"}], \"scattergeo\": [{\"marker\": {\"colorbar\": {\"outlinewidth\": 0, \"ticks\": \"\"}}, \"type\": \"scattergeo\"}], \"scattergl\": [{\"marker\": {\"colorbar\": {\"outlinewidth\": 0, \"ticks\": \"\"}}, \"type\": \"scattergl\"}], \"scattermapbox\": [{\"marker\": {\"colorbar\": {\"outlinewidth\": 0, \"ticks\": \"\"}}, \"type\": \"scattermapbox\"}], \"scatterpolar\": [{\"marker\": {\"colorbar\": {\"outlinewidth\": 0, \"ticks\": \"\"}}, \"type\": \"scatterpolar\"}], \"scatterpolargl\": [{\"marker\": {\"colorbar\": {\"outlinewidth\": 0, \"ticks\": \"\"}}, \"type\": \"scatterpolargl\"}], \"scatterternary\": [{\"marker\": {\"colorbar\": {\"outlinewidth\": 0, \"ticks\": \"\"}}, \"type\": \"scatterternary\"}], \"surface\": [{\"colorbar\": {\"outlinewidth\": 0, \"ticks\": \"\"}, \"colorscale\": [[0.0, \"#0d0887\"], [0.1111111111111111, \"#46039f\"], [0.2222222222222222, \"#7201a8\"], [0.3333333333333333, \"#9c179e\"], [0.4444444444444444, \"#bd3786\"], [0.5555555555555556, \"#d8576b\"], [0.6666666666666666, \"#ed7953\"], [0.7777777777777778, \"#fb9f3a\"], [0.8888888888888888, \"#fdca26\"], [1.0, \"#f0f921\"]], \"type\": \"surface\"}], \"table\": [{\"cells\": {\"fill\": {\"color\": \"#EBF0F8\"}, \"line\": {\"color\": \"white\"}}, \"header\": {\"fill\": {\"color\": \"#C8D4E3\"}, \"line\": {\"color\": \"white\"}}, \"type\": \"table\"}]}, \"layout\": {\"annotationdefaults\": {\"arrowcolor\": \"#2a3f5f\", \"arrowhead\": 0, \"arrowwidth\": 1}, \"coloraxis\": {\"colorbar\": {\"outlinewidth\": 0, \"ticks\": \"\"}}, \"colorscale\": {\"diverging\": [[0, \"#8e0152\"], [0.1, \"#c51b7d\"], [0.2, \"#de77ae\"], [0.3, \"#f1b6da\"], [0.4, \"#fde0ef\"], [0.5, \"#f7f7f7\"], [0.6, \"#e6f5d0\"], [0.7, \"#b8e186\"], [0.8, \"#7fbc41\"], [0.9, \"#4d9221\"], [1, \"#276419\"]], \"sequential\": [[0.0, \"#0d0887\"], [0.1111111111111111, \"#46039f\"], [0.2222222222222222, \"#7201a8\"], [0.3333333333333333, \"#9c179e\"], [0.4444444444444444, \"#bd3786\"], [0.5555555555555556, \"#d8576b\"], [0.6666666666666666, \"#ed7953\"], [0.7777777777777778, \"#fb9f3a\"], [0.8888888888888888, \"#fdca26\"], [1.0, \"#f0f921\"]], \"sequentialminus\": [[0.0, \"#0d0887\"], [0.1111111111111111, \"#46039f\"], [0.2222222222222222, \"#7201a8\"], [0.3333333333333333, \"#9c179e\"], [0.4444444444444444, \"#bd3786\"], [0.5555555555555556, \"#d8576b\"], [0.6666666666666666, \"#ed7953\"], [0.7777777777777778, \"#fb9f3a\"], [0.8888888888888888, \"#fdca26\"], [1.0, \"#f0f921\"]]}, \"colorway\": [\"#636efa\", \"#EF553B\", \"#00cc96\", \"#ab63fa\", \"#FFA15A\", \"#19d3f3\", \"#FF6692\", \"#B6E880\", \"#FF97FF\", \"#FECB52\"], \"font\": {\"color\": \"#2a3f5f\"}, \"geo\": {\"bgcolor\": \"white\", \"lakecolor\": \"white\", \"landcolor\": \"#E5ECF6\", \"showlakes\": true, \"showland\": true, \"subunitcolor\": \"white\"}, \"hoverlabel\": {\"align\": \"left\"}, \"hovermode\": \"closest\", \"mapbox\": {\"style\": \"light\"}, \"paper_bgcolor\": \"white\", \"plot_bgcolor\": \"#E5ECF6\", \"polar\": {\"angularaxis\": {\"gridcolor\": \"white\", \"linecolor\": \"white\", \"ticks\": \"\"}, \"bgcolor\": \"#E5ECF6\", \"radialaxis\": {\"gridcolor\": \"white\", \"linecolor\": \"white\", \"ticks\": \"\"}}, \"scene\": {\"xaxis\": {\"backgroundcolor\": \"#E5ECF6\", \"gridcolor\": \"white\", \"gridwidth\": 2, \"linecolor\": \"white\", \"showbackground\": true, \"ticks\": \"\", \"zerolinecolor\": \"white\"}, \"yaxis\": {\"backgroundcolor\": \"#E5ECF6\", \"gridcolor\": \"white\", \"gridwidth\": 2, \"linecolor\": \"white\", \"showbackground\": true, \"ticks\": \"\", \"zerolinecolor\": \"white\"}, \"zaxis\": {\"backgroundcolor\": \"#E5ECF6\", \"gridcolor\": \"white\", \"gridwidth\": 2, \"linecolor\": \"white\", \"showbackground\": true, \"ticks\": \"\", \"zerolinecolor\": \"white\"}}, \"shapedefaults\": {\"line\": {\"color\": \"#2a3f5f\"}}, \"ternary\": {\"aaxis\": {\"gridcolor\": \"white\", \"linecolor\": \"white\", \"ticks\": \"\"}, \"baxis\": {\"gridcolor\": \"white\", \"linecolor\": \"white\", \"ticks\": \"\"}, \"bgcolor\": \"#E5ECF6\", \"caxis\": {\"gridcolor\": \"white\", \"linecolor\": \"white\", \"ticks\": \"\"}}, \"title\": {\"x\": 0.05}, \"xaxis\": {\"automargin\": true, \"gridcolor\": \"white\", \"linecolor\": \"white\", \"ticks\": \"\", \"title\": {\"standoff\": 15}, \"zerolinecolor\": \"white\", \"zerolinewidth\": 2}, \"yaxis\": {\"automargin\": true, \"gridcolor\": \"white\", \"linecolor\": \"white\", \"ticks\": \"\", \"title\": {\"standoff\": 15}, \"zerolinecolor\": \"white\", \"zerolinewidth\": 2}}}, \"xaxis\": {\"anchor\": \"y\", \"domain\": [0.0, 1.0], \"title\": {\"text\": \"major\"}}, \"yaxis\": {\"anchor\": \"x\", \"domain\": [0.0, 1.0], \"title\": {\"text\": \"minor\"}}},\n",
       "                        {\"responsive\": true}\n",
       "                    ).then(function(){\n",
       "                            \n",
       "var gd = document.getElementById('45cc7783-d7f6-480a-8b97-cd77b7a974e8');\n",
       "var x = new MutationObserver(function (mutations, observer) {{\n",
       "        var display = window.getComputedStyle(gd).display;\n",
       "        if (!display || display === 'none') {{\n",
       "            console.log([gd, 'removed!']);\n",
       "            Plotly.purge(gd);\n",
       "            observer.disconnect();\n",
       "        }}\n",
       "}});\n",
       "\n",
       "// Listen for the removal of the full notebook cells\n",
       "var notebookContainer = gd.closest('#notebook-container');\n",
       "if (notebookContainer) {{\n",
       "    x.observe(notebookContainer, {childList: true});\n",
       "}}\n",
       "\n",
       "// Listen for the clearing of the current output cell\n",
       "var outputEl = gd.closest('.output');\n",
       "if (outputEl) {{\n",
       "    x.observe(outputEl, {childList: true});\n",
       "}}\n",
       "\n",
       "                        })\n",
       "                };\n",
       "                });\n",
       "            </script>\n",
       "        </div>"
      ]
     },
     "metadata": {},
     "output_type": "display_data"
    }
   ],
   "source": [
    "all_corr['gt_mode'] = GT_ma_mi\n",
    "\n",
    "px.scatter(all_corr, x = 'major', y = 'minor', color = 'gt_mode')"
   ]
  },
  {
   "cell_type": "code",
   "execution_count": 57,
   "metadata": {},
   "outputs": [
    {
     "data": {
      "text/html": [
       "<div>\n",
       "<style scoped>\n",
       "    .dataframe tbody tr th:only-of-type {\n",
       "        vertical-align: middle;\n",
       "    }\n",
       "\n",
       "    .dataframe tbody tr th {\n",
       "        vertical-align: top;\n",
       "    }\n",
       "\n",
       "    .dataframe thead th {\n",
       "        text-align: right;\n",
       "    }\n",
       "</style>\n",
       "<table border=\"1\" class=\"dataframe\">\n",
       "  <thead>\n",
       "    <tr style=\"text-align: right;\">\n",
       "      <th></th>\n",
       "      <th>D</th>\n",
       "      <th>no</th>\n",
       "      <th>dance</th>\n",
       "      <th>path</th>\n",
       "      <th>gt_mode</th>\n",
       "      <th>entropy</th>\n",
       "      <th>duration_entropy</th>\n",
       "      <th>onset_entropy</th>\n",
       "      <th>maj_traj</th>\n",
       "      <th>min_traj</th>\n",
       "    </tr>\n",
       "    <tr>\n",
       "      <th>id</th>\n",
       "      <th></th>\n",
       "      <th></th>\n",
       "      <th></th>\n",
       "      <th></th>\n",
       "      <th></th>\n",
       "      <th></th>\n",
       "      <th></th>\n",
       "      <th></th>\n",
       "      <th></th>\n",
       "      <th></th>\n",
       "    </tr>\n",
       "  </thead>\n",
       "  <tbody>\n",
       "    <tr>\n",
       "      <td>7</td>\n",
       "      <td>41</td>\n",
       "      <td>4</td>\n",
       "      <td>menuett</td>\n",
       "      <td>041/D041menuett04a.mscx</td>\n",
       "      <td>minor</td>\n",
       "      <td>0.561346</td>\n",
       "      <td>1.098277</td>\n",
       "      <td>1.944786</td>\n",
       "      <td>[0.3073222318928299, 0.2387442668085816, 0.170...</td>\n",
       "      <td>[0.8054444090049824, 0.7483545875906985, 0.555...</td>\n",
       "    </tr>\n",
       "  </tbody>\n",
       "</table>\n",
       "</div>"
      ],
      "text/plain": [
       "     D  no    dance                     path gt_mode   entropy  \\\n",
       "id                                                               \n",
       "7   41   4  menuett  041/D041menuett04a.mscx   minor  0.561346   \n",
       "\n",
       "    duration_entropy  onset_entropy  \\\n",
       "id                                    \n",
       "7           1.098277       1.944786   \n",
       "\n",
       "                                             maj_traj  \\\n",
       "id                                                      \n",
       "7   [0.3073222318928299, 0.2387442668085816, 0.170...   \n",
       "\n",
       "                                             min_traj  \n",
       "id                                                     \n",
       "7   [0.8054444090049824, 0.7483545875906985, 0.555...  "
      ]
     },
     "execution_count": 57,
     "metadata": {},
     "output_type": "execute_result"
    }
   ],
   "source": [
    "test_files.loc[test_files['gt_mode']=='minor'].head()"
   ]
  },
  {
   "cell_type": "code",
   "execution_count": 58,
   "metadata": {},
   "outputs": [
    {
     "data": {
      "text/plain": [
       "3"
      ]
     },
     "execution_count": 58,
     "metadata": {},
     "output_type": "execute_result"
    }
   ],
   "source": [
    "a = [1, 2, 4]\n",
    "len(a)"
   ]
  },
  {
   "cell_type": "markdown",
   "metadata": {},
   "source": [
    "Initialize figure"
   ]
  },
  {
   "cell_type": "code",
   "execution_count": 65,
   "metadata": {
    "scrolled": true
   },
   "outputs": [
    {
     "data": {
      "application/vnd.plotly.v1+json": {
       "config": {
        "plotlyServerURL": "https://plot.ly"
       },
       "data": [
        {
         "marker": {
          "color": "blue"
         },
         "mode": "markers",
         "type": "scatter",
         "x": [
          0.8207972980220555,
          0.790240973660125,
          0.9079654856001922,
          0.5419773214163084,
          0.9176111600754956,
          0.9109401055748021,
          0.8328806553444592,
          0.9069530118887316,
          0.9270863520697097,
          0.6199061978084154,
          0.8400797622363756,
          0.8489655225255782,
          0.8075420086113754,
          0.8417953169947824,
          0.8461262818125667,
          0.8491638916382442,
          0.8695429706438508,
          0.7303992431878297,
          0.7903720782169069,
          0.916744347281714,
          0.9261327417053864,
          0.721215764651099,
          0.7669305042853196,
          0.7836839226480539,
          0.8273486105817075,
          0.7093195900822011,
          0.9242976868385244,
          0.8464834099430194,
          0.7549613488862846,
          0.6307379271203661,
          0.7597052386277912,
          0.6741382139070993,
          0.7173698432223571,
          0.6480905916915303,
          0.8572242936027941,
          0.7501679464358135,
          0.8033129634145662,
          0.8404658735801976,
          0.915025814591951,
          0.9467801159809195,
          0.6207516525474026,
          0.9169335862646248,
          0.9219154733853785,
          0.9402624549513166,
          0.8963698884569248,
          0.9048708448802895,
          0.8524348227571585,
          0.9065464811571441,
          0.9067742885516609,
          0.9513223497226696,
          0.9446603878671918,
          0.8976348825338288,
          0.7659402291385216,
          0.8362437660015885,
          0.6440893804730612,
          0.9101546947494579,
          0.9058115968049769,
          0.8857100785461274,
          0.5236157290770527,
          0.9310418662011759,
          0.8759685382166088,
          0.8364464161298937,
          0.7838330084190975,
          0.8876489227149067,
          0.7734955892187356,
          0.8426479204597233,
          0.7938046486291177,
          0.8214088895224017,
          0.8646788126778518,
          0.8360708901904723,
          0.934591992791185,
          0.9009851265939632,
          0.9071272861215018,
          0.882132082990858,
          0.9110268186986226,
          0.7724492966284047,
          0.8537656927609241,
          0.8941015238569348,
          0.8984801815717804,
          0.835355796097343,
          0.9480918817230681,
          0.9154771162435411,
          0.8708986915109078,
          0.8805882054162543,
          0.7553069558597482,
          0.793109676762467,
          0.43123479231595513,
          0.8795915971807882,
          0.7858153171119768,
          0.922372996986131,
          0.7194100780119327,
          0.9146324999572443,
          0.4647454610134685,
          0.7842552613954143,
          0.8859579429426125,
          0.8503879384371739,
          0.8515315146365823,
          0.7942333336006174,
          0.901354335175613,
          0.43123479231595513,
          0.740487549684391,
          0.7684498195618548,
          0.851004394751246,
          0.9652740837807514,
          0.8976949664605398,
          0.8132212878806183,
          0.797046016793501,
          0.6587896583753408,
          0.6926942418866691,
          0.7411138968760563,
          0.8872275969707697,
          0.7841452417693724,
          0.8540043899998073,
          0.7492103188476575,
          0.902942393216534,
          0.9368390212110557,
          0.9478993650602603,
          0.9531830246417694,
          0.9014544396337655,
          0.7474629728480966,
          0.9378838061443855,
          0.9145442260074385,
          0.8148392982274775,
          0.7435560559650365,
          0.92984517880828,
          0.8569978972689744,
          0.8948439803587751,
          0.7939541796845854,
          0.804671224007528,
          0.6861990712014543,
          0.7621875172357848,
          0.8371516060760373,
          0.6699462245481193,
          0.9268951300011311,
          0.7421715640907587,
          0.9151639245870246,
          0.8096350361372575,
          0.7787468419992692,
          0.6767925215653594,
          0.8091563108280297,
          0.924446748270715,
          0.8016197179951077,
          0.7314568211328376,
          0.7593308769452298,
          0.8356727179421592,
          0.8742056056729145,
          0.935844307324392,
          0.8721133513415096,
          0.746984301441737,
          0.8602085467887749,
          0.9007345440804067,
          0.8170713650703303,
          0.917902382931389,
          0.8395250004749565,
          0.8402391048865885,
          0.8497901405223965,
          0.7994476340305596,
          0.7968376956245826,
          0.6151980818421076,
          0.9070204405472918,
          0.8802548369814793,
          0.8585041531270217,
          0.9032217671804541,
          0.8923359691253232,
          0.9334145543027021,
          0.855301583299803,
          0.931415191232734,
          0.8431003375546402,
          0.7636298495976774,
          0.43123479231595513,
          0.7694542423107658,
          0.5862443658688374,
          0.6589643842485426,
          0.8045721631527099,
          0.8615973249550243,
          0.8654653221256748,
          0.8952522793091374,
          0.7930062606366772,
          0.9265286578932277,
          0.8780535390052749,
          0.8863517388734022,
          0.9330113309839155,
          0.7962045127225502,
          0.5128630297771848,
          0.6455361655006635,
          0.8161337160691613,
          0.7018500861122507,
          0.914074594068353,
          0.8781603665786994,
          0.8444767764997334,
          0.8267217340357464,
          0.7243330724427574,
          0.7690896226042561,
          0.8742868353188548,
          0.6806019423888425,
          0.8602171674601538,
          0.848248536936258,
          0.9271820618579545,
          0.806546691502891,
          0.7475913735454975,
          0.88212114758662,
          0.9260298246031826,
          0.8272539828512996,
          0.8736413441536015,
          0.8618231374818344,
          0.8678057937190076,
          0.8793781116157812,
          0.912611091853504,
          0.8720390560741154,
          0.8846633606364691,
          0.7795844966823775,
          0.8945485307540846,
          0.8924154090451807,
          0.8004075614985321,
          0.8188059940175345,
          0.891358034858618,
          0.9725451034062516,
          0.656522105422085,
          0.8889932226304946,
          0.8918933740995139,
          0.7533702787445948,
          0.5908999301308846,
          0.6854552230157581,
          0.9013537981931259,
          0.8543049457099945,
          0.8566107881445488,
          0.8977774803387295,
          0.9091623342856566,
          0.9346352194615217,
          0.8591825782823683,
          0.886356983754699,
          0.9447294899406192,
          0.9487903215026833,
          0.9266873347901843,
          0.8420206225894586,
          0.8773457441249395,
          0.8526503410008253,
          0.8422642852028362,
          0.6513781016070805,
          0.8787050181370103,
          0.8944507476923889,
          0.7673984823986076,
          0.4423750719259727,
          0.8640653749498342,
          0.9409708477979617,
          0.9408362644547827,
          0.8790962325863106,
          0.8358933802471776,
          0.8906256903717373,
          0.8214332149849839,
          0.6623930942651601,
          0.9087943042524002,
          0.8948930216591302,
          0.9210443460607327,
          0.8174677902414258,
          0.8459047972677619,
          0.7926699440813331,
          0.8815480699125496,
          0.8531550140543549,
          0.9182176671446445,
          0.7894395246648587,
          0.8576753648358209,
          0.8883390664392824,
          0.6920783658747602,
          0.7904701165590944,
          0.865296515660761,
          0.9254188366267289,
          0.8435590377597921,
          0.876528112635615,
          0.8710479304331555,
          0.8735067520096298,
          0.43123479231595513,
          0.9386145109340174,
          0.927302274147728,
          0.8593596798864069,
          0.7488138456056977,
          0.7850024435960434,
          0.8739120291012034,
          0.8810949493449133,
          0.7482928874535228,
          0.9166500511714917,
          0.7169875041031106,
          0.842697135855791,
          0.8930963535160774,
          0.7827775970566779,
          0.8458435665230742,
          0.8381225856820353,
          0.9096640650683521,
          0.9164201459634166,
          0.8013009323779486,
          0.9403275808658653,
          0.6037855913925356,
          0.8958162134128083,
          0.5518925095706356,
          0.9083300998611498,
          0.47533347519771074,
          0.852370731944642,
          0.8056336311145462,
          0.8842289769607229,
          0.7859798058702769,
          0.7734731570775302,
          0.8375691417490325,
          0.092299597917662,
          0.43123479231595513,
          0.9220189783878902,
          0.7510606905401425,
          0.8511888811985884,
          0.6246263434862656,
          0.8372967898999426,
          0.8666343624662326,
          0.6371737683917067,
          0.8722812455877168,
          0.6647414764836439,
          0.7639790968201912,
          0.7971170982121901,
          0.9223993213180794,
          0.6776648390327069,
          0.9073964413277711,
          0.8835345231577325,
          0.9322767674457559,
          0.7473768742496228,
          0.8250397309312123,
          0.43123479231595513,
          0.8820873016665784,
          0.6826475051130533,
          0.9069094158073724,
          0.9573350912005576,
          0.8710105207046359,
          0.9128965624821297,
          0.954902163389393,
          0.8795892272990781,
          0.82279470072282,
          0.697431228641235,
          0.8231871047149939,
          0.874402382465929,
          0.8693632330586837,
          0.43123479231595513,
          0.8540122018104981,
          0.721234730026231,
          0.9636151132819889,
          0.83854758195593,
          0.6984411219952029,
          0.8871213014485729,
          0.8579074316307665,
          0.8116878844423361,
          0.8780700854535254,
          0.8979109867921413,
          0.8041212843115413,
          0.8298237469264662,
          0.9313816718757337,
          0.9061786678451326,
          0.9158485004462725,
          0.68471096841837,
          0.738989398283245,
          0.092299597917662,
          0.8224448694989599,
          0.8026269785689357,
          0.8903009340134476,
          0.7396378196026485,
          0.8031676568439177,
          0.9200848307808146,
          0.8493399692858359,
          0.8976082951746882,
          0.768448629454144,
          0.8434935671119391,
          0.926987413959862,
          0.9246550747255226,
          0.6422456076884634,
          0.8867524413416124,
          0.8334324318026497,
          0.9117473862595278,
          0.8217349951428545
         ],
         "y": [
          0.39228631604245967,
          0.2288537030895549,
          0.12855523531804558,
          -0.03459441149568593,
          0.5749511959319853,
          0.4746593313048446,
          0.2948661639984085,
          0.4499366452831151,
          0.3593625851748892,
          0.42535730704227337,
          0.24777190226653878,
          0.1613610698631563,
          0.24918482361113997,
          0.20089916526045903,
          0.28501770447256425,
          0.29048451287142674,
          0.2610876889777317,
          0.08852510139747138,
          0.10597097582166026,
          0.5061797337474555,
          0.6194697011533248,
          0.19390495054882043,
          0.5152655441524653,
          0.30851392023167323,
          0.6585212893468385,
          0.2140800262747025,
          0.3722782595746864,
          0.5377928170232299,
          0.5450339555427025,
          0.008622163157918139,
          0.17973912144187365,
          0.2505663064085388,
          0.5741630508350284,
          0.04578929088695399,
          0.17392554284013073,
          -0.058771238963172684,
          0.1041317230714281,
          0.29723677567145745,
          0.38012684013868864,
          0.6539094953328332,
          0.4243826197758498,
          0.4962066353930457,
          0.29676883763227546,
          0.4194102849754887,
          0.29301863809704043,
          0.27403932724386193,
          0.6271879072906202,
          0.29873750759375967,
          0.4136809424536767,
          0.3902834121173706,
          0.38111403232688384,
          0.1995961838592769,
          0.026219252006479787,
          0.19106174709633705,
          0.20878624616556582,
          0.4657054448946942,
          0.20534441088397173,
          0.34858353117163565,
          -0.1026409861720493,
          0.31982458070169834,
          0.1320571329110443,
          0.06526089763328685,
          0.09331320683202526,
          0.44247342337859064,
          -0.01994209549368592,
          0.08498028724556903,
          0.0775887100950497,
          0.0647035374087025,
          0.22539202247109727,
          0.12965105565917445,
          0.3557388834044911,
          0.2194885640275534,
          0.18818219148279963,
          0.12531476149320203,
          0.21513981573671906,
          -0.018526143529809247,
          0.07170700265907032,
          0.3263973778570833,
          0.1609283584181419,
          0.026230010418450356,
          0.22239201627366023,
          0.2989127093886226,
          0.40784519334148783,
          0.24961794250442232,
          0.3468317036014891,
          0.02909372199526644,
          -0.3482186682881229,
          0.3262155405242041,
          0.2961797117978643,
          0.4201512298150226,
          0.12366394989636752,
          0.4437920125564112,
          -0.1692569838224974,
          0.05027077122699475,
          0.36831228138394073,
          0.11604344490425461,
          0.48650390426767964,
          0.2956312384298398,
          0.31264760224921584,
          -0.3482186682881229,
          0.03550664991785407,
          0.02952614509671897,
          0.10940767204634397,
          0.5563198996442763,
          0.32182418174642224,
          0.7440648300662893,
          0.20431054644560745,
          0.64100146381762,
          0.5310355915712348,
          0.22135517436557295,
          0.2826556881835743,
          0.3886170179594922,
          0.49668712011068733,
          0.01694291986023555,
          0.441366373998995,
          0.2855299659479533,
          0.42414026406405747,
          0.3666901649150178,
          0.24810937868072533,
          -0.03558013205841276,
          0.4318862049779311,
          0.32860456715699315,
          0.24275312947256805,
          0.19921695771352627,
          0.46178387412871885,
          0.4776720106244244,
          0.35782432005299003,
          0.17714293270128378,
          0.16506248003775487,
          -0.11703720713697546,
          0.23859508428418938,
          0.17675936869705042,
          -0.11038130447561234,
          0.3189211070957634,
          0.28332692874738374,
          0.3732788160057552,
          0.1049180486014728,
          0.04278770842059104,
          0.027803343076008985,
          0.13254338136600613,
          0.2748757279424157,
          0.2220249203835265,
          -0.0020437419308114158,
          -0.047670689833708174,
          0.12412439286699983,
          0.10288778654956449,
          0.16089927923915587,
          0.09537219332429117,
          -0.007694486155211927,
          0.10843727053237823,
          0.062120445071350394,
          0.008053611059609223,
          0.16325565663734165,
          0.17122951990152094,
          0.0932394602618723,
          0.05396433499662978,
          0.12273551405466265,
          0.32449029607012553,
          0.2574329772377771,
          0.16139403966542643,
          0.13532244647795227,
          0.30648654806216846,
          0.1670301266260485,
          0.1765634023784323,
          0.43617574069375153,
          0.09675987132320324,
          0.3998013713563038,
          0.07913076942559749,
          0.03655752334690998,
          -0.3482186682881229,
          0.0392940779515249,
          -0.13964577533598596,
          -0.1301378678199166,
          0.264033125044397,
          0.08691470265595147,
          0.16113338690124984,
          0.30983337383676224,
          0.049440029716583955,
          0.5572597300746823,
          0.20206652275107764,
          0.1489095871148678,
          0.3497550642936572,
          0.13523869040821446,
          0.013877839323403335,
          -0.1108399830969038,
          0.19161032689412166,
          0.07581359650967093,
          0.39749970506673965,
          0.38036743144109564,
          0.08314377459604672,
          0.17728898519071168,
          0.49898766965018226,
          0.05830920887842242,
          0.22043847309234652,
          0.1111217089877583,
          0.11004041482458549,
          0.11790886619247168,
          0.2567028778087741,
          0.017616769324116932,
          0.49197408523043257,
          0.3818825917952726,
          0.6618122786027714,
          0.36744605940559577,
          0.5785445994646194,
          0.24482626550329856,
          0.21870881232595368,
          0.19592140100089947,
          0.4778765627611546,
          0.10546817727388588,
          0.12833658186653502,
          0.18136413710680005,
          0.27725744644709843,
          0.210703777460381,
          0.1002171829202381,
          0.5191025424598972,
          0.23429568195536948,
          0.2650840825120955,
          0.16051363841653865,
          0.2696623151945034,
          0.22076038704563872,
          0.14004821323168906,
          -0.20167477089702163,
          -0.017635241805923102,
          0.25514030953805467,
          0.09505171040633997,
          0.10310932796059236,
          0.18528646199810694,
          0.22275587534879798,
          0.5060131649489243,
          0.1515759171916115,
          0.2198594616515723,
          0.36181840889255934,
          0.4727310217607553,
          0.2004821598930142,
          0.38769838012595226,
          0.2842804361664595,
          0.08374466018380045,
          0.11057663573305052,
          -0.09199741793424715,
          0.4255516873660388,
          0.16333314300877044,
          0.4334001156426538,
          -0.043526511299134624,
          0.34860264539704955,
          0.5422995683087216,
          0.28639968106153696,
          0.2906953663427274,
          0.34208391109094516,
          0.3830352671623623,
          0.06777940020439249,
          0.08956877424548426,
          0.32011714666766333,
          0.22520837402979055,
          0.340266114862135,
          0.14023134399435863,
          0.07843969365674425,
          0.20259956328241865,
          0.23903512599725313,
          0.10480004355370093,
          0.2949862053961171,
          0.516030688990012,
          0.08288020422514891,
          0.4036036026718135,
          0.5686153190401442,
          0.02113208682725387,
          0.06389943515185964,
          0.27330609393718974,
          0.07948810393263683,
          0.3138425284451051,
          0.2510345355356661,
          0.5342612797632743,
          -0.3482186682881229,
          0.35219454842170334,
          0.24240813678096879,
          0.09602187643223875,
          0.1147916924705511,
          0.07056326185890768,
          0.16061578632900808,
          0.22597091024468902,
          -0.009121517909650628,
          0.3215348943060899,
          0.2431114523292652,
          0.04357745226862017,
          0.25869995592759626,
          0.19956928662519086,
          0.11875996122854493,
          0.10559058069827187,
          0.14923490476798512,
          0.27634696170982576,
          0.624744300726434,
          0.28607690986057677,
          0.53761976814721,
          0.2410415064805435,
          0.17864496963173052,
          0.40935759010780925,
          0.7442534625245161,
          0.18677085705192942,
          0.2480579080796274,
          0.17085253044666512,
          0.7444590413817351,
          0.006397865595847041,
          0.09990534514469104,
          0.16503776931958358,
          -0.3482186682881229,
          0.5240729170882404,
          0.22962909161950748,
          0.20547272264260874,
          -0.007529862081568195,
          0.583439411467277,
          0.41339167547129885,
          -0.11915185711883602,
          0.42127071729281806,
          0.08500779142582163,
          -0.060026446087606766,
          0.2996221750450523,
          0.23439087387297375,
          0.7447468504231658,
          0.6074075501831991,
          0.4680558007001163,
          0.31956477965305585,
          0.05198511167873954,
          0.23644089386186168,
          -0.3482186682881229,
          0.5532364794077188,
          -0.007298760752439376,
          0.5525215504051847,
          0.4688126873605671,
          0.43280395696002777,
          0.3310703323977734,
          0.39861295293256005,
          0.11222695315982584,
          0.2536981925760804,
          0.02013240876764627,
          0.11282101739004805,
          0.18873549784597948,
          0.20521077112109617,
          -0.3482186682881229,
          0.37691995976333564,
          0.29625554361697937,
          0.4897426642869928,
          0.05006524085795866,
          0.005926052407009608,
          0.5453718960089988,
          0.41882201582895917,
          0.03389218977232061,
          0.09847465426991636,
          0.23942981870714716,
          0.3201306827651502,
          0.06839596969049738,
          0.21943668582935028,
          0.21765788966851768,
          0.30388609153378915,
          -0.1066114979937407,
          -0.009633206292227692,
          0.16503776931958358,
          0.5010626345435194,
          0.12928260570257202,
          0.29828220425553326,
          -0.053204803446208815,
          0.05571548420459804,
          0.3065677881369588,
          0.5593932848346324,
          0.4603977246468637,
          0.17425989231106098,
          0.3128479516163527,
          0.3805014305879244,
          0.31487918400743775,
          -0.04296133559029375,
          0.2236506373300263,
          0.04220475659373363,
          0.18893826010639808,
          0.08703457168195616
         ]
        },
        {
         "marker": {
          "color": "blue"
         },
         "mode": "markers",
         "type": "scatter",
         "x": [
          0.8207972980220555,
          0.790240973660125,
          0.9079654856001922,
          0.5419773214163084,
          0.9176111600754956,
          0.9109401055748021,
          0.8328806553444592,
          0.9069530118887316,
          0.9270863520697097,
          0.6199061978084154,
          0.8400797622363756,
          0.8489655225255782,
          0.8075420086113754,
          0.8417953169947824,
          0.8461262818125667,
          0.8491638916382442,
          0.8695429706438508,
          0.7303992431878297,
          0.7903720782169069,
          0.916744347281714,
          0.9261327417053864,
          0.721215764651099,
          0.7669305042853196,
          0.7836839226480539,
          0.8273486105817075,
          0.7093195900822011,
          0.9242976868385244,
          0.8464834099430194,
          0.7549613488862846,
          0.6307379271203661,
          0.7597052386277912,
          0.6741382139070993,
          0.7173698432223571,
          0.6480905916915303,
          0.8572242936027941,
          0.7501679464358135,
          0.8033129634145662,
          0.8404658735801976,
          0.915025814591951,
          0.9467801159809195,
          0.6207516525474026,
          0.9169335862646248,
          0.9219154733853785,
          0.9402624549513166,
          0.8963698884569248,
          0.9048708448802895,
          0.8524348227571585,
          0.9065464811571441,
          0.9067742885516609,
          0.9513223497226696,
          0.9446603878671918,
          0.8976348825338288,
          0.7659402291385216,
          0.8362437660015885,
          0.6440893804730612,
          0.9101546947494579,
          0.9058115968049769,
          0.8857100785461274,
          0.5236157290770527,
          0.9310418662011759,
          0.8759685382166088,
          0.8364464161298937,
          0.7838330084190975,
          0.8876489227149067,
          0.7734955892187356,
          0.8426479204597233,
          0.7938046486291177,
          0.8214088895224017,
          0.8646788126778518,
          0.8360708901904723,
          0.934591992791185,
          0.9009851265939632,
          0.9071272861215018,
          0.882132082990858,
          0.9110268186986226,
          0.7724492966284047,
          0.8537656927609241,
          0.8941015238569348,
          0.8984801815717804,
          0.835355796097343,
          0.9480918817230681,
          0.9154771162435411,
          0.8708986915109078,
          0.8805882054162543,
          0.7553069558597482,
          0.793109676762467,
          0.43123479231595513,
          0.8795915971807882,
          0.7858153171119768,
          0.922372996986131,
          0.7194100780119327,
          0.9146324999572443,
          0.4647454610134685,
          0.7842552613954143,
          0.8859579429426125,
          0.8503879384371739,
          0.8515315146365823,
          0.7942333336006174,
          0.901354335175613,
          0.43123479231595513,
          0.740487549684391,
          0.7684498195618548,
          0.851004394751246,
          0.9652740837807514,
          0.8976949664605398,
          0.8132212878806183,
          0.797046016793501,
          0.6587896583753408,
          0.6926942418866691,
          0.7411138968760563,
          0.8872275969707697,
          0.7841452417693724,
          0.8540043899998073,
          0.7492103188476575,
          0.902942393216534,
          0.9368390212110557,
          0.9478993650602603,
          0.9531830246417694,
          0.9014544396337655,
          0.7474629728480966,
          0.9378838061443855,
          0.9145442260074385,
          0.8148392982274775,
          0.7435560559650365,
          0.92984517880828,
          0.8569978972689744,
          0.8948439803587751,
          0.7939541796845854,
          0.804671224007528,
          0.6861990712014543,
          0.7621875172357848,
          0.8371516060760373,
          0.6699462245481193,
          0.9268951300011311,
          0.7421715640907587,
          0.9151639245870246,
          0.8096350361372575,
          0.7787468419992692,
          0.6767925215653594,
          0.8091563108280297,
          0.924446748270715,
          0.8016197179951077,
          0.7314568211328376,
          0.7593308769452298,
          0.8356727179421592,
          0.8742056056729145,
          0.935844307324392,
          0.8721133513415096,
          0.746984301441737,
          0.8602085467887749,
          0.9007345440804067,
          0.8170713650703303,
          0.917902382931389,
          0.8395250004749565,
          0.8402391048865885,
          0.8497901405223965,
          0.7994476340305596,
          0.7968376956245826,
          0.6151980818421076,
          0.9070204405472918,
          0.8802548369814793,
          0.8585041531270217,
          0.9032217671804541,
          0.8923359691253232,
          0.9334145543027021,
          0.855301583299803,
          0.931415191232734,
          0.8431003375546402,
          0.7636298495976774,
          0.43123479231595513,
          0.7694542423107658,
          0.5862443658688374,
          0.6589643842485426,
          0.8045721631527099,
          0.8615973249550243,
          0.8654653221256748,
          0.8952522793091374,
          0.7930062606366772,
          0.9265286578932277,
          0.8780535390052749,
          0.8863517388734022,
          0.9330113309839155,
          0.7962045127225502,
          0.5128630297771848,
          0.6455361655006635,
          0.8161337160691613,
          0.7018500861122507,
          0.914074594068353,
          0.8781603665786994,
          0.8444767764997334,
          0.8267217340357464,
          0.7243330724427574,
          0.7690896226042561,
          0.8742868353188548,
          0.6806019423888425,
          0.8602171674601538,
          0.848248536936258,
          0.9271820618579545,
          0.806546691502891,
          0.7475913735454975,
          0.88212114758662,
          0.9260298246031826,
          0.8272539828512996,
          0.8736413441536015,
          0.8618231374818344,
          0.8678057937190076,
          0.8793781116157812,
          0.912611091853504,
          0.8720390560741154,
          0.8846633606364691,
          0.7795844966823775,
          0.8945485307540846,
          0.8924154090451807,
          0.8004075614985321,
          0.8188059940175345,
          0.891358034858618,
          0.9725451034062516,
          0.656522105422085,
          0.8889932226304946,
          0.8918933740995139,
          0.7533702787445948,
          0.5908999301308846,
          0.6854552230157581,
          0.9013537981931259,
          0.8543049457099945,
          0.8566107881445488,
          0.8977774803387295,
          0.9091623342856566,
          0.9346352194615217,
          0.8591825782823683,
          0.886356983754699,
          0.9447294899406192,
          0.9487903215026833,
          0.9266873347901843,
          0.8420206225894586,
          0.8773457441249395,
          0.8526503410008253,
          0.8422642852028362,
          0.6513781016070805,
          0.8787050181370103,
          0.8944507476923889,
          0.7673984823986076,
          0.4423750719259727,
          0.8640653749498342,
          0.9409708477979617,
          0.9408362644547827,
          0.8790962325863106,
          0.8358933802471776,
          0.8906256903717373,
          0.8214332149849839,
          0.6623930942651601,
          0.9087943042524002,
          0.8948930216591302,
          0.9210443460607327,
          0.8174677902414258,
          0.8459047972677619,
          0.7926699440813331,
          0.8815480699125496,
          0.8531550140543549,
          0.9182176671446445,
          0.7894395246648587,
          0.8576753648358209,
          0.8883390664392824,
          0.6920783658747602,
          0.7904701165590944,
          0.865296515660761,
          0.9254188366267289,
          0.8435590377597921,
          0.876528112635615,
          0.8710479304331555,
          0.8735067520096298,
          0.43123479231595513,
          0.9386145109340174,
          0.927302274147728,
          0.8593596798864069,
          0.7488138456056977,
          0.7850024435960434,
          0.8739120291012034,
          0.8810949493449133,
          0.7482928874535228,
          0.9166500511714917,
          0.7169875041031106,
          0.842697135855791,
          0.8930963535160774,
          0.7827775970566779,
          0.8458435665230742,
          0.8381225856820353,
          0.9096640650683521,
          0.9164201459634166,
          0.8013009323779486,
          0.9403275808658653,
          0.6037855913925356,
          0.8958162134128083,
          0.5518925095706356,
          0.9083300998611498,
          0.47533347519771074,
          0.852370731944642,
          0.8056336311145462,
          0.8842289769607229,
          0.7859798058702769,
          0.7734731570775302,
          0.8375691417490325,
          0.092299597917662,
          0.43123479231595513,
          0.9220189783878902,
          0.7510606905401425,
          0.8511888811985884,
          0.6246263434862656,
          0.8372967898999426,
          0.8666343624662326,
          0.6371737683917067,
          0.8722812455877168,
          0.6647414764836439,
          0.7639790968201912,
          0.7971170982121901,
          0.9223993213180794,
          0.6776648390327069,
          0.9073964413277711,
          0.8835345231577325,
          0.9322767674457559,
          0.7473768742496228,
          0.8250397309312123,
          0.43123479231595513,
          0.8820873016665784,
          0.6826475051130533,
          0.9069094158073724,
          0.9573350912005576,
          0.8710105207046359,
          0.9128965624821297,
          0.954902163389393,
          0.8795892272990781,
          0.82279470072282,
          0.697431228641235,
          0.8231871047149939,
          0.874402382465929,
          0.8693632330586837,
          0.43123479231595513,
          0.8540122018104981,
          0.721234730026231,
          0.9636151132819889,
          0.83854758195593,
          0.6984411219952029,
          0.8871213014485729,
          0.8579074316307665,
          0.8116878844423361,
          0.8780700854535254,
          0.8979109867921413,
          0.8041212843115413,
          0.8298237469264662,
          0.9313816718757337,
          0.9061786678451326,
          0.9158485004462725,
          0.68471096841837,
          0.738989398283245,
          0.092299597917662,
          0.8224448694989599,
          0.8026269785689357,
          0.8903009340134476,
          0.7396378196026485,
          0.8031676568439177,
          0.9200848307808146,
          0.8493399692858359,
          0.8976082951746882,
          0.768448629454144,
          0.8434935671119391,
          0.926987413959862,
          0.9246550747255226,
          0.6422456076884634,
          0.8867524413416124,
          0.8334324318026497,
          0.9117473862595278,
          0.8217349951428545
         ],
         "y": [
          0.39228631604245967,
          0.2288537030895549,
          0.12855523531804558,
          -0.03459441149568593,
          0.5749511959319853,
          0.4746593313048446,
          0.2948661639984085,
          0.4499366452831151,
          0.3593625851748892,
          0.42535730704227337,
          0.24777190226653878,
          0.1613610698631563,
          0.24918482361113997,
          0.20089916526045903,
          0.28501770447256425,
          0.29048451287142674,
          0.2610876889777317,
          0.08852510139747138,
          0.10597097582166026,
          0.5061797337474555,
          0.6194697011533248,
          0.19390495054882043,
          0.5152655441524653,
          0.30851392023167323,
          0.6585212893468385,
          0.2140800262747025,
          0.3722782595746864,
          0.5377928170232299,
          0.5450339555427025,
          0.008622163157918139,
          0.17973912144187365,
          0.2505663064085388,
          0.5741630508350284,
          0.04578929088695399,
          0.17392554284013073,
          -0.058771238963172684,
          0.1041317230714281,
          0.29723677567145745,
          0.38012684013868864,
          0.6539094953328332,
          0.4243826197758498,
          0.4962066353930457,
          0.29676883763227546,
          0.4194102849754887,
          0.29301863809704043,
          0.27403932724386193,
          0.6271879072906202,
          0.29873750759375967,
          0.4136809424536767,
          0.3902834121173706,
          0.38111403232688384,
          0.1995961838592769,
          0.026219252006479787,
          0.19106174709633705,
          0.20878624616556582,
          0.4657054448946942,
          0.20534441088397173,
          0.34858353117163565,
          -0.1026409861720493,
          0.31982458070169834,
          0.1320571329110443,
          0.06526089763328685,
          0.09331320683202526,
          0.44247342337859064,
          -0.01994209549368592,
          0.08498028724556903,
          0.0775887100950497,
          0.0647035374087025,
          0.22539202247109727,
          0.12965105565917445,
          0.3557388834044911,
          0.2194885640275534,
          0.18818219148279963,
          0.12531476149320203,
          0.21513981573671906,
          -0.018526143529809247,
          0.07170700265907032,
          0.3263973778570833,
          0.1609283584181419,
          0.026230010418450356,
          0.22239201627366023,
          0.2989127093886226,
          0.40784519334148783,
          0.24961794250442232,
          0.3468317036014891,
          0.02909372199526644,
          -0.3482186682881229,
          0.3262155405242041,
          0.2961797117978643,
          0.4201512298150226,
          0.12366394989636752,
          0.4437920125564112,
          -0.1692569838224974,
          0.05027077122699475,
          0.36831228138394073,
          0.11604344490425461,
          0.48650390426767964,
          0.2956312384298398,
          0.31264760224921584,
          -0.3482186682881229,
          0.03550664991785407,
          0.02952614509671897,
          0.10940767204634397,
          0.5563198996442763,
          0.32182418174642224,
          0.7440648300662893,
          0.20431054644560745,
          0.64100146381762,
          0.5310355915712348,
          0.22135517436557295,
          0.2826556881835743,
          0.3886170179594922,
          0.49668712011068733,
          0.01694291986023555,
          0.441366373998995,
          0.2855299659479533,
          0.42414026406405747,
          0.3666901649150178,
          0.24810937868072533,
          -0.03558013205841276,
          0.4318862049779311,
          0.32860456715699315,
          0.24275312947256805,
          0.19921695771352627,
          0.46178387412871885,
          0.4776720106244244,
          0.35782432005299003,
          0.17714293270128378,
          0.16506248003775487,
          -0.11703720713697546,
          0.23859508428418938,
          0.17675936869705042,
          -0.11038130447561234,
          0.3189211070957634,
          0.28332692874738374,
          0.3732788160057552,
          0.1049180486014728,
          0.04278770842059104,
          0.027803343076008985,
          0.13254338136600613,
          0.2748757279424157,
          0.2220249203835265,
          -0.0020437419308114158,
          -0.047670689833708174,
          0.12412439286699983,
          0.10288778654956449,
          0.16089927923915587,
          0.09537219332429117,
          -0.007694486155211927,
          0.10843727053237823,
          0.062120445071350394,
          0.008053611059609223,
          0.16325565663734165,
          0.17122951990152094,
          0.0932394602618723,
          0.05396433499662978,
          0.12273551405466265,
          0.32449029607012553,
          0.2574329772377771,
          0.16139403966542643,
          0.13532244647795227,
          0.30648654806216846,
          0.1670301266260485,
          0.1765634023784323,
          0.43617574069375153,
          0.09675987132320324,
          0.3998013713563038,
          0.07913076942559749,
          0.03655752334690998,
          -0.3482186682881229,
          0.0392940779515249,
          -0.13964577533598596,
          -0.1301378678199166,
          0.264033125044397,
          0.08691470265595147,
          0.16113338690124984,
          0.30983337383676224,
          0.049440029716583955,
          0.5572597300746823,
          0.20206652275107764,
          0.1489095871148678,
          0.3497550642936572,
          0.13523869040821446,
          0.013877839323403335,
          -0.1108399830969038,
          0.19161032689412166,
          0.07581359650967093,
          0.39749970506673965,
          0.38036743144109564,
          0.08314377459604672,
          0.17728898519071168,
          0.49898766965018226,
          0.05830920887842242,
          0.22043847309234652,
          0.1111217089877583,
          0.11004041482458549,
          0.11790886619247168,
          0.2567028778087741,
          0.017616769324116932,
          0.49197408523043257,
          0.3818825917952726,
          0.6618122786027714,
          0.36744605940559577,
          0.5785445994646194,
          0.24482626550329856,
          0.21870881232595368,
          0.19592140100089947,
          0.4778765627611546,
          0.10546817727388588,
          0.12833658186653502,
          0.18136413710680005,
          0.27725744644709843,
          0.210703777460381,
          0.1002171829202381,
          0.5191025424598972,
          0.23429568195536948,
          0.2650840825120955,
          0.16051363841653865,
          0.2696623151945034,
          0.22076038704563872,
          0.14004821323168906,
          -0.20167477089702163,
          -0.017635241805923102,
          0.25514030953805467,
          0.09505171040633997,
          0.10310932796059236,
          0.18528646199810694,
          0.22275587534879798,
          0.5060131649489243,
          0.1515759171916115,
          0.2198594616515723,
          0.36181840889255934,
          0.4727310217607553,
          0.2004821598930142,
          0.38769838012595226,
          0.2842804361664595,
          0.08374466018380045,
          0.11057663573305052,
          -0.09199741793424715,
          0.4255516873660388,
          0.16333314300877044,
          0.4334001156426538,
          -0.043526511299134624,
          0.34860264539704955,
          0.5422995683087216,
          0.28639968106153696,
          0.2906953663427274,
          0.34208391109094516,
          0.3830352671623623,
          0.06777940020439249,
          0.08956877424548426,
          0.32011714666766333,
          0.22520837402979055,
          0.340266114862135,
          0.14023134399435863,
          0.07843969365674425,
          0.20259956328241865,
          0.23903512599725313,
          0.10480004355370093,
          0.2949862053961171,
          0.516030688990012,
          0.08288020422514891,
          0.4036036026718135,
          0.5686153190401442,
          0.02113208682725387,
          0.06389943515185964,
          0.27330609393718974,
          0.07948810393263683,
          0.3138425284451051,
          0.2510345355356661,
          0.5342612797632743,
          -0.3482186682881229,
          0.35219454842170334,
          0.24240813678096879,
          0.09602187643223875,
          0.1147916924705511,
          0.07056326185890768,
          0.16061578632900808,
          0.22597091024468902,
          -0.009121517909650628,
          0.3215348943060899,
          0.2431114523292652,
          0.04357745226862017,
          0.25869995592759626,
          0.19956928662519086,
          0.11875996122854493,
          0.10559058069827187,
          0.14923490476798512,
          0.27634696170982576,
          0.624744300726434,
          0.28607690986057677,
          0.53761976814721,
          0.2410415064805435,
          0.17864496963173052,
          0.40935759010780925,
          0.7442534625245161,
          0.18677085705192942,
          0.2480579080796274,
          0.17085253044666512,
          0.7444590413817351,
          0.006397865595847041,
          0.09990534514469104,
          0.16503776931958358,
          -0.3482186682881229,
          0.5240729170882404,
          0.22962909161950748,
          0.20547272264260874,
          -0.007529862081568195,
          0.583439411467277,
          0.41339167547129885,
          -0.11915185711883602,
          0.42127071729281806,
          0.08500779142582163,
          -0.060026446087606766,
          0.2996221750450523,
          0.23439087387297375,
          0.7447468504231658,
          0.6074075501831991,
          0.4680558007001163,
          0.31956477965305585,
          0.05198511167873954,
          0.23644089386186168,
          -0.3482186682881229,
          0.5532364794077188,
          -0.007298760752439376,
          0.5525215504051847,
          0.4688126873605671,
          0.43280395696002777,
          0.3310703323977734,
          0.39861295293256005,
          0.11222695315982584,
          0.2536981925760804,
          0.02013240876764627,
          0.11282101739004805,
          0.18873549784597948,
          0.20521077112109617,
          -0.3482186682881229,
          0.37691995976333564,
          0.29625554361697937,
          0.4897426642869928,
          0.05006524085795866,
          0.005926052407009608,
          0.5453718960089988,
          0.41882201582895917,
          0.03389218977232061,
          0.09847465426991636,
          0.23942981870714716,
          0.3201306827651502,
          0.06839596969049738,
          0.21943668582935028,
          0.21765788966851768,
          0.30388609153378915,
          -0.1066114979937407,
          -0.009633206292227692,
          0.16503776931958358,
          0.5010626345435194,
          0.12928260570257202,
          0.29828220425553326,
          -0.053204803446208815,
          0.05571548420459804,
          0.3065677881369588,
          0.5593932848346324,
          0.4603977246468637,
          0.17425989231106098,
          0.3128479516163527,
          0.3805014305879244,
          0.31487918400743775,
          -0.04296133559029375,
          0.2236506373300263,
          0.04220475659373363,
          0.18893826010639808,
          0.08703457168195616
         ]
        },
        {
         "marker": {
          "color": "red"
         },
         "mode": "markers",
         "type": "scatter",
         "x": [
          0.3564362257227567,
          0.4315995644766423,
          0.2567467615360213,
          0.5381421927711866,
          -0.017748860487105236,
          0.5775386466748496,
          0.7183900575686415,
          0.5520828485274398,
          0.27118019791869546,
          0.4430529403483363,
          0.4482790914845825,
          0.8481884726155746,
          0.4181545443442719,
          0.25416638267798186,
          0.2432819013639539,
          0.3170302891466167,
          0.6497680422364198,
          0.30615766679558415,
          0.6943833476654513,
          0.46591408367117904,
          0.31365306052877723,
          0.578222198244182,
          0.29417482923522853,
          0.6103728352312368,
          0.7565665056038506,
          0.12272870129904337,
          0.567030173750623,
          0.6636184923565203,
          0.6018320209649907,
          0.2694511643069183,
          0.6046575652584907,
          0.5817090069029686,
          0.5854794596109515,
          0.6495867756792022,
          0.24072924584365782,
          0.7139747475718368,
          0.20386091301902964,
          0.29351227290852444,
          0.17142197766721076,
          0.25274406085451073,
          0.3405789953549248,
          0.5906456495809809,
          0.868694462578719,
          0.37058337431386723,
          0.7068566581100748,
          0.7188536464772576,
          0.4026897925675681,
          0.3082958289547358,
          0.8350155443750266,
          0.5045317963898185,
          0.24420293333750587,
          0.16849506088143887,
          0.3057561008793867,
          0.3580808659993604,
          0.6504458215016796,
          0.05590596119787658,
          0.9234451166722375,
          0.7572600053725898,
          0.43403517877953196,
          0.12695919765152608,
          0.2607663520646209,
          0.2206784542250201,
          0.25117905847732874
         ],
         "y": [
          0.6982221834493415,
          0.6276633962266147,
          0.8344502183819462,
          0.6662505687109525,
          0.7746575340008228,
          0.22256696791350356,
          0.6058209895267899,
          0.619685856130709,
          0.8490573888814251,
          0.7427359358701586,
          0.8644181209205027,
          0.5982762089970963,
          0.7961745236838412,
          0.8732632367522339,
          0.8228736225731883,
          0.9052110992315521,
          0.8528864552815153,
          0.8440353728539142,
          0.7102787470433796,
          0.5522731814361154,
          0.8061137860154619,
          0.8608550679245042,
          0.8275163213035523,
          0.6148083622559226,
          -0.02239634257925155,
          0.8137038317523346,
          0.6146930453317192,
          0.3157522034647203,
          0.8733489601001283,
          0.9135317212521981,
          0.7942786957372912,
          0.7526748377116874,
          0.817811295170849,
          0.6982563505083392,
          0.6699609911994377,
          0.3757125682624658,
          0.8828667993912976,
          0.9043119439001496,
          0.6659999256938025,
          0.8865913042364393,
          0.9276587117047328,
          0.728634560264908,
          0.29910247584603,
          0.846970993011136,
          0.6514586710793325,
          0.7099651050877184,
          0.4764635476397851,
          0.5576921743782673,
          0.1650219036836697,
          0.8084875739173465,
          0.6889811588599484,
          0.7922967951410098,
          0.726901166151076,
          0.9039357761619611,
          0.7919300829737025,
          0.6366750261701302,
          0.5192774451130717,
          0.5446273962168513,
          0.9106431653383944,
          0.7935483526183537,
          0.6249194588871463,
          0.4762181748492387,
          0.8726324710348085
         ]
        },
        {
         "marker": {
          "color": "red"
         },
         "mode": "markers",
         "type": "scatter",
         "x": [
          0.3564362257227567,
          0.4315995644766423,
          0.2567467615360213,
          0.5381421927711866,
          -0.017748860487105236,
          0.5775386466748496,
          0.7183900575686415,
          0.5520828485274398,
          0.27118019791869546,
          0.4430529403483363,
          0.4482790914845825,
          0.8481884726155746,
          0.4181545443442719,
          0.25416638267798186,
          0.2432819013639539,
          0.3170302891466167,
          0.6497680422364198,
          0.30615766679558415,
          0.6943833476654513,
          0.46591408367117904,
          0.31365306052877723,
          0.578222198244182,
          0.29417482923522853,
          0.6103728352312368,
          0.7565665056038506,
          0.12272870129904337,
          0.567030173750623,
          0.6636184923565203,
          0.6018320209649907,
          0.2694511643069183,
          0.6046575652584907,
          0.5817090069029686,
          0.5854794596109515,
          0.6495867756792022,
          0.24072924584365782,
          0.7139747475718368,
          0.20386091301902964,
          0.29351227290852444,
          0.17142197766721076,
          0.25274406085451073,
          0.3405789953549248,
          0.5906456495809809,
          0.868694462578719,
          0.37058337431386723,
          0.7068566581100748,
          0.7188536464772576,
          0.4026897925675681,
          0.3082958289547358,
          0.8350155443750266,
          0.5045317963898185,
          0.24420293333750587,
          0.16849506088143887,
          0.3057561008793867,
          0.3580808659993604,
          0.6504458215016796,
          0.05590596119787658,
          0.9234451166722375,
          0.7572600053725898,
          0.43403517877953196,
          0.12695919765152608,
          0.2607663520646209,
          0.2206784542250201,
          0.25117905847732874
         ],
         "y": [
          0.6982221834493415,
          0.6276633962266147,
          0.8344502183819462,
          0.6662505687109525,
          0.7746575340008228,
          0.22256696791350356,
          0.6058209895267899,
          0.619685856130709,
          0.8490573888814251,
          0.7427359358701586,
          0.8644181209205027,
          0.5982762089970963,
          0.7961745236838412,
          0.8732632367522339,
          0.8228736225731883,
          0.9052110992315521,
          0.8528864552815153,
          0.8440353728539142,
          0.7102787470433796,
          0.5522731814361154,
          0.8061137860154619,
          0.8608550679245042,
          0.8275163213035523,
          0.6148083622559226,
          -0.02239634257925155,
          0.8137038317523346,
          0.6146930453317192,
          0.3157522034647203,
          0.8733489601001283,
          0.9135317212521981,
          0.7942786957372912,
          0.7526748377116874,
          0.817811295170849,
          0.6982563505083392,
          0.6699609911994377,
          0.3757125682624658,
          0.8828667993912976,
          0.9043119439001496,
          0.6659999256938025,
          0.8865913042364393,
          0.9276587117047328,
          0.728634560264908,
          0.29910247584603,
          0.846970993011136,
          0.6514586710793325,
          0.7099651050877184,
          0.4764635476397851,
          0.5576921743782673,
          0.1650219036836697,
          0.8084875739173465,
          0.6889811588599484,
          0.7922967951410098,
          0.726901166151076,
          0.9039357761619611,
          0.7919300829737025,
          0.6366750261701302,
          0.5192774451130717,
          0.5446273962168513,
          0.9106431653383944,
          0.7935483526183537,
          0.6249194588871463,
          0.4762181748492387,
          0.8726324710348085
         ]
        },
        {
         "marker": {
          "color": "green",
          "size": 20,
          "sizeref": 100
         },
         "mode": "markers",
         "type": "scatter",
         "x": [
          0.9280821339600251
         ],
         "y": [
          0.34139458503050424
         ]
        }
       ],
       "frames": [
        {
         "data": [
          {
           "marker": {
            "color": "green",
            "size": 20,
            "sizeref": 100
           },
           "mode": "markers",
           "type": "scatter",
           "x": [
            0.9280821339600251
           ],
           "y": [
            0.34139458503050424
           ]
          }
         ]
        },
        {
         "data": [
          {
           "marker": {
            "color": "green",
            "size": 20,
            "sizeref": 100
           },
           "mode": "markers",
           "type": "scatter",
           "x": [
            0.8946042961407789
           ],
           "y": [
            0.2567739533867749
           ]
          }
         ]
        },
        {
         "data": [
          {
           "marker": {
            "color": "green",
            "size": 20,
            "sizeref": 100
           },
           "mode": "markers",
           "type": "scatter",
           "x": [
            0.7820506060957289
           ],
           "y": [
            0.05026827178772611
           ]
          }
         ]
        },
        {
         "data": [
          {
           "marker": {
            "color": "green",
            "size": 20,
            "sizeref": 100
           },
           "mode": "markers",
           "type": "scatter",
           "x": [
            0.7591584544346973
           ],
           "y": [
            0.4378369888622473
           ]
          }
         ]
        },
        {
         "data": [
          {
           "marker": {
            "color": "green",
            "size": 20,
            "sizeref": 100
           },
           "mode": "markers",
           "type": "scatter",
           "x": [
            0.5656503131269932
           ],
           "y": [
            0.13321262648106996
           ]
          }
         ]
        },
        {
         "data": [
          {
           "marker": {
            "color": "green",
            "size": 20,
            "sizeref": 100
           },
           "mode": "markers",
           "type": "scatter",
           "x": [
            0.4959423041340907
           ],
           "y": [
            0.09732756781011705
           ]
          }
         ]
        },
        {
         "data": [
          {
           "marker": {
            "color": "green",
            "size": 20,
            "sizeref": 100
           },
           "mode": "markers",
           "type": "scatter",
           "x": [
            0.5381548976497166
           ],
           "y": [
            0.10002675103533329
           ]
          }
         ]
        },
        {
         "data": [
          {
           "marker": {
            "color": "green",
            "size": 20,
            "sizeref": 100
           },
           "mode": "markers",
           "type": "scatter",
           "x": [
            0.5268954353008455
           ],
           "y": [
            -0.18978513284298926
           ]
          }
         ]
        },
        {
         "data": [
          {
           "marker": {
            "color": "green",
            "size": 20,
            "sizeref": 100
           },
           "mode": "markers",
           "type": "scatter",
           "x": [
            0.5290447150897201
           ],
           "y": [
            -0.21342665671141506
           ]
          }
         ]
        },
        {
         "data": [
          {
           "marker": {
            "color": "green",
            "size": 20,
            "sizeref": 100
           },
           "mode": "markers",
           "type": "scatter",
           "x": [
            0.6019720406175949
           ],
           "y": [
            -0.17747158066957844
           ]
          }
         ]
        },
        {
         "data": [
          {
           "marker": {
            "color": "green",
            "size": 20,
            "sizeref": 100
           },
           "mode": "markers",
           "type": "scatter",
           "x": [
            0.5924435193505875
           ],
           "y": [
            -0.18140202628611063
           ]
          }
         ]
        },
        {
         "data": [
          {
           "marker": {
            "color": "green",
            "size": 20,
            "sizeref": 100
           },
           "mode": "markers",
           "type": "scatter",
           "x": [
            0.583603130726988
           ],
           "y": [
            -0.19463691050018614
           ]
          }
         ]
        },
        {
         "data": [
          {
           "marker": {
            "color": "green",
            "size": 20,
            "sizeref": 100
           },
           "mode": "markers",
           "type": "scatter",
           "x": [
            0.583603130726988
           ],
           "y": [
            -0.19463691050018614
           ]
          }
         ]
        },
        {
         "data": [
          {
           "marker": {
            "color": "green",
            "size": 20,
            "sizeref": 100
           },
           "mode": "markers",
           "type": "scatter",
           "x": [
            0.645274245224518
           ],
           "y": [
            -0.14777251887833512
           ]
          }
         ]
        },
        {
         "data": [
          {
           "marker": {
            "color": "green",
            "size": 20,
            "sizeref": 100
           },
           "mode": "markers",
           "type": "scatter",
           "x": [
            0.8258674406581069
           ],
           "y": [
            0.044030252522521296
           ]
          }
         ]
        },
        {
         "data": [
          {
           "marker": {
            "color": "green",
            "size": 20,
            "sizeref": 100
           },
           "mode": "markers",
           "type": "scatter",
           "x": [
            0.8189139712952179
           ],
           "y": [
            0.08345415309906754
           ]
          }
         ]
        },
        {
         "data": [
          {
           "marker": {
            "color": "green",
            "size": 20,
            "sizeref": 100
           },
           "mode": "markers",
           "type": "scatter",
           "x": [
            0.8458734046691105
           ],
           "y": [
            0.11219332779300509
           ]
          }
         ]
        },
        {
         "data": [
          {
           "marker": {
            "color": "green",
            "size": 20,
            "sizeref": 100
           },
           "mode": "markers",
           "type": "scatter",
           "x": [
            0.7556509553200148
           ],
           "y": [
            0.0801999478322527
           ]
          }
         ]
        },
        {
         "data": [
          {
           "marker": {
            "color": "green",
            "size": 20,
            "sizeref": 100
           },
           "mode": "markers",
           "type": "scatter",
           "x": [
            0.6675858655150896
           ],
           "y": [
            -0.022060403311263965
           ]
          }
         ]
        },
        {
         "data": [
          {
           "marker": {
            "color": "green",
            "size": 20,
            "sizeref": 100
           },
           "mode": "markers",
           "type": "scatter",
           "x": [
            0.8976976392511811
           ],
           "y": [
            0.20242818002117108
           ]
          }
         ]
        }
       ],
       "layout": {
        "height": 700,
        "sliders": [
         {
          "active": 1,
          "currentvalue": {
           "font": {
            "size": 20
           },
           "prefix": "Bar ",
           "visible": false
          },
          "steps": [
           {
            "args": [
             [
              0
             ],
             {
              "frame": {
               "duration": 100,
               "redraw": false
              },
              "mode": "immediate",
              "transition": {
               "duration": 100
              }
             }
            ],
            "label": "0",
            "method": "animate"
           },
           {
            "args": [
             [
              1
             ],
             {
              "frame": {
               "duration": 100,
               "redraw": false
              },
              "mode": "immediate",
              "transition": {
               "duration": 100
              }
             }
            ],
            "label": "1",
            "method": "animate"
           },
           {
            "args": [
             [
              2
             ],
             {
              "frame": {
               "duration": 100,
               "redraw": false
              },
              "mode": "immediate",
              "transition": {
               "duration": 100
              }
             }
            ],
            "label": "2",
            "method": "animate"
           },
           {
            "args": [
             [
              3
             ],
             {
              "frame": {
               "duration": 100,
               "redraw": false
              },
              "mode": "immediate",
              "transition": {
               "duration": 100
              }
             }
            ],
            "label": "3",
            "method": "animate"
           },
           {
            "args": [
             [
              4
             ],
             {
              "frame": {
               "duration": 100,
               "redraw": false
              },
              "mode": "immediate",
              "transition": {
               "duration": 100
              }
             }
            ],
            "label": "4",
            "method": "animate"
           },
           {
            "args": [
             [
              5
             ],
             {
              "frame": {
               "duration": 100,
               "redraw": false
              },
              "mode": "immediate",
              "transition": {
               "duration": 100
              }
             }
            ],
            "label": "5",
            "method": "animate"
           },
           {
            "args": [
             [
              6
             ],
             {
              "frame": {
               "duration": 100,
               "redraw": false
              },
              "mode": "immediate",
              "transition": {
               "duration": 100
              }
             }
            ],
            "label": "6",
            "method": "animate"
           },
           {
            "args": [
             [
              7
             ],
             {
              "frame": {
               "duration": 100,
               "redraw": false
              },
              "mode": "immediate",
              "transition": {
               "duration": 100
              }
             }
            ],
            "label": "7",
            "method": "animate"
           },
           {
            "args": [
             [
              8
             ],
             {
              "frame": {
               "duration": 100,
               "redraw": false
              },
              "mode": "immediate",
              "transition": {
               "duration": 100
              }
             }
            ],
            "label": "8",
            "method": "animate"
           },
           {
            "args": [
             [
              9
             ],
             {
              "frame": {
               "duration": 100,
               "redraw": false
              },
              "mode": "immediate",
              "transition": {
               "duration": 100
              }
             }
            ],
            "label": "9",
            "method": "animate"
           },
           {
            "args": [
             [
              10
             ],
             {
              "frame": {
               "duration": 100,
               "redraw": false
              },
              "mode": "immediate",
              "transition": {
               "duration": 100
              }
             }
            ],
            "label": "10",
            "method": "animate"
           },
           {
            "args": [
             [
              11
             ],
             {
              "frame": {
               "duration": 100,
               "redraw": false
              },
              "mode": "immediate",
              "transition": {
               "duration": 100
              }
             }
            ],
            "label": "11",
            "method": "animate"
           },
           {
            "args": [
             [
              12
             ],
             {
              "frame": {
               "duration": 100,
               "redraw": false
              },
              "mode": "immediate",
              "transition": {
               "duration": 100
              }
             }
            ],
            "label": "12",
            "method": "animate"
           },
           {
            "args": [
             [
              13
             ],
             {
              "frame": {
               "duration": 100,
               "redraw": false
              },
              "mode": "immediate",
              "transition": {
               "duration": 100
              }
             }
            ],
            "label": "13",
            "method": "animate"
           },
           {
            "args": [
             [
              14
             ],
             {
              "frame": {
               "duration": 100,
               "redraw": false
              },
              "mode": "immediate",
              "transition": {
               "duration": 100
              }
             }
            ],
            "label": "14",
            "method": "animate"
           },
           {
            "args": [
             [
              15
             ],
             {
              "frame": {
               "duration": 100,
               "redraw": false
              },
              "mode": "immediate",
              "transition": {
               "duration": 100
              }
             }
            ],
            "label": "15",
            "method": "animate"
           },
           {
            "args": [
             [
              16
             ],
             {
              "frame": {
               "duration": 100,
               "redraw": false
              },
              "mode": "immediate",
              "transition": {
               "duration": 100
              }
             }
            ],
            "label": "16",
            "method": "animate"
           },
           {
            "args": [
             [
              17
             ],
             {
              "frame": {
               "duration": 100,
               "redraw": false
              },
              "mode": "immediate",
              "transition": {
               "duration": 100
              }
             }
            ],
            "label": "17",
            "method": "animate"
           },
           {
            "args": [
             [
              18
             ],
             {
              "frame": {
               "duration": 100,
               "redraw": false
              },
              "mode": "immediate",
              "transition": {
               "duration": 100
              }
             }
            ],
            "label": "18",
            "method": "animate"
           },
           {
            "args": [
             [
              19
             ],
             {
              "frame": {
               "duration": 100,
               "redraw": false
              },
              "mode": "immediate",
              "transition": {
               "duration": 100
              }
             }
            ],
            "label": "19",
            "method": "animate"
           }
          ],
          "transition": {
           "duration": 300,
           "easing": "cubic-in-out"
          }
         }
        ],
        "template": {
         "data": {
          "bar": [
           {
            "error_x": {
             "color": "#2a3f5f"
            },
            "error_y": {
             "color": "#2a3f5f"
            },
            "marker": {
             "line": {
              "color": "#E5ECF6",
              "width": 0.5
             }
            },
            "type": "bar"
           }
          ],
          "barpolar": [
           {
            "marker": {
             "line": {
              "color": "#E5ECF6",
              "width": 0.5
             }
            },
            "type": "barpolar"
           }
          ],
          "carpet": [
           {
            "aaxis": {
             "endlinecolor": "#2a3f5f",
             "gridcolor": "white",
             "linecolor": "white",
             "minorgridcolor": "white",
             "startlinecolor": "#2a3f5f"
            },
            "baxis": {
             "endlinecolor": "#2a3f5f",
             "gridcolor": "white",
             "linecolor": "white",
             "minorgridcolor": "white",
             "startlinecolor": "#2a3f5f"
            },
            "type": "carpet"
           }
          ],
          "choropleth": [
           {
            "colorbar": {
             "outlinewidth": 0,
             "ticks": ""
            },
            "type": "choropleth"
           }
          ],
          "contour": [
           {
            "colorbar": {
             "outlinewidth": 0,
             "ticks": ""
            },
            "colorscale": [
             [
              0,
              "#0d0887"
             ],
             [
              0.1111111111111111,
              "#46039f"
             ],
             [
              0.2222222222222222,
              "#7201a8"
             ],
             [
              0.3333333333333333,
              "#9c179e"
             ],
             [
              0.4444444444444444,
              "#bd3786"
             ],
             [
              0.5555555555555556,
              "#d8576b"
             ],
             [
              0.6666666666666666,
              "#ed7953"
             ],
             [
              0.7777777777777778,
              "#fb9f3a"
             ],
             [
              0.8888888888888888,
              "#fdca26"
             ],
             [
              1,
              "#f0f921"
             ]
            ],
            "type": "contour"
           }
          ],
          "contourcarpet": [
           {
            "colorbar": {
             "outlinewidth": 0,
             "ticks": ""
            },
            "type": "contourcarpet"
           }
          ],
          "heatmap": [
           {
            "colorbar": {
             "outlinewidth": 0,
             "ticks": ""
            },
            "colorscale": [
             [
              0,
              "#0d0887"
             ],
             [
              0.1111111111111111,
              "#46039f"
             ],
             [
              0.2222222222222222,
              "#7201a8"
             ],
             [
              0.3333333333333333,
              "#9c179e"
             ],
             [
              0.4444444444444444,
              "#bd3786"
             ],
             [
              0.5555555555555556,
              "#d8576b"
             ],
             [
              0.6666666666666666,
              "#ed7953"
             ],
             [
              0.7777777777777778,
              "#fb9f3a"
             ],
             [
              0.8888888888888888,
              "#fdca26"
             ],
             [
              1,
              "#f0f921"
             ]
            ],
            "type": "heatmap"
           }
          ],
          "heatmapgl": [
           {
            "colorbar": {
             "outlinewidth": 0,
             "ticks": ""
            },
            "colorscale": [
             [
              0,
              "#0d0887"
             ],
             [
              0.1111111111111111,
              "#46039f"
             ],
             [
              0.2222222222222222,
              "#7201a8"
             ],
             [
              0.3333333333333333,
              "#9c179e"
             ],
             [
              0.4444444444444444,
              "#bd3786"
             ],
             [
              0.5555555555555556,
              "#d8576b"
             ],
             [
              0.6666666666666666,
              "#ed7953"
             ],
             [
              0.7777777777777778,
              "#fb9f3a"
             ],
             [
              0.8888888888888888,
              "#fdca26"
             ],
             [
              1,
              "#f0f921"
             ]
            ],
            "type": "heatmapgl"
           }
          ],
          "histogram": [
           {
            "marker": {
             "colorbar": {
              "outlinewidth": 0,
              "ticks": ""
             }
            },
            "type": "histogram"
           }
          ],
          "histogram2d": [
           {
            "colorbar": {
             "outlinewidth": 0,
             "ticks": ""
            },
            "colorscale": [
             [
              0,
              "#0d0887"
             ],
             [
              0.1111111111111111,
              "#46039f"
             ],
             [
              0.2222222222222222,
              "#7201a8"
             ],
             [
              0.3333333333333333,
              "#9c179e"
             ],
             [
              0.4444444444444444,
              "#bd3786"
             ],
             [
              0.5555555555555556,
              "#d8576b"
             ],
             [
              0.6666666666666666,
              "#ed7953"
             ],
             [
              0.7777777777777778,
              "#fb9f3a"
             ],
             [
              0.8888888888888888,
              "#fdca26"
             ],
             [
              1,
              "#f0f921"
             ]
            ],
            "type": "histogram2d"
           }
          ],
          "histogram2dcontour": [
           {
            "colorbar": {
             "outlinewidth": 0,
             "ticks": ""
            },
            "colorscale": [
             [
              0,
              "#0d0887"
             ],
             [
              0.1111111111111111,
              "#46039f"
             ],
             [
              0.2222222222222222,
              "#7201a8"
             ],
             [
              0.3333333333333333,
              "#9c179e"
             ],
             [
              0.4444444444444444,
              "#bd3786"
             ],
             [
              0.5555555555555556,
              "#d8576b"
             ],
             [
              0.6666666666666666,
              "#ed7953"
             ],
             [
              0.7777777777777778,
              "#fb9f3a"
             ],
             [
              0.8888888888888888,
              "#fdca26"
             ],
             [
              1,
              "#f0f921"
             ]
            ],
            "type": "histogram2dcontour"
           }
          ],
          "mesh3d": [
           {
            "colorbar": {
             "outlinewidth": 0,
             "ticks": ""
            },
            "type": "mesh3d"
           }
          ],
          "parcoords": [
           {
            "line": {
             "colorbar": {
              "outlinewidth": 0,
              "ticks": ""
             }
            },
            "type": "parcoords"
           }
          ],
          "pie": [
           {
            "automargin": true,
            "type": "pie"
           }
          ],
          "scatter": [
           {
            "marker": {
             "colorbar": {
              "outlinewidth": 0,
              "ticks": ""
             }
            },
            "type": "scatter"
           }
          ],
          "scatter3d": [
           {
            "line": {
             "colorbar": {
              "outlinewidth": 0,
              "ticks": ""
             }
            },
            "marker": {
             "colorbar": {
              "outlinewidth": 0,
              "ticks": ""
             }
            },
            "type": "scatter3d"
           }
          ],
          "scattercarpet": [
           {
            "marker": {
             "colorbar": {
              "outlinewidth": 0,
              "ticks": ""
             }
            },
            "type": "scattercarpet"
           }
          ],
          "scattergeo": [
           {
            "marker": {
             "colorbar": {
              "outlinewidth": 0,
              "ticks": ""
             }
            },
            "type": "scattergeo"
           }
          ],
          "scattergl": [
           {
            "marker": {
             "colorbar": {
              "outlinewidth": 0,
              "ticks": ""
             }
            },
            "type": "scattergl"
           }
          ],
          "scattermapbox": [
           {
            "marker": {
             "colorbar": {
              "outlinewidth": 0,
              "ticks": ""
             }
            },
            "type": "scattermapbox"
           }
          ],
          "scatterpolar": [
           {
            "marker": {
             "colorbar": {
              "outlinewidth": 0,
              "ticks": ""
             }
            },
            "type": "scatterpolar"
           }
          ],
          "scatterpolargl": [
           {
            "marker": {
             "colorbar": {
              "outlinewidth": 0,
              "ticks": ""
             }
            },
            "type": "scatterpolargl"
           }
          ],
          "scatterternary": [
           {
            "marker": {
             "colorbar": {
              "outlinewidth": 0,
              "ticks": ""
             }
            },
            "type": "scatterternary"
           }
          ],
          "surface": [
           {
            "colorbar": {
             "outlinewidth": 0,
             "ticks": ""
            },
            "colorscale": [
             [
              0,
              "#0d0887"
             ],
             [
              0.1111111111111111,
              "#46039f"
             ],
             [
              0.2222222222222222,
              "#7201a8"
             ],
             [
              0.3333333333333333,
              "#9c179e"
             ],
             [
              0.4444444444444444,
              "#bd3786"
             ],
             [
              0.5555555555555556,
              "#d8576b"
             ],
             [
              0.6666666666666666,
              "#ed7953"
             ],
             [
              0.7777777777777778,
              "#fb9f3a"
             ],
             [
              0.8888888888888888,
              "#fdca26"
             ],
             [
              1,
              "#f0f921"
             ]
            ],
            "type": "surface"
           }
          ],
          "table": [
           {
            "cells": {
             "fill": {
              "color": "#EBF0F8"
             },
             "line": {
              "color": "white"
             }
            },
            "header": {
             "fill": {
              "color": "#C8D4E3"
             },
             "line": {
              "color": "white"
             }
            },
            "type": "table"
           }
          ]
         },
         "layout": {
          "annotationdefaults": {
           "arrowcolor": "#2a3f5f",
           "arrowhead": 0,
           "arrowwidth": 1
          },
          "coloraxis": {
           "colorbar": {
            "outlinewidth": 0,
            "ticks": ""
           }
          },
          "colorscale": {
           "diverging": [
            [
             0,
             "#8e0152"
            ],
            [
             0.1,
             "#c51b7d"
            ],
            [
             0.2,
             "#de77ae"
            ],
            [
             0.3,
             "#f1b6da"
            ],
            [
             0.4,
             "#fde0ef"
            ],
            [
             0.5,
             "#f7f7f7"
            ],
            [
             0.6,
             "#e6f5d0"
            ],
            [
             0.7,
             "#b8e186"
            ],
            [
             0.8,
             "#7fbc41"
            ],
            [
             0.9,
             "#4d9221"
            ],
            [
             1,
             "#276419"
            ]
           ],
           "sequential": [
            [
             0,
             "#0d0887"
            ],
            [
             0.1111111111111111,
             "#46039f"
            ],
            [
             0.2222222222222222,
             "#7201a8"
            ],
            [
             0.3333333333333333,
             "#9c179e"
            ],
            [
             0.4444444444444444,
             "#bd3786"
            ],
            [
             0.5555555555555556,
             "#d8576b"
            ],
            [
             0.6666666666666666,
             "#ed7953"
            ],
            [
             0.7777777777777778,
             "#fb9f3a"
            ],
            [
             0.8888888888888888,
             "#fdca26"
            ],
            [
             1,
             "#f0f921"
            ]
           ],
           "sequentialminus": [
            [
             0,
             "#0d0887"
            ],
            [
             0.1111111111111111,
             "#46039f"
            ],
            [
             0.2222222222222222,
             "#7201a8"
            ],
            [
             0.3333333333333333,
             "#9c179e"
            ],
            [
             0.4444444444444444,
             "#bd3786"
            ],
            [
             0.5555555555555556,
             "#d8576b"
            ],
            [
             0.6666666666666666,
             "#ed7953"
            ],
            [
             0.7777777777777778,
             "#fb9f3a"
            ],
            [
             0.8888888888888888,
             "#fdca26"
            ],
            [
             1,
             "#f0f921"
            ]
           ]
          },
          "colorway": [
           "#636efa",
           "#EF553B",
           "#00cc96",
           "#ab63fa",
           "#FFA15A",
           "#19d3f3",
           "#FF6692",
           "#B6E880",
           "#FF97FF",
           "#FECB52"
          ],
          "font": {
           "color": "#2a3f5f"
          },
          "geo": {
           "bgcolor": "white",
           "lakecolor": "white",
           "landcolor": "#E5ECF6",
           "showlakes": true,
           "showland": true,
           "subunitcolor": "white"
          },
          "hoverlabel": {
           "align": "left"
          },
          "hovermode": "closest",
          "mapbox": {
           "style": "light"
          },
          "paper_bgcolor": "white",
          "plot_bgcolor": "#E5ECF6",
          "polar": {
           "angularaxis": {
            "gridcolor": "white",
            "linecolor": "white",
            "ticks": ""
           },
           "bgcolor": "#E5ECF6",
           "radialaxis": {
            "gridcolor": "white",
            "linecolor": "white",
            "ticks": ""
           }
          },
          "scene": {
           "xaxis": {
            "backgroundcolor": "#E5ECF6",
            "gridcolor": "white",
            "gridwidth": 2,
            "linecolor": "white",
            "showbackground": true,
            "ticks": "",
            "zerolinecolor": "white"
           },
           "yaxis": {
            "backgroundcolor": "#E5ECF6",
            "gridcolor": "white",
            "gridwidth": 2,
            "linecolor": "white",
            "showbackground": true,
            "ticks": "",
            "zerolinecolor": "white"
           },
           "zaxis": {
            "backgroundcolor": "#E5ECF6",
            "gridcolor": "white",
            "gridwidth": 2,
            "linecolor": "white",
            "showbackground": true,
            "ticks": "",
            "zerolinecolor": "white"
           }
          },
          "shapedefaults": {
           "line": {
            "color": "#2a3f5f"
           }
          },
          "ternary": {
           "aaxis": {
            "gridcolor": "white",
            "linecolor": "white",
            "ticks": ""
           },
           "baxis": {
            "gridcolor": "white",
            "linecolor": "white",
            "ticks": ""
           },
           "bgcolor": "#E5ECF6",
           "caxis": {
            "gridcolor": "white",
            "linecolor": "white",
            "ticks": ""
           }
          },
          "title": {
           "x": 0.05
          },
          "xaxis": {
           "automargin": true,
           "gridcolor": "white",
           "linecolor": "white",
           "ticks": "",
           "title": {
            "standoff": 15
           },
           "zerolinecolor": "white",
           "zerolinewidth": 2
          },
          "yaxis": {
           "automargin": true,
           "gridcolor": "white",
           "linecolor": "white",
           "ticks": "",
           "title": {
            "standoff": 15
           },
           "zerolinecolor": "white",
           "zerolinewidth": 2
          }
         }
        },
        "title": {
         "text": "Emotionmeter"
        },
        "updatemenus": [
         {
          "buttons": [
           {
            "args": [
             "index",
             3
            ],
            "label": "Menuett 1",
            "method": "restyle"
           },
           {
            "args": [
             "index",
             4
            ],
            "label": "Menuett 2",
            "method": "restyle"
           },
           {
            "args": [
             "index",
             5
            ],
            "label": "Waltz 1",
            "method": "restyle"
           }
          ],
          "direction": "down",
          "pad": {
           "r": 10,
           "t": 10
          },
          "showactive": true,
          "x": 0.1,
          "xanchor": "left",
          "y": 1.08,
          "yanchor": "top"
         },
         {
          "buttons": [
           {
            "args": [
             null,
             {
              "frame": {
               "duration": 500,
               "redraw": false
              },
              "fromcurrent": true,
              "transition": {
               "duration": 300,
               "easing": "quadratic-in-out"
              }
             }
            ],
            "label": "Play",
            "method": "animate"
           },
           {
            "args": [
             null,
             {
              "frame": {
               "duration": 0,
               "redraw": false
              },
              "mode": "immediate",
              "transition": {
               "duration": 0
              }
             }
            ],
            "label": "Pause",
            "method": "animate"
           }
          ],
          "direction": "left",
          "pad": {
           "r": 10,
           "t": 10
          },
          "showactive": false,
          "type": "buttons",
          "x": 0.37,
          "xanchor": "left",
          "y": 1.08,
          "yanchor": "top"
         }
        ],
        "width": 1000
       }
      },
      "text/html": [
       "<div>\n",
       "        \n",
       "        \n",
       "            <div id=\"8cc96ef6-22ba-4a2e-bddc-915adcae8559\" class=\"plotly-graph-div\" style=\"height:700px; width:1000px;\"></div>\n",
       "            <script type=\"text/javascript\">\n",
       "                require([\"plotly\"], function(Plotly) {\n",
       "                    window.PLOTLYENV=window.PLOTLYENV || {};\n",
       "                    \n",
       "                if (document.getElementById(\"8cc96ef6-22ba-4a2e-bddc-915adcae8559\")) {\n",
       "                    Plotly.newPlot(\n",
       "                        '8cc96ef6-22ba-4a2e-bddc-915adcae8559',\n",
       "                        [{\"marker\": {\"color\": \"blue\"}, \"mode\": \"markers\", \"type\": \"scatter\", \"x\": [0.8207972980220555, 0.790240973660125, 0.9079654856001922, 0.5419773214163084, 0.9176111600754956, 0.9109401055748021, 0.8328806553444592, 0.9069530118887316, 0.9270863520697097, 0.6199061978084154, 0.8400797622363756, 0.8489655225255782, 0.8075420086113754, 0.8417953169947824, 0.8461262818125667, 0.8491638916382442, 0.8695429706438508, 0.7303992431878297, 0.7903720782169069, 0.916744347281714, 0.9261327417053864, 0.721215764651099, 0.7669305042853196, 0.7836839226480539, 0.8273486105817075, 0.7093195900822011, 0.9242976868385244, 0.8464834099430194, 0.7549613488862846, 0.6307379271203661, 0.7597052386277912, 0.6741382139070993, 0.7173698432223571, 0.6480905916915303, 0.8572242936027941, 0.7501679464358135, 0.8033129634145662, 0.8404658735801976, 0.915025814591951, 0.9467801159809195, 0.6207516525474026, 0.9169335862646248, 0.9219154733853785, 0.9402624549513166, 0.8963698884569248, 0.9048708448802895, 0.8524348227571585, 0.9065464811571441, 0.9067742885516609, 0.9513223497226696, 0.9446603878671918, 0.8976348825338288, 0.7659402291385216, 0.8362437660015885, 0.6440893804730612, 0.9101546947494579, 0.9058115968049769, 0.8857100785461274, 0.5236157290770527, 0.9310418662011759, 0.8759685382166088, 0.8364464161298937, 0.7838330084190975, 0.8876489227149067, 0.7734955892187356, 0.8426479204597233, 0.7938046486291177, 0.8214088895224017, 0.8646788126778518, 0.8360708901904723, 0.934591992791185, 0.9009851265939632, 0.9071272861215018, 0.882132082990858, 0.9110268186986226, 0.7724492966284047, 0.8537656927609241, 0.8941015238569348, 0.8984801815717804, 0.835355796097343, 0.9480918817230681, 0.9154771162435411, 0.8708986915109078, 0.8805882054162543, 0.7553069558597482, 0.793109676762467, 0.43123479231595513, 0.8795915971807882, 0.7858153171119768, 0.922372996986131, 0.7194100780119327, 0.9146324999572443, 0.4647454610134685, 0.7842552613954143, 0.8859579429426125, 0.8503879384371739, 0.8515315146365823, 0.7942333336006174, 0.901354335175613, 0.43123479231595513, 0.740487549684391, 0.7684498195618548, 0.851004394751246, 0.9652740837807514, 0.8976949664605398, 0.8132212878806183, 0.797046016793501, 0.6587896583753408, 0.6926942418866691, 0.7411138968760563, 0.8872275969707697, 0.7841452417693724, 0.8540043899998073, 0.7492103188476575, 0.902942393216534, 0.9368390212110557, 0.9478993650602603, 0.9531830246417694, 0.9014544396337655, 0.7474629728480966, 0.9378838061443855, 0.9145442260074385, 0.8148392982274775, 0.7435560559650365, 0.92984517880828, 0.8569978972689744, 0.8948439803587751, 0.7939541796845854, 0.804671224007528, 0.6861990712014543, 0.7621875172357848, 0.8371516060760373, 0.6699462245481193, 0.9268951300011311, 0.7421715640907587, 0.9151639245870246, 0.8096350361372575, 0.7787468419992692, 0.6767925215653594, 0.8091563108280297, 0.924446748270715, 0.8016197179951077, 0.7314568211328376, 0.7593308769452298, 0.8356727179421592, 0.8742056056729145, 0.935844307324392, 0.8721133513415096, 0.746984301441737, 0.8602085467887749, 0.9007345440804067, 0.8170713650703303, 0.917902382931389, 0.8395250004749565, 0.8402391048865885, 0.8497901405223965, 0.7994476340305596, 0.7968376956245826, 0.6151980818421076, 0.9070204405472918, 0.8802548369814793, 0.8585041531270217, 0.9032217671804541, 0.8923359691253232, 0.9334145543027021, 0.855301583299803, 0.931415191232734, 0.8431003375546402, 0.7636298495976774, 0.43123479231595513, 0.7694542423107658, 0.5862443658688374, 0.6589643842485426, 0.8045721631527099, 0.8615973249550243, 0.8654653221256748, 0.8952522793091374, 0.7930062606366772, 0.9265286578932277, 0.8780535390052749, 0.8863517388734022, 0.9330113309839155, 0.7962045127225502, 0.5128630297771848, 0.6455361655006635, 0.8161337160691613, 0.7018500861122507, 0.914074594068353, 0.8781603665786994, 0.8444767764997334, 0.8267217340357464, 0.7243330724427574, 0.7690896226042561, 0.8742868353188548, 0.6806019423888425, 0.8602171674601538, 0.848248536936258, 0.9271820618579545, 0.806546691502891, 0.7475913735454975, 0.88212114758662, 0.9260298246031826, 0.8272539828512996, 0.8736413441536015, 0.8618231374818344, 0.8678057937190076, 0.8793781116157812, 0.912611091853504, 0.8720390560741154, 0.8846633606364691, 0.7795844966823775, 0.8945485307540846, 0.8924154090451807, 0.8004075614985321, 0.8188059940175345, 0.891358034858618, 0.9725451034062516, 0.656522105422085, 0.8889932226304946, 0.8918933740995139, 0.7533702787445948, 0.5908999301308846, 0.6854552230157581, 0.9013537981931259, 0.8543049457099945, 0.8566107881445488, 0.8977774803387295, 0.9091623342856566, 0.9346352194615217, 0.8591825782823683, 0.886356983754699, 0.9447294899406192, 0.9487903215026833, 0.9266873347901843, 0.8420206225894586, 0.8773457441249395, 0.8526503410008253, 0.8422642852028362, 0.6513781016070805, 0.8787050181370103, 0.8944507476923889, 0.7673984823986076, 0.4423750719259727, 0.8640653749498342, 0.9409708477979617, 0.9408362644547827, 0.8790962325863106, 0.8358933802471776, 0.8906256903717373, 0.8214332149849839, 0.6623930942651601, 0.9087943042524002, 0.8948930216591302, 0.9210443460607327, 0.8174677902414258, 0.8459047972677619, 0.7926699440813331, 0.8815480699125496, 0.8531550140543549, 0.9182176671446445, 0.7894395246648587, 0.8576753648358209, 0.8883390664392824, 0.6920783658747602, 0.7904701165590944, 0.865296515660761, 0.9254188366267289, 0.8435590377597921, 0.876528112635615, 0.8710479304331555, 0.8735067520096298, 0.43123479231595513, 0.9386145109340174, 0.927302274147728, 0.8593596798864069, 0.7488138456056977, 0.7850024435960434, 0.8739120291012034, 0.8810949493449133, 0.7482928874535228, 0.9166500511714917, 0.7169875041031106, 0.842697135855791, 0.8930963535160774, 0.7827775970566779, 0.8458435665230742, 0.8381225856820353, 0.9096640650683521, 0.9164201459634166, 0.8013009323779486, 0.9403275808658653, 0.6037855913925356, 0.8958162134128083, 0.5518925095706356, 0.9083300998611498, 0.47533347519771074, 0.852370731944642, 0.8056336311145462, 0.8842289769607229, 0.7859798058702769, 0.7734731570775302, 0.8375691417490325, 0.092299597917662, 0.43123479231595513, 0.9220189783878902, 0.7510606905401425, 0.8511888811985884, 0.6246263434862656, 0.8372967898999426, 0.8666343624662326, 0.6371737683917067, 0.8722812455877168, 0.6647414764836439, 0.7639790968201912, 0.7971170982121901, 0.9223993213180794, 0.6776648390327069, 0.9073964413277711, 0.8835345231577325, 0.9322767674457559, 0.7473768742496228, 0.8250397309312123, 0.43123479231595513, 0.8820873016665784, 0.6826475051130533, 0.9069094158073724, 0.9573350912005576, 0.8710105207046359, 0.9128965624821297, 0.954902163389393, 0.8795892272990781, 0.82279470072282, 0.697431228641235, 0.8231871047149939, 0.874402382465929, 0.8693632330586837, 0.43123479231595513, 0.8540122018104981, 0.721234730026231, 0.9636151132819889, 0.83854758195593, 0.6984411219952029, 0.8871213014485729, 0.8579074316307665, 0.8116878844423361, 0.8780700854535254, 0.8979109867921413, 0.8041212843115413, 0.8298237469264662, 0.9313816718757337, 0.9061786678451326, 0.9158485004462725, 0.68471096841837, 0.738989398283245, 0.092299597917662, 0.8224448694989599, 0.8026269785689357, 0.8903009340134476, 0.7396378196026485, 0.8031676568439177, 0.9200848307808146, 0.8493399692858359, 0.8976082951746882, 0.768448629454144, 0.8434935671119391, 0.926987413959862, 0.9246550747255226, 0.6422456076884634, 0.8867524413416124, 0.8334324318026497, 0.9117473862595278, 0.8217349951428545], \"y\": [0.39228631604245967, 0.2288537030895549, 0.12855523531804558, -0.03459441149568593, 0.5749511959319853, 0.4746593313048446, 0.2948661639984085, 0.4499366452831151, 0.3593625851748892, 0.42535730704227337, 0.24777190226653878, 0.1613610698631563, 0.24918482361113997, 0.20089916526045903, 0.28501770447256425, 0.29048451287142674, 0.2610876889777317, 0.08852510139747138, 0.10597097582166026, 0.5061797337474555, 0.6194697011533248, 0.19390495054882043, 0.5152655441524653, 0.30851392023167323, 0.6585212893468385, 0.2140800262747025, 0.3722782595746864, 0.5377928170232299, 0.5450339555427025, 0.008622163157918139, 0.17973912144187365, 0.2505663064085388, 0.5741630508350284, 0.04578929088695399, 0.17392554284013073, -0.058771238963172684, 0.1041317230714281, 0.29723677567145745, 0.38012684013868864, 0.6539094953328332, 0.4243826197758498, 0.4962066353930457, 0.29676883763227546, 0.4194102849754887, 0.29301863809704043, 0.27403932724386193, 0.6271879072906202, 0.29873750759375967, 0.4136809424536767, 0.3902834121173706, 0.38111403232688384, 0.1995961838592769, 0.026219252006479787, 0.19106174709633705, 0.20878624616556582, 0.4657054448946942, 0.20534441088397173, 0.34858353117163565, -0.1026409861720493, 0.31982458070169834, 0.1320571329110443, 0.06526089763328685, 0.09331320683202526, 0.44247342337859064, -0.01994209549368592, 0.08498028724556903, 0.0775887100950497, 0.0647035374087025, 0.22539202247109727, 0.12965105565917445, 0.3557388834044911, 0.2194885640275534, 0.18818219148279963, 0.12531476149320203, 0.21513981573671906, -0.018526143529809247, 0.07170700265907032, 0.3263973778570833, 0.1609283584181419, 0.026230010418450356, 0.22239201627366023, 0.2989127093886226, 0.40784519334148783, 0.24961794250442232, 0.3468317036014891, 0.02909372199526644, -0.3482186682881229, 0.3262155405242041, 0.2961797117978643, 0.4201512298150226, 0.12366394989636752, 0.4437920125564112, -0.1692569838224974, 0.05027077122699475, 0.36831228138394073, 0.11604344490425461, 0.48650390426767964, 0.2956312384298398, 0.31264760224921584, -0.3482186682881229, 0.03550664991785407, 0.02952614509671897, 0.10940767204634397, 0.5563198996442763, 0.32182418174642224, 0.7440648300662893, 0.20431054644560745, 0.64100146381762, 0.5310355915712348, 0.22135517436557295, 0.2826556881835743, 0.3886170179594922, 0.49668712011068733, 0.01694291986023555, 0.441366373998995, 0.2855299659479533, 0.42414026406405747, 0.3666901649150178, 0.24810937868072533, -0.03558013205841276, 0.4318862049779311, 0.32860456715699315, 0.24275312947256805, 0.19921695771352627, 0.46178387412871885, 0.4776720106244244, 0.35782432005299003, 0.17714293270128378, 0.16506248003775487, -0.11703720713697546, 0.23859508428418938, 0.17675936869705042, -0.11038130447561234, 0.3189211070957634, 0.28332692874738374, 0.3732788160057552, 0.1049180486014728, 0.04278770842059104, 0.027803343076008985, 0.13254338136600613, 0.2748757279424157, 0.2220249203835265, -0.0020437419308114158, -0.047670689833708174, 0.12412439286699983, 0.10288778654956449, 0.16089927923915587, 0.09537219332429117, -0.007694486155211927, 0.10843727053237823, 0.062120445071350394, 0.008053611059609223, 0.16325565663734165, 0.17122951990152094, 0.0932394602618723, 0.05396433499662978, 0.12273551405466265, 0.32449029607012553, 0.2574329772377771, 0.16139403966542643, 0.13532244647795227, 0.30648654806216846, 0.1670301266260485, 0.1765634023784323, 0.43617574069375153, 0.09675987132320324, 0.3998013713563038, 0.07913076942559749, 0.03655752334690998, -0.3482186682881229, 0.0392940779515249, -0.13964577533598596, -0.1301378678199166, 0.264033125044397, 0.08691470265595147, 0.16113338690124984, 0.30983337383676224, 0.049440029716583955, 0.5572597300746823, 0.20206652275107764, 0.1489095871148678, 0.3497550642936572, 0.13523869040821446, 0.013877839323403335, -0.1108399830969038, 0.19161032689412166, 0.07581359650967093, 0.39749970506673965, 0.38036743144109564, 0.08314377459604672, 0.17728898519071168, 0.49898766965018226, 0.05830920887842242, 0.22043847309234652, 0.1111217089877583, 0.11004041482458549, 0.11790886619247168, 0.2567028778087741, 0.017616769324116932, 0.49197408523043257, 0.3818825917952726, 0.6618122786027714, 0.36744605940559577, 0.5785445994646194, 0.24482626550329856, 0.21870881232595368, 0.19592140100089947, 0.4778765627611546, 0.10546817727388588, 0.12833658186653502, 0.18136413710680005, 0.27725744644709843, 0.210703777460381, 0.1002171829202381, 0.5191025424598972, 0.23429568195536948, 0.2650840825120955, 0.16051363841653865, 0.2696623151945034, 0.22076038704563872, 0.14004821323168906, -0.20167477089702163, -0.017635241805923102, 0.25514030953805467, 0.09505171040633997, 0.10310932796059236, 0.18528646199810694, 0.22275587534879798, 0.5060131649489243, 0.1515759171916115, 0.2198594616515723, 0.36181840889255934, 0.4727310217607553, 0.2004821598930142, 0.38769838012595226, 0.2842804361664595, 0.08374466018380045, 0.11057663573305052, -0.09199741793424715, 0.4255516873660388, 0.16333314300877044, 0.4334001156426538, -0.043526511299134624, 0.34860264539704955, 0.5422995683087216, 0.28639968106153696, 0.2906953663427274, 0.34208391109094516, 0.3830352671623623, 0.06777940020439249, 0.08956877424548426, 0.32011714666766333, 0.22520837402979055, 0.340266114862135, 0.14023134399435863, 0.07843969365674425, 0.20259956328241865, 0.23903512599725313, 0.10480004355370093, 0.2949862053961171, 0.516030688990012, 0.08288020422514891, 0.4036036026718135, 0.5686153190401442, 0.02113208682725387, 0.06389943515185964, 0.27330609393718974, 0.07948810393263683, 0.3138425284451051, 0.2510345355356661, 0.5342612797632743, -0.3482186682881229, 0.35219454842170334, 0.24240813678096879, 0.09602187643223875, 0.1147916924705511, 0.07056326185890768, 0.16061578632900808, 0.22597091024468902, -0.009121517909650628, 0.3215348943060899, 0.2431114523292652, 0.04357745226862017, 0.25869995592759626, 0.19956928662519086, 0.11875996122854493, 0.10559058069827187, 0.14923490476798512, 0.27634696170982576, 0.624744300726434, 0.28607690986057677, 0.53761976814721, 0.2410415064805435, 0.17864496963173052, 0.40935759010780925, 0.7442534625245161, 0.18677085705192942, 0.2480579080796274, 0.17085253044666512, 0.7444590413817351, 0.006397865595847041, 0.09990534514469104, 0.16503776931958358, -0.3482186682881229, 0.5240729170882404, 0.22962909161950748, 0.20547272264260874, -0.007529862081568195, 0.583439411467277, 0.41339167547129885, -0.11915185711883602, 0.42127071729281806, 0.08500779142582163, -0.060026446087606766, 0.2996221750450523, 0.23439087387297375, 0.7447468504231658, 0.6074075501831991, 0.4680558007001163, 0.31956477965305585, 0.05198511167873954, 0.23644089386186168, -0.3482186682881229, 0.5532364794077188, -0.007298760752439376, 0.5525215504051847, 0.4688126873605671, 0.43280395696002777, 0.3310703323977734, 0.39861295293256005, 0.11222695315982584, 0.2536981925760804, 0.02013240876764627, 0.11282101739004805, 0.18873549784597948, 0.20521077112109617, -0.3482186682881229, 0.37691995976333564, 0.29625554361697937, 0.4897426642869928, 0.05006524085795866, 0.005926052407009608, 0.5453718960089988, 0.41882201582895917, 0.03389218977232061, 0.09847465426991636, 0.23942981870714716, 0.3201306827651502, 0.06839596969049738, 0.21943668582935028, 0.21765788966851768, 0.30388609153378915, -0.1066114979937407, -0.009633206292227692, 0.16503776931958358, 0.5010626345435194, 0.12928260570257202, 0.29828220425553326, -0.053204803446208815, 0.05571548420459804, 0.3065677881369588, 0.5593932848346324, 0.4603977246468637, 0.17425989231106098, 0.3128479516163527, 0.3805014305879244, 0.31487918400743775, -0.04296133559029375, 0.2236506373300263, 0.04220475659373363, 0.18893826010639808, 0.08703457168195616]}, {\"marker\": {\"color\": \"blue\"}, \"mode\": \"markers\", \"type\": \"scatter\", \"x\": [0.8207972980220555, 0.790240973660125, 0.9079654856001922, 0.5419773214163084, 0.9176111600754956, 0.9109401055748021, 0.8328806553444592, 0.9069530118887316, 0.9270863520697097, 0.6199061978084154, 0.8400797622363756, 0.8489655225255782, 0.8075420086113754, 0.8417953169947824, 0.8461262818125667, 0.8491638916382442, 0.8695429706438508, 0.7303992431878297, 0.7903720782169069, 0.916744347281714, 0.9261327417053864, 0.721215764651099, 0.7669305042853196, 0.7836839226480539, 0.8273486105817075, 0.7093195900822011, 0.9242976868385244, 0.8464834099430194, 0.7549613488862846, 0.6307379271203661, 0.7597052386277912, 0.6741382139070993, 0.7173698432223571, 0.6480905916915303, 0.8572242936027941, 0.7501679464358135, 0.8033129634145662, 0.8404658735801976, 0.915025814591951, 0.9467801159809195, 0.6207516525474026, 0.9169335862646248, 0.9219154733853785, 0.9402624549513166, 0.8963698884569248, 0.9048708448802895, 0.8524348227571585, 0.9065464811571441, 0.9067742885516609, 0.9513223497226696, 0.9446603878671918, 0.8976348825338288, 0.7659402291385216, 0.8362437660015885, 0.6440893804730612, 0.9101546947494579, 0.9058115968049769, 0.8857100785461274, 0.5236157290770527, 0.9310418662011759, 0.8759685382166088, 0.8364464161298937, 0.7838330084190975, 0.8876489227149067, 0.7734955892187356, 0.8426479204597233, 0.7938046486291177, 0.8214088895224017, 0.8646788126778518, 0.8360708901904723, 0.934591992791185, 0.9009851265939632, 0.9071272861215018, 0.882132082990858, 0.9110268186986226, 0.7724492966284047, 0.8537656927609241, 0.8941015238569348, 0.8984801815717804, 0.835355796097343, 0.9480918817230681, 0.9154771162435411, 0.8708986915109078, 0.8805882054162543, 0.7553069558597482, 0.793109676762467, 0.43123479231595513, 0.8795915971807882, 0.7858153171119768, 0.922372996986131, 0.7194100780119327, 0.9146324999572443, 0.4647454610134685, 0.7842552613954143, 0.8859579429426125, 0.8503879384371739, 0.8515315146365823, 0.7942333336006174, 0.901354335175613, 0.43123479231595513, 0.740487549684391, 0.7684498195618548, 0.851004394751246, 0.9652740837807514, 0.8976949664605398, 0.8132212878806183, 0.797046016793501, 0.6587896583753408, 0.6926942418866691, 0.7411138968760563, 0.8872275969707697, 0.7841452417693724, 0.8540043899998073, 0.7492103188476575, 0.902942393216534, 0.9368390212110557, 0.9478993650602603, 0.9531830246417694, 0.9014544396337655, 0.7474629728480966, 0.9378838061443855, 0.9145442260074385, 0.8148392982274775, 0.7435560559650365, 0.92984517880828, 0.8569978972689744, 0.8948439803587751, 0.7939541796845854, 0.804671224007528, 0.6861990712014543, 0.7621875172357848, 0.8371516060760373, 0.6699462245481193, 0.9268951300011311, 0.7421715640907587, 0.9151639245870246, 0.8096350361372575, 0.7787468419992692, 0.6767925215653594, 0.8091563108280297, 0.924446748270715, 0.8016197179951077, 0.7314568211328376, 0.7593308769452298, 0.8356727179421592, 0.8742056056729145, 0.935844307324392, 0.8721133513415096, 0.746984301441737, 0.8602085467887749, 0.9007345440804067, 0.8170713650703303, 0.917902382931389, 0.8395250004749565, 0.8402391048865885, 0.8497901405223965, 0.7994476340305596, 0.7968376956245826, 0.6151980818421076, 0.9070204405472918, 0.8802548369814793, 0.8585041531270217, 0.9032217671804541, 0.8923359691253232, 0.9334145543027021, 0.855301583299803, 0.931415191232734, 0.8431003375546402, 0.7636298495976774, 0.43123479231595513, 0.7694542423107658, 0.5862443658688374, 0.6589643842485426, 0.8045721631527099, 0.8615973249550243, 0.8654653221256748, 0.8952522793091374, 0.7930062606366772, 0.9265286578932277, 0.8780535390052749, 0.8863517388734022, 0.9330113309839155, 0.7962045127225502, 0.5128630297771848, 0.6455361655006635, 0.8161337160691613, 0.7018500861122507, 0.914074594068353, 0.8781603665786994, 0.8444767764997334, 0.8267217340357464, 0.7243330724427574, 0.7690896226042561, 0.8742868353188548, 0.6806019423888425, 0.8602171674601538, 0.848248536936258, 0.9271820618579545, 0.806546691502891, 0.7475913735454975, 0.88212114758662, 0.9260298246031826, 0.8272539828512996, 0.8736413441536015, 0.8618231374818344, 0.8678057937190076, 0.8793781116157812, 0.912611091853504, 0.8720390560741154, 0.8846633606364691, 0.7795844966823775, 0.8945485307540846, 0.8924154090451807, 0.8004075614985321, 0.8188059940175345, 0.891358034858618, 0.9725451034062516, 0.656522105422085, 0.8889932226304946, 0.8918933740995139, 0.7533702787445948, 0.5908999301308846, 0.6854552230157581, 0.9013537981931259, 0.8543049457099945, 0.8566107881445488, 0.8977774803387295, 0.9091623342856566, 0.9346352194615217, 0.8591825782823683, 0.886356983754699, 0.9447294899406192, 0.9487903215026833, 0.9266873347901843, 0.8420206225894586, 0.8773457441249395, 0.8526503410008253, 0.8422642852028362, 0.6513781016070805, 0.8787050181370103, 0.8944507476923889, 0.7673984823986076, 0.4423750719259727, 0.8640653749498342, 0.9409708477979617, 0.9408362644547827, 0.8790962325863106, 0.8358933802471776, 0.8906256903717373, 0.8214332149849839, 0.6623930942651601, 0.9087943042524002, 0.8948930216591302, 0.9210443460607327, 0.8174677902414258, 0.8459047972677619, 0.7926699440813331, 0.8815480699125496, 0.8531550140543549, 0.9182176671446445, 0.7894395246648587, 0.8576753648358209, 0.8883390664392824, 0.6920783658747602, 0.7904701165590944, 0.865296515660761, 0.9254188366267289, 0.8435590377597921, 0.876528112635615, 0.8710479304331555, 0.8735067520096298, 0.43123479231595513, 0.9386145109340174, 0.927302274147728, 0.8593596798864069, 0.7488138456056977, 0.7850024435960434, 0.8739120291012034, 0.8810949493449133, 0.7482928874535228, 0.9166500511714917, 0.7169875041031106, 0.842697135855791, 0.8930963535160774, 0.7827775970566779, 0.8458435665230742, 0.8381225856820353, 0.9096640650683521, 0.9164201459634166, 0.8013009323779486, 0.9403275808658653, 0.6037855913925356, 0.8958162134128083, 0.5518925095706356, 0.9083300998611498, 0.47533347519771074, 0.852370731944642, 0.8056336311145462, 0.8842289769607229, 0.7859798058702769, 0.7734731570775302, 0.8375691417490325, 0.092299597917662, 0.43123479231595513, 0.9220189783878902, 0.7510606905401425, 0.8511888811985884, 0.6246263434862656, 0.8372967898999426, 0.8666343624662326, 0.6371737683917067, 0.8722812455877168, 0.6647414764836439, 0.7639790968201912, 0.7971170982121901, 0.9223993213180794, 0.6776648390327069, 0.9073964413277711, 0.8835345231577325, 0.9322767674457559, 0.7473768742496228, 0.8250397309312123, 0.43123479231595513, 0.8820873016665784, 0.6826475051130533, 0.9069094158073724, 0.9573350912005576, 0.8710105207046359, 0.9128965624821297, 0.954902163389393, 0.8795892272990781, 0.82279470072282, 0.697431228641235, 0.8231871047149939, 0.874402382465929, 0.8693632330586837, 0.43123479231595513, 0.8540122018104981, 0.721234730026231, 0.9636151132819889, 0.83854758195593, 0.6984411219952029, 0.8871213014485729, 0.8579074316307665, 0.8116878844423361, 0.8780700854535254, 0.8979109867921413, 0.8041212843115413, 0.8298237469264662, 0.9313816718757337, 0.9061786678451326, 0.9158485004462725, 0.68471096841837, 0.738989398283245, 0.092299597917662, 0.8224448694989599, 0.8026269785689357, 0.8903009340134476, 0.7396378196026485, 0.8031676568439177, 0.9200848307808146, 0.8493399692858359, 0.8976082951746882, 0.768448629454144, 0.8434935671119391, 0.926987413959862, 0.9246550747255226, 0.6422456076884634, 0.8867524413416124, 0.8334324318026497, 0.9117473862595278, 0.8217349951428545], \"y\": [0.39228631604245967, 0.2288537030895549, 0.12855523531804558, -0.03459441149568593, 0.5749511959319853, 0.4746593313048446, 0.2948661639984085, 0.4499366452831151, 0.3593625851748892, 0.42535730704227337, 0.24777190226653878, 0.1613610698631563, 0.24918482361113997, 0.20089916526045903, 0.28501770447256425, 0.29048451287142674, 0.2610876889777317, 0.08852510139747138, 0.10597097582166026, 0.5061797337474555, 0.6194697011533248, 0.19390495054882043, 0.5152655441524653, 0.30851392023167323, 0.6585212893468385, 0.2140800262747025, 0.3722782595746864, 0.5377928170232299, 0.5450339555427025, 0.008622163157918139, 0.17973912144187365, 0.2505663064085388, 0.5741630508350284, 0.04578929088695399, 0.17392554284013073, -0.058771238963172684, 0.1041317230714281, 0.29723677567145745, 0.38012684013868864, 0.6539094953328332, 0.4243826197758498, 0.4962066353930457, 0.29676883763227546, 0.4194102849754887, 0.29301863809704043, 0.27403932724386193, 0.6271879072906202, 0.29873750759375967, 0.4136809424536767, 0.3902834121173706, 0.38111403232688384, 0.1995961838592769, 0.026219252006479787, 0.19106174709633705, 0.20878624616556582, 0.4657054448946942, 0.20534441088397173, 0.34858353117163565, -0.1026409861720493, 0.31982458070169834, 0.1320571329110443, 0.06526089763328685, 0.09331320683202526, 0.44247342337859064, -0.01994209549368592, 0.08498028724556903, 0.0775887100950497, 0.0647035374087025, 0.22539202247109727, 0.12965105565917445, 0.3557388834044911, 0.2194885640275534, 0.18818219148279963, 0.12531476149320203, 0.21513981573671906, -0.018526143529809247, 0.07170700265907032, 0.3263973778570833, 0.1609283584181419, 0.026230010418450356, 0.22239201627366023, 0.2989127093886226, 0.40784519334148783, 0.24961794250442232, 0.3468317036014891, 0.02909372199526644, -0.3482186682881229, 0.3262155405242041, 0.2961797117978643, 0.4201512298150226, 0.12366394989636752, 0.4437920125564112, -0.1692569838224974, 0.05027077122699475, 0.36831228138394073, 0.11604344490425461, 0.48650390426767964, 0.2956312384298398, 0.31264760224921584, -0.3482186682881229, 0.03550664991785407, 0.02952614509671897, 0.10940767204634397, 0.5563198996442763, 0.32182418174642224, 0.7440648300662893, 0.20431054644560745, 0.64100146381762, 0.5310355915712348, 0.22135517436557295, 0.2826556881835743, 0.3886170179594922, 0.49668712011068733, 0.01694291986023555, 0.441366373998995, 0.2855299659479533, 0.42414026406405747, 0.3666901649150178, 0.24810937868072533, -0.03558013205841276, 0.4318862049779311, 0.32860456715699315, 0.24275312947256805, 0.19921695771352627, 0.46178387412871885, 0.4776720106244244, 0.35782432005299003, 0.17714293270128378, 0.16506248003775487, -0.11703720713697546, 0.23859508428418938, 0.17675936869705042, -0.11038130447561234, 0.3189211070957634, 0.28332692874738374, 0.3732788160057552, 0.1049180486014728, 0.04278770842059104, 0.027803343076008985, 0.13254338136600613, 0.2748757279424157, 0.2220249203835265, -0.0020437419308114158, -0.047670689833708174, 0.12412439286699983, 0.10288778654956449, 0.16089927923915587, 0.09537219332429117, -0.007694486155211927, 0.10843727053237823, 0.062120445071350394, 0.008053611059609223, 0.16325565663734165, 0.17122951990152094, 0.0932394602618723, 0.05396433499662978, 0.12273551405466265, 0.32449029607012553, 0.2574329772377771, 0.16139403966542643, 0.13532244647795227, 0.30648654806216846, 0.1670301266260485, 0.1765634023784323, 0.43617574069375153, 0.09675987132320324, 0.3998013713563038, 0.07913076942559749, 0.03655752334690998, -0.3482186682881229, 0.0392940779515249, -0.13964577533598596, -0.1301378678199166, 0.264033125044397, 0.08691470265595147, 0.16113338690124984, 0.30983337383676224, 0.049440029716583955, 0.5572597300746823, 0.20206652275107764, 0.1489095871148678, 0.3497550642936572, 0.13523869040821446, 0.013877839323403335, -0.1108399830969038, 0.19161032689412166, 0.07581359650967093, 0.39749970506673965, 0.38036743144109564, 0.08314377459604672, 0.17728898519071168, 0.49898766965018226, 0.05830920887842242, 0.22043847309234652, 0.1111217089877583, 0.11004041482458549, 0.11790886619247168, 0.2567028778087741, 0.017616769324116932, 0.49197408523043257, 0.3818825917952726, 0.6618122786027714, 0.36744605940559577, 0.5785445994646194, 0.24482626550329856, 0.21870881232595368, 0.19592140100089947, 0.4778765627611546, 0.10546817727388588, 0.12833658186653502, 0.18136413710680005, 0.27725744644709843, 0.210703777460381, 0.1002171829202381, 0.5191025424598972, 0.23429568195536948, 0.2650840825120955, 0.16051363841653865, 0.2696623151945034, 0.22076038704563872, 0.14004821323168906, -0.20167477089702163, -0.017635241805923102, 0.25514030953805467, 0.09505171040633997, 0.10310932796059236, 0.18528646199810694, 0.22275587534879798, 0.5060131649489243, 0.1515759171916115, 0.2198594616515723, 0.36181840889255934, 0.4727310217607553, 0.2004821598930142, 0.38769838012595226, 0.2842804361664595, 0.08374466018380045, 0.11057663573305052, -0.09199741793424715, 0.4255516873660388, 0.16333314300877044, 0.4334001156426538, -0.043526511299134624, 0.34860264539704955, 0.5422995683087216, 0.28639968106153696, 0.2906953663427274, 0.34208391109094516, 0.3830352671623623, 0.06777940020439249, 0.08956877424548426, 0.32011714666766333, 0.22520837402979055, 0.340266114862135, 0.14023134399435863, 0.07843969365674425, 0.20259956328241865, 0.23903512599725313, 0.10480004355370093, 0.2949862053961171, 0.516030688990012, 0.08288020422514891, 0.4036036026718135, 0.5686153190401442, 0.02113208682725387, 0.06389943515185964, 0.27330609393718974, 0.07948810393263683, 0.3138425284451051, 0.2510345355356661, 0.5342612797632743, -0.3482186682881229, 0.35219454842170334, 0.24240813678096879, 0.09602187643223875, 0.1147916924705511, 0.07056326185890768, 0.16061578632900808, 0.22597091024468902, -0.009121517909650628, 0.3215348943060899, 0.2431114523292652, 0.04357745226862017, 0.25869995592759626, 0.19956928662519086, 0.11875996122854493, 0.10559058069827187, 0.14923490476798512, 0.27634696170982576, 0.624744300726434, 0.28607690986057677, 0.53761976814721, 0.2410415064805435, 0.17864496963173052, 0.40935759010780925, 0.7442534625245161, 0.18677085705192942, 0.2480579080796274, 0.17085253044666512, 0.7444590413817351, 0.006397865595847041, 0.09990534514469104, 0.16503776931958358, -0.3482186682881229, 0.5240729170882404, 0.22962909161950748, 0.20547272264260874, -0.007529862081568195, 0.583439411467277, 0.41339167547129885, -0.11915185711883602, 0.42127071729281806, 0.08500779142582163, -0.060026446087606766, 0.2996221750450523, 0.23439087387297375, 0.7447468504231658, 0.6074075501831991, 0.4680558007001163, 0.31956477965305585, 0.05198511167873954, 0.23644089386186168, -0.3482186682881229, 0.5532364794077188, -0.007298760752439376, 0.5525215504051847, 0.4688126873605671, 0.43280395696002777, 0.3310703323977734, 0.39861295293256005, 0.11222695315982584, 0.2536981925760804, 0.02013240876764627, 0.11282101739004805, 0.18873549784597948, 0.20521077112109617, -0.3482186682881229, 0.37691995976333564, 0.29625554361697937, 0.4897426642869928, 0.05006524085795866, 0.005926052407009608, 0.5453718960089988, 0.41882201582895917, 0.03389218977232061, 0.09847465426991636, 0.23942981870714716, 0.3201306827651502, 0.06839596969049738, 0.21943668582935028, 0.21765788966851768, 0.30388609153378915, -0.1066114979937407, -0.009633206292227692, 0.16503776931958358, 0.5010626345435194, 0.12928260570257202, 0.29828220425553326, -0.053204803446208815, 0.05571548420459804, 0.3065677881369588, 0.5593932848346324, 0.4603977246468637, 0.17425989231106098, 0.3128479516163527, 0.3805014305879244, 0.31487918400743775, -0.04296133559029375, 0.2236506373300263, 0.04220475659373363, 0.18893826010639808, 0.08703457168195616]}, {\"marker\": {\"color\": \"red\"}, \"mode\": \"markers\", \"type\": \"scatter\", \"x\": [0.3564362257227567, 0.4315995644766423, 0.2567467615360213, 0.5381421927711866, -0.017748860487105236, 0.5775386466748496, 0.7183900575686415, 0.5520828485274398, 0.27118019791869546, 0.4430529403483363, 0.4482790914845825, 0.8481884726155746, 0.4181545443442719, 0.25416638267798186, 0.2432819013639539, 0.3170302891466167, 0.6497680422364198, 0.30615766679558415, 0.6943833476654513, 0.46591408367117904, 0.31365306052877723, 0.578222198244182, 0.29417482923522853, 0.6103728352312368, 0.7565665056038506, 0.12272870129904337, 0.567030173750623, 0.6636184923565203, 0.6018320209649907, 0.2694511643069183, 0.6046575652584907, 0.5817090069029686, 0.5854794596109515, 0.6495867756792022, 0.24072924584365782, 0.7139747475718368, 0.20386091301902964, 0.29351227290852444, 0.17142197766721076, 0.25274406085451073, 0.3405789953549248, 0.5906456495809809, 0.868694462578719, 0.37058337431386723, 0.7068566581100748, 0.7188536464772576, 0.4026897925675681, 0.3082958289547358, 0.8350155443750266, 0.5045317963898185, 0.24420293333750587, 0.16849506088143887, 0.3057561008793867, 0.3580808659993604, 0.6504458215016796, 0.05590596119787658, 0.9234451166722375, 0.7572600053725898, 0.43403517877953196, 0.12695919765152608, 0.2607663520646209, 0.2206784542250201, 0.25117905847732874], \"y\": [0.6982221834493415, 0.6276633962266147, 0.8344502183819462, 0.6662505687109525, 0.7746575340008228, 0.22256696791350356, 0.6058209895267899, 0.619685856130709, 0.8490573888814251, 0.7427359358701586, 0.8644181209205027, 0.5982762089970963, 0.7961745236838412, 0.8732632367522339, 0.8228736225731883, 0.9052110992315521, 0.8528864552815153, 0.8440353728539142, 0.7102787470433796, 0.5522731814361154, 0.8061137860154619, 0.8608550679245042, 0.8275163213035523, 0.6148083622559226, -0.02239634257925155, 0.8137038317523346, 0.6146930453317192, 0.3157522034647203, 0.8733489601001283, 0.9135317212521981, 0.7942786957372912, 0.7526748377116874, 0.817811295170849, 0.6982563505083392, 0.6699609911994377, 0.3757125682624658, 0.8828667993912976, 0.9043119439001496, 0.6659999256938025, 0.8865913042364393, 0.9276587117047328, 0.728634560264908, 0.29910247584603, 0.846970993011136, 0.6514586710793325, 0.7099651050877184, 0.4764635476397851, 0.5576921743782673, 0.1650219036836697, 0.8084875739173465, 0.6889811588599484, 0.7922967951410098, 0.726901166151076, 0.9039357761619611, 0.7919300829737025, 0.6366750261701302, 0.5192774451130717, 0.5446273962168513, 0.9106431653383944, 0.7935483526183537, 0.6249194588871463, 0.4762181748492387, 0.8726324710348085]}, {\"marker\": {\"color\": \"red\"}, \"mode\": \"markers\", \"type\": \"scatter\", \"x\": [0.3564362257227567, 0.4315995644766423, 0.2567467615360213, 0.5381421927711866, -0.017748860487105236, 0.5775386466748496, 0.7183900575686415, 0.5520828485274398, 0.27118019791869546, 0.4430529403483363, 0.4482790914845825, 0.8481884726155746, 0.4181545443442719, 0.25416638267798186, 0.2432819013639539, 0.3170302891466167, 0.6497680422364198, 0.30615766679558415, 0.6943833476654513, 0.46591408367117904, 0.31365306052877723, 0.578222198244182, 0.29417482923522853, 0.6103728352312368, 0.7565665056038506, 0.12272870129904337, 0.567030173750623, 0.6636184923565203, 0.6018320209649907, 0.2694511643069183, 0.6046575652584907, 0.5817090069029686, 0.5854794596109515, 0.6495867756792022, 0.24072924584365782, 0.7139747475718368, 0.20386091301902964, 0.29351227290852444, 0.17142197766721076, 0.25274406085451073, 0.3405789953549248, 0.5906456495809809, 0.868694462578719, 0.37058337431386723, 0.7068566581100748, 0.7188536464772576, 0.4026897925675681, 0.3082958289547358, 0.8350155443750266, 0.5045317963898185, 0.24420293333750587, 0.16849506088143887, 0.3057561008793867, 0.3580808659993604, 0.6504458215016796, 0.05590596119787658, 0.9234451166722375, 0.7572600053725898, 0.43403517877953196, 0.12695919765152608, 0.2607663520646209, 0.2206784542250201, 0.25117905847732874], \"y\": [0.6982221834493415, 0.6276633962266147, 0.8344502183819462, 0.6662505687109525, 0.7746575340008228, 0.22256696791350356, 0.6058209895267899, 0.619685856130709, 0.8490573888814251, 0.7427359358701586, 0.8644181209205027, 0.5982762089970963, 0.7961745236838412, 0.8732632367522339, 0.8228736225731883, 0.9052110992315521, 0.8528864552815153, 0.8440353728539142, 0.7102787470433796, 0.5522731814361154, 0.8061137860154619, 0.8608550679245042, 0.8275163213035523, 0.6148083622559226, -0.02239634257925155, 0.8137038317523346, 0.6146930453317192, 0.3157522034647203, 0.8733489601001283, 0.9135317212521981, 0.7942786957372912, 0.7526748377116874, 0.817811295170849, 0.6982563505083392, 0.6699609911994377, 0.3757125682624658, 0.8828667993912976, 0.9043119439001496, 0.6659999256938025, 0.8865913042364393, 0.9276587117047328, 0.728634560264908, 0.29910247584603, 0.846970993011136, 0.6514586710793325, 0.7099651050877184, 0.4764635476397851, 0.5576921743782673, 0.1650219036836697, 0.8084875739173465, 0.6889811588599484, 0.7922967951410098, 0.726901166151076, 0.9039357761619611, 0.7919300829737025, 0.6366750261701302, 0.5192774451130717, 0.5446273962168513, 0.9106431653383944, 0.7935483526183537, 0.6249194588871463, 0.4762181748492387, 0.8726324710348085]}, {\"marker\": {\"color\": \"green\", \"size\": 20, \"sizeref\": 100}, \"mode\": \"markers\", \"type\": \"scatter\", \"x\": [0.9280821339600251], \"y\": [0.34139458503050424]}],\n",
       "                        {\"height\": 700, \"sliders\": [{\"active\": 1, \"currentvalue\": {\"font\": {\"size\": 20}, \"prefix\": \"Bar \", \"visible\": false}, \"steps\": [{\"args\": [[0], {\"frame\": {\"duration\": 100, \"redraw\": false}, \"mode\": \"immediate\", \"transition\": {\"duration\": 100}}], \"label\": \"0\", \"method\": \"animate\"}, {\"args\": [[1], {\"frame\": {\"duration\": 100, \"redraw\": false}, \"mode\": \"immediate\", \"transition\": {\"duration\": 100}}], \"label\": \"1\", \"method\": \"animate\"}, {\"args\": [[2], {\"frame\": {\"duration\": 100, \"redraw\": false}, \"mode\": \"immediate\", \"transition\": {\"duration\": 100}}], \"label\": \"2\", \"method\": \"animate\"}, {\"args\": [[3], {\"frame\": {\"duration\": 100, \"redraw\": false}, \"mode\": \"immediate\", \"transition\": {\"duration\": 100}}], \"label\": \"3\", \"method\": \"animate\"}, {\"args\": [[4], {\"frame\": {\"duration\": 100, \"redraw\": false}, \"mode\": \"immediate\", \"transition\": {\"duration\": 100}}], \"label\": \"4\", \"method\": \"animate\"}, {\"args\": [[5], {\"frame\": {\"duration\": 100, \"redraw\": false}, \"mode\": \"immediate\", \"transition\": {\"duration\": 100}}], \"label\": \"5\", \"method\": \"animate\"}, {\"args\": [[6], {\"frame\": {\"duration\": 100, \"redraw\": false}, \"mode\": \"immediate\", \"transition\": {\"duration\": 100}}], \"label\": \"6\", \"method\": \"animate\"}, {\"args\": [[7], {\"frame\": {\"duration\": 100, \"redraw\": false}, \"mode\": \"immediate\", \"transition\": {\"duration\": 100}}], \"label\": \"7\", \"method\": \"animate\"}, {\"args\": [[8], {\"frame\": {\"duration\": 100, \"redraw\": false}, \"mode\": \"immediate\", \"transition\": {\"duration\": 100}}], \"label\": \"8\", \"method\": \"animate\"}, {\"args\": [[9], {\"frame\": {\"duration\": 100, \"redraw\": false}, \"mode\": \"immediate\", \"transition\": {\"duration\": 100}}], \"label\": \"9\", \"method\": \"animate\"}, {\"args\": [[10], {\"frame\": {\"duration\": 100, \"redraw\": false}, \"mode\": \"immediate\", \"transition\": {\"duration\": 100}}], \"label\": \"10\", \"method\": \"animate\"}, {\"args\": [[11], {\"frame\": {\"duration\": 100, \"redraw\": false}, \"mode\": \"immediate\", \"transition\": {\"duration\": 100}}], \"label\": \"11\", \"method\": \"animate\"}, {\"args\": [[12], {\"frame\": {\"duration\": 100, \"redraw\": false}, \"mode\": \"immediate\", \"transition\": {\"duration\": 100}}], \"label\": \"12\", \"method\": \"animate\"}, {\"args\": [[13], {\"frame\": {\"duration\": 100, \"redraw\": false}, \"mode\": \"immediate\", \"transition\": {\"duration\": 100}}], \"label\": \"13\", \"method\": \"animate\"}, {\"args\": [[14], {\"frame\": {\"duration\": 100, \"redraw\": false}, \"mode\": \"immediate\", \"transition\": {\"duration\": 100}}], \"label\": \"14\", \"method\": \"animate\"}, {\"args\": [[15], {\"frame\": {\"duration\": 100, \"redraw\": false}, \"mode\": \"immediate\", \"transition\": {\"duration\": 100}}], \"label\": \"15\", \"method\": \"animate\"}, {\"args\": [[16], {\"frame\": {\"duration\": 100, \"redraw\": false}, \"mode\": \"immediate\", \"transition\": {\"duration\": 100}}], \"label\": \"16\", \"method\": \"animate\"}, {\"args\": [[17], {\"frame\": {\"duration\": 100, \"redraw\": false}, \"mode\": \"immediate\", \"transition\": {\"duration\": 100}}], \"label\": \"17\", \"method\": \"animate\"}, {\"args\": [[18], {\"frame\": {\"duration\": 100, \"redraw\": false}, \"mode\": \"immediate\", \"transition\": {\"duration\": 100}}], \"label\": \"18\", \"method\": \"animate\"}, {\"args\": [[19], {\"frame\": {\"duration\": 100, \"redraw\": false}, \"mode\": \"immediate\", \"transition\": {\"duration\": 100}}], \"label\": \"19\", \"method\": \"animate\"}], \"transition\": {\"duration\": 300, \"easing\": \"cubic-in-out\"}}], \"template\": {\"data\": {\"bar\": [{\"error_x\": {\"color\": \"#2a3f5f\"}, \"error_y\": {\"color\": \"#2a3f5f\"}, \"marker\": {\"line\": {\"color\": \"#E5ECF6\", \"width\": 0.5}}, \"type\": \"bar\"}], \"barpolar\": [{\"marker\": {\"line\": {\"color\": \"#E5ECF6\", \"width\": 0.5}}, \"type\": \"barpolar\"}], \"carpet\": [{\"aaxis\": {\"endlinecolor\": \"#2a3f5f\", \"gridcolor\": \"white\", \"linecolor\": \"white\", \"minorgridcolor\": \"white\", \"startlinecolor\": \"#2a3f5f\"}, \"baxis\": {\"endlinecolor\": \"#2a3f5f\", \"gridcolor\": \"white\", \"linecolor\": \"white\", \"minorgridcolor\": \"white\", \"startlinecolor\": \"#2a3f5f\"}, \"type\": \"carpet\"}], \"choropleth\": [{\"colorbar\": {\"outlinewidth\": 0, \"ticks\": \"\"}, \"type\": \"choropleth\"}], \"contour\": [{\"colorbar\": {\"outlinewidth\": 0, \"ticks\": \"\"}, \"colorscale\": [[0.0, \"#0d0887\"], [0.1111111111111111, \"#46039f\"], [0.2222222222222222, \"#7201a8\"], [0.3333333333333333, \"#9c179e\"], [0.4444444444444444, \"#bd3786\"], [0.5555555555555556, \"#d8576b\"], [0.6666666666666666, \"#ed7953\"], [0.7777777777777778, \"#fb9f3a\"], [0.8888888888888888, \"#fdca26\"], [1.0, \"#f0f921\"]], \"type\": \"contour\"}], \"contourcarpet\": [{\"colorbar\": {\"outlinewidth\": 0, \"ticks\": \"\"}, \"type\": \"contourcarpet\"}], \"heatmap\": [{\"colorbar\": {\"outlinewidth\": 0, \"ticks\": \"\"}, \"colorscale\": [[0.0, \"#0d0887\"], [0.1111111111111111, \"#46039f\"], [0.2222222222222222, \"#7201a8\"], [0.3333333333333333, \"#9c179e\"], [0.4444444444444444, \"#bd3786\"], [0.5555555555555556, \"#d8576b\"], [0.6666666666666666, \"#ed7953\"], [0.7777777777777778, \"#fb9f3a\"], [0.8888888888888888, \"#fdca26\"], [1.0, \"#f0f921\"]], \"type\": \"heatmap\"}], \"heatmapgl\": [{\"colorbar\": {\"outlinewidth\": 0, \"ticks\": \"\"}, \"colorscale\": [[0.0, \"#0d0887\"], [0.1111111111111111, \"#46039f\"], [0.2222222222222222, \"#7201a8\"], [0.3333333333333333, \"#9c179e\"], [0.4444444444444444, \"#bd3786\"], [0.5555555555555556, \"#d8576b\"], [0.6666666666666666, \"#ed7953\"], [0.7777777777777778, \"#fb9f3a\"], [0.8888888888888888, \"#fdca26\"], [1.0, \"#f0f921\"]], \"type\": \"heatmapgl\"}], \"histogram\": [{\"marker\": {\"colorbar\": {\"outlinewidth\": 0, \"ticks\": \"\"}}, \"type\": \"histogram\"}], \"histogram2d\": [{\"colorbar\": {\"outlinewidth\": 0, \"ticks\": \"\"}, \"colorscale\": [[0.0, \"#0d0887\"], [0.1111111111111111, \"#46039f\"], [0.2222222222222222, \"#7201a8\"], [0.3333333333333333, \"#9c179e\"], [0.4444444444444444, \"#bd3786\"], [0.5555555555555556, \"#d8576b\"], [0.6666666666666666, \"#ed7953\"], [0.7777777777777778, \"#fb9f3a\"], [0.8888888888888888, \"#fdca26\"], [1.0, \"#f0f921\"]], \"type\": \"histogram2d\"}], \"histogram2dcontour\": [{\"colorbar\": {\"outlinewidth\": 0, \"ticks\": \"\"}, \"colorscale\": [[0.0, \"#0d0887\"], [0.1111111111111111, \"#46039f\"], [0.2222222222222222, \"#7201a8\"], [0.3333333333333333, \"#9c179e\"], [0.4444444444444444, \"#bd3786\"], [0.5555555555555556, \"#d8576b\"], [0.6666666666666666, \"#ed7953\"], [0.7777777777777778, \"#fb9f3a\"], [0.8888888888888888, \"#fdca26\"], [1.0, \"#f0f921\"]], \"type\": \"histogram2dcontour\"}], \"mesh3d\": [{\"colorbar\": {\"outlinewidth\": 0, \"ticks\": \"\"}, \"type\": \"mesh3d\"}], \"parcoords\": [{\"line\": {\"colorbar\": {\"outlinewidth\": 0, \"ticks\": \"\"}}, \"type\": \"parcoords\"}], \"pie\": [{\"automargin\": true, \"type\": \"pie\"}], \"scatter\": [{\"marker\": {\"colorbar\": {\"outlinewidth\": 0, \"ticks\": \"\"}}, \"type\": \"scatter\"}], \"scatter3d\": [{\"line\": {\"colorbar\": {\"outlinewidth\": 0, \"ticks\": \"\"}}, \"marker\": {\"colorbar\": {\"outlinewidth\": 0, \"ticks\": \"\"}}, \"type\": \"scatter3d\"}], \"scattercarpet\": [{\"marker\": {\"colorbar\": {\"outlinewidth\": 0, \"ticks\": \"\"}}, \"type\": \"scattercarpet\"}], \"scattergeo\": [{\"marker\": {\"colorbar\": {\"outlinewidth\": 0, \"ticks\": \"\"}}, \"type\": \"scattergeo\"}], \"scattergl\": [{\"marker\": {\"colorbar\": {\"outlinewidth\": 0, \"ticks\": \"\"}}, \"type\": \"scattergl\"}], \"scattermapbox\": [{\"marker\": {\"colorbar\": {\"outlinewidth\": 0, \"ticks\": \"\"}}, \"type\": \"scattermapbox\"}], \"scatterpolar\": [{\"marker\": {\"colorbar\": {\"outlinewidth\": 0, \"ticks\": \"\"}}, \"type\": \"scatterpolar\"}], \"scatterpolargl\": [{\"marker\": {\"colorbar\": {\"outlinewidth\": 0, \"ticks\": \"\"}}, \"type\": \"scatterpolargl\"}], \"scatterternary\": [{\"marker\": {\"colorbar\": {\"outlinewidth\": 0, \"ticks\": \"\"}}, \"type\": \"scatterternary\"}], \"surface\": [{\"colorbar\": {\"outlinewidth\": 0, \"ticks\": \"\"}, \"colorscale\": [[0.0, \"#0d0887\"], [0.1111111111111111, \"#46039f\"], [0.2222222222222222, \"#7201a8\"], [0.3333333333333333, \"#9c179e\"], [0.4444444444444444, \"#bd3786\"], [0.5555555555555556, \"#d8576b\"], [0.6666666666666666, \"#ed7953\"], [0.7777777777777778, \"#fb9f3a\"], [0.8888888888888888, \"#fdca26\"], [1.0, \"#f0f921\"]], \"type\": \"surface\"}], \"table\": [{\"cells\": {\"fill\": {\"color\": \"#EBF0F8\"}, \"line\": {\"color\": \"white\"}}, \"header\": {\"fill\": {\"color\": \"#C8D4E3\"}, \"line\": {\"color\": \"white\"}}, \"type\": \"table\"}]}, \"layout\": {\"annotationdefaults\": {\"arrowcolor\": \"#2a3f5f\", \"arrowhead\": 0, \"arrowwidth\": 1}, \"coloraxis\": {\"colorbar\": {\"outlinewidth\": 0, \"ticks\": \"\"}}, \"colorscale\": {\"diverging\": [[0, \"#8e0152\"], [0.1, \"#c51b7d\"], [0.2, \"#de77ae\"], [0.3, \"#f1b6da\"], [0.4, \"#fde0ef\"], [0.5, \"#f7f7f7\"], [0.6, \"#e6f5d0\"], [0.7, \"#b8e186\"], [0.8, \"#7fbc41\"], [0.9, \"#4d9221\"], [1, \"#276419\"]], \"sequential\": [[0.0, \"#0d0887\"], [0.1111111111111111, \"#46039f\"], [0.2222222222222222, \"#7201a8\"], [0.3333333333333333, \"#9c179e\"], [0.4444444444444444, \"#bd3786\"], [0.5555555555555556, \"#d8576b\"], [0.6666666666666666, \"#ed7953\"], [0.7777777777777778, \"#fb9f3a\"], [0.8888888888888888, \"#fdca26\"], [1.0, \"#f0f921\"]], \"sequentialminus\": [[0.0, \"#0d0887\"], [0.1111111111111111, \"#46039f\"], [0.2222222222222222, \"#7201a8\"], [0.3333333333333333, \"#9c179e\"], [0.4444444444444444, \"#bd3786\"], [0.5555555555555556, \"#d8576b\"], [0.6666666666666666, \"#ed7953\"], [0.7777777777777778, \"#fb9f3a\"], [0.8888888888888888, \"#fdca26\"], [1.0, \"#f0f921\"]]}, \"colorway\": [\"#636efa\", \"#EF553B\", \"#00cc96\", \"#ab63fa\", \"#FFA15A\", \"#19d3f3\", \"#FF6692\", \"#B6E880\", \"#FF97FF\", \"#FECB52\"], \"font\": {\"color\": \"#2a3f5f\"}, \"geo\": {\"bgcolor\": \"white\", \"lakecolor\": \"white\", \"landcolor\": \"#E5ECF6\", \"showlakes\": true, \"showland\": true, \"subunitcolor\": \"white\"}, \"hoverlabel\": {\"align\": \"left\"}, \"hovermode\": \"closest\", \"mapbox\": {\"style\": \"light\"}, \"paper_bgcolor\": \"white\", \"plot_bgcolor\": \"#E5ECF6\", \"polar\": {\"angularaxis\": {\"gridcolor\": \"white\", \"linecolor\": \"white\", \"ticks\": \"\"}, \"bgcolor\": \"#E5ECF6\", \"radialaxis\": {\"gridcolor\": \"white\", \"linecolor\": \"white\", \"ticks\": \"\"}}, \"scene\": {\"xaxis\": {\"backgroundcolor\": \"#E5ECF6\", \"gridcolor\": \"white\", \"gridwidth\": 2, \"linecolor\": \"white\", \"showbackground\": true, \"ticks\": \"\", \"zerolinecolor\": \"white\"}, \"yaxis\": {\"backgroundcolor\": \"#E5ECF6\", \"gridcolor\": \"white\", \"gridwidth\": 2, \"linecolor\": \"white\", \"showbackground\": true, \"ticks\": \"\", \"zerolinecolor\": \"white\"}, \"zaxis\": {\"backgroundcolor\": \"#E5ECF6\", \"gridcolor\": \"white\", \"gridwidth\": 2, \"linecolor\": \"white\", \"showbackground\": true, \"ticks\": \"\", \"zerolinecolor\": \"white\"}}, \"shapedefaults\": {\"line\": {\"color\": \"#2a3f5f\"}}, \"ternary\": {\"aaxis\": {\"gridcolor\": \"white\", \"linecolor\": \"white\", \"ticks\": \"\"}, \"baxis\": {\"gridcolor\": \"white\", \"linecolor\": \"white\", \"ticks\": \"\"}, \"bgcolor\": \"#E5ECF6\", \"caxis\": {\"gridcolor\": \"white\", \"linecolor\": \"white\", \"ticks\": \"\"}}, \"title\": {\"x\": 0.05}, \"xaxis\": {\"automargin\": true, \"gridcolor\": \"white\", \"linecolor\": \"white\", \"ticks\": \"\", \"title\": {\"standoff\": 15}, \"zerolinecolor\": \"white\", \"zerolinewidth\": 2}, \"yaxis\": {\"automargin\": true, \"gridcolor\": \"white\", \"linecolor\": \"white\", \"ticks\": \"\", \"title\": {\"standoff\": 15}, \"zerolinecolor\": \"white\", \"zerolinewidth\": 2}}}, \"title\": {\"text\": \"Emotionmeter\"}, \"updatemenus\": [{\"buttons\": [{\"args\": [\"index\", 3], \"label\": \"Menuett 1\", \"method\": \"restyle\"}, {\"args\": [\"index\", 4], \"label\": \"Menuett 2\", \"method\": \"restyle\"}, {\"args\": [\"index\", 5], \"label\": \"Waltz 1\", \"method\": \"restyle\"}], \"direction\": \"down\", \"pad\": {\"r\": 10, \"t\": 10}, \"showactive\": true, \"x\": 0.1, \"xanchor\": \"left\", \"y\": 1.08, \"yanchor\": \"top\"}, {\"buttons\": [{\"args\": [null, {\"frame\": {\"duration\": 500, \"redraw\": false}, \"fromcurrent\": true, \"transition\": {\"duration\": 300, \"easing\": \"quadratic-in-out\"}}], \"label\": \"Play\", \"method\": \"animate\"}, {\"args\": [null, {\"frame\": {\"duration\": 0, \"redraw\": false}, \"mode\": \"immediate\", \"transition\": {\"duration\": 0}}], \"label\": \"Pause\", \"method\": \"animate\"}], \"direction\": \"left\", \"pad\": {\"r\": 10, \"t\": 10}, \"showactive\": false, \"type\": \"buttons\", \"x\": 0.37, \"xanchor\": \"left\", \"y\": 1.08, \"yanchor\": \"top\"}], \"width\": 1000},\n",
       "                        {\"responsive\": true}\n",
       "                    ).then(function(){\n",
       "                            Plotly.addFrames('8cc96ef6-22ba-4a2e-bddc-915adcae8559', [{\"data\": [{\"marker\": {\"color\": \"green\", \"size\": 20, \"sizeref\": 100}, \"mode\": \"markers\", \"x\": [0.9280821339600251], \"y\": [0.34139458503050424], \"type\": \"scatter\"}]}, {\"data\": [{\"marker\": {\"color\": \"green\", \"size\": 20, \"sizeref\": 100}, \"mode\": \"markers\", \"x\": [0.8946042961407789], \"y\": [0.2567739533867749], \"type\": \"scatter\"}]}, {\"data\": [{\"marker\": {\"color\": \"green\", \"size\": 20, \"sizeref\": 100}, \"mode\": \"markers\", \"x\": [0.7820506060957289], \"y\": [0.05026827178772611], \"type\": \"scatter\"}]}, {\"data\": [{\"marker\": {\"color\": \"green\", \"size\": 20, \"sizeref\": 100}, \"mode\": \"markers\", \"x\": [0.7591584544346973], \"y\": [0.4378369888622473], \"type\": \"scatter\"}]}, {\"data\": [{\"marker\": {\"color\": \"green\", \"size\": 20, \"sizeref\": 100}, \"mode\": \"markers\", \"x\": [0.5656503131269932], \"y\": [0.13321262648106996], \"type\": \"scatter\"}]}, {\"data\": [{\"marker\": {\"color\": \"green\", \"size\": 20, \"sizeref\": 100}, \"mode\": \"markers\", \"x\": [0.4959423041340907], \"y\": [0.09732756781011705], \"type\": \"scatter\"}]}, {\"data\": [{\"marker\": {\"color\": \"green\", \"size\": 20, \"sizeref\": 100}, \"mode\": \"markers\", \"x\": [0.5381548976497166], \"y\": [0.10002675103533329], \"type\": \"scatter\"}]}, {\"data\": [{\"marker\": {\"color\": \"green\", \"size\": 20, \"sizeref\": 100}, \"mode\": \"markers\", \"x\": [0.5268954353008455], \"y\": [-0.18978513284298926], \"type\": \"scatter\"}]}, {\"data\": [{\"marker\": {\"color\": \"green\", \"size\": 20, \"sizeref\": 100}, \"mode\": \"markers\", \"x\": [0.5290447150897201], \"y\": [-0.21342665671141506], \"type\": \"scatter\"}]}, {\"data\": [{\"marker\": {\"color\": \"green\", \"size\": 20, \"sizeref\": 100}, \"mode\": \"markers\", \"x\": [0.6019720406175949], \"y\": [-0.17747158066957844], \"type\": \"scatter\"}]}, {\"data\": [{\"marker\": {\"color\": \"green\", \"size\": 20, \"sizeref\": 100}, \"mode\": \"markers\", \"x\": [0.5924435193505875], \"y\": [-0.18140202628611063], \"type\": \"scatter\"}]}, {\"data\": [{\"marker\": {\"color\": \"green\", \"size\": 20, \"sizeref\": 100}, \"mode\": \"markers\", \"x\": [0.583603130726988], \"y\": [-0.19463691050018614], \"type\": \"scatter\"}]}, {\"data\": [{\"marker\": {\"color\": \"green\", \"size\": 20, \"sizeref\": 100}, \"mode\": \"markers\", \"x\": [0.583603130726988], \"y\": [-0.19463691050018614], \"type\": \"scatter\"}]}, {\"data\": [{\"marker\": {\"color\": \"green\", \"size\": 20, \"sizeref\": 100}, \"mode\": \"markers\", \"x\": [0.645274245224518], \"y\": [-0.14777251887833512], \"type\": \"scatter\"}]}, {\"data\": [{\"marker\": {\"color\": \"green\", \"size\": 20, \"sizeref\": 100}, \"mode\": \"markers\", \"x\": [0.8258674406581069], \"y\": [0.044030252522521296], \"type\": \"scatter\"}]}, {\"data\": [{\"marker\": {\"color\": \"green\", \"size\": 20, \"sizeref\": 100}, \"mode\": \"markers\", \"x\": [0.8189139712952179], \"y\": [0.08345415309906754], \"type\": \"scatter\"}]}, {\"data\": [{\"marker\": {\"color\": \"green\", \"size\": 20, \"sizeref\": 100}, \"mode\": \"markers\", \"x\": [0.8458734046691105], \"y\": [0.11219332779300509], \"type\": \"scatter\"}]}, {\"data\": [{\"marker\": {\"color\": \"green\", \"size\": 20, \"sizeref\": 100}, \"mode\": \"markers\", \"x\": [0.7556509553200148], \"y\": [0.0801999478322527], \"type\": \"scatter\"}]}, {\"data\": [{\"marker\": {\"color\": \"green\", \"size\": 20, \"sizeref\": 100}, \"mode\": \"markers\", \"x\": [0.6675858655150896], \"y\": [-0.022060403311263965], \"type\": \"scatter\"}]}, {\"data\": [{\"marker\": {\"color\": \"green\", \"size\": 20, \"sizeref\": 100}, \"mode\": \"markers\", \"x\": [0.8976976392511811], \"y\": [0.20242818002117108], \"type\": \"scatter\"}]}]);\n",
       "                        }).then(function(){\n",
       "                            \n",
       "var gd = document.getElementById('8cc96ef6-22ba-4a2e-bddc-915adcae8559');\n",
       "var x = new MutationObserver(function (mutations, observer) {{\n",
       "        var display = window.getComputedStyle(gd).display;\n",
       "        if (!display || display === 'none') {{\n",
       "            console.log([gd, 'removed!']);\n",
       "            Plotly.purge(gd);\n",
       "            observer.disconnect();\n",
       "        }}\n",
       "}});\n",
       "\n",
       "// Listen for the removal of the full notebook cells\n",
       "var notebookContainer = gd.closest('#notebook-container');\n",
       "if (notebookContainer) {{\n",
       "    x.observe(notebookContainer, {childList: true});\n",
       "}}\n",
       "\n",
       "// Listen for the clearing of the current output cell\n",
       "var outputEl = gd.closest('.output');\n",
       "if (outputEl) {{\n",
       "    x.observe(outputEl, {childList: true});\n",
       "}}\n",
       "\n",
       "                        })\n",
       "                };\n",
       "                });\n",
       "            </script>\n",
       "        </div>"
      ]
     },
     "metadata": {},
     "output_type": "display_data"
    }
   ],
   "source": [
    "index = 1\n",
    "\n",
    "button_layer_1_height = 1.08\n",
    "updatemenus=[\n",
    "    go.layout.Updatemenu(\n",
    "        buttons=list([\n",
    "            dict(\n",
    "                args=[\"index\", 3],\n",
    "                label=\"Menuett 1\",\n",
    "                method=\"restyle\"\n",
    "            ),\n",
    "            dict(\n",
    "                args=[\"index\", 4],\n",
    "                label=\"Menuett 2\",\n",
    "                method=\"restyle\"\n",
    "            ),\n",
    "            dict(\n",
    "                args=[\"index\", 5],\n",
    "                label=\"Waltz 1\",\n",
    "                method=\"restyle\"\n",
    "            )\n",
    "        ]),\n",
    "        direction=\"down\",\n",
    "        pad={\"r\": 10, \"t\": 10},\n",
    "        showactive=True,\n",
    "        x=0.1,\n",
    "        xanchor=\"left\",\n",
    "        y=button_layer_1_height,\n",
    "        yanchor=\"top\"\n",
    "    ),\n",
    "    go.layout.Updatemenu(\n",
    "        buttons=list([\n",
    "            dict(\n",
    "                args=[None, dict(frame=dict(duration=500, redraw=False),\n",
    "                                 fromcurrent=True, transition=dict(duration=300, easing='quadratic-in-out'))],\n",
    "                label=\"Play\",\n",
    "                method=\"animate\"\n",
    "            ),\n",
    "            dict(\n",
    "                args=[None, dict(frame=dict(duration=0, redraw=False),\n",
    "                                   mode='immediate', transition=dict(duration=0))],\n",
    "                label=\"Pause\",\n",
    "                method=\"animate\"\n",
    "            )\n",
    "        ]),\n",
    "        direction=\"left\",\n",
    "        pad={\"r\": 10, \"t\": 10},\n",
    "        showactive=False,\n",
    "        type = 'buttons',\n",
    "        x=0.37,\n",
    "        xanchor=\"left\",\n",
    "        y=button_layer_1_height,\n",
    "        yanchor=\"top\"\n",
    "    )\n",
    "]\n",
    "\n",
    "\n",
    "data=[go.Scatter(x=all_corr.loc[all_corr['gt_mode'] == 'major']['major'].to_list(),\n",
    "                 y=all_corr.loc[all_corr['gt_mode'] == 'major']['minor'].to_list(),\n",
    "                 mode=\"markers\",\n",
    "                 marker=dict(color='blue')),\n",
    "     go.Scatter(x=all_corr.loc[all_corr['gt_mode'] == 'major']['major'].to_list(),\n",
    "                 y=all_corr.loc[all_corr['gt_mode'] == 'major']['minor'].to_list(),\n",
    "                 mode=\"markers\",\n",
    "                 marker=dict(color='blue')),\n",
    "     go.Scatter(x=all_corr.loc[all_corr['gt_mode'] == 'minor']['major'].to_list(),\n",
    "                y=all_corr.loc[all_corr['gt_mode'] == 'minor']['minor'].to_list(),\n",
    "                mode=\"markers\",\n",
    "                marker=dict(color='red')),\n",
    "     go.Scatter(x=all_corr.loc[all_corr['gt_mode'] == 'minor']['major'].to_list(),\n",
    "                y=all_corr.loc[all_corr['gt_mode'] == 'minor']['minor'].to_list(),\n",
    "                mode=\"markers\",\n",
    "                marker=dict(color='red'))]\n",
    "\n",
    "\n",
    "maj_corr = test_files.iloc[index]['maj_traj'][0]\n",
    "min_corr = test_files.iloc[index]['min_traj'][0]\n",
    "frame = {\"data\": []}\n",
    "data_dict = {\"x\": [maj_corr], \"y\": [min_corr],\n",
    "    \"mode\": \"markers\",\n",
    "    \"marker\": {\n",
    "        \"color\": \"green\", \"sizeref\": 100, \"size\": 20\n",
    "    }\n",
    "}\n",
    "data.append(data_dict)  \n",
    "\n",
    "\n",
    "\n",
    "sliders_dict = dict(active=1,\n",
    "                    currentvalue=dict(font=dict(size=20),\n",
    "                                                prefix='Bar ',\n",
    "                                                visible=False),\n",
    "                    transition=dict(duration=300, easing='cubic-in-out'),\n",
    "                    steps=[])\n",
    "\n",
    "frames = []\n",
    "for bar in range(len(test_files.iloc[index]['maj_traj'])):    \n",
    "    frame = {\"data\": [], \"name\": str(bar)}\n",
    "    # Create one frame per bar\n",
    "    maj_corr = test_files.iloc[index]['maj_traj'][bar]\n",
    "    min_corr = test_files.iloc[index]['min_traj'][bar]\n",
    "    frame = {\"data\": []}\n",
    "    data_dict = {\"x\": [maj_corr], \"y\": [min_corr],\n",
    "        \"mode\": \"markers\",\n",
    "        \"marker\": {\n",
    "            \"color\": \"green\", \"sizeref\": 100, \"size\": 20\n",
    "        }\n",
    "    }\n",
    "    frame[\"data\"].append(data_dict)  \n",
    "    frames.append(frame)\n",
    "    \n",
    "    \n",
    "    slider_step = dict(args=[[bar], dict(frame=dict(duration=100, redraw=False),\n",
    "                                       mode='immediate',\n",
    "                                       transition=dict(duration=100))],\n",
    "                       label=bar,\n",
    "                       method='animate')\n",
    "    sliders_dict['steps'].append(slider_step)\n",
    "    \n",
    "layout=go.Layout(width=1000, height=700,\n",
    "                 title=\"Emotionmeter\",\n",
    "                 updatemenus=updatemenus,\n",
    "                 sliders=[sliders_dict],\n",
    "                )\n",
    "#print(layout['sliders'])\n",
    "    \n",
    "fig = go.Figure(data, layout, frames)\n",
    "fig.show()\n"
   ]
  },
  {
   "cell_type": "code",
   "execution_count": null,
   "metadata": {},
   "outputs": [],
   "source": []
  }
 ],
 "metadata": {
  "kernelspec": {
   "display_name": "Python 3",
   "language": "python",
   "name": "python3"
  },
  "language_info": {
   "codemirror_mode": {
    "name": "ipython",
    "version": 3
   },
   "file_extension": ".py",
   "mimetype": "text/x-python",
   "name": "python",
   "nbconvert_exporter": "python",
   "pygments_lexer": "ipython3",
   "version": "3.7.3"
  }
 },
 "nbformat": 4,
 "nbformat_minor": 2
}
