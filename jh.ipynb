{
 "cells": [
  {
   "cell_type": "code",
   "execution_count": 1,
   "metadata": {},
   "outputs": [],
   "source": [
    "%load_ext autoreload\n",
    "%autoreload 2\n",
    "from jh import *"
   ]
  },
  {
   "cell_type": "code",
   "execution_count": 2,
   "metadata": {},
   "outputs": [
    {
     "name": "stderr",
     "output_type": "stream",
     "text": [
      "/home/hentsche/anaconda3/lib/python3.7/site-packages/IPython/core/interactiveshell.py:3058: DtypeWarning: Columns (8,20,23) have mixed types. Specify dtype option on import or set low_memory=False.\n",
      "  interactivity=interactivity, compiler=compiler, result=result)\n"
     ]
    }
   ],
   "source": [
    "compute_anew = False\n",
    "data = 'data/tsv/'\n",
    "note_list = read_note_list(os.path.join(data,'note_list_complete.tsv'), index_col=[0,1,2])\n",
    "measure_list = read_measure_list(os.path.join(data,'measure_list_complete.tsv'), index_col=[0,1])\n",
    "\n",
    "if compute_anew:\n",
    "    compute_beat_column(note_list, measure_list, inplace=True)\n",
    "    transposed = transpose_to_C(note_list, measure_list)\n",
    "    transposed['note_names'] = tpc2name(transposed.tpc)\n",
    "    transposed['octaves'] = midi2octave(transposed.midi)\n",
    "    transposed[['beat', 'subbeat']] = split_beats(transposed.beats)\n",
    "    transposed.to_csv(os.path.join(data,'transposed_schubert.tsv'), sep='\\t')\n",
    "    bass = apply_to_pieces(bass_per_beat, transposed[transposed.staff==2], resolution=1/8)\n",
    "    bass = apply_to_pieces(add_chord_boundaries, bass, measure_list, next_ids='segment_id', multiple_pieces=True)\n",
    "    bass.to_csv(os.path.join(data,'schubert_bass.tsv'), sep='\\t')\n",
    "    schubert_segments =  apply_to_pieces(all_chord_notes, bass, transposed, by='segment_id', multiple_pieces=True)\n",
    "    schubert_segments.to_csv(os.path.join(data,'schubert_segmented.tsv'), sep='\\t')\n",
    "    segment_features = schubert_segments.groupby(level=['id','segment_id']).apply(summarize_ints)\n",
    "    segment_features = pd.DataFrame(segment_features).unstack().droplevel(0, axis=1)\n",
    "    segment_features.to_csv(os.path.join(data,'schubert_segment_features.tsv'), sep='\\t')\n",
    "else:\n",
    "    transposed = read_note_list(os.path.join(data,'transposed_schubert.tsv'), index_col=[0,1,2], converters={'beatsize': frac, 'subbeat': frac})\n",
    "    bass = read_note_list(os.path.join(data,'schubert_bass.tsv'), index_col=[0,1,2,3], dtypes={'next_id': 'Int64'}, converters={'beatsize': frac, 'subbeat': frac, 'onset_next': frac, })\n",
    "    schubert_segments = read_note_list(os.path.join(data,'schubert_segmented.tsv'), index_col=[0,1,2,3])\n",
    "    segment_features = pd.read_csv(os.path.join(data,'schubert_segment_features.tsv'), sep='\\t', index_col=[0,1],\n",
    "                             converters={'intervals': lambda t: tuple(i.strip(\"\\',\") for i in t.strip(\"() \").split(\", \") if i != '')})"
   ]
  },
  {
   "cell_type": "markdown",
   "metadata": {},
   "source": [
    "## Onset patterns"
   ]
  },
  {
   "cell_type": "code",
   "execution_count": 3,
   "metadata": {},
   "outputs": [],
   "source": [
    "df = transposed\n",
    "df = df[(df.volta != 1) & (df.mn != 0)]\n",
    "right = df[df.staff == 1]\n",
    "left = df[df.staff == 2]\n",
    "n_measures_per_piece = df.groupby(['id']).mn.nunique()\n",
    "\n",
    "\n",
    "onset_patterns = df.groupby(['id', 'mn']).apply(os_pattern, )\n",
    "pattern_list = get_pattern_list(onset_patterns, occurring_in_min=3)\n",
    "onset_patterns_left = left.groupby(['id', 'mn']).apply(os_pattern)\n",
    "pattern_list_left = get_pattern_list(onset_patterns_left, occurring_in_min=3)\n",
    "onset_patterns_right = right.groupby(['id', 'mn']).apply(os_pattern)\n",
    "pattern_list_right = get_pattern_list(onset_patterns_right, occurring_in_min=3)"
   ]
  },
  {
   "cell_type": "code",
   "execution_count": 4,
   "metadata": {},
   "outputs": [
    {
     "data": {
      "text/plain": [
       "id\n",
       "1      16\n",
       "2      22\n",
       "3      16\n",
       "4      20\n",
       "5      16\n",
       "       ..\n",
       "431    25\n",
       "432    16\n",
       "433    24\n",
       "434    16\n",
       "435    16\n",
       "Name: mn, Length: 435, dtype: int64"
      ]
     },
     "execution_count": 4,
     "metadata": {},
     "output_type": "execute_result"
    }
   ],
   "source": [
    "n_measures_per_piece"
   ]
  },
  {
   "cell_type": "code",
   "execution_count": 5,
   "metadata": {},
   "outputs": [],
   "source": [
    "create_os_features(onset_patterns[onset_patterns.isin(pattern_list.index)], n_measures_per_piece)\\\n",
    "    .to_csv(os.path.join(data, 'os_patterns.tsv', sep='\\t'))\n",
    "create_os_features(onset_patterns_left[onset_patterns_left.isin(pattern_list_left.index)], n_measures_per_piece)\\\n",
    "    .to_csv(os.path.join(data, 'os_patterns_left.tsv'))\n",
    "create_os_features(onset_patterns_right[onset_patterns_right.isin(pattern_list_right.index)], n_measures_per_piece)\\\n",
    "    .to_csv(os.path.join(data, 'os_patterns_right.tsv'))"
   ]
  },
  {
   "cell_type": "code",
   "execution_count": null,
   "metadata": {},
   "outputs": [],
   "source": [
    "segment_features = apply_to_pieces(add_previous_ix, segment_features)\n",
    "segment_features = add_previous_vals(segment_features)\n",
    "segment_features.intervals.value_counts().iloc[:50]\n",
    "segment_features.loc[segment_features.intervals == ('P1', 'm3')].dropna(axis=1)\n",
    "segment_features['label'] = np.nan\n",
    "\n",
    "type2label = {\n",
    "('M3', 'P5'):       lambda r: name2rn(r.bass),\n",
    "('M2', 'M3', 'P5'):       lambda r: name2rn(r.bass), ###\n",
    "('M6', 'P4'):       lambda r: f\"V(64)/{tpc2rn(name2tpc(r.bass) - 1)}\" if r.bass != 'G' else 'V(64)',\n",
    "('P5', 'm3'):       lambda r: name2rn(r.bass).lower(),\n",
    "('M3', 'P5', 'm7'): lambda r: f\"V7/{tpc2rn(name2tpc(r.bass) - 1)}\" if r.bass != 'G' else 'V7',\n",
    "('M2', 'M3', 'P5', 'm7'): lambda r: f\"V7/{tpc2rn(name2tpc(r.bass) - 1)}\" if r.bass != 'G' else 'V7', ###\n",
    "('M3', 'M6', 'P5', 'm7'): lambda r: f\"V7/{tpc2rn(name2tpc(r.bass) - 1)}\" if r.bass != 'G' else 'V7', ###\n",
    "('M3', 'm7'):       lambda r: f\"V7/{tpc2rn(name2tpc(r.bass) - 1)}\" if r.bass != 'G' else 'V7',\n",
    "('M2', 'M3', 'm7'):       lambda r: f\"V7/{tpc2rn(name2tpc(r.bass) - 1)}\" if r.bass != 'G' else 'V7',\n",
    "('m3', 'm6'):       lambda r: f\"{tpc2rn(name2tpc(r.bass)-4)}6\",\n",
    "('P4', 'm6'):       lambda r: f\"V(64)/{tpc2rn(name2tpc(r.bass) - 1).lower()}\" if r.bass != 'G' else 'V(64)',\n",
    "#('m6'): lambda r: f\"{tpc2rn(name2tpc(r.bass)-4)}6\",\n",
    "('M3', 'M6'):       lambda r: f\"{tpc2rn(name2tpc(r.bass)-4).lower()}6\",\n",
    "#('M6'): lambda r: f\"{tpc2rn(name2tpc(r.bass)-4).lower()}6\",\n",
    "('D5', 'm3', 'm6'): lambda r: f\"V65/{tpc2rn(name2tpc(r.bass) - 4)}\" if r.bass != 'B' else 'V65',\n",
    "('D5', 'm6'):       lambda r: f\"V65/{tpc2rn(name2tpc(r.bass) - 4)}\" if r.bass != 'B' else 'V65',\n",
    "('M6', 'P4', 'm3'): lambda r: f\"V43/{tpc2rn(name2tpc(r.bass) - 2)}\" if r.bass != 'D' else 'V43',\n",
    "('P4', 'm3'):       lambda r: f\"V43/{tpc2rn(name2tpc(r.bass) - 2)}\" if r.bass != 'D' else 'V43',\n",
    "('A4', 'M2', 'M6'): lambda r: f\"V2/{tpc2rn(name2tpc(r.bass) + 1)}\" if r.bass != 'F' else 'V2',\n",
    "('A4', 'M2'):       lambda r: f\"V2/{tpc2rn(name2tpc(r.bass) + 1)}\" if r.bass != 'F' else 'V2',\n",
    "('M3', 'M6', 'P5'): lambda r: f\"ii65/{tpc2rn(name2tpc(r.bass) + 1)}\" if r.bass != 'F' else 'ii65',\n",
    "('M2', 'M7', 'P4', 'P5'): lambda r: f\"{tpc2rn(r.bass)}(742)\",\n",
    "('D5', 'D7', 'm3'): lambda r: f\"viio7/{tpc2rn(name2tpc(r.bass) - 5)}\" if r.bass != 'B' else 'viio7',\n",
    "('M6', 'm3'):       lambda r: f\"viio6/{tpc2rn(name2tpc(r.bass) - 2)}\" if r.bass != 'D' else 'viio6',\n",
    "}\n",
    "\n",
    "def hard_labeling(segment_features):\n",
    "    for ints, f in type2label.items():\n",
    "        segment_features.loc[segment_features.intervals == ints, 'label'] = segment_features[segment_features.intervals == ints].apply(f, axis=1)\n",
    "hard_labeling(segment_features)\n",
    "schubert_segments.loc[1].iloc[:50]\n",
    "status = schubert_segments.join(segment_features[['bass', 'intervals', 'label', 'prev_ints', 'chord_length', 'offbeat']], on=['id', 'segment_id'])\n",
    "status[status.intervals == ('M2', 'M6', 'P4')].prev_ints.value_counts().iloc[:50]\n",
    "status[status.intervals == ('M3',)].chord_length.value_counts().iloc[:50]\n",
    "status[(status.intervals == ('M3',)) & status.offbeat].prev_ints.value_counts().iloc[:50]\n",
    "\n",
    "underspecified = {\n",
    "tuple(): None,\n",
    "('M3',): None,\n",
    "('P5',): None,\n",
    "('m3',): None,\n",
    "('P5', 'm7'): None,\n",
    "('m7',): None,\n",
    "('P4',): None,\n",
    "('M2',): None,\n",
    "('M6', 'P4', 'P5'): None,\n",
    "('M7',): None,\n",
    "('D5', 'm6'): None,\n",
    "}\n",
    "\n",
    "\n",
    "\n"
   ]
  }
 ],
 "metadata": {
  "kernelspec": {
   "display_name": "Python 3",
   "language": "python",
   "name": "python3"
  },
  "language_info": {
   "codemirror_mode": {
    "name": "ipython",
    "version": 3
   },
   "file_extension": ".py",
   "mimetype": "text/x-python",
   "name": "python",
   "nbconvert_exporter": "python",
   "pygments_lexer": "ipython3",
   "version": "3.7.3"
  },
  "toc": {
   "base_numbering": 1,
   "nav_menu": {},
   "number_sections": true,
   "sideBar": true,
   "skip_h1_title": false,
   "title_cell": "Table of Contents",
   "title_sidebar": "Contents",
   "toc_cell": false,
   "toc_position": {},
   "toc_section_display": true,
   "toc_window_display": false
  }
 },
 "nbformat": 4,
 "nbformat_minor": 2
}
