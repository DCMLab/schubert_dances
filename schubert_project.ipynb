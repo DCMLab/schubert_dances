{
 "cells": [
  {
   "cell_type": "markdown",
   "metadata": {},
   "source": [
    "# Prerequisites\n",
    "This is a tested setup using a new conda environment. If you're fine with running **Jupyter Notebook**, these commands will do (where `schubert` is the arbitrary name of the new environment):\n",
    "\n",
    "    conda create -n schubert python=3.7 nb_conda_kernels jupyter\n",
    "    conda activate schubert\n",
    "    conda install -c plotly plotly-orca psutil requests\n",
    "    python -m pip install cufflinks Beautifulsoup4 lxml\n",
    "\n",
    "If, in addition, you want to use **Jupyter Lab**, you will need to follow these instructions taken from https://plot.ly/python/getting-started/#jupyterlab-support-python-35:\n",
    "\n",
    "Install via `pip`:\n",
    "\n",
    "    python -m pip install jupyterlab==1.2 ipywidgets>=7.5\n",
    "    \n",
    "or `conda:`\n",
    "\n",
    "    conda install -c conda-forge jupyterlab=1.2\n",
    "    conda install \"ipywidgets=7.5\"\n",
    "    \n",
    "Set system variable to avoid \"JavaScript heap out of memory\" errors during extension installation:\n",
    "\n",
    "    # (OS X/Linux)\n",
    "    export NODE_OPTIONS=--max-old-space-size=4096\n",
    "    # (Windows)\n",
    "    set NODE_OPTIONS=--max-old-space-size=4096\n",
    "\n",
    "Then, run the following commands:\n",
    "\n",
    "    jupyter labextension install @jupyter-widgets/jupyterlab-manager@1.1 --no-build\n",
    "    jupyter labextension install jupyterlab-plotly@1.3.0 --no-build\n",
    "    jupyter labextension install plotlywidget@1.3.0 --no-build\n",
    "    jupyter lab build\n",
    "\n",
    "Then you can unset the system variable again:\n",
    "\n",
    "    # (OS X/Linux)\n",
    "    unset NODE_OPTIONS\n",
    "    # (Windows)\n",
    "    set NODE_OPTIONS="
   ]
  },
  {
   "cell_type": "code",
   "execution_count": 1,
   "metadata": {},
   "outputs": [
    {
     "data": {
      "text/html": [
       "        <script type=\"text/javascript\">\n",
       "        window.PlotlyConfig = {MathJaxConfig: 'local'};\n",
       "        if (window.MathJax) {MathJax.Hub.Config({SVG: {font: \"STIX-Web\"}});}\n",
       "        if (typeof require !== 'undefined') {\n",
       "        require.undef(\"plotly\");\n",
       "        requirejs.config({\n",
       "            paths: {\n",
       "                'plotly': ['https://cdn.plot.ly/plotly-latest.min']\n",
       "            }\n",
       "        });\n",
       "        require(['plotly'], function(Plotly) {\n",
       "            window._Plotly = Plotly;\n",
       "        });\n",
       "        }\n",
       "        </script>\n",
       "        "
      ]
     },
     "metadata": {},
     "output_type": "display_data"
    }
   ],
   "source": [
    "%load_ext autoreload\n",
    "%autoreload 2\n",
    "from tools.ms3 import *\n",
    "import scipy as sp\n",
    "from plotly.offline import iplot\n",
    "import cufflinks as cf # for creating plots from pandas on the fly\n",
    "import plotly.io as IO\n",
    "cf.go_offline()\n",
    "cf.set_config_file(theme='ggplot') #{'solar', 'pearl', 'white', 'ggplot'}"
   ]
  },
  {
   "cell_type": "markdown",
   "metadata": {},
   "source": [
    "# Configuration "
   ]
  },
  {
   "cell_type": "code",
   "execution_count": 2,
   "metadata": {
    "scrolled": true
   },
   "outputs": [],
   "source": [
    "compute_all = False                              # Sets all 'compute_anew' flags to True\n",
    "logging.getLogger().setLevel(logging.WARNING)    # logging level\n",
    "data ='data'                                     # data folders\n",
    "data_ms3 = os.path.join(data,'MuseScore_3')\n",
    "data_tsv = os.path.join(data,'tsv')\n",
    "note_features = None                             # TODO: Pass selected features as kwargs to get_notes()\n",
    "#plt.rcParams['figure.figsize'] = [15,10]         # Change the plotsize for the entire notebook"
   ]
  },
  {
   "cell_type": "markdown",
   "metadata": {},
   "source": [
    "# Loading the data\n",
    "The dataframe `merged_ids` maps the 435 IDs to the files in the `data_ms3` folder. The different types of trios (trio I, trio II, alternative trio) are all replaced by the term 'trio'."
   ]
  },
  {
   "cell_type": "code",
   "execution_count": 3,
   "metadata": {},
   "outputs": [
    {
     "data": {
      "text/html": [
       "<div>\n",
       "<style scoped>\n",
       "    .dataframe tbody tr th:only-of-type {\n",
       "        vertical-align: middle;\n",
       "    }\n",
       "\n",
       "    .dataframe tbody tr th {\n",
       "        vertical-align: top;\n",
       "    }\n",
       "\n",
       "    .dataframe thead th {\n",
       "        text-align: right;\n",
       "    }\n",
       "</style>\n",
       "<table border=\"1\" class=\"dataframe\">\n",
       "  <thead>\n",
       "    <tr style=\"text-align: right;\">\n",
       "      <th></th>\n",
       "      <th>D</th>\n",
       "      <th>no</th>\n",
       "      <th>dance</th>\n",
       "      <th>path</th>\n",
       "    </tr>\n",
       "    <tr>\n",
       "      <th>id</th>\n",
       "      <th></th>\n",
       "      <th></th>\n",
       "      <th></th>\n",
       "      <th></th>\n",
       "    </tr>\n",
       "  </thead>\n",
       "  <tbody>\n",
       "    <tr>\n",
       "      <td>1</td>\n",
       "      <td>41</td>\n",
       "      <td>1</td>\n",
       "      <td>menuett</td>\n",
       "      <td>041/D041menuett01a.mscx</td>\n",
       "    </tr>\n",
       "    <tr>\n",
       "      <td>2</td>\n",
       "      <td>41</td>\n",
       "      <td>1</td>\n",
       "      <td>trio</td>\n",
       "      <td>041/D041trio01b.mscx</td>\n",
       "    </tr>\n",
       "    <tr>\n",
       "      <td>3</td>\n",
       "      <td>41</td>\n",
       "      <td>2</td>\n",
       "      <td>menuett</td>\n",
       "      <td>041/D041menuett02a.mscx</td>\n",
       "    </tr>\n",
       "    <tr>\n",
       "      <td>4</td>\n",
       "      <td>41</td>\n",
       "      <td>2</td>\n",
       "      <td>trio</td>\n",
       "      <td>041/D041trio02b.mscx</td>\n",
       "    </tr>\n",
       "    <tr>\n",
       "      <td>5</td>\n",
       "      <td>41</td>\n",
       "      <td>3</td>\n",
       "      <td>menuett</td>\n",
       "      <td>041/D041menuett03a.mscx</td>\n",
       "    </tr>\n",
       "  </tbody>\n",
       "</table>\n",
       "</div>"
      ],
      "text/plain": [
       "     D  no    dance                     path\n",
       "id                                          \n",
       "1   41   1  menuett  041/D041menuett01a.mscx\n",
       "2   41   1     trio     041/D041trio01b.mscx\n",
       "3   41   2  menuett  041/D041menuett02a.mscx\n",
       "4   41   2     trio     041/D041trio02b.mscx\n",
       "5   41   3  menuett  041/D041menuett03a.mscx"
      ]
     },
     "execution_count": 3,
     "metadata": {},
     "output_type": "execute_result"
    }
   ],
   "source": [
    "merged_ids = os.path.join(data_ms3, 'merged_ids.tsv')\n",
    "files = pd.read_csv(merged_ids, sep='\\t', index_col=0)\n",
    "files.loc[files.dance.str.contains('trio'), 'dance'] = 'trio'\n",
    "files.head()"
   ]
  },
  {
   "cell_type": "markdown",
   "metadata": {},
   "source": [
    "#### Accessibility\n",
    "We check whether all files are accessible."
   ]
  },
  {
   "cell_type": "code",
   "execution_count": 4,
   "metadata": {},
   "outputs": [
    {
     "name": "stdout",
     "output_type": "stream",
     "text": [
      "All files found.\n"
     ]
    }
   ],
   "source": [
    "missing = [file for file in files.path.values if not os.path.isfile(os.path.join(data_ms3, file))]\n",
    "if missing != []:\n",
    "    print(\"These files are missing:\\n\" + '\\n'.join(missing))\n",
    "else:\n",
    "    print(\"All files found.\")"
   ]
  },
  {
   "cell_type": "markdown",
   "metadata": {},
   "source": [
    "## Computing or loading the DataFrame representation of the music\n",
    "We will be working on the data set in the form of note_lists. These can be newly computed from the scores or loaded from the precomputed TSV."
   ]
  },
  {
   "cell_type": "code",
   "execution_count": 5,
   "metadata": {},
   "outputs": [
    {
     "data": {
      "text/html": [
       "<div>\n",
       "<style scoped>\n",
       "    .dataframe tbody tr th:only-of-type {\n",
       "        vertical-align: middle;\n",
       "    }\n",
       "\n",
       "    .dataframe tbody tr th {\n",
       "        vertical-align: top;\n",
       "    }\n",
       "\n",
       "    .dataframe thead th {\n",
       "        text-align: right;\n",
       "    }\n",
       "</style>\n",
       "<table border=\"1\" class=\"dataframe\">\n",
       "  <thead>\n",
       "    <tr style=\"text-align: right;\">\n",
       "      <th></th>\n",
       "      <th></th>\n",
       "      <th></th>\n",
       "      <th>mc</th>\n",
       "      <th>mn</th>\n",
       "      <th>onset</th>\n",
       "      <th>duration</th>\n",
       "      <th>gracenote</th>\n",
       "      <th>nominal_duration</th>\n",
       "      <th>scalar</th>\n",
       "      <th>tied</th>\n",
       "      <th>tpc</th>\n",
       "      <th>midi</th>\n",
       "      <th>staff</th>\n",
       "      <th>voice</th>\n",
       "      <th>volta</th>\n",
       "    </tr>\n",
       "    <tr>\n",
       "      <th>id</th>\n",
       "      <th>section</th>\n",
       "      <th>ix</th>\n",
       "      <th></th>\n",
       "      <th></th>\n",
       "      <th></th>\n",
       "      <th></th>\n",
       "      <th></th>\n",
       "      <th></th>\n",
       "      <th></th>\n",
       "      <th></th>\n",
       "      <th></th>\n",
       "      <th></th>\n",
       "      <th></th>\n",
       "      <th></th>\n",
       "      <th></th>\n",
       "    </tr>\n",
       "  </thead>\n",
       "  <tbody>\n",
       "    <tr>\n",
       "      <td rowspan=\"5\" valign=\"top\">1</td>\n",
       "      <td rowspan=\"5\" valign=\"top\">0</td>\n",
       "      <td>0</td>\n",
       "      <td>0</td>\n",
       "      <td>0</td>\n",
       "      <td>0</td>\n",
       "      <td>3/16</td>\n",
       "      <td>NaN</td>\n",
       "      <td>1/8</td>\n",
       "      <td>3/2</td>\n",
       "      <td>NaN</td>\n",
       "      <td>3</td>\n",
       "      <td>57</td>\n",
       "      <td>1</td>\n",
       "      <td>1</td>\n",
       "      <td>NaN</td>\n",
       "    </tr>\n",
       "    <tr>\n",
       "      <td>1</td>\n",
       "      <td>0</td>\n",
       "      <td>0</td>\n",
       "      <td>0</td>\n",
       "      <td>3/16</td>\n",
       "      <td>NaN</td>\n",
       "      <td>1/8</td>\n",
       "      <td>3/2</td>\n",
       "      <td>NaN</td>\n",
       "      <td>-1</td>\n",
       "      <td>65</td>\n",
       "      <td>1</td>\n",
       "      <td>1</td>\n",
       "      <td>NaN</td>\n",
       "    </tr>\n",
       "    <tr>\n",
       "      <td>2</td>\n",
       "      <td>0</td>\n",
       "      <td>0</td>\n",
       "      <td>3/16</td>\n",
       "      <td>1/16</td>\n",
       "      <td>NaN</td>\n",
       "      <td>1/16</td>\n",
       "      <td>1</td>\n",
       "      <td>NaN</td>\n",
       "      <td>3</td>\n",
       "      <td>57</td>\n",
       "      <td>1</td>\n",
       "      <td>1</td>\n",
       "      <td>NaN</td>\n",
       "    </tr>\n",
       "    <tr>\n",
       "      <td>3</td>\n",
       "      <td>0</td>\n",
       "      <td>0</td>\n",
       "      <td>3/16</td>\n",
       "      <td>1/16</td>\n",
       "      <td>NaN</td>\n",
       "      <td>1/16</td>\n",
       "      <td>1</td>\n",
       "      <td>NaN</td>\n",
       "      <td>-1</td>\n",
       "      <td>65</td>\n",
       "      <td>1</td>\n",
       "      <td>1</td>\n",
       "      <td>NaN</td>\n",
       "    </tr>\n",
       "    <tr>\n",
       "      <td>4</td>\n",
       "      <td>1</td>\n",
       "      <td>1</td>\n",
       "      <td>0</td>\n",
       "      <td>1/4</td>\n",
       "      <td>NaN</td>\n",
       "      <td>1/4</td>\n",
       "      <td>1</td>\n",
       "      <td>NaN</td>\n",
       "      <td>-1</td>\n",
       "      <td>41</td>\n",
       "      <td>2</td>\n",
       "      <td>1</td>\n",
       "      <td>NaN</td>\n",
       "    </tr>\n",
       "  </tbody>\n",
       "</table>\n",
       "</div>"
      ],
      "text/plain": [
       "               mc  mn onset duration gracenote nominal_duration scalar  tied  \\\n",
       "id section ix                                                                  \n",
       "1  0       0    0   0     0     3/16       NaN              1/8    3/2   NaN   \n",
       "           1    0   0     0     3/16       NaN              1/8    3/2   NaN   \n",
       "           2    0   0  3/16     1/16       NaN             1/16      1   NaN   \n",
       "           3    0   0  3/16     1/16       NaN             1/16      1   NaN   \n",
       "           4    1   1     0      1/4       NaN              1/4      1   NaN   \n",
       "\n",
       "               tpc  midi  staff  voice  volta  \n",
       "id section ix                                  \n",
       "1  0       0     3    57      1      1    NaN  \n",
       "           1    -1    65      1      1    NaN  \n",
       "           2     3    57      1      1    NaN  \n",
       "           3    -1    65      1      1    NaN  \n",
       "           4    -1    41      2      1    NaN  "
      ]
     },
     "execution_count": 5,
     "metadata": {},
     "output_type": "execute_result"
    }
   ],
   "source": [
    "compute_anew = False\n",
    "\n",
    "if compute_anew:\n",
    "    \n",
    "    def get_note_list(df):\n",
    "        S = Score(os.path.join(data_ms3,df.iloc[0].path))\n",
    "        return S.get_notes()\n",
    "    \n",
    "    note_list = files.groupby('id').apply(get_note_list)\n",
    "    note_list.to_csv(os.path.join(data_tsv, 'note_list_complete.tsv'), sep='\\t')\n",
    "else:\n",
    "    note_list = pd.read_csv(os.path.join(data_tsv, 'note_list_complete.tsv'), sep='\\t', index_col=[0,1,2], dtype={'tied': 'Int64', 'volta': 'Int64'}, converters={'onset':frac, 'duration':frac, 'nominal_duration':frac, 'scalar':frac})\n",
    "note_list.head()"
   ]
  },
  {
   "cell_type": "markdown",
   "metadata": {},
   "source": [
    "# Basic statistics"
   ]
  },
  {
   "cell_type": "markdown",
   "metadata": {},
   "source": [
    "### Pieces per dance type"
   ]
  },
  {
   "cell_type": "code",
   "execution_count": 6,
   "metadata": {},
   "outputs": [
    {
     "name": "stdout",
     "output_type": "stream",
     "text": [
      "The corpus contains 435 pieces. The different types are distributed as follows:\n",
      "walzer       132\n",
      "ländler       78\n",
      "ecossaise     74\n",
      "deutscher     71\n",
      "trio          48\n",
      "menuett       29\n",
      "galopp         2\n",
      "cotillon       1\n",
      "Name: dance, dtype: int64\n"
     ]
    },
    {
     "data": {
      "application/vnd.plotly.v1+json": {
       "config": {
        "linkText": "Export to plot.ly",
        "plotlyServerURL": "https://plot.ly",
        "responsive": true,
        "showLink": true
       },
       "data": [
        {
         "marker": {
          "color": "rgba(226, 74, 51, 0.6)",
          "line": {
           "color": "rgba(226, 74, 51, 1.0)",
           "width": 1
          }
         },
         "name": "dance",
         "orientation": "v",
         "text": "",
         "type": "bar",
         "uid": "4e173bba-b37f-4237-9a04-1f7bdeb35464",
         "x": [
          "walzer",
          "ländler",
          "ecossaise",
          "deutscher",
          "trio",
          "menuett",
          "galopp",
          "cotillon"
         ],
         "y": [
          132,
          78,
          74,
          71,
          48,
          29,
          2,
          1
         ]
        }
       ],
       "layout": {
        "autosize": true,
        "legend": {
         "bgcolor": "#FFFFFF",
         "font": {
          "color": "#666666"
         }
        },
        "paper_bgcolor": "#FFFFFF",
        "plot_bgcolor": "#E5E5E5",
        "title": {
         "font": {
          "color": "#151516"
         }
        },
        "xaxis": {
         "autorange": true,
         "gridcolor": "#F6F6F6",
         "range": [
          -0.5,
          7.5
         ],
         "showgrid": true,
         "tickfont": {
          "color": "#666666"
         },
         "title": {
          "font": {
           "color": "#666666"
          },
          "text": ""
         },
         "type": "category",
         "zerolinecolor": "#F6F6F6"
        },
        "yaxis": {
         "autorange": true,
         "gridcolor": "#F6F6F6",
         "range": [
          0,
          138.94736842105263
         ],
         "showgrid": true,
         "tickfont": {
          "color": "#666666"
         },
         "title": {
          "font": {
           "color": "#666666"
          },
          "text": ""
         },
         "type": "linear",
         "zerolinecolor": "#F6F6F6"
        }
       }
      },
      "image/png": "[encoded data removed]",
      "text/html": [
       "<div>\n",
       "        \n",
       "        \n",
       "            <div id=\"7fc421ad-90b7-413f-aed8-feb74c565a88\" class=\"plotly-graph-div\" style=\"height:525px; width:100%;\"></div>\n",
       "            <script type=\"text/javascript\">\n",
       "                require([\"plotly\"], function(Plotly) {\n",
       "                    window.PLOTLYENV=window.PLOTLYENV || {};\n",
       "                    window.PLOTLYENV.BASE_URL='https://plot.ly';\n",
       "                    \n",
       "                if (document.getElementById(\"7fc421ad-90b7-413f-aed8-feb74c565a88\")) {\n",
       "                    Plotly.newPlot(\n",
       "                        '7fc421ad-90b7-413f-aed8-feb74c565a88',\n",
       "                        [{\"marker\": {\"color\": \"rgba(226, 74, 51, 0.6)\", \"line\": {\"color\": \"rgba(226, 74, 51, 1.0)\", \"width\": 1}}, \"name\": \"dance\", \"orientation\": \"v\", \"text\": \"\", \"type\": \"bar\", \"uid\": \"25d003e3-f445-4f78-8270-7cf7d3f663fa\", \"x\": [\"walzer\", \"l\\u00e4ndler\", \"ecossaise\", \"deutscher\", \"trio\", \"menuett\", \"galopp\", \"cotillon\"], \"y\": [132, 78, 74, 71, 48, 29, 2, 1]}],\n",
       "                        {\"legend\": {\"bgcolor\": \"#FFFFFF\", \"font\": {\"color\": \"#666666\"}}, \"paper_bgcolor\": \"#FFFFFF\", \"plot_bgcolor\": \"#E5E5E5\", \"title\": {\"font\": {\"color\": \"#151516\"}}, \"xaxis\": {\"gridcolor\": \"#F6F6F6\", \"showgrid\": true, \"tickfont\": {\"color\": \"#666666\"}, \"title\": {\"font\": {\"color\": \"#666666\"}, \"text\": \"\"}, \"zerolinecolor\": \"#F6F6F6\"}, \"yaxis\": {\"gridcolor\": \"#F6F6F6\", \"showgrid\": true, \"tickfont\": {\"color\": \"#666666\"}, \"title\": {\"font\": {\"color\": \"#666666\"}, \"text\": \"\"}, \"zerolinecolor\": \"#F6F6F6\"}},\n",
       "                        {\"showLink\": true, \"linkText\": \"Export to plot.ly\", \"plotlyServerURL\": \"https://plot.ly\", \"responsive\": true}\n",
       "                    ).then(function(){\n",
       "                            \n",
       "var gd = document.getElementById('7fc421ad-90b7-413f-aed8-feb74c565a88');\n",
       "var x = new MutationObserver(function (mutations, observer) {{\n",
       "        var display = window.getComputedStyle(gd).display;\n",
       "        if (!display || display === 'none') {{\n",
       "            console.log([gd, 'removed!']);\n",
       "            Plotly.purge(gd);\n",
       "            observer.disconnect();\n",
       "        }}\n",
       "}});\n",
       "\n",
       "// Listen for the removal of the full notebook cells\n",
       "var notebookContainer = gd.closest('#notebook-container');\n",
       "if (notebookContainer) {{\n",
       "    x.observe(notebookContainer, {childList: true});\n",
       "}}\n",
       "\n",
       "// Listen for the clearing of the current output cell\n",
       "var outputEl = gd.closest('.output');\n",
       "if (outputEl) {{\n",
       "    x.observe(outputEl, {childList: true});\n",
       "}}\n",
       "\n",
       "                        })\n",
       "                };\n",
       "                });\n",
       "            </script>\n",
       "        </div>"
      ]
     },
     "metadata": {},
     "output_type": "display_data"
    }
   ],
   "source": [
    "dance_types = files.dance.value_counts()\n",
    "print(f\"The corpus contains {len(files.index)} pieces. The different types are distributed as follows:{NL}{dance_types}\")\n",
    "dance_types.iplot('bar')"
   ]
  },
  {
   "cell_type": "markdown",
   "metadata": {},
   "source": [
    "### Number and distribution of notes"
   ]
  },
  {
   "cell_type": "code",
   "execution_count": 7,
   "metadata": {},
   "outputs": [
    {
     "data": {
      "text/plain": [
       "'The data set has 101810 note events in total, and 101231 notes omitting grace notes.'"
      ]
     },
     "execution_count": 7,
     "metadata": {},
     "output_type": "execute_result"
    }
   ],
   "source": [
    "f\"The data set has {len(note_list.index)} note events in total, and {len(note_list.index[note_list.gracenote.isna()])} notes omitting grace notes.\""
   ]
  },
  {
   "cell_type": "code",
   "execution_count": 8,
   "metadata": {},
   "outputs": [],
   "source": [
    "def bag_of_notes(df):\n",
    "    \"\"\"Input: DataFrame including the columns ['tpc', 'duration']\"\"\"\n",
    "    tpcs = df.tpc\n",
    "    occurring = np.sort(tpcs.unique())\n",
    "    note_names = spell_tpc(occurring)\n",
    "    bag = pd.DataFrame(index=occurring, columns=['count_a', 'count_n', 'duration_a', 'duration_n'])\n",
    "    GB = df.groupby('tpc')\n",
    "    bag.count_a = GB.size()\n",
    "    bag.count_n = bag.count_a / bag.count_a.sum()\n",
    "    bag.duration_a = GB['duration'].sum().astype(float)\n",
    "    bag.duration_n = (bag.duration_a / bag.duration_a.sum()).astype(float)\n",
    "    bag.index = note_names\n",
    "    return bag\n",
    "\n",
    "tpc_distribution = bag_of_notes(note_list)"
   ]
  },
  {
   "cell_type": "code",
   "execution_count": 9,
   "metadata": {},
   "outputs": [
    {
     "data": {
      "application/vnd.plotly.v1+json": {
       "config": {
        "linkText": "Export to plot.ly",
        "plotlyServerURL": "https://plot.ly",
        "responsive": true,
        "showLink": true
       },
       "data": [
        {
         "marker": {
          "color": "rgba(226, 74, 51, 0.6)",
          "line": {
           "color": "rgba(226, 74, 51, 1.0)",
           "width": 1
          }
         },
         "name": "count_a",
         "orientation": "v",
         "text": "",
         "type": "bar",
         "uid": "95afc8f3-2323-435b-8d4e-c39ddcb37bcc",
         "x": [
          "Ebb",
          "Bbb",
          "Fb",
          "Cb",
          "Gb",
          "Db",
          "Ab",
          "Eb",
          "Bb",
          "F",
          "C",
          "G",
          "D",
          "A",
          "E",
          "B",
          "F#",
          "C#",
          "G#",
          "D#",
          "A#",
          "E#",
          "B#",
          "F##",
          "C##",
          "G##"
         ],
         "y": [
          2,
          28,
          100,
          219,
          798,
          2495,
          3900,
          5106,
          5173,
          7205,
          8897,
          9152,
          10954,
          10969,
          10325,
          8585,
          6593,
          4734,
          3237,
          1839,
          798,
          365,
          207,
          111,
          16,
          2
         ]
        },
        {
         "marker": {
          "color": "rgba(62, 111, 176, 0.6)",
          "line": {
           "color": "rgba(62, 111, 176, 1.0)",
           "width": 1
          }
         },
         "name": "duration_a",
         "orientation": "v",
         "text": "",
         "type": "bar",
         "uid": "bb2b4432-32f6-4365-b883-71aca79bc073",
         "x": [
          "Ebb",
          "Bbb",
          "Fb",
          "Cb",
          "Gb",
          "Db",
          "Ab",
          "Eb",
          "Bb",
          "F",
          "C",
          "G",
          "D",
          "A",
          "E",
          "B",
          "F#",
          "C#",
          "G#",
          "D#",
          "A#",
          "E#",
          "B#",
          "F##",
          "C##",
          "G##"
         ],
         "y": [
          0.5,
          5.6875,
          25,
          56.03125,
          191.36458333333334,
          585.0625,
          971.4895833333334,
          1206.5104166666667,
          1225.6666666666667,
          1651.3125,
          2051.9270833333335,
          2059.4875,
          2438.6229166666667,
          2492.8104166666667,
          2314.289583333333,
          1935.1041666666667,
          1473.05,
          1039,
          721.8958333333334,
          402.5833333333333,
          184.10416666666666,
          79.47916666666667,
          45.1875,
          24.833333333333332,
          4.75,
          0.25
         ]
        }
       ],
       "layout": {
        "autosize": true,
        "legend": {
         "bgcolor": "#FFFFFF",
         "font": {
          "color": "#666666"
         }
        },
        "paper_bgcolor": "#FFFFFF",
        "plot_bgcolor": "#E5E5E5",
        "title": {
         "font": {
          "color": "#151516"
         }
        },
        "xaxis": {
         "autorange": true,
         "gridcolor": "#F6F6F6",
         "range": [
          -0.5,
          25.5
         ],
         "showgrid": true,
         "tickfont": {
          "color": "#666666"
         },
         "title": {
          "font": {
           "color": "#666666"
          },
          "text": "Tonal Pitch Class"
         },
         "type": "category",
         "zerolinecolor": "#F6F6F6"
        },
        "yaxis": {
         "autorange": true,
         "gridcolor": "#F6F6F6",
         "range": [
          0,
          11546.315789473683
         ],
         "showgrid": true,
         "tickfont": {
          "color": "#666666"
         },
         "title": {
          "font": {
           "color": "#666666"
          },
          "text": "Absolute note counts<br>Durations (in quarter beats)"
         },
         "type": "linear",
         "zerolinecolor": "#F6F6F6"
        }
       }
      },
      "image/png": "[encoded data removed]",
      "text/html": [
       "<div>\n",
       "        \n",
       "        \n",
       "            <div id=\"9337bae6-8ab0-49e1-a62d-1cf523e0f75e\" class=\"plotly-graph-div\" style=\"height:525px; width:100%;\"></div>\n",
       "            <script type=\"text/javascript\">\n",
       "                require([\"plotly\"], function(Plotly) {\n",
       "                    window.PLOTLYENV=window.PLOTLYENV || {};\n",
       "                    window.PLOTLYENV.BASE_URL='https://plot.ly';\n",
       "                    \n",
       "                if (document.getElementById(\"9337bae6-8ab0-49e1-a62d-1cf523e0f75e\")) {\n",
       "                    Plotly.newPlot(\n",
       "                        '9337bae6-8ab0-49e1-a62d-1cf523e0f75e',\n",
       "                        [{\"marker\": {\"color\": \"rgba(226, 74, 51, 0.6)\", \"line\": {\"color\": \"rgba(226, 74, 51, 1.0)\", \"width\": 1}}, \"name\": \"count_a\", \"orientation\": \"v\", \"text\": \"\", \"type\": \"bar\", \"uid\": \"f76940ae-3f84-4a8f-a68c-01dabaf4bb5e\", \"x\": [\"Ebb\", \"Bbb\", \"Fb\", \"Cb\", \"Gb\", \"Db\", \"Ab\", \"Eb\", \"Bb\", \"F\", \"C\", \"G\", \"D\", \"A\", \"E\", \"B\", \"F#\", \"C#\", \"G#\", \"D#\", \"A#\", \"E#\", \"B#\", \"F##\", \"C##\", \"G##\"], \"y\": [2, 28, 100, 219, 798, 2495, 3900, 5106, 5173, 7205, 8897, 9152, 10954, 10969, 10325, 8585, 6593, 4734, 3237, 1839, 798, 365, 207, 111, 16, 2]}, {\"marker\": {\"color\": \"rgba(62, 111, 176, 0.6)\", \"line\": {\"color\": \"rgba(62, 111, 176, 1.0)\", \"width\": 1}}, \"name\": \"duration_a\", \"orientation\": \"v\", \"text\": \"\", \"type\": \"bar\", \"uid\": \"59aea521-c73a-4d48-b67d-516ea9ef084c\", \"x\": [\"Ebb\", \"Bbb\", \"Fb\", \"Cb\", \"Gb\", \"Db\", \"Ab\", \"Eb\", \"Bb\", \"F\", \"C\", \"G\", \"D\", \"A\", \"E\", \"B\", \"F#\", \"C#\", \"G#\", \"D#\", \"A#\", \"E#\", \"B#\", \"F##\", \"C##\", \"G##\"], \"y\": [0.5, 5.6875, 25.0, 56.03125, 191.36458333333334, 585.0625, 971.4895833333334, 1206.5104166666667, 1225.6666666666667, 1651.3125, 2051.9270833333335, 2059.4875, 2438.6229166666667, 2492.8104166666667, 2314.289583333333, 1935.1041666666667, 1473.05, 1039.0, 721.8958333333334, 402.5833333333333, 184.10416666666666, 79.47916666666667, 45.1875, 24.833333333333332, 4.75, 0.25]}],\n",
       "                        {\"legend\": {\"bgcolor\": \"#FFFFFF\", \"font\": {\"color\": \"#666666\"}}, \"paper_bgcolor\": \"#FFFFFF\", \"plot_bgcolor\": \"#E5E5E5\", \"title\": {\"font\": {\"color\": \"#151516\"}}, \"xaxis\": {\"gridcolor\": \"#F6F6F6\", \"showgrid\": true, \"tickfont\": {\"color\": \"#666666\"}, \"title\": {\"font\": {\"color\": \"#666666\"}, \"text\": \"Tonal Pitch Class\"}, \"zerolinecolor\": \"#F6F6F6\"}, \"yaxis\": {\"gridcolor\": \"#F6F6F6\", \"showgrid\": true, \"tickfont\": {\"color\": \"#666666\"}, \"title\": {\"font\": {\"color\": \"#666666\"}, \"text\": \"Absolute note counts<br>Durations (in quarter beats)\"}, \"zerolinecolor\": \"#F6F6F6\"}},\n",
       "                        {\"showLink\": true, \"linkText\": \"Export to plot.ly\", \"plotlyServerURL\": \"https://plot.ly\", \"responsive\": true}\n",
       "                    ).then(function(){\n",
       "                            \n",
       "var gd = document.getElementById('9337bae6-8ab0-49e1-a62d-1cf523e0f75e');\n",
       "var x = new MutationObserver(function (mutations, observer) {{\n",
       "        var display = window.getComputedStyle(gd).display;\n",
       "        if (!display || display === 'none') {{\n",
       "            console.log([gd, 'removed!']);\n",
       "            Plotly.purge(gd);\n",
       "            observer.disconnect();\n",
       "        }}\n",
       "}});\n",
       "\n",
       "// Listen for the removal of the full notebook cells\n",
       "var notebookContainer = gd.closest('#notebook-container');\n",
       "if (notebookContainer) {{\n",
       "    x.observe(notebookContainer, {childList: true});\n",
       "}}\n",
       "\n",
       "// Listen for the clearing of the current output cell\n",
       "var outputEl = gd.closest('.output');\n",
       "if (outputEl) {{\n",
       "    x.observe(outputEl, {childList: true});\n",
       "}}\n",
       "\n",
       "                        })\n",
       "                };\n",
       "                });\n",
       "            </script>\n",
       "        </div>"
      ]
     },
     "metadata": {},
     "output_type": "display_data"
    }
   ],
   "source": [
    "tpc_distribution[['count_a', 'duration_a']].iplot('bar', xTitle='Tonal Pitch Class', yTitle='Absolute note counts<br>Durations (in quarter beats)')"
   ]
  },
  {
   "cell_type": "code",
   "execution_count": 10,
   "metadata": {},
   "outputs": [
    {
     "data": {
      "application/vnd.plotly.v1+json": {
       "config": {
        "linkText": "Export to plot.ly",
        "plotlyServerURL": "https://plot.ly",
        "responsive": true,
        "showLink": true
       },
       "data": [
        {
         "marker": {
          "color": "rgba(226, 74, 51, 0.6)",
          "line": {
           "color": "rgba(226, 74, 51, 1.0)",
           "width": 1
          }
         },
         "name": "count_n",
         "orientation": "v",
         "text": "",
         "type": "bar",
         "uid": "c6165ba4-43bd-4dc5-9dc5-e101b2e41dfb",
         "x": [
          "Ebb",
          "Bbb",
          "Fb",
          "Cb",
          "Gb",
          "Db",
          "Ab",
          "Eb",
          "Bb",
          "F",
          "C",
          "G",
          "D",
          "A",
          "E",
          "B",
          "F#",
          "C#",
          "G#",
          "D#",
          "A#",
          "E#",
          "B#",
          "F##",
          "C##",
          "G##"
         ],
         "y": [
          1.9644435713584126e-05,
          0.0002750220999901778,
          0.0009822217856792063,
          0.002151065710637462,
          0.007838129849720066,
          0.0245064335526962,
          0.03830664964148905,
          0.05015224437678028,
          0.050810332973185345,
          0.07076907965818682,
          0.087388272271879,
          0.08989293782536097,
          0.10759257440330026,
          0.10773990767115214,
          0.10141439937137806,
          0.08432374030055986,
          0.06475788232983007,
          0.04649837933405363,
          0.03179451920243591,
          0.018063058638640606,
          0.007838129849720066,
          0.003585109517729103,
          0.0020331990963559574,
          0.001090266182103919,
          0.000157155485708673,
          1.9644435713584126e-05
         ]
        },
        {
         "marker": {
          "color": "rgba(62, 111, 176, 0.6)",
          "line": {
           "color": "rgba(62, 111, 176, 1.0)",
           "width": 1
          }
         },
         "name": "duration_n",
         "orientation": "v",
         "text": "",
         "type": "bar",
         "uid": "486a65a0-6dd5-4f3a-99e6-2b2f707f4712",
         "x": [
          "Ebb",
          "Bbb",
          "Fb",
          "Cb",
          "Gb",
          "Db",
          "Ab",
          "Eb",
          "Bb",
          "F",
          "C",
          "G",
          "D",
          "A",
          "E",
          "B",
          "F#",
          "C#",
          "G#",
          "D#",
          "A#",
          "E#",
          "B#",
          "F##",
          "C##",
          "G##"
         ],
         "y": [
          2.156473734149918e-05,
          0.0002452988872595532,
          0.001078236867074959,
          0.002416598378331752,
          0.00825345395209753,
          0.02523343828172173,
          0.04189983538917163,
          0.05203616047039881,
          0.05286235946979499,
          0.07122024066246874,
          0.08849853719198368,
          0.08882461399120159,
          0.10517652534575463,
          0.1075136037551396,
          0.09981409399350182,
          0.08346002616521464,
          0.06353187268179074,
          0.0448115241956353,
          0.031134988067512005,
          0.017363207682797088,
          0.007940315995284511,
          0.0034278947065758073,
          0.0019489131372379884,
          0.0010710486212944592,
          0.00020486500474424223,
          1.078236867074959e-05
         ]
        }
       ],
       "layout": {
        "autosize": true,
        "legend": {
         "bgcolor": "#FFFFFF",
         "font": {
          "color": "#666666"
         }
        },
        "paper_bgcolor": "#FFFFFF",
        "plot_bgcolor": "#E5E5E5",
        "title": {
         "font": {
          "color": "#151516"
         }
        },
        "xaxis": {
         "autorange": true,
         "gridcolor": "#F6F6F6",
         "range": [
          -0.5,
          25.5
         ],
         "showgrid": true,
         "tickfont": {
          "color": "#666666"
         },
         "title": {
          "font": {
           "color": "#666666"
          },
          "text": "Tonal Pitch Class"
         },
         "type": "category",
         "zerolinecolor": "#F6F6F6"
        },
        "yaxis": {
         "autorange": true,
         "gridcolor": "#F6F6F6",
         "range": [
          0,
          0.11341042912752858
         ],
         "showgrid": true,
         "tickfont": {
          "color": "#666666"
         },
         "title": {
          "font": {
           "color": "#666666"
          },
          "text": "Normalized note counts & durations"
         },
         "type": "linear",
         "zerolinecolor": "#F6F6F6"
        }
       }
      },
      "image/png": "[encoded data removed]",
      "text/html": [
       "<div>\n",
       "        \n",
       "        \n",
       "            <div id=\"af82011f-981b-4c1c-9851-93afa19d3009\" class=\"plotly-graph-div\" style=\"height:525px; width:100%;\"></div>\n",
       "            <script type=\"text/javascript\">\n",
       "                require([\"plotly\"], function(Plotly) {\n",
       "                    window.PLOTLYENV=window.PLOTLYENV || {};\n",
       "                    window.PLOTLYENV.BASE_URL='https://plot.ly';\n",
       "                    \n",
       "                if (document.getElementById(\"af82011f-981b-4c1c-9851-93afa19d3009\")) {\n",
       "                    Plotly.newPlot(\n",
       "                        'af82011f-981b-4c1c-9851-93afa19d3009',\n",
       "                        [{\"marker\": {\"color\": \"rgba(226, 74, 51, 0.6)\", \"line\": {\"color\": \"rgba(226, 74, 51, 1.0)\", \"width\": 1}}, \"name\": \"count_n\", \"orientation\": \"v\", \"text\": \"\", \"type\": \"bar\", \"uid\": \"534b9297-5fbf-419c-a4b8-2b4cac676556\", \"x\": [\"Ebb\", \"Bbb\", \"Fb\", \"Cb\", \"Gb\", \"Db\", \"Ab\", \"Eb\", \"Bb\", \"F\", \"C\", \"G\", \"D\", \"A\", \"E\", \"B\", \"F#\", \"C#\", \"G#\", \"D#\", \"A#\", \"E#\", \"B#\", \"F##\", \"C##\", \"G##\"], \"y\": [1.9644435713584126e-05, 0.0002750220999901778, 0.0009822217856792063, 0.002151065710637462, 0.007838129849720066, 0.0245064335526962, 0.03830664964148905, 0.05015224437678028, 0.050810332973185345, 0.07076907965818682, 0.087388272271879, 0.08989293782536097, 0.10759257440330026, 0.10773990767115214, 0.10141439937137806, 0.08432374030055986, 0.06475788232983007, 0.04649837933405363, 0.03179451920243591, 0.018063058638640606, 0.007838129849720066, 0.003585109517729103, 0.0020331990963559574, 0.001090266182103919, 0.000157155485708673, 1.9644435713584126e-05]}, {\"marker\": {\"color\": \"rgba(62, 111, 176, 0.6)\", \"line\": {\"color\": \"rgba(62, 111, 176, 1.0)\", \"width\": 1}}, \"name\": \"duration_n\", \"orientation\": \"v\", \"text\": \"\", \"type\": \"bar\", \"uid\": \"664375d6-0eb7-42f0-9292-acba327d09d5\", \"x\": [\"Ebb\", \"Bbb\", \"Fb\", \"Cb\", \"Gb\", \"Db\", \"Ab\", \"Eb\", \"Bb\", \"F\", \"C\", \"G\", \"D\", \"A\", \"E\", \"B\", \"F#\", \"C#\", \"G#\", \"D#\", \"A#\", \"E#\", \"B#\", \"F##\", \"C##\", \"G##\"], \"y\": [2.156473734149918e-05, 0.0002452988872595532, 0.001078236867074959, 0.002416598378331752, 0.00825345395209753, 0.02523343828172173, 0.04189983538917163, 0.05203616047039881, 0.05286235946979499, 0.07122024066246874, 0.08849853719198368, 0.08882461399120159, 0.10517652534575463, 0.1075136037551396, 0.09981409399350182, 0.08346002616521464, 0.06353187268179074, 0.0448115241956353, 0.031134988067512005, 0.017363207682797088, 0.007940315995284511, 0.0034278947065758073, 0.0019489131372379884, 0.0010710486212944592, 0.00020486500474424223, 1.078236867074959e-05]}],\n",
       "                        {\"legend\": {\"bgcolor\": \"#FFFFFF\", \"font\": {\"color\": \"#666666\"}}, \"paper_bgcolor\": \"#FFFFFF\", \"plot_bgcolor\": \"#E5E5E5\", \"title\": {\"font\": {\"color\": \"#151516\"}}, \"xaxis\": {\"gridcolor\": \"#F6F6F6\", \"showgrid\": true, \"tickfont\": {\"color\": \"#666666\"}, \"title\": {\"font\": {\"color\": \"#666666\"}, \"text\": \"Tonal Pitch Class\"}, \"zerolinecolor\": \"#F6F6F6\"}, \"yaxis\": {\"gridcolor\": \"#F6F6F6\", \"showgrid\": true, \"tickfont\": {\"color\": \"#666666\"}, \"title\": {\"font\": {\"color\": \"#666666\"}, \"text\": \"Normalized note counts & durations\"}, \"zerolinecolor\": \"#F6F6F6\"}},\n",
       "                        {\"showLink\": true, \"linkText\": \"Export to plot.ly\", \"plotlyServerURL\": \"https://plot.ly\", \"responsive\": true}\n",
       "                    ).then(function(){\n",
       "                            \n",
       "var gd = document.getElementById('af82011f-981b-4c1c-9851-93afa19d3009');\n",
       "var x = new MutationObserver(function (mutations, observer) {{\n",
       "        var display = window.getComputedStyle(gd).display;\n",
       "        if (!display || display === 'none') {{\n",
       "            console.log([gd, 'removed!']);\n",
       "            Plotly.purge(gd);\n",
       "            observer.disconnect();\n",
       "        }}\n",
       "}});\n",
       "\n",
       "// Listen for the removal of the full notebook cells\n",
       "var notebookContainer = gd.closest('#notebook-container');\n",
       "if (notebookContainer) {{\n",
       "    x.observe(notebookContainer, {childList: true});\n",
       "}}\n",
       "\n",
       "// Listen for the clearing of the current output cell\n",
       "var outputEl = gd.closest('.output');\n",
       "if (outputEl) {{\n",
       "    x.observe(outputEl, {childList: true});\n",
       "}}\n",
       "\n",
       "                        })\n",
       "                };\n",
       "                });\n",
       "            </script>\n",
       "        </div>"
      ]
     },
     "metadata": {},
     "output_type": "display_data"
    }
   ],
   "source": [
    "tpc_distribution[['count_n', 'duration_n']].iplot('bar', xTitle='Tonal Pitch Class', yTitle='Normalized note counts & durations')"
   ]
  },
  {
   "cell_type": "code",
   "execution_count": 11,
   "metadata": {},
   "outputs": [
    {
     "ename": "NameError",
     "evalue": "name 'DANCES' is not defined",
     "output_type": "error",
     "traceback": [
      "\u001b[0;31m---------------------------------------------------------------------------\u001b[0m",
      "\u001b[0;31mNameError\u001b[0m                                 Traceback (most recent call last)",
      "\u001b[0;32m<ipython-input-11-e7d3bab47a4e>\u001b[0m in \u001b[0;36m<module>\u001b[0;34m\u001b[0m\n\u001b[1;32m      1\u001b[0m \u001b[0mtemp\u001b[0m \u001b[0;34m=\u001b[0m \u001b[0;34m[\u001b[0m\u001b[0;34m]\u001b[0m\u001b[0;34m\u001b[0m\u001b[0;34m\u001b[0m\u001b[0m\n\u001b[0;32m----> 2\u001b[0;31m \u001b[0;32mfor\u001b[0m \u001b[0mdance\u001b[0m \u001b[0;32min\u001b[0m \u001b[0mDANCES\u001b[0m\u001b[0;34m.\u001b[0m\u001b[0mindex\u001b[0m\u001b[0;34m:\u001b[0m\u001b[0;34m\u001b[0m\u001b[0;34m\u001b[0m\u001b[0m\n\u001b[0m\u001b[1;32m      3\u001b[0m     \u001b[0;32mif\u001b[0m \u001b[0mdance\u001b[0m \u001b[0;32min\u001b[0m \u001b[0mfailed_parse\u001b[0m\u001b[0;34m:\u001b[0m\u001b[0;34m\u001b[0m\u001b[0;34m\u001b[0m\u001b[0m\n\u001b[1;32m      4\u001b[0m         \u001b[0mtemp\u001b[0m \u001b[0;34m+=\u001b[0m \u001b[0;34m[\u001b[0m\u001b[0mnp\u001b[0m\u001b[0;34m.\u001b[0m\u001b[0mnan\u001b[0m\u001b[0;34m]\u001b[0m\u001b[0;34m\u001b[0m\u001b[0;34m\u001b[0m\u001b[0m\n\u001b[1;32m      5\u001b[0m     \u001b[0;32melse\u001b[0m\u001b[0;34m:\u001b[0m\u001b[0;34m\u001b[0m\u001b[0;34m\u001b[0m\u001b[0m\n",
      "\u001b[0;31mNameError\u001b[0m: name 'DANCES' is not defined"
     ]
    }
   ],
   "source": [
    "temp = []\n",
    "for dance in DANCES.index:\n",
    "    if dance in failed_parse:\n",
    "        temp += [np.nan]\n",
    "    else:\n",
    "        notes = notes_bag(dance)\n",
    "        temp += [float(sp.stats.entropy(notes.dropna())/np.log(35))]\n",
    "    \n",
    "DANCES['entropy'] = temp"
   ]
  },
  {
   "cell_type": "code",
   "execution_count": null,
   "metadata": {},
   "outputs": [],
   "source": [
    "DANCES.head(10)"
   ]
  },
  {
   "cell_type": "code",
   "execution_count": null,
   "metadata": {},
   "outputs": [],
   "source": [
    "DANCES.entropy.hist();"
   ]
  },
  {
   "cell_type": "code",
   "execution_count": null,
   "metadata": {},
   "outputs": [],
   "source": [
    "DANCES.groupby('Type').entropy.mean()"
   ]
  },
  {
   "cell_type": "code",
   "execution_count": null,
   "metadata": {},
   "outputs": [],
   "source": [
    "def keysig(n):\n",
    "    return Score(DANCES.File[n]).mc_info[0].keysig[0]"
   ]
  },
  {
   "cell_type": "code",
   "execution_count": null,
   "metadata": {},
   "outputs": [],
   "source": [
    "temp = []\n",
    "for i in DANCES.index:\n",
    "    if i in failed_parse:\n",
    "        temp += [np.nan]\n",
    "    else:\n",
    "        temp += [keysig(i)]\n",
    "\n",
    "DANCES['Keysig'] = temp"
   ]
  },
  {
   "cell_type": "code",
   "execution_count": null,
   "metadata": {},
   "outputs": [],
   "source": [
    "sp.stats.pearsonr(DANCES.dropna().entropy, DANCES.dropna().Keysig )"
   ]
  },
  {
   "cell_type": "code",
   "execution_count": null,
   "metadata": {},
   "outputs": [],
   "source": [
    "plt.scatter(DANCES.dropna().Keysig, DANCES.dropna().entropy);"
   ]
  },
  {
   "cell_type": "code",
   "execution_count": null,
   "metadata": {},
   "outputs": [],
   "source": []
  },
  {
   "cell_type": "code",
   "execution_count": null,
   "metadata": {},
   "outputs": [],
   "source": [
    "def KK(mode, transposition):\n",
    "    \"\"\"Krumhansl and Kessler (1982) key profiles for major and minor modes\"\"\"\n",
    "    \n",
    "    major = [6.20, 2.55, 3.45, 2.85, 4.22, 4.57, 2.67, 5.25, 2.45, 3.35, 2.70, 2.70]\n",
    "    minor = [6.03, 3.35, 3.67, 5.28, 2.58, 3.55, 2.87, 4.80, 4.35, 2.67, 2.50, 3.42]\n",
    "    \n",
    "    #major = list(map(lambda x: x/sum(major), major))\n",
    "    #minor = list(map(lambda x: x/sum(minor), minor))\n",
    "    \n",
    "    if mode == 0:\n",
    "        return major[-transposition:]+major[:-transposition]\n",
    "    elif mode == 1:\n",
    "        return minor[-transposition:]+minor[:-transposition]\n",
    "    else:\n",
    "        print('0 = major, 1 = minor')"
   ]
  }
 ],
 "metadata": {
  "kernelspec": {
   "display_name": "Python [conda env:root]",
   "language": "python",
   "name": "conda-root-py"
  },
  "language_info": {
   "codemirror_mode": {
    "name": "ipython",
    "version": 3
   },
   "file_extension": ".py",
   "mimetype": "text/x-python",
   "name": "python",
   "nbconvert_exporter": "python",
   "pygments_lexer": "ipython3",
   "version": "3.7.3"
  }
 },
 "nbformat": 4,
 "nbformat_minor": 4
}
