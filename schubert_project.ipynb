{
 "cells": [
  {
   "cell_type": "markdown",
   "metadata": {},
   "source": [
    "# Prerequisites\n",
    "In order to run the parser you need to install (pip or conda):\n",
    "* Beautifulsoup4 (XML parser)\n",
    "* lxml"
   ]
  },
  {
   "cell_type": "code",
   "execution_count": 1,
   "metadata": {},
   "outputs": [],
   "source": [
    "from tools.ms3 import *\n",
    "import scipy as sp\n",
    "import matplotlib as plt\n",
    "logging.getLogger().setLevel(logging.INFO)"
   ]
  },
  {
   "cell_type": "markdown",
   "metadata": {},
   "source": [
    "# Configuration "
   ]
  },
  {
   "cell_type": "code",
   "execution_count": 13,
   "metadata": {
    "scrolled": true
   },
   "outputs": [],
   "source": [
    "compute_all = False                              # Sets all 'compute_anew' flags to True\n",
    "data ='data'                                     # data folders\n",
    "data_ms3 = os.path.join(data,'MuseScore_3')\n",
    "data_tsv = os.path.join(data,'tsv')\n",
    "note_features = None                             # TODO: Pass selected features as kwargs to get_notes()\n",
    "plt.rcParams['figure.figsize'] = [15,10]         # Change the plotsize for the entire notebook"
   ]
  },
  {
   "cell_type": "markdown",
   "metadata": {},
   "source": [
    "# Loading the data\n",
    "The dataframe `merged_ids` maps the 435 IDs to the files in the `data_ms3` folder. The different types of trios (trio I, trio II, alternative trio) are all replaced by the term 'trio'."
   ]
  },
  {
   "cell_type": "code",
   "execution_count": 9,
   "metadata": {},
   "outputs": [
    {
     "data": {
      "text/html": [
       "<div>\n",
       "<style scoped>\n",
       "    .dataframe tbody tr th:only-of-type {\n",
       "        vertical-align: middle;\n",
       "    }\n",
       "\n",
       "    .dataframe tbody tr th {\n",
       "        vertical-align: top;\n",
       "    }\n",
       "\n",
       "    .dataframe thead th {\n",
       "        text-align: right;\n",
       "    }\n",
       "</style>\n",
       "<table border=\"1\" class=\"dataframe\">\n",
       "  <thead>\n",
       "    <tr style=\"text-align: right;\">\n",
       "      <th></th>\n",
       "      <th>D</th>\n",
       "      <th>no</th>\n",
       "      <th>dance</th>\n",
       "      <th>path</th>\n",
       "    </tr>\n",
       "    <tr>\n",
       "      <th>id</th>\n",
       "      <th></th>\n",
       "      <th></th>\n",
       "      <th></th>\n",
       "      <th></th>\n",
       "    </tr>\n",
       "  </thead>\n",
       "  <tbody>\n",
       "    <tr>\n",
       "      <td>1</td>\n",
       "      <td>41</td>\n",
       "      <td>1</td>\n",
       "      <td>menuett</td>\n",
       "      <td>041/D041menuett01a.mscx</td>\n",
       "    </tr>\n",
       "    <tr>\n",
       "      <td>2</td>\n",
       "      <td>41</td>\n",
       "      <td>1</td>\n",
       "      <td>trio</td>\n",
       "      <td>041/D041trio01b.mscx</td>\n",
       "    </tr>\n",
       "    <tr>\n",
       "      <td>3</td>\n",
       "      <td>41</td>\n",
       "      <td>2</td>\n",
       "      <td>menuett</td>\n",
       "      <td>041/D041menuett02a.mscx</td>\n",
       "    </tr>\n",
       "    <tr>\n",
       "      <td>4</td>\n",
       "      <td>41</td>\n",
       "      <td>2</td>\n",
       "      <td>trio</td>\n",
       "      <td>041/D041trio02b.mscx</td>\n",
       "    </tr>\n",
       "    <tr>\n",
       "      <td>5</td>\n",
       "      <td>41</td>\n",
       "      <td>3</td>\n",
       "      <td>menuett</td>\n",
       "      <td>041/D041menuett03a.mscx</td>\n",
       "    </tr>\n",
       "  </tbody>\n",
       "</table>\n",
       "</div>"
      ],
      "text/plain": [
       "     D  no    dance                     path\n",
       "id                                          \n",
       "1   41   1  menuett  041/D041menuett01a.mscx\n",
       "2   41   1     trio     041/D041trio01b.mscx\n",
       "3   41   2  menuett  041/D041menuett02a.mscx\n",
       "4   41   2     trio     041/D041trio02b.mscx\n",
       "5   41   3  menuett  041/D041menuett03a.mscx"
      ]
     },
     "execution_count": 9,
     "metadata": {},
     "output_type": "execute_result"
    }
   ],
   "source": [
    "merged_ids = os.path.join(data_ms3, 'merged_ids.tsv')\n",
    "files = pd.read_csv(merged_ids, sep='\\t', index_col=0)\n",
    "files.loc[files.dance.str.contains('trio'), 'dance'] = 'trio'\n",
    "files.head()"
   ]
  },
  {
   "cell_type": "markdown",
   "metadata": {},
   "source": [
    "#### Accessibility\n",
    "We check whether all files are accessible."
   ]
  },
  {
   "cell_type": "code",
   "execution_count": 10,
   "metadata": {},
   "outputs": [
    {
     "name": "stdout",
     "output_type": "stream",
     "text": [
      "All files found.\n"
     ]
    }
   ],
   "source": [
    "missing = [file for file in files.path.values if not os.path.isfile(os.path.join(data_ms3, file))]\n",
    "if missing != []:\n",
    "    print(\"These files are missing:\\n\" + '\\n'.join(missing))\n",
    "else:\n",
    "    print(\"All files found.\")"
   ]
  },
  {
   "cell_type": "markdown",
   "metadata": {},
   "source": [
    "## Computing or loading the DataFrame representation of the music\n",
    "We will be working on the data set in the form of note_lists. These can be newly computed from the scores or loaded from the precomputed TSV."
   ]
  },
  {
   "cell_type": "code",
   "execution_count": 19,
   "metadata": {},
   "outputs": [
    {
     "data": {
      "text/html": [
       "<div>\n",
       "<style scoped>\n",
       "    .dataframe tbody tr th:only-of-type {\n",
       "        vertical-align: middle;\n",
       "    }\n",
       "\n",
       "    .dataframe tbody tr th {\n",
       "        vertical-align: top;\n",
       "    }\n",
       "\n",
       "    .dataframe thead th {\n",
       "        text-align: right;\n",
       "    }\n",
       "</style>\n",
       "<table border=\"1\" class=\"dataframe\">\n",
       "  <thead>\n",
       "    <tr style=\"text-align: right;\">\n",
       "      <th></th>\n",
       "      <th></th>\n",
       "      <th></th>\n",
       "      <th>mc</th>\n",
       "      <th>mn</th>\n",
       "      <th>onset</th>\n",
       "      <th>duration</th>\n",
       "      <th>gracenote</th>\n",
       "      <th>nominal_duration</th>\n",
       "      <th>scalar</th>\n",
       "      <th>tied</th>\n",
       "      <th>tpc</th>\n",
       "      <th>midi</th>\n",
       "      <th>staff</th>\n",
       "      <th>voice</th>\n",
       "      <th>volta</th>\n",
       "    </tr>\n",
       "    <tr>\n",
       "      <th>id</th>\n",
       "      <th>section</th>\n",
       "      <th>ix</th>\n",
       "      <th></th>\n",
       "      <th></th>\n",
       "      <th></th>\n",
       "      <th></th>\n",
       "      <th></th>\n",
       "      <th></th>\n",
       "      <th></th>\n",
       "      <th></th>\n",
       "      <th></th>\n",
       "      <th></th>\n",
       "      <th></th>\n",
       "      <th></th>\n",
       "      <th></th>\n",
       "    </tr>\n",
       "  </thead>\n",
       "  <tbody>\n",
       "    <tr>\n",
       "      <td rowspan=\"5\" valign=\"top\">1</td>\n",
       "      <td rowspan=\"5\" valign=\"top\">0</td>\n",
       "      <td>0</td>\n",
       "      <td>0</td>\n",
       "      <td>0</td>\n",
       "      <td>0</td>\n",
       "      <td>3/16</td>\n",
       "      <td>NaN</td>\n",
       "      <td>1/8</td>\n",
       "      <td>3/2</td>\n",
       "      <td>NaN</td>\n",
       "      <td>3</td>\n",
       "      <td>57</td>\n",
       "      <td>1</td>\n",
       "      <td>1</td>\n",
       "      <td>NaN</td>\n",
       "    </tr>\n",
       "    <tr>\n",
       "      <td>1</td>\n",
       "      <td>0</td>\n",
       "      <td>0</td>\n",
       "      <td>0</td>\n",
       "      <td>3/16</td>\n",
       "      <td>NaN</td>\n",
       "      <td>1/8</td>\n",
       "      <td>3/2</td>\n",
       "      <td>NaN</td>\n",
       "      <td>-1</td>\n",
       "      <td>65</td>\n",
       "      <td>1</td>\n",
       "      <td>1</td>\n",
       "      <td>NaN</td>\n",
       "    </tr>\n",
       "    <tr>\n",
       "      <td>2</td>\n",
       "      <td>0</td>\n",
       "      <td>0</td>\n",
       "      <td>3/16</td>\n",
       "      <td>1/16</td>\n",
       "      <td>NaN</td>\n",
       "      <td>1/16</td>\n",
       "      <td>1</td>\n",
       "      <td>NaN</td>\n",
       "      <td>3</td>\n",
       "      <td>57</td>\n",
       "      <td>1</td>\n",
       "      <td>1</td>\n",
       "      <td>NaN</td>\n",
       "    </tr>\n",
       "    <tr>\n",
       "      <td>3</td>\n",
       "      <td>0</td>\n",
       "      <td>0</td>\n",
       "      <td>3/16</td>\n",
       "      <td>1/16</td>\n",
       "      <td>NaN</td>\n",
       "      <td>1/16</td>\n",
       "      <td>1</td>\n",
       "      <td>NaN</td>\n",
       "      <td>-1</td>\n",
       "      <td>65</td>\n",
       "      <td>1</td>\n",
       "      <td>1</td>\n",
       "      <td>NaN</td>\n",
       "    </tr>\n",
       "    <tr>\n",
       "      <td>4</td>\n",
       "      <td>1</td>\n",
       "      <td>1</td>\n",
       "      <td>0</td>\n",
       "      <td>1/4</td>\n",
       "      <td>NaN</td>\n",
       "      <td>1/4</td>\n",
       "      <td>1</td>\n",
       "      <td>NaN</td>\n",
       "      <td>-1</td>\n",
       "      <td>41</td>\n",
       "      <td>2</td>\n",
       "      <td>1</td>\n",
       "      <td>NaN</td>\n",
       "    </tr>\n",
       "  </tbody>\n",
       "</table>\n",
       "</div>"
      ],
      "text/plain": [
       "               mc  mn onset duration gracenote nominal_duration scalar  tied  \\\n",
       "id section ix                                                                  \n",
       "1  0       0    0   0     0     3/16       NaN              1/8    3/2   NaN   \n",
       "           1    0   0     0     3/16       NaN              1/8    3/2   NaN   \n",
       "           2    0   0  3/16     1/16       NaN             1/16      1   NaN   \n",
       "           3    0   0  3/16     1/16       NaN             1/16      1   NaN   \n",
       "           4    1   1     0      1/4       NaN              1/4      1   NaN   \n",
       "\n",
       "               tpc  midi  staff  voice  volta  \n",
       "id section ix                                  \n",
       "1  0       0     3    57      1      1    NaN  \n",
       "           1    -1    65      1      1    NaN  \n",
       "           2     3    57      1      1    NaN  \n",
       "           3    -1    65      1      1    NaN  \n",
       "           4    -1    41      2      1    NaN  "
      ]
     },
     "execution_count": 19,
     "metadata": {},
     "output_type": "execute_result"
    }
   ],
   "source": [
    "compute_anew = False\n",
    "\n",
    "if compute_anew:\n",
    "    \n",
    "    def get_note_list(df):\n",
    "        S = Score(os.path.join(data_ms3,df.iloc[0].path))\n",
    "        return S.get_notes()\n",
    "    \n",
    "    note_list = files.groupby('id').apply(get_note_list)\n",
    "    note_list.to_csv(os.path.join(data_tsv, 'note_list_complete.tsv'), sep='\\t')\n",
    "else:\n",
    "    note_list = pd.read_csv(os.path.join(data_tsv, 'note_list_complete.tsv'), sep='\\t', index_col=[0,1,2])\n",
    "note_list.head()"
   ]
  },
  {
   "cell_type": "markdown",
   "metadata": {},
   "source": [
    "# Basic statistics"
   ]
  },
  {
   "cell_type": "markdown",
   "metadata": {},
   "source": [
    "### Pieces per dance type"
   ]
  },
  {
   "cell_type": "code",
   "execution_count": 28,
   "metadata": {},
   "outputs": [
    {
     "name": "stdout",
     "output_type": "stream",
     "text": [
      "The corpus contains 435 pieces. The different types are distributed as follows:\n",
      "walzer       132\n",
      "ländler       78\n",
      "ecossaise     74\n",
      "deutscher     71\n",
      "trio          48\n",
      "menuett       29\n",
      "galopp         2\n",
      "cotillon       1\n",
      "Name: dance, dtype: int64\n"
     ]
    },
    {
     "data": {
      "image/png": "[encoded data removed]",
      "text/plain": [
       "<Figure size 1080x720 with 1 Axes>"
      ]
     },
     "metadata": {
      "needs_background": "light"
     },
     "output_type": "display_data"
    }
   ],
   "source": [
    "dance_types = files.dance.value_counts()\n",
    "print(f\"The corpus contains {len(files.index)} pieces. The different types are distributed as follows:{NL}{dance_types}\")\n",
    "dance_types.plot.bar();"
   ]
  },
  {
   "cell_type": "markdown",
   "metadata": {},
   "source": [
    "### Number of notes"
   ]
  },
  {
   "cell_type": "code",
   "execution_count": 7,
   "metadata": {},
   "outputs": [
    {
     "data": {
      "text/plain": [
       "101810"
      ]
     },
     "execution_count": 7,
     "metadata": {},
     "output_type": "execute_result"
    }
   ],
   "source": [
    "len(note_list.index)"
   ]
  },
  {
   "cell_type": "code",
   "execution_count": 34,
   "metadata": {},
   "outputs": [
    {
     "ename": "ValueError",
     "evalue": "The truth value of an array with more than one element is ambiguous. Use a.any() or a.all()",
     "output_type": "error",
     "traceback": [
      "\u001b[0;31m---------------------------------------------------------------------------\u001b[0m",
      "\u001b[0;31mValueError\u001b[0m                                Traceback (most recent call last)",
      "\u001b[0;32m<ipython-input-34-36a50cac1a9d>\u001b[0m in \u001b[0;36m<module>\u001b[0;34m\u001b[0m\n\u001b[0;32m----> 1\u001b[0;31m \u001b[0mspell_tpc\u001b[0m\u001b[0;34m(\u001b[0m\u001b[0mnote_list\u001b[0m\u001b[0;34m.\u001b[0m\u001b[0mtpc\u001b[0m\u001b[0;34m.\u001b[0m\u001b[0munique\u001b[0m\u001b[0;34m(\u001b[0m\u001b[0;34m)\u001b[0m\u001b[0;34m)\u001b[0m\u001b[0;34m\u001b[0m\u001b[0;34m\u001b[0m\u001b[0m\n\u001b[0m",
      "\u001b[0;32m~/schubert_dances/tools/ms3.py\u001b[0m in \u001b[0;36mspell_tpc\u001b[0;34m(tpc)\u001b[0m\n\u001b[1;32m    505\u001b[0m \u001b[0;34m\u001b[0m\u001b[0m\n\u001b[1;32m    506\u001b[0m     \u001b[0mtpc\u001b[0m \u001b[0;34m+=\u001b[0m \u001b[0;36m1\u001b[0m \u001b[0;31m# to make the lowest name F = 0 instead of -1\u001b[0m\u001b[0;34m\u001b[0m\u001b[0;34m\u001b[0m\u001b[0m\n\u001b[0;32m--> 507\u001b[0;31m     \u001b[0;32mif\u001b[0m \u001b[0mtpc\u001b[0m \u001b[0;34m<\u001b[0m \u001b[0;36m0\u001b[0m\u001b[0;34m:\u001b[0m\u001b[0;34m\u001b[0m\u001b[0;34m\u001b[0m\u001b[0m\n\u001b[0m\u001b[1;32m    508\u001b[0m         \u001b[0macc\u001b[0m \u001b[0;34m=\u001b[0m \u001b[0mabs\u001b[0m\u001b[0;34m(\u001b[0m\u001b[0mtpc\u001b[0m \u001b[0;34m//\u001b[0m \u001b[0;36m7\u001b[0m\u001b[0;34m)\u001b[0m \u001b[0;34m*\u001b[0m \u001b[0;34m'b'\u001b[0m\u001b[0;34m\u001b[0m\u001b[0;34m\u001b[0m\u001b[0m\n\u001b[1;32m    509\u001b[0m     \u001b[0;32melse\u001b[0m\u001b[0;34m:\u001b[0m\u001b[0;34m\u001b[0m\u001b[0;34m\u001b[0m\u001b[0m\n",
      "\u001b[0;31mValueError\u001b[0m: The truth value of an array with more than one element is ambiguous. Use a.any() or a.all()"
     ]
    }
   ],
   "source": [
    "spell_tpc(note_list.tpc.unique())"
   ]
  },
  {
   "cell_type": "code",
   "execution_count": 29,
   "metadata": {},
   "outputs": [
    {
     "data": {
      "text/plain": [
       "{0: 'F', 1: 'C', 2: 'G', 3: 'D', 4: 'A', 5: 'E', 6: 'B'}"
      ]
     },
     "execution_count": 29,
     "metadata": {},
     "output_type": "execute_result"
    }
   ],
   "source": [
    "PITCH_NAMES"
   ]
  },
  {
   "cell_type": "code",
   "execution_count": 4,
   "metadata": {},
   "outputs": [],
   "source": [
    "def notes_bag(n):\n",
    "    \"\"\"Returns the relative duration of each tonal pitch class in the nth dance\"\"\"\n",
    "    \n",
    "    note_bag = pd.DataFrame()\n",
    "    for i in Score(DANCES.File[n]).section_order:\n",
    "        note_bag = pd.concat([note_bag, Score(DANCES.File[n]).get_notes(pitch_names = True).loc[i]], ignore_index = True)\n",
    "    \n",
    "    notes = pd.DataFrame(columns = ['duration'], index = ['C', 'C#', 'C##', 'Dbb', 'Db', 'D', 'D#', 'D##','Ebb', 'Eb', 'E','E#','E##', 'Fbb', 'Fb','F', 'F#','F##','Gbb', 'Gb', 'G', 'G#','G##', 'Abb', 'Ab', 'A', 'A#', 'A##', 'Bbb', 'Bb', 'B', 'B#','B##', 'Cbb','Cb'])\n",
    "\n",
    "    temp = pd.DataFrame(note_bag.groupby('pitch_names')['duration'].sum()/note_bag.duration.sum())\n",
    "    \n",
    "    for note in temp.index:\n",
    "        notes.loc[note] = temp.loc[note]\n",
    "    \n",
    "    #notes.columns = ['tonal_duration']\n",
    "    \n",
    "    #return temp.index\n",
    "    return notes.applymap(float)"
   ]
  },
  {
   "cell_type": "code",
   "execution_count": 76,
   "metadata": {},
   "outputs": [],
   "source": [
    "temp = []\n",
    "for dance in DANCES.index:\n",
    "    if dance in failed_parse:\n",
    "        temp += [np.nan]\n",
    "    else:\n",
    "        notes = notes_bag(dance)\n",
    "        temp += [float(sp.stats.entropy(notes.dropna())/np.log(35))]\n",
    "    \n",
    "DANCES['entropy'] = temp"
   ]
  },
  {
   "cell_type": "code",
   "execution_count": 77,
   "metadata": {},
   "outputs": [
    {
     "data": {
      "text/html": [
       "<div>\n",
       "<style scoped>\n",
       "    .dataframe tbody tr th:only-of-type {\n",
       "        vertical-align: middle;\n",
       "    }\n",
       "\n",
       "    .dataframe tbody tr th {\n",
       "        vertical-align: top;\n",
       "    }\n",
       "\n",
       "    .dataframe thead th {\n",
       "        text-align: right;\n",
       "    }\n",
       "</style>\n",
       "<table border=\"1\" class=\"dataframe\">\n",
       "  <thead>\n",
       "    <tr style=\"text-align: right;\">\n",
       "      <th></th>\n",
       "      <th>File</th>\n",
       "      <th>Type</th>\n",
       "      <th>entropy</th>\n",
       "    </tr>\n",
       "  </thead>\n",
       "  <tbody>\n",
       "    <tr>\n",
       "      <th>0</th>\n",
       "      <td>data/MuseScore_3/041/D041menuett01a.mscx</td>\n",
       "      <td>menuett</td>\n",
       "      <td>NaN</td>\n",
       "    </tr>\n",
       "    <tr>\n",
       "      <th>1</th>\n",
       "      <td>data/MuseScore_3/041/D041menuett02a.mscx</td>\n",
       "      <td>menuett</td>\n",
       "      <td>NaN</td>\n",
       "    </tr>\n",
       "    <tr>\n",
       "      <th>2</th>\n",
       "      <td>data/MuseScore_3/041/D041menuett03a.mscx</td>\n",
       "      <td>menuett</td>\n",
       "      <td>NaN</td>\n",
       "    </tr>\n",
       "    <tr>\n",
       "      <th>3</th>\n",
       "      <td>data/MuseScore_3/041/D041menuett04a.mscx</td>\n",
       "      <td>menuett</td>\n",
       "      <td>NaN</td>\n",
       "    </tr>\n",
       "    <tr>\n",
       "      <th>4</th>\n",
       "      <td>data/MuseScore_3/041/D041menuett05a.mscx</td>\n",
       "      <td>menuett</td>\n",
       "      <td>NaN</td>\n",
       "    </tr>\n",
       "    <tr>\n",
       "      <th>5</th>\n",
       "      <td>data/MuseScore_3/041/D041menuett06a.mscx</td>\n",
       "      <td>menuett</td>\n",
       "      <td>NaN</td>\n",
       "    </tr>\n",
       "    <tr>\n",
       "      <th>6</th>\n",
       "      <td>data/MuseScore_3/041/D041menuett07a.mscx</td>\n",
       "      <td>menuett</td>\n",
       "      <td>NaN</td>\n",
       "    </tr>\n",
       "    <tr>\n",
       "      <th>7</th>\n",
       "      <td>data/MuseScore_3/041/D041menuett08a.mscx</td>\n",
       "      <td>menuett</td>\n",
       "      <td>NaN</td>\n",
       "    </tr>\n",
       "    <tr>\n",
       "      <th>8</th>\n",
       "      <td>data/MuseScore_3/041/D041menuett09a.mscx</td>\n",
       "      <td>menuett</td>\n",
       "      <td>NaN</td>\n",
       "    </tr>\n",
       "    <tr>\n",
       "      <th>9</th>\n",
       "      <td>data/MuseScore_3/041/D041menuett10a.mscx</td>\n",
       "      <td>menuett</td>\n",
       "      <td>NaN</td>\n",
       "    </tr>\n",
       "  </tbody>\n",
       "</table>\n",
       "</div>"
      ],
      "text/plain": [
       "                                       File     Type  entropy\n",
       "0  data/MuseScore_3/041/D041menuett01a.mscx  menuett      NaN\n",
       "1  data/MuseScore_3/041/D041menuett02a.mscx  menuett      NaN\n",
       "2  data/MuseScore_3/041/D041menuett03a.mscx  menuett      NaN\n",
       "3  data/MuseScore_3/041/D041menuett04a.mscx  menuett      NaN\n",
       "4  data/MuseScore_3/041/D041menuett05a.mscx  menuett      NaN\n",
       "5  data/MuseScore_3/041/D041menuett06a.mscx  menuett      NaN\n",
       "6  data/MuseScore_3/041/D041menuett07a.mscx  menuett      NaN\n",
       "7  data/MuseScore_3/041/D041menuett08a.mscx  menuett      NaN\n",
       "8  data/MuseScore_3/041/D041menuett09a.mscx  menuett      NaN\n",
       "9  data/MuseScore_3/041/D041menuett10a.mscx  menuett      NaN"
      ]
     },
     "execution_count": 77,
     "metadata": {},
     "output_type": "execute_result"
    }
   ],
   "source": [
    "DANCES.head(10)"
   ]
  },
  {
   "cell_type": "code",
   "execution_count": 78,
   "metadata": {},
   "outputs": [
    {
     "data": {
      "image/png": "[encoded data removed]",
      "text/plain": [
       "<Figure size 432x288 with 1 Axes>"
      ]
     },
     "metadata": {
      "needs_background": "light"
     },
     "output_type": "display_data"
    }
   ],
   "source": [
    "DANCES.entropy.hist();"
   ]
  },
  {
   "cell_type": "code",
   "execution_count": 79,
   "metadata": {},
   "outputs": [
    {
     "data": {
      "text/plain": [
       "Type\n",
       "cotillon            NaN\n",
       "deutscher           NaN\n",
       "ecossaise           NaN\n",
       "galopp              NaN\n",
       "introduzione.mscx   NaN\n",
       "ländler            NaN\n",
       "menuett             NaN\n",
       "trio                NaN\n",
       "walzer              NaN\n",
       "Name: entropy, dtype: float64"
      ]
     },
     "execution_count": 79,
     "metadata": {},
     "output_type": "execute_result"
    }
   ],
   "source": [
    "DANCES.groupby('Type').entropy.mean()"
   ]
  },
  {
   "cell_type": "code",
   "execution_count": 80,
   "metadata": {},
   "outputs": [],
   "source": [
    "def keysig(n):\n",
    "    return Score(DANCES.File[n]).mc_info[0].keysig[0]"
   ]
  },
  {
   "cell_type": "code",
   "execution_count": 81,
   "metadata": {},
   "outputs": [],
   "source": [
    "temp = []\n",
    "for i in DANCES.index:\n",
    "    if i in failed_parse:\n",
    "        temp += [np.nan]\n",
    "    else:\n",
    "        temp += [keysig(i)]\n",
    "\n",
    "DANCES['Keysig'] = temp"
   ]
  },
  {
   "cell_type": "code",
   "execution_count": 82,
   "metadata": {},
   "outputs": [
    {
     "ename": "NameError",
     "evalue": "name 'scipy' is not defined",
     "output_type": "error",
     "traceback": [
      "\u001b[0;31m---------------------------------------------------------------------------\u001b[0m",
      "\u001b[0;31mNameError\u001b[0m                                 Traceback (most recent call last)",
      "\u001b[0;32m<ipython-input-82-5bc63bf69950>\u001b[0m in \u001b[0;36m<module>\u001b[0;34m\u001b[0m\n\u001b[0;32m----> 1\u001b[0;31m \u001b[0mscipy\u001b[0m\u001b[0;34m.\u001b[0m\u001b[0mstats\u001b[0m\u001b[0;34m.\u001b[0m\u001b[0mpearsonr\u001b[0m\u001b[0;34m(\u001b[0m\u001b[0mDANCES\u001b[0m\u001b[0;34m.\u001b[0m\u001b[0mdropna\u001b[0m\u001b[0;34m(\u001b[0m\u001b[0;34m)\u001b[0m\u001b[0;34m.\u001b[0m\u001b[0mentropy\u001b[0m\u001b[0;34m,\u001b[0m \u001b[0mDANCES\u001b[0m\u001b[0;34m.\u001b[0m\u001b[0mdropna\u001b[0m\u001b[0;34m(\u001b[0m\u001b[0;34m)\u001b[0m\u001b[0;34m.\u001b[0m\u001b[0mKeysig\u001b[0m \u001b[0;34m)\u001b[0m\u001b[0;34m\u001b[0m\u001b[0;34m\u001b[0m\u001b[0m\n\u001b[0m",
      "\u001b[0;31mNameError\u001b[0m: name 'scipy' is not defined"
     ]
    }
   ],
   "source": [
    "sp.stats.pearsonr(DANCES.dropna().entropy, DANCES.dropna().Keysig )"
   ]
  },
  {
   "cell_type": "code",
   "execution_count": 108,
   "metadata": {},
   "outputs": [
    {
     "data": {
      "image/png": "[encoded data removed]",
      "text/plain": [
       "<Figure size 432x288 with 1 Axes>"
      ]
     },
     "metadata": {
      "needs_background": "light"
     },
     "output_type": "display_data"
    }
   ],
   "source": [
    "plt.scatter(DANCES.dropna().Keysig, DANCES.dropna().entropy);"
   ]
  },
  {
   "cell_type": "code",
   "execution_count": null,
   "metadata": {},
   "outputs": [],
   "source": []
  },
  {
   "cell_type": "code",
   "execution_count": null,
   "metadata": {},
   "outputs": [],
   "source": [
    "def KK(mode, transposition):\n",
    "    \"\"\"Krumhansl and Kessler (1982) key profiles for major and minor modes\"\"\"\n",
    "    \n",
    "    major = [6.20, 2.55, 3.45, 2.85, 4.22, 4.57, 2.67, 5.25, 2.45, 3.35, 2.70, 2.70]\n",
    "    minor = [6.03, 3.35, 3.67, 5.28, 2.58, 3.55, 2.87, 4.80, 4.35, 2.67, 2.50, 3.42]\n",
    "    \n",
    "    #major = list(map(lambda x: x/sum(major), major))\n",
    "    #minor = list(map(lambda x: x/sum(minor), minor))\n",
    "    \n",
    "    if mode == 0:\n",
    "        return major[-transposition:]+major[:-transposition]\n",
    "    elif mode == 1:\n",
    "        return minor[-transposition:]+minor[:-transposition]\n",
    "    else:\n",
    "        print('0 = major, 1 = minor')"
   ]
  }
 ],
 "metadata": {
  "kernelspec": {
   "display_name": "Python 3",
   "language": "python",
   "name": "python3"
  },
  "language_info": {
   "codemirror_mode": {
    "name": "ipython",
    "version": 3
   },
   "file_extension": ".py",
   "mimetype": "text/x-python",
   "name": "python",
   "nbconvert_exporter": "python",
   "pygments_lexer": "ipython3",
   "version": "3.7.3"
  }
 },
 "nbformat": 4,
 "nbformat_minor": 4
}
