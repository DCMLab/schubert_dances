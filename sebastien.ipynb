{
 "cells": [
  {
   "cell_type": "markdown",
   "metadata": {},
   "source": [
    "# Preprocessing"
   ]
  },
  {
   "cell_type": "code",
   "execution_count": 1,
   "metadata": {},
   "outputs": [],
   "source": [
    "%load_ext autoreload\n",
    "%autoreload 2\n",
    "\n",
    "# External imports\n",
    "import os\n",
    "import pandas\n",
    "\n",
    "# Internal imports\n",
    "from tools.ms3 import *\n",
    "from tools.helpers import *\n",
    "from tools import xcor as cx"
   ]
  },
  {
   "cell_type": "code",
   "execution_count": 2,
   "metadata": {},
   "outputs": [],
   "source": [
    "# Configuration\n",
    "data     = \"data\"\n",
    "data_ms3 = os.path.join(data, \"MuseScore_3\")\n",
    "data_tsv = os.path.join(data, \"tsv\")"
   ]
  },
  {
   "cell_type": "code",
   "execution_count": 3,
   "metadata": {},
   "outputs": [],
   "source": [
    "# Load the datasets\n",
    "note_list = pd.read_csv(os.path.join(data_tsv, \"note_list_complete.tsv\"), sep='\\t', index_col=[0,1,2], \n",
    "                        dtype={\"tied\": \"Int64\", \n",
    "                               \"volta\": \"Int64\"}, \n",
    "                        converters={\"onset\":frac, \n",
    "                                    \"duration\":frac, \n",
    "                                    \"nominal_duration\":frac, \n",
    "                                    \"scalar\":frac})\n",
    "measure_list = pd.read_csv(os.path.join(data_tsv, \"measure_list_complete.tsv\"), sep=\"\\t\", index_col=[0,1], \n",
    "                           dtype={\"volta\": \"Int64\", \n",
    "                                  \"numbering_offset\": \"Int64\", \n",
    "                                  \"dont_count\": \"Int64\"}, \n",
    "                           converters={\"duration\": frac, \n",
    "                                       \"act_dur\": frac, \n",
    "                                       \"offset\": frac, \n",
    "                                       \"next\": lambda l: [int(mc) for mc in l.strip(\"[]\").split(\", \") if mc != \"\"]})\n",
    "section_order = pd.read_csv(os.path.join(data_tsv, \"section_order_complete.tsv\"), sep=\"\\t\", index_col = [0])\\\n",
    "                  .rename(columns={\"object\": \"sections\"})"
   ]
  },
  {
   "cell_type": "markdown",
   "metadata": {},
   "source": [
    "# Playground (for now)"
   ]
  },
  {
   "cell_type": "code",
   "execution_count": 4,
   "metadata": {},
   "outputs": [],
   "source": [
    "xcors = tuple(cx.CrossCorrelation(cx.product_harmorhythm, (meas for _, meas in iter_measures(note_list.loc[i]))) for i in range(1, 10))"
   ]
  },
  {
   "cell_type": "code",
   "execution_count": 5,
   "metadata": {},
   "outputs": [],
   "source": [
    "slides = list()\n",
    "for xcor in xcors:\n",
    "    slide = dict((off, val) for (off, val) in xcor.slide() if off >= 0)\n",
    "    slides.append(slide)\n",
    "    pandas.DataFrame.from_dict(slide, orient=\"index\", columns=[\"slide\"]).plot()"
   ]
  },
  {
   "cell_type": "code",
   "execution_count": 6,
   "metadata": {},
   "outputs": [
    {
     "name": "stdout",
     "output_type": "stream",
     "text": [
      "0: (4, 8, 12)\n",
      "1: (2, 4, 6, 8, 10, 14, 16)\n",
      "2: (6, 8, 12)\n",
      "3: (2, 5, 7, 9, 12, 14, 16, 18)\n",
      "4: (5, 10, 12, 15)\n",
      "5: (2, 6, 8, 10, 12)\n",
      "6: (2, 4, 9, 11, 13, 15, 17)\n",
      "7: (2, 10, 12)\n",
      "8: (4, 8, 12)\n"
     ]
    }
   ],
   "source": [
    "# Spike detection\n",
    "for pid, slide in enumerate(slides):\n",
    "    print(\"%d: %r\" % (pid, tuple(cx.detect_spikes(iter(slide.items())))))"
   ]
  },
  {
   "cell_type": "code",
   "execution_count": 7,
   "metadata": {},
   "outputs": [
    {
     "name": "stdout",
     "output_type": "stream",
     "text": [
      "AABA (0.6)\n",
      "AAAAABAC (0.1)\n",
      "ABAA (0.1)\n",
      "AAABAAAA (0.2)\n",
      "A (0.9)\n",
      "ABAAAB (0.1)\n",
      "ABCAB (0.2)\n",
      "A (0.9)\n",
      "AABA (0.8)\n"
     ]
    }
   ],
   "source": [
    "# Structure discovery\n",
    "for xcor in xcors:\n",
    "    struct, trigger = cx.detect_structure(xcor)\n",
    "    print(\"%s (%s)\" % ((\"\").join(struct), trigger))"
   ]
  }
 ],
 "metadata": {
  "kernelspec": {
   "display_name": "Python 3",
   "language": "python",
   "name": "python3"
  },
  "language_info": {
   "codemirror_mode": {
    "name": "ipython",
    "version": 3
   },
   "file_extension": ".py",
   "mimetype": "text/x-python",
   "name": "python",
   "nbconvert_exporter": "python",
   "pygments_lexer": "ipython3",
   "version": "3.7.3"
  }
 },
 "nbformat": 4,
 "nbformat_minor": 2
}
